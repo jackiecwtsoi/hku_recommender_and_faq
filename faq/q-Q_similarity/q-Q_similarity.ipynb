{
 "cells": [
  {
   "cell_type": "code",
   "execution_count": 1,
   "metadata": {},
   "outputs": [],
   "source": [
    "import numpy as np\n",
    "import pandas as pd"
   ]
  },
  {
   "cell_type": "markdown",
   "metadata": {},
   "source": [
    "# Data Preprocessing"
   ]
  },
  {
   "cell_type": "code",
   "execution_count": 2,
   "metadata": {},
   "outputs": [],
   "source": [
    "# prepare internal FAQ dataset\n",
    "df_faq = pd.read_excel('faq-data/df_undergrad_faq.xlsx')\n",
    "\n",
    "df_temp = pd.read_csv('faq-data/df_6901_faq.csv', index_col=0)\n",
    "df_temp['Type'] = 'BSc 6901'\n",
    "df_faq = df_faq.append(df_temp)\n",
    "\n",
    "df_temp = pd.read_excel('faq-data/df_basc_faq.xlsx')\n",
    "df_temp['Type'] = 'BASc'\n",
    "df_faq = df_faq.append(df_temp)\n",
    "\n",
    "df_temp = pd.read_csv('faq-data/df_aao_faq.csv', index_col=0)\n",
    "df_temp['Type'] = 'AAO'\n",
    "df_faq = df_faq.append(df_temp)\n",
    "\n",
    "df_faq = df_faq.reset_index(drop=True)\n",
    "\n",
    "# include the type of the question into both 'Question' and 'Answer'\n",
    "df_faq['Question'] = '('+ df_faq['Type'] + ') ' + df_faq['Question']\n",
    "df_faq['Answer'] = '('+ df_faq['Type'] + ') ' + df_faq['Answer']"
   ]
  },
  {
   "cell_type": "code",
   "execution_count": 3,
   "metadata": {},
   "outputs": [],
   "source": [
    "# save preproecessed faq dataset\n",
    "df_faq.to_csv('faq-data/df_faq.csv')"
   ]
  },
  {
   "cell_type": "code",
   "execution_count": 4,
   "metadata": {},
   "outputs": [
    {
     "data": {
      "text/html": [
       "<div>\n",
       "<style scoped>\n",
       "    .dataframe tbody tr th:only-of-type {\n",
       "        vertical-align: middle;\n",
       "    }\n",
       "\n",
       "    .dataframe tbody tr th {\n",
       "        vertical-align: top;\n",
       "    }\n",
       "\n",
       "    .dataframe thead th {\n",
       "        text-align: right;\n",
       "    }\n",
       "</style>\n",
       "<table border=\"1\" class=\"dataframe\">\n",
       "  <thead>\n",
       "    <tr style=\"text-align: right;\">\n",
       "      <th></th>\n",
       "      <th>Question</th>\n",
       "      <th>Answer</th>\n",
       "      <th>Type</th>\n",
       "    </tr>\n",
       "  </thead>\n",
       "  <tbody>\n",
       "    <tr>\n",
       "      <th>45</th>\n",
       "      <td>(BSc 6901) If I do the Major-Minor instead of ...</td>\n",
       "      <td>(BSc 6901) For those who intend to develop a c...</td>\n",
       "      <td>BSc 6901</td>\n",
       "    </tr>\n",
       "    <tr>\n",
       "      <th>83</th>\n",
       "      <td>(AAO) Can I change my FAA?</td>\n",
       "      <td>(AAO) Under normal circumstances, FAA cannot b...</td>\n",
       "      <td>AAO</td>\n",
       "    </tr>\n",
       "    <tr>\n",
       "      <th>63</th>\n",
       "      <td>(BSc 6901) Who is eligible to apply for the sc...</td>\n",
       "      <td>(BSc 6901) Candidates who hold a recognised fu...</td>\n",
       "      <td>BSc 6901</td>\n",
       "    </tr>\n",
       "    <tr>\n",
       "      <th>76</th>\n",
       "      <td>(BASc) Can I participate in the exchange progr...</td>\n",
       "      <td>(BASc) Though it is not a compulsory graduatio...</td>\n",
       "      <td>BASc</td>\n",
       "    </tr>\n",
       "    <tr>\n",
       "      <th>81</th>\n",
       "      <td>(AAO) How can I find my Faculty Academic Advis...</td>\n",
       "      <td>(AAO) You can check who your FAA is via the we...</td>\n",
       "      <td>AAO</td>\n",
       "    </tr>\n",
       "    <tr>\n",
       "      <th>38</th>\n",
       "      <td>(BSc 6901) If that situation arises, would tha...</td>\n",
       "      <td>(BSc 6901) Absolutely not. The Faculty will ad...</td>\n",
       "      <td>BSc 6901</td>\n",
       "    </tr>\n",
       "    <tr>\n",
       "      <th>57</th>\n",
       "      <td>(BSc 6901) If I get 5 or above in DSE English,...</td>\n",
       "      <td>(BSc 6901) Yes, the first English course will ...</td>\n",
       "      <td>BSc 6901</td>\n",
       "    </tr>\n",
       "    <tr>\n",
       "      <th>51</th>\n",
       "      <td>(BSc 6901) Do I need to put the Programme in B...</td>\n",
       "      <td>(BSc 6901) Over 98% of students admitted in th...</td>\n",
       "      <td>BSc 6901</td>\n",
       "    </tr>\n",
       "    <tr>\n",
       "      <th>87</th>\n",
       "      <td>(AAO) I am interested in the programmes of HKU...</td>\n",
       "      <td>(AAO) For matters related to admission, please...</td>\n",
       "      <td>AAO</td>\n",
       "    </tr>\n",
       "    <tr>\n",
       "      <th>167</th>\n",
       "      <td>(AAO) What fees do I have to pay?</td>\n",
       "      <td>(AAO) You can find detailed information on “Un...</td>\n",
       "      <td>AAO</td>\n",
       "    </tr>\n",
       "  </tbody>\n",
       "</table>\n",
       "</div>"
      ],
      "text/plain": [
       "                                              Question  \\\n",
       "45   (BSc 6901) If I do the Major-Minor instead of ...   \n",
       "83                          (AAO) Can I change my FAA?   \n",
       "63   (BSc 6901) Who is eligible to apply for the sc...   \n",
       "76   (BASc) Can I participate in the exchange progr...   \n",
       "81   (AAO) How can I find my Faculty Academic Advis...   \n",
       "38   (BSc 6901) If that situation arises, would tha...   \n",
       "57   (BSc 6901) If I get 5 or above in DSE English,...   \n",
       "51   (BSc 6901) Do I need to put the Programme in B...   \n",
       "87   (AAO) I am interested in the programmes of HKU...   \n",
       "167                  (AAO) What fees do I have to pay?   \n",
       "\n",
       "                                                Answer      Type  \n",
       "45   (BSc 6901) For those who intend to develop a c...  BSc 6901  \n",
       "83   (AAO) Under normal circumstances, FAA cannot b...       AAO  \n",
       "63   (BSc 6901) Candidates who hold a recognised fu...  BSc 6901  \n",
       "76   (BASc) Though it is not a compulsory graduatio...      BASc  \n",
       "81   (AAO) You can check who your FAA is via the we...       AAO  \n",
       "38   (BSc 6901) Absolutely not. The Faculty will ad...  BSc 6901  \n",
       "57   (BSc 6901) Yes, the first English course will ...  BSc 6901  \n",
       "51   (BSc 6901) Over 98% of students admitted in th...  BSc 6901  \n",
       "87   (AAO) For matters related to admission, please...       AAO  \n",
       "167  (AAO) You can find detailed information on “Un...       AAO  "
      ]
     },
     "execution_count": 4,
     "metadata": {},
     "output_type": "execute_result"
    }
   ],
   "source": [
    "df_faq.sample(10)"
   ]
  },
  {
   "cell_type": "markdown",
   "metadata": {},
   "source": [
    "# Helper Functions"
   ]
  },
  {
   "cell_type": "code",
   "execution_count": 2,
   "metadata": {},
   "outputs": [
    {
     "name": "stderr",
     "output_type": "stream",
     "text": [
      "[nltk_data] Downloading package punkt to\n",
      "[nltk_data]     C:\\Users\\Kackie\\AppData\\Roaming\\nltk_data...\n",
      "[nltk_data]   Package punkt is already up-to-date!\n",
      "[nltk_data] Downloading package stopwords to\n",
      "[nltk_data]     C:\\Users\\Kackie\\AppData\\Roaming\\nltk_data...\n",
      "[nltk_data]   Package stopwords is already up-to-date!\n"
     ]
    }
   ],
   "source": [
    "import nltk\n",
    "nltk.download('punkt')\n",
    "nltk.download('stopwords')\n",
    "\n",
    "from nltk import word_tokenize\n",
    "from nltk.corpus import stopwords\n",
    "import string"
   ]
  },
  {
   "cell_type": "code",
   "execution_count": 3,
   "metadata": {},
   "outputs": [],
   "source": [
    "class Sentence:\n",
    "    def __init__(self, sentence):\n",
    "        self.sentence = sentence\n",
    "\n",
    "    # METHOD: preprocess the sentence\n",
    "    # return: list of tokenized words\n",
    "    def preprocess(self, with_stopwords=False):\n",
    "        text = self.sentence\n",
    "\n",
    "        # convert text to lower case\n",
    "        text = text.lower()\n",
    "\n",
    "        # tokenize text into list of words\n",
    "        words = word_tokenize(text)\n",
    "\n",
    "        # remove punctuation\n",
    "        words = [word for word in words if word.isalpha()]\n",
    "\n",
    "        if with_stopwords == False:\n",
    "            # remove stopwords\n",
    "            stop_words = set(stopwords.words('english'))\n",
    "            words = [word for word in words if not word in stop_words]\n",
    "\n",
    "        return words\n",
    "        \n",
    "    # METHOD: get word embeddings based on specific model\n",
    "    # return: matrix word embeddings\n",
    "    def get_vector(self, model, with_stopwords=False):\n",
    "        return np.sum(np.array([model[i] for i in self.preprocess(with_stopwords=with_stopwords)]), axis=0)"
   ]
  },
  {
   "cell_type": "code",
   "execution_count": 4,
   "metadata": {},
   "outputs": [],
   "source": [
    "from scipy import spatial\n",
    "\n",
    "# HELPER FUNCTION: get similarities of a specific query against all questions in our FAQ database\n",
    "# return: dataframe with new column 'Similarity'\n",
    "def get_similarities(query, df, model, with_stopwords=False):\n",
    "    similarities = []\n",
    "    query = Sentence(query)\n",
    "    for q in df['Question']:\n",
    "        s = Sentence(q)\n",
    "        try:\n",
    "            similarity = 1 - spatial.distance.cosine(\n",
    "                query.get_vector(model, with_stopwords), \n",
    "                s.get_vector(model, with_stopwords)\n",
    "            )\n",
    "            similarities.append(similarity)\n",
    "        except:\n",
    "            similarities.append(0)\n",
    "            continue\n",
    "    df['Similarity'] = similarities\n",
    "    \n",
    "    df = df.sort_values(by='Similarity', ascending=False)\n",
    "\n",
    "    return df"
   ]
  },
  {
   "cell_type": "markdown",
   "metadata": {},
   "source": [
    "---\n",
    "# Models"
   ]
  },
  {
   "cell_type": "code",
   "execution_count": 9,
   "metadata": {},
   "outputs": [],
   "source": [
    "# define any query\n",
    "QUERY = 'I wanna know what the application deadline is.'"
   ]
  },
  {
   "cell_type": "markdown",
   "metadata": {},
   "source": [
    "## Model 1: Word2Vec"
   ]
  },
  {
   "cell_type": "code",
   "execution_count": 9,
   "metadata": {},
   "outputs": [],
   "source": [
    "import gensim.downloader as api\n",
    "\n",
    "# define word2vec model\n",
    "model_w2v = api.load('word2vec-google-news-300')"
   ]
  },
  {
   "cell_type": "markdown",
   "metadata": {},
   "source": [
    "**WITHOUT stopwords**"
   ]
  },
  {
   "cell_type": "code",
   "execution_count": 10,
   "metadata": {},
   "outputs": [],
   "source": [
    "# get cosine similarity scores for every entry in our FAQ database\n",
    "# WITHOUT stopwords\n",
    "get_similarities(QUERY, df_faq, model_w2v, with_stopwords=False).to_csv('model-sample-results/w2v-without-stopwords.csv')"
   ]
  },
  {
   "cell_type": "code",
   "execution_count": 30,
   "metadata": {},
   "outputs": [
    {
     "data": {
      "text/html": [
       "<div>\n",
       "<style scoped>\n",
       "    .dataframe tbody tr th:only-of-type {\n",
       "        vertical-align: middle;\n",
       "    }\n",
       "\n",
       "    .dataframe tbody tr th {\n",
       "        vertical-align: top;\n",
       "    }\n",
       "\n",
       "    .dataframe thead th {\n",
       "        text-align: right;\n",
       "    }\n",
       "</style>\n",
       "<table border=\"1\" class=\"dataframe\">\n",
       "  <thead>\n",
       "    <tr style=\"text-align: right;\">\n",
       "      <th></th>\n",
       "      <th>Question</th>\n",
       "      <th>Answer</th>\n",
       "      <th>Type</th>\n",
       "      <th>Similarity</th>\n",
       "    </tr>\n",
       "  </thead>\n",
       "  <tbody>\n",
       "    <tr>\n",
       "      <th>0</th>\n",
       "      <td>(HKDSE) How do I apply to HKU through JUPAS sc...</td>\n",
       "      <td>(HKDSE) We welcome your application to HKU thr...</td>\n",
       "      <td>HKDSE</td>\n",
       "      <td>0</td>\n",
       "    </tr>\n",
       "    <tr>\n",
       "      <th>120</th>\n",
       "      <td>(AAO) How do I know if I have fulfilled all th...</td>\n",
       "      <td>(AAO) It is your responsibility to check the c...</td>\n",
       "      <td>AAO</td>\n",
       "      <td>0</td>\n",
       "    </tr>\n",
       "    <tr>\n",
       "      <th>112</th>\n",
       "      <td>(AAO) Is it possible to double major or double...</td>\n",
       "      <td>(AAO) Yes, as long as you have enough credits ...</td>\n",
       "      <td>AAO</td>\n",
       "      <td>0</td>\n",
       "    </tr>\n",
       "    <tr>\n",
       "      <th>113</th>\n",
       "      <td>(AAO) How many majors/ minors I can take to th...</td>\n",
       "      <td>(AAO) There are no rigid regulations in this r...</td>\n",
       "      <td>AAO</td>\n",
       "      <td>0</td>\n",
       "    </tr>\n",
       "    <tr>\n",
       "      <th>114</th>\n",
       "      <td>(AAO) Can I change my major/ minor later? How ...</td>\n",
       "      <td>(AAO) It depends on the setup which may vary f...</td>\n",
       "      <td>AAO</td>\n",
       "      <td>0</td>\n",
       "    </tr>\n",
       "    <tr>\n",
       "      <th>...</th>\n",
       "      <td>...</td>\n",
       "      <td>...</td>\n",
       "      <td>...</td>\n",
       "      <td>...</td>\n",
       "    </tr>\n",
       "    <tr>\n",
       "      <th>60</th>\n",
       "      <td>(BSc 6901) Other universities are also adoptin...</td>\n",
       "      <td>(BSc 6901) HKU Science is the first university...</td>\n",
       "      <td>BSc 6901</td>\n",
       "      <td>0</td>\n",
       "    </tr>\n",
       "    <tr>\n",
       "      <th>61</th>\n",
       "      <td>(BSc 6901) What is Young Scientist Scheme (YSS)?</td>\n",
       "      <td>(BSc 6901) Enrolment in our flagship Summer Re...</td>\n",
       "      <td>BSc 6901</td>\n",
       "      <td>0</td>\n",
       "    </tr>\n",
       "    <tr>\n",
       "      <th>62</th>\n",
       "      <td>(BSc 6901) Who is entitled to join YSS?</td>\n",
       "      <td>(BSc 6901) have a second chance to enrol in YS...</td>\n",
       "      <td>BSc 6901</td>\n",
       "      <td>0</td>\n",
       "    </tr>\n",
       "    <tr>\n",
       "      <th>63</th>\n",
       "      <td>(BSc 6901) Who is eligible to apply for the sc...</td>\n",
       "      <td>(BSc 6901) Candidates who hold a recognised fu...</td>\n",
       "      <td>BSc 6901</td>\n",
       "      <td>0</td>\n",
       "    </tr>\n",
       "    <tr>\n",
       "      <th>174</th>\n",
       "      <td>(AAO) I have a question that isn’t answered he...</td>\n",
       "      <td>(AAO) If you need further advice on some other...</td>\n",
       "      <td>AAO</td>\n",
       "      <td>0</td>\n",
       "    </tr>\n",
       "  </tbody>\n",
       "</table>\n",
       "<p>175 rows × 4 columns</p>\n",
       "</div>"
      ],
      "text/plain": [
       "                                              Question  \\\n",
       "0    (HKDSE) How do I apply to HKU through JUPAS sc...   \n",
       "120  (AAO) How do I know if I have fulfilled all th...   \n",
       "112  (AAO) Is it possible to double major or double...   \n",
       "113  (AAO) How many majors/ minors I can take to th...   \n",
       "114  (AAO) Can I change my major/ minor later? How ...   \n",
       "..                                                 ...   \n",
       "60   (BSc 6901) Other universities are also adoptin...   \n",
       "61    (BSc 6901) What is Young Scientist Scheme (YSS)?   \n",
       "62             (BSc 6901) Who is entitled to join YSS?   \n",
       "63   (BSc 6901) Who is eligible to apply for the sc...   \n",
       "174  (AAO) I have a question that isn’t answered he...   \n",
       "\n",
       "                                                Answer      Type  Similarity  \n",
       "0    (HKDSE) We welcome your application to HKU thr...     HKDSE           0  \n",
       "120  (AAO) It is your responsibility to check the c...       AAO           0  \n",
       "112  (AAO) Yes, as long as you have enough credits ...       AAO           0  \n",
       "113  (AAO) There are no rigid regulations in this r...       AAO           0  \n",
       "114  (AAO) It depends on the setup which may vary f...       AAO           0  \n",
       "..                                                 ...       ...         ...  \n",
       "60   (BSc 6901) HKU Science is the first university...  BSc 6901           0  \n",
       "61   (BSc 6901) Enrolment in our flagship Summer Re...  BSc 6901           0  \n",
       "62   (BSc 6901) have a second chance to enrol in YS...  BSc 6901           0  \n",
       "63   (BSc 6901) Candidates who hold a recognised fu...  BSc 6901           0  \n",
       "174  (AAO) If you need further advice on some other...       AAO           0  \n",
       "\n",
       "[175 rows x 4 columns]"
      ]
     },
     "execution_count": 30,
     "metadata": {},
     "output_type": "execute_result"
    }
   ],
   "source": [
    "# try another query\n",
    "get_similarities(\n",
    "    'I am an international student. I wanna know how much the programme costs.', \n",
    "    df_faq, model_w2v, with_stopwords=False)"
   ]
  },
  {
   "cell_type": "markdown",
   "metadata": {},
   "source": [
    "**WITH stopwords**"
   ]
  },
  {
   "cell_type": "code",
   "execution_count": 12,
   "metadata": {},
   "outputs": [],
   "source": [
    "# get cosine similarity scores for every entry in our FAQ database\n",
    "# WITH stopwords\n",
    "get_similarities(QUERY, df_faq, model_w2v, with_stopwords=True).to_csv('model-sample-results/w2v-with-stopwords.csv')"
   ]
  },
  {
   "cell_type": "code",
   "execution_count": 13,
   "metadata": {},
   "outputs": [],
   "source": [
    "# save model\n",
    "model_w2v.save('models/w2v.model')"
   ]
  },
  {
   "cell_type": "markdown",
   "metadata": {},
   "source": [
    "## Model 2: GloVe"
   ]
  },
  {
   "cell_type": "code",
   "execution_count": 14,
   "metadata": {},
   "outputs": [],
   "source": [
    "import gensim.downloader as api\n",
    "\n",
    "# define GloVe model\n",
    "model_glove = api.load('glove-wiki-gigaword-300')"
   ]
  },
  {
   "cell_type": "markdown",
   "metadata": {},
   "source": [
    "**WITHOUT stopwords**"
   ]
  },
  {
   "cell_type": "code",
   "execution_count": 15,
   "metadata": {},
   "outputs": [],
   "source": [
    "# get cosine similarity scores for every entry in our FAQ database\n",
    "# WITHOUT stopwords\n",
    "get_similarities(QUERY, df_faq, model_glove, with_stopwords=False).to_csv('model-sample-results/glove-without-stopwords.csv')"
   ]
  },
  {
   "cell_type": "code",
   "execution_count": 46,
   "metadata": {},
   "outputs": [
    {
     "data": {
      "text/html": [
       "<div>\n",
       "<style scoped>\n",
       "    .dataframe tbody tr th:only-of-type {\n",
       "        vertical-align: middle;\n",
       "    }\n",
       "\n",
       "    .dataframe tbody tr th {\n",
       "        vertical-align: top;\n",
       "    }\n",
       "\n",
       "    .dataframe thead th {\n",
       "        text-align: right;\n",
       "    }\n",
       "</style>\n",
       "<table border=\"1\" class=\"dataframe\">\n",
       "  <thead>\n",
       "    <tr style=\"text-align: right;\">\n",
       "      <th></th>\n",
       "      <th>Question</th>\n",
       "      <th>Answer</th>\n",
       "      <th>Type</th>\n",
       "      <th>Similarity</th>\n",
       "    </tr>\n",
       "  </thead>\n",
       "  <tbody>\n",
       "    <tr>\n",
       "      <th>0</th>\n",
       "      <td>(HKDSE) How do I apply to HKU through JUPAS sc...</td>\n",
       "      <td>(HKDSE) We welcome your application to HKU thr...</td>\n",
       "      <td>HKDSE</td>\n",
       "      <td>0</td>\n",
       "    </tr>\n",
       "    <tr>\n",
       "      <th>120</th>\n",
       "      <td>(AAO) How do I know if I have fulfilled all th...</td>\n",
       "      <td>(AAO) It is your responsibility to check the c...</td>\n",
       "      <td>AAO</td>\n",
       "      <td>0</td>\n",
       "    </tr>\n",
       "    <tr>\n",
       "      <th>112</th>\n",
       "      <td>(AAO) Is it possible to double major or double...</td>\n",
       "      <td>(AAO) Yes, as long as you have enough credits ...</td>\n",
       "      <td>AAO</td>\n",
       "      <td>0</td>\n",
       "    </tr>\n",
       "    <tr>\n",
       "      <th>113</th>\n",
       "      <td>(AAO) How many majors/ minors I can take to th...</td>\n",
       "      <td>(AAO) There are no rigid regulations in this r...</td>\n",
       "      <td>AAO</td>\n",
       "      <td>0</td>\n",
       "    </tr>\n",
       "    <tr>\n",
       "      <th>114</th>\n",
       "      <td>(AAO) Can I change my major/ minor later? How ...</td>\n",
       "      <td>(AAO) It depends on the setup which may vary f...</td>\n",
       "      <td>AAO</td>\n",
       "      <td>0</td>\n",
       "    </tr>\n",
       "    <tr>\n",
       "      <th>...</th>\n",
       "      <td>...</td>\n",
       "      <td>...</td>\n",
       "      <td>...</td>\n",
       "      <td>...</td>\n",
       "    </tr>\n",
       "    <tr>\n",
       "      <th>60</th>\n",
       "      <td>(BSc 6901) Other universities are also adoptin...</td>\n",
       "      <td>(BSc 6901) HKU Science is the first university...</td>\n",
       "      <td>BSc 6901</td>\n",
       "      <td>0</td>\n",
       "    </tr>\n",
       "    <tr>\n",
       "      <th>61</th>\n",
       "      <td>(BSc 6901) What is Young Scientist Scheme (YSS)?</td>\n",
       "      <td>(BSc 6901) Enrolment in our flagship Summer Re...</td>\n",
       "      <td>BSc 6901</td>\n",
       "      <td>0</td>\n",
       "    </tr>\n",
       "    <tr>\n",
       "      <th>62</th>\n",
       "      <td>(BSc 6901) Who is entitled to join YSS?</td>\n",
       "      <td>(BSc 6901) have a second chance to enrol in YS...</td>\n",
       "      <td>BSc 6901</td>\n",
       "      <td>0</td>\n",
       "    </tr>\n",
       "    <tr>\n",
       "      <th>63</th>\n",
       "      <td>(BSc 6901) Who is eligible to apply for the sc...</td>\n",
       "      <td>(BSc 6901) Candidates who hold a recognised fu...</td>\n",
       "      <td>BSc 6901</td>\n",
       "      <td>0</td>\n",
       "    </tr>\n",
       "    <tr>\n",
       "      <th>174</th>\n",
       "      <td>(AAO) I have a question that isn’t answered he...</td>\n",
       "      <td>(AAO) If you need further advice on some other...</td>\n",
       "      <td>AAO</td>\n",
       "      <td>0</td>\n",
       "    </tr>\n",
       "  </tbody>\n",
       "</table>\n",
       "<p>175 rows × 4 columns</p>\n",
       "</div>"
      ],
      "text/plain": [
       "                                              Question  \\\n",
       "0    (HKDSE) How do I apply to HKU through JUPAS sc...   \n",
       "120  (AAO) How do I know if I have fulfilled all th...   \n",
       "112  (AAO) Is it possible to double major or double...   \n",
       "113  (AAO) How many majors/ minors I can take to th...   \n",
       "114  (AAO) Can I change my major/ minor later? How ...   \n",
       "..                                                 ...   \n",
       "60   (BSc 6901) Other universities are also adoptin...   \n",
       "61    (BSc 6901) What is Young Scientist Scheme (YSS)?   \n",
       "62             (BSc 6901) Who is entitled to join YSS?   \n",
       "63   (BSc 6901) Who is eligible to apply for the sc...   \n",
       "174  (AAO) I have a question that isn’t answered he...   \n",
       "\n",
       "                                                Answer      Type  Similarity  \n",
       "0    (HKDSE) We welcome your application to HKU thr...     HKDSE           0  \n",
       "120  (AAO) It is your responsibility to check the c...       AAO           0  \n",
       "112  (AAO) Yes, as long as you have enough credits ...       AAO           0  \n",
       "113  (AAO) There are no rigid regulations in this r...       AAO           0  \n",
       "114  (AAO) It depends on the setup which may vary f...       AAO           0  \n",
       "..                                                 ...       ...         ...  \n",
       "60   (BSc 6901) HKU Science is the first university...  BSc 6901           0  \n",
       "61   (BSc 6901) Enrolment in our flagship Summer Re...  BSc 6901           0  \n",
       "62   (BSc 6901) have a second chance to enrol in YS...  BSc 6901           0  \n",
       "63   (BSc 6901) Candidates who hold a recognised fu...  BSc 6901           0  \n",
       "174  (AAO) If you need further advice on some other...       AAO           0  \n",
       "\n",
       "[175 rows x 4 columns]"
      ]
     },
     "execution_count": 46,
     "metadata": {},
     "output_type": "execute_result"
    }
   ],
   "source": [
    "# try another query\n",
    "get_similarities(\n",
    "    'I am an HKDSE student. I wanna know how much the programme costs.', \n",
    "    df_faq, model_glove, with_stopwords=False)"
   ]
  },
  {
   "cell_type": "markdown",
   "metadata": {},
   "source": [
    "**WITH stopwords**"
   ]
  },
  {
   "cell_type": "code",
   "execution_count": 17,
   "metadata": {},
   "outputs": [],
   "source": [
    "# get cosine similarity scores for every entry in our FAQ database\n",
    "# WITH stopwords\n",
    "get_similarities(QUERY, df_faq, model_glove, with_stopwords=True).to_csv('model-sample-results/glove-with-stopwords.csv')"
   ]
  },
  {
   "cell_type": "code",
   "execution_count": 18,
   "metadata": {},
   "outputs": [],
   "source": [
    "# save model\n",
    "model_glove.save('models/glove.model')"
   ]
  },
  {
   "cell_type": "markdown",
   "metadata": {},
   "source": [
    "## Model 3: FastText"
   ]
  },
  {
   "cell_type": "code",
   "execution_count": 19,
   "metadata": {},
   "outputs": [],
   "source": [
    "import gensim.downloader as api\n",
    "\n",
    "# define FastText model\n",
    "model_fasttext = api.load('fasttext-wiki-news-subwords-300')"
   ]
  },
  {
   "cell_type": "code",
   "execution_count": 20,
   "metadata": {},
   "outputs": [],
   "source": [
    "# get cosine similarity scores for every entry in our FAQ database\n",
    "# WITHOUT stopwords\n",
    "get_similarities(QUERY, df_faq, model_fasttext, with_stopwords=False).to_csv('model-sample-results/fasttext-without-stopwords.csv')"
   ]
  },
  {
   "cell_type": "code",
   "execution_count": 52,
   "metadata": {},
   "outputs": [
    {
     "data": {
      "text/html": [
       "<div>\n",
       "<style scoped>\n",
       "    .dataframe tbody tr th:only-of-type {\n",
       "        vertical-align: middle;\n",
       "    }\n",
       "\n",
       "    .dataframe tbody tr th {\n",
       "        vertical-align: top;\n",
       "    }\n",
       "\n",
       "    .dataframe thead th {\n",
       "        text-align: right;\n",
       "    }\n",
       "</style>\n",
       "<table border=\"1\" class=\"dataframe\">\n",
       "  <thead>\n",
       "    <tr style=\"text-align: right;\">\n",
       "      <th></th>\n",
       "      <th>Question</th>\n",
       "      <th>Answer</th>\n",
       "      <th>Type</th>\n",
       "      <th>Similarity</th>\n",
       "    </tr>\n",
       "  </thead>\n",
       "  <tbody>\n",
       "    <tr>\n",
       "      <th>0</th>\n",
       "      <td>(HKDSE) How do I apply to HKU through JUPAS sc...</td>\n",
       "      <td>(HKDSE) We welcome your application to HKU thr...</td>\n",
       "      <td>HKDSE</td>\n",
       "      <td>0</td>\n",
       "    </tr>\n",
       "    <tr>\n",
       "      <th>120</th>\n",
       "      <td>(AAO) How do I know if I have fulfilled all th...</td>\n",
       "      <td>(AAO) It is your responsibility to check the c...</td>\n",
       "      <td>AAO</td>\n",
       "      <td>0</td>\n",
       "    </tr>\n",
       "    <tr>\n",
       "      <th>112</th>\n",
       "      <td>(AAO) Is it possible to double major or double...</td>\n",
       "      <td>(AAO) Yes, as long as you have enough credits ...</td>\n",
       "      <td>AAO</td>\n",
       "      <td>0</td>\n",
       "    </tr>\n",
       "    <tr>\n",
       "      <th>113</th>\n",
       "      <td>(AAO) How many majors/ minors I can take to th...</td>\n",
       "      <td>(AAO) There are no rigid regulations in this r...</td>\n",
       "      <td>AAO</td>\n",
       "      <td>0</td>\n",
       "    </tr>\n",
       "    <tr>\n",
       "      <th>114</th>\n",
       "      <td>(AAO) Can I change my major/ minor later? How ...</td>\n",
       "      <td>(AAO) It depends on the setup which may vary f...</td>\n",
       "      <td>AAO</td>\n",
       "      <td>0</td>\n",
       "    </tr>\n",
       "    <tr>\n",
       "      <th>...</th>\n",
       "      <td>...</td>\n",
       "      <td>...</td>\n",
       "      <td>...</td>\n",
       "      <td>...</td>\n",
       "    </tr>\n",
       "    <tr>\n",
       "      <th>60</th>\n",
       "      <td>(BSc 6901) Other universities are also adoptin...</td>\n",
       "      <td>(BSc 6901) HKU Science is the first university...</td>\n",
       "      <td>BSc 6901</td>\n",
       "      <td>0</td>\n",
       "    </tr>\n",
       "    <tr>\n",
       "      <th>61</th>\n",
       "      <td>(BSc 6901) What is Young Scientist Scheme (YSS)?</td>\n",
       "      <td>(BSc 6901) Enrolment in our flagship Summer Re...</td>\n",
       "      <td>BSc 6901</td>\n",
       "      <td>0</td>\n",
       "    </tr>\n",
       "    <tr>\n",
       "      <th>62</th>\n",
       "      <td>(BSc 6901) Who is entitled to join YSS?</td>\n",
       "      <td>(BSc 6901) have a second chance to enrol in YS...</td>\n",
       "      <td>BSc 6901</td>\n",
       "      <td>0</td>\n",
       "    </tr>\n",
       "    <tr>\n",
       "      <th>63</th>\n",
       "      <td>(BSc 6901) Who is eligible to apply for the sc...</td>\n",
       "      <td>(BSc 6901) Candidates who hold a recognised fu...</td>\n",
       "      <td>BSc 6901</td>\n",
       "      <td>0</td>\n",
       "    </tr>\n",
       "    <tr>\n",
       "      <th>174</th>\n",
       "      <td>(AAO) I have a question that isn’t answered he...</td>\n",
       "      <td>(AAO) If you need further advice on some other...</td>\n",
       "      <td>AAO</td>\n",
       "      <td>0</td>\n",
       "    </tr>\n",
       "  </tbody>\n",
       "</table>\n",
       "<p>175 rows × 4 columns</p>\n",
       "</div>"
      ],
      "text/plain": [
       "                                              Question  \\\n",
       "0    (HKDSE) How do I apply to HKU through JUPAS sc...   \n",
       "120  (AAO) How do I know if I have fulfilled all th...   \n",
       "112  (AAO) Is it possible to double major or double...   \n",
       "113  (AAO) How many majors/ minors I can take to th...   \n",
       "114  (AAO) Can I change my major/ minor later? How ...   \n",
       "..                                                 ...   \n",
       "60   (BSc 6901) Other universities are also adoptin...   \n",
       "61    (BSc 6901) What is Young Scientist Scheme (YSS)?   \n",
       "62             (BSc 6901) Who is entitled to join YSS?   \n",
       "63   (BSc 6901) Who is eligible to apply for the sc...   \n",
       "174  (AAO) I have a question that isn’t answered he...   \n",
       "\n",
       "                                                Answer      Type  Similarity  \n",
       "0    (HKDSE) We welcome your application to HKU thr...     HKDSE           0  \n",
       "120  (AAO) It is your responsibility to check the c...       AAO           0  \n",
       "112  (AAO) Yes, as long as you have enough credits ...       AAO           0  \n",
       "113  (AAO) There are no rigid regulations in this r...       AAO           0  \n",
       "114  (AAO) It depends on the setup which may vary f...       AAO           0  \n",
       "..                                                 ...       ...         ...  \n",
       "60   (BSc 6901) HKU Science is the first university...  BSc 6901           0  \n",
       "61   (BSc 6901) Enrolment in our flagship Summer Re...  BSc 6901           0  \n",
       "62   (BSc 6901) have a second chance to enrol in YS...  BSc 6901           0  \n",
       "63   (BSc 6901) Candidates who hold a recognised fu...  BSc 6901           0  \n",
       "174  (AAO) If you need further advice on some other...       AAO           0  \n",
       "\n",
       "[175 rows x 4 columns]"
      ]
     },
     "execution_count": 52,
     "metadata": {},
     "output_type": "execute_result"
    }
   ],
   "source": [
    "# try another query\n",
    "get_similarities(\n",
    "    'I am a HKDSE student. I wanna know how much the programme costs.', df_faq, model_fasttext, with_stopwords=False)"
   ]
  },
  {
   "cell_type": "markdown",
   "metadata": {},
   "source": [
    "## Model 4: Fine-tuned GloVe (Common Crawl)"
   ]
  },
  {
   "cell_type": "code",
   "execution_count": 10,
   "metadata": {},
   "outputs": [],
   "source": [
    "df_faq = pd.read_csv('faq-data/df_faq.csv', index_col=0)"
   ]
  },
  {
   "cell_type": "code",
   "execution_count": 11,
   "metadata": {},
   "outputs": [
    {
     "data": {
      "text/html": [
       "<div>\n",
       "<style scoped>\n",
       "    .dataframe tbody tr th:only-of-type {\n",
       "        vertical-align: middle;\n",
       "    }\n",
       "\n",
       "    .dataframe tbody tr th {\n",
       "        vertical-align: top;\n",
       "    }\n",
       "\n",
       "    .dataframe thead th {\n",
       "        text-align: right;\n",
       "    }\n",
       "</style>\n",
       "<table border=\"1\" class=\"dataframe\">\n",
       "  <thead>\n",
       "    <tr style=\"text-align: right;\">\n",
       "      <th></th>\n",
       "      <th>Question</th>\n",
       "      <th>Answer</th>\n",
       "      <th>Type</th>\n",
       "    </tr>\n",
       "  </thead>\n",
       "  <tbody>\n",
       "    <tr>\n",
       "      <th>0</th>\n",
       "      <td>(HKDSE) How do I apply to HKU through JUPAS sc...</td>\n",
       "      <td>(HKDSE) We welcome your application to HKU thr...</td>\n",
       "      <td>HKDSE</td>\n",
       "    </tr>\n",
       "    <tr>\n",
       "      <th>1</th>\n",
       "      <td>(HKDSE) What are the common mistakes as a JUPA...</td>\n",
       "      <td>(HKDSE) Students should not forget that in add...</td>\n",
       "      <td>HKDSE</td>\n",
       "    </tr>\n",
       "    <tr>\n",
       "      <th>2</th>\n",
       "      <td>(HKDSE) How can I apply to HKU as a HKDSE repe...</td>\n",
       "      <td>(HKDSE) All students who apply to HKU on the b...</td>\n",
       "      <td>HKDSE</td>\n",
       "    </tr>\n",
       "    <tr>\n",
       "      <th>3</th>\n",
       "      <td>(HKDSE) What are the minimum university entran...</td>\n",
       "      <td>(HKDSE) To have your application considered fo...</td>\n",
       "      <td>HKDSE</td>\n",
       "    </tr>\n",
       "    <tr>\n",
       "      <th>4</th>\n",
       "      <td>(HKDSE) How is the admission score calculated?</td>\n",
       "      <td>(HKDSE) Starting from the academic year 2020/2...</td>\n",
       "      <td>HKDSE</td>\n",
       "    </tr>\n",
       "    <tr>\n",
       "      <th>...</th>\n",
       "      <td>...</td>\n",
       "      <td>...</td>\n",
       "      <td>...</td>\n",
       "    </tr>\n",
       "    <tr>\n",
       "      <th>170</th>\n",
       "      <td>(AAO) I still have other questions regarding t...</td>\n",
       "      <td>(AAO) You might try to look at the FAQ compile...</td>\n",
       "      <td>AAO</td>\n",
       "    </tr>\n",
       "    <tr>\n",
       "      <th>171</th>\n",
       "      <td>(AAO) Are there scholarships that accept appli...</td>\n",
       "      <td>(AAO) Please visit the website of the Scholars...</td>\n",
       "      <td>AAO</td>\n",
       "    </tr>\n",
       "    <tr>\n",
       "      <th>172</th>\n",
       "      <td>(AAO) When and how do I apply for leave of abs...</td>\n",
       "      <td>(AAO) You need to apply for leave of absence i...</td>\n",
       "      <td>AAO</td>\n",
       "    </tr>\n",
       "    <tr>\n",
       "      <th>173</th>\n",
       "      <td>(AAO) What is plagiarism and what happens if I...</td>\n",
       "      <td>(AAO) To put it simply, plagiarism is defined ...</td>\n",
       "      <td>AAO</td>\n",
       "    </tr>\n",
       "    <tr>\n",
       "      <th>174</th>\n",
       "      <td>(AAO) I have a question that isn’t answered he...</td>\n",
       "      <td>(AAO) If you need further advice on some other...</td>\n",
       "      <td>AAO</td>\n",
       "    </tr>\n",
       "  </tbody>\n",
       "</table>\n",
       "<p>175 rows × 3 columns</p>\n",
       "</div>"
      ],
      "text/plain": [
       "                                              Question  \\\n",
       "0    (HKDSE) How do I apply to HKU through JUPAS sc...   \n",
       "1    (HKDSE) What are the common mistakes as a JUPA...   \n",
       "2    (HKDSE) How can I apply to HKU as a HKDSE repe...   \n",
       "3    (HKDSE) What are the minimum university entran...   \n",
       "4       (HKDSE) How is the admission score calculated?   \n",
       "..                                                 ...   \n",
       "170  (AAO) I still have other questions regarding t...   \n",
       "171  (AAO) Are there scholarships that accept appli...   \n",
       "172  (AAO) When and how do I apply for leave of abs...   \n",
       "173  (AAO) What is plagiarism and what happens if I...   \n",
       "174  (AAO) I have a question that isn’t answered he...   \n",
       "\n",
       "                                                Answer   Type  \n",
       "0    (HKDSE) We welcome your application to HKU thr...  HKDSE  \n",
       "1    (HKDSE) Students should not forget that in add...  HKDSE  \n",
       "2    (HKDSE) All students who apply to HKU on the b...  HKDSE  \n",
       "3    (HKDSE) To have your application considered fo...  HKDSE  \n",
       "4    (HKDSE) Starting from the academic year 2020/2...  HKDSE  \n",
       "..                                                 ...    ...  \n",
       "170  (AAO) You might try to look at the FAQ compile...    AAO  \n",
       "171  (AAO) Please visit the website of the Scholars...    AAO  \n",
       "172  (AAO) You need to apply for leave of absence i...    AAO  \n",
       "173  (AAO) To put it simply, plagiarism is defined ...    AAO  \n",
       "174  (AAO) If you need further advice on some other...    AAO  \n",
       "\n",
       "[175 rows x 3 columns]"
      ]
     },
     "execution_count": 11,
     "metadata": {},
     "output_type": "execute_result"
    }
   ],
   "source": [
    "df_faq"
   ]
  },
  {
   "cell_type": "code",
   "execution_count": 12,
   "metadata": {},
   "outputs": [
    {
     "data": {
      "text/plain": [
       "0      (HKDSE) How do I apply to HKU through JUPAS sc...\n",
       "1      (HKDSE) What are the common mistakes as a JUPA...\n",
       "2      (HKDSE) How can I apply to HKU as a HKDSE repe...\n",
       "3      (HKDSE) What are the minimum university entran...\n",
       "4         (HKDSE) How is the admission score calculated?\n",
       "                             ...                        \n",
       "170    (AAO) I still have other questions regarding t...\n",
       "171    (AAO) Are there scholarships that accept appli...\n",
       "172    (AAO) When and how do I apply for leave of abs...\n",
       "173    (AAO) What is plagiarism and what happens if I...\n",
       "174    (AAO) I have a question that isn’t answered he...\n",
       "Name: Question, Length: 175, dtype: object"
      ]
     },
     "execution_count": 12,
     "metadata": {},
     "output_type": "execute_result"
    }
   ],
   "source": [
    "questions = df_faq['Question']\n",
    "questions"
   ]
  },
  {
   "cell_type": "code",
   "execution_count": 5,
   "metadata": {},
   "outputs": [],
   "source": [
    "from mittens import GloVe, Mittens\n",
    "from collections import Counter\n",
    "from sklearn.feature_extraction.text import CountVectorizer"
   ]
  },
  {
   "cell_type": "code",
   "execution_count": 6,
   "metadata": {},
   "outputs": [],
   "source": [
    "import csv"
   ]
  },
  {
   "cell_type": "code",
   "execution_count": 7,
   "metadata": {},
   "outputs": [],
   "source": [
    "# define function to convert the glove file name to dictionary type\n",
    "def glove2dict(glove_filename):\n",
    "    with open(glove_filename, encoding='utf-8') as f:\n",
    "        reader = csv.reader(f, delimiter=' ', quoting=csv.QUOTE_NONE)\n",
    "        embed = {line[0]: np.array(list(map(float, line[1:])))\n",
    "                for line in reader}\n",
    "    return embed"
   ]
  },
  {
   "cell_type": "code",
   "execution_count": 15,
   "metadata": {},
   "outputs": [],
   "source": [
    "# convert the txt file of the pretrained glove model to dictionary type\n",
    "glove_path = 'glove-data/glove.840B.300d.txt'\n",
    "pre_glove = glove2dict(glove_path)"
   ]
  },
  {
   "cell_type": "code",
   "execution_count": 17,
   "metadata": {},
   "outputs": [
    {
     "data": {
      "text/plain": [
       "2196016"
      ]
     },
     "execution_count": 17,
     "metadata": {},
     "output_type": "execute_result"
    }
   ],
   "source": [
    "len(pre_glove)"
   ]
  },
  {
   "cell_type": "code",
   "execution_count": 14,
   "metadata": {},
   "outputs": [],
   "source": [
    "def preprocess(text):\n",
    "    text = text.lower() # convert all letters to lowercase\n",
    "    words = word_tokenize(text) # tokanize each sentence\n",
    "    words = [word for word in words if word.isalpha()]\n",
    "\n",
    "    # handle stopwords\n",
    "    stop_words = set(stopwords.words('english'))\n",
    "    words = [word for word in words if not word in stop_words]\n",
    "\n",
    "    return words"
   ]
  },
  {
   "cell_type": "code",
   "execution_count": 38,
   "metadata": {},
   "outputs": [],
   "source": [
    "# preprocess the questions list\n",
    "questions_tokenized = questions.apply(preprocess).tolist()\n",
    "\n",
    "# concatenate all the tokens of the questions_tokenized dataset\n",
    "questions_words = [j for i in questions_tokenized for j in i]\n",
    "\n",
    "# identify any out-of-vocabulary words compared to the pretrained vocab\n",
    "oov = [word for word in questions_words if word not in pre_glove.keys()]"
   ]
  },
  {
   "cell_type": "code",
   "execution_count": 44,
   "metadata": {},
   "outputs": [],
   "source": [
    "corp_vocab = list(set(oov))\n",
    "questions_doc = [' '.join(questions_words)]"
   ]
  },
  {
   "cell_type": "code",
   "execution_count": 45,
   "metadata": {},
   "outputs": [
    {
     "data": {
      "text/plain": [
       "['sgpa', 'hkdse', 'jupas', 'ygpa', 'ggpa', 'admssions']"
      ]
     },
     "execution_count": 45,
     "metadata": {},
     "output_type": "execute_result"
    }
   ],
   "source": [
    "corp_vocab"
   ]
  },
  {
   "cell_type": "code",
   "execution_count": 48,
   "metadata": {},
   "outputs": [],
   "source": [
    "# get the cooccurence matrix\n",
    "cv = CountVectorizer(ngram_range=(1,1), vocabulary=corp_vocab)\n",
    "X = cv.fit_transform(questions_doc)\n",
    "Xc = (X.T * X)\n",
    "Xc.setdiag(0)\n",
    "coocc_ar = Xc.toarray()"
   ]
  },
  {
   "cell_type": "code",
   "execution_count": 53,
   "metadata": {},
   "outputs": [],
   "source": [
    "# fine tune the glove model using mittens\n",
    "model_mittens = Mittens(n=300, max_iter=50)"
   ]
  },
  {
   "cell_type": "code",
   "execution_count": 54,
   "metadata": {},
   "outputs": [
    {
     "name": "stderr",
     "output_type": "stream",
     "text": [
      "Iteration 50: error 0.0052"
     ]
    }
   ],
   "source": [
    "# get the fine-tuned embeddings\n",
    "finetuned_embeddings = model_mittens.fit(\n",
    "    coocc_ar,\n",
    "    vocab=corp_vocab,\n",
    "    initial_embedding_dict=pre_glove\n",
    ")"
   ]
  },
  {
   "cell_type": "code",
   "execution_count": 64,
   "metadata": {},
   "outputs": [
    {
     "data": {
      "text/plain": [
       "array([[ 0.21536306, -0.23348389, -0.00108256, ...,  0.08835838,\n",
       "        -0.0281024 , -0.0755351 ],\n",
       "       [ 0.14106864, -0.2549903 ,  0.02145601, ...,  0.19411995,\n",
       "         0.16020646, -0.31885206],\n",
       "       [ 0.16597015, -0.15611448, -0.01689495, ...,  0.25187659,\n",
       "         0.24686613, -0.31104453],\n",
       "       [-0.0233133 , -0.20189346, -0.05745978, ...,  0.05373154,\n",
       "         0.28167596, -0.07932853],\n",
       "       [ 0.01277053, -0.05098631,  0.02492939, ..., -0.09738831,\n",
       "         0.26762349, -0.2695603 ],\n",
       "       [ 0.00584429,  0.10794007,  0.00472186, ...,  0.13523033,\n",
       "         0.05557022, -0.36607522]])"
      ]
     },
     "execution_count": 64,
     "metadata": {},
     "output_type": "execute_result"
    }
   ],
   "source": [
    "finetuned_embeddings"
   ]
  },
  {
   "cell_type": "code",
   "execution_count": 67,
   "metadata": {},
   "outputs": [],
   "source": [
    "# get the new glove model\n",
    "model_glove_oov = dict(zip(corp_vocab, finetuned_embeddings))"
   ]
  },
  {
   "cell_type": "code",
   "execution_count": 73,
   "metadata": {},
   "outputs": [],
   "source": [
    "# save the oov glove model\n",
    "import pickle\n",
    "f = open('models/glove_cc_oov.pkl', 'wb')\n",
    "pickle.dump(model_glove_oov, f)\n",
    "f.close()"
   ]
  },
  {
   "cell_type": "code",
   "execution_count": 69,
   "metadata": {},
   "outputs": [],
   "source": [
    "# concatenate pretrained glove and oov glove dictionaries together to form the final glove dictionary\n",
    "model_glove_finetuned = {}\n",
    "model_glove_finetuned.update(pre_glove)\n",
    "model_glove_finetuned.update(model_glove_oov)"
   ]
  },
  {
   "cell_type": "code",
   "execution_count": 70,
   "metadata": {},
   "outputs": [
    {
     "name": "stdout",
     "output_type": "stream",
     "text": [
      "Length of the pretrained GloVe dictionary: 2196016\n",
      "Length of the final fine-tuned GloVe dictionary: 2196022\n"
     ]
    }
   ],
   "source": [
    "print(f'Length of the pretrained GloVe dictionary: {len(pre_glove)}')\n",
    "print(f'Length of the final fine-tuned GloVe dictionary: {len(model_glove_finetuned)}')"
   ]
  },
  {
   "cell_type": "code",
   "execution_count": 84,
   "metadata": {},
   "outputs": [
    {
     "data": {
      "text/html": [
       "<div>\n",
       "<style scoped>\n",
       "    .dataframe tbody tr th:only-of-type {\n",
       "        vertical-align: middle;\n",
       "    }\n",
       "\n",
       "    .dataframe tbody tr th {\n",
       "        vertical-align: top;\n",
       "    }\n",
       "\n",
       "    .dataframe thead th {\n",
       "        text-align: right;\n",
       "    }\n",
       "</style>\n",
       "<table border=\"1\" class=\"dataframe\">\n",
       "  <thead>\n",
       "    <tr style=\"text-align: right;\">\n",
       "      <th></th>\n",
       "      <th>Question</th>\n",
       "      <th>Answer</th>\n",
       "      <th>Type</th>\n",
       "      <th>Similarity</th>\n",
       "    </tr>\n",
       "  </thead>\n",
       "  <tbody>\n",
       "    <tr>\n",
       "      <th>170</th>\n",
       "      <td>(AAO) I still have other questions regarding t...</td>\n",
       "      <td>(AAO) You might try to look at the FAQ compile...</td>\n",
       "      <td>AAO</td>\n",
       "      <td>0.776316</td>\n",
       "    </tr>\n",
       "    <tr>\n",
       "      <th>169</th>\n",
       "      <td>(AAO) If I need to defer my graduation for one...</td>\n",
       "      <td>(AAO) If students have paid full composition f...</td>\n",
       "      <td>AAO</td>\n",
       "      <td>0.772135</td>\n",
       "    </tr>\n",
       "    <tr>\n",
       "      <th>99</th>\n",
       "      <td>(AAO) How many courses can I take for the summ...</td>\n",
       "      <td>(AAO) Under normal circumstances, you can take...</td>\n",
       "      <td>AAO</td>\n",
       "      <td>0.768008</td>\n",
       "    </tr>\n",
       "    <tr>\n",
       "      <th>162</th>\n",
       "      <td>(AAO) I want to exchange but my CGPA is not ve...</td>\n",
       "      <td>(AAO) IAO offers a range of study abroad progr...</td>\n",
       "      <td>AAO</td>\n",
       "      <td>0.767756</td>\n",
       "    </tr>\n",
       "    <tr>\n",
       "      <th>157</th>\n",
       "      <td>(AAO) If I go on exchange studies in the secon...</td>\n",
       "      <td>(AAO) Since enrollment record of all courses (...</td>\n",
       "      <td>AAO</td>\n",
       "      <td>0.762995</td>\n",
       "    </tr>\n",
       "    <tr>\n",
       "      <th>...</th>\n",
       "      <td>...</td>\n",
       "      <td>...</td>\n",
       "      <td>...</td>\n",
       "      <td>...</td>\n",
       "    </tr>\n",
       "    <tr>\n",
       "      <th>69</th>\n",
       "      <td>(BASc) What are the differences between our BA...</td>\n",
       "      <td>(BASc) While other BASc programmes require stu...</td>\n",
       "      <td>BASc</td>\n",
       "      <td>0.269092</td>\n",
       "    </tr>\n",
       "    <tr>\n",
       "      <th>62</th>\n",
       "      <td>(BSc 6901) Who is entitled to join YSS?</td>\n",
       "      <td>(BSc 6901) have a second chance to enrol in YS...</td>\n",
       "      <td>BSc 6901</td>\n",
       "      <td>0.250393</td>\n",
       "    </tr>\n",
       "    <tr>\n",
       "      <th>2</th>\n",
       "      <td>(HKDSE) How can I apply to HKU as a HKDSE repe...</td>\n",
       "      <td>(HKDSE) All students who apply to HKU on the b...</td>\n",
       "      <td>HKDSE</td>\n",
       "      <td>0.227826</td>\n",
       "    </tr>\n",
       "    <tr>\n",
       "      <th>150</th>\n",
       "      <td>(AAO) What are the differences between SGPA, Y...</td>\n",
       "      <td>(AAO) GPA is the abbreviation of Grade Point A...</td>\n",
       "      <td>AAO</td>\n",
       "      <td>0.214337</td>\n",
       "    </tr>\n",
       "    <tr>\n",
       "      <th>110</th>\n",
       "      <td>(AAO) When should I declare major/minor?</td>\n",
       "      <td>(AAO) For most non-professional programmes, th...</td>\n",
       "      <td>AAO</td>\n",
       "      <td>0.190302</td>\n",
       "    </tr>\n",
       "  </tbody>\n",
       "</table>\n",
       "<p>175 rows × 4 columns</p>\n",
       "</div>"
      ],
      "text/plain": [
       "                                              Question  \\\n",
       "170  (AAO) I still have other questions regarding t...   \n",
       "169  (AAO) If I need to defer my graduation for one...   \n",
       "99   (AAO) How many courses can I take for the summ...   \n",
       "162  (AAO) I want to exchange but my CGPA is not ve...   \n",
       "157  (AAO) If I go on exchange studies in the secon...   \n",
       "..                                                 ...   \n",
       "69   (BASc) What are the differences between our BA...   \n",
       "62             (BSc 6901) Who is entitled to join YSS?   \n",
       "2    (HKDSE) How can I apply to HKU as a HKDSE repe...   \n",
       "150  (AAO) What are the differences between SGPA, Y...   \n",
       "110           (AAO) When should I declare major/minor?   \n",
       "\n",
       "                                                Answer      Type  Similarity  \n",
       "170  (AAO) You might try to look at the FAQ compile...       AAO    0.776316  \n",
       "169  (AAO) If students have paid full composition f...       AAO    0.772135  \n",
       "99   (AAO) Under normal circumstances, you can take...       AAO    0.768008  \n",
       "162  (AAO) IAO offers a range of study abroad progr...       AAO    0.767756  \n",
       "157  (AAO) Since enrollment record of all courses (...       AAO    0.762995  \n",
       "..                                                 ...       ...         ...  \n",
       "69   (BASc) While other BASc programmes require stu...      BASc    0.269092  \n",
       "62   (BSc 6901) have a second chance to enrol in YS...  BSc 6901    0.250393  \n",
       "2    (HKDSE) All students who apply to HKU on the b...     HKDSE    0.227826  \n",
       "150  (AAO) GPA is the abbreviation of Grade Point A...       AAO    0.214337  \n",
       "110  (AAO) For most non-professional programmes, th...       AAO    0.190302  \n",
       "\n",
       "[175 rows x 4 columns]"
      ]
     },
     "execution_count": 84,
     "metadata": {},
     "output_type": "execute_result"
    }
   ],
   "source": [
    "# try another query\n",
    "get_similarities(\n",
    "    'I am an HKDSE student. I wanna know how much the programme costs.', \n",
    "    df_faq, model_glove_finetuned, with_stopwords=False)"
   ]
  },
  {
   "cell_type": "markdown",
   "metadata": {},
   "source": [
    "## Model 5: Fine-tuned GloVe (Wiki + Gigaword)"
   ]
  },
  {
   "cell_type": "code",
   "execution_count": 8,
   "metadata": {},
   "outputs": [],
   "source": [
    "# convert the txt file of the pretrained glove model to dictionary type\n",
    "glove_path = 'glove-data/glove.6B.300d.txt'\n",
    "pre_glove_6b = glove2dict(glove_path)"
   ]
  },
  {
   "cell_type": "code",
   "execution_count": 15,
   "metadata": {},
   "outputs": [],
   "source": [
    "# preprocess the questions list\n",
    "questions_tokenized = questions.apply(preprocess).tolist()\n",
    "\n",
    "# concatenate all the tokens of the questions_tokenized dataset\n",
    "questions_words = [j for i in questions_tokenized for j in i]\n",
    "\n",
    "# identify any out-of-vocabulary words compared to the pretrained vocab\n",
    "oov = [word for word in questions_words if word not in pre_glove_6b.keys()]"
   ]
  },
  {
   "cell_type": "code",
   "execution_count": 16,
   "metadata": {},
   "outputs": [],
   "source": [
    "corp_vocab = list(set(oov))\n",
    "questions_doc = [' '.join(questions_words)]"
   ]
  },
  {
   "cell_type": "code",
   "execution_count": 17,
   "metadata": {},
   "outputs": [
    {
     "data": {
      "text/plain": [
       "['ggpa', 'hkdse', 'admssions', 'ygpa', 'yss', 'sgpa', 'fintech']"
      ]
     },
     "execution_count": 17,
     "metadata": {},
     "output_type": "execute_result"
    }
   ],
   "source": [
    "corp_vocab"
   ]
  },
  {
   "cell_type": "code",
   "execution_count": 18,
   "metadata": {},
   "outputs": [],
   "source": [
    "# get the cooccurence matrix\n",
    "cv = CountVectorizer(ngram_range=(1,1), vocabulary=corp_vocab)\n",
    "X = cv.fit_transform(questions_doc)\n",
    "Xc = (X.T * X)\n",
    "Xc.setdiag(0)\n",
    "coocc_ar = Xc.toarray()"
   ]
  },
  {
   "cell_type": "code",
   "execution_count": 23,
   "metadata": {},
   "outputs": [],
   "source": [
    "# fine tune the glove model using mittens\n",
    "model_mittens = Mittens(n=300, max_iter=100)"
   ]
  },
  {
   "cell_type": "code",
   "execution_count": 24,
   "metadata": {},
   "outputs": [
    {
     "name": "stderr",
     "output_type": "stream",
     "text": [
      "Iteration 100: error 0.0001"
     ]
    }
   ],
   "source": [
    "# get the fine-tuned embeddings\n",
    "finetuned_embeddings = model_mittens.fit(\n",
    "    coocc_ar,\n",
    "    vocab=corp_vocab,\n",
    "    initial_embedding_dict=pre_glove_6b\n",
    ")"
   ]
  },
  {
   "cell_type": "code",
   "execution_count": 25,
   "metadata": {},
   "outputs": [
    {
     "data": {
      "text/plain": [
       "array([[ 0.02631426, -0.15538317,  0.08178973, ..., -0.01127533,\n",
       "        -0.03334514,  0.03103017],\n",
       "       [ 0.1045783 , -0.05995505,  0.09140404, ...,  0.28087561,\n",
       "        -0.10251079,  0.21209909],\n",
       "       [ 0.15922981, -0.10345597, -0.11062329, ..., -0.06195216,\n",
       "        -0.0042606 ,  0.02028969],\n",
       "       ...,\n",
       "       [-0.07172647, -0.15133784, -0.10242488, ...,  0.18892125,\n",
       "         0.03875714,  0.00315756],\n",
       "       [ 0.12751028,  0.05125323,  0.14642109, ...,  0.05362132,\n",
       "        -0.07406009,  0.05368258],\n",
       "       [-0.0211357 ,  0.02340683,  0.13315088, ...,  0.07894328,\n",
       "         0.03253981,  0.03545454]])"
      ]
     },
     "execution_count": 25,
     "metadata": {},
     "output_type": "execute_result"
    }
   ],
   "source": [
    "finetuned_embeddings"
   ]
  },
  {
   "cell_type": "code",
   "execution_count": 26,
   "metadata": {},
   "outputs": [],
   "source": [
    "# get the new glove model\n",
    "model_glove_oov = dict(zip(corp_vocab, finetuned_embeddings))"
   ]
  },
  {
   "cell_type": "code",
   "execution_count": 102,
   "metadata": {},
   "outputs": [],
   "source": [
    "# save the oov glove model\n",
    "import pickle\n",
    "f = open('models/glove_wiki_oov.pkl', 'wb')\n",
    "pickle.dump(model_glove_oov, f)\n",
    "f.close()"
   ]
  },
  {
   "cell_type": "code",
   "execution_count": 28,
   "metadata": {},
   "outputs": [],
   "source": [
    "# concatenate pretrained glove and oov glove dictionaries together to form the final glove dictionary\n",
    "model_glove_finetuned = {}\n",
    "model_glove_finetuned.update(pre_glove_6b)\n",
    "model_glove_finetuned.update(model_glove_oov)"
   ]
  },
  {
   "cell_type": "code",
   "execution_count": 31,
   "metadata": {},
   "outputs": [
    {
     "name": "stdout",
     "output_type": "stream",
     "text": [
      "Length of the pretrained GloVe dictionary: 400000\n",
      "Length of the final fine-tuned GloVe dictionary: 400007\n"
     ]
    }
   ],
   "source": [
    "print(f'Length of the pretrained GloVe dictionary: {len(pre_glove_6b)}')\n",
    "print(f'Length of the final fine-tuned GloVe dictionary: {len(model_glove_finetuned)}')"
   ]
  },
  {
   "cell_type": "code",
   "execution_count": 34,
   "metadata": {},
   "outputs": [],
   "source": [
    "import pickle\n",
    "f = open('models/glove_wiki_finetuned.pkl', 'wb')\n",
    "pickle.dump(model_glove_finetuned, f)\n",
    "f.close()"
   ]
  },
  {
   "cell_type": "code",
   "execution_count": 33,
   "metadata": {},
   "outputs": [
    {
     "data": {
      "text/html": [
       "<div>\n",
       "<style scoped>\n",
       "    .dataframe tbody tr th:only-of-type {\n",
       "        vertical-align: middle;\n",
       "    }\n",
       "\n",
       "    .dataframe tbody tr th {\n",
       "        vertical-align: top;\n",
       "    }\n",
       "\n",
       "    .dataframe thead th {\n",
       "        text-align: right;\n",
       "    }\n",
       "</style>\n",
       "<table border=\"1\" class=\"dataframe\">\n",
       "  <thead>\n",
       "    <tr style=\"text-align: right;\">\n",
       "      <th></th>\n",
       "      <th>Question</th>\n",
       "      <th>Answer</th>\n",
       "      <th>Type</th>\n",
       "      <th>Similarity</th>\n",
       "    </tr>\n",
       "  </thead>\n",
       "  <tbody>\n",
       "    <tr>\n",
       "      <th>13</th>\n",
       "      <td>(HKDSE (Non-local)) What is the University’s a...</td>\n",
       "      <td>(HKDSE (Non-local)) You may wish to go through...</td>\n",
       "      <td>HKDSE (Non-local)</td>\n",
       "      <td>0.608544</td>\n",
       "    </tr>\n",
       "    <tr>\n",
       "      <th>18</th>\n",
       "      <td>(International) What is the University’s appli...</td>\n",
       "      <td>(International) You may wish to go through the...</td>\n",
       "      <td>International</td>\n",
       "      <td>0.590474</td>\n",
       "    </tr>\n",
       "    <tr>\n",
       "      <th>21</th>\n",
       "      <td>(International) Where should I submit my appli...</td>\n",
       "      <td>(International) All application to the Univers...</td>\n",
       "      <td>International</td>\n",
       "      <td>0.588276</td>\n",
       "    </tr>\n",
       "    <tr>\n",
       "      <th>15</th>\n",
       "      <td>(HKDSE (Non-local)) Where should I submit my a...</td>\n",
       "      <td>(HKDSE (Non-local)) All application to the Uni...</td>\n",
       "      <td>HKDSE (Non-local)</td>\n",
       "      <td>0.580242</td>\n",
       "    </tr>\n",
       "    <tr>\n",
       "      <th>140</th>\n",
       "      <td>(AAO) What should I do if I know I will not be...</td>\n",
       "      <td>(AAO) Special arrangement will be made only un...</td>\n",
       "      <td>AAO</td>\n",
       "      <td>0.558955</td>\n",
       "    </tr>\n",
       "    <tr>\n",
       "      <th>...</th>\n",
       "      <td>...</td>\n",
       "      <td>...</td>\n",
       "      <td>...</td>\n",
       "      <td>...</td>\n",
       "    </tr>\n",
       "    <tr>\n",
       "      <th>56</th>\n",
       "      <td>(BSc 6901) What are the admissions scores for ...</td>\n",
       "      <td>(BSc 6901) HKDSE: 22 - 36.5 (Best 5 subjects);...</td>\n",
       "      <td>BSc 6901</td>\n",
       "      <td>0.110630</td>\n",
       "    </tr>\n",
       "    <tr>\n",
       "      <th>2</th>\n",
       "      <td>(HKDSE) How can I apply to HKU as a HKDSE repe...</td>\n",
       "      <td>(HKDSE) All students who apply to HKU on the b...</td>\n",
       "      <td>HKDSE</td>\n",
       "      <td>0.109337</td>\n",
       "    </tr>\n",
       "    <tr>\n",
       "      <th>70</th>\n",
       "      <td>(BASc) What are majors and minors and what is ...</td>\n",
       "      <td>(BASc) When we say we “declare a major” in a c...</td>\n",
       "      <td>BASc</td>\n",
       "      <td>0.107719</td>\n",
       "    </tr>\n",
       "    <tr>\n",
       "      <th>69</th>\n",
       "      <td>(BASc) What are the differences between our BA...</td>\n",
       "      <td>(BASc) While other BASc programmes require stu...</td>\n",
       "      <td>BASc</td>\n",
       "      <td>0.100741</td>\n",
       "    </tr>\n",
       "    <tr>\n",
       "      <th>150</th>\n",
       "      <td>(AAO) What are the differences between SGPA, Y...</td>\n",
       "      <td>(AAO) GPA is the abbreviation of Grade Point A...</td>\n",
       "      <td>AAO</td>\n",
       "      <td>-0.016163</td>\n",
       "    </tr>\n",
       "  </tbody>\n",
       "</table>\n",
       "<p>175 rows × 4 columns</p>\n",
       "</div>"
      ],
      "text/plain": [
       "                                              Question  \\\n",
       "13   (HKDSE (Non-local)) What is the University’s a...   \n",
       "18   (International) What is the University’s appli...   \n",
       "21   (International) Where should I submit my appli...   \n",
       "15   (HKDSE (Non-local)) Where should I submit my a...   \n",
       "140  (AAO) What should I do if I know I will not be...   \n",
       "..                                                 ...   \n",
       "56   (BSc 6901) What are the admissions scores for ...   \n",
       "2    (HKDSE) How can I apply to HKU as a HKDSE repe...   \n",
       "70   (BASc) What are majors and minors and what is ...   \n",
       "69   (BASc) What are the differences between our BA...   \n",
       "150  (AAO) What are the differences between SGPA, Y...   \n",
       "\n",
       "                                                Answer               Type  \\\n",
       "13   (HKDSE (Non-local)) You may wish to go through...  HKDSE (Non-local)   \n",
       "18   (International) You may wish to go through the...      International   \n",
       "21   (International) All application to the Univers...      International   \n",
       "15   (HKDSE (Non-local)) All application to the Uni...  HKDSE (Non-local)   \n",
       "140  (AAO) Special arrangement will be made only un...                AAO   \n",
       "..                                                 ...                ...   \n",
       "56   (BSc 6901) HKDSE: 22 - 36.5 (Best 5 subjects);...           BSc 6901   \n",
       "2    (HKDSE) All students who apply to HKU on the b...              HKDSE   \n",
       "70   (BASc) When we say we “declare a major” in a c...               BASc   \n",
       "69   (BASc) While other BASc programmes require stu...               BASc   \n",
       "150  (AAO) GPA is the abbreviation of Grade Point A...                AAO   \n",
       "\n",
       "     Similarity  \n",
       "13     0.608544  \n",
       "18     0.590474  \n",
       "21     0.588276  \n",
       "15     0.580242  \n",
       "140    0.558955  \n",
       "..          ...  \n",
       "56     0.110630  \n",
       "2      0.109337  \n",
       "70     0.107719  \n",
       "69     0.100741  \n",
       "150   -0.016163  \n",
       "\n",
       "[175 rows x 4 columns]"
      ]
     },
     "execution_count": 33,
     "metadata": {},
     "output_type": "execute_result"
    }
   ],
   "source": [
    "# try another query\n",
    "get_similarities(\n",
    "    'I wanna know what the application deadline is.', \n",
    "    df_faq, model_glove_finetuned, with_stopwords=False)"
   ]
  },
  {
   "cell_type": "code",
   "execution_count": 114,
   "metadata": {},
   "outputs": [],
   "source": [
    "# # try load the pkl model\n",
    "# import pickle\n",
    "# with open('models/glove_wiki_finetuned.pkl', 'rb') as f:\n",
    "#     test = pickle.load(f)"
   ]
  },
  {
   "cell_type": "code",
   "execution_count": null,
   "metadata": {},
   "outputs": [],
   "source": []
  }
 ],
 "metadata": {
  "kernelspec": {
   "display_name": "Python 3.7.13 ('DataScience')",
   "language": "python",
   "name": "python3"
  },
  "language_info": {
   "codemirror_mode": {
    "name": "ipython",
    "version": 3
   },
   "file_extension": ".py",
   "mimetype": "text/x-python",
   "name": "python",
   "nbconvert_exporter": "python",
   "pygments_lexer": "ipython3",
   "version": "3.7.13"
  },
  "orig_nbformat": 4,
  "vscode": {
   "interpreter": {
    "hash": "32d60d92059b3e36b6bd9986edfc808c4ae526b74500509951e82855bb1b814d"
   }
  }
 },
 "nbformat": 4,
 "nbformat_minor": 2
}
