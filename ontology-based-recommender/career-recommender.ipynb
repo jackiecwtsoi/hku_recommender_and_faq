{
 "cells": [
  {
   "cell_type": "code",
   "execution_count": 1,
   "metadata": {},
   "outputs": [],
   "source": [
    "import numpy as np\n",
    "import pandas as pd"
   ]
  },
  {
   "cell_type": "markdown",
   "metadata": {},
   "source": [
    "# Data Preprocessing"
   ]
  },
  {
   "cell_type": "markdown",
   "metadata": {},
   "source": [
    "## Dataset"
   ]
  },
  {
   "cell_type": "code",
   "execution_count": 2,
   "metadata": {},
   "outputs": [],
   "source": [
    "# load 'Online Job Postings' Kaggle dataset\n",
    "df_job_postings_original = pd.read_csv('data/online-job-postings-dataset.csv')"
   ]
  },
  {
   "cell_type": "code",
   "execution_count": 6,
   "metadata": {},
   "outputs": [],
   "source": [
    "# extract useful columns for the career profile\n",
    "df_job_postings = df_job_postings_original[[\n",
    "    'jobpost', # the original job post is included just in case other columns do not contain enough information\n",
    "    'Title', 'JobDescription', 'JobRequirment',\n",
    "    'RequiredQual',\n",
    "    'ApplicationP'\n",
    "]]"
   ]
  },
  {
   "cell_type": "code",
   "execution_count": 7,
   "metadata": {},
   "outputs": [
    {
     "data": {
      "text/html": [
       "<div>\n",
       "<style scoped>\n",
       "    .dataframe tbody tr th:only-of-type {\n",
       "        vertical-align: middle;\n",
       "    }\n",
       "\n",
       "    .dataframe tbody tr th {\n",
       "        vertical-align: top;\n",
       "    }\n",
       "\n",
       "    .dataframe thead th {\n",
       "        text-align: right;\n",
       "    }\n",
       "</style>\n",
       "<table border=\"1\" class=\"dataframe\">\n",
       "  <thead>\n",
       "    <tr style=\"text-align: right;\">\n",
       "      <th></th>\n",
       "      <th>jobpost</th>\n",
       "      <th>Title</th>\n",
       "      <th>JobDescription</th>\n",
       "      <th>JobRequirment</th>\n",
       "      <th>RequiredQual</th>\n",
       "      <th>ApplicationP</th>\n",
       "    </tr>\n",
       "  </thead>\n",
       "  <tbody>\n",
       "    <tr>\n",
       "      <th>0</th>\n",
       "      <td>AMERIA Investment Consulting Company\\r\\nJOB TI...</td>\n",
       "      <td>Chief Financial Officer</td>\n",
       "      <td>AMERIA Investment Consulting Company is seekin...</td>\n",
       "      <td>- Supervises financial management and administ...</td>\n",
       "      <td>To perform this job successfully, an\\r\\nindivi...</td>\n",
       "      <td>To apply for this position, please submit a\\r\\...</td>\n",
       "    </tr>\n",
       "    <tr>\n",
       "      <th>1</th>\n",
       "      <td>International Research &amp; Exchanges Board (IREX...</td>\n",
       "      <td>Full-time Community Connections Intern (paid i...</td>\n",
       "      <td>NaN</td>\n",
       "      <td>NaN</td>\n",
       "      <td>- Bachelor's Degree; Master's is preferred;\\r\\...</td>\n",
       "      <td>Please submit a cover letter and resume to:\\r\\...</td>\n",
       "    </tr>\n",
       "    <tr>\n",
       "      <th>2</th>\n",
       "      <td>Caucasus Environmental NGO Network (CENN)\\r\\nJ...</td>\n",
       "      <td>Country Coordinator</td>\n",
       "      <td>Public outreach and strengthening of a growing...</td>\n",
       "      <td>- Working with the Country Director to provide...</td>\n",
       "      <td>- Degree in environmentally related field, or ...</td>\n",
       "      <td>Please send resume or CV toursula.kazarian@......</td>\n",
       "    </tr>\n",
       "    <tr>\n",
       "      <th>3</th>\n",
       "      <td>Manoff Group\\r\\nJOB TITLE:  BCC Specialist\\r\\n...</td>\n",
       "      <td>BCC Specialist</td>\n",
       "      <td>The LEAD (Local Enhancement and Development fo...</td>\n",
       "      <td>- Identify gaps in knowledge and overseeing in...</td>\n",
       "      <td>- Advanced degree in public health, social sci...</td>\n",
       "      <td>Please send cover letter and resume to Amy\\r\\n...</td>\n",
       "    </tr>\n",
       "    <tr>\n",
       "      <th>4</th>\n",
       "      <td>Yerevan Brandy Company\\r\\nJOB TITLE:  Software...</td>\n",
       "      <td>Software Developer</td>\n",
       "      <td>NaN</td>\n",
       "      <td>- Rendering technical assistance to Database M...</td>\n",
       "      <td>- University degree; economical background is ...</td>\n",
       "      <td>Successful candidates should submit\\r\\n- CV; \\...</td>\n",
       "    </tr>\n",
       "    <tr>\n",
       "      <th>...</th>\n",
       "      <td>...</td>\n",
       "      <td>...</td>\n",
       "      <td>...</td>\n",
       "      <td>...</td>\n",
       "      <td>...</td>\n",
       "      <td>...</td>\n",
       "    </tr>\n",
       "    <tr>\n",
       "      <th>18996</th>\n",
       "      <td>Technolinguistics NGO\\r\\n\\r\\n\\r\\nTITLE:  Senio...</td>\n",
       "      <td>Senior Creative UX/ UI Designer</td>\n",
       "      <td>A tech startup of Technolinguistics based in N...</td>\n",
       "      <td>- Work closely with product and business teams...</td>\n",
       "      <td>- At least 5 years of experience in Interface/...</td>\n",
       "      <td>To apply for this position, please send your\\r...</td>\n",
       "    </tr>\n",
       "    <tr>\n",
       "      <th>18997</th>\n",
       "      <td>\"Coca-Cola Hellenic Bottling Company Armenia\" ...</td>\n",
       "      <td>Category Development Manager</td>\n",
       "      <td>NaN</td>\n",
       "      <td>- Establish and manage Category Management dev...</td>\n",
       "      <td>- University degree, ideally business related;...</td>\n",
       "      <td>All interested candidates are kindly requested...</td>\n",
       "    </tr>\n",
       "    <tr>\n",
       "      <th>18998</th>\n",
       "      <td>\"Coca-Cola Hellenic Bottling Company Armenia\" ...</td>\n",
       "      <td>Operational Marketing Manager</td>\n",
       "      <td>NaN</td>\n",
       "      <td>- Develop, establish and maintain marketing st...</td>\n",
       "      <td>- Degree in Business, Marketing or a related f...</td>\n",
       "      <td>All interested candidates are kindly requested...</td>\n",
       "    </tr>\n",
       "    <tr>\n",
       "      <th>18999</th>\n",
       "      <td>San Lazzaro   LLC\\r\\n\\r\\n\\r\\nTITLE:  Head of O...</td>\n",
       "      <td>Head of Online Sales Department</td>\n",
       "      <td>San Lazzaro LLC is looking for a well-experien...</td>\n",
       "      <td>- Handle the project activites of the online s...</td>\n",
       "      <td>- At least 1 year of experience in online sale...</td>\n",
       "      <td>Interested candidates can send their CVs to:\\r...</td>\n",
       "    </tr>\n",
       "    <tr>\n",
       "      <th>19000</th>\n",
       "      <td>\"Kamurj\" UCO CJSC\\r\\n\\r\\n\\r\\nTITLE:  Lawyer in...</td>\n",
       "      <td>Lawyer in Legal Department</td>\n",
       "      <td>\"Kamurj\" UCO CJSC is looking for a Lawyer in L...</td>\n",
       "      <td>- Properly provide internal legal services of ...</td>\n",
       "      <td>- Higher legal education; Master's degree is a...</td>\n",
       "      <td>All qualified applicants are encouraged to\\r\\n...</td>\n",
       "    </tr>\n",
       "  </tbody>\n",
       "</table>\n",
       "<p>19001 rows × 6 columns</p>\n",
       "</div>"
      ],
      "text/plain": [
       "                                                 jobpost  \\\n",
       "0      AMERIA Investment Consulting Company\\r\\nJOB TI...   \n",
       "1      International Research & Exchanges Board (IREX...   \n",
       "2      Caucasus Environmental NGO Network (CENN)\\r\\nJ...   \n",
       "3      Manoff Group\\r\\nJOB TITLE:  BCC Specialist\\r\\n...   \n",
       "4      Yerevan Brandy Company\\r\\nJOB TITLE:  Software...   \n",
       "...                                                  ...   \n",
       "18996  Technolinguistics NGO\\r\\n\\r\\n\\r\\nTITLE:  Senio...   \n",
       "18997  \"Coca-Cola Hellenic Bottling Company Armenia\" ...   \n",
       "18998  \"Coca-Cola Hellenic Bottling Company Armenia\" ...   \n",
       "18999  San Lazzaro   LLC\\r\\n\\r\\n\\r\\nTITLE:  Head of O...   \n",
       "19000  \"Kamurj\" UCO CJSC\\r\\n\\r\\n\\r\\nTITLE:  Lawyer in...   \n",
       "\n",
       "                                                   Title  \\\n",
       "0                                Chief Financial Officer   \n",
       "1      Full-time Community Connections Intern (paid i...   \n",
       "2                                    Country Coordinator   \n",
       "3                                         BCC Specialist   \n",
       "4                                     Software Developer   \n",
       "...                                                  ...   \n",
       "18996                    Senior Creative UX/ UI Designer   \n",
       "18997                       Category Development Manager   \n",
       "18998                      Operational Marketing Manager   \n",
       "18999                    Head of Online Sales Department   \n",
       "19000                         Lawyer in Legal Department   \n",
       "\n",
       "                                          JobDescription  \\\n",
       "0      AMERIA Investment Consulting Company is seekin...   \n",
       "1                                                    NaN   \n",
       "2      Public outreach and strengthening of a growing...   \n",
       "3      The LEAD (Local Enhancement and Development fo...   \n",
       "4                                                    NaN   \n",
       "...                                                  ...   \n",
       "18996  A tech startup of Technolinguistics based in N...   \n",
       "18997                                                NaN   \n",
       "18998                                                NaN   \n",
       "18999  San Lazzaro LLC is looking for a well-experien...   \n",
       "19000  \"Kamurj\" UCO CJSC is looking for a Lawyer in L...   \n",
       "\n",
       "                                           JobRequirment  \\\n",
       "0      - Supervises financial management and administ...   \n",
       "1                                                    NaN   \n",
       "2      - Working with the Country Director to provide...   \n",
       "3      - Identify gaps in knowledge and overseeing in...   \n",
       "4      - Rendering technical assistance to Database M...   \n",
       "...                                                  ...   \n",
       "18996  - Work closely with product and business teams...   \n",
       "18997  - Establish and manage Category Management dev...   \n",
       "18998  - Develop, establish and maintain marketing st...   \n",
       "18999  - Handle the project activites of the online s...   \n",
       "19000  - Properly provide internal legal services of ...   \n",
       "\n",
       "                                            RequiredQual  \\\n",
       "0      To perform this job successfully, an\\r\\nindivi...   \n",
       "1      - Bachelor's Degree; Master's is preferred;\\r\\...   \n",
       "2      - Degree in environmentally related field, or ...   \n",
       "3      - Advanced degree in public health, social sci...   \n",
       "4      - University degree; economical background is ...   \n",
       "...                                                  ...   \n",
       "18996  - At least 5 years of experience in Interface/...   \n",
       "18997  - University degree, ideally business related;...   \n",
       "18998  - Degree in Business, Marketing or a related f...   \n",
       "18999  - At least 1 year of experience in online sale...   \n",
       "19000  - Higher legal education; Master's degree is a...   \n",
       "\n",
       "                                            ApplicationP  \n",
       "0      To apply for this position, please submit a\\r\\...  \n",
       "1      Please submit a cover letter and resume to:\\r\\...  \n",
       "2      Please send resume or CV toursula.kazarian@......  \n",
       "3      Please send cover letter and resume to Amy\\r\\n...  \n",
       "4      Successful candidates should submit\\r\\n- CV; \\...  \n",
       "...                                                  ...  \n",
       "18996  To apply for this position, please send your\\r...  \n",
       "18997  All interested candidates are kindly requested...  \n",
       "18998  All interested candidates are kindly requested...  \n",
       "18999  Interested candidates can send their CVs to:\\r...  \n",
       "19000  All qualified applicants are encouraged to\\r\\n...  \n",
       "\n",
       "[19001 rows x 6 columns]"
      ]
     },
     "execution_count": 7,
     "metadata": {},
     "output_type": "execute_result"
    }
   ],
   "source": [
    "df_job_postings"
   ]
  },
  {
   "cell_type": "code",
   "execution_count": null,
   "metadata": {},
   "outputs": [],
   "source": []
  },
  {
   "cell_type": "code",
   "execution_count": null,
   "metadata": {},
   "outputs": [],
   "source": []
  },
  {
   "cell_type": "code",
   "execution_count": null,
   "metadata": {},
   "outputs": [],
   "source": []
  },
  {
   "cell_type": "code",
   "execution_count": null,
   "metadata": {},
   "outputs": [],
   "source": []
  },
  {
   "cell_type": "code",
   "execution_count": null,
   "metadata": {},
   "outputs": [],
   "source": []
  },
  {
   "cell_type": "code",
   "execution_count": null,
   "metadata": {},
   "outputs": [],
   "source": []
  },
  {
   "cell_type": "code",
   "execution_count": null,
   "metadata": {},
   "outputs": [],
   "source": []
  },
  {
   "cell_type": "code",
   "execution_count": null,
   "metadata": {},
   "outputs": [],
   "source": []
  },
  {
   "cell_type": "code",
   "execution_count": 55,
   "metadata": {},
   "outputs": [],
   "source": [
    "import sys\n",
    "sys.path.append('ontology_profiles/career_profile')\n",
    "\n",
    "from ontology_profiles.career_profile.Job import Job"
   ]
  },
  {
   "cell_type": "code",
   "execution_count": 47,
   "metadata": {},
   "outputs": [],
   "source": [
    "from JobBasicInfo import JobBasicInfo\n",
    "from JobApplication import JobApplication\n",
    "from JobQualification import JobQualification"
   ]
  },
  {
   "cell_type": "code",
   "execution_count": 52,
   "metadata": {},
   "outputs": [],
   "source": [
    "job_basic_info = JobBasicInfo('hi1', '2', '3')\n",
    "job_qualification = JobQualification('This is a sample job qualification text.')\n",
    "job_application = JobApplication('This is some application procedure.')"
   ]
  },
  {
   "cell_type": "code",
   "execution_count": 56,
   "metadata": {},
   "outputs": [],
   "source": [
    "job = Job(job_basic_info, job_qualification, job_application)"
   ]
  },
  {
   "cell_type": "code",
   "execution_count": null,
   "metadata": {},
   "outputs": [],
   "source": []
  }
 ],
 "metadata": {
  "kernelspec": {
   "display_name": "Python 3.7.13 ('DataScience')",
   "language": "python",
   "name": "python3"
  },
  "language_info": {
   "codemirror_mode": {
    "name": "ipython",
    "version": 3
   },
   "file_extension": ".py",
   "mimetype": "text/x-python",
   "name": "python",
   "nbconvert_exporter": "python",
   "pygments_lexer": "ipython3",
   "version": "3.7.13"
  },
  "orig_nbformat": 4,
  "vscode": {
   "interpreter": {
    "hash": "32d60d92059b3e36b6bd9986edfc808c4ae526b74500509951e82855bb1b814d"
   }
  }
 },
 "nbformat": 4,
 "nbformat_minor": 2
}
