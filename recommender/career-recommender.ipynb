{
 "cells": [
  {
   "cell_type": "code",
   "execution_count": 2,
   "metadata": {},
   "outputs": [],
   "source": [
    "import numpy as np\n",
    "import pandas as pd"
   ]
  },
  {
   "cell_type": "code",
   "execution_count": 3,
   "metadata": {},
   "outputs": [
    {
     "name": "stderr",
     "output_type": "stream",
     "text": [
      "[nltk_data] Downloading package punkt to\n",
      "[nltk_data]     C:\\Users\\Kackie\\AppData\\Roaming\\nltk_data...\n",
      "[nltk_data]   Package punkt is already up-to-date!\n",
      "[nltk_data] Downloading package stopwords to\n",
      "[nltk_data]     C:\\Users\\Kackie\\AppData\\Roaming\\nltk_data...\n",
      "[nltk_data]   Package stopwords is already up-to-date!\n",
      "[nltk_data] Downloading package wordnet to\n",
      "[nltk_data]     C:\\Users\\Kackie\\AppData\\Roaming\\nltk_data...\n",
      "[nltk_data]   Package wordnet is already up-to-date!\n",
      "[nltk_data] Downloading package omw-1.4 to\n",
      "[nltk_data]     C:\\Users\\Kackie\\AppData\\Roaming\\nltk_data...\n",
      "[nltk_data]   Package omw-1.4 is already up-to-date!\n"
     ]
    }
   ],
   "source": [
    "import nltk\n",
    "nltk.download('punkt')\n",
    "nltk.download('stopwords')\n",
    "nltk.download('wordnet')\n",
    "nltk.download('omw-1.4')\n",
    "\n",
    "from nltk import word_tokenize\n",
    "from nltk import sent_tokenize\n",
    "from nltk.corpus import stopwords\n",
    "from nltk.stem import WordNetLemmatizer\n",
    "from nltk.stem import PorterStemmer\n",
    "import string"
   ]
  },
  {
   "cell_type": "markdown",
   "metadata": {},
   "source": [
    "# Data Preprocessing"
   ]
  },
  {
   "cell_type": "markdown",
   "metadata": {},
   "source": [
    "## Dataset"
   ]
  },
  {
   "cell_type": "code",
   "execution_count": 4,
   "metadata": {},
   "outputs": [],
   "source": [
    "# load 'Online Job Postings' Kaggle dataset\n",
    "df_job_postings_original = pd.read_csv('data/online-job-postings-dataset.csv')"
   ]
  },
  {
   "cell_type": "code",
   "execution_count": 5,
   "metadata": {},
   "outputs": [],
   "source": [
    "# extract useful columns for the career profile\n",
    "df_job_postings = df_job_postings_original[[\n",
    "    'jobpost', # the original job post is included just in case other columns do not contain enough information\n",
    "    'Title', 'JobDescription', 'JobRequirment',\n",
    "    'RequiredQual',\n",
    "    'ApplicationP'\n",
    "]]\n",
    "\n",
    "# drop any row that does not have a proper 'Title' or 'JobDescription'\n",
    "df_job_postings = df_job_postings[df_job_postings['Title'].notna()]\n",
    "df_job_postings = df_job_postings[df_job_postings['JobDescription'].notna()].reset_index(drop=True)"
   ]
  },
  {
   "cell_type": "code",
   "execution_count": 6,
   "metadata": {},
   "outputs": [
    {
     "data": {
      "text/html": [
       "<div>\n",
       "<style scoped>\n",
       "    .dataframe tbody tr th:only-of-type {\n",
       "        vertical-align: middle;\n",
       "    }\n",
       "\n",
       "    .dataframe tbody tr th {\n",
       "        vertical-align: top;\n",
       "    }\n",
       "\n",
       "    .dataframe thead th {\n",
       "        text-align: right;\n",
       "    }\n",
       "</style>\n",
       "<table border=\"1\" class=\"dataframe\">\n",
       "  <thead>\n",
       "    <tr style=\"text-align: right;\">\n",
       "      <th></th>\n",
       "      <th>jobpost</th>\n",
       "      <th>Title</th>\n",
       "      <th>JobDescription</th>\n",
       "      <th>JobRequirment</th>\n",
       "      <th>RequiredQual</th>\n",
       "      <th>ApplicationP</th>\n",
       "    </tr>\n",
       "  </thead>\n",
       "  <tbody>\n",
       "    <tr>\n",
       "      <th>0</th>\n",
       "      <td>AMERIA Investment Consulting Company\\r\\nJOB TI...</td>\n",
       "      <td>Chief Financial Officer</td>\n",
       "      <td>AMERIA Investment Consulting Company is seekin...</td>\n",
       "      <td>- Supervises financial management and administ...</td>\n",
       "      <td>To perform this job successfully, an\\r\\nindivi...</td>\n",
       "      <td>To apply for this position, please submit a\\r\\...</td>\n",
       "    </tr>\n",
       "    <tr>\n",
       "      <th>1</th>\n",
       "      <td>Caucasus Environmental NGO Network (CENN)\\r\\nJ...</td>\n",
       "      <td>Country Coordinator</td>\n",
       "      <td>Public outreach and strengthening of a growing...</td>\n",
       "      <td>- Working with the Country Director to provide...</td>\n",
       "      <td>- Degree in environmentally related field, or ...</td>\n",
       "      <td>Please send resume or CV toursula.kazarian@......</td>\n",
       "    </tr>\n",
       "    <tr>\n",
       "      <th>2</th>\n",
       "      <td>Manoff Group\\r\\nJOB TITLE:  BCC Specialist\\r\\n...</td>\n",
       "      <td>BCC Specialist</td>\n",
       "      <td>The LEAD (Local Enhancement and Development fo...</td>\n",
       "      <td>- Identify gaps in knowledge and overseeing in...</td>\n",
       "      <td>- Advanced degree in public health, social sci...</td>\n",
       "      <td>Please send cover letter and resume to Amy\\r\\n...</td>\n",
       "    </tr>\n",
       "    <tr>\n",
       "      <th>3</th>\n",
       "      <td>Boutique \"Appollo\"\\r\\nJOB TITLE:  Saleswoman\\r...</td>\n",
       "      <td>Saleswoman</td>\n",
       "      <td>Saleswoman will sell menswear and accessories.</td>\n",
       "      <td>NaN</td>\n",
       "      <td>- Candidates should be female, 20-30 years old...</td>\n",
       "      <td>For further information, please contact Irina\\...</td>\n",
       "    </tr>\n",
       "    <tr>\n",
       "      <th>4</th>\n",
       "      <td>OSI Assistance Foundation - Armenian Branch Of...</td>\n",
       "      <td>Chief Accountant/ Finance Assistant</td>\n",
       "      <td>The Armenian Branch Office of the Open Society...</td>\n",
       "      <td>NaN</td>\n",
       "      <td>- University degree in finance/ accounting; \\r...</td>\n",
       "      <td>For submission of applications/ CVs, please\\r\\...</td>\n",
       "    </tr>\n",
       "    <tr>\n",
       "      <th>...</th>\n",
       "      <td>...</td>\n",
       "      <td>...</td>\n",
       "      <td>...</td>\n",
       "      <td>...</td>\n",
       "      <td>...</td>\n",
       "      <td>...</td>\n",
       "    </tr>\n",
       "    <tr>\n",
       "      <th>15085</th>\n",
       "      <td>Macadamian AR CJSC\\r\\n\\r\\n\\r\\nTITLE:  .NET Dev...</td>\n",
       "      <td>.NET Developer</td>\n",
       "      <td>The incumbent will develop software applicatio...</td>\n",
       "      <td>- Participate in all the steps of the software...</td>\n",
       "      <td>- 2 - 5 years of experience in software develo...</td>\n",
       "      <td>To apply for this position, please email your ...</td>\n",
       "    </tr>\n",
       "    <tr>\n",
       "      <th>15086</th>\n",
       "      <td>\"Transport PIU\" State Institution of the RA Mi...</td>\n",
       "      <td>Deputy Director</td>\n",
       "      <td>The incumbent will be responsible for supporti...</td>\n",
       "      <td>- Support the Director in organizing the activ...</td>\n",
       "      <td>- University degree in Civil Engineering, Econ...</td>\n",
       "      <td>Interested candidates are asked to submit the\\...</td>\n",
       "    </tr>\n",
       "    <tr>\n",
       "      <th>15087</th>\n",
       "      <td>Technolinguistics NGO\\r\\n\\r\\n\\r\\nTITLE:  Senio...</td>\n",
       "      <td>Senior Creative UX/ UI Designer</td>\n",
       "      <td>A tech startup of Technolinguistics based in N...</td>\n",
       "      <td>- Work closely with product and business teams...</td>\n",
       "      <td>- At least 5 years of experience in Interface/...</td>\n",
       "      <td>To apply for this position, please send your\\r...</td>\n",
       "    </tr>\n",
       "    <tr>\n",
       "      <th>15088</th>\n",
       "      <td>San Lazzaro   LLC\\r\\n\\r\\n\\r\\nTITLE:  Head of O...</td>\n",
       "      <td>Head of Online Sales Department</td>\n",
       "      <td>San Lazzaro LLC is looking for a well-experien...</td>\n",
       "      <td>- Handle the project activites of the online s...</td>\n",
       "      <td>- At least 1 year of experience in online sale...</td>\n",
       "      <td>Interested candidates can send their CVs to:\\r...</td>\n",
       "    </tr>\n",
       "    <tr>\n",
       "      <th>15089</th>\n",
       "      <td>\"Kamurj\" UCO CJSC\\r\\n\\r\\n\\r\\nTITLE:  Lawyer in...</td>\n",
       "      <td>Lawyer in Legal Department</td>\n",
       "      <td>\"Kamurj\" UCO CJSC is looking for a Lawyer in L...</td>\n",
       "      <td>- Properly provide internal legal services of ...</td>\n",
       "      <td>- Higher legal education; Master's degree is a...</td>\n",
       "      <td>All qualified applicants are encouraged to\\r\\n...</td>\n",
       "    </tr>\n",
       "  </tbody>\n",
       "</table>\n",
       "<p>15090 rows × 6 columns</p>\n",
       "</div>"
      ],
      "text/plain": [
       "                                                 jobpost  \\\n",
       "0      AMERIA Investment Consulting Company\\r\\nJOB TI...   \n",
       "1      Caucasus Environmental NGO Network (CENN)\\r\\nJ...   \n",
       "2      Manoff Group\\r\\nJOB TITLE:  BCC Specialist\\r\\n...   \n",
       "3      Boutique \"Appollo\"\\r\\nJOB TITLE:  Saleswoman\\r...   \n",
       "4      OSI Assistance Foundation - Armenian Branch Of...   \n",
       "...                                                  ...   \n",
       "15085  Macadamian AR CJSC\\r\\n\\r\\n\\r\\nTITLE:  .NET Dev...   \n",
       "15086  \"Transport PIU\" State Institution of the RA Mi...   \n",
       "15087  Technolinguistics NGO\\r\\n\\r\\n\\r\\nTITLE:  Senio...   \n",
       "15088  San Lazzaro   LLC\\r\\n\\r\\n\\r\\nTITLE:  Head of O...   \n",
       "15089  \"Kamurj\" UCO CJSC\\r\\n\\r\\n\\r\\nTITLE:  Lawyer in...   \n",
       "\n",
       "                                     Title  \\\n",
       "0                  Chief Financial Officer   \n",
       "1                      Country Coordinator   \n",
       "2                           BCC Specialist   \n",
       "3                               Saleswoman   \n",
       "4      Chief Accountant/ Finance Assistant   \n",
       "...                                    ...   \n",
       "15085                       .NET Developer   \n",
       "15086                      Deputy Director   \n",
       "15087      Senior Creative UX/ UI Designer   \n",
       "15088      Head of Online Sales Department   \n",
       "15089           Lawyer in Legal Department   \n",
       "\n",
       "                                          JobDescription  \\\n",
       "0      AMERIA Investment Consulting Company is seekin...   \n",
       "1      Public outreach and strengthening of a growing...   \n",
       "2      The LEAD (Local Enhancement and Development fo...   \n",
       "3         Saleswoman will sell menswear and accessories.   \n",
       "4      The Armenian Branch Office of the Open Society...   \n",
       "...                                                  ...   \n",
       "15085  The incumbent will develop software applicatio...   \n",
       "15086  The incumbent will be responsible for supporti...   \n",
       "15087  A tech startup of Technolinguistics based in N...   \n",
       "15088  San Lazzaro LLC is looking for a well-experien...   \n",
       "15089  \"Kamurj\" UCO CJSC is looking for a Lawyer in L...   \n",
       "\n",
       "                                           JobRequirment  \\\n",
       "0      - Supervises financial management and administ...   \n",
       "1      - Working with the Country Director to provide...   \n",
       "2      - Identify gaps in knowledge and overseeing in...   \n",
       "3                                                    NaN   \n",
       "4                                                    NaN   \n",
       "...                                                  ...   \n",
       "15085  - Participate in all the steps of the software...   \n",
       "15086  - Support the Director in organizing the activ...   \n",
       "15087  - Work closely with product and business teams...   \n",
       "15088  - Handle the project activites of the online s...   \n",
       "15089  - Properly provide internal legal services of ...   \n",
       "\n",
       "                                            RequiredQual  \\\n",
       "0      To perform this job successfully, an\\r\\nindivi...   \n",
       "1      - Degree in environmentally related field, or ...   \n",
       "2      - Advanced degree in public health, social sci...   \n",
       "3      - Candidates should be female, 20-30 years old...   \n",
       "4      - University degree in finance/ accounting; \\r...   \n",
       "...                                                  ...   \n",
       "15085  - 2 - 5 years of experience in software develo...   \n",
       "15086  - University degree in Civil Engineering, Econ...   \n",
       "15087  - At least 5 years of experience in Interface/...   \n",
       "15088  - At least 1 year of experience in online sale...   \n",
       "15089  - Higher legal education; Master's degree is a...   \n",
       "\n",
       "                                            ApplicationP  \n",
       "0      To apply for this position, please submit a\\r\\...  \n",
       "1      Please send resume or CV toursula.kazarian@......  \n",
       "2      Please send cover letter and resume to Amy\\r\\n...  \n",
       "3      For further information, please contact Irina\\...  \n",
       "4      For submission of applications/ CVs, please\\r\\...  \n",
       "...                                                  ...  \n",
       "15085  To apply for this position, please email your ...  \n",
       "15086  Interested candidates are asked to submit the\\...  \n",
       "15087  To apply for this position, please send your\\r...  \n",
       "15088  Interested candidates can send their CVs to:\\r...  \n",
       "15089  All qualified applicants are encouraged to\\r\\n...  \n",
       "\n",
       "[15090 rows x 6 columns]"
      ]
     },
     "execution_count": 6,
     "metadata": {},
     "output_type": "execute_result"
    }
   ],
   "source": [
    "df_job_postings"
   ]
  },
  {
   "cell_type": "markdown",
   "metadata": {},
   "source": [
    "## Dataset Label Aquisition\n",
    "Many of the job labels are very similar but not entirely the same, so we have to group these similar job titles together to form a more general job category."
   ]
  },
  {
   "cell_type": "code",
   "execution_count": 37,
   "metadata": {},
   "outputs": [],
   "source": [
    "# helper function\n",
    "# return: LIST of tokenized words\n",
    "def preprocess(text, with_stopwords=False, lemmatize=True, stemming=False):\n",
    "    text = text.lower()\n",
    "    words = word_tokenize(text)\n",
    "    words = [word for word in words if word.isalpha()]\n",
    "    if with_stopwords==False:\n",
    "        stop_words = set(stopwords.words('english'))\n",
    "        words = [word for word in words if not word in stop_words]\n",
    "    if lemmatize==True:\n",
    "        lemmatizer=WordNetLemmatizer()\n",
    "        words = [lemmatizer.lemmatize(word) for word in words]\n",
    "    if stemming==True:\n",
    "        stemmer=PorterStemmer()\n",
    "        words = [stemmer.stem(word) for word in words]\n",
    "\n",
    "    return words"
   ]
  },
  {
   "cell_type": "code",
   "execution_count": 7,
   "metadata": {},
   "outputs": [],
   "source": [
    "# preprocess and tokenize all the job titles\n",
    "job_titles = df_job_postings['Title']\n",
    "job_titles_tokenized = job_titles.apply(preprocess)"
   ]
  },
  {
   "cell_type": "code",
   "execution_count": 8,
   "metadata": {},
   "outputs": [],
   "source": [
    "import gensim.downloader as api\n",
    "\n",
    "# load a pretrained word2vec model\n",
    "model_w2v = api.load('word2vec-google-news-300')"
   ]
  },
  {
   "cell_type": "code",
   "execution_count": 9,
   "metadata": {},
   "outputs": [],
   "source": [
    "# create document vectors for word embedding via average\n",
    "def vectorize_document(documents, model):\n",
    "    '''\n",
    "    Generate vectors of a list of documents using a word embedding model\n",
    "    '''\n",
    "\n",
    "    features = []\n",
    "\n",
    "    for tokens in documents:\n",
    "        zero_vector = np.zeros(model.vector_size)\n",
    "        vectors = []\n",
    "        for token in tokens:\n",
    "            if token in model:\n",
    "                try:\n",
    "                    vectors.append(model[token])\n",
    "                except KeyError: continue\n",
    "        if vectors:\n",
    "            vectors = np.asarray(vectors)\n",
    "            avg_vec = vectors.mean(axis=0)\n",
    "            features.append(avg_vec)\n",
    "        else:\n",
    "            features.append(zero_vector)\n",
    "    \n",
    "    return features"
   ]
  },
  {
   "cell_type": "code",
   "execution_count": 10,
   "metadata": {},
   "outputs": [],
   "source": [
    "# vectorize each job title via average\n",
    "vectorized_job_titles = vectorize_document(job_titles_tokenized, model=model_w2v)"
   ]
  },
  {
   "cell_type": "code",
   "execution_count": 119,
   "metadata": {},
   "outputs": [],
   "source": [
    "from sklearn.cluster import MiniBatchKMeans\n",
    "from sklearn.metrics import silhouette_samples, silhouette_score\n",
    "\n",
    "def mbkmeans_clusters(\n",
    "\tX, \n",
    "    k, \n",
    "    mb, \n",
    "    print_silhouette_values, \n",
    "):\n",
    "    \"\"\"Generate clusters and print Silhouette metrics using MBKmeans\n",
    "\n",
    "    Args:\n",
    "        X: Matrix of features.\n",
    "        k: Number of clusters.\n",
    "        mb: Size of mini-batches.\n",
    "        print_silhouette_values: Print silhouette values per cluster.\n",
    "\n",
    "    Returns:\n",
    "        Trained clustering model and labels based on X.\n",
    "    \"\"\"\n",
    "    km = MiniBatchKMeans(n_clusters=k, batch_size=mb).fit(X)\n",
    "    print(f\"For n_clusters = {k}\")\n",
    "    s_score = silhouette_score(X, km.labels_)\n",
    "    print(f\"Silhouette coefficient: {silhouette_score(X, km.labels_):0.2f}\")\n",
    "    print(f\"Inertia:{km.inertia_}\")\n",
    "\n",
    "    if print_silhouette_values:\n",
    "        sample_silhouette_values = silhouette_samples(X, km.labels_)\n",
    "        print(f\"Silhouette values:\")\n",
    "        silhouette_values = []\n",
    "        for i in range(k):\n",
    "            cluster_silhouette_values = sample_silhouette_values[km.labels_ == i]\n",
    "            silhouette_values.append(\n",
    "                (\n",
    "                    i,\n",
    "                    cluster_silhouette_values.shape[0],\n",
    "                    cluster_silhouette_values.mean(),\n",
    "                    cluster_silhouette_values.min(),\n",
    "                    cluster_silhouette_values.max(),\n",
    "                )\n",
    "            )\n",
    "        silhouette_values = sorted(\n",
    "            silhouette_values, key=lambda tup: tup[2], reverse=True\n",
    "        )\n",
    "        for s in silhouette_values:\n",
    "            print(\n",
    "                f\"    Cluster {s[0]}: Size:{s[1]} | Avg:{s[2]:.2f} | Min:{s[3]:.2f} | Max: {s[4]:.2f}\"\n",
    "            )\n",
    "    return km, km.labels_, s_score"
   ]
  },
  {
   "cell_type": "code",
   "execution_count": 129,
   "metadata": {},
   "outputs": [
    {
     "name": "stderr",
     "output_type": "stream",
     "text": [
      "c:\\Users\\Kackie\\anaconda3\\envs\\DataScience\\lib\\site-packages\\sklearn\\cluster\\_kmeans.py:1044: UserWarning: MiniBatchKMeans is known to have a memory leak on Windows with MKL, when there are less chunks than available threads. You can prevent it by setting batch_size >= 4096 or by setting the environment variable OMP_NUM_THREADS=2\n",
      "  \"MiniBatchKMeans is known to have a memory leak on \"\n"
     ]
    },
    {
     "name": "stdout",
     "output_type": "stream",
     "text": [
      "For n_clusters = 2\n",
      "Silhouette coefficient: 0.11\n",
      "Inertia:47355.33056837851\n"
     ]
    },
    {
     "name": "stderr",
     "output_type": "stream",
     "text": [
      "c:\\Users\\Kackie\\anaconda3\\envs\\DataScience\\lib\\site-packages\\sklearn\\cluster\\_kmeans.py:1044: UserWarning: MiniBatchKMeans is known to have a memory leak on Windows with MKL, when there are less chunks than available threads. You can prevent it by setting batch_size >= 4096 or by setting the environment variable OMP_NUM_THREADS=2\n",
      "  \"MiniBatchKMeans is known to have a memory leak on \"\n"
     ]
    },
    {
     "name": "stdout",
     "output_type": "stream",
     "text": [
      "For n_clusters = 3\n",
      "Silhouette coefficient: 0.08\n",
      "Inertia:45219.41286506242\n"
     ]
    },
    {
     "name": "stderr",
     "output_type": "stream",
     "text": [
      "c:\\Users\\Kackie\\anaconda3\\envs\\DataScience\\lib\\site-packages\\sklearn\\cluster\\_kmeans.py:1044: UserWarning: MiniBatchKMeans is known to have a memory leak on Windows with MKL, when there are less chunks than available threads. You can prevent it by setting batch_size >= 4096 or by setting the environment variable OMP_NUM_THREADS=2\n",
      "  \"MiniBatchKMeans is known to have a memory leak on \"\n"
     ]
    },
    {
     "name": "stdout",
     "output_type": "stream",
     "text": [
      "For n_clusters = 4\n",
      "Silhouette coefficient: 0.10\n",
      "Inertia:46159.392230315374\n"
     ]
    },
    {
     "name": "stderr",
     "output_type": "stream",
     "text": [
      "c:\\Users\\Kackie\\anaconda3\\envs\\DataScience\\lib\\site-packages\\sklearn\\cluster\\_kmeans.py:1044: UserWarning: MiniBatchKMeans is known to have a memory leak on Windows with MKL, when there are less chunks than available threads. You can prevent it by setting batch_size >= 4096 or by setting the environment variable OMP_NUM_THREADS=2\n",
      "  \"MiniBatchKMeans is known to have a memory leak on \"\n"
     ]
    },
    {
     "name": "stdout",
     "output_type": "stream",
     "text": [
      "For n_clusters = 5\n",
      "Silhouette coefficient: 0.10\n",
      "Inertia:41078.6230571767\n"
     ]
    },
    {
     "name": "stderr",
     "output_type": "stream",
     "text": [
      "c:\\Users\\Kackie\\anaconda3\\envs\\DataScience\\lib\\site-packages\\sklearn\\cluster\\_kmeans.py:1044: UserWarning: MiniBatchKMeans is known to have a memory leak on Windows with MKL, when there are less chunks than available threads. You can prevent it by setting batch_size >= 4096 or by setting the environment variable OMP_NUM_THREADS=2\n",
      "  \"MiniBatchKMeans is known to have a memory leak on \"\n"
     ]
    },
    {
     "name": "stdout",
     "output_type": "stream",
     "text": [
      "For n_clusters = 6\n",
      "Silhouette coefficient: 0.08\n",
      "Inertia:41284.19105595874\n"
     ]
    },
    {
     "name": "stderr",
     "output_type": "stream",
     "text": [
      "c:\\Users\\Kackie\\anaconda3\\envs\\DataScience\\lib\\site-packages\\sklearn\\cluster\\_kmeans.py:1044: UserWarning: MiniBatchKMeans is known to have a memory leak on Windows with MKL, when there are less chunks than available threads. You can prevent it by setting batch_size >= 4096 or by setting the environment variable OMP_NUM_THREADS=2\n",
      "  \"MiniBatchKMeans is known to have a memory leak on \"\n"
     ]
    },
    {
     "name": "stdout",
     "output_type": "stream",
     "text": [
      "For n_clusters = 7\n",
      "Silhouette coefficient: 0.10\n",
      "Inertia:39491.229585416455\n",
      "For n_clusters = 8\n"
     ]
    },
    {
     "name": "stderr",
     "output_type": "stream",
     "text": [
      "c:\\Users\\Kackie\\anaconda3\\envs\\DataScience\\lib\\site-packages\\sklearn\\cluster\\_kmeans.py:1044: UserWarning: MiniBatchKMeans is known to have a memory leak on Windows with MKL, when there are less chunks than available threads. You can prevent it by setting batch_size >= 4096 or by setting the environment variable OMP_NUM_THREADS=2\n",
      "  \"MiniBatchKMeans is known to have a memory leak on \"\n"
     ]
    },
    {
     "name": "stdout",
     "output_type": "stream",
     "text": [
      "Silhouette coefficient: 0.09\n",
      "Inertia:39313.72530811372\n"
     ]
    },
    {
     "name": "stderr",
     "output_type": "stream",
     "text": [
      "c:\\Users\\Kackie\\anaconda3\\envs\\DataScience\\lib\\site-packages\\sklearn\\cluster\\_kmeans.py:1044: UserWarning: MiniBatchKMeans is known to have a memory leak on Windows with MKL, when there are less chunks than available threads. You can prevent it by setting batch_size >= 4096 or by setting the environment variable OMP_NUM_THREADS=2\n",
      "  \"MiniBatchKMeans is known to have a memory leak on \"\n"
     ]
    },
    {
     "name": "stdout",
     "output_type": "stream",
     "text": [
      "For n_clusters = 9\n",
      "Silhouette coefficient: 0.10\n",
      "Inertia:37386.23928683061\n"
     ]
    },
    {
     "name": "stderr",
     "output_type": "stream",
     "text": [
      "c:\\Users\\Kackie\\anaconda3\\envs\\DataScience\\lib\\site-packages\\sklearn\\cluster\\_kmeans.py:1044: UserWarning: MiniBatchKMeans is known to have a memory leak on Windows with MKL, when there are less chunks than available threads. You can prevent it by setting batch_size >= 4096 or by setting the environment variable OMP_NUM_THREADS=2\n",
      "  \"MiniBatchKMeans is known to have a memory leak on \"\n"
     ]
    },
    {
     "name": "stdout",
     "output_type": "stream",
     "text": [
      "For n_clusters = 10\n",
      "Silhouette coefficient: 0.12\n",
      "Inertia:36508.161114071234\n"
     ]
    },
    {
     "name": "stderr",
     "output_type": "stream",
     "text": [
      "c:\\Users\\Kackie\\anaconda3\\envs\\DataScience\\lib\\site-packages\\sklearn\\cluster\\_kmeans.py:1044: UserWarning: MiniBatchKMeans is known to have a memory leak on Windows with MKL, when there are less chunks than available threads. You can prevent it by setting batch_size >= 4096 or by setting the environment variable OMP_NUM_THREADS=2\n",
      "  \"MiniBatchKMeans is known to have a memory leak on \"\n"
     ]
    },
    {
     "name": "stdout",
     "output_type": "stream",
     "text": [
      "For n_clusters = 11\n",
      "Silhouette coefficient: 0.11\n",
      "Inertia:36246.245810667715\n",
      "For n_clusters = 12\n"
     ]
    },
    {
     "name": "stderr",
     "output_type": "stream",
     "text": [
      "c:\\Users\\Kackie\\anaconda3\\envs\\DataScience\\lib\\site-packages\\sklearn\\cluster\\_kmeans.py:1044: UserWarning: MiniBatchKMeans is known to have a memory leak on Windows with MKL, when there are less chunks than available threads. You can prevent it by setting batch_size >= 4096 or by setting the environment variable OMP_NUM_THREADS=2\n",
      "  \"MiniBatchKMeans is known to have a memory leak on \"\n"
     ]
    },
    {
     "name": "stdout",
     "output_type": "stream",
     "text": [
      "Silhouette coefficient: 0.09\n",
      "Inertia:35462.37160719347\n"
     ]
    },
    {
     "name": "stderr",
     "output_type": "stream",
     "text": [
      "c:\\Users\\Kackie\\anaconda3\\envs\\DataScience\\lib\\site-packages\\sklearn\\cluster\\_kmeans.py:1044: UserWarning: MiniBatchKMeans is known to have a memory leak on Windows with MKL, when there are less chunks than available threads. You can prevent it by setting batch_size >= 4096 or by setting the environment variable OMP_NUM_THREADS=2\n",
      "  \"MiniBatchKMeans is known to have a memory leak on \"\n"
     ]
    },
    {
     "name": "stdout",
     "output_type": "stream",
     "text": [
      "For n_clusters = 13\n",
      "Silhouette coefficient: 0.07\n",
      "Inertia:35818.891595784815\n",
      "For n_clusters = 14\n"
     ]
    },
    {
     "name": "stderr",
     "output_type": "stream",
     "text": [
      "c:\\Users\\Kackie\\anaconda3\\envs\\DataScience\\lib\\site-packages\\sklearn\\cluster\\_kmeans.py:1044: UserWarning: MiniBatchKMeans is known to have a memory leak on Windows with MKL, when there are less chunks than available threads. You can prevent it by setting batch_size >= 4096 or by setting the environment variable OMP_NUM_THREADS=2\n",
      "  \"MiniBatchKMeans is known to have a memory leak on \"\n"
     ]
    },
    {
     "name": "stdout",
     "output_type": "stream",
     "text": [
      "Silhouette coefficient: 0.10\n",
      "Inertia:35333.942953705504\n"
     ]
    },
    {
     "name": "stderr",
     "output_type": "stream",
     "text": [
      "c:\\Users\\Kackie\\anaconda3\\envs\\DataScience\\lib\\site-packages\\sklearn\\cluster\\_kmeans.py:1044: UserWarning: MiniBatchKMeans is known to have a memory leak on Windows with MKL, when there are less chunks than available threads. You can prevent it by setting batch_size >= 4096 or by setting the environment variable OMP_NUM_THREADS=2\n",
      "  \"MiniBatchKMeans is known to have a memory leak on \"\n"
     ]
    },
    {
     "name": "stdout",
     "output_type": "stream",
     "text": [
      "For n_clusters = 15\n",
      "Silhouette coefficient: 0.10\n",
      "Inertia:33753.229704006655\n"
     ]
    },
    {
     "name": "stderr",
     "output_type": "stream",
     "text": [
      "c:\\Users\\Kackie\\anaconda3\\envs\\DataScience\\lib\\site-packages\\sklearn\\cluster\\_kmeans.py:1044: UserWarning: MiniBatchKMeans is known to have a memory leak on Windows with MKL, when there are less chunks than available threads. You can prevent it by setting batch_size >= 4096 or by setting the environment variable OMP_NUM_THREADS=2\n",
      "  \"MiniBatchKMeans is known to have a memory leak on \"\n"
     ]
    },
    {
     "name": "stdout",
     "output_type": "stream",
     "text": [
      "For n_clusters = 16\n",
      "Silhouette coefficient: 0.12\n",
      "Inertia:33199.08018566824\n"
     ]
    },
    {
     "name": "stderr",
     "output_type": "stream",
     "text": [
      "c:\\Users\\Kackie\\anaconda3\\envs\\DataScience\\lib\\site-packages\\sklearn\\cluster\\_kmeans.py:1044: UserWarning: MiniBatchKMeans is known to have a memory leak on Windows with MKL, when there are less chunks than available threads. You can prevent it by setting batch_size >= 4096 or by setting the environment variable OMP_NUM_THREADS=2\n",
      "  \"MiniBatchKMeans is known to have a memory leak on \"\n"
     ]
    },
    {
     "name": "stdout",
     "output_type": "stream",
     "text": [
      "For n_clusters = 17\n",
      "Silhouette coefficient: 0.11\n",
      "Inertia:32839.19063098314\n",
      "For n_clusters = 18\n"
     ]
    },
    {
     "name": "stderr",
     "output_type": "stream",
     "text": [
      "c:\\Users\\Kackie\\anaconda3\\envs\\DataScience\\lib\\site-packages\\sklearn\\cluster\\_kmeans.py:1044: UserWarning: MiniBatchKMeans is known to have a memory leak on Windows with MKL, when there are less chunks than available threads. You can prevent it by setting batch_size >= 4096 or by setting the environment variable OMP_NUM_THREADS=2\n",
      "  \"MiniBatchKMeans is known to have a memory leak on \"\n"
     ]
    },
    {
     "name": "stdout",
     "output_type": "stream",
     "text": [
      "Silhouette coefficient: 0.10\n",
      "Inertia:33416.155371644825\n"
     ]
    },
    {
     "name": "stderr",
     "output_type": "stream",
     "text": [
      "c:\\Users\\Kackie\\anaconda3\\envs\\DataScience\\lib\\site-packages\\sklearn\\cluster\\_kmeans.py:1044: UserWarning: MiniBatchKMeans is known to have a memory leak on Windows with MKL, when there are less chunks than available threads. You can prevent it by setting batch_size >= 4096 or by setting the environment variable OMP_NUM_THREADS=2\n",
      "  \"MiniBatchKMeans is known to have a memory leak on \"\n"
     ]
    },
    {
     "name": "stdout",
     "output_type": "stream",
     "text": [
      "For n_clusters = 19\n",
      "Silhouette coefficient: 0.12\n",
      "Inertia:31991.93542250681\n"
     ]
    },
    {
     "name": "stderr",
     "output_type": "stream",
     "text": [
      "c:\\Users\\Kackie\\anaconda3\\envs\\DataScience\\lib\\site-packages\\sklearn\\cluster\\_kmeans.py:1044: UserWarning: MiniBatchKMeans is known to have a memory leak on Windows with MKL, when there are less chunks than available threads. You can prevent it by setting batch_size >= 4096 or by setting the environment variable OMP_NUM_THREADS=2\n",
      "  \"MiniBatchKMeans is known to have a memory leak on \"\n"
     ]
    },
    {
     "name": "stdout",
     "output_type": "stream",
     "text": [
      "For n_clusters = 20\n",
      "Silhouette coefficient: 0.14\n",
      "Inertia:30638.531176557957\n"
     ]
    },
    {
     "name": "stderr",
     "output_type": "stream",
     "text": [
      "c:\\Users\\Kackie\\anaconda3\\envs\\DataScience\\lib\\site-packages\\sklearn\\cluster\\_kmeans.py:1044: UserWarning: MiniBatchKMeans is known to have a memory leak on Windows with MKL, when there are less chunks than available threads. You can prevent it by setting batch_size >= 4096 or by setting the environment variable OMP_NUM_THREADS=2\n",
      "  \"MiniBatchKMeans is known to have a memory leak on \"\n"
     ]
    },
    {
     "name": "stdout",
     "output_type": "stream",
     "text": [
      "For n_clusters = 21\n",
      "Silhouette coefficient: 0.12\n",
      "Inertia:31134.537576138235\n"
     ]
    },
    {
     "name": "stderr",
     "output_type": "stream",
     "text": [
      "c:\\Users\\Kackie\\anaconda3\\envs\\DataScience\\lib\\site-packages\\sklearn\\cluster\\_kmeans.py:1044: UserWarning: MiniBatchKMeans is known to have a memory leak on Windows with MKL, when there are less chunks than available threads. You can prevent it by setting batch_size >= 4096 or by setting the environment variable OMP_NUM_THREADS=2\n",
      "  \"MiniBatchKMeans is known to have a memory leak on \"\n"
     ]
    },
    {
     "name": "stdout",
     "output_type": "stream",
     "text": [
      "For n_clusters = 22\n",
      "Silhouette coefficient: 0.11\n",
      "Inertia:31229.06161637942\n"
     ]
    },
    {
     "name": "stderr",
     "output_type": "stream",
     "text": [
      "c:\\Users\\Kackie\\anaconda3\\envs\\DataScience\\lib\\site-packages\\sklearn\\cluster\\_kmeans.py:1044: UserWarning: MiniBatchKMeans is known to have a memory leak on Windows with MKL, when there are less chunks than available threads. You can prevent it by setting batch_size >= 4096 or by setting the environment variable OMP_NUM_THREADS=2\n",
      "  \"MiniBatchKMeans is known to have a memory leak on \"\n"
     ]
    },
    {
     "name": "stdout",
     "output_type": "stream",
     "text": [
      "For n_clusters = 23\n",
      "Silhouette coefficient: 0.13\n",
      "Inertia:30302.53453673642\n"
     ]
    },
    {
     "name": "stderr",
     "output_type": "stream",
     "text": [
      "c:\\Users\\Kackie\\anaconda3\\envs\\DataScience\\lib\\site-packages\\sklearn\\cluster\\_kmeans.py:1044: UserWarning: MiniBatchKMeans is known to have a memory leak on Windows with MKL, when there are less chunks than available threads. You can prevent it by setting batch_size >= 4096 or by setting the environment variable OMP_NUM_THREADS=2\n",
      "  \"MiniBatchKMeans is known to have a memory leak on \"\n"
     ]
    },
    {
     "name": "stdout",
     "output_type": "stream",
     "text": [
      "For n_clusters = 24\n",
      "Silhouette coefficient: 0.13\n",
      "Inertia:30126.452438622906\n"
     ]
    },
    {
     "name": "stderr",
     "output_type": "stream",
     "text": [
      "c:\\Users\\Kackie\\anaconda3\\envs\\DataScience\\lib\\site-packages\\sklearn\\cluster\\_kmeans.py:1044: UserWarning: MiniBatchKMeans is known to have a memory leak on Windows with MKL, when there are less chunks than available threads. You can prevent it by setting batch_size >= 4096 or by setting the environment variable OMP_NUM_THREADS=2\n",
      "  \"MiniBatchKMeans is known to have a memory leak on \"\n"
     ]
    },
    {
     "name": "stdout",
     "output_type": "stream",
     "text": [
      "For n_clusters = 25\n",
      "Silhouette coefficient: 0.14\n",
      "Inertia:29256.136459844372\n",
      "For n_clusters = 26\n"
     ]
    },
    {
     "name": "stderr",
     "output_type": "stream",
     "text": [
      "c:\\Users\\Kackie\\anaconda3\\envs\\DataScience\\lib\\site-packages\\sklearn\\cluster\\_kmeans.py:1044: UserWarning: MiniBatchKMeans is known to have a memory leak on Windows with MKL, when there are less chunks than available threads. You can prevent it by setting batch_size >= 4096 or by setting the environment variable OMP_NUM_THREADS=2\n",
      "  \"MiniBatchKMeans is known to have a memory leak on \"\n"
     ]
    },
    {
     "name": "stdout",
     "output_type": "stream",
     "text": [
      "Silhouette coefficient: 0.13\n",
      "Inertia:29756.350084746144\n"
     ]
    },
    {
     "name": "stderr",
     "output_type": "stream",
     "text": [
      "c:\\Users\\Kackie\\anaconda3\\envs\\DataScience\\lib\\site-packages\\sklearn\\cluster\\_kmeans.py:1044: UserWarning: MiniBatchKMeans is known to have a memory leak on Windows with MKL, when there are less chunks than available threads. You can prevent it by setting batch_size >= 4096 or by setting the environment variable OMP_NUM_THREADS=2\n",
      "  \"MiniBatchKMeans is known to have a memory leak on \"\n"
     ]
    },
    {
     "name": "stdout",
     "output_type": "stream",
     "text": [
      "For n_clusters = 27\n",
      "Silhouette coefficient: 0.14\n",
      "Inertia:29011.708481526977\n"
     ]
    },
    {
     "name": "stderr",
     "output_type": "stream",
     "text": [
      "c:\\Users\\Kackie\\anaconda3\\envs\\DataScience\\lib\\site-packages\\sklearn\\cluster\\_kmeans.py:1044: UserWarning: MiniBatchKMeans is known to have a memory leak on Windows with MKL, when there are less chunks than available threads. You can prevent it by setting batch_size >= 4096 or by setting the environment variable OMP_NUM_THREADS=2\n",
      "  \"MiniBatchKMeans is known to have a memory leak on \"\n"
     ]
    },
    {
     "name": "stdout",
     "output_type": "stream",
     "text": [
      "For n_clusters = 28\n",
      "Silhouette coefficient: 0.15\n",
      "Inertia:28291.140014529083\n"
     ]
    },
    {
     "name": "stderr",
     "output_type": "stream",
     "text": [
      "c:\\Users\\Kackie\\anaconda3\\envs\\DataScience\\lib\\site-packages\\sklearn\\cluster\\_kmeans.py:1044: UserWarning: MiniBatchKMeans is known to have a memory leak on Windows with MKL, when there are less chunks than available threads. You can prevent it by setting batch_size >= 4096 or by setting the environment variable OMP_NUM_THREADS=2\n",
      "  \"MiniBatchKMeans is known to have a memory leak on \"\n"
     ]
    },
    {
     "name": "stdout",
     "output_type": "stream",
     "text": [
      "For n_clusters = 29\n",
      "Silhouette coefficient: 0.15\n",
      "Inertia:28420.956228570623\n"
     ]
    },
    {
     "name": "stderr",
     "output_type": "stream",
     "text": [
      "c:\\Users\\Kackie\\anaconda3\\envs\\DataScience\\lib\\site-packages\\sklearn\\cluster\\_kmeans.py:1044: UserWarning: MiniBatchKMeans is known to have a memory leak on Windows with MKL, when there are less chunks than available threads. You can prevent it by setting batch_size >= 4096 or by setting the environment variable OMP_NUM_THREADS=2\n",
      "  \"MiniBatchKMeans is known to have a memory leak on \"\n"
     ]
    },
    {
     "name": "stdout",
     "output_type": "stream",
     "text": [
      "For n_clusters = 30\n",
      "Silhouette coefficient: 0.15\n",
      "Inertia:28170.58724717598\n"
     ]
    },
    {
     "name": "stderr",
     "output_type": "stream",
     "text": [
      "c:\\Users\\Kackie\\anaconda3\\envs\\DataScience\\lib\\site-packages\\sklearn\\cluster\\_kmeans.py:1044: UserWarning: MiniBatchKMeans is known to have a memory leak on Windows with MKL, when there are less chunks than available threads. You can prevent it by setting batch_size >= 4096 or by setting the environment variable OMP_NUM_THREADS=2\n",
      "  \"MiniBatchKMeans is known to have a memory leak on \"\n"
     ]
    },
    {
     "name": "stdout",
     "output_type": "stream",
     "text": [
      "For n_clusters = 31\n",
      "Silhouette coefficient: 0.14\n",
      "Inertia:28287.958185862124\n"
     ]
    },
    {
     "name": "stderr",
     "output_type": "stream",
     "text": [
      "c:\\Users\\Kackie\\anaconda3\\envs\\DataScience\\lib\\site-packages\\sklearn\\cluster\\_kmeans.py:1044: UserWarning: MiniBatchKMeans is known to have a memory leak on Windows with MKL, when there are less chunks than available threads. You can prevent it by setting batch_size >= 4096 or by setting the environment variable OMP_NUM_THREADS=2\n",
      "  \"MiniBatchKMeans is known to have a memory leak on \"\n"
     ]
    },
    {
     "name": "stdout",
     "output_type": "stream",
     "text": [
      "For n_clusters = 32\n",
      "Silhouette coefficient: 0.15\n",
      "Inertia:27856.992256024045\n"
     ]
    },
    {
     "name": "stderr",
     "output_type": "stream",
     "text": [
      "c:\\Users\\Kackie\\anaconda3\\envs\\DataScience\\lib\\site-packages\\sklearn\\cluster\\_kmeans.py:1044: UserWarning: MiniBatchKMeans is known to have a memory leak on Windows with MKL, when there are less chunks than available threads. You can prevent it by setting batch_size >= 4096 or by setting the environment variable OMP_NUM_THREADS=2\n",
      "  \"MiniBatchKMeans is known to have a memory leak on \"\n"
     ]
    },
    {
     "name": "stdout",
     "output_type": "stream",
     "text": [
      "For n_clusters = 33\n",
      "Silhouette coefficient: 0.14\n",
      "Inertia:27783.831885627522\n"
     ]
    },
    {
     "name": "stderr",
     "output_type": "stream",
     "text": [
      "c:\\Users\\Kackie\\anaconda3\\envs\\DataScience\\lib\\site-packages\\sklearn\\cluster\\_kmeans.py:1044: UserWarning: MiniBatchKMeans is known to have a memory leak on Windows with MKL, when there are less chunks than available threads. You can prevent it by setting batch_size >= 4096 or by setting the environment variable OMP_NUM_THREADS=2\n",
      "  \"MiniBatchKMeans is known to have a memory leak on \"\n"
     ]
    },
    {
     "name": "stdout",
     "output_type": "stream",
     "text": [
      "For n_clusters = 34\n",
      "Silhouette coefficient: 0.15\n",
      "Inertia:27023.95202486168\n"
     ]
    },
    {
     "name": "stderr",
     "output_type": "stream",
     "text": [
      "c:\\Users\\Kackie\\anaconda3\\envs\\DataScience\\lib\\site-packages\\sklearn\\cluster\\_kmeans.py:1044: UserWarning: MiniBatchKMeans is known to have a memory leak on Windows with MKL, when there are less chunks than available threads. You can prevent it by setting batch_size >= 4096 or by setting the environment variable OMP_NUM_THREADS=2\n",
      "  \"MiniBatchKMeans is known to have a memory leak on \"\n"
     ]
    },
    {
     "name": "stdout",
     "output_type": "stream",
     "text": [
      "For n_clusters = 35\n",
      "Silhouette coefficient: 0.17\n",
      "Inertia:26509.271990037414\n"
     ]
    },
    {
     "name": "stderr",
     "output_type": "stream",
     "text": [
      "c:\\Users\\Kackie\\anaconda3\\envs\\DataScience\\lib\\site-packages\\sklearn\\cluster\\_kmeans.py:1044: UserWarning: MiniBatchKMeans is known to have a memory leak on Windows with MKL, when there are less chunks than available threads. You can prevent it by setting batch_size >= 4096 or by setting the environment variable OMP_NUM_THREADS=2\n",
      "  \"MiniBatchKMeans is known to have a memory leak on \"\n"
     ]
    },
    {
     "name": "stdout",
     "output_type": "stream",
     "text": [
      "For n_clusters = 36\n",
      "Silhouette coefficient: 0.15\n",
      "Inertia:26759.416664326367\n",
      "For n_clusters = 37\n"
     ]
    },
    {
     "name": "stderr",
     "output_type": "stream",
     "text": [
      "c:\\Users\\Kackie\\anaconda3\\envs\\DataScience\\lib\\site-packages\\sklearn\\cluster\\_kmeans.py:1044: UserWarning: MiniBatchKMeans is known to have a memory leak on Windows with MKL, when there are less chunks than available threads. You can prevent it by setting batch_size >= 4096 or by setting the environment variable OMP_NUM_THREADS=2\n",
      "  \"MiniBatchKMeans is known to have a memory leak on \"\n"
     ]
    },
    {
     "name": "stdout",
     "output_type": "stream",
     "text": [
      "Silhouette coefficient: 0.15\n",
      "Inertia:26789.472675943696\n"
     ]
    },
    {
     "name": "stderr",
     "output_type": "stream",
     "text": [
      "c:\\Users\\Kackie\\anaconda3\\envs\\DataScience\\lib\\site-packages\\sklearn\\cluster\\_kmeans.py:1044: UserWarning: MiniBatchKMeans is known to have a memory leak on Windows with MKL, when there are less chunks than available threads. You can prevent it by setting batch_size >= 4096 or by setting the environment variable OMP_NUM_THREADS=2\n",
      "  \"MiniBatchKMeans is known to have a memory leak on \"\n"
     ]
    },
    {
     "name": "stdout",
     "output_type": "stream",
     "text": [
      "For n_clusters = 38\n",
      "Silhouette coefficient: 0.15\n",
      "Inertia:26419.898203914236\n"
     ]
    },
    {
     "name": "stderr",
     "output_type": "stream",
     "text": [
      "c:\\Users\\Kackie\\anaconda3\\envs\\DataScience\\lib\\site-packages\\sklearn\\cluster\\_kmeans.py:1044: UserWarning: MiniBatchKMeans is known to have a memory leak on Windows with MKL, when there are less chunks than available threads. You can prevent it by setting batch_size >= 4096 or by setting the environment variable OMP_NUM_THREADS=2\n",
      "  \"MiniBatchKMeans is known to have a memory leak on \"\n"
     ]
    },
    {
     "name": "stdout",
     "output_type": "stream",
     "text": [
      "For n_clusters = 39\n",
      "Silhouette coefficient: 0.15\n",
      "Inertia:26543.89417707379\n"
     ]
    },
    {
     "name": "stderr",
     "output_type": "stream",
     "text": [
      "c:\\Users\\Kackie\\anaconda3\\envs\\DataScience\\lib\\site-packages\\sklearn\\cluster\\_kmeans.py:1044: UserWarning: MiniBatchKMeans is known to have a memory leak on Windows with MKL, when there are less chunks than available threads. You can prevent it by setting batch_size >= 4096 or by setting the environment variable OMP_NUM_THREADS=2\n",
      "  \"MiniBatchKMeans is known to have a memory leak on \"\n"
     ]
    },
    {
     "name": "stdout",
     "output_type": "stream",
     "text": [
      "For n_clusters = 40\n",
      "Silhouette coefficient: 0.16\n",
      "Inertia:26079.827414884712\n"
     ]
    },
    {
     "name": "stderr",
     "output_type": "stream",
     "text": [
      "c:\\Users\\Kackie\\anaconda3\\envs\\DataScience\\lib\\site-packages\\sklearn\\cluster\\_kmeans.py:1044: UserWarning: MiniBatchKMeans is known to have a memory leak on Windows with MKL, when there are less chunks than available threads. You can prevent it by setting batch_size >= 4096 or by setting the environment variable OMP_NUM_THREADS=2\n",
      "  \"MiniBatchKMeans is known to have a memory leak on \"\n"
     ]
    },
    {
     "name": "stdout",
     "output_type": "stream",
     "text": [
      "For n_clusters = 41\n",
      "Silhouette coefficient: 0.17\n",
      "Inertia:25746.025032734622\n"
     ]
    },
    {
     "name": "stderr",
     "output_type": "stream",
     "text": [
      "c:\\Users\\Kackie\\anaconda3\\envs\\DataScience\\lib\\site-packages\\sklearn\\cluster\\_kmeans.py:1044: UserWarning: MiniBatchKMeans is known to have a memory leak on Windows with MKL, when there are less chunks than available threads. You can prevent it by setting batch_size >= 4096 or by setting the environment variable OMP_NUM_THREADS=2\n",
      "  \"MiniBatchKMeans is known to have a memory leak on \"\n"
     ]
    },
    {
     "name": "stdout",
     "output_type": "stream",
     "text": [
      "For n_clusters = 42\n",
      "Silhouette coefficient: 0.18\n",
      "Inertia:25347.63907915088\n"
     ]
    },
    {
     "name": "stderr",
     "output_type": "stream",
     "text": [
      "c:\\Users\\Kackie\\anaconda3\\envs\\DataScience\\lib\\site-packages\\sklearn\\cluster\\_kmeans.py:1044: UserWarning: MiniBatchKMeans is known to have a memory leak on Windows with MKL, when there are less chunks than available threads. You can prevent it by setting batch_size >= 4096 or by setting the environment variable OMP_NUM_THREADS=2\n",
      "  \"MiniBatchKMeans is known to have a memory leak on \"\n"
     ]
    },
    {
     "name": "stdout",
     "output_type": "stream",
     "text": [
      "For n_clusters = 43\n",
      "Silhouette coefficient: 0.17\n",
      "Inertia:25418.492329658337\n"
     ]
    },
    {
     "name": "stderr",
     "output_type": "stream",
     "text": [
      "c:\\Users\\Kackie\\anaconda3\\envs\\DataScience\\lib\\site-packages\\sklearn\\cluster\\_kmeans.py:1044: UserWarning: MiniBatchKMeans is known to have a memory leak on Windows with MKL, when there are less chunks than available threads. You can prevent it by setting batch_size >= 4096 or by setting the environment variable OMP_NUM_THREADS=2\n",
      "  \"MiniBatchKMeans is known to have a memory leak on \"\n"
     ]
    },
    {
     "name": "stdout",
     "output_type": "stream",
     "text": [
      "For n_clusters = 44\n",
      "Silhouette coefficient: 0.16\n",
      "Inertia:25848.770904243825\n"
     ]
    },
    {
     "name": "stderr",
     "output_type": "stream",
     "text": [
      "c:\\Users\\Kackie\\anaconda3\\envs\\DataScience\\lib\\site-packages\\sklearn\\cluster\\_kmeans.py:1044: UserWarning: MiniBatchKMeans is known to have a memory leak on Windows with MKL, when there are less chunks than available threads. You can prevent it by setting batch_size >= 4096 or by setting the environment variable OMP_NUM_THREADS=2\n",
      "  \"MiniBatchKMeans is known to have a memory leak on \"\n"
     ]
    },
    {
     "name": "stdout",
     "output_type": "stream",
     "text": [
      "For n_clusters = 45\n",
      "Silhouette coefficient: 0.17\n",
      "Inertia:25274.01329781402\n"
     ]
    },
    {
     "name": "stderr",
     "output_type": "stream",
     "text": [
      "c:\\Users\\Kackie\\anaconda3\\envs\\DataScience\\lib\\site-packages\\sklearn\\cluster\\_kmeans.py:1044: UserWarning: MiniBatchKMeans is known to have a memory leak on Windows with MKL, when there are less chunks than available threads. You can prevent it by setting batch_size >= 4096 or by setting the environment variable OMP_NUM_THREADS=2\n",
      "  \"MiniBatchKMeans is known to have a memory leak on \"\n"
     ]
    },
    {
     "name": "stdout",
     "output_type": "stream",
     "text": [
      "For n_clusters = 46\n",
      "Silhouette coefficient: 0.18\n",
      "Inertia:24636.87472931819\n"
     ]
    },
    {
     "name": "stderr",
     "output_type": "stream",
     "text": [
      "c:\\Users\\Kackie\\anaconda3\\envs\\DataScience\\lib\\site-packages\\sklearn\\cluster\\_kmeans.py:1044: UserWarning: MiniBatchKMeans is known to have a memory leak on Windows with MKL, when there are less chunks than available threads. You can prevent it by setting batch_size >= 4096 or by setting the environment variable OMP_NUM_THREADS=2\n",
      "  \"MiniBatchKMeans is known to have a memory leak on \"\n"
     ]
    },
    {
     "name": "stdout",
     "output_type": "stream",
     "text": [
      "For n_clusters = 47\n",
      "Silhouette coefficient: 0.19\n",
      "Inertia:24605.1013433928\n"
     ]
    },
    {
     "name": "stderr",
     "output_type": "stream",
     "text": [
      "c:\\Users\\Kackie\\anaconda3\\envs\\DataScience\\lib\\site-packages\\sklearn\\cluster\\_kmeans.py:1044: UserWarning: MiniBatchKMeans is known to have a memory leak on Windows with MKL, when there are less chunks than available threads. You can prevent it by setting batch_size >= 4096 or by setting the environment variable OMP_NUM_THREADS=2\n",
      "  \"MiniBatchKMeans is known to have a memory leak on \"\n"
     ]
    },
    {
     "name": "stdout",
     "output_type": "stream",
     "text": [
      "For n_clusters = 48\n",
      "Silhouette coefficient: 0.17\n",
      "Inertia:24655.495890012855\n"
     ]
    },
    {
     "name": "stderr",
     "output_type": "stream",
     "text": [
      "c:\\Users\\Kackie\\anaconda3\\envs\\DataScience\\lib\\site-packages\\sklearn\\cluster\\_kmeans.py:1044: UserWarning: MiniBatchKMeans is known to have a memory leak on Windows with MKL, when there are less chunks than available threads. You can prevent it by setting batch_size >= 4096 or by setting the environment variable OMP_NUM_THREADS=2\n",
      "  \"MiniBatchKMeans is known to have a memory leak on \"\n"
     ]
    },
    {
     "name": "stdout",
     "output_type": "stream",
     "text": [
      "For n_clusters = 49\n",
      "Silhouette coefficient: 0.17\n",
      "Inertia:24707.52231961341\n"
     ]
    },
    {
     "name": "stderr",
     "output_type": "stream",
     "text": [
      "c:\\Users\\Kackie\\anaconda3\\envs\\DataScience\\lib\\site-packages\\sklearn\\cluster\\_kmeans.py:1044: UserWarning: MiniBatchKMeans is known to have a memory leak on Windows with MKL, when there are less chunks than available threads. You can prevent it by setting batch_size >= 4096 or by setting the environment variable OMP_NUM_THREADS=2\n",
      "  \"MiniBatchKMeans is known to have a memory leak on \"\n"
     ]
    },
    {
     "name": "stdout",
     "output_type": "stream",
     "text": [
      "For n_clusters = 50\n",
      "Silhouette coefficient: 0.17\n",
      "Inertia:24645.937130363433\n"
     ]
    },
    {
     "name": "stderr",
     "output_type": "stream",
     "text": [
      "c:\\Users\\Kackie\\anaconda3\\envs\\DataScience\\lib\\site-packages\\sklearn\\cluster\\_kmeans.py:1044: UserWarning: MiniBatchKMeans is known to have a memory leak on Windows with MKL, when there are less chunks than available threads. You can prevent it by setting batch_size >= 4096 or by setting the environment variable OMP_NUM_THREADS=2\n",
      "  \"MiniBatchKMeans is known to have a memory leak on \"\n"
     ]
    },
    {
     "name": "stdout",
     "output_type": "stream",
     "text": [
      "For n_clusters = 51\n",
      "Silhouette coefficient: 0.16\n",
      "Inertia:23865.29372852291\n"
     ]
    },
    {
     "name": "stderr",
     "output_type": "stream",
     "text": [
      "c:\\Users\\Kackie\\anaconda3\\envs\\DataScience\\lib\\site-packages\\sklearn\\cluster\\_kmeans.py:1044: UserWarning: MiniBatchKMeans is known to have a memory leak on Windows with MKL, when there are less chunks than available threads. You can prevent it by setting batch_size >= 4096 or by setting the environment variable OMP_NUM_THREADS=2\n",
      "  \"MiniBatchKMeans is known to have a memory leak on \"\n"
     ]
    },
    {
     "name": "stdout",
     "output_type": "stream",
     "text": [
      "For n_clusters = 52\n",
      "Silhouette coefficient: 0.18\n",
      "Inertia:23886.58611611557\n"
     ]
    },
    {
     "name": "stderr",
     "output_type": "stream",
     "text": [
      "c:\\Users\\Kackie\\anaconda3\\envs\\DataScience\\lib\\site-packages\\sklearn\\cluster\\_kmeans.py:1044: UserWarning: MiniBatchKMeans is known to have a memory leak on Windows with MKL, when there are less chunks than available threads. You can prevent it by setting batch_size >= 4096 or by setting the environment variable OMP_NUM_THREADS=2\n",
      "  \"MiniBatchKMeans is known to have a memory leak on \"\n"
     ]
    },
    {
     "name": "stdout",
     "output_type": "stream",
     "text": [
      "For n_clusters = 53\n",
      "Silhouette coefficient: 0.19\n",
      "Inertia:23541.8892961579\n"
     ]
    },
    {
     "name": "stderr",
     "output_type": "stream",
     "text": [
      "c:\\Users\\Kackie\\anaconda3\\envs\\DataScience\\lib\\site-packages\\sklearn\\cluster\\_kmeans.py:1044: UserWarning: MiniBatchKMeans is known to have a memory leak on Windows with MKL, when there are less chunks than available threads. You can prevent it by setting batch_size >= 4096 or by setting the environment variable OMP_NUM_THREADS=2\n",
      "  \"MiniBatchKMeans is known to have a memory leak on \"\n"
     ]
    },
    {
     "name": "stdout",
     "output_type": "stream",
     "text": [
      "For n_clusters = 54\n",
      "Silhouette coefficient: 0.18\n",
      "Inertia:24172.619506940453\n"
     ]
    },
    {
     "name": "stderr",
     "output_type": "stream",
     "text": [
      "c:\\Users\\Kackie\\anaconda3\\envs\\DataScience\\lib\\site-packages\\sklearn\\cluster\\_kmeans.py:1044: UserWarning: MiniBatchKMeans is known to have a memory leak on Windows with MKL, when there are less chunks than available threads. You can prevent it by setting batch_size >= 4096 or by setting the environment variable OMP_NUM_THREADS=2\n",
      "  \"MiniBatchKMeans is known to have a memory leak on \"\n"
     ]
    },
    {
     "name": "stdout",
     "output_type": "stream",
     "text": [
      "For n_clusters = 55\n",
      "Silhouette coefficient: 0.18\n",
      "Inertia:23679.444845102607\n"
     ]
    },
    {
     "name": "stderr",
     "output_type": "stream",
     "text": [
      "c:\\Users\\Kackie\\anaconda3\\envs\\DataScience\\lib\\site-packages\\sklearn\\cluster\\_kmeans.py:1044: UserWarning: MiniBatchKMeans is known to have a memory leak on Windows with MKL, when there are less chunks than available threads. You can prevent it by setting batch_size >= 4096 or by setting the environment variable OMP_NUM_THREADS=2\n",
      "  \"MiniBatchKMeans is known to have a memory leak on \"\n"
     ]
    },
    {
     "name": "stdout",
     "output_type": "stream",
     "text": [
      "For n_clusters = 56\n",
      "Silhouette coefficient: 0.18\n",
      "Inertia:23354.480646004286\n"
     ]
    },
    {
     "name": "stderr",
     "output_type": "stream",
     "text": [
      "c:\\Users\\Kackie\\anaconda3\\envs\\DataScience\\lib\\site-packages\\sklearn\\cluster\\_kmeans.py:1044: UserWarning: MiniBatchKMeans is known to have a memory leak on Windows with MKL, when there are less chunks than available threads. You can prevent it by setting batch_size >= 4096 or by setting the environment variable OMP_NUM_THREADS=2\n",
      "  \"MiniBatchKMeans is known to have a memory leak on \"\n"
     ]
    },
    {
     "name": "stdout",
     "output_type": "stream",
     "text": [
      "For n_clusters = 57\n",
      "Silhouette coefficient: 0.20\n",
      "Inertia:23201.879245745622\n"
     ]
    },
    {
     "name": "stderr",
     "output_type": "stream",
     "text": [
      "c:\\Users\\Kackie\\anaconda3\\envs\\DataScience\\lib\\site-packages\\sklearn\\cluster\\_kmeans.py:1044: UserWarning: MiniBatchKMeans is known to have a memory leak on Windows with MKL, when there are less chunks than available threads. You can prevent it by setting batch_size >= 4096 or by setting the environment variable OMP_NUM_THREADS=2\n",
      "  \"MiniBatchKMeans is known to have a memory leak on \"\n"
     ]
    },
    {
     "name": "stdout",
     "output_type": "stream",
     "text": [
      "For n_clusters = 58\n",
      "Silhouette coefficient: 0.17\n",
      "Inertia:23285.26037389945\n"
     ]
    },
    {
     "name": "stderr",
     "output_type": "stream",
     "text": [
      "c:\\Users\\Kackie\\anaconda3\\envs\\DataScience\\lib\\site-packages\\sklearn\\cluster\\_kmeans.py:1044: UserWarning: MiniBatchKMeans is known to have a memory leak on Windows with MKL, when there are less chunks than available threads. You can prevent it by setting batch_size >= 4096 or by setting the environment variable OMP_NUM_THREADS=2\n",
      "  \"MiniBatchKMeans is known to have a memory leak on \"\n"
     ]
    },
    {
     "name": "stdout",
     "output_type": "stream",
     "text": [
      "For n_clusters = 59\n",
      "Silhouette coefficient: 0.18\n",
      "Inertia:23568.89049329067\n"
     ]
    },
    {
     "name": "stderr",
     "output_type": "stream",
     "text": [
      "c:\\Users\\Kackie\\anaconda3\\envs\\DataScience\\lib\\site-packages\\sklearn\\cluster\\_kmeans.py:1044: UserWarning: MiniBatchKMeans is known to have a memory leak on Windows with MKL, when there are less chunks than available threads. You can prevent it by setting batch_size >= 4096 or by setting the environment variable OMP_NUM_THREADS=2\n",
      "  \"MiniBatchKMeans is known to have a memory leak on \"\n"
     ]
    },
    {
     "name": "stdout",
     "output_type": "stream",
     "text": [
      "For n_clusters = 60\n",
      "Silhouette coefficient: 0.19\n",
      "Inertia:22892.823820121535\n"
     ]
    },
    {
     "name": "stderr",
     "output_type": "stream",
     "text": [
      "c:\\Users\\Kackie\\anaconda3\\envs\\DataScience\\lib\\site-packages\\sklearn\\cluster\\_kmeans.py:1044: UserWarning: MiniBatchKMeans is known to have a memory leak on Windows with MKL, when there are less chunks than available threads. You can prevent it by setting batch_size >= 4096 or by setting the environment variable OMP_NUM_THREADS=2\n",
      "  \"MiniBatchKMeans is known to have a memory leak on \"\n"
     ]
    },
    {
     "name": "stdout",
     "output_type": "stream",
     "text": [
      "For n_clusters = 61\n",
      "Silhouette coefficient: 0.20\n",
      "Inertia:22554.734493623597\n"
     ]
    },
    {
     "name": "stderr",
     "output_type": "stream",
     "text": [
      "c:\\Users\\Kackie\\anaconda3\\envs\\DataScience\\lib\\site-packages\\sklearn\\cluster\\_kmeans.py:1044: UserWarning: MiniBatchKMeans is known to have a memory leak on Windows with MKL, when there are less chunks than available threads. You can prevent it by setting batch_size >= 4096 or by setting the environment variable OMP_NUM_THREADS=2\n",
      "  \"MiniBatchKMeans is known to have a memory leak on \"\n"
     ]
    },
    {
     "name": "stdout",
     "output_type": "stream",
     "text": [
      "For n_clusters = 62\n",
      "Silhouette coefficient: 0.19\n",
      "Inertia:22843.230408362586\n"
     ]
    },
    {
     "name": "stderr",
     "output_type": "stream",
     "text": [
      "c:\\Users\\Kackie\\anaconda3\\envs\\DataScience\\lib\\site-packages\\sklearn\\cluster\\_kmeans.py:1044: UserWarning: MiniBatchKMeans is known to have a memory leak on Windows with MKL, when there are less chunks than available threads. You can prevent it by setting batch_size >= 4096 or by setting the environment variable OMP_NUM_THREADS=2\n",
      "  \"MiniBatchKMeans is known to have a memory leak on \"\n"
     ]
    },
    {
     "name": "stdout",
     "output_type": "stream",
     "text": [
      "For n_clusters = 63\n",
      "Silhouette coefficient: 0.19\n",
      "Inertia:22635.202746541472\n"
     ]
    },
    {
     "name": "stderr",
     "output_type": "stream",
     "text": [
      "c:\\Users\\Kackie\\anaconda3\\envs\\DataScience\\lib\\site-packages\\sklearn\\cluster\\_kmeans.py:1044: UserWarning: MiniBatchKMeans is known to have a memory leak on Windows with MKL, when there are less chunks than available threads. You can prevent it by setting batch_size >= 4096 or by setting the environment variable OMP_NUM_THREADS=2\n",
      "  \"MiniBatchKMeans is known to have a memory leak on \"\n"
     ]
    },
    {
     "name": "stdout",
     "output_type": "stream",
     "text": [
      "For n_clusters = 64\n",
      "Silhouette coefficient: 0.19\n",
      "Inertia:22848.272167219806\n"
     ]
    },
    {
     "name": "stderr",
     "output_type": "stream",
     "text": [
      "c:\\Users\\Kackie\\anaconda3\\envs\\DataScience\\lib\\site-packages\\sklearn\\cluster\\_kmeans.py:1044: UserWarning: MiniBatchKMeans is known to have a memory leak on Windows with MKL, when there are less chunks than available threads. You can prevent it by setting batch_size >= 4096 or by setting the environment variable OMP_NUM_THREADS=2\n",
      "  \"MiniBatchKMeans is known to have a memory leak on \"\n"
     ]
    },
    {
     "name": "stdout",
     "output_type": "stream",
     "text": [
      "For n_clusters = 65\n",
      "Silhouette coefficient: 0.18\n",
      "Inertia:22664.487221912666\n"
     ]
    },
    {
     "name": "stderr",
     "output_type": "stream",
     "text": [
      "c:\\Users\\Kackie\\anaconda3\\envs\\DataScience\\lib\\site-packages\\sklearn\\cluster\\_kmeans.py:1044: UserWarning: MiniBatchKMeans is known to have a memory leak on Windows with MKL, when there are less chunks than available threads. You can prevent it by setting batch_size >= 4096 or by setting the environment variable OMP_NUM_THREADS=2\n",
      "  \"MiniBatchKMeans is known to have a memory leak on \"\n"
     ]
    },
    {
     "name": "stdout",
     "output_type": "stream",
     "text": [
      "For n_clusters = 66\n",
      "Silhouette coefficient: 0.20\n",
      "Inertia:22439.076336288697\n"
     ]
    },
    {
     "name": "stderr",
     "output_type": "stream",
     "text": [
      "c:\\Users\\Kackie\\anaconda3\\envs\\DataScience\\lib\\site-packages\\sklearn\\cluster\\_kmeans.py:1044: UserWarning: MiniBatchKMeans is known to have a memory leak on Windows with MKL, when there are less chunks than available threads. You can prevent it by setting batch_size >= 4096 or by setting the environment variable OMP_NUM_THREADS=2\n",
      "  \"MiniBatchKMeans is known to have a memory leak on \"\n"
     ]
    },
    {
     "name": "stdout",
     "output_type": "stream",
     "text": [
      "For n_clusters = 67\n",
      "Silhouette coefficient: 0.21\n",
      "Inertia:21902.04239734648\n"
     ]
    },
    {
     "name": "stderr",
     "output_type": "stream",
     "text": [
      "c:\\Users\\Kackie\\anaconda3\\envs\\DataScience\\lib\\site-packages\\sklearn\\cluster\\_kmeans.py:1044: UserWarning: MiniBatchKMeans is known to have a memory leak on Windows with MKL, when there are less chunks than available threads. You can prevent it by setting batch_size >= 4096 or by setting the environment variable OMP_NUM_THREADS=2\n",
      "  \"MiniBatchKMeans is known to have a memory leak on \"\n"
     ]
    },
    {
     "name": "stdout",
     "output_type": "stream",
     "text": [
      "For n_clusters = 68\n",
      "Silhouette coefficient: 0.21\n",
      "Inertia:22046.762544211313\n"
     ]
    },
    {
     "name": "stderr",
     "output_type": "stream",
     "text": [
      "c:\\Users\\Kackie\\anaconda3\\envs\\DataScience\\lib\\site-packages\\sklearn\\cluster\\_kmeans.py:1044: UserWarning: MiniBatchKMeans is known to have a memory leak on Windows with MKL, when there are less chunks than available threads. You can prevent it by setting batch_size >= 4096 or by setting the environment variable OMP_NUM_THREADS=2\n",
      "  \"MiniBatchKMeans is known to have a memory leak on \"\n"
     ]
    },
    {
     "name": "stdout",
     "output_type": "stream",
     "text": [
      "For n_clusters = 69\n",
      "Silhouette coefficient: 0.19\n",
      "Inertia:22395.767730828\n"
     ]
    },
    {
     "name": "stderr",
     "output_type": "stream",
     "text": [
      "c:\\Users\\Kackie\\anaconda3\\envs\\DataScience\\lib\\site-packages\\sklearn\\cluster\\_kmeans.py:1044: UserWarning: MiniBatchKMeans is known to have a memory leak on Windows with MKL, when there are less chunks than available threads. You can prevent it by setting batch_size >= 4096 or by setting the environment variable OMP_NUM_THREADS=2\n",
      "  \"MiniBatchKMeans is known to have a memory leak on \"\n"
     ]
    },
    {
     "name": "stdout",
     "output_type": "stream",
     "text": [
      "For n_clusters = 70\n",
      "Silhouette coefficient: 0.20\n",
      "Inertia:22283.548219803004\n"
     ]
    },
    {
     "name": "stderr",
     "output_type": "stream",
     "text": [
      "c:\\Users\\Kackie\\anaconda3\\envs\\DataScience\\lib\\site-packages\\sklearn\\cluster\\_kmeans.py:1044: UserWarning: MiniBatchKMeans is known to have a memory leak on Windows with MKL, when there are less chunks than available threads. You can prevent it by setting batch_size >= 4096 or by setting the environment variable OMP_NUM_THREADS=2\n",
      "  \"MiniBatchKMeans is known to have a memory leak on \"\n"
     ]
    },
    {
     "name": "stdout",
     "output_type": "stream",
     "text": [
      "For n_clusters = 71\n",
      "Silhouette coefficient: 0.21\n",
      "Inertia:21809.729937901062\n"
     ]
    },
    {
     "name": "stderr",
     "output_type": "stream",
     "text": [
      "c:\\Users\\Kackie\\anaconda3\\envs\\DataScience\\lib\\site-packages\\sklearn\\cluster\\_kmeans.py:1044: UserWarning: MiniBatchKMeans is known to have a memory leak on Windows with MKL, when there are less chunks than available threads. You can prevent it by setting batch_size >= 4096 or by setting the environment variable OMP_NUM_THREADS=2\n",
      "  \"MiniBatchKMeans is known to have a memory leak on \"\n"
     ]
    },
    {
     "name": "stdout",
     "output_type": "stream",
     "text": [
      "For n_clusters = 72\n",
      "Silhouette coefficient: 0.21\n",
      "Inertia:21713.110821584603\n"
     ]
    },
    {
     "name": "stderr",
     "output_type": "stream",
     "text": [
      "c:\\Users\\Kackie\\anaconda3\\envs\\DataScience\\lib\\site-packages\\sklearn\\cluster\\_kmeans.py:1044: UserWarning: MiniBatchKMeans is known to have a memory leak on Windows with MKL, when there are less chunks than available threads. You can prevent it by setting batch_size >= 4096 or by setting the environment variable OMP_NUM_THREADS=2\n",
      "  \"MiniBatchKMeans is known to have a memory leak on \"\n"
     ]
    },
    {
     "name": "stdout",
     "output_type": "stream",
     "text": [
      "For n_clusters = 73\n",
      "Silhouette coefficient: 0.22\n",
      "Inertia:21311.958071734916\n"
     ]
    },
    {
     "name": "stderr",
     "output_type": "stream",
     "text": [
      "c:\\Users\\Kackie\\anaconda3\\envs\\DataScience\\lib\\site-packages\\sklearn\\cluster\\_kmeans.py:1044: UserWarning: MiniBatchKMeans is known to have a memory leak on Windows with MKL, when there are less chunks than available threads. You can prevent it by setting batch_size >= 4096 or by setting the environment variable OMP_NUM_THREADS=2\n",
      "  \"MiniBatchKMeans is known to have a memory leak on \"\n"
     ]
    },
    {
     "name": "stdout",
     "output_type": "stream",
     "text": [
      "For n_clusters = 74\n",
      "Silhouette coefficient: 0.21\n",
      "Inertia:21684.243753467887\n"
     ]
    },
    {
     "name": "stderr",
     "output_type": "stream",
     "text": [
      "c:\\Users\\Kackie\\anaconda3\\envs\\DataScience\\lib\\site-packages\\sklearn\\cluster\\_kmeans.py:1044: UserWarning: MiniBatchKMeans is known to have a memory leak on Windows with MKL, when there are less chunks than available threads. You can prevent it by setting batch_size >= 4096 or by setting the environment variable OMP_NUM_THREADS=2\n",
      "  \"MiniBatchKMeans is known to have a memory leak on \"\n"
     ]
    },
    {
     "name": "stdout",
     "output_type": "stream",
     "text": [
      "For n_clusters = 75\n",
      "Silhouette coefficient: 0.21\n",
      "Inertia:21272.299366331117\n"
     ]
    },
    {
     "name": "stderr",
     "output_type": "stream",
     "text": [
      "c:\\Users\\Kackie\\anaconda3\\envs\\DataScience\\lib\\site-packages\\sklearn\\cluster\\_kmeans.py:1044: UserWarning: MiniBatchKMeans is known to have a memory leak on Windows with MKL, when there are less chunks than available threads. You can prevent it by setting batch_size >= 4096 or by setting the environment variable OMP_NUM_THREADS=2\n",
      "  \"MiniBatchKMeans is known to have a memory leak on \"\n"
     ]
    },
    {
     "name": "stdout",
     "output_type": "stream",
     "text": [
      "For n_clusters = 76\n",
      "Silhouette coefficient: 0.21\n",
      "Inertia:20986.9219537582\n"
     ]
    },
    {
     "name": "stderr",
     "output_type": "stream",
     "text": [
      "c:\\Users\\Kackie\\anaconda3\\envs\\DataScience\\lib\\site-packages\\sklearn\\cluster\\_kmeans.py:1044: UserWarning: MiniBatchKMeans is known to have a memory leak on Windows with MKL, when there are less chunks than available threads. You can prevent it by setting batch_size >= 4096 or by setting the environment variable OMP_NUM_THREADS=2\n",
      "  \"MiniBatchKMeans is known to have a memory leak on \"\n"
     ]
    },
    {
     "name": "stdout",
     "output_type": "stream",
     "text": [
      "For n_clusters = 77\n",
      "Silhouette coefficient: 0.21\n",
      "Inertia:21300.653981057687\n"
     ]
    },
    {
     "name": "stderr",
     "output_type": "stream",
     "text": [
      "c:\\Users\\Kackie\\anaconda3\\envs\\DataScience\\lib\\site-packages\\sklearn\\cluster\\_kmeans.py:1044: UserWarning: MiniBatchKMeans is known to have a memory leak on Windows with MKL, when there are less chunks than available threads. You can prevent it by setting batch_size >= 4096 or by setting the environment variable OMP_NUM_THREADS=2\n",
      "  \"MiniBatchKMeans is known to have a memory leak on \"\n"
     ]
    },
    {
     "name": "stdout",
     "output_type": "stream",
     "text": [
      "For n_clusters = 78\n",
      "Silhouette coefficient: 0.20\n",
      "Inertia:20920.122965143724\n"
     ]
    },
    {
     "name": "stderr",
     "output_type": "stream",
     "text": [
      "c:\\Users\\Kackie\\anaconda3\\envs\\DataScience\\lib\\site-packages\\sklearn\\cluster\\_kmeans.py:1044: UserWarning: MiniBatchKMeans is known to have a memory leak on Windows with MKL, when there are less chunks than available threads. You can prevent it by setting batch_size >= 4096 or by setting the environment variable OMP_NUM_THREADS=2\n",
      "  \"MiniBatchKMeans is known to have a memory leak on \"\n"
     ]
    },
    {
     "name": "stdout",
     "output_type": "stream",
     "text": [
      "For n_clusters = 79\n",
      "Silhouette coefficient: 0.21\n",
      "Inertia:21306.384942770943\n"
     ]
    },
    {
     "name": "stderr",
     "output_type": "stream",
     "text": [
      "c:\\Users\\Kackie\\anaconda3\\envs\\DataScience\\lib\\site-packages\\sklearn\\cluster\\_kmeans.py:1044: UserWarning: MiniBatchKMeans is known to have a memory leak on Windows with MKL, when there are less chunks than available threads. You can prevent it by setting batch_size >= 4096 or by setting the environment variable OMP_NUM_THREADS=2\n",
      "  \"MiniBatchKMeans is known to have a memory leak on \"\n"
     ]
    },
    {
     "name": "stdout",
     "output_type": "stream",
     "text": [
      "For n_clusters = 80\n",
      "Silhouette coefficient: 0.21\n",
      "Inertia:21034.41553901881\n"
     ]
    },
    {
     "name": "stderr",
     "output_type": "stream",
     "text": [
      "c:\\Users\\Kackie\\anaconda3\\envs\\DataScience\\lib\\site-packages\\sklearn\\cluster\\_kmeans.py:1044: UserWarning: MiniBatchKMeans is known to have a memory leak on Windows with MKL, when there are less chunks than available threads. You can prevent it by setting batch_size >= 4096 or by setting the environment variable OMP_NUM_THREADS=2\n",
      "  \"MiniBatchKMeans is known to have a memory leak on \"\n"
     ]
    },
    {
     "name": "stdout",
     "output_type": "stream",
     "text": [
      "For n_clusters = 81\n",
      "Silhouette coefficient: 0.21\n",
      "Inertia:21450.66755243313\n"
     ]
    },
    {
     "name": "stderr",
     "output_type": "stream",
     "text": [
      "c:\\Users\\Kackie\\anaconda3\\envs\\DataScience\\lib\\site-packages\\sklearn\\cluster\\_kmeans.py:1044: UserWarning: MiniBatchKMeans is known to have a memory leak on Windows with MKL, when there are less chunks than available threads. You can prevent it by setting batch_size >= 4096 or by setting the environment variable OMP_NUM_THREADS=2\n",
      "  \"MiniBatchKMeans is known to have a memory leak on \"\n"
     ]
    },
    {
     "name": "stdout",
     "output_type": "stream",
     "text": [
      "For n_clusters = 82\n",
      "Silhouette coefficient: 0.21\n",
      "Inertia:20903.86274438094\n"
     ]
    },
    {
     "name": "stderr",
     "output_type": "stream",
     "text": [
      "c:\\Users\\Kackie\\anaconda3\\envs\\DataScience\\lib\\site-packages\\sklearn\\cluster\\_kmeans.py:1044: UserWarning: MiniBatchKMeans is known to have a memory leak on Windows with MKL, when there are less chunks than available threads. You can prevent it by setting batch_size >= 4096 or by setting the environment variable OMP_NUM_THREADS=2\n",
      "  \"MiniBatchKMeans is known to have a memory leak on \"\n"
     ]
    },
    {
     "name": "stdout",
     "output_type": "stream",
     "text": [
      "For n_clusters = 83\n",
      "Silhouette coefficient: 0.22\n",
      "Inertia:20674.145789922248\n"
     ]
    },
    {
     "name": "stderr",
     "output_type": "stream",
     "text": [
      "c:\\Users\\Kackie\\anaconda3\\envs\\DataScience\\lib\\site-packages\\sklearn\\cluster\\_kmeans.py:1044: UserWarning: MiniBatchKMeans is known to have a memory leak on Windows with MKL, when there are less chunks than available threads. You can prevent it by setting batch_size >= 4096 or by setting the environment variable OMP_NUM_THREADS=2\n",
      "  \"MiniBatchKMeans is known to have a memory leak on \"\n"
     ]
    },
    {
     "name": "stdout",
     "output_type": "stream",
     "text": [
      "For n_clusters = 84\n",
      "Silhouette coefficient: 0.22\n",
      "Inertia:20887.414145514085\n"
     ]
    },
    {
     "name": "stderr",
     "output_type": "stream",
     "text": [
      "c:\\Users\\Kackie\\anaconda3\\envs\\DataScience\\lib\\site-packages\\sklearn\\cluster\\_kmeans.py:1044: UserWarning: MiniBatchKMeans is known to have a memory leak on Windows with MKL, when there are less chunks than available threads. You can prevent it by setting batch_size >= 4096 or by setting the environment variable OMP_NUM_THREADS=2\n",
      "  \"MiniBatchKMeans is known to have a memory leak on \"\n"
     ]
    },
    {
     "name": "stdout",
     "output_type": "stream",
     "text": [
      "For n_clusters = 85\n",
      "Silhouette coefficient: 0.23\n",
      "Inertia:20611.39070596435\n"
     ]
    },
    {
     "name": "stderr",
     "output_type": "stream",
     "text": [
      "c:\\Users\\Kackie\\anaconda3\\envs\\DataScience\\lib\\site-packages\\sklearn\\cluster\\_kmeans.py:1044: UserWarning: MiniBatchKMeans is known to have a memory leak on Windows with MKL, when there are less chunks than available threads. You can prevent it by setting batch_size >= 4096 or by setting the environment variable OMP_NUM_THREADS=2\n",
      "  \"MiniBatchKMeans is known to have a memory leak on \"\n"
     ]
    },
    {
     "name": "stdout",
     "output_type": "stream",
     "text": [
      "For n_clusters = 86\n",
      "Silhouette coefficient: 0.22\n",
      "Inertia:20914.07984510131\n"
     ]
    },
    {
     "name": "stderr",
     "output_type": "stream",
     "text": [
      "c:\\Users\\Kackie\\anaconda3\\envs\\DataScience\\lib\\site-packages\\sklearn\\cluster\\_kmeans.py:1044: UserWarning: MiniBatchKMeans is known to have a memory leak on Windows with MKL, when there are less chunks than available threads. You can prevent it by setting batch_size >= 4096 or by setting the environment variable OMP_NUM_THREADS=2\n",
      "  \"MiniBatchKMeans is known to have a memory leak on \"\n"
     ]
    },
    {
     "name": "stdout",
     "output_type": "stream",
     "text": [
      "For n_clusters = 87\n",
      "Silhouette coefficient: 0.22\n",
      "Inertia:20784.084676394552\n"
     ]
    },
    {
     "name": "stderr",
     "output_type": "stream",
     "text": [
      "c:\\Users\\Kackie\\anaconda3\\envs\\DataScience\\lib\\site-packages\\sklearn\\cluster\\_kmeans.py:1044: UserWarning: MiniBatchKMeans is known to have a memory leak on Windows with MKL, when there are less chunks than available threads. You can prevent it by setting batch_size >= 4096 or by setting the environment variable OMP_NUM_THREADS=2\n",
      "  \"MiniBatchKMeans is known to have a memory leak on \"\n"
     ]
    },
    {
     "name": "stdout",
     "output_type": "stream",
     "text": [
      "For n_clusters = 88\n",
      "Silhouette coefficient: 0.22\n",
      "Inertia:20555.171828782066\n"
     ]
    },
    {
     "name": "stderr",
     "output_type": "stream",
     "text": [
      "c:\\Users\\Kackie\\anaconda3\\envs\\DataScience\\lib\\site-packages\\sklearn\\cluster\\_kmeans.py:1044: UserWarning: MiniBatchKMeans is known to have a memory leak on Windows with MKL, when there are less chunks than available threads. You can prevent it by setting batch_size >= 4096 or by setting the environment variable OMP_NUM_THREADS=2\n",
      "  \"MiniBatchKMeans is known to have a memory leak on \"\n"
     ]
    },
    {
     "name": "stdout",
     "output_type": "stream",
     "text": [
      "For n_clusters = 89\n",
      "Silhouette coefficient: 0.23\n",
      "Inertia:20640.734646838624\n"
     ]
    },
    {
     "name": "stderr",
     "output_type": "stream",
     "text": [
      "c:\\Users\\Kackie\\anaconda3\\envs\\DataScience\\lib\\site-packages\\sklearn\\cluster\\_kmeans.py:1044: UserWarning: MiniBatchKMeans is known to have a memory leak on Windows with MKL, when there are less chunks than available threads. You can prevent it by setting batch_size >= 4096 or by setting the environment variable OMP_NUM_THREADS=2\n",
      "  \"MiniBatchKMeans is known to have a memory leak on \"\n"
     ]
    },
    {
     "name": "stdout",
     "output_type": "stream",
     "text": [
      "For n_clusters = 90\n",
      "Silhouette coefficient: 0.22\n",
      "Inertia:20507.7479717459\n"
     ]
    },
    {
     "name": "stderr",
     "output_type": "stream",
     "text": [
      "c:\\Users\\Kackie\\anaconda3\\envs\\DataScience\\lib\\site-packages\\sklearn\\cluster\\_kmeans.py:1044: UserWarning: MiniBatchKMeans is known to have a memory leak on Windows with MKL, when there are less chunks than available threads. You can prevent it by setting batch_size >= 4096 or by setting the environment variable OMP_NUM_THREADS=2\n",
      "  \"MiniBatchKMeans is known to have a memory leak on \"\n"
     ]
    },
    {
     "name": "stdout",
     "output_type": "stream",
     "text": [
      "For n_clusters = 91\n",
      "Silhouette coefficient: 0.21\n",
      "Inertia:20541.38549774305\n"
     ]
    },
    {
     "name": "stderr",
     "output_type": "stream",
     "text": [
      "c:\\Users\\Kackie\\anaconda3\\envs\\DataScience\\lib\\site-packages\\sklearn\\cluster\\_kmeans.py:1044: UserWarning: MiniBatchKMeans is known to have a memory leak on Windows with MKL, when there are less chunks than available threads. You can prevent it by setting batch_size >= 4096 or by setting the environment variable OMP_NUM_THREADS=2\n",
      "  \"MiniBatchKMeans is known to have a memory leak on \"\n"
     ]
    },
    {
     "name": "stdout",
     "output_type": "stream",
     "text": [
      "For n_clusters = 92\n",
      "Silhouette coefficient: 0.21\n",
      "Inertia:19914.156978086994\n"
     ]
    },
    {
     "name": "stderr",
     "output_type": "stream",
     "text": [
      "c:\\Users\\Kackie\\anaconda3\\envs\\DataScience\\lib\\site-packages\\sklearn\\cluster\\_kmeans.py:1044: UserWarning: MiniBatchKMeans is known to have a memory leak on Windows with MKL, when there are less chunks than available threads. You can prevent it by setting batch_size >= 4096 or by setting the environment variable OMP_NUM_THREADS=2\n",
      "  \"MiniBatchKMeans is known to have a memory leak on \"\n"
     ]
    },
    {
     "name": "stdout",
     "output_type": "stream",
     "text": [
      "For n_clusters = 93\n",
      "Silhouette coefficient: 0.23\n",
      "Inertia:20101.86426325515\n"
     ]
    },
    {
     "name": "stderr",
     "output_type": "stream",
     "text": [
      "c:\\Users\\Kackie\\anaconda3\\envs\\DataScience\\lib\\site-packages\\sklearn\\cluster\\_kmeans.py:1044: UserWarning: MiniBatchKMeans is known to have a memory leak on Windows with MKL, when there are less chunks than available threads. You can prevent it by setting batch_size >= 4096 or by setting the environment variable OMP_NUM_THREADS=2\n",
      "  \"MiniBatchKMeans is known to have a memory leak on \"\n"
     ]
    },
    {
     "name": "stdout",
     "output_type": "stream",
     "text": [
      "For n_clusters = 94\n",
      "Silhouette coefficient: 0.23\n",
      "Inertia:20157.96471869652\n"
     ]
    },
    {
     "name": "stderr",
     "output_type": "stream",
     "text": [
      "c:\\Users\\Kackie\\anaconda3\\envs\\DataScience\\lib\\site-packages\\sklearn\\cluster\\_kmeans.py:1044: UserWarning: MiniBatchKMeans is known to have a memory leak on Windows with MKL, when there are less chunks than available threads. You can prevent it by setting batch_size >= 4096 or by setting the environment variable OMP_NUM_THREADS=2\n",
      "  \"MiniBatchKMeans is known to have a memory leak on \"\n"
     ]
    },
    {
     "name": "stdout",
     "output_type": "stream",
     "text": [
      "For n_clusters = 95\n",
      "Silhouette coefficient: 0.23\n",
      "Inertia:19876.958017255063\n"
     ]
    },
    {
     "name": "stderr",
     "output_type": "stream",
     "text": [
      "c:\\Users\\Kackie\\anaconda3\\envs\\DataScience\\lib\\site-packages\\sklearn\\cluster\\_kmeans.py:1044: UserWarning: MiniBatchKMeans is known to have a memory leak on Windows with MKL, when there are less chunks than available threads. You can prevent it by setting batch_size >= 4096 or by setting the environment variable OMP_NUM_THREADS=2\n",
      "  \"MiniBatchKMeans is known to have a memory leak on \"\n"
     ]
    },
    {
     "name": "stdout",
     "output_type": "stream",
     "text": [
      "For n_clusters = 96\n",
      "Silhouette coefficient: 0.24\n",
      "Inertia:19984.40479696871\n"
     ]
    },
    {
     "name": "stderr",
     "output_type": "stream",
     "text": [
      "c:\\Users\\Kackie\\anaconda3\\envs\\DataScience\\lib\\site-packages\\sklearn\\cluster\\_kmeans.py:1044: UserWarning: MiniBatchKMeans is known to have a memory leak on Windows with MKL, when there are less chunks than available threads. You can prevent it by setting batch_size >= 4096 or by setting the environment variable OMP_NUM_THREADS=2\n",
      "  \"MiniBatchKMeans is known to have a memory leak on \"\n"
     ]
    },
    {
     "name": "stdout",
     "output_type": "stream",
     "text": [
      "For n_clusters = 97\n",
      "Silhouette coefficient: 0.22\n",
      "Inertia:19986.846225201927\n"
     ]
    },
    {
     "name": "stderr",
     "output_type": "stream",
     "text": [
      "c:\\Users\\Kackie\\anaconda3\\envs\\DataScience\\lib\\site-packages\\sklearn\\cluster\\_kmeans.py:1044: UserWarning: MiniBatchKMeans is known to have a memory leak on Windows with MKL, when there are less chunks than available threads. You can prevent it by setting batch_size >= 4096 or by setting the environment variable OMP_NUM_THREADS=2\n",
      "  \"MiniBatchKMeans is known to have a memory leak on \"\n"
     ]
    },
    {
     "name": "stdout",
     "output_type": "stream",
     "text": [
      "For n_clusters = 98\n",
      "Silhouette coefficient: 0.23\n",
      "Inertia:19870.229262906254\n"
     ]
    },
    {
     "name": "stderr",
     "output_type": "stream",
     "text": [
      "c:\\Users\\Kackie\\anaconda3\\envs\\DataScience\\lib\\site-packages\\sklearn\\cluster\\_kmeans.py:1044: UserWarning: MiniBatchKMeans is known to have a memory leak on Windows with MKL, when there are less chunks than available threads. You can prevent it by setting batch_size >= 4096 or by setting the environment variable OMP_NUM_THREADS=2\n",
      "  \"MiniBatchKMeans is known to have a memory leak on \"\n"
     ]
    },
    {
     "name": "stdout",
     "output_type": "stream",
     "text": [
      "For n_clusters = 99\n",
      "Silhouette coefficient: 0.23\n",
      "Inertia:19553.343210712937\n"
     ]
    }
   ],
   "source": [
    "# find the best number of clusters by silhouette score\n",
    "scores = []\n",
    "for i in range(2, 100):\n",
    "    _, _, s_score = mbkmeans_clusters(\n",
    "        X=vectorized_job_titles,\n",
    "        k=i,\n",
    "        mb=500,\n",
    "        print_silhouette_values=False\n",
    "    )\n",
    "    scores.append(s_score)"
   ]
  },
  {
   "cell_type": "code",
   "execution_count": 132,
   "metadata": {},
   "outputs": [
    {
     "data": {
      "image/png": "[encoded data removed]",
      "text/plain": [
       "<Figure size 640x480 with 1 Axes>"
      ]
     },
     "metadata": {},
     "output_type": "display_data"
    }
   ],
   "source": [
    "import matplotlib.pyplot as plt\n",
    "plt.plot(list(range(2, 100)), scores)\n",
    "plt.show()"
   ]
  },
  {
   "cell_type": "code",
   "execution_count": 133,
   "metadata": {},
   "outputs": [
    {
     "name": "stderr",
     "output_type": "stream",
     "text": [
      "c:\\Users\\Kackie\\anaconda3\\envs\\DataScience\\lib\\site-packages\\sklearn\\cluster\\_kmeans.py:1044: UserWarning: MiniBatchKMeans is known to have a memory leak on Windows with MKL, when there are less chunks than available threads. You can prevent it by setting batch_size >= 4096 or by setting the environment variable OMP_NUM_THREADS=2\n",
      "  \"MiniBatchKMeans is known to have a memory leak on \"\n"
     ]
    },
    {
     "name": "stdout",
     "output_type": "stream",
     "text": [
      "For n_clusters = 200\n",
      "Silhouette coefficient: 0.28\n",
      "Inertia:15825.359843852397\n"
     ]
    },
    {
     "name": "stderr",
     "output_type": "stream",
     "text": [
      "c:\\Users\\Kackie\\anaconda3\\envs\\DataScience\\lib\\site-packages\\sklearn\\cluster\\_kmeans.py:1044: UserWarning: MiniBatchKMeans is known to have a memory leak on Windows with MKL, when there are less chunks than available threads. You can prevent it by setting batch_size >= 4096 or by setting the environment variable OMP_NUM_THREADS=2\n",
      "  \"MiniBatchKMeans is known to have a memory leak on \"\n"
     ]
    },
    {
     "name": "stdout",
     "output_type": "stream",
     "text": [
      "For n_clusters = 250\n",
      "Silhouette coefficient: 0.32\n",
      "Inertia:14617.628627013433\n"
     ]
    },
    {
     "name": "stderr",
     "output_type": "stream",
     "text": [
      "c:\\Users\\Kackie\\anaconda3\\envs\\DataScience\\lib\\site-packages\\sklearn\\cluster\\_kmeans.py:1044: UserWarning: MiniBatchKMeans is known to have a memory leak on Windows with MKL, when there are less chunks than available threads. You can prevent it by setting batch_size >= 4096 or by setting the environment variable OMP_NUM_THREADS=2\n",
      "  \"MiniBatchKMeans is known to have a memory leak on \"\n"
     ]
    },
    {
     "name": "stdout",
     "output_type": "stream",
     "text": [
      "For n_clusters = 300\n",
      "Silhouette coefficient: 0.33\n",
      "Inertia:13824.50251127476\n"
     ]
    },
    {
     "name": "stderr",
     "output_type": "stream",
     "text": [
      "c:\\Users\\Kackie\\anaconda3\\envs\\DataScience\\lib\\site-packages\\sklearn\\cluster\\_kmeans.py:1044: UserWarning: MiniBatchKMeans is known to have a memory leak on Windows with MKL, when there are less chunks than available threads. You can prevent it by setting batch_size >= 4096 or by setting the environment variable OMP_NUM_THREADS=2\n",
      "  \"MiniBatchKMeans is known to have a memory leak on \"\n"
     ]
    },
    {
     "name": "stdout",
     "output_type": "stream",
     "text": [
      "For n_clusters = 350\n",
      "Silhouette coefficient: 0.35\n",
      "Inertia:13071.68640267748\n"
     ]
    },
    {
     "name": "stderr",
     "output_type": "stream",
     "text": [
      "c:\\Users\\Kackie\\anaconda3\\envs\\DataScience\\lib\\site-packages\\sklearn\\cluster\\_kmeans.py:1044: UserWarning: MiniBatchKMeans is known to have a memory leak on Windows with MKL, when there are less chunks than available threads. You can prevent it by setting batch_size >= 4096 or by setting the environment variable OMP_NUM_THREADS=2\n",
      "  \"MiniBatchKMeans is known to have a memory leak on \"\n"
     ]
    },
    {
     "name": "stdout",
     "output_type": "stream",
     "text": [
      "For n_clusters = 400\n",
      "Silhouette coefficient: 0.38\n",
      "Inertia:12453.440300247179\n"
     ]
    },
    {
     "name": "stderr",
     "output_type": "stream",
     "text": [
      "c:\\Users\\Kackie\\anaconda3\\envs\\DataScience\\lib\\site-packages\\sklearn\\cluster\\_kmeans.py:1044: UserWarning: MiniBatchKMeans is known to have a memory leak on Windows with MKL, when there are less chunks than available threads. You can prevent it by setting batch_size >= 4096 or by setting the environment variable OMP_NUM_THREADS=2\n",
      "  \"MiniBatchKMeans is known to have a memory leak on \"\n"
     ]
    },
    {
     "name": "stdout",
     "output_type": "stream",
     "text": [
      "For n_clusters = 450\n",
      "Silhouette coefficient: 0.39\n",
      "Inertia:11893.413274632052\n"
     ]
    },
    {
     "name": "stderr",
     "output_type": "stream",
     "text": [
      "c:\\Users\\Kackie\\anaconda3\\envs\\DataScience\\lib\\site-packages\\sklearn\\cluster\\_kmeans.py:1044: UserWarning: MiniBatchKMeans is known to have a memory leak on Windows with MKL, when there are less chunks than available threads. You can prevent it by setting batch_size >= 4096 or by setting the environment variable OMP_NUM_THREADS=2\n",
      "  \"MiniBatchKMeans is known to have a memory leak on \"\n"
     ]
    },
    {
     "name": "stdout",
     "output_type": "stream",
     "text": [
      "For n_clusters = 500\n",
      "Silhouette coefficient: 0.39\n",
      "Inertia:11304.147320019547\n"
     ]
    },
    {
     "name": "stderr",
     "output_type": "stream",
     "text": [
      "c:\\Users\\Kackie\\anaconda3\\envs\\DataScience\\lib\\site-packages\\sklearn\\cluster\\_kmeans.py:1044: UserWarning: MiniBatchKMeans is known to have a memory leak on Windows with MKL, when there are less chunks than available threads. You can prevent it by setting batch_size >= 4096 or by setting the environment variable OMP_NUM_THREADS=2\n",
      "  \"MiniBatchKMeans is known to have a memory leak on \"\n"
     ]
    },
    {
     "name": "stdout",
     "output_type": "stream",
     "text": [
      "For n_clusters = 550\n",
      "Silhouette coefficient: 0.41\n",
      "Inertia:10809.324244532638\n"
     ]
    },
    {
     "name": "stderr",
     "output_type": "stream",
     "text": [
      "c:\\Users\\Kackie\\anaconda3\\envs\\DataScience\\lib\\site-packages\\sklearn\\cluster\\_kmeans.py:1044: UserWarning: MiniBatchKMeans is known to have a memory leak on Windows with MKL, when there are less chunks than available threads. You can prevent it by setting batch_size >= 4096 or by setting the environment variable OMP_NUM_THREADS=2\n",
      "  \"MiniBatchKMeans is known to have a memory leak on \"\n"
     ]
    },
    {
     "name": "stdout",
     "output_type": "stream",
     "text": [
      "For n_clusters = 600\n",
      "Silhouette coefficient: 0.42\n",
      "Inertia:10282.081075416378\n"
     ]
    },
    {
     "name": "stderr",
     "output_type": "stream",
     "text": [
      "c:\\Users\\Kackie\\anaconda3\\envs\\DataScience\\lib\\site-packages\\sklearn\\cluster\\_kmeans.py:1044: UserWarning: MiniBatchKMeans is known to have a memory leak on Windows with MKL, when there are less chunks than available threads. You can prevent it by setting batch_size >= 4096 or by setting the environment variable OMP_NUM_THREADS=2\n",
      "  \"MiniBatchKMeans is known to have a memory leak on \"\n"
     ]
    },
    {
     "name": "stdout",
     "output_type": "stream",
     "text": [
      "For n_clusters = 650\n",
      "Silhouette coefficient: 0.43\n",
      "Inertia:10261.3728999326\n"
     ]
    },
    {
     "name": "stderr",
     "output_type": "stream",
     "text": [
      "c:\\Users\\Kackie\\anaconda3\\envs\\DataScience\\lib\\site-packages\\sklearn\\cluster\\_kmeans.py:1044: UserWarning: MiniBatchKMeans is known to have a memory leak on Windows with MKL, when there are less chunks than available threads. You can prevent it by setting batch_size >= 4096 or by setting the environment variable OMP_NUM_THREADS=2\n",
      "  \"MiniBatchKMeans is known to have a memory leak on \"\n"
     ]
    },
    {
     "name": "stdout",
     "output_type": "stream",
     "text": [
      "For n_clusters = 700\n",
      "Silhouette coefficient: 0.45\n",
      "Inertia:9642.38753686911\n"
     ]
    },
    {
     "name": "stderr",
     "output_type": "stream",
     "text": [
      "c:\\Users\\Kackie\\anaconda3\\envs\\DataScience\\lib\\site-packages\\sklearn\\cluster\\_kmeans.py:1044: UserWarning: MiniBatchKMeans is known to have a memory leak on Windows with MKL, when there are less chunks than available threads. You can prevent it by setting batch_size >= 4096 or by setting the environment variable OMP_NUM_THREADS=2\n",
      "  \"MiniBatchKMeans is known to have a memory leak on \"\n"
     ]
    },
    {
     "name": "stdout",
     "output_type": "stream",
     "text": [
      "For n_clusters = 750\n",
      "Silhouette coefficient: 0.45\n",
      "Inertia:9419.585956817464\n"
     ]
    },
    {
     "name": "stderr",
     "output_type": "stream",
     "text": [
      "c:\\Users\\Kackie\\anaconda3\\envs\\DataScience\\lib\\site-packages\\sklearn\\cluster\\_kmeans.py:1044: UserWarning: MiniBatchKMeans is known to have a memory leak on Windows with MKL, when there are less chunks than available threads. You can prevent it by setting batch_size >= 4096 or by setting the environment variable OMP_NUM_THREADS=2\n",
      "  \"MiniBatchKMeans is known to have a memory leak on \"\n"
     ]
    },
    {
     "name": "stdout",
     "output_type": "stream",
     "text": [
      "For n_clusters = 800\n",
      "Silhouette coefficient: 0.45\n",
      "Inertia:9448.488293959916\n"
     ]
    },
    {
     "name": "stderr",
     "output_type": "stream",
     "text": [
      "c:\\Users\\Kackie\\anaconda3\\envs\\DataScience\\lib\\site-packages\\sklearn\\cluster\\_kmeans.py:1044: UserWarning: MiniBatchKMeans is known to have a memory leak on Windows with MKL, when there are less chunks than available threads. You can prevent it by setting batch_size >= 4096 or by setting the environment variable OMP_NUM_THREADS=2\n",
      "  \"MiniBatchKMeans is known to have a memory leak on \"\n"
     ]
    },
    {
     "name": "stdout",
     "output_type": "stream",
     "text": [
      "For n_clusters = 850\n",
      "Silhouette coefficient: 0.47\n",
      "Inertia:8891.61019425498\n"
     ]
    },
    {
     "name": "stderr",
     "output_type": "stream",
     "text": [
      "c:\\Users\\Kackie\\anaconda3\\envs\\DataScience\\lib\\site-packages\\sklearn\\cluster\\_kmeans.py:1044: UserWarning: MiniBatchKMeans is known to have a memory leak on Windows with MKL, when there are less chunks than available threads. You can prevent it by setting batch_size >= 4096 or by setting the environment variable OMP_NUM_THREADS=2\n",
      "  \"MiniBatchKMeans is known to have a memory leak on \"\n"
     ]
    },
    {
     "name": "stdout",
     "output_type": "stream",
     "text": [
      "For n_clusters = 900\n",
      "Silhouette coefficient: 0.47\n",
      "Inertia:8745.287973470695\n"
     ]
    },
    {
     "name": "stderr",
     "output_type": "stream",
     "text": [
      "c:\\Users\\Kackie\\anaconda3\\envs\\DataScience\\lib\\site-packages\\sklearn\\cluster\\_kmeans.py:1044: UserWarning: MiniBatchKMeans is known to have a memory leak on Windows with MKL, when there are less chunks than available threads. You can prevent it by setting batch_size >= 4096 or by setting the environment variable OMP_NUM_THREADS=2\n",
      "  \"MiniBatchKMeans is known to have a memory leak on \"\n"
     ]
    },
    {
     "name": "stdout",
     "output_type": "stream",
     "text": [
      "For n_clusters = 950\n",
      "Silhouette coefficient: 0.49\n",
      "Inertia:8389.989457042118\n"
     ]
    }
   ],
   "source": [
    "# find the best number of clusters by silhouette score\n",
    "scores = []\n",
    "for i in range(200, 1000, 50):\n",
    "    _, _, s_score = mbkmeans_clusters(\n",
    "        X=vectorized_job_titles,\n",
    "        k=i,\n",
    "        mb=500,\n",
    "        print_silhouette_values=False\n",
    "    )\n",
    "    scores.append(s_score)"
   ]
  },
  {
   "cell_type": "code",
   "execution_count": 134,
   "metadata": {},
   "outputs": [
    {
     "data": {
      "image/png": "[encoded data removed]",
      "text/plain": [
       "<Figure size 640x480 with 1 Axes>"
      ]
     },
     "metadata": {},
     "output_type": "display_data"
    }
   ],
   "source": [
    "import matplotlib.pyplot as plt\n",
    "plt.plot(list(range(200, 1000, 50)), scores)\n",
    "plt.show()"
   ]
  },
  {
   "cell_type": "code",
   "execution_count": 135,
   "metadata": {},
   "outputs": [
    {
     "name": "stderr",
     "output_type": "stream",
     "text": [
      "c:\\Users\\Kackie\\anaconda3\\envs\\DataScience\\lib\\site-packages\\sklearn\\cluster\\_kmeans.py:1044: UserWarning: MiniBatchKMeans is known to have a memory leak on Windows with MKL, when there are less chunks than available threads. You can prevent it by setting batch_size >= 4096 or by setting the environment variable OMP_NUM_THREADS=2\n",
      "  \"MiniBatchKMeans is known to have a memory leak on \"\n"
     ]
    },
    {
     "name": "stdout",
     "output_type": "stream",
     "text": [
      "For n_clusters = 1000\n",
      "Silhouette coefficient: 0.48\n",
      "Inertia:8343.486808075375\n"
     ]
    },
    {
     "name": "stderr",
     "output_type": "stream",
     "text": [
      "c:\\Users\\Kackie\\anaconda3\\envs\\DataScience\\lib\\site-packages\\sklearn\\cluster\\_kmeans.py:1044: UserWarning: MiniBatchKMeans is known to have a memory leak on Windows with MKL, when there are less chunks than available threads. You can prevent it by setting batch_size >= 4096 or by setting the environment variable OMP_NUM_THREADS=2\n",
      "  \"MiniBatchKMeans is known to have a memory leak on \"\n"
     ]
    },
    {
     "name": "stdout",
     "output_type": "stream",
     "text": [
      "For n_clusters = 1100\n",
      "Silhouette coefficient: 0.50\n",
      "Inertia:7777.411516201758\n"
     ]
    },
    {
     "name": "stderr",
     "output_type": "stream",
     "text": [
      "c:\\Users\\Kackie\\anaconda3\\envs\\DataScience\\lib\\site-packages\\sklearn\\cluster\\_kmeans.py:1044: UserWarning: MiniBatchKMeans is known to have a memory leak on Windows with MKL, when there are less chunks than available threads. You can prevent it by setting batch_size >= 4096 or by setting the environment variable OMP_NUM_THREADS=2\n",
      "  \"MiniBatchKMeans is known to have a memory leak on \"\n"
     ]
    },
    {
     "name": "stdout",
     "output_type": "stream",
     "text": [
      "For n_clusters = 1200\n",
      "Silhouette coefficient: 0.51\n",
      "Inertia:7761.139395784848\n"
     ]
    },
    {
     "name": "stderr",
     "output_type": "stream",
     "text": [
      "c:\\Users\\Kackie\\anaconda3\\envs\\DataScience\\lib\\site-packages\\sklearn\\cluster\\_kmeans.py:1044: UserWarning: MiniBatchKMeans is known to have a memory leak on Windows with MKL, when there are less chunks than available threads. You can prevent it by setting batch_size >= 4096 or by setting the environment variable OMP_NUM_THREADS=2\n",
      "  \"MiniBatchKMeans is known to have a memory leak on \"\n"
     ]
    },
    {
     "name": "stdout",
     "output_type": "stream",
     "text": [
      "For n_clusters = 1300\n",
      "Silhouette coefficient: 0.52\n",
      "Inertia:7373.042643033305\n"
     ]
    },
    {
     "name": "stderr",
     "output_type": "stream",
     "text": [
      "c:\\Users\\Kackie\\anaconda3\\envs\\DataScience\\lib\\site-packages\\sklearn\\cluster\\_kmeans.py:1044: UserWarning: MiniBatchKMeans is known to have a memory leak on Windows with MKL, when there are less chunks than available threads. You can prevent it by setting batch_size >= 4096 or by setting the environment variable OMP_NUM_THREADS=2\n",
      "  \"MiniBatchKMeans is known to have a memory leak on \"\n"
     ]
    },
    {
     "name": "stdout",
     "output_type": "stream",
     "text": [
      "For n_clusters = 1400\n",
      "Silhouette coefficient: 0.53\n",
      "Inertia:6887.373218033455\n"
     ]
    },
    {
     "name": "stderr",
     "output_type": "stream",
     "text": [
      "c:\\Users\\Kackie\\anaconda3\\envs\\DataScience\\lib\\site-packages\\sklearn\\cluster\\_kmeans.py:1044: UserWarning: MiniBatchKMeans is known to have a memory leak on Windows with MKL, when there are less chunks than available threads. You can prevent it by setting batch_size >= 4096 or by setting the environment variable OMP_NUM_THREADS=2\n",
      "  \"MiniBatchKMeans is known to have a memory leak on \"\n"
     ]
    },
    {
     "name": "stdout",
     "output_type": "stream",
     "text": [
      "For n_clusters = 1500\n",
      "Silhouette coefficient: 0.54\n",
      "Inertia:6830.686332492045\n"
     ]
    },
    {
     "name": "stderr",
     "output_type": "stream",
     "text": [
      "c:\\Users\\Kackie\\anaconda3\\envs\\DataScience\\lib\\site-packages\\sklearn\\cluster\\_kmeans.py:1044: UserWarning: MiniBatchKMeans is known to have a memory leak on Windows with MKL, when there are less chunks than available threads. You can prevent it by setting batch_size >= 4096 or by setting the environment variable OMP_NUM_THREADS=2\n",
      "  \"MiniBatchKMeans is known to have a memory leak on \"\n"
     ]
    },
    {
     "name": "stdout",
     "output_type": "stream",
     "text": [
      "For n_clusters = 1600\n",
      "Silhouette coefficient: 0.55\n",
      "Inertia:6390.16845304599\n"
     ]
    },
    {
     "name": "stderr",
     "output_type": "stream",
     "text": [
      "c:\\Users\\Kackie\\anaconda3\\envs\\DataScience\\lib\\site-packages\\sklearn\\cluster\\_kmeans.py:1044: UserWarning: MiniBatchKMeans is known to have a memory leak on Windows with MKL, when there are less chunks than available threads. You can prevent it by setting batch_size >= 4096 or by setting the environment variable OMP_NUM_THREADS=2\n",
      "  \"MiniBatchKMeans is known to have a memory leak on \"\n"
     ]
    },
    {
     "name": "stdout",
     "output_type": "stream",
     "text": [
      "For n_clusters = 1700\n",
      "Silhouette coefficient: 0.55\n",
      "Inertia:6204.529100369795\n"
     ]
    },
    {
     "name": "stderr",
     "output_type": "stream",
     "text": [
      "c:\\Users\\Kackie\\anaconda3\\envs\\DataScience\\lib\\site-packages\\sklearn\\cluster\\_kmeans.py:1044: UserWarning: MiniBatchKMeans is known to have a memory leak on Windows with MKL, when there are less chunks than available threads. You can prevent it by setting batch_size >= 4096 or by setting the environment variable OMP_NUM_THREADS=2\n",
      "  \"MiniBatchKMeans is known to have a memory leak on \"\n"
     ]
    },
    {
     "name": "stdout",
     "output_type": "stream",
     "text": [
      "For n_clusters = 1800\n",
      "Silhouette coefficient: 0.56\n",
      "Inertia:5924.020241958763\n"
     ]
    },
    {
     "name": "stderr",
     "output_type": "stream",
     "text": [
      "c:\\Users\\Kackie\\anaconda3\\envs\\DataScience\\lib\\site-packages\\sklearn\\cluster\\_kmeans.py:1044: UserWarning: MiniBatchKMeans is known to have a memory leak on Windows with MKL, when there are less chunks than available threads. You can prevent it by setting batch_size >= 4096 or by setting the environment variable OMP_NUM_THREADS=2\n",
      "  \"MiniBatchKMeans is known to have a memory leak on \"\n"
     ]
    },
    {
     "name": "stdout",
     "output_type": "stream",
     "text": [
      "For n_clusters = 1900\n",
      "Silhouette coefficient: 0.54\n",
      "Inertia:7176.675247781882\n"
     ]
    },
    {
     "name": "stderr",
     "output_type": "stream",
     "text": [
      "c:\\Users\\Kackie\\anaconda3\\envs\\DataScience\\lib\\site-packages\\sklearn\\cluster\\_kmeans.py:1044: UserWarning: MiniBatchKMeans is known to have a memory leak on Windows with MKL, when there are less chunks than available threads. You can prevent it by setting batch_size >= 4096 or by setting the environment variable OMP_NUM_THREADS=2\n",
      "  \"MiniBatchKMeans is known to have a memory leak on \"\n"
     ]
    },
    {
     "name": "stdout",
     "output_type": "stream",
     "text": [
      "For n_clusters = 2000\n",
      "Silhouette coefficient: 0.57\n",
      "Inertia:5662.494243199713\n"
     ]
    },
    {
     "name": "stderr",
     "output_type": "stream",
     "text": [
      "c:\\Users\\Kackie\\anaconda3\\envs\\DataScience\\lib\\site-packages\\sklearn\\cluster\\_kmeans.py:1044: UserWarning: MiniBatchKMeans is known to have a memory leak on Windows with MKL, when there are less chunks than available threads. You can prevent it by setting batch_size >= 4096 or by setting the environment variable OMP_NUM_THREADS=2\n",
      "  \"MiniBatchKMeans is known to have a memory leak on \"\n"
     ]
    },
    {
     "name": "stdout",
     "output_type": "stream",
     "text": [
      "For n_clusters = 2100\n",
      "Silhouette coefficient: 0.58\n",
      "Inertia:5163.984166894702\n"
     ]
    },
    {
     "name": "stderr",
     "output_type": "stream",
     "text": [
      "c:\\Users\\Kackie\\anaconda3\\envs\\DataScience\\lib\\site-packages\\sklearn\\cluster\\_kmeans.py:1044: UserWarning: MiniBatchKMeans is known to have a memory leak on Windows with MKL, when there are less chunks than available threads. You can prevent it by setting batch_size >= 4096 or by setting the environment variable OMP_NUM_THREADS=2\n",
      "  \"MiniBatchKMeans is known to have a memory leak on \"\n"
     ]
    },
    {
     "name": "stdout",
     "output_type": "stream",
     "text": [
      "For n_clusters = 2200\n",
      "Silhouette coefficient: 0.56\n",
      "Inertia:6697.64243208389\n"
     ]
    },
    {
     "name": "stderr",
     "output_type": "stream",
     "text": [
      "c:\\Users\\Kackie\\anaconda3\\envs\\DataScience\\lib\\site-packages\\sklearn\\cluster\\_kmeans.py:1044: UserWarning: MiniBatchKMeans is known to have a memory leak on Windows with MKL, when there are less chunks than available threads. You can prevent it by setting batch_size >= 4096 or by setting the environment variable OMP_NUM_THREADS=2\n",
      "  \"MiniBatchKMeans is known to have a memory leak on \"\n"
     ]
    },
    {
     "name": "stdout",
     "output_type": "stream",
     "text": [
      "For n_clusters = 2300\n",
      "Silhouette coefficient: 0.56\n",
      "Inertia:6559.62461370682\n"
     ]
    },
    {
     "name": "stderr",
     "output_type": "stream",
     "text": [
      "c:\\Users\\Kackie\\anaconda3\\envs\\DataScience\\lib\\site-packages\\sklearn\\cluster\\_kmeans.py:1044: UserWarning: MiniBatchKMeans is known to have a memory leak on Windows with MKL, when there are less chunks than available threads. You can prevent it by setting batch_size >= 4096 or by setting the environment variable OMP_NUM_THREADS=2\n",
      "  \"MiniBatchKMeans is known to have a memory leak on \"\n"
     ]
    },
    {
     "name": "stdout",
     "output_type": "stream",
     "text": [
      "For n_clusters = 2400\n",
      "Silhouette coefficient: 0.57\n",
      "Inertia:6174.540756537664\n"
     ]
    },
    {
     "name": "stderr",
     "output_type": "stream",
     "text": [
      "c:\\Users\\Kackie\\anaconda3\\envs\\DataScience\\lib\\site-packages\\sklearn\\cluster\\_kmeans.py:1044: UserWarning: MiniBatchKMeans is known to have a memory leak on Windows with MKL, when there are less chunks than available threads. You can prevent it by setting batch_size >= 4096 or by setting the environment variable OMP_NUM_THREADS=2\n",
      "  \"MiniBatchKMeans is known to have a memory leak on \"\n"
     ]
    },
    {
     "name": "stdout",
     "output_type": "stream",
     "text": [
      "For n_clusters = 2500\n",
      "Silhouette coefficient: 0.57\n",
      "Inertia:6413.947063407154\n"
     ]
    },
    {
     "name": "stderr",
     "output_type": "stream",
     "text": [
      "c:\\Users\\Kackie\\anaconda3\\envs\\DataScience\\lib\\site-packages\\sklearn\\cluster\\_kmeans.py:1044: UserWarning: MiniBatchKMeans is known to have a memory leak on Windows with MKL, when there are less chunks than available threads. You can prevent it by setting batch_size >= 4096 or by setting the environment variable OMP_NUM_THREADS=2\n",
      "  \"MiniBatchKMeans is known to have a memory leak on \"\n"
     ]
    },
    {
     "name": "stdout",
     "output_type": "stream",
     "text": [
      "For n_clusters = 2600\n",
      "Silhouette coefficient: 0.58\n",
      "Inertia:6034.977155981688\n"
     ]
    },
    {
     "name": "stderr",
     "output_type": "stream",
     "text": [
      "c:\\Users\\Kackie\\anaconda3\\envs\\DataScience\\lib\\site-packages\\sklearn\\cluster\\_kmeans.py:1044: UserWarning: MiniBatchKMeans is known to have a memory leak on Windows with MKL, when there are less chunks than available threads. You can prevent it by setting batch_size >= 4096 or by setting the environment variable OMP_NUM_THREADS=2\n",
      "  \"MiniBatchKMeans is known to have a memory leak on \"\n"
     ]
    },
    {
     "name": "stdout",
     "output_type": "stream",
     "text": [
      "For n_clusters = 2700\n",
      "Silhouette coefficient: 0.62\n",
      "Inertia:4029.9464895121487\n"
     ]
    },
    {
     "name": "stderr",
     "output_type": "stream",
     "text": [
      "c:\\Users\\Kackie\\anaconda3\\envs\\DataScience\\lib\\site-packages\\sklearn\\cluster\\_kmeans.py:1044: UserWarning: MiniBatchKMeans is known to have a memory leak on Windows with MKL, when there are less chunks than available threads. You can prevent it by setting batch_size >= 4096 or by setting the environment variable OMP_NUM_THREADS=2\n",
      "  \"MiniBatchKMeans is known to have a memory leak on \"\n"
     ]
    },
    {
     "name": "stdout",
     "output_type": "stream",
     "text": [
      "For n_clusters = 2800\n",
      "Silhouette coefficient: 0.60\n",
      "Inertia:5404.028642280558\n"
     ]
    },
    {
     "name": "stderr",
     "output_type": "stream",
     "text": [
      "c:\\Users\\Kackie\\anaconda3\\envs\\DataScience\\lib\\site-packages\\sklearn\\cluster\\_kmeans.py:1044: UserWarning: MiniBatchKMeans is known to have a memory leak on Windows with MKL, when there are less chunks than available threads. You can prevent it by setting batch_size >= 4096 or by setting the environment variable OMP_NUM_THREADS=2\n",
      "  \"MiniBatchKMeans is known to have a memory leak on \"\n"
     ]
    },
    {
     "name": "stdout",
     "output_type": "stream",
     "text": [
      "For n_clusters = 2900\n",
      "Silhouette coefficient: 0.59\n",
      "Inertia:5649.454779404123\n"
     ]
    },
    {
     "name": "stderr",
     "output_type": "stream",
     "text": [
      "c:\\Users\\Kackie\\anaconda3\\envs\\DataScience\\lib\\site-packages\\sklearn\\cluster\\_kmeans.py:1044: UserWarning: MiniBatchKMeans is known to have a memory leak on Windows with MKL, when there are less chunks than available threads. You can prevent it by setting batch_size >= 4096 or by setting the environment variable OMP_NUM_THREADS=2\n",
      "  \"MiniBatchKMeans is known to have a memory leak on \"\n"
     ]
    },
    {
     "name": "stdout",
     "output_type": "stream",
     "text": [
      "For n_clusters = 3000\n",
      "Silhouette coefficient: 0.62\n",
      "Inertia:4632.43962957574\n"
     ]
    },
    {
     "name": "stderr",
     "output_type": "stream",
     "text": [
      "c:\\Users\\Kackie\\anaconda3\\envs\\DataScience\\lib\\site-packages\\sklearn\\cluster\\_kmeans.py:1044: UserWarning: MiniBatchKMeans is known to have a memory leak on Windows with MKL, when there are less chunks than available threads. You can prevent it by setting batch_size >= 4096 or by setting the environment variable OMP_NUM_THREADS=2\n",
      "  \"MiniBatchKMeans is known to have a memory leak on \"\n"
     ]
    },
    {
     "name": "stdout",
     "output_type": "stream",
     "text": [
      "For n_clusters = 3100\n",
      "Silhouette coefficient: 0.62\n",
      "Inertia:4414.659408898083\n"
     ]
    },
    {
     "name": "stderr",
     "output_type": "stream",
     "text": [
      "c:\\Users\\Kackie\\anaconda3\\envs\\DataScience\\lib\\site-packages\\sklearn\\cluster\\_kmeans.py:1044: UserWarning: MiniBatchKMeans is known to have a memory leak on Windows with MKL, when there are less chunks than available threads. You can prevent it by setting batch_size >= 4096 or by setting the environment variable OMP_NUM_THREADS=2\n",
      "  \"MiniBatchKMeans is known to have a memory leak on \"\n"
     ]
    },
    {
     "name": "stdout",
     "output_type": "stream",
     "text": [
      "For n_clusters = 3200\n",
      "Silhouette coefficient: 0.64\n",
      "Inertia:3459.049868439754\n"
     ]
    },
    {
     "name": "stderr",
     "output_type": "stream",
     "text": [
      "c:\\Users\\Kackie\\anaconda3\\envs\\DataScience\\lib\\site-packages\\sklearn\\cluster\\_kmeans.py:1044: UserWarning: MiniBatchKMeans is known to have a memory leak on Windows with MKL, when there are less chunks than available threads. You can prevent it by setting batch_size >= 4096 or by setting the environment variable OMP_NUM_THREADS=2\n",
      "  \"MiniBatchKMeans is known to have a memory leak on \"\n"
     ]
    },
    {
     "name": "stdout",
     "output_type": "stream",
     "text": [
      "For n_clusters = 3300\n",
      "Silhouette coefficient: 0.61\n",
      "Inertia:4963.3186509241505\n"
     ]
    },
    {
     "name": "stderr",
     "output_type": "stream",
     "text": [
      "c:\\Users\\Kackie\\anaconda3\\envs\\DataScience\\lib\\site-packages\\sklearn\\cluster\\_kmeans.py:1044: UserWarning: MiniBatchKMeans is known to have a memory leak on Windows with MKL, when there are less chunks than available threads. You can prevent it by setting batch_size >= 4096 or by setting the environment variable OMP_NUM_THREADS=2\n",
      "  \"MiniBatchKMeans is known to have a memory leak on \"\n"
     ]
    },
    {
     "name": "stdout",
     "output_type": "stream",
     "text": [
      "For n_clusters = 3400\n",
      "Silhouette coefficient: 0.61\n",
      "Inertia:4765.006750420458\n"
     ]
    },
    {
     "name": "stderr",
     "output_type": "stream",
     "text": [
      "c:\\Users\\Kackie\\anaconda3\\envs\\DataScience\\lib\\site-packages\\sklearn\\cluster\\_kmeans.py:1044: UserWarning: MiniBatchKMeans is known to have a memory leak on Windows with MKL, when there are less chunks than available threads. You can prevent it by setting batch_size >= 4096 or by setting the environment variable OMP_NUM_THREADS=2\n",
      "  \"MiniBatchKMeans is known to have a memory leak on \"\n"
     ]
    },
    {
     "name": "stdout",
     "output_type": "stream",
     "text": [
      "For n_clusters = 3500\n",
      "Silhouette coefficient: 0.64\n",
      "Inertia:3778.5435306793734\n"
     ]
    },
    {
     "name": "stderr",
     "output_type": "stream",
     "text": [
      "c:\\Users\\Kackie\\anaconda3\\envs\\DataScience\\lib\\site-packages\\sklearn\\cluster\\_kmeans.py:1044: UserWarning: MiniBatchKMeans is known to have a memory leak on Windows with MKL, when there are less chunks than available threads. You can prevent it by setting batch_size >= 4096 or by setting the environment variable OMP_NUM_THREADS=2\n",
      "  \"MiniBatchKMeans is known to have a memory leak on \"\n"
     ]
    },
    {
     "name": "stdout",
     "output_type": "stream",
     "text": [
      "For n_clusters = 3600\n",
      "Silhouette coefficient: 0.63\n",
      "Inertia:4087.1862214795615\n"
     ]
    },
    {
     "name": "stderr",
     "output_type": "stream",
     "text": [
      "c:\\Users\\Kackie\\anaconda3\\envs\\DataScience\\lib\\site-packages\\sklearn\\cluster\\_kmeans.py:1044: UserWarning: MiniBatchKMeans is known to have a memory leak on Windows with MKL, when there are less chunks than available threads. You can prevent it by setting batch_size >= 4096 or by setting the environment variable OMP_NUM_THREADS=2\n",
      "  \"MiniBatchKMeans is known to have a memory leak on \"\n"
     ]
    },
    {
     "name": "stdout",
     "output_type": "stream",
     "text": [
      "For n_clusters = 3700\n",
      "Silhouette coefficient: 0.63\n",
      "Inertia:4227.417484854356\n"
     ]
    },
    {
     "name": "stderr",
     "output_type": "stream",
     "text": [
      "c:\\Users\\Kackie\\anaconda3\\envs\\DataScience\\lib\\site-packages\\sklearn\\cluster\\_kmeans.py:1044: UserWarning: MiniBatchKMeans is known to have a memory leak on Windows with MKL, when there are less chunks than available threads. You can prevent it by setting batch_size >= 4096 or by setting the environment variable OMP_NUM_THREADS=2\n",
      "  \"MiniBatchKMeans is known to have a memory leak on \"\n"
     ]
    },
    {
     "name": "stdout",
     "output_type": "stream",
     "text": [
      "For n_clusters = 3800\n",
      "Silhouette coefficient: 0.64\n",
      "Inertia:3879.8698453737034\n"
     ]
    },
    {
     "name": "stderr",
     "output_type": "stream",
     "text": [
      "c:\\Users\\Kackie\\anaconda3\\envs\\DataScience\\lib\\site-packages\\sklearn\\cluster\\_kmeans.py:1044: UserWarning: MiniBatchKMeans is known to have a memory leak on Windows with MKL, when there are less chunks than available threads. You can prevent it by setting batch_size >= 4096 or by setting the environment variable OMP_NUM_THREADS=2\n",
      "  \"MiniBatchKMeans is known to have a memory leak on \"\n"
     ]
    },
    {
     "name": "stdout",
     "output_type": "stream",
     "text": [
      "For n_clusters = 3900\n",
      "Silhouette coefficient: 0.65\n",
      "Inertia:3409.080062117052\n"
     ]
    },
    {
     "name": "stderr",
     "output_type": "stream",
     "text": [
      "c:\\Users\\Kackie\\anaconda3\\envs\\DataScience\\lib\\site-packages\\sklearn\\cluster\\_kmeans.py:1044: UserWarning: MiniBatchKMeans is known to have a memory leak on Windows with MKL, when there are less chunks than available threads. You can prevent it by setting batch_size >= 4096 or by setting the environment variable OMP_NUM_THREADS=2\n",
      "  \"MiniBatchKMeans is known to have a memory leak on \"\n"
     ]
    },
    {
     "name": "stdout",
     "output_type": "stream",
     "text": [
      "For n_clusters = 4000\n",
      "Silhouette coefficient: 0.65\n",
      "Inertia:3619.717380637986\n"
     ]
    },
    {
     "name": "stderr",
     "output_type": "stream",
     "text": [
      "c:\\Users\\Kackie\\anaconda3\\envs\\DataScience\\lib\\site-packages\\sklearn\\cluster\\_kmeans.py:1044: UserWarning: MiniBatchKMeans is known to have a memory leak on Windows with MKL, when there are less chunks than available threads. You can prevent it by setting batch_size >= 4096 or by setting the environment variable OMP_NUM_THREADS=2\n",
      "  \"MiniBatchKMeans is known to have a memory leak on \"\n"
     ]
    },
    {
     "name": "stdout",
     "output_type": "stream",
     "text": [
      "For n_clusters = 4100\n",
      "Silhouette coefficient: 0.64\n",
      "Inertia:3611.674678347521\n"
     ]
    },
    {
     "name": "stderr",
     "output_type": "stream",
     "text": [
      "c:\\Users\\Kackie\\anaconda3\\envs\\DataScience\\lib\\site-packages\\sklearn\\cluster\\_kmeans.py:1044: UserWarning: MiniBatchKMeans is known to have a memory leak on Windows with MKL, when there are less chunks than available threads. You can prevent it by setting batch_size >= 4096 or by setting the environment variable OMP_NUM_THREADS=2\n",
      "  \"MiniBatchKMeans is known to have a memory leak on \"\n"
     ]
    },
    {
     "name": "stdout",
     "output_type": "stream",
     "text": [
      "For n_clusters = 4200\n",
      "Silhouette coefficient: 0.64\n",
      "Inertia:3826.136585115016\n"
     ]
    },
    {
     "name": "stderr",
     "output_type": "stream",
     "text": [
      "c:\\Users\\Kackie\\anaconda3\\envs\\DataScience\\lib\\site-packages\\sklearn\\cluster\\_kmeans.py:1044: UserWarning: MiniBatchKMeans is known to have a memory leak on Windows with MKL, when there are less chunks than available threads. You can prevent it by setting batch_size >= 4096 or by setting the environment variable OMP_NUM_THREADS=2\n",
      "  \"MiniBatchKMeans is known to have a memory leak on \"\n"
     ]
    },
    {
     "name": "stdout",
     "output_type": "stream",
     "text": [
      "For n_clusters = 4300\n",
      "Silhouette coefficient: 0.66\n",
      "Inertia:3493.9657346415693\n"
     ]
    },
    {
     "name": "stderr",
     "output_type": "stream",
     "text": [
      "c:\\Users\\Kackie\\anaconda3\\envs\\DataScience\\lib\\site-packages\\sklearn\\cluster\\_kmeans.py:1044: UserWarning: MiniBatchKMeans is known to have a memory leak on Windows with MKL, when there are less chunks than available threads. You can prevent it by setting batch_size >= 4096 or by setting the environment variable OMP_NUM_THREADS=2\n",
      "  \"MiniBatchKMeans is known to have a memory leak on \"\n"
     ]
    },
    {
     "name": "stdout",
     "output_type": "stream",
     "text": [
      "For n_clusters = 4400\n",
      "Silhouette coefficient: 0.67\n",
      "Inertia:2747.3641925810257\n"
     ]
    },
    {
     "name": "stderr",
     "output_type": "stream",
     "text": [
      "c:\\Users\\Kackie\\anaconda3\\envs\\DataScience\\lib\\site-packages\\sklearn\\cluster\\_kmeans.py:1044: UserWarning: MiniBatchKMeans is known to have a memory leak on Windows with MKL, when there are less chunks than available threads. You can prevent it by setting batch_size >= 4096 or by setting the environment variable OMP_NUM_THREADS=2\n",
      "  \"MiniBatchKMeans is known to have a memory leak on \"\n"
     ]
    },
    {
     "name": "stdout",
     "output_type": "stream",
     "text": [
      "For n_clusters = 4500\n",
      "Silhouette coefficient: 0.67\n",
      "Inertia:2774.458000238058\n"
     ]
    },
    {
     "name": "stderr",
     "output_type": "stream",
     "text": [
      "c:\\Users\\Kackie\\anaconda3\\envs\\DataScience\\lib\\site-packages\\sklearn\\cluster\\_kmeans.py:1044: UserWarning: MiniBatchKMeans is known to have a memory leak on Windows with MKL, when there are less chunks than available threads. You can prevent it by setting batch_size >= 4096 or by setting the environment variable OMP_NUM_THREADS=2\n",
      "  \"MiniBatchKMeans is known to have a memory leak on \"\n"
     ]
    },
    {
     "name": "stdout",
     "output_type": "stream",
     "text": [
      "For n_clusters = 4600\n",
      "Silhouette coefficient: 0.65\n",
      "Inertia:3496.3123415478744\n"
     ]
    },
    {
     "name": "stderr",
     "output_type": "stream",
     "text": [
      "c:\\Users\\Kackie\\anaconda3\\envs\\DataScience\\lib\\site-packages\\sklearn\\cluster\\_kmeans.py:1044: UserWarning: MiniBatchKMeans is known to have a memory leak on Windows with MKL, when there are less chunks than available threads. You can prevent it by setting batch_size >= 4096 or by setting the environment variable OMP_NUM_THREADS=2\n",
      "  \"MiniBatchKMeans is known to have a memory leak on \"\n"
     ]
    },
    {
     "name": "stdout",
     "output_type": "stream",
     "text": [
      "For n_clusters = 4700\n",
      "Silhouette coefficient: 0.67\n",
      "Inertia:2763.1063398242272\n"
     ]
    },
    {
     "name": "stderr",
     "output_type": "stream",
     "text": [
      "c:\\Users\\Kackie\\anaconda3\\envs\\DataScience\\lib\\site-packages\\sklearn\\cluster\\_kmeans.py:1044: UserWarning: MiniBatchKMeans is known to have a memory leak on Windows with MKL, when there are less chunks than available threads. You can prevent it by setting batch_size >= 4096 or by setting the environment variable OMP_NUM_THREADS=2\n",
      "  \"MiniBatchKMeans is known to have a memory leak on \"\n"
     ]
    },
    {
     "name": "stdout",
     "output_type": "stream",
     "text": [
      "For n_clusters = 4800\n",
      "Silhouette coefficient: 0.68\n",
      "Inertia:2302.41215587872\n"
     ]
    },
    {
     "name": "stderr",
     "output_type": "stream",
     "text": [
      "c:\\Users\\Kackie\\anaconda3\\envs\\DataScience\\lib\\site-packages\\sklearn\\cluster\\_kmeans.py:1044: UserWarning: MiniBatchKMeans is known to have a memory leak on Windows with MKL, when there are less chunks than available threads. You can prevent it by setting batch_size >= 4096 or by setting the environment variable OMP_NUM_THREADS=2\n",
      "  \"MiniBatchKMeans is known to have a memory leak on \"\n"
     ]
    },
    {
     "name": "stdout",
     "output_type": "stream",
     "text": [
      "For n_clusters = 4900\n",
      "Silhouette coefficient: 0.69\n",
      "Inertia:2294.6910943352823\n"
     ]
    }
   ],
   "source": [
    "# find the best number of clusters by silhouette score\n",
    "scores = []\n",
    "for i in range(1000, 5000, 100):\n",
    "    _, _, s_score = mbkmeans_clusters(\n",
    "        X=vectorized_job_titles,\n",
    "        k=i,\n",
    "        mb=500,\n",
    "        print_silhouette_values=False\n",
    "    )\n",
    "    scores.append(s_score)"
   ]
  },
  {
   "cell_type": "code",
   "execution_count": 136,
   "metadata": {},
   "outputs": [
    {
     "data": {
      "image/png": "[encoded data removed]",
      "text/plain": [
       "<Figure size 640x480 with 1 Axes>"
      ]
     },
     "metadata": {},
     "output_type": "display_data"
    }
   ],
   "source": [
    "import matplotlib.pyplot as plt\n",
    "plt.plot(list(range(1000, 5000, 100)), scores)\n",
    "plt.show()"
   ]
  },
  {
   "cell_type": "code",
   "execution_count": null,
   "metadata": {},
   "outputs": [],
   "source": []
  },
  {
   "cell_type": "code",
   "execution_count": null,
   "metadata": {},
   "outputs": [],
   "source": []
  },
  {
   "cell_type": "code",
   "execution_count": null,
   "metadata": {},
   "outputs": [],
   "source": []
  },
  {
   "cell_type": "code",
   "execution_count": null,
   "metadata": {},
   "outputs": [],
   "source": []
  },
  {
   "cell_type": "code",
   "execution_count": 13,
   "metadata": {},
   "outputs": [],
   "source": [
    "# get the clusters\n",
    "df_clusters = pd.DataFrame({\n",
    "    \"text\": job_titles,\n",
    "    \"tokens\": [\" \".join(text) for text in job_titles_tokenized],\n",
    "    \"cluster\": cluster_labels\n",
    "})"
   ]
  },
  {
   "cell_type": "code",
   "execution_count": 14,
   "metadata": {},
   "outputs": [
    {
     "data": {
      "text/html": [
       "<div>\n",
       "<style scoped>\n",
       "    .dataframe tbody tr th:only-of-type {\n",
       "        vertical-align: middle;\n",
       "    }\n",
       "\n",
       "    .dataframe tbody tr th {\n",
       "        vertical-align: top;\n",
       "    }\n",
       "\n",
       "    .dataframe thead th {\n",
       "        text-align: right;\n",
       "    }\n",
       "</style>\n",
       "<table border=\"1\" class=\"dataframe\">\n",
       "  <thead>\n",
       "    <tr style=\"text-align: right;\">\n",
       "      <th></th>\n",
       "      <th>text</th>\n",
       "      <th>tokens</th>\n",
       "      <th>cluster</th>\n",
       "    </tr>\n",
       "  </thead>\n",
       "  <tbody>\n",
       "    <tr>\n",
       "      <th>0</th>\n",
       "      <td>Chief Financial Officer</td>\n",
       "      <td>chief financial officer</td>\n",
       "      <td>34</td>\n",
       "    </tr>\n",
       "    <tr>\n",
       "      <th>1</th>\n",
       "      <td>Country Coordinator</td>\n",
       "      <td>country coordinator</td>\n",
       "      <td>10</td>\n",
       "    </tr>\n",
       "    <tr>\n",
       "      <th>2</th>\n",
       "      <td>BCC Specialist</td>\n",
       "      <td>bcc specialist</td>\n",
       "      <td>38</td>\n",
       "    </tr>\n",
       "    <tr>\n",
       "      <th>3</th>\n",
       "      <td>Saleswoman</td>\n",
       "      <td>saleswoman</td>\n",
       "      <td>11</td>\n",
       "    </tr>\n",
       "    <tr>\n",
       "      <th>4</th>\n",
       "      <td>Chief Accountant/ Finance Assistant</td>\n",
       "      <td>chief finance assistant</td>\n",
       "      <td>32</td>\n",
       "    </tr>\n",
       "    <tr>\n",
       "      <th>...</th>\n",
       "      <td>...</td>\n",
       "      <td>...</td>\n",
       "      <td>...</td>\n",
       "    </tr>\n",
       "    <tr>\n",
       "      <th>15085</th>\n",
       "      <td>.NET Developer</td>\n",
       "      <td>developer</td>\n",
       "      <td>8</td>\n",
       "    </tr>\n",
       "    <tr>\n",
       "      <th>15086</th>\n",
       "      <td>Deputy Director</td>\n",
       "      <td>deputy director</td>\n",
       "      <td>17</td>\n",
       "    </tr>\n",
       "    <tr>\n",
       "      <th>15087</th>\n",
       "      <td>Senior Creative UX/ UI Designer</td>\n",
       "      <td>senior creative ui designer</td>\n",
       "      <td>18</td>\n",
       "    </tr>\n",
       "    <tr>\n",
       "      <th>15088</th>\n",
       "      <td>Head of Online Sales Department</td>\n",
       "      <td>head online sale department</td>\n",
       "      <td>30</td>\n",
       "    </tr>\n",
       "    <tr>\n",
       "      <th>15089</th>\n",
       "      <td>Lawyer in Legal Department</td>\n",
       "      <td>lawyer legal department</td>\n",
       "      <td>16</td>\n",
       "    </tr>\n",
       "  </tbody>\n",
       "</table>\n",
       "<p>15090 rows × 3 columns</p>\n",
       "</div>"
      ],
      "text/plain": [
       "                                      text                       tokens  \\\n",
       "0                  Chief Financial Officer      chief financial officer   \n",
       "1                      Country Coordinator          country coordinator   \n",
       "2                           BCC Specialist               bcc specialist   \n",
       "3                               Saleswoman                   saleswoman   \n",
       "4      Chief Accountant/ Finance Assistant      chief finance assistant   \n",
       "...                                    ...                          ...   \n",
       "15085                       .NET Developer                    developer   \n",
       "15086                      Deputy Director              deputy director   \n",
       "15087      Senior Creative UX/ UI Designer  senior creative ui designer   \n",
       "15088      Head of Online Sales Department  head online sale department   \n",
       "15089           Lawyer in Legal Department      lawyer legal department   \n",
       "\n",
       "       cluster  \n",
       "0           34  \n",
       "1           10  \n",
       "2           38  \n",
       "3           11  \n",
       "4           32  \n",
       "...        ...  \n",
       "15085        8  \n",
       "15086       17  \n",
       "15087       18  \n",
       "15088       30  \n",
       "15089       16  \n",
       "\n",
       "[15090 rows x 3 columns]"
      ]
     },
     "execution_count": 14,
     "metadata": {},
     "output_type": "execute_result"
    }
   ],
   "source": [
    "df_clusters"
   ]
  },
  {
   "cell_type": "code",
   "execution_count": 15,
   "metadata": {},
   "outputs": [
    {
     "name": "stdout",
     "output_type": "stream",
     "text": [
      "Most representative terms per cluster (based on centroids):\n",
      "Cluster 0: merchandiser merchandising visual_merchandiser merchandisers merchandizing \n",
      "Cluster 1: engineer engineering mechanical_engineer electrical_engineer Mike_Di_Filippo \n",
      "Cluster 2: sale manager buyer sold sell \n",
      "Cluster 3: manager vice_president manger director supervisor \n",
      "Cluster 4: finance treasurer executive vice_president Ellen_Roseman_writes \n",
      "Cluster 5: developer developers Active_Endpoints_www.activevos.com Panda_Software_www.pandasoftware.com Developer \n",
      "Cluster 6: administrative assistant adminstrative Sherri_Sera representative_Laurie_Hamit \n",
      "Cluster 7: journalist writer researcher scientist editor \n",
      "Cluster 8: developer developers Developer Developers Jack_Antaramian \n",
      "Cluster 9: translator interpreter interpretor FOREIGN_MINISTER_Via PRESIDENT_ABBAS_Via \n",
      "Cluster 10: administrator coordinator director secretary adminstrator \n",
      "Cluster 11: receptionist waitress salesperson cashier saleswoman \n",
      "Cluster 12: java developer developers Panda_Software_www.pandasoftware.com Active_Endpoints_www.activevos.com \n",
      "Cluster 13: medical representative physician doctor pharmacist \n",
      "Cluster 14: cashier teller clerk cashiers tellers \n",
      "Cluster 15: accountant chartered_accountant bookkeeper accountants auditor \n",
      "Cluster 16: specialist consultant Axispoint_specializes LLC_www.equityallianceir.com LISA_MICHALS_covers \n",
      "Cluster 17: director executive vice_president coordinator managing_director \n",
      "Cluster 18: designer designers Designer fashion_designer desinger \n",
      "Cluster 19: developer developers Active_Endpoints_www.activevos.com software Panda_Software_www.pandasoftware.com \n",
      "Cluster 20: engineer electrical_engineer mechanical_engineer engineering Engineer \n",
      "Cluster 21: lawyer attorney lawyers laywer solicitor \n",
      "Cluster 22: manager vice_president manger director mananger \n",
      "Cluster 23: loan credit officer Sandra_Jansky loans \n",
      "Cluster 24: programmer programmers coder Programmer programer \n",
      "Cluster 25: project manager coordinator director supervisor \n",
      "Cluster 26: intern internship unpaid_intern interns interning \n",
      "Cluster 27: manager marketing vice_president vp svp \n",
      "Cluster 28: auditor audit auditors auditing audits \n",
      "Cluster 29: engineer software engineering electrical_engineer programmer \n",
      "Cluster 30: officer supervisor employee MAST_ambulance Randal_Stumpf \n",
      "Cluster 31: developer developers Panda_Software_www.pandasoftware.com Active_Endpoints_www.activevos.com Developer \n",
      "Cluster 32: assistant associate assitant director manager \n",
      "Cluster 33: analyst economist Analyst anlayst strategist \n",
      "Cluster 34: accountant chief officer administrator consultant \n",
      "Cluster 35: Axispoint_specializes Elizabeth_Lechleitner_editorial Sharon_Schmickle_writes By_Jonas_Elmerraji LISA_MICHALS_covers \n",
      "Cluster 36: hr mgr N_TVPG min_##.#sec ##.##/hr \n",
      "Cluster 37: assurance quality engineer PowerMax_Looking SQO \n",
      "Cluster 38: specialist specialists consultant expert consultancy \n",
      "Cluster 39: php mysql developer FFmpeg MySql \n"
     ]
    }
   ],
   "source": [
    "print(\"Most representative terms per cluster (based on centroids):\")\n",
    "for i in range(40):\n",
    "    tokens_per_cluster = \"\"\n",
    "    most_representative = model_w2v.most_similar(positive=[clustering.cluster_centers_[i]], topn=5)\n",
    "    for t in most_representative:\n",
    "        tokens_per_cluster += f\"{t[0]} \"\n",
    "    print(f\"Cluster {i}: {tokens_per_cluster}\")"
   ]
  },
  {
   "cell_type": "code",
   "execution_count": 26,
   "metadata": {},
   "outputs": [
    {
     "name": "stdout",
     "output_type": "stream",
     "text": [
      "Merchandiser\n",
      "Reseller/ Merchandiser\n",
      "Merchandiser, Vanadzor\n",
      "Merchandiser, Yerevan\n",
      "Merchandiser\n",
      "Merchandiser\n",
      "Merchandiser\n",
      "Merchandiser\n",
      "Merchandiser\n",
      "Merchandiser\n",
      "----------------------------------------\n",
      "Senior Software QA Engineer\n",
      "Senior Software QA Engineer\n",
      "Senior Software Engineer (EDA)\n",
      "Senior Software Engineer\n",
      "Senior Software Engineer\n",
      "Senior Software Engineer  Java/DBMS\n",
      "Senior Software Engineer\n",
      "Senior Software Engineer\n",
      "Senior Software Engineer\n",
      "Senior Software Engineer\n",
      "----------------------------------------\n",
      "Sales Manager\n",
      "Sales Manager\n",
      "Sales Manager\n",
      "Sales Manager\n",
      "Sales Manager\n",
      "Account/ Sales Manager\n",
      "Sales Manager\n",
      "Sales Manager\n",
      "Sales Manager\n",
      "Sales Manager\n",
      "----------------------------------------\n",
      "BTL Manager\n",
      "Office Manager of the Country Director\n",
      "Business Center Manager\n",
      "Business Center Manager\n",
      "Manager of Commercial Department\n",
      "Manager of Commercial Department\n",
      "Manager of Commercial Department\n",
      "Manager of Commercial Department\n",
      "Business Manager\n",
      "Business Manager\n",
      "----------------------------------------\n",
      "Assistant to the Controller of Finance and Administration (CFA)\n",
      "Head of Finance and Accounting Department/ Chief Accountant\n",
      "Associate Finance and Administration Officer\n",
      "Associate Finance and Administration Officer\n",
      "Finance and Administration Manager\n",
      "Finance and Administration Manager\n",
      "Finance and Administration Manager\n",
      "Finance and Administration Manager\n",
      "Associate, Investment Banking Department, Corporate Finance Unit\n",
      "Factoring Officer, Corporate Finance Department\n",
      "----------------------------------------\n",
      "Senior Software Developer C#, C++, .Net\n",
      "Senior Software Developer C#, C++, .Net\n",
      "C#/C++ Senior Software Developer\n",
      "C#\\ASP.Net Senior Software Developer\n",
      "C++/ C#  Senior Software Developer\n",
      "C# Senior Software Developer\n",
      "Senior Software Developer C#, .Net\n",
      "Senior C Software Developer\n",
      "C# Senior Software Developer\n",
      "C Software Developer\n",
      "----------------------------------------\n",
      "Administrative Assistant\n",
      "Receptionist/ Administrative Assistant\n",
      "Administrative Assistant\n",
      "Administrative Assistant\n",
      "Receptionist/ Administrative Assistant\n",
      "Receptionist/ Administrative Assistant\n",
      "Receptionist/ Administrative Assistant\n",
      "Administrative Assistant\n",
      "Administrative Assistant\n",
      "Receptionist/ Administrative Assistant\n",
      "----------------------------------------\n",
      "QA Technical Writer\n",
      "Lead Technical Writer\n",
      "Junior Technical Writer\n",
      "Junior Technical Writer\n",
      "Junior Technical Writer\n",
      "Staff Writer: News & Politics\n",
      "Local Proposal Writing Expert\n",
      "Human Development Economist, Local Consultant\n",
      "Software Technical Writer\n",
      "Software Technical Writer\n",
      "----------------------------------------\n",
      ".NET Developer\n",
      ".Net Developer\n",
      "C++ Developer\n",
      ".NET Developer\n",
      ".NET Developer\n",
      ".Net Developer\n",
      ".NET Developer\n",
      "Flash/ AS3 Developer\n",
      ".NET Developer\n",
      "Front-End Developer\n",
      "----------------------------------------\n",
      "Turkish-Armenian Translator\n",
      "Translator\n",
      "Receptionist/ Translator\n",
      "Translator\n",
      "Translator\n",
      "Translator\n",
      "Translator\n",
      "Translator\n",
      "Translator\n",
      "Translator\n",
      "----------------------------------------\n",
      "System Administrator - General Specialist\n",
      "Reports Systems Assistant - Administrator (Financial\n",
      "Senior System Administrator\n",
      "Senior Accountant/ Systems Administrator\n",
      "Senior System Administrator\n",
      "Senior System Administrator\n",
      "Senior System Administrator\n",
      "Senior System Administrator\n",
      "IT Senior Systems Administrator\n",
      "Senior Accountant/ Systems Administrator\n",
      "----------------------------------------\n",
      "Program Assistant/ Receptionist\n",
      "Program Assistant / Receptionist\n",
      "Administrative Assistant/ Receptionist\n",
      "Administrative Assistant/ Receptionist\n",
      "Administrative Assistant/ Receptionist\n",
      "Administrative Secretary/ Receptionist\n",
      "Administrative Assistant/ Receptionist\n",
      "Receptionist\n",
      "Receptionist\n",
      "Receptionist\n",
      "----------------------------------------\n",
      "Senior Java Developer\n",
      "Senior Java Developer\n",
      "Senior Java Developer\n",
      "Senior Java Developer\n",
      "Senior Java Developer\n",
      "Senior Java Developer\n",
      "Senior Java Developer\n",
      "Senior Java Developer\n",
      "Senior Java Developer\n",
      "Senior Java Developer\n",
      "----------------------------------------\n",
      "Medical Representative\n",
      "Medical Representative\n",
      "Medical Representative\n",
      "Medical Representative\n",
      "Medical Representative in Yerevan\n",
      "Medical Representative\n",
      "Medical Representative\n",
      "Medical Representative\n",
      "Medical Representative\n",
      "Medical Representative in Yerevan\n",
      "----------------------------------------\n",
      "Accountant/ Cashier\n",
      "Cashier\n",
      "Salesperson/ Cashier\n",
      "Cashier\n",
      "Cashier\n",
      "Cashier\n",
      "Accountant/ Cashier\n",
      "Cashier\n",
      "Cashier\n",
      "Cashier\n",
      "----------------------------------------\n",
      "Accountant\n",
      "Accountant\n",
      "Accountant\n",
      "Accountant\n",
      "Accountant\n",
      "Accountant\n",
      "Accountant\n",
      "Accountant\n",
      "Accountant\n",
      "Accountant\n",
      "----------------------------------------\n",
      "Local Consultant for Armenia SME Finance Program\n",
      "Senior Specialist of Training and Development Group, Human\n",
      "Senior Specialist, Business Planning Department\n",
      "Senior Specialist in Retail Credit Risks Management Group\n",
      "Leading Specialist - Financial Markets Operations Department\n",
      "Leading Specialist, Financial Markets Operations Department\n",
      "Community & Business Development (CBD)Technical Coordinator\n",
      "Business Development Services and Market Linkages Specialist\n",
      "Senior Specialist of Financial Monitoring Service\n",
      "Senior Specialist of Financial Planning, Analysis and Methodology\n",
      "----------------------------------------\n",
      "Deputy Executive Director\n",
      "Deputy Executive Director\n",
      "Deputy Executive Director\n",
      "Executive Director\n",
      "Executive Director\n",
      "Executive Director\n",
      "Executive Director\n",
      "Executive Director\n",
      "Executive Director\n",
      "Executive Director of HFH Armenia\n",
      "----------------------------------------\n",
      "Graphic Designer\n",
      "Graphic Designer\n",
      "Graphic Designer\n",
      "Graphic Designer\n",
      "Graphic Designer\n",
      "Graphic Designer\n",
      "Industrial/ Graphic Designer\n",
      "Graphics Designer\n",
      "Graphics Designer\n",
      "Graphic Designer\n",
      "----------------------------------------\n",
      "Software Developer\n",
      "Software Developer\n",
      "Software Developer\n",
      "C++ Software Developer\n",
      "C++/C#  Software Developer\n",
      "Software Developer\n",
      "Software Developer\n",
      "Software Developer\n",
      "Software Developer 3\n",
      "Software Developer 1\n",
      "----------------------------------------\n",
      "HVAC Engineer\n",
      "HVAC Engineer\n",
      "QA Engineer\n",
      "QA Engineer\n",
      "QA Engineer\n",
      "QA Engineer\n",
      "QA Engineer\n",
      "QA Engineer\n",
      "QA Engineer\n",
      "QA Engineer\n",
      "----------------------------------------\n",
      "Lawyer\n",
      "Lawyer\n",
      "Lawyer\n",
      "Lawyer\n",
      "Lawyer\n",
      "Lawyer\n",
      "Lawyer\n",
      "Lawyer\n",
      "Lawyer\n",
      "Lawyer\n",
      "----------------------------------------\n",
      "Fishfarm Manager\n",
      "Supply/Purchasing Manager\n",
      "Manager\n",
      "Gavar ADP Manager\n",
      "In-store Manager\n",
      "IT Manager\n",
      "Manager\n",
      "Sisian ADP Manager\n",
      "IT Manager\n",
      "Manager\n",
      "----------------------------------------\n",
      "Credit Officer, House-Improvement Loans Department\n",
      "Credit Officer, Group Lending Department\n",
      "Credit Officer\n",
      "Credit Officer\n",
      "Credit Officer in Abovyan\n",
      "Credit Officer\n",
      "Credit Officer in Yerevan\n",
      "Credit Officer\n",
      "Credit Officers\n",
      "Credit Officer\n",
      "----------------------------------------\n",
      "1C Programmer\n",
      "Programmer\n",
      "Programmer\n",
      "Programmer\n",
      "Programmer\n",
      "Programmer\n",
      "Programmer\n",
      "VHDL Programmer\n",
      ".Net Programmer\n",
      "3d Programmer\n",
      "----------------------------------------\n",
      "Project Manager for Cross-border Programs\n",
      "Project Manager\n",
      "Project Manager\n",
      "Project Manager /Web Project/\n",
      "Project Manager\n",
      "Project Manager\n",
      "Project Manager\n",
      "Project Manager\n",
      "Project Manager\n",
      "Project Manager\n",
      "----------------------------------------\n",
      "Contractor/ Intern\n",
      "Contractor/ Intern\n",
      "Contractor/ Intern\n",
      "Contractor/ Intern\n",
      "SQA Engineer/ Intern\n",
      "Intern\n",
      "Contractor/ Intern\n",
      "Contractor/ Intern\n",
      "SQA Engineer/ Intern\n",
      "Contractor/ Intern\n",
      "----------------------------------------\n",
      "Local Marketing Manager\n",
      "Local Marketing Manager\n",
      "Local Marketing Manager\n",
      "Product Marketing Manager\n",
      "Product Marketing Manager\n",
      "Manager of Marketing Department\n",
      "Marketing and Business Development Manager\n",
      "Marketing and Business Development Manager\n",
      "Marketing and Business Development Manager\n",
      "Sales and Marketing Manager\n",
      "----------------------------------------\n",
      "Auditor, Internal Audit Department\n",
      "Auditor, Internal Audit Department\n",
      "Internal Auditor\n",
      "Internal Auditor\n",
      "Internal Auditor\n",
      "Internal Auditor\n",
      "Internal Auditor\n",
      "Internal Auditor\n",
      "Internal Auditor\n",
      "Internal Auditor\n",
      "----------------------------------------\n",
      "Software Engineer\n",
      "Software Engineer\n",
      "Software Engineer\n",
      "C++ Software Engineer\n",
      "Software Engineer\n",
      "Software Engineer\n",
      "Software Engineer\n",
      "Software Engineer\n",
      "Software Engineer\n",
      "Entry-level C++ Software Engineer\n",
      "----------------------------------------\n",
      "Help Desk Administrator, Information and Communication\n",
      "Technologies Department, Software Installation and Maintenance Division\n",
      "Postal Financial Services (PFS) Operations Department Head\n",
      "Postal Financial Services (PFS) Project and Change Division Head\n",
      "Head of Sales and Customer Service Department\n",
      "Postal Financial Services (PFS) Commercial Department Head\n",
      "Postal  Financial Services (PFS) Business Unit Director\n",
      "CRM Group Manager, Development Department, Client Relationship\n",
      "Management Unit\n",
      "Junior Business Management Project Officer\n",
      "Head of Customer Service Department\n",
      "Head of Customer Service Department\n",
      "----------------------------------------\n",
      "Senior ETL Informatica Developer\n",
      "Senior PHP/ Magento Developer\n",
      "Senior Software Developer\n",
      ".NET Senior Software Developer\n",
      "C++ Senior Software Developer\n",
      "Senior Software Developer\n",
      "Senior Software Developer\n",
      "Senior Flash/Flex Software Developer\n",
      "Senior Software Developer\n",
      "Senior Software Developer\n",
      "----------------------------------------\n",
      "Adminsitrative Assistant\n",
      "Information/Education/Communication (IEC) Assistant\n",
      "Event/ BTL Manager Assistant\n",
      "Office Manager/ Assistant to the Director\n",
      "Executive Assistant, Development Department\n",
      "Office Administrator/ Country Director Assistant\n",
      "Senior Executive Assistant\n",
      "Executive Assistant\n",
      "Executive Assistant\n",
      "Receptionist/ Executive Assistant\n",
      "----------------------------------------\n",
      "System/ Business Analyst\n",
      "Business Analyst\n",
      "Business Analyst\n",
      "Business Analyst\n",
      "Business Analyst\n",
      "Business Analyst\n",
      "Business Analyst\n",
      "Business Analyst\n",
      "Business Analyst\n",
      "Business Analyst\n",
      "----------------------------------------\n",
      "Chief Accountant\n",
      "Chief Accountant\n",
      "Chief Accountant\n",
      "Chief Accountant\n",
      "Chief Accountant\n",
      "Chief Accountant\n",
      "Chief Accountant\n",
      "Chief Accountant\n",
      "Chief Accountant\n",
      "Chief Accountant\n",
      "----------------------------------------\n",
      "Administrator-Coordinator\n",
      "Translator-Interpreter\n",
      "Achitect-Designer\n",
      "Secretary-Referent\n",
      "Preseller\n",
      "Waiter/Waitress\n",
      "Architect-Designer\n",
      "Assistant-Translator\n",
      "IT Technician-Intern\n",
      "Preseller\n",
      "----------------------------------------\n",
      "HR Manager\n",
      "HR Manager\n",
      "HR Manager\n",
      "HR Manager\n",
      "HR Manager\n",
      "HR Manager\n",
      "HR Manager\n",
      "Finance/ HR Manager\n",
      "HR Manager\n",
      "HR Manager\n",
      "----------------------------------------\n",
      "QA (Quality Assurance) Engineer\n",
      "Senior Quality Assurance Engineer\n",
      "Quality Assurance Senior Engineer\n",
      "Senior Quality Assurance Engineer\n",
      "Senior Quality Assurance Engineer\n",
      "Senior Quality Assurance Engineer\n",
      "Senior Quality Assurance Engineer\n",
      "Quality Assurance Engineer\n",
      "Quality Assurance Engineer\n",
      "Quality Assurance Engineer\n",
      "----------------------------------------\n",
      "Leading Specialist, Marketing Department\n",
      "Marketing Department Leading Specialist\n",
      "Business Advisor/ Specialist\n",
      "Public Relations/Public Education Specialist (PR/PE Specialist)\n",
      "Specialist in Marketing Department\n",
      "HVAC Specialist\n",
      "IT Specialist (IT Management)\n",
      "Programme Management Specialist\n",
      "QA Specialist\n",
      "QA Specialist\n",
      "----------------------------------------\n",
      "PHP Software Developer\n",
      "PHP Software Developer\n",
      "PHP Software Developers\n",
      "PHP Software Developers\n",
      "PHP Software Developer\n",
      "PHP Software Developer\n",
      "PHP Software Developers\n",
      "PHP Software Developer\n",
      "PHP Software Developer\n",
      "PHP Software Developer\n",
      "----------------------------------------\n"
     ]
    }
   ],
   "source": [
    "for n in range(40):\n",
    "    test_cluster = n\n",
    "    most_representative_docs = np.argsort(\n",
    "        np.linalg.norm(vectorized_job_titles - clustering.cluster_centers_[test_cluster], axis=1)\n",
    "    )\n",
    "    for d in most_representative_docs[:10]:\n",
    "        print(job_titles[d])\n",
    "    print('----------------------------------------')"
   ]
  },
  {
   "cell_type": "code",
   "execution_count": 17,
   "metadata": {},
   "outputs": [],
   "source": [
    "# add the cluster category to each job posting\n",
    "df_job_postings['cluster'] = df_clusters['cluster']"
   ]
  },
  {
   "cell_type": "code",
   "execution_count": 19,
   "metadata": {},
   "outputs": [],
   "source": [
    "# save the labeled dataset to local\n",
    "df_job_postings.to_csv('data/job_postings_labeled.csv')"
   ]
  },
  {
   "cell_type": "code",
   "execution_count": null,
   "metadata": {},
   "outputs": [],
   "source": []
  },
  {
   "cell_type": "code",
   "execution_count": null,
   "metadata": {},
   "outputs": [],
   "source": []
  },
  {
   "cell_type": "markdown",
   "metadata": {},
   "source": [
    "## Career Classification Training based on Job Description"
   ]
  },
  {
   "cell_type": "code",
   "execution_count": 1,
   "metadata": {},
   "outputs": [],
   "source": [
    "import pandas as pd\n",
    "import numpy as np"
   ]
  },
  {
   "cell_type": "code",
   "execution_count": 2,
   "metadata": {},
   "outputs": [],
   "source": [
    "from sklearn.model_selection import train_test_split"
   ]
  },
  {
   "cell_type": "code",
   "execution_count": 3,
   "metadata": {},
   "outputs": [],
   "source": [
    "df_job_postings = pd.read_csv('data/job_postings_labeled.csv', index_col=0)"
   ]
  },
  {
   "cell_type": "code",
   "execution_count": 4,
   "metadata": {},
   "outputs": [
    {
     "data": {
      "text/html": [
       "<div>\n",
       "<style scoped>\n",
       "    .dataframe tbody tr th:only-of-type {\n",
       "        vertical-align: middle;\n",
       "    }\n",
       "\n",
       "    .dataframe tbody tr th {\n",
       "        vertical-align: top;\n",
       "    }\n",
       "\n",
       "    .dataframe thead th {\n",
       "        text-align: right;\n",
       "    }\n",
       "</style>\n",
       "<table border=\"1\" class=\"dataframe\">\n",
       "  <thead>\n",
       "    <tr style=\"text-align: right;\">\n",
       "      <th></th>\n",
       "      <th>jobpost</th>\n",
       "      <th>Title</th>\n",
       "      <th>JobDescription</th>\n",
       "      <th>JobRequirment</th>\n",
       "      <th>RequiredQual</th>\n",
       "      <th>ApplicationP</th>\n",
       "      <th>cluster</th>\n",
       "    </tr>\n",
       "  </thead>\n",
       "  <tbody>\n",
       "    <tr>\n",
       "      <th>0</th>\n",
       "      <td>AMERIA Investment Consulting Company\\r\\nJOB TI...</td>\n",
       "      <td>Chief Financial Officer</td>\n",
       "      <td>AMERIA Investment Consulting Company is seekin...</td>\n",
       "      <td>- Supervises financial management and administ...</td>\n",
       "      <td>To perform this job successfully, an\\r\\nindivi...</td>\n",
       "      <td>To apply for this position, please submit a\\r\\...</td>\n",
       "      <td>34</td>\n",
       "    </tr>\n",
       "    <tr>\n",
       "      <th>1</th>\n",
       "      <td>Caucasus Environmental NGO Network (CENN)\\r\\nJ...</td>\n",
       "      <td>Country Coordinator</td>\n",
       "      <td>Public outreach and strengthening of a growing...</td>\n",
       "      <td>- Working with the Country Director to provide...</td>\n",
       "      <td>- Degree in environmentally related field, or ...</td>\n",
       "      <td>Please send resume or CV toursula.kazarian@......</td>\n",
       "      <td>10</td>\n",
       "    </tr>\n",
       "    <tr>\n",
       "      <th>2</th>\n",
       "      <td>Manoff Group\\r\\nJOB TITLE:  BCC Specialist\\r\\n...</td>\n",
       "      <td>BCC Specialist</td>\n",
       "      <td>The LEAD (Local Enhancement and Development fo...</td>\n",
       "      <td>- Identify gaps in knowledge and overseeing in...</td>\n",
       "      <td>- Advanced degree in public health, social sci...</td>\n",
       "      <td>Please send cover letter and resume to Amy\\r\\n...</td>\n",
       "      <td>38</td>\n",
       "    </tr>\n",
       "    <tr>\n",
       "      <th>3</th>\n",
       "      <td>Boutique \"Appollo\"\\r\\nJOB TITLE:  Saleswoman\\r...</td>\n",
       "      <td>Saleswoman</td>\n",
       "      <td>Saleswoman will sell menswear and accessories.</td>\n",
       "      <td>NaN</td>\n",
       "      <td>- Candidates should be female, 20-30 years old...</td>\n",
       "      <td>For further information, please contact Irina\\...</td>\n",
       "      <td>11</td>\n",
       "    </tr>\n",
       "    <tr>\n",
       "      <th>4</th>\n",
       "      <td>OSI Assistance Foundation - Armenian Branch Of...</td>\n",
       "      <td>Chief Accountant/ Finance Assistant</td>\n",
       "      <td>The Armenian Branch Office of the Open Society...</td>\n",
       "      <td>NaN</td>\n",
       "      <td>- University degree in finance/ accounting; \\r...</td>\n",
       "      <td>For submission of applications/ CVs, please\\r\\...</td>\n",
       "      <td>32</td>\n",
       "    </tr>\n",
       "  </tbody>\n",
       "</table>\n",
       "</div>"
      ],
      "text/plain": [
       "                                             jobpost  \\\n",
       "0  AMERIA Investment Consulting Company\\r\\nJOB TI...   \n",
       "1  Caucasus Environmental NGO Network (CENN)\\r\\nJ...   \n",
       "2  Manoff Group\\r\\nJOB TITLE:  BCC Specialist\\r\\n...   \n",
       "3  Boutique \"Appollo\"\\r\\nJOB TITLE:  Saleswoman\\r...   \n",
       "4  OSI Assistance Foundation - Armenian Branch Of...   \n",
       "\n",
       "                                 Title  \\\n",
       "0              Chief Financial Officer   \n",
       "1                  Country Coordinator   \n",
       "2                       BCC Specialist   \n",
       "3                           Saleswoman   \n",
       "4  Chief Accountant/ Finance Assistant   \n",
       "\n",
       "                                      JobDescription  \\\n",
       "0  AMERIA Investment Consulting Company is seekin...   \n",
       "1  Public outreach and strengthening of a growing...   \n",
       "2  The LEAD (Local Enhancement and Development fo...   \n",
       "3     Saleswoman will sell menswear and accessories.   \n",
       "4  The Armenian Branch Office of the Open Society...   \n",
       "\n",
       "                                       JobRequirment  \\\n",
       "0  - Supervises financial management and administ...   \n",
       "1  - Working with the Country Director to provide...   \n",
       "2  - Identify gaps in knowledge and overseeing in...   \n",
       "3                                                NaN   \n",
       "4                                                NaN   \n",
       "\n",
       "                                        RequiredQual  \\\n",
       "0  To perform this job successfully, an\\r\\nindivi...   \n",
       "1  - Degree in environmentally related field, or ...   \n",
       "2  - Advanced degree in public health, social sci...   \n",
       "3  - Candidates should be female, 20-30 years old...   \n",
       "4  - University degree in finance/ accounting; \\r...   \n",
       "\n",
       "                                        ApplicationP  cluster  \n",
       "0  To apply for this position, please submit a\\r\\...       34  \n",
       "1  Please send resume or CV toursula.kazarian@......       10  \n",
       "2  Please send cover letter and resume to Amy\\r\\n...       38  \n",
       "3  For further information, please contact Irina\\...       11  \n",
       "4  For submission of applications/ CVs, please\\r\\...       32  "
      ]
     },
     "execution_count": 4,
     "metadata": {},
     "output_type": "execute_result"
    }
   ],
   "source": [
    "df_job_postings.head()"
   ]
  },
  {
   "cell_type": "code",
   "execution_count": 5,
   "metadata": {},
   "outputs": [
    {
     "data": {
      "text/plain": [
       "cluster\n",
       "0       31\n",
       "1      776\n",
       "2      542\n",
       "3      908\n",
       "4      211\n",
       "5      356\n",
       "6      301\n",
       "7      231\n",
       "8      119\n",
       "9      172\n",
       "10     500\n",
       "11     166\n",
       "12     269\n",
       "13     289\n",
       "14      86\n",
       "15     258\n",
       "16    1772\n",
       "17     270\n",
       "18     294\n",
       "19     528\n",
       "20     485\n",
       "21     163\n",
       "22      78\n",
       "23     230\n",
       "24     107\n",
       "25     521\n",
       "26      50\n",
       "27     415\n",
       "28     146\n",
       "29     145\n",
       "30     939\n",
       "31     312\n",
       "32     430\n",
       "33     241\n",
       "34     341\n",
       "35    1363\n",
       "36     135\n",
       "37     107\n",
       "38     596\n",
       "39     207\n",
       "dtype: int64"
      ]
     },
     "execution_count": 5,
     "metadata": {},
     "output_type": "execute_result"
    }
   ],
   "source": [
    "df_job_postings.groupby(['cluster'], sort=True).size()"
   ]
  },
  {
   "cell_type": "code",
   "execution_count": 6,
   "metadata": {},
   "outputs": [],
   "source": [
    "# create training and testing datasets\n",
    "X = df_job_postings['JobDescription']\n",
    "y = df_job_postings['cluster']"
   ]
  },
  {
   "cell_type": "markdown",
   "metadata": {},
   "source": [
    "### Model 1: TF-IDF + Classifier"
   ]
  },
  {
   "cell_type": "markdown",
   "metadata": {},
   "source": [
    "#### Data Preparation"
   ]
  },
  {
   "cell_type": "code",
   "execution_count": 7,
   "metadata": {},
   "outputs": [],
   "source": [
    "# split into training and testing datasets\n",
    "X_train, X_test, y_train, y_test = train_test_split(X, y, test_size=0.3, shuffle=True, random_state=7600)"
   ]
  },
  {
   "cell_type": "code",
   "execution_count": 8,
   "metadata": {},
   "outputs": [
    {
     "data": {
      "text/plain": [
       "1106    We are seeking a Brand Manager to work for a t...\n",
       "3113    Deep Ray Ltd is seeking candidates for the pos...\n",
       "6990    \"Tonus-Les\" Ltd. is looking for enthusiastic,\\...\n",
       "8086    The incumbent will be responsible for vehicle ...\n",
       "5735    The Director will head Investment Banking Depa...\n",
       "Name: JobDescription, dtype: object"
      ]
     },
     "execution_count": 8,
     "metadata": {},
     "output_type": "execute_result"
    }
   ],
   "source": [
    "X_train.head()"
   ]
  },
  {
   "cell_type": "code",
   "execution_count": 9,
   "metadata": {},
   "outputs": [
    {
     "data": {
      "text/plain": [
       "1106    27\n",
       "3113    30\n",
       "6990    13\n",
       "8086    30\n",
       "5735     4\n",
       "Name: cluster, dtype: int64"
      ]
     },
     "execution_count": 9,
     "metadata": {},
     "output_type": "execute_result"
    }
   ],
   "source": [
    "y_train.head()"
   ]
  },
  {
   "cell_type": "code",
   "execution_count": 10,
   "metadata": {},
   "outputs": [
    {
     "name": "stderr",
     "output_type": "stream",
     "text": [
      "[nltk_data] Downloading package punkt to\n",
      "[nltk_data]     C:\\Users\\Kackie\\AppData\\Roaming\\nltk_data...\n",
      "[nltk_data]   Package punkt is already up-to-date!\n",
      "[nltk_data] Downloading package stopwords to\n",
      "[nltk_data]     C:\\Users\\Kackie\\AppData\\Roaming\\nltk_data...\n",
      "[nltk_data]   Package stopwords is already up-to-date!\n",
      "[nltk_data] Downloading package wordnet to\n",
      "[nltk_data]     C:\\Users\\Kackie\\AppData\\Roaming\\nltk_data...\n",
      "[nltk_data]   Package wordnet is already up-to-date!\n",
      "[nltk_data] Downloading package omw-1.4 to\n",
      "[nltk_data]     C:\\Users\\Kackie\\AppData\\Roaming\\nltk_data...\n",
      "[nltk_data]   Package omw-1.4 is already up-to-date!\n"
     ]
    }
   ],
   "source": [
    "from sklearn.feature_extraction.text import TfidfVectorizer\n",
    "from sklearn.metrics import classification_report, accuracy_score\n",
    "\n",
    "import nltk\n",
    "nltk.download('punkt')\n",
    "nltk.download('stopwords')\n",
    "nltk.download('wordnet')\n",
    "nltk.download('omw-1.4')\n",
    "\n",
    "from nltk import word_tokenize\n",
    "from nltk import sent_tokenize\n",
    "from nltk.corpus import stopwords\n",
    "from nltk.stem import WordNetLemmatizer\n",
    "from nltk.stem import PorterStemmer\n",
    "import string"
   ]
  },
  {
   "cell_type": "code",
   "execution_count": 11,
   "metadata": {},
   "outputs": [],
   "source": [
    "def tfidf_preprocess(text):\n",
    "    text = text.lower()\n",
    "    words = word_tokenize(text)\n",
    "    words = [word for word in words if word.isalpha()]\n",
    "    \n",
    "    # stopwords\n",
    "    stop_words = set(stopwords.words('english'))\n",
    "    words = [word for word in words if not word in stop_words]\n",
    "\n",
    "    # stemming\n",
    "    stemmer = PorterStemmer()\n",
    "    words = [stemmer.stem(word) for word in words]\n",
    "\n",
    "    text = ' '.join(words)\n",
    "\n",
    "    return text"
   ]
  },
  {
   "cell_type": "code",
   "execution_count": null,
   "metadata": {},
   "outputs": [],
   "source": []
  },
  {
   "cell_type": "markdown",
   "metadata": {},
   "source": [
    "**Train TF-IDF**"
   ]
  },
  {
   "cell_type": "code",
   "execution_count": 12,
   "metadata": {},
   "outputs": [
    {
     "ename": "KeyboardInterrupt",
     "evalue": "",
     "output_type": "error",
     "traceback": [
      "\u001b[1;31m---------------------------------------------------------------------------\u001b[0m",
      "\u001b[1;31mKeyboardInterrupt\u001b[0m                         Traceback (most recent call last)",
      "\u001b[1;32m~\\AppData\\Local\\Temp\\ipykernel_10976\\339253982.py\u001b[0m in \u001b[0;36m<module>\u001b[1;34m\u001b[0m\n\u001b[0;32m      6\u001b[0m \u001b[1;33m\u001b[0m\u001b[0m\n\u001b[0;32m      7\u001b[0m \u001b[1;31m# fit the tfidf to the entire X\u001b[0m\u001b[1;33m\u001b[0m\u001b[1;33m\u001b[0m\u001b[1;33m\u001b[0m\u001b[0m\n\u001b[1;32m----> 8\u001b[1;33m \u001b[0mtfidf\u001b[0m\u001b[1;33m.\u001b[0m\u001b[0mfit\u001b[0m\u001b[1;33m(\u001b[0m\u001b[0mX\u001b[0m\u001b[1;33m)\u001b[0m\u001b[1;33m\u001b[0m\u001b[1;33m\u001b[0m\u001b[0m\n\u001b[0m",
      "\u001b[1;32mc:\\Users\\Kackie\\anaconda3\\envs\\DataScience\\lib\\site-packages\\sklearn\\feature_extraction\\text.py\u001b[0m in \u001b[0;36mfit\u001b[1;34m(self, raw_documents, y)\u001b[0m\n\u001b[0;32m   2051\u001b[0m         \u001b[0mself\u001b[0m\u001b[1;33m.\u001b[0m\u001b[0m_check_params\u001b[0m\u001b[1;33m(\u001b[0m\u001b[1;33m)\u001b[0m\u001b[1;33m\u001b[0m\u001b[1;33m\u001b[0m\u001b[0m\n\u001b[0;32m   2052\u001b[0m         \u001b[0mself\u001b[0m\u001b[1;33m.\u001b[0m\u001b[0m_warn_for_unused_params\u001b[0m\u001b[1;33m(\u001b[0m\u001b[1;33m)\u001b[0m\u001b[1;33m\u001b[0m\u001b[1;33m\u001b[0m\u001b[0m\n\u001b[1;32m-> 2053\u001b[1;33m         \u001b[0mX\u001b[0m \u001b[1;33m=\u001b[0m \u001b[0msuper\u001b[0m\u001b[1;33m(\u001b[0m\u001b[1;33m)\u001b[0m\u001b[1;33m.\u001b[0m\u001b[0mfit_transform\u001b[0m\u001b[1;33m(\u001b[0m\u001b[0mraw_documents\u001b[0m\u001b[1;33m)\u001b[0m\u001b[1;33m\u001b[0m\u001b[1;33m\u001b[0m\u001b[0m\n\u001b[0m\u001b[0;32m   2054\u001b[0m         \u001b[0mself\u001b[0m\u001b[1;33m.\u001b[0m\u001b[0m_tfidf\u001b[0m\u001b[1;33m.\u001b[0m\u001b[0mfit\u001b[0m\u001b[1;33m(\u001b[0m\u001b[0mX\u001b[0m\u001b[1;33m)\u001b[0m\u001b[1;33m\u001b[0m\u001b[1;33m\u001b[0m\u001b[0m\n\u001b[0;32m   2055\u001b[0m         \u001b[1;32mreturn\u001b[0m \u001b[0mself\u001b[0m\u001b[1;33m\u001b[0m\u001b[1;33m\u001b[0m\u001b[0m\n",
      "\u001b[1;32mc:\\Users\\Kackie\\anaconda3\\envs\\DataScience\\lib\\site-packages\\sklearn\\feature_extraction\\text.py\u001b[0m in \u001b[0;36mfit_transform\u001b[1;34m(self, raw_documents, y)\u001b[0m\n\u001b[0;32m   1328\u001b[0m                     \u001b[1;32mbreak\u001b[0m\u001b[1;33m\u001b[0m\u001b[1;33m\u001b[0m\u001b[0m\n\u001b[0;32m   1329\u001b[0m \u001b[1;33m\u001b[0m\u001b[0m\n\u001b[1;32m-> 1330\u001b[1;33m         \u001b[0mvocabulary\u001b[0m\u001b[1;33m,\u001b[0m \u001b[0mX\u001b[0m \u001b[1;33m=\u001b[0m \u001b[0mself\u001b[0m\u001b[1;33m.\u001b[0m\u001b[0m_count_vocab\u001b[0m\u001b[1;33m(\u001b[0m\u001b[0mraw_documents\u001b[0m\u001b[1;33m,\u001b[0m \u001b[0mself\u001b[0m\u001b[1;33m.\u001b[0m\u001b[0mfixed_vocabulary_\u001b[0m\u001b[1;33m)\u001b[0m\u001b[1;33m\u001b[0m\u001b[1;33m\u001b[0m\u001b[0m\n\u001b[0m\u001b[0;32m   1331\u001b[0m \u001b[1;33m\u001b[0m\u001b[0m\n\u001b[0;32m   1332\u001b[0m         \u001b[1;32mif\u001b[0m \u001b[0mself\u001b[0m\u001b[1;33m.\u001b[0m\u001b[0mbinary\u001b[0m\u001b[1;33m:\u001b[0m\u001b[1;33m\u001b[0m\u001b[1;33m\u001b[0m\u001b[0m\n",
      "\u001b[1;32mc:\\Users\\Kackie\\anaconda3\\envs\\DataScience\\lib\\site-packages\\sklearn\\feature_extraction\\text.py\u001b[0m in \u001b[0;36m_count_vocab\u001b[1;34m(self, raw_documents, fixed_vocab)\u001b[0m\n\u001b[0;32m   1199\u001b[0m         \u001b[1;32mfor\u001b[0m \u001b[0mdoc\u001b[0m \u001b[1;32min\u001b[0m \u001b[0mraw_documents\u001b[0m\u001b[1;33m:\u001b[0m\u001b[1;33m\u001b[0m\u001b[1;33m\u001b[0m\u001b[0m\n\u001b[0;32m   1200\u001b[0m             \u001b[0mfeature_counter\u001b[0m \u001b[1;33m=\u001b[0m \u001b[1;33m{\u001b[0m\u001b[1;33m}\u001b[0m\u001b[1;33m\u001b[0m\u001b[1;33m\u001b[0m\u001b[0m\n\u001b[1;32m-> 1201\u001b[1;33m             \u001b[1;32mfor\u001b[0m \u001b[0mfeature\u001b[0m \u001b[1;32min\u001b[0m \u001b[0manalyze\u001b[0m\u001b[1;33m(\u001b[0m\u001b[0mdoc\u001b[0m\u001b[1;33m)\u001b[0m\u001b[1;33m:\u001b[0m\u001b[1;33m\u001b[0m\u001b[1;33m\u001b[0m\u001b[0m\n\u001b[0m\u001b[0;32m   1202\u001b[0m                 \u001b[1;32mtry\u001b[0m\u001b[1;33m:\u001b[0m\u001b[1;33m\u001b[0m\u001b[1;33m\u001b[0m\u001b[0m\n\u001b[0;32m   1203\u001b[0m                     \u001b[0mfeature_idx\u001b[0m \u001b[1;33m=\u001b[0m \u001b[0mvocabulary\u001b[0m\u001b[1;33m[\u001b[0m\u001b[0mfeature\u001b[0m\u001b[1;33m]\u001b[0m\u001b[1;33m\u001b[0m\u001b[1;33m\u001b[0m\u001b[0m\n",
      "\u001b[1;32mc:\\Users\\Kackie\\anaconda3\\envs\\DataScience\\lib\\site-packages\\sklearn\\feature_extraction\\text.py\u001b[0m in \u001b[0;36m_analyze\u001b[1;34m(doc, analyzer, tokenizer, ngrams, preprocessor, decoder, stop_words)\u001b[0m\n\u001b[0;32m    111\u001b[0m     \u001b[1;32melse\u001b[0m\u001b[1;33m:\u001b[0m\u001b[1;33m\u001b[0m\u001b[1;33m\u001b[0m\u001b[0m\n\u001b[0;32m    112\u001b[0m         \u001b[1;32mif\u001b[0m \u001b[0mpreprocessor\u001b[0m \u001b[1;32mis\u001b[0m \u001b[1;32mnot\u001b[0m \u001b[1;32mNone\u001b[0m\u001b[1;33m:\u001b[0m\u001b[1;33m\u001b[0m\u001b[1;33m\u001b[0m\u001b[0m\n\u001b[1;32m--> 113\u001b[1;33m             \u001b[0mdoc\u001b[0m \u001b[1;33m=\u001b[0m \u001b[0mpreprocessor\u001b[0m\u001b[1;33m(\u001b[0m\u001b[0mdoc\u001b[0m\u001b[1;33m)\u001b[0m\u001b[1;33m\u001b[0m\u001b[1;33m\u001b[0m\u001b[0m\n\u001b[0m\u001b[0;32m    114\u001b[0m         \u001b[1;32mif\u001b[0m \u001b[0mtokenizer\u001b[0m \u001b[1;32mis\u001b[0m \u001b[1;32mnot\u001b[0m \u001b[1;32mNone\u001b[0m\u001b[1;33m:\u001b[0m\u001b[1;33m\u001b[0m\u001b[1;33m\u001b[0m\u001b[0m\n\u001b[0;32m    115\u001b[0m             \u001b[0mdoc\u001b[0m \u001b[1;33m=\u001b[0m \u001b[0mtokenizer\u001b[0m\u001b[1;33m(\u001b[0m\u001b[0mdoc\u001b[0m\u001b[1;33m)\u001b[0m\u001b[1;33m\u001b[0m\u001b[1;33m\u001b[0m\u001b[0m\n",
      "\u001b[1;32m~\\AppData\\Local\\Temp\\ipykernel_10976\\4258998267.py\u001b[0m in \u001b[0;36mtfidf_preprocess\u001b[1;34m(text)\u001b[0m\n\u001b[0;32m      5\u001b[0m \u001b[1;33m\u001b[0m\u001b[0m\n\u001b[0;32m      6\u001b[0m     \u001b[1;31m# stopwords\u001b[0m\u001b[1;33m\u001b[0m\u001b[1;33m\u001b[0m\u001b[1;33m\u001b[0m\u001b[0m\n\u001b[1;32m----> 7\u001b[1;33m     \u001b[0mstop_words\u001b[0m \u001b[1;33m=\u001b[0m \u001b[0mset\u001b[0m\u001b[1;33m(\u001b[0m\u001b[0mstopwords\u001b[0m\u001b[1;33m.\u001b[0m\u001b[0mwords\u001b[0m\u001b[1;33m(\u001b[0m\u001b[1;34m'english'\u001b[0m\u001b[1;33m)\u001b[0m\u001b[1;33m)\u001b[0m\u001b[1;33m\u001b[0m\u001b[1;33m\u001b[0m\u001b[0m\n\u001b[0m\u001b[0;32m      8\u001b[0m     \u001b[0mwords\u001b[0m \u001b[1;33m=\u001b[0m \u001b[1;33m[\u001b[0m\u001b[0mword\u001b[0m \u001b[1;32mfor\u001b[0m \u001b[0mword\u001b[0m \u001b[1;32min\u001b[0m \u001b[0mwords\u001b[0m \u001b[1;32mif\u001b[0m \u001b[1;32mnot\u001b[0m \u001b[0mword\u001b[0m \u001b[1;32min\u001b[0m \u001b[0mstop_words\u001b[0m\u001b[1;33m]\u001b[0m\u001b[1;33m\u001b[0m\u001b[1;33m\u001b[0m\u001b[0m\n\u001b[0;32m      9\u001b[0m \u001b[1;33m\u001b[0m\u001b[0m\n",
      "\u001b[1;32mc:\\Users\\Kackie\\anaconda3\\envs\\DataScience\\lib\\site-packages\\nltk\\corpus\\reader\\wordlist.py\u001b[0m in \u001b[0;36mwords\u001b[1;34m(self, fileids, ignore_lines_startswith)\u001b[0m\n\u001b[0;32m     19\u001b[0m         return [\n\u001b[0;32m     20\u001b[0m             \u001b[0mline\u001b[0m\u001b[1;33m\u001b[0m\u001b[1;33m\u001b[0m\u001b[0m\n\u001b[1;32m---> 21\u001b[1;33m             \u001b[1;32mfor\u001b[0m \u001b[0mline\u001b[0m \u001b[1;32min\u001b[0m \u001b[0mline_tokenize\u001b[0m\u001b[1;33m(\u001b[0m\u001b[0mself\u001b[0m\u001b[1;33m.\u001b[0m\u001b[0mraw\u001b[0m\u001b[1;33m(\u001b[0m\u001b[0mfileids\u001b[0m\u001b[1;33m)\u001b[0m\u001b[1;33m)\u001b[0m\u001b[1;33m\u001b[0m\u001b[1;33m\u001b[0m\u001b[0m\n\u001b[0m\u001b[0;32m     22\u001b[0m             \u001b[1;32mif\u001b[0m \u001b[1;32mnot\u001b[0m \u001b[0mline\u001b[0m\u001b[1;33m.\u001b[0m\u001b[0mstartswith\u001b[0m\u001b[1;33m(\u001b[0m\u001b[0mignore_lines_startswith\u001b[0m\u001b[1;33m)\u001b[0m\u001b[1;33m\u001b[0m\u001b[1;33m\u001b[0m\u001b[0m\n\u001b[0;32m     23\u001b[0m         ]\n",
      "\u001b[1;32mc:\\Users\\Kackie\\anaconda3\\envs\\DataScience\\lib\\site-packages\\nltk\\corpus\\reader\\api.py\u001b[0m in \u001b[0;36mraw\u001b[1;34m(self, fileids)\u001b[0m\n\u001b[0;32m    216\u001b[0m         \u001b[0mcontents\u001b[0m \u001b[1;33m=\u001b[0m \u001b[1;33m[\u001b[0m\u001b[1;33m]\u001b[0m\u001b[1;33m\u001b[0m\u001b[1;33m\u001b[0m\u001b[0m\n\u001b[0;32m    217\u001b[0m         \u001b[1;32mfor\u001b[0m \u001b[0mf\u001b[0m \u001b[1;32min\u001b[0m \u001b[0mfileids\u001b[0m\u001b[1;33m:\u001b[0m\u001b[1;33m\u001b[0m\u001b[1;33m\u001b[0m\u001b[0m\n\u001b[1;32m--> 218\u001b[1;33m             \u001b[1;32mwith\u001b[0m \u001b[0mself\u001b[0m\u001b[1;33m.\u001b[0m\u001b[0mopen\u001b[0m\u001b[1;33m(\u001b[0m\u001b[0mf\u001b[0m\u001b[1;33m)\u001b[0m \u001b[1;32mas\u001b[0m \u001b[0mfp\u001b[0m\u001b[1;33m:\u001b[0m\u001b[1;33m\u001b[0m\u001b[1;33m\u001b[0m\u001b[0m\n\u001b[0m\u001b[0;32m    219\u001b[0m                 \u001b[0mcontents\u001b[0m\u001b[1;33m.\u001b[0m\u001b[0mappend\u001b[0m\u001b[1;33m(\u001b[0m\u001b[0mfp\u001b[0m\u001b[1;33m.\u001b[0m\u001b[0mread\u001b[0m\u001b[1;33m(\u001b[0m\u001b[1;33m)\u001b[0m\u001b[1;33m)\u001b[0m\u001b[1;33m\u001b[0m\u001b[1;33m\u001b[0m\u001b[0m\n\u001b[0;32m    220\u001b[0m         \u001b[1;32mreturn\u001b[0m \u001b[0mconcat\u001b[0m\u001b[1;33m(\u001b[0m\u001b[0mcontents\u001b[0m\u001b[1;33m)\u001b[0m\u001b[1;33m\u001b[0m\u001b[1;33m\u001b[0m\u001b[0m\n",
      "\u001b[1;32mc:\\Users\\Kackie\\anaconda3\\envs\\DataScience\\lib\\site-packages\\nltk\\corpus\\reader\\api.py\u001b[0m in \u001b[0;36mopen\u001b[1;34m(self, file)\u001b[0m\n\u001b[0;32m    229\u001b[0m         \"\"\"\n\u001b[0;32m    230\u001b[0m         \u001b[0mencoding\u001b[0m \u001b[1;33m=\u001b[0m \u001b[0mself\u001b[0m\u001b[1;33m.\u001b[0m\u001b[0mencoding\u001b[0m\u001b[1;33m(\u001b[0m\u001b[0mfile\u001b[0m\u001b[1;33m)\u001b[0m\u001b[1;33m\u001b[0m\u001b[1;33m\u001b[0m\u001b[0m\n\u001b[1;32m--> 231\u001b[1;33m         \u001b[0mstream\u001b[0m \u001b[1;33m=\u001b[0m \u001b[0mself\u001b[0m\u001b[1;33m.\u001b[0m\u001b[0m_root\u001b[0m\u001b[1;33m.\u001b[0m\u001b[0mjoin\u001b[0m\u001b[1;33m(\u001b[0m\u001b[0mfile\u001b[0m\u001b[1;33m)\u001b[0m\u001b[1;33m.\u001b[0m\u001b[0mopen\u001b[0m\u001b[1;33m(\u001b[0m\u001b[0mencoding\u001b[0m\u001b[1;33m)\u001b[0m\u001b[1;33m\u001b[0m\u001b[1;33m\u001b[0m\u001b[0m\n\u001b[0m\u001b[0;32m    232\u001b[0m         \u001b[1;32mreturn\u001b[0m \u001b[0mstream\u001b[0m\u001b[1;33m\u001b[0m\u001b[1;33m\u001b[0m\u001b[0m\n\u001b[0;32m    233\u001b[0m \u001b[1;33m\u001b[0m\u001b[0m\n",
      "\u001b[1;32mc:\\Users\\Kackie\\anaconda3\\envs\\DataScience\\lib\\site-packages\\nltk\\data.py\u001b[0m in \u001b[0;36mjoin\u001b[1;34m(self, fileid)\u001b[0m\n\u001b[0;32m    332\u001b[0m     \u001b[1;32mdef\u001b[0m \u001b[0mjoin\u001b[0m\u001b[1;33m(\u001b[0m\u001b[0mself\u001b[0m\u001b[1;33m,\u001b[0m \u001b[0mfileid\u001b[0m\u001b[1;33m)\u001b[0m\u001b[1;33m:\u001b[0m\u001b[1;33m\u001b[0m\u001b[1;33m\u001b[0m\u001b[0m\n\u001b[0;32m    333\u001b[0m         \u001b[0m_path\u001b[0m \u001b[1;33m=\u001b[0m \u001b[0mos\u001b[0m\u001b[1;33m.\u001b[0m\u001b[0mpath\u001b[0m\u001b[1;33m.\u001b[0m\u001b[0mjoin\u001b[0m\u001b[1;33m(\u001b[0m\u001b[0mself\u001b[0m\u001b[1;33m.\u001b[0m\u001b[0m_path\u001b[0m\u001b[1;33m,\u001b[0m \u001b[0mfileid\u001b[0m\u001b[1;33m)\u001b[0m\u001b[1;33m\u001b[0m\u001b[1;33m\u001b[0m\u001b[0m\n\u001b[1;32m--> 334\u001b[1;33m         \u001b[1;32mreturn\u001b[0m \u001b[0mFileSystemPathPointer\u001b[0m\u001b[1;33m(\u001b[0m\u001b[0m_path\u001b[0m\u001b[1;33m)\u001b[0m\u001b[1;33m\u001b[0m\u001b[1;33m\u001b[0m\u001b[0m\n\u001b[0m\u001b[0;32m    335\u001b[0m \u001b[1;33m\u001b[0m\u001b[0m\n\u001b[0;32m    336\u001b[0m     \u001b[1;32mdef\u001b[0m \u001b[0m__repr__\u001b[0m\u001b[1;33m(\u001b[0m\u001b[0mself\u001b[0m\u001b[1;33m)\u001b[0m\u001b[1;33m:\u001b[0m\u001b[1;33m\u001b[0m\u001b[1;33m\u001b[0m\u001b[0m\n",
      "\u001b[1;32mc:\\Users\\Kackie\\anaconda3\\envs\\DataScience\\lib\\site-packages\\nltk\\compat.py\u001b[0m in \u001b[0;36m_decorator\u001b[1;34m(*args, **kwargs)\u001b[0m\n\u001b[0;32m     39\u001b[0m     \u001b[1;32mdef\u001b[0m \u001b[0m_decorator\u001b[0m\u001b[1;33m(\u001b[0m\u001b[1;33m*\u001b[0m\u001b[0margs\u001b[0m\u001b[1;33m,\u001b[0m \u001b[1;33m**\u001b[0m\u001b[0mkwargs\u001b[0m\u001b[1;33m)\u001b[0m\u001b[1;33m:\u001b[0m\u001b[1;33m\u001b[0m\u001b[1;33m\u001b[0m\u001b[0m\n\u001b[0;32m     40\u001b[0m         \u001b[0margs\u001b[0m \u001b[1;33m=\u001b[0m \u001b[1;33m(\u001b[0m\u001b[0margs\u001b[0m\u001b[1;33m[\u001b[0m\u001b[1;36m0\u001b[0m\u001b[1;33m]\u001b[0m\u001b[1;33m,\u001b[0m \u001b[0madd_py3_data\u001b[0m\u001b[1;33m(\u001b[0m\u001b[0margs\u001b[0m\u001b[1;33m[\u001b[0m\u001b[1;36m1\u001b[0m\u001b[1;33m]\u001b[0m\u001b[1;33m)\u001b[0m\u001b[1;33m)\u001b[0m \u001b[1;33m+\u001b[0m \u001b[0margs\u001b[0m\u001b[1;33m[\u001b[0m\u001b[1;36m2\u001b[0m\u001b[1;33m:\u001b[0m\u001b[1;33m]\u001b[0m\u001b[1;33m\u001b[0m\u001b[1;33m\u001b[0m\u001b[0m\n\u001b[1;32m---> 41\u001b[1;33m         \u001b[1;32mreturn\u001b[0m \u001b[0minit_func\u001b[0m\u001b[1;33m(\u001b[0m\u001b[1;33m*\u001b[0m\u001b[0margs\u001b[0m\u001b[1;33m,\u001b[0m \u001b[1;33m**\u001b[0m\u001b[0mkwargs\u001b[0m\u001b[1;33m)\u001b[0m\u001b[1;33m\u001b[0m\u001b[1;33m\u001b[0m\u001b[0m\n\u001b[0m\u001b[0;32m     42\u001b[0m \u001b[1;33m\u001b[0m\u001b[0m\n\u001b[0;32m     43\u001b[0m     \u001b[1;32mreturn\u001b[0m \u001b[0mwraps\u001b[0m\u001b[1;33m(\u001b[0m\u001b[0minit_func\u001b[0m\u001b[1;33m)\u001b[0m\u001b[1;33m(\u001b[0m\u001b[0m_decorator\u001b[0m\u001b[1;33m)\u001b[0m\u001b[1;33m\u001b[0m\u001b[1;33m\u001b[0m\u001b[0m\n",
      "\u001b[1;32mc:\\Users\\Kackie\\anaconda3\\envs\\DataScience\\lib\\site-packages\\nltk\\data.py\u001b[0m in \u001b[0;36m__init__\u001b[1;34m(self, _path)\u001b[0m\n\u001b[0;32m    309\u001b[0m \u001b[1;33m\u001b[0m\u001b[0m\n\u001b[0;32m    310\u001b[0m         \u001b[0m_path\u001b[0m \u001b[1;33m=\u001b[0m \u001b[0mos\u001b[0m\u001b[1;33m.\u001b[0m\u001b[0mpath\u001b[0m\u001b[1;33m.\u001b[0m\u001b[0mabspath\u001b[0m\u001b[1;33m(\u001b[0m\u001b[0m_path\u001b[0m\u001b[1;33m)\u001b[0m\u001b[1;33m\u001b[0m\u001b[1;33m\u001b[0m\u001b[0m\n\u001b[1;32m--> 311\u001b[1;33m         \u001b[1;32mif\u001b[0m \u001b[1;32mnot\u001b[0m \u001b[0mos\u001b[0m\u001b[1;33m.\u001b[0m\u001b[0mpath\u001b[0m\u001b[1;33m.\u001b[0m\u001b[0mexists\u001b[0m\u001b[1;33m(\u001b[0m\u001b[0m_path\u001b[0m\u001b[1;33m)\u001b[0m\u001b[1;33m:\u001b[0m\u001b[1;33m\u001b[0m\u001b[1;33m\u001b[0m\u001b[0m\n\u001b[0m\u001b[0;32m    312\u001b[0m             \u001b[1;32mraise\u001b[0m \u001b[0mOSError\u001b[0m\u001b[1;33m(\u001b[0m\u001b[1;34m\"No such file or directory: %r\"\u001b[0m \u001b[1;33m%\u001b[0m \u001b[0m_path\u001b[0m\u001b[1;33m)\u001b[0m\u001b[1;33m\u001b[0m\u001b[1;33m\u001b[0m\u001b[0m\n\u001b[0;32m    313\u001b[0m         \u001b[0mself\u001b[0m\u001b[1;33m.\u001b[0m\u001b[0m_path\u001b[0m \u001b[1;33m=\u001b[0m \u001b[0m_path\u001b[0m\u001b[1;33m\u001b[0m\u001b[1;33m\u001b[0m\u001b[0m\n",
      "\u001b[1;32mc:\\Users\\Kackie\\anaconda3\\envs\\DataScience\\lib\\genericpath.py\u001b[0m in \u001b[0;36mexists\u001b[1;34m(path)\u001b[0m\n\u001b[0;32m     17\u001b[0m     \u001b[1;34m\"\"\"Test whether a path exists.  Returns False for broken symbolic links\"\"\"\u001b[0m\u001b[1;33m\u001b[0m\u001b[1;33m\u001b[0m\u001b[0m\n\u001b[0;32m     18\u001b[0m     \u001b[1;32mtry\u001b[0m\u001b[1;33m:\u001b[0m\u001b[1;33m\u001b[0m\u001b[1;33m\u001b[0m\u001b[0m\n\u001b[1;32m---> 19\u001b[1;33m         \u001b[0mos\u001b[0m\u001b[1;33m.\u001b[0m\u001b[0mstat\u001b[0m\u001b[1;33m(\u001b[0m\u001b[0mpath\u001b[0m\u001b[1;33m)\u001b[0m\u001b[1;33m\u001b[0m\u001b[1;33m\u001b[0m\u001b[0m\n\u001b[0m\u001b[0;32m     20\u001b[0m     \u001b[1;32mexcept\u001b[0m \u001b[0mOSError\u001b[0m\u001b[1;33m:\u001b[0m\u001b[1;33m\u001b[0m\u001b[1;33m\u001b[0m\u001b[0m\n\u001b[0;32m     21\u001b[0m         \u001b[1;32mreturn\u001b[0m \u001b[1;32mFalse\u001b[0m\u001b[1;33m\u001b[0m\u001b[1;33m\u001b[0m\u001b[0m\n",
      "\u001b[1;31mKeyboardInterrupt\u001b[0m: "
     ]
    }
   ],
   "source": [
    "# define tfidf vectorizer\n",
    "tfidf = TfidfVectorizer(\n",
    "    preprocessor=tfidf_preprocess,\n",
    "    ngram_range = (1, 2),\n",
    ")\n",
    "\n",
    "# fit the tfidf to the entire X\n",
    "tfidf.fit(X)"
   ]
  },
  {
   "cell_type": "code",
   "execution_count": null,
   "metadata": {},
   "outputs": [],
   "source": []
  },
  {
   "cell_type": "markdown",
   "metadata": {},
   "source": [
    "**Load TF-IDF from local**"
   ]
  },
  {
   "cell_type": "code",
   "execution_count": 13,
   "metadata": {},
   "outputs": [],
   "source": [
    "# load tfidf vectorizer from saved path\n",
    "import pickle\n",
    "tfidf = pickle.load(open('models/career_tfidf_vectorizer.pickle', 'rb'))"
   ]
  },
  {
   "cell_type": "code",
   "execution_count": 14,
   "metadata": {},
   "outputs": [],
   "source": [
    "# transform the train and test datasets for X\n",
    "X_train_tfidf_transformed = tfidf.transform(X_train)\n",
    "X_test_tfidf_transformed = tfidf.transform(X_test)"
   ]
  },
  {
   "cell_type": "code",
   "execution_count": 15,
   "metadata": {},
   "outputs": [
    {
     "data": {
      "text/plain": [
       "(10563, 104384)"
      ]
     },
     "execution_count": 15,
     "metadata": {},
     "output_type": "execute_result"
    }
   ],
   "source": [
    "# get shape of the tfidf transformed X_train\n",
    "X_train_tfidf_transformed.shape"
   ]
  },
  {
   "cell_type": "code",
   "execution_count": null,
   "metadata": {},
   "outputs": [],
   "source": []
  },
  {
   "cell_type": "code",
   "execution_count": null,
   "metadata": {},
   "outputs": [],
   "source": []
  },
  {
   "cell_type": "code",
   "execution_count": 121,
   "metadata": {},
   "outputs": [],
   "source": [
    "# save the tfidf vectorizer and transformed matrices\n",
    "import pickle\n",
    "\n",
    "pickle.dump(tfidf, open('models/career_tfidf_vectorizer.pickle', 'wb'))\n",
    "pickle.dump(X_train_tfidf_transformed, open('models/career_X_train_tfidf_transformed.pickle', 'wb'))\n",
    "pickle.dump(X_test_tfidf_transformed, open('models/career_X_test_tfidf_transformed.pickle', 'wb'))"
   ]
  },
  {
   "cell_type": "markdown",
   "metadata": {},
   "source": [
    "#### Naive Bayes (baseline)"
   ]
  },
  {
   "cell_type": "code",
   "execution_count": 76,
   "metadata": {},
   "outputs": [],
   "source": [
    "from sklearn.naive_bayes import MultinomialNB"
   ]
  },
  {
   "cell_type": "code",
   "execution_count": 77,
   "metadata": {},
   "outputs": [],
   "source": [
    "clf_tfidf_mnb = MultinomialNB()"
   ]
  },
  {
   "cell_type": "code",
   "execution_count": 78,
   "metadata": {},
   "outputs": [
    {
     "data": {
      "text/plain": [
       "MultinomialNB()"
      ]
     },
     "execution_count": 78,
     "metadata": {},
     "output_type": "execute_result"
    }
   ],
   "source": [
    "clf_tfidf_mnb.fit(X_train_tfidf_transformed, y_train)"
   ]
  },
  {
   "cell_type": "code",
   "execution_count": 79,
   "metadata": {},
   "outputs": [
    {
     "data": {
      "text/plain": [
       "0.3333333333333333"
      ]
     },
     "execution_count": 79,
     "metadata": {},
     "output_type": "execute_result"
    }
   ],
   "source": [
    "accuracy_score(y_test, clf_tfidf_mnb.predict(X_test_tfidf_transformed))"
   ]
  },
  {
   "cell_type": "code",
   "execution_count": 85,
   "metadata": {},
   "outputs": [
    {
     "name": "stdout",
     "output_type": "stream",
     "text": [
      "              precision    recall  f1-score   support\n",
      "\n",
      "           0       0.00      0.00      0.00        13\n",
      "           1       0.54      0.63      0.58       232\n",
      "           2       0.84      0.45      0.58       157\n",
      "           3       0.75      0.33      0.45       273\n",
      "           4       0.00      0.00      0.00        64\n",
      "           5       0.92      0.20      0.33       111\n",
      "           6       0.88      0.22      0.35        96\n",
      "           7       1.00      0.06      0.11        67\n",
      "           8       0.00      0.00      0.00        36\n",
      "           9       0.00      0.00      0.00        56\n",
      "          10       0.93      0.18      0.30       141\n",
      "          11       0.00      0.00      0.00        54\n",
      "          12       0.83      0.72      0.77        79\n",
      "          13       0.94      0.57      0.71        81\n",
      "          14       0.00      0.00      0.00        29\n",
      "          15       0.67      0.05      0.09        79\n",
      "          16       0.18      0.98      0.31       544\n",
      "          17       0.00      0.00      0.00        75\n",
      "          18       1.00      0.12      0.21        93\n",
      "          19       0.49      0.61      0.54       154\n",
      "          20       0.78      0.21      0.33       146\n",
      "          21       1.00      0.08      0.15        50\n",
      "          22       0.00      0.00      0.00        23\n",
      "          23       1.00      0.19      0.31        75\n",
      "          24       0.00      0.00      0.00        27\n",
      "          25       1.00      0.03      0.07       173\n",
      "          26       0.80      0.31      0.44        13\n",
      "          27       0.96      0.22      0.36       118\n",
      "          28       0.00      0.00      0.00        39\n",
      "          29       0.00      0.00      0.00        36\n",
      "          30       0.71      0.18      0.28       290\n",
      "          31       0.80      0.17      0.28        95\n",
      "          32       1.00      0.07      0.13       134\n",
      "          33       0.00      0.00      0.00        66\n",
      "          34       0.85      0.43      0.57        81\n",
      "          35       0.38      0.41      0.39       408\n",
      "          36       1.00      0.07      0.14        41\n",
      "          37       1.00      0.03      0.06        35\n",
      "          38       1.00      0.03      0.06       170\n",
      "          39       1.00      0.19      0.32        73\n",
      "\n",
      "    accuracy                           0.33      4527\n",
      "   macro avg       0.58      0.19      0.23      4527\n",
      "weighted avg       0.62      0.33      0.30      4527\n",
      "\n"
     ]
    },
    {
     "name": "stderr",
     "output_type": "stream",
     "text": [
      "c:\\Users\\Kackie\\anaconda3\\envs\\DataScience\\lib\\site-packages\\sklearn\\metrics\\_classification.py:1318: UndefinedMetricWarning: Precision and F-score are ill-defined and being set to 0.0 in labels with no predicted samples. Use `zero_division` parameter to control this behavior.\n",
      "  _warn_prf(average, modifier, msg_start, len(result))\n",
      "c:\\Users\\Kackie\\anaconda3\\envs\\DataScience\\lib\\site-packages\\sklearn\\metrics\\_classification.py:1318: UndefinedMetricWarning: Precision and F-score are ill-defined and being set to 0.0 in labels with no predicted samples. Use `zero_division` parameter to control this behavior.\n",
      "  _warn_prf(average, modifier, msg_start, len(result))\n",
      "c:\\Users\\Kackie\\anaconda3\\envs\\DataScience\\lib\\site-packages\\sklearn\\metrics\\_classification.py:1318: UndefinedMetricWarning: Precision and F-score are ill-defined and being set to 0.0 in labels with no predicted samples. Use `zero_division` parameter to control this behavior.\n",
      "  _warn_prf(average, modifier, msg_start, len(result))\n"
     ]
    }
   ],
   "source": [
    "print(classification_report(y_test, clf_tfidf_mnb.predict(X_test_tfidf_transformed)))"
   ]
  },
  {
   "cell_type": "markdown",
   "metadata": {},
   "source": [
    "#### Linear SVM"
   ]
  },
  {
   "cell_type": "code",
   "execution_count": 104,
   "metadata": {},
   "outputs": [],
   "source": [
    "from sklearn.linear_model import SGDClassifier"
   ]
  },
  {
   "cell_type": "code",
   "execution_count": 105,
   "metadata": {},
   "outputs": [],
   "source": [
    "clf_tfidf_sgd = SGDClassifier(\n",
    "    loss='hinge',\n",
    "    penalty='l2',\n",
    "    alpha=1e-3,\n",
    "    random_state=7600,\n",
    "    verbose=1\n",
    ")"
   ]
  },
  {
   "cell_type": "code",
   "execution_count": 107,
   "metadata": {},
   "outputs": [
    {
     "name": "stderr",
     "output_type": "stream",
     "text": [
      "[Parallel(n_jobs=1)]: Using backend SequentialBackend with 1 concurrent workers.\n"
     ]
    },
    {
     "name": "stdout",
     "output_type": "stream",
     "text": [
      "-- Epoch 1\n",
      "Norm: 0.84, NNZs: 1057, Bias: -1.012067, T: 10563, Avg. loss: 0.003892\n",
      "Total training time: 0.00 seconds.\n",
      "-- Epoch 2\n",
      "Norm: 0.70, NNZs: 1371, Bias: -1.011447, T: 21126, Avg. loss: 0.003115\n",
      "Total training time: 0.00 seconds.\n",
      "-- Epoch 3\n",
      "Norm: 0.66, NNZs: 1688, Bias: -1.010589, T: 31689, Avg. loss: 0.003064\n",
      "Total training time: 0.01 seconds.\n",
      "-- Epoch 4\n",
      "Norm: 0.65, NNZs: 1938, Bias: -1.010838, T: 42252, Avg. loss: 0.003041\n",
      "Total training time: 0.01 seconds.\n",
      "-- Epoch 5\n",
      "Norm: 0.65, NNZs: 2147, Bias: -1.010795, T: 52815, Avg. loss: 0.003031\n",
      "Total training time: 0.01 seconds.\n",
      "-- Epoch 6\n",
      "Norm: 0.64, NNZs: 2277, Bias: -1.010073, T: 63378, Avg. loss: 0.003037\n",
      "Total training time: 0.01 seconds.\n",
      "Convergence after 6 epochs took 0.01 seconds\n",
      "-- Epoch 1\n",
      "Norm: 4.48, NNZs: 11917, Bias: -1.048483, T: 10563, Avg. loss: 0.090813\n",
      "Total training time: 0.00 seconds.\n",
      "-- Epoch 2\n",
      "Norm: 4.32, NNZs: 14555, Bias: -1.042134, T: 21126, Avg. loss: 0.083768\n",
      "Total training time: 0.00 seconds.\n",
      "-- Epoch 3\n",
      "Norm: 4.28, NNZs: 15846, Bias: -1.037839, T: 31689, Avg. loss: 0.082796\n",
      "Total training time: 0.01 seconds.\n",
      "-- Epoch 4\n",
      "Norm: 4.23, NNZs: 16720, Bias: -1.039249, T: 42252, Avg. loss: 0.082121\n",
      "Total training time: 0.01 seconds.\n",
      "-- Epoch 5\n",
      "Norm: 4.22, NNZs: 17527, Bias: -1.035712, T: 52815, Avg. loss: 0.082099\n",
      "Total training time: 0.01 seconds.\n",
      "-- Epoch 6\n",
      "Norm: 4.22, NNZs: 17853, Bias: -1.034344, T: 63378, Avg. loss: 0.081908\n",
      "Total training time: 0.01 seconds.\n",
      "-- Epoch 7\n",
      "Norm: 4.24, NNZs: 18256, Bias: -1.031181, T: 73941, Avg. loss: 0.081818\n",
      "Total training time: 0.02 seconds.\n",
      "Convergence after 7 epochs took 0.02 seconds\n",
      "-- Epoch 1\n",
      "Norm: 4.61, NNZs: 7911, Bias: -1.055240, T: 10563, Avg. loss: 0.060339\n",
      "Total training time: 0.00 seconds.\n",
      "-- Epoch 2\n",
      "Norm: 4.53, NNZs: 9149, Bias: -1.045981, T: 21126, Avg. loss: 0.055100\n",
      "Total training time: 0.00 seconds.\n",
      "-- Epoch 3\n",
      "Norm: 4.51, NNZs: 9737, Bias: -1.045107, T: 31689, Avg. loss: 0.054167\n",
      "Total training time: 0.01 seconds.\n",
      "-- Epoch 4\n",
      "Norm: 4.51, NNZs: 10298, Bias: -1.043518, T: 42252, Avg. loss: 0.053766\n",
      "Total training time: 0.01 seconds.\n",
      "-- Epoch 5\n",
      "Norm: 4.50, NNZs: 10571, Bias: -1.040675, T: 52815, Avg. loss: 0.053466\n",
      "Total training time: 0.01 seconds.\n",
      "-- Epoch 6\n",
      "Norm: 4.50, NNZs: 10830, Bias: -1.039966, T: 63378, Avg. loss: 0.053449\n",
      "Total training time: 0.01 seconds.\n",
      "-- Epoch 7\n",
      "Norm: 4.50, NNZs: 10952, Bias: -1.038281, T: 73941, Avg. loss: 0.053224\n",
      "Total training time: 0.01 seconds.\n",
      "Convergence after 7 epochs took 0.01 seconds\n",
      "-- Epoch 1\n",
      "Norm: 4.05, NNZs: 18585, Bias: -1.065900, T: 10563, Avg. loss: 0.118434\n",
      "Total training time: 0.00 seconds.\n",
      "-- Epoch 2\n",
      "Norm: 3.80, NNZs: 22857, Bias: -1.051114, T: 21126, Avg. loss: 0.110143\n",
      "Total training time: 0.00 seconds.\n",
      "-- Epoch 3\n",
      "Norm: 3.74, NNZs: 25109, Bias: -1.046826, T: 31689, Avg. loss: 0.108802\n",
      "Total training time: 0.01 seconds.\n",
      "-- Epoch 4\n",
      "Norm: 3.72, NNZs: 26350, Bias: -1.039193, T: 42252, Avg. loss: 0.108259\n",
      "Total training time: 0.01 seconds.\n",
      "-- Epoch 5\n",
      "Norm: 3.70, NNZs: 27273, Bias: -1.037737, T: 52815, Avg. loss: 0.107913\n",
      "Total training time: 0.01 seconds.\n",
      "-- Epoch 6\n",
      "Norm: 3.69, NNZs: 27807, Bias: -1.035462, T: 63378, Avg. loss: 0.107820\n",
      "Total training time: 0.01 seconds.\n",
      "-- Epoch 7\n",
      "Norm: 3.69, NNZs: 28204, Bias: -1.036323, T: 73941, Avg. loss: 0.107564\n",
      "Total training time: 0.02 seconds.\n",
      "-- Epoch 8\n",
      "Norm: 3.69, NNZs: 28446, Bias: -1.034452, T: 84504, Avg. loss: 0.107466\n",
      "Total training time: 0.02 seconds.\n",
      "Convergence after 8 epochs took 0.02 seconds\n",
      "-- Epoch 1\n",
      "Norm: 1.66, NNZs: 5238, Bias: -1.035770, T: 10563, Avg. loss: 0.028821\n",
      "Total training time: 0.00 seconds.\n",
      "-- Epoch 2\n",
      "Norm: 1.47, NNZs: 6983, Bias: -1.029881, T: 21126, Avg. loss: 0.026728\n",
      "Total training time: 0.00 seconds.\n",
      "-- Epoch 3\n",
      "Norm: 1.42, NNZs: 8544, Bias: -1.025414, T: 31689, Avg. loss: 0.026446\n",
      "Total training time: 0.01 seconds.\n",
      "-- Epoch 4\n",
      "Norm: 1.40, NNZs: 9299, Bias: -1.024291, T: 42252, Avg. loss: 0.026346\n",
      "Total training time: 0.01 seconds.\n",
      "-- Epoch 5\n",
      "Norm: 1.39, NNZs: 10152, Bias: -1.022947, T: 52815, Avg. loss: 0.026256\n",
      "Total training time: 0.01 seconds.\n",
      "-- Epoch 6\n",
      "Norm: 1.38, NNZs: 10768, Bias: -1.022901, T: 63378, Avg. loss: 0.026204\n",
      "Total training time: 0.01 seconds.\n",
      "-- Epoch 7\n",
      "Norm: 1.38, NNZs: 11338, Bias: -1.022438, T: 73941, Avg. loss: 0.026159\n",
      "Total training time: 0.01 seconds.\n",
      "Convergence after 7 epochs took 0.01 seconds\n",
      "-- Epoch 1\n",
      "Norm: 2.07, NNZs: 5463, Bias: -1.045906, T: 10563, Avg. loss: 0.047898\n",
      "Total training time: 0.00 seconds.\n",
      "-- Epoch 2\n",
      "Norm: 1.82, NNZs: 7085, Bias: -1.034258, T: 21126, Avg. loss: 0.044940\n",
      "Total training time: 0.00 seconds.\n",
      "-- Epoch 3\n",
      "Norm: 1.75, NNZs: 7952, Bias: -1.032497, T: 31689, Avg. loss: 0.044362\n",
      "Total training time: 0.01 seconds.\n",
      "-- Epoch 4\n",
      "Norm: 1.71, NNZs: 9099, Bias: -1.030060, T: 42252, Avg. loss: 0.044227\n",
      "Total training time: 0.01 seconds.\n",
      "-- Epoch 5\n",
      "Norm: 1.70, NNZs: 9758, Bias: -1.026302, T: 52815, Avg. loss: 0.044131\n",
      "Total training time: 0.01 seconds.\n",
      "-- Epoch 6\n",
      "Norm: 1.69, NNZs: 10637, Bias: -1.024690, T: 63378, Avg. loss: 0.044035\n",
      "Total training time: 0.01 seconds.\n",
      "-- Epoch 7\n",
      "Norm: 1.68, NNZs: 11028, Bias: -1.023719, T: 73941, Avg. loss: 0.044026\n",
      "Total training time: 0.01 seconds.\n",
      "Convergence after 7 epochs took 0.01 seconds\n",
      "-- Epoch 1\n",
      "Norm: 3.14, NNZs: 5591, Bias: -1.079108, T: 10563, Avg. loss: 0.030489\n",
      "Total training time: 0.00 seconds.\n",
      "-- Epoch 2\n",
      "Norm: 3.09, NNZs: 6718, Bias: -1.068343, T: 21126, Avg. loss: 0.027281\n",
      "Total training time: 0.00 seconds.\n",
      "-- Epoch 3\n",
      "Norm: 3.02, NNZs: 7390, Bias: -1.067924, T: 31689, Avg. loss: 0.026815\n",
      "Total training time: 0.01 seconds.\n",
      "-- Epoch 4\n",
      "Norm: 3.03, NNZs: 7781, Bias: -1.065956, T: 42252, Avg. loss: 0.026617\n",
      "Total training time: 0.01 seconds.\n",
      "-- Epoch 5\n",
      "Norm: 3.07, NNZs: 7933, Bias: -1.063068, T: 52815, Avg. loss: 0.026506\n",
      "Total training time: 0.01 seconds.\n",
      "-- Epoch 6\n",
      "Norm: 3.05, NNZs: 8090, Bias: -1.062494, T: 63378, Avg. loss: 0.026465\n",
      "Total training time: 0.01 seconds.\n",
      "-- Epoch 7\n",
      "Norm: 3.05, NNZs: 8183, Bias: -1.061455, T: 73941, Avg. loss: 0.026420\n",
      "Total training time: 0.01 seconds.\n",
      "Convergence after 7 epochs took 0.01 seconds\n",
      "-- Epoch 1\n",
      "Norm: 2.07, NNZs: 6969, Bias: -1.013036, T: 10563, Avg. loss: 0.031096\n",
      "Total training time: 0.00 seconds.\n",
      "-- Epoch 2\n",
      "Norm: 1.90, NNZs: 9280, Bias: -1.014099, T: 21126, Avg. loss: 0.028610\n",
      "Total training time: 0.00 seconds.\n",
      "-- Epoch 3\n",
      "Norm: 1.85, NNZs: 11513, Bias: -1.010217, T: 31689, Avg. loss: 0.028332\n",
      "Total training time: 0.01 seconds.\n",
      "-- Epoch 4\n",
      "Norm: 1.83, NNZs: 13140, Bias: -1.008042, T: 42252, Avg. loss: 0.028143\n",
      "Total training time: 0.01 seconds.\n",
      "-- Epoch 5\n",
      "Norm: 1.83, NNZs: 14620, Bias: -1.008711, T: 52815, Avg. loss: 0.028135\n",
      "Total training time: 0.01 seconds.\n",
      "-- Epoch 6\n",
      "Norm: 1.82, NNZs: 15530, Bias: -1.006746, T: 63378, Avg. loss: 0.028045\n",
      "Total training time: 0.01 seconds.\n",
      "-- Epoch 7\n",
      "Norm: 1.82, NNZs: 16613, Bias: -1.006003, T: 73941, Avg. loss: 0.028003\n",
      "Total training time: 0.02 seconds.\n",
      "Convergence after 7 epochs took 0.02 seconds\n",
      "-- Epoch 1\n",
      "Norm: 1.18, NNZs: 2207, Bias: -1.035654, T: 10563, Avg. loss: 0.016840\n",
      "Total training time: 0.00 seconds.\n",
      "-- Epoch 2\n",
      "Norm: 0.94, NNZs: 2489, Bias: -1.031162, T: 21126, Avg. loss: 0.015534\n",
      "Total training time: 0.00 seconds.\n",
      "-- Epoch 3\n",
      "Norm: 0.86, NNZs: 2657, Bias: -1.029804, T: 31689, Avg. loss: 0.015405\n",
      "Total training time: 0.01 seconds.\n",
      "-- Epoch 4\n",
      "Norm: 0.83, NNZs: 2737, Bias: -1.028972, T: 42252, Avg. loss: 0.015303\n",
      "Total training time: 0.01 seconds.\n",
      "-- Epoch 5\n",
      "Norm: 0.81, NNZs: 2843, Bias: -1.026948, T: 52815, Avg. loss: 0.015289\n",
      "Total training time: 0.01 seconds.\n",
      "-- Epoch 6\n",
      "Norm: 0.80, NNZs: 2940, Bias: -1.026783, T: 63378, Avg. loss: 0.015254\n",
      "Total training time: 0.01 seconds.\n",
      "-- Epoch 7\n",
      "Norm: 0.79, NNZs: 2992, Bias: -1.026164, T: 73941, Avg. loss: 0.015229\n",
      "Total training time: 0.01 seconds.\n",
      "Convergence after 7 epochs took 0.01 seconds\n",
      "-- Epoch 1\n",
      "Norm: 2.10, NNZs: 4526, Bias: -1.044465, T: 10563, Avg. loss: 0.020450\n",
      "Total training time: 0.00 seconds.\n",
      "-- Epoch 2\n",
      "Norm: 1.99, NNZs: 5310, Bias: -1.034990, T: 21126, Avg. loss: 0.018758\n",
      "Total training time: 0.00 seconds.\n",
      "-- Epoch 3\n",
      "Norm: 1.96, NNZs: 5849, Bias: -1.029229, T: 31689, Avg. loss: 0.018657\n",
      "Total training time: 0.00 seconds.\n",
      "-- Epoch 4\n",
      "Norm: 1.95, NNZs: 6447, Bias: -1.030797, T: 42252, Avg. loss: 0.018496\n",
      "Total training time: 0.01 seconds.\n",
      "-- Epoch 5\n",
      "Norm: 1.95, NNZs: 6743, Bias: -1.027794, T: 52815, Avg. loss: 0.018481\n",
      "Total training time: 0.01 seconds.\n",
      "-- Epoch 6\n",
      "Norm: 1.94, NNZs: 6975, Bias: -1.026958, T: 63378, Avg. loss: 0.018434\n",
      "Total training time: 0.01 seconds.\n",
      "-- Epoch 7\n",
      "Norm: 1.94, NNZs: 7153, Bias: -1.026505, T: 73941, Avg. loss: 0.018399\n",
      "Total training time: 0.01 seconds.\n",
      "Convergence after 7 epochs took 0.01 seconds\n",
      "-- Epoch 1\n",
      "Norm: 3.20, NNZs: 11550, Bias: -1.047906, T: 10563, Avg. loss: 0.065442\n",
      "Total training time: 0.00 seconds.\n",
      "-- Epoch 2\n",
      "Norm: 3.02, NNZs: 14880, Bias: -1.039437, T: 21126, Avg. loss: 0.061166\n",
      "Total training time: 0.00 seconds.\n",
      "-- Epoch 3\n",
      "Norm: 2.98, NNZs: 16638, Bias: -1.030426, T: 31689, Avg. loss: 0.060661\n",
      "Total training time: 0.01 seconds.\n",
      "-- Epoch 4\n",
      "Norm: 2.97, NNZs: 18165, Bias: -1.028650, T: 42252, Avg. loss: 0.060248\n",
      "Total training time: 0.01 seconds.\n",
      "-- Epoch 5\n",
      "Norm: 2.96, NNZs: 18996, Bias: -1.026938, T: 52815, Avg. loss: 0.060027\n",
      "Total training time: 0.01 seconds.\n",
      "-- Epoch 6\n",
      "Norm: 2.95, NNZs: 19711, Bias: -1.024481, T: 63378, Avg. loss: 0.059897\n",
      "Total training time: 0.01 seconds.\n",
      "-- Epoch 7\n",
      "Norm: 2.95, NNZs: 20667, Bias: -1.025438, T: 73941, Avg. loss: 0.059802\n",
      "Total training time: 0.01 seconds.\n",
      "Convergence after 7 epochs took 0.01 seconds\n",
      "-- Epoch 1\n",
      "Norm: 1.54, NNZs: 3832, Bias: -1.008739, T: 10563, Avg. loss: 0.021917\n",
      "Total training time: 0.00 seconds.\n",
      "-- Epoch 2\n",
      "Norm: 1.34, NNZs: 5126, Bias: -1.005352, T: 21126, Avg. loss: 0.020225\n",
      "Total training time: 0.00 seconds.\n",
      "-- Epoch 3\n",
      "Norm: 1.29, NNZs: 6453, Bias: -1.002922, T: 31689, Avg. loss: 0.020031\n",
      "Total training time: 0.00 seconds.\n",
      "-- Epoch 4\n",
      "Norm: 1.27, NNZs: 7185, Bias: -1.001046, T: 42252, Avg. loss: 0.019951\n",
      "Total training time: 0.01 seconds.\n",
      "-- Epoch 5\n",
      "Norm: 1.26, NNZs: 8091, Bias: -0.999366, T: 52815, Avg. loss: 0.019904\n",
      "Total training time: 0.01 seconds.\n",
      "-- Epoch 6\n",
      "Norm: 1.25, NNZs: 9102, Bias: -1.000443, T: 63378, Avg. loss: 0.019860\n",
      "Total training time: 0.01 seconds.\n",
      "-- Epoch 7\n",
      "Norm: 1.25, NNZs: 9814, Bias: -1.000487, T: 73941, Avg. loss: 0.019833\n",
      "Total training time: 0.01 seconds.\n",
      "Convergence after 7 epochs took 0.01 seconds\n",
      "-- Epoch 1\n",
      "Norm: 4.16, NNZs: 3406, Bias: -1.057388, T: 10563, Avg. loss: 0.023570\n",
      "Total training time: 0.00 seconds.\n",
      "-- Epoch 2\n",
      "Norm: 4.09, NNZs: 3951, Bias: -1.059391, T: 21126, Avg. loss: 0.019547\n",
      "Total training time: 0.00 seconds.\n",
      "-- Epoch 3\n",
      "Norm: 4.11, NNZs: 4253, Bias: -1.056776, T: 31689, Avg. loss: 0.019391\n",
      "Total training time: 0.01 seconds.\n",
      "-- Epoch 4\n",
      "Norm: 4.10, NNZs: 4636, Bias: -1.056909, T: 42252, Avg. loss: 0.019041\n",
      "Total training time: 0.01 seconds.\n",
      "-- Epoch 5\n",
      "Norm: 4.10, NNZs: 4813, Bias: -1.054757, T: 52815, Avg. loss: 0.018895\n",
      "Total training time: 0.01 seconds.\n",
      "-- Epoch 6\n",
      "Norm: 4.10, NNZs: 4892, Bias: -1.053423, T: 63378, Avg. loss: 0.018926\n",
      "Total training time: 0.01 seconds.\n",
      "-- Epoch 7\n",
      "Norm: 4.11, NNZs: 4954, Bias: -1.053448, T: 73941, Avg. loss: 0.018764\n",
      "Total training time: 0.01 seconds.\n",
      "Convergence after 7 epochs took 0.01 seconds\n",
      "-- Epoch 1\n",
      "Norm: 4.21, NNZs: 4888, Bias: -1.055577, T: 10563, Avg. loss: 0.021774\n",
      "Total training time: 0.00 seconds.\n",
      "-- Epoch 2\n",
      "Norm: 4.34, NNZs: 6843, Bias: -1.056873, T: 21126, Avg. loss: 0.018901\n",
      "Total training time: 0.00 seconds.\n",
      "-- Epoch 3\n",
      "Norm: 4.35, NNZs: 7422, Bias: -1.052122, T: 31689, Avg. loss: 0.018218\n",
      "Total training time: 0.00 seconds.\n",
      "-- Epoch 4\n",
      "Norm: 4.37, NNZs: 7993, Bias: -1.049768, T: 42252, Avg. loss: 0.018001\n",
      "Total training time: 0.01 seconds.\n",
      "-- Epoch 5\n",
      "Norm: 4.39, NNZs: 8417, Bias: -1.048599, T: 52815, Avg. loss: 0.017726\n",
      "Total training time: 0.01 seconds.\n",
      "-- Epoch 6\n",
      "Norm: 4.39, NNZs: 8547, Bias: -1.048425, T: 63378, Avg. loss: 0.017670\n",
      "Total training time: 0.01 seconds.\n",
      "-- Epoch 7\n",
      "Norm: 4.37, NNZs: 8698, Bias: -1.048303, T: 73941, Avg. loss: 0.017425\n",
      "Total training time: 0.01 seconds.\n",
      "Convergence after 7 epochs took 0.01 seconds\n",
      "-- Epoch 1\n",
      "Norm: 1.18, NNZs: 2455, Bias: -1.021879, T: 10563, Avg. loss: 0.011319\n",
      "Total training time: 0.00 seconds.\n",
      "-- Epoch 2\n",
      "Norm: 0.98, NNZs: 2872, Bias: -1.015037, T: 21126, Avg. loss: 0.010291\n",
      "Total training time: 0.00 seconds.\n",
      "-- Epoch 3\n",
      "Norm: 0.93, NNZs: 3665, Bias: -1.015747, T: 31689, Avg. loss: 0.010178\n",
      "Total training time: 0.01 seconds.\n",
      "-- Epoch 4\n",
      "Norm: 0.91, NNZs: 3873, Bias: -1.012805, T: 42252, Avg. loss: 0.010182\n",
      "Total training time: 0.01 seconds.\n",
      "-- Epoch 5\n",
      "Norm: 0.90, NNZs: 4105, Bias: -1.011529, T: 52815, Avg. loss: 0.010124\n",
      "Total training time: 0.01 seconds.\n",
      "-- Epoch 6\n",
      "Norm: 0.90, NNZs: 4422, Bias: -1.011535, T: 63378, Avg. loss: 0.010099\n",
      "Total training time: 0.01 seconds.\n",
      "-- Epoch 7\n",
      "Norm: 0.89, NNZs: 4664, Bias: -1.011064, T: 73941, Avg. loss: 0.010102\n",
      "Total training time: 0.01 seconds.\n",
      "Convergence after 7 epochs took 0.01 seconds\n",
      "-- Epoch 1\n",
      "Norm: 2.42, NNZs: 4272, Bias: -1.068354, T: 10563, Avg. loss: 0.032316\n",
      "Total training time: 0.00 seconds.\n",
      "-- Epoch 2\n",
      "Norm: 2.33, NNZs: 5108, Bias: -1.065444, T: 21126, Avg. loss: 0.029532\n",
      "Total training time: 0.00 seconds.\n",
      "-- Epoch 3\n",
      "Norm: 2.30, NNZs: 5408, Bias: -1.065891, T: 31689, Avg. loss: 0.029266\n",
      "Total training time: 0.01 seconds.\n",
      "-- Epoch 4\n",
      "Norm: 2.29, NNZs: 5599, Bias: -1.064150, T: 42252, Avg. loss: 0.029147\n",
      "Total training time: 0.01 seconds.\n",
      "-- Epoch 5\n",
      "Norm: 2.28, NNZs: 5635, Bias: -1.062896, T: 52815, Avg. loss: 0.029079\n",
      "Total training time: 0.01 seconds.\n",
      "-- Epoch 6\n",
      "Norm: 2.28, NNZs: 5659, Bias: -1.060353, T: 63378, Avg. loss: 0.029000\n",
      "Total training time: 0.01 seconds.\n",
      "-- Epoch 7\n",
      "Norm: 2.28, NNZs: 5683, Bias: -1.060193, T: 73941, Avg. loss: 0.028982\n",
      "Total training time: 0.01 seconds.\n",
      "Convergence after 7 epochs took 0.01 seconds\n",
      "-- Epoch 1\n",
      "Norm: 5.30, NNZs: 44012, Bias: -1.035231, T: 10563, Avg. loss: 0.229729\n",
      "Total training time: 0.00 seconds.\n",
      "-- Epoch 2\n",
      "Norm: 5.01, NNZs: 51038, Bias: -1.030371, T: 21126, Avg. loss: 0.215118\n",
      "Total training time: 0.00 seconds.\n",
      "-- Epoch 3\n",
      "Norm: 4.94, NNZs: 54016, Bias: -1.015598, T: 31689, Avg. loss: 0.212906\n",
      "Total training time: 0.01 seconds.\n",
      "-- Epoch 4\n",
      "Norm: 4.91, NNZs: 55356, Bias: -1.014301, T: 42252, Avg. loss: 0.211953\n",
      "Total training time: 0.01 seconds.\n",
      "-- Epoch 5\n",
      "Norm: 4.89, NNZs: 56399, Bias: -1.011247, T: 52815, Avg. loss: 0.211243\n",
      "Total training time: 0.01 seconds.\n",
      "-- Epoch 6\n",
      "Norm: 4.88, NNZs: 57152, Bias: -1.009706, T: 63378, Avg. loss: 0.210911\n",
      "Total training time: 0.01 seconds.\n",
      "-- Epoch 7\n",
      "Norm: 4.88, NNZs: 57561, Bias: -1.010512, T: 73941, Avg. loss: 0.210498\n",
      "Total training time: 0.02 seconds.\n",
      "-- Epoch 8\n",
      "Norm: 4.87, NNZs: 57976, Bias: -1.006950, T: 84504, Avg. loss: 0.210417\n",
      "Total training time: 0.02 seconds.\n",
      "Convergence after 8 epochs took 0.02 seconds\n",
      "-- Epoch 1\n",
      "Norm: 1.91, NNZs: 7434, Bias: -1.038149, T: 10563, Avg. loss: 0.038126\n",
      "Total training time: 0.00 seconds.\n",
      "-- Epoch 2\n",
      "Norm: 1.70, NNZs: 9899, Bias: -1.034196, T: 21126, Avg. loss: 0.035468\n",
      "Total training time: 0.00 seconds.\n",
      "-- Epoch 3\n",
      "Norm: 1.65, NNZs: 11530, Bias: -1.032482, T: 31689, Avg. loss: 0.035043\n",
      "Total training time: 0.01 seconds.\n",
      "-- Epoch 4\n",
      "Norm: 1.63, NNZs: 12587, Bias: -1.028179, T: 42252, Avg. loss: 0.034870\n",
      "Total training time: 0.01 seconds.\n",
      "-- Epoch 5\n",
      "Norm: 1.62, NNZs: 13665, Bias: -1.026939, T: 52815, Avg. loss: 0.034741\n",
      "Total training time: 0.01 seconds.\n",
      "-- Epoch 6\n",
      "Norm: 1.61, NNZs: 14148, Bias: -1.026524, T: 63378, Avg. loss: 0.034674\n",
      "Total training time: 0.01 seconds.\n",
      "-- Epoch 7\n",
      "Norm: 1.61, NNZs: 14820, Bias: -1.025273, T: 73941, Avg. loss: 0.034646\n",
      "Total training time: 0.01 seconds.\n",
      "Convergence after 7 epochs took 0.01 seconds\n",
      "-- Epoch 1\n",
      "Norm: 2.96, NNZs: 6811, Bias: -1.045678, T: 10563, Avg. loss: 0.034400\n",
      "Total training time: 0.00 seconds.\n",
      "-- Epoch 2\n",
      "Norm: 2.87, NNZs: 8506, Bias: -1.043488, T: 21126, Avg. loss: 0.031189\n",
      "Total training time: 0.00 seconds.\n",
      "-- Epoch 3\n",
      "Norm: 2.85, NNZs: 9219, Bias: -1.041850, T: 31689, Avg. loss: 0.030671\n",
      "Total training time: 0.01 seconds.\n",
      "-- Epoch 4\n",
      "Norm: 2.84, NNZs: 9620, Bias: -1.037174, T: 42252, Avg. loss: 0.030513\n",
      "Total training time: 0.01 seconds.\n",
      "-- Epoch 5\n",
      "Norm: 2.84, NNZs: 9815, Bias: -1.035113, T: 52815, Avg. loss: 0.030451\n",
      "Total training time: 0.01 seconds.\n",
      "-- Epoch 6\n",
      "Norm: 2.84, NNZs: 9948, Bias: -1.033187, T: 63378, Avg. loss: 0.030374\n",
      "Total training time: 0.01 seconds.\n",
      "-- Epoch 7\n",
      "Norm: 2.84, NNZs: 10084, Bias: -1.033139, T: 73941, Avg. loss: 0.030353\n",
      "Total training time: 0.02 seconds.\n",
      "Convergence after 7 epochs took 0.02 seconds\n",
      "-- Epoch 1\n",
      "Norm: 2.87, NNZs: 6754, Bias: -1.060116, T: 10563, Avg. loss: 0.071513\n",
      "Total training time: 0.00 seconds.\n",
      "-- Epoch 2\n",
      "Norm: 2.64, NNZs: 8078, Bias: -1.047889, T: 21126, Avg. loss: 0.066580\n",
      "Total training time: 0.00 seconds.\n",
      "-- Epoch 3\n",
      "Norm: 2.57, NNZs: 9081, Bias: -1.047338, T: 31689, Avg. loss: 0.065817\n",
      "Total training time: 0.01 seconds.\n",
      "-- Epoch 4\n",
      "Norm: 2.54, NNZs: 9558, Bias: -1.042276, T: 42252, Avg. loss: 0.065555\n",
      "Total training time: 0.01 seconds.\n",
      "-- Epoch 5\n",
      "Norm: 2.52, NNZs: 10236, Bias: -1.038892, T: 52815, Avg. loss: 0.065420\n",
      "Total training time: 0.01 seconds.\n",
      "-- Epoch 6\n",
      "Norm: 2.50, NNZs: 10782, Bias: -1.038960, T: 63378, Avg. loss: 0.065312\n",
      "Total training time: 0.01 seconds.\n",
      "-- Epoch 7\n",
      "Norm: 2.49, NNZs: 10992, Bias: -1.037920, T: 73941, Avg. loss: 0.065241\n",
      "Total training time: 0.01 seconds.\n",
      "Convergence after 7 epochs took 0.01 seconds\n",
      "-- Epoch 1\n",
      "Norm: 3.31, NNZs: 8704, Bias: -1.016682, T: 10563, Avg. loss: 0.061937\n",
      "Total training time: 0.00 seconds.\n",
      "-- Epoch 2\n",
      "Norm: 3.11, NNZs: 11296, Bias: -1.018077, T: 21126, Avg. loss: 0.057167\n",
      "Total training time: 0.00 seconds.\n",
      "-- Epoch 3\n",
      "Norm: 3.06, NNZs: 12903, Bias: -1.018363, T: 31689, Avg. loss: 0.056465\n",
      "Total training time: 0.01 seconds.\n",
      "-- Epoch 4\n",
      "Norm: 3.03, NNZs: 13842, Bias: -1.015332, T: 42252, Avg. loss: 0.056041\n",
      "Total training time: 0.01 seconds.\n",
      "-- Epoch 5\n",
      "Norm: 3.02, NNZs: 14509, Bias: -1.013987, T: 52815, Avg. loss: 0.055820\n",
      "Total training time: 0.01 seconds.\n",
      "-- Epoch 6\n",
      "Norm: 3.01, NNZs: 15081, Bias: -1.013199, T: 63378, Avg. loss: 0.055687\n",
      "Total training time: 0.01 seconds.\n",
      "-- Epoch 7\n",
      "Norm: 3.01, NNZs: 15941, Bias: -1.012458, T: 73941, Avg. loss: 0.055744\n",
      "Total training time: 0.01 seconds.\n",
      "Convergence after 7 epochs took 0.01 seconds\n",
      "-- Epoch 1\n",
      "Norm: 2.21, NNZs: 3621, Bias: -1.023225, T: 10563, Avg. loss: 0.020223\n",
      "Total training time: 0.00 seconds.\n",
      "-- Epoch 2\n",
      "Norm: 2.09, NNZs: 5285, Bias: -1.029204, T: 21126, Avg. loss: 0.017769\n",
      "Total training time: 0.00 seconds.\n",
      "-- Epoch 3\n",
      "Norm: 2.06, NNZs: 5821, Bias: -1.023885, T: 31689, Avg. loss: 0.017625\n",
      "Total training time: 0.01 seconds.\n",
      "-- Epoch 4\n",
      "Norm: 2.05, NNZs: 6301, Bias: -1.023616, T: 42252, Avg. loss: 0.017514\n",
      "Total training time: 0.01 seconds.\n",
      "-- Epoch 5\n",
      "Norm: 2.05, NNZs: 6676, Bias: -1.023315, T: 52815, Avg. loss: 0.017446\n",
      "Total training time: 0.01 seconds.\n",
      "-- Epoch 6\n",
      "Norm: 2.04, NNZs: 6946, Bias: -1.022152, T: 63378, Avg. loss: 0.017415\n",
      "Total training time: 0.01 seconds.\n",
      "-- Epoch 7\n",
      "Norm: 2.04, NNZs: 7224, Bias: -1.020695, T: 73941, Avg. loss: 0.017418\n",
      "Total training time: 0.01 seconds.\n",
      "Convergence after 7 epochs took 0.01 seconds\n",
      "-- Epoch 1\n",
      "Norm: 0.97, NNZs: 2303, Bias: -1.032170, T: 10563, Avg. loss: 0.011564\n",
      "Total training time: 0.00 seconds.\n",
      "-- Epoch 2\n",
      "Norm: 0.78, NNZs: 2681, Bias: -1.024950, T: 21126, Avg. loss: 0.010229\n",
      "Total training time: 0.00 seconds.\n",
      "-- Epoch 3\n",
      "Norm: 0.73, NNZs: 2990, Bias: -1.024006, T: 31689, Avg. loss: 0.010146\n",
      "Total training time: 0.01 seconds.\n",
      "-- Epoch 4\n",
      "Norm: 0.71, NNZs: 3421, Bias: -1.023024, T: 42252, Avg. loss: 0.010088\n",
      "Total training time: 0.01 seconds.\n",
      "-- Epoch 5\n",
      "Norm: 0.70, NNZs: 3743, Bias: -1.020833, T: 52815, Avg. loss: 0.010064\n",
      "Total training time: 0.01 seconds.\n",
      "-- Epoch 6\n",
      "Norm: 0.69, NNZs: 3994, Bias: -1.020349, T: 63378, Avg. loss: 0.010046\n",
      "Total training time: 0.01 seconds.\n",
      "-- Epoch 7\n",
      "Norm: 0.69, NNZs: 4249, Bias: -1.020136, T: 73941, Avg. loss: 0.010034\n",
      "Total training time: 0.01 seconds.\n",
      "Convergence after 7 epochs took 0.01 seconds\n",
      "-- Epoch 1\n",
      "Norm: 2.81, NNZs: 4708, Bias: -1.055850, T: 10563, Avg. loss: 0.024824\n",
      "Total training time: 0.00 seconds.\n",
      "-- Epoch 2\n",
      "Norm: 2.78, NNZs: 5831, Bias: -1.049276, T: 21126, Avg. loss: 0.022340\n",
      "Total training time: 0.00 seconds.\n",
      "-- Epoch 3\n",
      "Norm: 2.79, NNZs: 6387, Bias: -1.045127, T: 31689, Avg. loss: 0.022134\n",
      "Total training time: 0.01 seconds.\n",
      "-- Epoch 4\n",
      "Norm: 2.79, NNZs: 6560, Bias: -1.043550, T: 42252, Avg. loss: 0.022132\n",
      "Total training time: 0.01 seconds.\n",
      "-- Epoch 5\n",
      "Norm: 2.79, NNZs: 7082, Bias: -1.043552, T: 52815, Avg. loss: 0.021844\n",
      "Total training time: 0.01 seconds.\n",
      "-- Epoch 6\n",
      "Norm: 2.79, NNZs: 7166, Bias: -1.043350, T: 63378, Avg. loss: 0.021787\n",
      "Total training time: 0.01 seconds.\n",
      "-- Epoch 7\n",
      "Norm: 2.79, NNZs: 7244, Bias: -1.042265, T: 73941, Avg. loss: 0.021787\n",
      "Total training time: 0.01 seconds.\n",
      "Convergence after 7 epochs took 0.01 seconds\n",
      "-- Epoch 1\n",
      "Norm: 1.39, NNZs: 2846, Bias: -1.020680, T: 10563, Avg. loss: 0.015867\n",
      "Total training time: 0.00 seconds.\n",
      "-- Epoch 2\n",
      "Norm: 1.21, NNZs: 4254, Bias: -1.028264, T: 21126, Avg. loss: 0.014275\n",
      "Total training time: 0.00 seconds.\n",
      "-- Epoch 3\n",
      "Norm: 1.17, NNZs: 4861, Bias: -1.021572, T: 31689, Avg. loss: 0.014185\n",
      "Total training time: 0.01 seconds.\n",
      "-- Epoch 4\n",
      "Norm: 1.15, NNZs: 5517, Bias: -1.023871, T: 42252, Avg. loss: 0.014074\n",
      "Total training time: 0.01 seconds.\n",
      "-- Epoch 5\n",
      "Norm: 1.14, NNZs: 6133, Bias: -1.022267, T: 52815, Avg. loss: 0.014010\n",
      "Total training time: 0.01 seconds.\n",
      "-- Epoch 6\n",
      "Norm: 1.14, NNZs: 6421, Bias: -1.020150, T: 63378, Avg. loss: 0.014017\n",
      "Total training time: 0.01 seconds.\n",
      "-- Epoch 7\n",
      "Norm: 1.13, NNZs: 6626, Bias: -1.019579, T: 73941, Avg. loss: 0.013992\n",
      "Total training time: 0.01 seconds.\n",
      "Convergence after 7 epochs took 0.01 seconds\n",
      "-- Epoch 1\n",
      "Norm: 2.89, NNZs: 15737, Bias: -1.077303, T: 10563, Avg. loss: 0.066067\n",
      "Total training time: 0.00 seconds.\n",
      "-- Epoch 2\n",
      "Norm: 2.69, NNZs: 19567, Bias: -1.066028, T: 21126, Avg. loss: 0.061121\n",
      "Total training time: 0.00 seconds.\n",
      "-- Epoch 3\n",
      "Norm: 2.63, NNZs: 21061, Bias: -1.060956, T: 31689, Avg. loss: 0.060380\n",
      "Total training time: 0.01 seconds.\n",
      "-- Epoch 4\n",
      "Norm: 2.62, NNZs: 22119, Bias: -1.056383, T: 42252, Avg. loss: 0.060054\n",
      "Total training time: 0.01 seconds.\n",
      "-- Epoch 5\n",
      "Norm: 2.60, NNZs: 22667, Bias: -1.056043, T: 52815, Avg. loss: 0.059908\n",
      "Total training time: 0.01 seconds.\n",
      "-- Epoch 6\n",
      "Norm: 2.60, NNZs: 22786, Bias: -1.052160, T: 63378, Avg. loss: 0.059795\n",
      "Total training time: 0.01 seconds.\n",
      "-- Epoch 7\n",
      "Norm: 2.59, NNZs: 23001, Bias: -1.052646, T: 73941, Avg. loss: 0.059709\n",
      "Total training time: 0.01 seconds.\n",
      "Convergence after 7 epochs took 0.01 seconds\n",
      "-- Epoch 1\n",
      "Norm: 1.67, NNZs: 2213, Bias: -1.046629, T: 10563, Avg. loss: 0.004979\n",
      "Total training time: 0.00 seconds.\n",
      "-- Epoch 2\n",
      "Norm: 1.67, NNZs: 2623, Bias: -1.042789, T: 21126, Avg. loss: 0.004453\n",
      "Total training time: 0.00 seconds.\n",
      "-- Epoch 3\n",
      "Norm: 1.69, NNZs: 2988, Bias: -1.043190, T: 31689, Avg. loss: 0.004252\n",
      "Total training time: 0.00 seconds.\n",
      "-- Epoch 4\n",
      "Norm: 1.70, NNZs: 3226, Bias: -1.042636, T: 42252, Avg. loss: 0.004193\n",
      "Total training time: 0.01 seconds.\n",
      "-- Epoch 5\n",
      "Norm: 1.71, NNZs: 3251, Bias: -1.041242, T: 52815, Avg. loss: 0.004179\n",
      "Total training time: 0.01 seconds.\n",
      "-- Epoch 6\n",
      "Norm: 1.71, NNZs: 3540, Bias: -1.042387, T: 63378, Avg. loss: 0.004126\n",
      "Total training time: 0.01 seconds.\n",
      "Convergence after 6 epochs took 0.01 seconds\n",
      "-- Epoch 1\n",
      "Norm: 3.00, NNZs: 7701, Bias: -1.084842, T: 10563, Avg. loss: 0.054541\n",
      "Total training time: 0.00 seconds.\n",
      "-- Epoch 2\n",
      "Norm: 2.87, NNZs: 9359, Bias: -1.069469, T: 21126, Avg. loss: 0.050159\n",
      "Total training time: 0.00 seconds.\n",
      "-- Epoch 3\n",
      "Norm: 2.83, NNZs: 10320, Bias: -1.065967, T: 31689, Avg. loss: 0.049466\n",
      "Total training time: 0.00 seconds.\n",
      "-- Epoch 4\n",
      "Norm: 2.82, NNZs: 11105, Bias: -1.063290, T: 42252, Avg. loss: 0.049145\n",
      "Total training time: 0.01 seconds.\n",
      "-- Epoch 5\n",
      "Norm: 2.81, NNZs: 11371, Bias: -1.060851, T: 52815, Avg. loss: 0.049004\n",
      "Total training time: 0.01 seconds.\n",
      "-- Epoch 6\n",
      "Norm: 2.81, NNZs: 11924, Bias: -1.059206, T: 63378, Avg. loss: 0.048937\n",
      "Total training time: 0.01 seconds.\n",
      "-- Epoch 7\n",
      "Norm: 2.81, NNZs: 12074, Bias: -1.057979, T: 73941, Avg. loss: 0.048843\n",
      "Total training time: 0.01 seconds.\n",
      "Convergence after 7 epochs took 0.01 seconds\n",
      "-- Epoch 1\n",
      "Norm: 2.14, NNZs: 4404, Bias: -1.028897, T: 10563, Avg. loss: 0.018424\n",
      "Total training time: 0.00 seconds.\n",
      "-- Epoch 2\n",
      "Norm: 2.03, NNZs: 5325, Bias: -1.020352, T: 21126, Avg. loss: 0.016844\n",
      "Total training time: 0.00 seconds.\n",
      "-- Epoch 3\n",
      "Norm: 2.01, NNZs: 6198, Bias: -1.015852, T: 31689, Avg. loss: 0.016726\n",
      "Total training time: 0.00 seconds.\n",
      "-- Epoch 4\n",
      "Norm: 2.00, NNZs: 7000, Bias: -1.016454, T: 42252, Avg. loss: 0.016571\n",
      "Total training time: 0.01 seconds.\n",
      "-- Epoch 5\n",
      "Norm: 1.99, NNZs: 7448, Bias: -1.015225, T: 52815, Avg. loss: 0.016533\n",
      "Total training time: 0.01 seconds.\n",
      "-- Epoch 6\n",
      "Norm: 1.99, NNZs: 7939, Bias: -1.014226, T: 63378, Avg. loss: 0.016513\n",
      "Total training time: 0.01 seconds.\n",
      "-- Epoch 7\n",
      "Norm: 1.99, NNZs: 8370, Bias: -1.013836, T: 73941, Avg. loss: 0.016465\n",
      "Total training time: 0.01 seconds.\n",
      "Convergence after 7 epochs took 0.01 seconds\n",
      "-- Epoch 1\n",
      "Norm: 1.78, NNZs: 4152, Bias: -1.037372, T: 10563, Avg. loss: 0.020692\n",
      "Total training time: 0.00 seconds.\n",
      "-- Epoch 2\n",
      "Norm: 1.65, NNZs: 5226, Bias: -1.033707, T: 21126, Avg. loss: 0.018664\n",
      "Total training time: 0.00 seconds.\n",
      "-- Epoch 3\n",
      "Norm: 1.62, NNZs: 6014, Bias: -1.034637, T: 31689, Avg. loss: 0.018542\n",
      "Total training time: 0.01 seconds.\n",
      "-- Epoch 4\n",
      "Norm: 1.61, NNZs: 6559, Bias: -1.031918, T: 42252, Avg. loss: 0.018392\n",
      "Total training time: 0.01 seconds.\n",
      "-- Epoch 5\n",
      "Norm: 1.60, NNZs: 6805, Bias: -1.031879, T: 52815, Avg. loss: 0.018335\n",
      "Total training time: 0.01 seconds.\n",
      "-- Epoch 6\n",
      "Norm: 1.59, NNZs: 7251, Bias: -1.031567, T: 63378, Avg. loss: 0.018317\n",
      "Total training time: 0.01 seconds.\n",
      "-- Epoch 7\n",
      "Norm: 1.59, NNZs: 7617, Bias: -1.030596, T: 73941, Avg. loss: 0.018289\n",
      "Total training time: 0.01 seconds.\n",
      "Convergence after 7 epochs took 0.01 seconds\n",
      "-- Epoch 1\n",
      "Norm: 3.38, NNZs: 20292, Bias: -1.024004, T: 10563, Avg. loss: 0.125618\n",
      "Total training time: 0.00 seconds.\n",
      "-- Epoch 2\n",
      "Norm: 3.06, NNZs: 28061, Bias: -1.016689, T: 21126, Avg. loss: 0.117877\n",
      "Total training time: 0.00 seconds.\n",
      "-- Epoch 3\n",
      "Norm: 2.98, NNZs: 32769, Bias: -1.014036, T: 31689, Avg. loss: 0.116727\n",
      "Total training time: 0.01 seconds.\n",
      "-- Epoch 4\n",
      "Norm: 2.94, NNZs: 35518, Bias: -1.012034, T: 42252, Avg. loss: 0.116124\n",
      "Total training time: 0.01 seconds.\n",
      "-- Epoch 5\n",
      "Norm: 2.93, NNZs: 37361, Bias: -1.008897, T: 52815, Avg. loss: 0.115749\n",
      "Total training time: 0.01 seconds.\n",
      "-- Epoch 6\n",
      "Norm: 2.92, NNZs: 38650, Bias: -1.006415, T: 63378, Avg. loss: 0.115575\n",
      "Total training time: 0.01 seconds.\n",
      "-- Epoch 7\n",
      "Norm: 2.91, NNZs: 39771, Bias: -1.005757, T: 73941, Avg. loss: 0.115396\n",
      "Total training time: 0.01 seconds.\n",
      "-- Epoch 8\n",
      "Norm: 2.91, NNZs: 40633, Bias: -1.004698, T: 84504, Avg. loss: 0.115288\n",
      "Total training time: 0.02 seconds.\n",
      "Convergence after 8 epochs took 0.02 seconds\n",
      "-- Epoch 1\n",
      "Norm: 2.11, NNZs: 4334, Bias: -1.066041, T: 10563, Avg. loss: 0.042253\n",
      "Total training time: 0.00 seconds.\n",
      "-- Epoch 2\n",
      "Norm: 1.90, NNZs: 5537, Bias: -1.064114, T: 21126, Avg. loss: 0.038992\n",
      "Total training time: 0.00 seconds.\n",
      "-- Epoch 3\n",
      "Norm: 1.87, NNZs: 6020, Bias: -1.053118, T: 31689, Avg. loss: 0.038616\n",
      "Total training time: 0.00 seconds.\n",
      "-- Epoch 4\n",
      "Norm: 1.83, NNZs: 6673, Bias: -1.055783, T: 42252, Avg. loss: 0.038416\n",
      "Total training time: 0.01 seconds.\n",
      "-- Epoch 5\n",
      "Norm: 1.82, NNZs: 7134, Bias: -1.053818, T: 52815, Avg. loss: 0.038241\n",
      "Total training time: 0.01 seconds.\n",
      "-- Epoch 6\n",
      "Norm: 1.82, NNZs: 7329, Bias: -1.050760, T: 63378, Avg. loss: 0.038208\n",
      "Total training time: 0.01 seconds.\n",
      "-- Epoch 7\n",
      "Norm: 1.82, NNZs: 7474, Bias: -1.048711, T: 73941, Avg. loss: 0.038157\n",
      "Total training time: 0.01 seconds.\n",
      "Convergence after 7 epochs took 0.01 seconds\n",
      "-- Epoch 1\n",
      "Norm: 3.19, NNZs: 8307, Bias: -1.053195, T: 10563, Avg. loss: 0.052491\n",
      "Total training time: 0.00 seconds.\n",
      "-- Epoch 2\n",
      "Norm: 2.98, NNZs: 10402, Bias: -1.041689, T: 21126, Avg. loss: 0.048239\n",
      "Total training time: 0.01 seconds.\n",
      "-- Epoch 3\n",
      "Norm: 3.03, NNZs: 12243, Bias: -1.038010, T: 31689, Avg. loss: 0.047674\n",
      "Total training time: 0.01 seconds.\n",
      "-- Epoch 4\n",
      "Norm: 3.04, NNZs: 13242, Bias: -1.038447, T: 42252, Avg. loss: 0.047288\n",
      "Total training time: 0.01 seconds.\n",
      "-- Epoch 5\n",
      "Norm: 3.05, NNZs: 14191, Bias: -1.034752, T: 52815, Avg. loss: 0.047166\n",
      "Total training time: 0.01 seconds.\n",
      "-- Epoch 6\n",
      "Norm: 3.03, NNZs: 14445, Bias: -1.036223, T: 63378, Avg. loss: 0.046988\n",
      "Total training time: 0.01 seconds.\n",
      "-- Epoch 7\n",
      "Norm: 3.05, NNZs: 14895, Bias: -1.033994, T: 73941, Avg. loss: 0.046927\n",
      "Total training time: 0.02 seconds.\n",
      "Convergence after 7 epochs took 0.02 seconds\n",
      "-- Epoch 1\n",
      "Norm: 2.23, NNZs: 6750, Bias: -1.022326, T: 10563, Avg. loss: 0.032639\n",
      "Total training time: 0.00 seconds.\n",
      "-- Epoch 2\n",
      "Norm: 2.08, NNZs: 9100, Bias: -1.016557, T: 21126, Avg. loss: 0.030112\n",
      "Total training time: 0.00 seconds.\n",
      "-- Epoch 3\n",
      "Norm: 2.04, NNZs: 11343, Bias: -1.017595, T: 31689, Avg. loss: 0.029711\n",
      "Total training time: 0.01 seconds.\n",
      "-- Epoch 4\n",
      "Norm: 2.03, NNZs: 12589, Bias: -1.015291, T: 42252, Avg. loss: 0.029506\n",
      "Total training time: 0.01 seconds.\n",
      "-- Epoch 5\n",
      "Norm: 2.02, NNZs: 13717, Bias: -1.013316, T: 52815, Avg. loss: 0.029485\n",
      "Total training time: 0.01 seconds.\n",
      "-- Epoch 6\n",
      "Norm: 2.02, NNZs: 14634, Bias: -1.012588, T: 63378, Avg. loss: 0.029404\n",
      "Total training time: 0.01 seconds.\n",
      "-- Epoch 7\n",
      "Norm: 2.01, NNZs: 15286, Bias: -1.011996, T: 73941, Avg. loss: 0.029367\n",
      "Total training time: 0.01 seconds.\n",
      "Convergence after 7 epochs took 0.01 seconds\n",
      "-- Epoch 1\n",
      "Norm: 3.41, NNZs: 6696, Bias: -1.071478, T: 10563, Avg. loss: 0.044255\n",
      "Total training time: 0.00 seconds.\n",
      "-- Epoch 2\n",
      "Norm: 3.26, NNZs: 8576, Bias: -1.074518, T: 21126, Avg. loss: 0.040501\n",
      "Total training time: 0.00 seconds.\n",
      "-- Epoch 3\n",
      "Norm: 3.23, NNZs: 8975, Bias: -1.069693, T: 31689, Avg. loss: 0.039915\n",
      "Total training time: 0.00 seconds.\n",
      "-- Epoch 4\n",
      "Norm: 3.22, NNZs: 9219, Bias: -1.068257, T: 42252, Avg. loss: 0.039560\n",
      "Total training time: 0.01 seconds.\n",
      "-- Epoch 5\n",
      "Norm: 3.21, NNZs: 9400, Bias: -1.065527, T: 52815, Avg. loss: 0.039491\n",
      "Total training time: 0.01 seconds.\n",
      "-- Epoch 6\n",
      "Norm: 3.21, NNZs: 9451, Bias: -1.063369, T: 63378, Avg. loss: 0.039389\n",
      "Total training time: 0.01 seconds.\n",
      "-- Epoch 7\n",
      "Norm: 3.21, NNZs: 9517, Bias: -1.063443, T: 73941, Avg. loss: 0.039366\n",
      "Total training time: 0.01 seconds.\n",
      "Convergence after 7 epochs took 0.01 seconds\n",
      "-- Epoch 1\n",
      "Norm: 4.38, NNZs: 30810, Bias: -1.004169, T: 10563, Avg. loss: 0.181967\n",
      "Total training time: 0.00 seconds.\n",
      "-- Epoch 2\n",
      "Norm: 4.02, NNZs: 40229, Bias: -0.993095, T: 21126, Avg. loss: 0.170982\n",
      "Total training time: 0.00 seconds.\n",
      "-- Epoch 3\n",
      "Norm: 3.93, NNZs: 45130, Bias: -0.987295, T: 31689, Avg. loss: 0.169259\n",
      "Total training time: 0.01 seconds.\n",
      "-- Epoch 4\n",
      "Norm: 3.89, NNZs: 48123, Bias: -0.985806, T: 42252, Avg. loss: 0.168418\n",
      "Total training time: 0.01 seconds.\n",
      "-- Epoch 5\n",
      "Norm: 3.88, NNZs: 49857, Bias: -0.982825, T: 52815, Avg. loss: 0.167870\n",
      "Total training time: 0.01 seconds.\n",
      "-- Epoch 6\n",
      "Norm: 3.87, NNZs: 51674, Bias: -0.982267, T: 63378, Avg. loss: 0.167627\n",
      "Total training time: 0.01 seconds.\n",
      "-- Epoch 7\n",
      "Norm: 3.86, NNZs: 52300, Bias: -0.983225, T: 73941, Avg. loss: 0.167313\n",
      "Total training time: 0.02 seconds.\n",
      "-- Epoch 8\n",
      "Norm: 3.85, NNZs: 52784, Bias: -0.981762, T: 84504, Avg. loss: 0.167255\n",
      "Total training time: 0.02 seconds.\n",
      "Convergence after 8 epochs took 0.02 seconds\n",
      "-- Epoch 1\n",
      "Norm: 2.04, NNZs: 4293, Bias: -1.024768, T: 10563, Avg. loss: 0.016988\n",
      "Total training time: 0.00 seconds.\n",
      "-- Epoch 2\n",
      "Norm: 1.89, NNZs: 5647, Bias: -1.024385, T: 21126, Avg. loss: 0.014977\n",
      "Total training time: 0.00 seconds.\n",
      "-- Epoch 3\n",
      "Norm: 1.85, NNZs: 6303, Bias: -1.025622, T: 31689, Avg. loss: 0.014867\n",
      "Total training time: 0.01 seconds.\n",
      "-- Epoch 4\n",
      "Norm: 1.84, NNZs: 6889, Bias: -1.027031, T: 42252, Avg. loss: 0.014696\n",
      "Total training time: 0.01 seconds.\n",
      "-- Epoch 5\n",
      "Norm: 1.83, NNZs: 7152, Bias: -1.025058, T: 52815, Avg. loss: 0.014668\n",
      "Total training time: 0.01 seconds.\n",
      "-- Epoch 6\n",
      "Norm: 1.83, NNZs: 7515, Bias: -1.023857, T: 63378, Avg. loss: 0.014621\n",
      "Total training time: 0.01 seconds.\n",
      "-- Epoch 7\n",
      "Norm: 1.83, NNZs: 7717, Bias: -1.022489, T: 73941, Avg. loss: 0.014659\n",
      "Total training time: 0.01 seconds.\n",
      "Convergence after 7 epochs took 0.01 seconds\n",
      "-- Epoch 1\n",
      "Norm: 1.61, NNZs: 2542, Bias: -1.049971, T: 10563, Avg. loss: 0.013325\n",
      "Total training time: 0.00 seconds.\n",
      "-- Epoch 2\n",
      "Norm: 1.51, NNZs: 2956, Bias: -1.040719, T: 21126, Avg. loss: 0.011960\n",
      "Total training time: 0.00 seconds.\n",
      "-- Epoch 3\n",
      "Norm: 1.47, NNZs: 3639, Bias: -1.044055, T: 31689, Avg. loss: 0.011800\n",
      "Total training time: 0.01 seconds.\n",
      "-- Epoch 4\n",
      "Norm: 1.47, NNZs: 3897, Bias: -1.042263, T: 42252, Avg. loss: 0.011688\n",
      "Total training time: 0.01 seconds.\n",
      "-- Epoch 5\n",
      "Norm: 1.46, NNZs: 4067, Bias: -1.041422, T: 52815, Avg. loss: 0.011665\n",
      "Total training time: 0.01 seconds.\n",
      "-- Epoch 6\n",
      "Norm: 1.46, NNZs: 4100, Bias: -1.039555, T: 63378, Avg. loss: 0.011644\n",
      "Total training time: 0.01 seconds.\n",
      "-- Epoch 7\n",
      "Norm: 1.46, NNZs: 4282, Bias: -1.039544, T: 73941, Avg. loss: 0.011619\n",
      "Total training time: 0.01 seconds.\n",
      "Convergence after 7 epochs took 0.01 seconds\n",
      "-- Epoch 1\n",
      "Norm: 2.97, NNZs: 12749, Bias: -1.043994, T: 10563, Avg. loss: 0.081296\n",
      "Total training time: 0.00 seconds.\n",
      "-- Epoch 2\n",
      "Norm: 2.73, NNZs: 16351, Bias: -1.040917, T: 21126, Avg. loss: 0.076098\n",
      "Total training time: 0.00 seconds.\n",
      "-- Epoch 3\n",
      "Norm: 2.67, NNZs: 18038, Bias: -1.032771, T: 31689, Avg. loss: 0.075247\n",
      "Total training time: 0.01 seconds.\n",
      "-- Epoch 4\n",
      "Norm: 2.65, NNZs: 19563, Bias: -1.029024, T: 42252, Avg. loss: 0.074914\n",
      "Total training time: 0.01 seconds.\n",
      "-- Epoch 5\n",
      "Norm: 2.64, NNZs: 20336, Bias: -1.027051, T: 52815, Avg. loss: 0.074697\n",
      "Total training time: 0.01 seconds.\n",
      "-- Epoch 6\n",
      "Norm: 2.63, NNZs: 21330, Bias: -1.023122, T: 63378, Avg. loss: 0.074546\n",
      "Total training time: 0.01 seconds.\n",
      "-- Epoch 7\n",
      "Norm: 2.62, NNZs: 21851, Bias: -1.023467, T: 73941, Avg. loss: 0.074488\n",
      "Total training time: 0.01 seconds.\n",
      "Convergence after 7 epochs took 0.01 seconds\n",
      "-- Epoch 1\n",
      "Norm: 2.24, NNZs: 3218, Bias: -1.028880, T: 10563, Avg. loss: 0.024117\n",
      "Total training time: 0.00 seconds.\n",
      "-- Epoch 2\n",
      "Norm: 2.12, NNZs: 4108, Bias: -1.021332, T: 21126, Avg. loss: 0.021804\n",
      "Total training time: 0.00 seconds.\n",
      "-- Epoch 3\n",
      "Norm: 2.09, NNZs: 4620, Bias: -1.017754, T: 31689, Avg. loss: 0.021609\n",
      "Total training time: 0.01 seconds.\n",
      "-- Epoch 4\n",
      "Norm: 2.08, NNZs: 5119, Bias: -1.016427, T: 42252, Avg. loss: 0.021438\n",
      "Total training time: 0.01 seconds.\n",
      "-- Epoch 5\n",
      "Norm: 2.08, NNZs: 5443, Bias: -1.013512, T: 52815, Avg. loss: 0.021380\n",
      "Total training time: 0.01 seconds.\n",
      "-- Epoch 6\n",
      "Norm: 2.07, NNZs: 5862, Bias: -1.013996, T: 63378, Avg. loss: 0.021382\n",
      "Total training time: 0.01 seconds.\n",
      "-- Epoch 7\n",
      "Norm: 2.07, NNZs: 6420, Bias: -1.012392, T: 73941, Avg. loss: 0.021299\n",
      "Total training time: 0.01 seconds.\n",
      "Convergence after 7 epochs took 0.01 seconds\n"
     ]
    },
    {
     "name": "stderr",
     "output_type": "stream",
     "text": [
      "[Parallel(n_jobs=1)]: Done  40 out of  40 | elapsed:    0.4s finished\n"
     ]
    },
    {
     "data": {
      "text/plain": [
       "SGDClassifier(alpha=0.001, random_state=7600, verbose=1)"
      ]
     },
     "execution_count": 107,
     "metadata": {},
     "output_type": "execute_result"
    }
   ],
   "source": [
    "clf_tfidf_sgd.fit(X_train_tfidf_transformed, y_train)"
   ]
  },
  {
   "cell_type": "code",
   "execution_count": 108,
   "metadata": {},
   "outputs": [
    {
     "data": {
      "text/plain": [
       "0.6567263088137839"
      ]
     },
     "execution_count": 108,
     "metadata": {},
     "output_type": "execute_result"
    }
   ],
   "source": [
    "accuracy_score(y_test, clf_tfidf_sgd.predict(X_test_tfidf_transformed))"
   ]
  },
  {
   "cell_type": "code",
   "execution_count": 109,
   "metadata": {},
   "outputs": [
    {
     "name": "stdout",
     "output_type": "stream",
     "text": [
      "              precision    recall  f1-score   support\n",
      "\n",
      "           0       0.50      0.23      0.32        13\n",
      "           1       0.61      0.72      0.66       232\n",
      "           2       0.65      0.90      0.75       157\n",
      "           3       0.67      0.70      0.68       273\n",
      "           4       0.67      0.41      0.50        64\n",
      "           5       0.60      0.52      0.56       111\n",
      "           6       0.82      0.78      0.80        96\n",
      "           7       0.72      0.42      0.53        67\n",
      "           8       0.67      0.33      0.44        36\n",
      "           9       0.68      0.84      0.75        56\n",
      "          10       0.66      0.63      0.64       141\n",
      "          11       0.72      0.43      0.53        54\n",
      "          12       0.67      0.94      0.78        79\n",
      "          13       0.63      0.95      0.75        81\n",
      "          14       0.73      0.55      0.63        29\n",
      "          15       0.69      0.68      0.69        79\n",
      "          16       0.60      0.71      0.65       544\n",
      "          17       0.72      0.64      0.68        75\n",
      "          18       0.75      0.83      0.79        93\n",
      "          19       0.73      0.71      0.72       154\n",
      "          20       0.62      0.66      0.64       146\n",
      "          21       0.77      0.88      0.82        50\n",
      "          22       0.50      0.04      0.08        23\n",
      "          23       0.77      0.91      0.83        75\n",
      "          24       0.77      0.74      0.75        27\n",
      "          25       0.70      0.72      0.71       173\n",
      "          26       0.67      0.46      0.55        13\n",
      "          27       0.65      0.83      0.73       118\n",
      "          28       0.83      1.00      0.91        39\n",
      "          29       0.74      0.39      0.51        36\n",
      "          30       0.65      0.49      0.56       290\n",
      "          31       0.78      0.63      0.70        95\n",
      "          32       0.63      0.53      0.58       134\n",
      "          33       0.73      0.68      0.70        66\n",
      "          34       0.54      0.77      0.64        81\n",
      "          35       0.55      0.45      0.50       408\n",
      "          36       0.59      0.90      0.71        41\n",
      "          37       0.83      0.57      0.68        35\n",
      "          38       0.62      0.51      0.56       170\n",
      "          39       0.88      0.77      0.82        73\n",
      "\n",
      "    accuracy                           0.66      4527\n",
      "   macro avg       0.68      0.65      0.65      4527\n",
      "weighted avg       0.66      0.66      0.65      4527\n",
      "\n"
     ]
    }
   ],
   "source": [
    "print(classification_report(y_test, clf_tfidf_sgd.predict(X_test_tfidf_transformed)))"
   ]
  },
  {
   "cell_type": "markdown",
   "metadata": {},
   "source": [
    "#### Logistic Regression"
   ]
  },
  {
   "cell_type": "code",
   "execution_count": 91,
   "metadata": {},
   "outputs": [],
   "source": [
    "from sklearn.linear_model import LogisticRegression"
   ]
  },
  {
   "cell_type": "code",
   "execution_count": 99,
   "metadata": {},
   "outputs": [],
   "source": [
    "clf_tfidf_lr = LogisticRegression(\n",
    "    max_iter=200,\n",
    "    random_state=7600,\n",
    "    verbose=1,\n",
    "    n_jobs=cpu_count()\n",
    ")"
   ]
  },
  {
   "cell_type": "code",
   "execution_count": 100,
   "metadata": {},
   "outputs": [
    {
     "name": "stderr",
     "output_type": "stream",
     "text": [
      "[Parallel(n_jobs=16)]: Using backend LokyBackend with 16 concurrent workers.\n",
      "[Parallel(n_jobs=16)]: Done   1 out of   1 | elapsed:   51.4s finished\n"
     ]
    },
    {
     "data": {
      "text/plain": [
       "LogisticRegression(max_iter=200, n_jobs=16, random_state=7600, verbose=1)"
      ]
     },
     "execution_count": 100,
     "metadata": {},
     "output_type": "execute_result"
    }
   ],
   "source": [
    "clf_tfidf_lr.fit(X_train_tfidf_transformed, y_train)"
   ]
  },
  {
   "cell_type": "code",
   "execution_count": 102,
   "metadata": {},
   "outputs": [
    {
     "data": {
      "text/plain": [
       "0.6114424563728739"
      ]
     },
     "execution_count": 102,
     "metadata": {},
     "output_type": "execute_result"
    }
   ],
   "source": [
    "accuracy_score(y_test, clf_tfidf_lr.predict(X_test_tfidf_transformed))"
   ]
  },
  {
   "cell_type": "code",
   "execution_count": 103,
   "metadata": {},
   "outputs": [
    {
     "name": "stdout",
     "output_type": "stream",
     "text": [
      "              precision    recall  f1-score   support\n",
      "\n",
      "           0       1.00      0.08      0.14        13\n",
      "           1       0.70      0.70      0.70       232\n",
      "           2       0.79      0.84      0.81       157\n",
      "           3       0.61      0.67      0.64       273\n",
      "           4       0.62      0.36      0.46        64\n",
      "           5       0.68      0.50      0.57       111\n",
      "           6       0.83      0.67      0.74        96\n",
      "           7       1.00      0.24      0.39        67\n",
      "           8       0.90      0.25      0.39        36\n",
      "           9       0.77      0.43      0.55        56\n",
      "          10       0.78      0.52      0.63       141\n",
      "          11       1.00      0.09      0.17        54\n",
      "          12       0.85      0.87      0.86        79\n",
      "          13       0.90      0.79      0.84        81\n",
      "          14       1.00      0.17      0.29        29\n",
      "          15       0.77      0.65      0.70        79\n",
      "          16       0.45      0.82      0.58       544\n",
      "          17       0.78      0.39      0.52        75\n",
      "          18       0.87      0.65      0.74        93\n",
      "          19       0.61      0.78      0.68       154\n",
      "          20       0.73      0.59      0.65       146\n",
      "          21       0.92      0.46      0.61        50\n",
      "          22       0.00      0.00      0.00        23\n",
      "          23       0.94      0.63      0.75        75\n",
      "          24       1.00      0.37      0.54        27\n",
      "          25       0.74      0.64      0.69       173\n",
      "          26       0.80      0.31      0.44        13\n",
      "          27       0.80      0.75      0.77       118\n",
      "          28       0.93      0.72      0.81        39\n",
      "          29       1.00      0.44      0.62        36\n",
      "          30       0.52      0.53      0.53       290\n",
      "          31       0.77      0.65      0.70        95\n",
      "          32       0.66      0.45      0.53       134\n",
      "          33       0.89      0.48      0.63        66\n",
      "          34       0.65      0.72      0.68        81\n",
      "          35       0.36      0.60      0.45       408\n",
      "          36       0.70      0.51      0.59        41\n",
      "          37       0.93      0.37      0.53        35\n",
      "          38       0.74      0.43      0.54       170\n",
      "          39       0.98      0.66      0.79        73\n",
      "\n",
      "    accuracy                           0.61      4527\n",
      "   macro avg       0.77      0.52      0.58      4527\n",
      "weighted avg       0.68      0.61      0.61      4527\n",
      "\n"
     ]
    },
    {
     "name": "stderr",
     "output_type": "stream",
     "text": [
      "c:\\Users\\Kackie\\anaconda3\\envs\\DataScience\\lib\\site-packages\\sklearn\\metrics\\_classification.py:1318: UndefinedMetricWarning: Precision and F-score are ill-defined and being set to 0.0 in labels with no predicted samples. Use `zero_division` parameter to control this behavior.\n",
      "  _warn_prf(average, modifier, msg_start, len(result))\n",
      "c:\\Users\\Kackie\\anaconda3\\envs\\DataScience\\lib\\site-packages\\sklearn\\metrics\\_classification.py:1318: UndefinedMetricWarning: Precision and F-score are ill-defined and being set to 0.0 in labels with no predicted samples. Use `zero_division` parameter to control this behavior.\n",
      "  _warn_prf(average, modifier, msg_start, len(result))\n",
      "c:\\Users\\Kackie\\anaconda3\\envs\\DataScience\\lib\\site-packages\\sklearn\\metrics\\_classification.py:1318: UndefinedMetricWarning: Precision and F-score are ill-defined and being set to 0.0 in labels with no predicted samples. Use `zero_division` parameter to control this behavior.\n",
      "  _warn_prf(average, modifier, msg_start, len(result))\n"
     ]
    }
   ],
   "source": [
    "print(classification_report(y_test, clf_tfidf_lr.predict(X_test_tfidf_transformed)))"
   ]
  },
  {
   "cell_type": "markdown",
   "metadata": {},
   "source": [
    "#### CNN"
   ]
  },
  {
   "cell_type": "code",
   "execution_count": 16,
   "metadata": {},
   "outputs": [
    {
     "name": "stderr",
     "output_type": "stream",
     "text": [
      "c:\\Users\\Kackie\\anaconda3\\envs\\DataScience\\lib\\site-packages\\tqdm\\auto.py:22: TqdmWarning: IProgress not found. Please update jupyter and ipywidgets. See https://ipywidgets.readthedocs.io/en/stable/user_install.html\n",
      "  from .autonotebook import tqdm as notebook_tqdm\n"
     ]
    }
   ],
   "source": [
    "import torch\n",
    "import scipy\n",
    "\n",
    "from torch import nn"
   ]
  },
  {
   "cell_type": "code",
   "execution_count": 17,
   "metadata": {},
   "outputs": [
    {
     "name": "stdout",
     "output_type": "stream",
     "text": [
      "There are 1 GPU(s) available.\n",
      "Device name:  NVIDIA GeForce RTX 3080 Ti\n"
     ]
    }
   ],
   "source": [
    "# set up gpu for training\n",
    "if torch.cuda.is_available():\n",
    "    device = torch.device('cuda')\n",
    "    print(f'There are {torch.cuda.device_count()} GPU(s) available.')\n",
    "    print('Device name: ', torch.cuda.get_device_name(0))\n",
    "\n",
    "else:\n",
    "    device = torch.device('cpu')\n",
    "    print('No GPU available, using the CPU instead.')"
   ]
  },
  {
   "cell_type": "code",
   "execution_count": 18,
   "metadata": {},
   "outputs": [],
   "source": [
    "# convert X tfidf vectors to tensor\n",
    "X_train_tfidf_tensor = torch.tensor(scipy.sparse.csr_matrix(X_train_tfidf_transformed).todense()).float().to(device)\n",
    "X_test_tfidf_tensor = torch.tensor(scipy.sparse.csr_matrix(X_test_tfidf_transformed).todense()).float()\n",
    "\n",
    "# convert y vectors to tensor\n",
    "y_train_tensor = torch.tensor(y_train.values).to(device)\n",
    "y_test_tensor = torch.tensor(y_test.values)"
   ]
  },
  {
   "cell_type": "code",
   "execution_count": 27,
   "metadata": {},
   "outputs": [
    {
     "data": {
      "text/plain": [
       "Sequential(\n",
       "  (0): Linear(in_features=104384, out_features=64, bias=True)\n",
       "  (1): ReLU()\n",
       "  (2): Linear(in_features=64, out_features=40, bias=True)\n",
       "  (3): LogSoftmax(dim=1)\n",
       ")"
      ]
     },
     "execution_count": 27,
     "metadata": {},
     "output_type": "execute_result"
    }
   ],
   "source": [
    "# define cnn model\n",
    "clf_tfidf_cnn = nn.Sequential(\n",
    "    nn.Linear(X_train_tfidf_tensor.shape[1], 64),\n",
    "    nn.ReLU(),\n",
    "    nn.Linear(64, df_job_postings['cluster'].nunique()),\n",
    "    nn.LogSoftmax(dim=1)\n",
    ")\n",
    "clf_tfidf_cnn.to(device)"
   ]
  },
  {
   "cell_type": "code",
   "execution_count": 29,
   "metadata": {},
   "outputs": [],
   "source": [
    "# define loss\n",
    "criterion = nn.NLLLoss()\n",
    "logps = clf_tfidf_cnn(X_train_tfidf_tensor)\n",
    "loss = criterion(logps, y_train_tensor)\n",
    "\n",
    "loss.backward()\n",
    "\n",
    "# define optimizer\n",
    "optimizer = torch.optim.Adam(clf_tfidf_cnn.parameters(), lr=2e-3)"
   ]
  },
  {
   "cell_type": "code",
   "execution_count": 30,
   "metadata": {},
   "outputs": [],
   "source": [
    "# define parameters for model training\n",
    "EPOCHS = 50"
   ]
  },
  {
   "cell_type": "code",
   "execution_count": 31,
   "metadata": {},
   "outputs": [
    {
     "name": "stdout",
     "output_type": "stream",
     "text": [
      "Epoch: 0\n",
      "Epoch: 1\n",
      "Epoch: 2\n",
      "Epoch: 3\n",
      "Epoch: 4\n",
      "Epoch: 5\n",
      "Epoch: 6\n",
      "Epoch: 7\n",
      "Epoch: 8\n",
      "Epoch: 9\n",
      "Epoch: 10\n",
      "Epoch: 11\n",
      "Epoch: 12\n",
      "Epoch: 13\n",
      "Epoch: 14\n",
      "Epoch: 15\n",
      "Epoch: 16\n",
      "Epoch: 17\n",
      "Epoch: 18\n",
      "Epoch: 19\n",
      "Epoch: 20\n",
      "Epoch: 21\n",
      "Epoch: 22\n",
      "Epoch: 23\n",
      "Epoch: 24\n",
      "Epoch: 25\n",
      "Epoch: 26\n",
      "Epoch: 27\n",
      "Epoch: 28\n",
      "Epoch: 29\n",
      "Epoch: 30\n",
      "Epoch: 31\n",
      "Epoch: 32\n",
      "Epoch: 33\n",
      "Epoch: 34\n",
      "Epoch: 35\n",
      "Epoch: 36\n",
      "Epoch: 37\n",
      "Epoch: 38\n",
      "Epoch: 39\n",
      "Epoch: 40\n",
      "Epoch: 41\n",
      "Epoch: 42\n",
      "Epoch: 43\n",
      "Epoch: 44\n",
      "Epoch: 45\n",
      "Epoch: 46\n",
      "Epoch: 47\n",
      "Epoch: 48\n",
      "Epoch: 49\n"
     ]
    }
   ],
   "source": [
    "# train the model\n",
    "for epoch in range(EPOCHS):\n",
    "    # zero the paramater gradients\n",
    "    optimizer.zero_grad()\n",
    "\n",
    "    # forward + backward + optimize\n",
    "    outputs = clf_tfidf_cnn.forward(X_train_tfidf_tensor)\n",
    "    loss = criterion(outputs, y_train_tensor)\n",
    "    loss.backward()\n",
    "    optimizer.step()\n",
    "\n",
    "    # print statistics\n",
    "    print(f'Epoch: {epoch}')"
   ]
  },
  {
   "cell_type": "code",
   "execution_count": 32,
   "metadata": {},
   "outputs": [],
   "source": [
    "# evaluate our model\n",
    "with torch.no_grad():\n",
    "    clf_tfidf_cnn.eval()\n",
    "    log_ps = clf_tfidf_cnn(X_test_tfidf_tensor)\n",
    "    test_loss = criterion(log_ps, y_test_tensor)\n",
    "\n",
    "    ps = torch.exp(log_ps)\n",
    "    top_p, top_class = ps.topk(1, dim=1)\n",
    "    equals = top_class == y_test_tensor.view(*top_class.shape)\n",
    "    test_accuracy = torch.mean(equals.float())"
   ]
  },
  {
   "cell_type": "code",
   "execution_count": 33,
   "metadata": {},
   "outputs": [
    {
     "data": {
      "text/plain": [
       "tensor(0.4632, device='cuda:0')"
      ]
     },
     "execution_count": 33,
     "metadata": {},
     "output_type": "execute_result"
    }
   ],
   "source": [
    "test_accuracy"
   ]
  },
  {
   "cell_type": "markdown",
   "metadata": {},
   "source": [
    "#### LSTM (fixed length) - memory error"
   ]
  },
  {
   "cell_type": "code",
   "execution_count": 19,
   "metadata": {},
   "outputs": [],
   "source": [
    "import torch.nn.functional as F"
   ]
  },
  {
   "cell_type": "code",
   "execution_count": 20,
   "metadata": {},
   "outputs": [],
   "source": [
    "class FixedLengthLSTM(nn.Module):\n",
    "    def __init__(self, embedding_dim, hidden_dim):\n",
    "        super().__init__()\n",
    "        self.lstm = nn.LSTM(embedding_dim, hidden_dim, batch_first=True)\n",
    "        self.linear = nn.Linear(hidden_dim, df_job_postings['cluster'].nunique())\n",
    "        self.dropout = nn.Dropout(0.2)\n",
    "    \n",
    "    def forward(self, x):\n",
    "        x = self.dropout(x)\n",
    "        lstm_out, (ht, ct) = self.lstm(x)\n",
    "        return self.linear(ht[-1])"
   ]
  },
  {
   "cell_type": "code",
   "execution_count": 21,
   "metadata": {},
   "outputs": [],
   "source": [
    "def train_model(model, epochs=10, lr=0.001):\n",
    "    parameters = filter(lambda p: p.requires_grad, model.parameters())\n",
    "    optimizer = torch.optim.Adam(parameters, lr=lr)\n",
    "    for i in range(epochs):\n",
    "        optimizer.zero_grad()\n",
    "        outputs = model.forward(X_train_tfidf_tensor)\n",
    "        loss = F.cross_entropy(outputs, y_train_tensor)\n",
    "        loss.backward()\n",
    "        optimizer.step()\n",
    "    \n",
    "def validation_metrics(model, X_test, y_test):\n",
    "    model.eval()\n",
    "    correct = 0\n",
    "    total = 0\n",
    "    sum_loss = 0.0\n",
    "\n",
    "    for x in X_test:\n",
    "        y_hat = model(x)\n",
    "        loss = F.cross_entropy(y_hat, y_test)\n",
    "        pred = torch.max(y_hat, 1)[1]\n",
    "        correct += (pred == y_test).float().sum()\n",
    "        total += y_test.shape[0]\n",
    "        sum_loss += loss.item()*y_test.shape[0]\n",
    "    return sum_loss/total, correct/total"
   ]
  },
  {
   "cell_type": "code",
   "execution_count": 22,
   "metadata": {},
   "outputs": [
    {
     "data": {
      "text/plain": [
       "FixedLengthLSTM(\n",
       "  (lstm): LSTM(104384, 16, batch_first=True)\n",
       "  (linear): Linear(in_features=16, out_features=40, bias=True)\n",
       "  (dropout): Dropout(p=0.2, inplace=False)\n",
       ")"
      ]
     },
     "execution_count": 22,
     "metadata": {},
     "output_type": "execute_result"
    }
   ],
   "source": [
    "clf_tfidf_lstm_fixed = FixedLengthLSTM(X_train_tfidf_tensor.shape[1], 16)\n",
    "clf_tfidf_lstm_fixed.to(device)"
   ]
  },
  {
   "cell_type": "code",
   "execution_count": 300,
   "metadata": {},
   "outputs": [
    {
     "ename": "RuntimeError",
     "evalue": "CUDA out of memory. Tried to allocate 4.11 GiB (GPU 0; 12.00 GiB total capacity; 5.16 GiB already allocated; 197.57 MiB free; 8.25 GiB reserved in total by PyTorch) If reserved memory is >> allocated memory try setting max_split_size_mb to avoid fragmentation.  See documentation for Memory Management and PYTORCH_CUDA_ALLOC_CONF",
     "output_type": "error",
     "traceback": [
      "\u001b[1;31m---------------------------------------------------------------------------\u001b[0m",
      "\u001b[1;31mRuntimeError\u001b[0m                              Traceback (most recent call last)",
      "\u001b[1;32m~\\AppData\\Local\\Temp\\ipykernel_10976\\3642861150.py\u001b[0m in \u001b[0;36m<module>\u001b[1;34m\u001b[0m\n\u001b[1;32m----> 1\u001b[1;33m \u001b[0mtrain_model\u001b[0m\u001b[1;33m(\u001b[0m\u001b[0mclf_tfidf_lstm_fixed\u001b[0m\u001b[1;33m)\u001b[0m\u001b[1;33m\u001b[0m\u001b[1;33m\u001b[0m\u001b[0m\n\u001b[0m",
      "\u001b[1;32m~\\AppData\\Local\\Temp\\ipykernel_10976\\1245342384.py\u001b[0m in \u001b[0;36mtrain_model\u001b[1;34m(model, epochs, lr)\u001b[0m\n\u001b[0;32m      4\u001b[0m     \u001b[1;32mfor\u001b[0m \u001b[0mi\u001b[0m \u001b[1;32min\u001b[0m \u001b[0mrange\u001b[0m\u001b[1;33m(\u001b[0m\u001b[0mepochs\u001b[0m\u001b[1;33m)\u001b[0m\u001b[1;33m:\u001b[0m\u001b[1;33m\u001b[0m\u001b[1;33m\u001b[0m\u001b[0m\n\u001b[0;32m      5\u001b[0m         \u001b[0moptimizer\u001b[0m\u001b[1;33m.\u001b[0m\u001b[0mzero_grad\u001b[0m\u001b[1;33m(\u001b[0m\u001b[1;33m)\u001b[0m\u001b[1;33m\u001b[0m\u001b[1;33m\u001b[0m\u001b[0m\n\u001b[1;32m----> 6\u001b[1;33m         \u001b[0moutputs\u001b[0m \u001b[1;33m=\u001b[0m \u001b[0mmodel\u001b[0m\u001b[1;33m.\u001b[0m\u001b[0mforward\u001b[0m\u001b[1;33m(\u001b[0m\u001b[0mX_train_tfidf_tensor\u001b[0m\u001b[1;33m)\u001b[0m\u001b[1;33m\u001b[0m\u001b[1;33m\u001b[0m\u001b[0m\n\u001b[0m\u001b[0;32m      7\u001b[0m         \u001b[0mloss\u001b[0m \u001b[1;33m=\u001b[0m \u001b[0mF\u001b[0m\u001b[1;33m.\u001b[0m\u001b[0mcross_entropy\u001b[0m\u001b[1;33m(\u001b[0m\u001b[0moutputs\u001b[0m\u001b[1;33m,\u001b[0m \u001b[0my_train_tensor\u001b[0m\u001b[1;33m)\u001b[0m\u001b[1;33m\u001b[0m\u001b[1;33m\u001b[0m\u001b[0m\n\u001b[0;32m      8\u001b[0m         \u001b[0mloss\u001b[0m\u001b[1;33m.\u001b[0m\u001b[0mbackward\u001b[0m\u001b[1;33m(\u001b[0m\u001b[1;33m)\u001b[0m\u001b[1;33m\u001b[0m\u001b[1;33m\u001b[0m\u001b[0m\n",
      "\u001b[1;32m~\\AppData\\Local\\Temp\\ipykernel_10976\\1266911706.py\u001b[0m in \u001b[0;36mforward\u001b[1;34m(self, x)\u001b[0m\n\u001b[0;32m      7\u001b[0m \u001b[1;33m\u001b[0m\u001b[0m\n\u001b[0;32m      8\u001b[0m     \u001b[1;32mdef\u001b[0m \u001b[0mforward\u001b[0m\u001b[1;33m(\u001b[0m\u001b[0mself\u001b[0m\u001b[1;33m,\u001b[0m \u001b[0mx\u001b[0m\u001b[1;33m)\u001b[0m\u001b[1;33m:\u001b[0m\u001b[1;33m\u001b[0m\u001b[1;33m\u001b[0m\u001b[0m\n\u001b[1;32m----> 9\u001b[1;33m         \u001b[0mx\u001b[0m \u001b[1;33m=\u001b[0m \u001b[0mself\u001b[0m\u001b[1;33m.\u001b[0m\u001b[0mdropout\u001b[0m\u001b[1;33m(\u001b[0m\u001b[0mx\u001b[0m\u001b[1;33m)\u001b[0m\u001b[1;33m\u001b[0m\u001b[1;33m\u001b[0m\u001b[0m\n\u001b[0m\u001b[0;32m     10\u001b[0m         \u001b[0mlstm_out\u001b[0m\u001b[1;33m,\u001b[0m \u001b[1;33m(\u001b[0m\u001b[0mht\u001b[0m\u001b[1;33m,\u001b[0m \u001b[0mct\u001b[0m\u001b[1;33m)\u001b[0m \u001b[1;33m=\u001b[0m \u001b[0mself\u001b[0m\u001b[1;33m.\u001b[0m\u001b[0mlstm\u001b[0m\u001b[1;33m(\u001b[0m\u001b[0mx\u001b[0m\u001b[1;33m)\u001b[0m\u001b[1;33m\u001b[0m\u001b[1;33m\u001b[0m\u001b[0m\n\u001b[0;32m     11\u001b[0m         \u001b[1;32mreturn\u001b[0m \u001b[0mself\u001b[0m\u001b[1;33m.\u001b[0m\u001b[0mlinear\u001b[0m\u001b[1;33m(\u001b[0m\u001b[0mht\u001b[0m\u001b[1;33m[\u001b[0m\u001b[1;33m-\u001b[0m\u001b[1;36m1\u001b[0m\u001b[1;33m]\u001b[0m\u001b[1;33m)\u001b[0m\u001b[1;33m\u001b[0m\u001b[1;33m\u001b[0m\u001b[0m\n",
      "\u001b[1;32mc:\\Users\\Kackie\\anaconda3\\envs\\DataScience\\lib\\site-packages\\torch\\nn\\modules\\module.py\u001b[0m in \u001b[0;36m_call_impl\u001b[1;34m(self, *input, **kwargs)\u001b[0m\n\u001b[0;32m   1108\u001b[0m         if not (self._backward_hooks or self._forward_hooks or self._forward_pre_hooks or _global_backward_hooks\n\u001b[0;32m   1109\u001b[0m                 or _global_forward_hooks or _global_forward_pre_hooks):\n\u001b[1;32m-> 1110\u001b[1;33m             \u001b[1;32mreturn\u001b[0m \u001b[0mforward_call\u001b[0m\u001b[1;33m(\u001b[0m\u001b[1;33m*\u001b[0m\u001b[0minput\u001b[0m\u001b[1;33m,\u001b[0m \u001b[1;33m**\u001b[0m\u001b[0mkwargs\u001b[0m\u001b[1;33m)\u001b[0m\u001b[1;33m\u001b[0m\u001b[1;33m\u001b[0m\u001b[0m\n\u001b[0m\u001b[0;32m   1111\u001b[0m         \u001b[1;31m# Do not call functions when jit is used\u001b[0m\u001b[1;33m\u001b[0m\u001b[1;33m\u001b[0m\u001b[1;33m\u001b[0m\u001b[0m\n\u001b[0;32m   1112\u001b[0m         \u001b[0mfull_backward_hooks\u001b[0m\u001b[1;33m,\u001b[0m \u001b[0mnon_full_backward_hooks\u001b[0m \u001b[1;33m=\u001b[0m \u001b[1;33m[\u001b[0m\u001b[1;33m]\u001b[0m\u001b[1;33m,\u001b[0m \u001b[1;33m[\u001b[0m\u001b[1;33m]\u001b[0m\u001b[1;33m\u001b[0m\u001b[1;33m\u001b[0m\u001b[0m\n",
      "\u001b[1;32mc:\\Users\\Kackie\\anaconda3\\envs\\DataScience\\lib\\site-packages\\torch\\nn\\modules\\dropout.py\u001b[0m in \u001b[0;36mforward\u001b[1;34m(self, input)\u001b[0m\n\u001b[0;32m     56\u001b[0m \u001b[1;33m\u001b[0m\u001b[0m\n\u001b[0;32m     57\u001b[0m     \u001b[1;32mdef\u001b[0m \u001b[0mforward\u001b[0m\u001b[1;33m(\u001b[0m\u001b[0mself\u001b[0m\u001b[1;33m,\u001b[0m \u001b[0minput\u001b[0m\u001b[1;33m:\u001b[0m \u001b[0mTensor\u001b[0m\u001b[1;33m)\u001b[0m \u001b[1;33m->\u001b[0m \u001b[0mTensor\u001b[0m\u001b[1;33m:\u001b[0m\u001b[1;33m\u001b[0m\u001b[1;33m\u001b[0m\u001b[0m\n\u001b[1;32m---> 58\u001b[1;33m         \u001b[1;32mreturn\u001b[0m \u001b[0mF\u001b[0m\u001b[1;33m.\u001b[0m\u001b[0mdropout\u001b[0m\u001b[1;33m(\u001b[0m\u001b[0minput\u001b[0m\u001b[1;33m,\u001b[0m \u001b[0mself\u001b[0m\u001b[1;33m.\u001b[0m\u001b[0mp\u001b[0m\u001b[1;33m,\u001b[0m \u001b[0mself\u001b[0m\u001b[1;33m.\u001b[0m\u001b[0mtraining\u001b[0m\u001b[1;33m,\u001b[0m \u001b[0mself\u001b[0m\u001b[1;33m.\u001b[0m\u001b[0minplace\u001b[0m\u001b[1;33m)\u001b[0m\u001b[1;33m\u001b[0m\u001b[1;33m\u001b[0m\u001b[0m\n\u001b[0m\u001b[0;32m     59\u001b[0m \u001b[1;33m\u001b[0m\u001b[0m\n\u001b[0;32m     60\u001b[0m \u001b[1;33m\u001b[0m\u001b[0m\n",
      "\u001b[1;32mc:\\Users\\Kackie\\anaconda3\\envs\\DataScience\\lib\\site-packages\\torch\\nn\\functional.py\u001b[0m in \u001b[0;36mdropout\u001b[1;34m(input, p, training, inplace)\u001b[0m\n\u001b[0;32m   1277\u001b[0m     \u001b[1;32mif\u001b[0m \u001b[0mp\u001b[0m \u001b[1;33m<\u001b[0m \u001b[1;36m0.0\u001b[0m \u001b[1;32mor\u001b[0m \u001b[0mp\u001b[0m \u001b[1;33m>\u001b[0m \u001b[1;36m1.0\u001b[0m\u001b[1;33m:\u001b[0m\u001b[1;33m\u001b[0m\u001b[1;33m\u001b[0m\u001b[0m\n\u001b[0;32m   1278\u001b[0m         \u001b[1;32mraise\u001b[0m \u001b[0mValueError\u001b[0m\u001b[1;33m(\u001b[0m\u001b[1;34m\"dropout probability has to be between 0 and 1, \"\u001b[0m \u001b[1;34m\"but got {}\"\u001b[0m\u001b[1;33m.\u001b[0m\u001b[0mformat\u001b[0m\u001b[1;33m(\u001b[0m\u001b[0mp\u001b[0m\u001b[1;33m)\u001b[0m\u001b[1;33m)\u001b[0m\u001b[1;33m\u001b[0m\u001b[1;33m\u001b[0m\u001b[0m\n\u001b[1;32m-> 1279\u001b[1;33m     \u001b[1;32mreturn\u001b[0m \u001b[0m_VF\u001b[0m\u001b[1;33m.\u001b[0m\u001b[0mdropout_\u001b[0m\u001b[1;33m(\u001b[0m\u001b[0minput\u001b[0m\u001b[1;33m,\u001b[0m \u001b[0mp\u001b[0m\u001b[1;33m,\u001b[0m \u001b[0mtraining\u001b[0m\u001b[1;33m)\u001b[0m \u001b[1;32mif\u001b[0m \u001b[0minplace\u001b[0m \u001b[1;32melse\u001b[0m \u001b[0m_VF\u001b[0m\u001b[1;33m.\u001b[0m\u001b[0mdropout\u001b[0m\u001b[1;33m(\u001b[0m\u001b[0minput\u001b[0m\u001b[1;33m,\u001b[0m \u001b[0mp\u001b[0m\u001b[1;33m,\u001b[0m \u001b[0mtraining\u001b[0m\u001b[1;33m)\u001b[0m\u001b[1;33m\u001b[0m\u001b[1;33m\u001b[0m\u001b[0m\n\u001b[0m\u001b[0;32m   1280\u001b[0m \u001b[1;33m\u001b[0m\u001b[0m\n\u001b[0;32m   1281\u001b[0m \u001b[1;33m\u001b[0m\u001b[0m\n",
      "\u001b[1;31mRuntimeError\u001b[0m: CUDA out of memory. Tried to allocate 4.11 GiB (GPU 0; 12.00 GiB total capacity; 5.16 GiB already allocated; 197.57 MiB free; 8.25 GiB reserved in total by PyTorch) If reserved memory is >> allocated memory try setting max_split_size_mb to avoid fragmentation.  See documentation for Memory Management and PYTORCH_CUDA_ALLOC_CONF"
     ]
    }
   ],
   "source": [
    "train_model(clf_tfidf_lstm_fixed)"
   ]
  },
  {
   "cell_type": "code",
   "execution_count": null,
   "metadata": {},
   "outputs": [],
   "source": []
  },
  {
   "cell_type": "code",
   "execution_count": null,
   "metadata": {},
   "outputs": [],
   "source": []
  },
  {
   "cell_type": "markdown",
   "metadata": {},
   "source": [
    "### Model 2: Word2Vec (mean of word vectors) + Classifier"
   ]
  },
  {
   "cell_type": "markdown",
   "metadata": {},
   "source": [
    "#### Data Preparation"
   ]
  },
  {
   "cell_type": "code",
   "execution_count": 24,
   "metadata": {},
   "outputs": [],
   "source": [
    "# split into training and testing datasets\n",
    "X_train, X_test, y_train, y_test = train_test_split(X, y, test_size=0.3, shuffle=True, random_state=7600)"
   ]
  },
  {
   "cell_type": "code",
   "execution_count": 25,
   "metadata": {},
   "outputs": [
    {
     "data": {
      "text/plain": [
       "1106    We are seeking a Brand Manager to work for a t...\n",
       "3113    Deep Ray Ltd is seeking candidates for the pos...\n",
       "6990    \"Tonus-Les\" Ltd. is looking for enthusiastic,\\...\n",
       "8086    The incumbent will be responsible for vehicle ...\n",
       "5735    The Director will head Investment Banking Depa...\n",
       "Name: JobDescription, dtype: object"
      ]
     },
     "execution_count": 25,
     "metadata": {},
     "output_type": "execute_result"
    }
   ],
   "source": [
    "X_train.head()"
   ]
  },
  {
   "cell_type": "code",
   "execution_count": 26,
   "metadata": {},
   "outputs": [
    {
     "data": {
      "text/plain": [
       "1106    27\n",
       "3113    30\n",
       "6990    13\n",
       "8086    30\n",
       "5735     4\n",
       "Name: cluster, dtype: int64"
      ]
     },
     "execution_count": 26,
     "metadata": {},
     "output_type": "execute_result"
    }
   ],
   "source": [
    "y_train.head()"
   ]
  },
  {
   "cell_type": "code",
   "execution_count": 27,
   "metadata": {},
   "outputs": [
    {
     "name": "stderr",
     "output_type": "stream",
     "text": [
      "[nltk_data] Downloading package punkt to\n",
      "[nltk_data]     C:\\Users\\Kackie\\AppData\\Roaming\\nltk_data...\n",
      "[nltk_data]   Package punkt is already up-to-date!\n",
      "[nltk_data] Downloading package stopwords to\n",
      "[nltk_data]     C:\\Users\\Kackie\\AppData\\Roaming\\nltk_data...\n",
      "[nltk_data]   Package stopwords is already up-to-date!\n",
      "[nltk_data] Downloading package wordnet to\n",
      "[nltk_data]     C:\\Users\\Kackie\\AppData\\Roaming\\nltk_data...\n",
      "[nltk_data]   Package wordnet is already up-to-date!\n",
      "[nltk_data] Downloading package omw-1.4 to\n",
      "[nltk_data]     C:\\Users\\Kackie\\AppData\\Roaming\\nltk_data...\n",
      "[nltk_data]   Package omw-1.4 is already up-to-date!\n"
     ]
    }
   ],
   "source": [
    "from sklearn.feature_extraction.text import TfidfVectorizer\n",
    "from sklearn.metrics import classification_report, accuracy_score\n",
    "\n",
    "import nltk\n",
    "nltk.download('punkt')\n",
    "nltk.download('stopwords')\n",
    "nltk.download('wordnet')\n",
    "nltk.download('omw-1.4')\n",
    "\n",
    "from nltk import word_tokenize\n",
    "from nltk import sent_tokenize\n",
    "from nltk.corpus import stopwords\n",
    "from nltk.stem import WordNetLemmatizer\n",
    "from nltk.stem import PorterStemmer\n",
    "import string"
   ]
  },
  {
   "cell_type": "code",
   "execution_count": 67,
   "metadata": {},
   "outputs": [],
   "source": [
    "def w2v_preprocess(text):\n",
    "    text = text.lower()\n",
    "    words = word_tokenize(text)\n",
    "    words = [word for word in words if word.isalpha()]\n",
    "    \n",
    "    # stopwords\n",
    "    stop_words = set(stopwords.words('english'))\n",
    "    words = [word for word in words if not word in stop_words]\n",
    "\n",
    "    # stemming\n",
    "    stemmer = PorterStemmer()\n",
    "    words = [stemmer.stem(word) for word in words]\n",
    "\n",
    "    return words"
   ]
  },
  {
   "cell_type": "code",
   "execution_count": 68,
   "metadata": {},
   "outputs": [],
   "source": [
    "from gensim.models import Word2Vec\n",
    "from os import cpu_count"
   ]
  },
  {
   "cell_type": "code",
   "execution_count": 69,
   "metadata": {},
   "outputs": [
    {
     "data": {
      "text/plain": [
       "0        [ameria, invest, consult, compani, seek, chief...\n",
       "1        [public, outreach, strengthen, grow, network, ...\n",
       "2        [lead, local, enhanc, develop, health, bcc, sp...\n",
       "3                  [saleswoman, sell, menswear, accessori]\n",
       "4        [armenian, branch, offic, open, societi, insti...\n",
       "                               ...                        \n",
       "15085    [incumb, develop, softwar, applic, work, distr...\n",
       "15086    [incumb, respons, support, director, organ, ac...\n",
       "15087    [tech, startup, technolinguist, base, new, yor...\n",
       "15088    [san, lazzaro, llc, look, individu, work, head...\n",
       "15089    [kamurj, uco, cjsc, look, lawyer, legal, depar...\n",
       "Name: JobDescription, Length: 15090, dtype: object"
      ]
     },
     "execution_count": 69,
     "metadata": {},
     "output_type": "execute_result"
    }
   ],
   "source": [
    "# preprocess the X texts\n",
    "X_tokenized = X.apply(w2v_preprocess)\n",
    "X_tokenized"
   ]
  },
  {
   "cell_type": "markdown",
   "metadata": {},
   "source": [
    "**Train Word2Vec**"
   ]
  },
  {
   "cell_type": "code",
   "execution_count": 70,
   "metadata": {},
   "outputs": [],
   "source": [
    "# train our own word2vec model using the career corpus\n",
    "w2v = Word2Vec(\n",
    "    sentences=X_tokenized, \n",
    "    vector_size=300, \n",
    "    window=5,\n",
    "    min_count=1,\n",
    "    workers=cpu_count()\n",
    ")"
   ]
  },
  {
   "cell_type": "code",
   "execution_count": 77,
   "metadata": {},
   "outputs": [
    {
     "data": {
      "text/plain": [
       "7171"
      ]
     },
     "execution_count": 77,
     "metadata": {},
     "output_type": "execute_result"
    }
   ],
   "source": [
    "len(w2v.wv)"
   ]
  },
  {
   "cell_type": "code",
   "execution_count": 71,
   "metadata": {},
   "outputs": [],
   "source": [
    "# save the w2v model \n",
    "w2v.save('models/career_w2v.model')"
   ]
  },
  {
   "cell_type": "markdown",
   "metadata": {},
   "source": [
    "**Convert train & test datasets to Word2Vec**"
   ]
  },
  {
   "cell_type": "code",
   "execution_count": 274,
   "metadata": {},
   "outputs": [
    {
     "name": "stderr",
     "output_type": "stream",
     "text": [
      "c:\\Users\\Kackie\\anaconda3\\envs\\DataScience\\lib\\site-packages\\ipykernel_launcher.py:3: RuntimeWarning: Mean of empty slice\n",
      "  This is separate from the ipykernel package so we can avoid doing imports until\n"
     ]
    }
   ],
   "source": [
    "# get sentence vectors for each row of the training and testing X datasets\n",
    "def get_w2v_sentence_vector(text, model):\n",
    "    sentence_vector = np.nanmean(np.array([model[i] for i in w2v_preprocess(text)]), axis=0).tolist()\n",
    "    if not isinstance(sentence_vector, list):\n",
    "        sentence_vector = [0]*300\n",
    "    return sentence_vector\n",
    "\n",
    "X_train_w2v_transformed = []\n",
    "for text in X_train:\n",
    "    sentence_vector = get_w2v_sentence_vector(text, w2v.wv)\n",
    "    X_train_w2v_transformed.append(sentence_vector)\n",
    "\n",
    "X_test_w2v_transformed = []\n",
    "for text in X_test:\n",
    "    sentence_vector = get_w2v_sentence_vector(text, w2v.wv)\n",
    "    X_test_w2v_transformed.append(sentence_vector)"
   ]
  },
  {
   "cell_type": "code",
   "execution_count": 275,
   "metadata": {},
   "outputs": [],
   "source": [
    "X_train_w2v_transformed = np.array(X_train_w2v_transformed)\n",
    "X_test_w2v_transformed = np.array(X_test_w2v_transformed)"
   ]
  },
  {
   "cell_type": "code",
   "execution_count": 276,
   "metadata": {},
   "outputs": [
    {
     "data": {
      "text/plain": [
       "(10563, 300)"
      ]
     },
     "execution_count": 276,
     "metadata": {},
     "output_type": "execute_result"
    }
   ],
   "source": [
    "X_train_w2v_transformed.shape"
   ]
  },
  {
   "cell_type": "code",
   "execution_count": 277,
   "metadata": {},
   "outputs": [
    {
     "data": {
      "text/plain": [
       "(4527, 300)"
      ]
     },
     "execution_count": 277,
     "metadata": {},
     "output_type": "execute_result"
    }
   ],
   "source": [
    "X_test_w2v_transformed.shape"
   ]
  },
  {
   "cell_type": "markdown",
   "metadata": {},
   "source": [
    "#### Naive Bayes (baseline)"
   ]
  },
  {
   "cell_type": "code",
   "execution_count": 278,
   "metadata": {},
   "outputs": [],
   "source": [
    "from sklearn.naive_bayes import MultinomialNB"
   ]
  },
  {
   "cell_type": "code",
   "execution_count": 285,
   "metadata": {},
   "outputs": [],
   "source": [
    "# since MNB can only do positive values, we need to normalize the word embeddings\n",
    "from sklearn.preprocessing import MinMaxScaler\n",
    "X_train_w2v_transformed_scaled = MinMaxScaler().fit_transform(X_train_w2v_transformed)\n",
    "X_test_w2v_transformed_scaled = MinMaxScaler().fit_transform(X_test_w2v_transformed)"
   ]
  },
  {
   "cell_type": "code",
   "execution_count": 286,
   "metadata": {},
   "outputs": [],
   "source": [
    "clf_w2v_mnb = MultinomialNB()"
   ]
  },
  {
   "cell_type": "code",
   "execution_count": 287,
   "metadata": {},
   "outputs": [
    {
     "data": {
      "text/plain": [
       "MultinomialNB()"
      ]
     },
     "execution_count": 287,
     "metadata": {},
     "output_type": "execute_result"
    }
   ],
   "source": [
    "clf_w2v_mnb.fit(X_train_w2v_transformed_scaled, y_train)"
   ]
  },
  {
   "cell_type": "code",
   "execution_count": 288,
   "metadata": {},
   "outputs": [
    {
     "data": {
      "text/plain": [
       "0.2701568367572344"
      ]
     },
     "execution_count": 288,
     "metadata": {},
     "output_type": "execute_result"
    }
   ],
   "source": [
    "accuracy_score(y_test, clf_w2v_mnb.predict(X_test_w2v_transformed_scaled))"
   ]
  },
  {
   "cell_type": "code",
   "execution_count": 289,
   "metadata": {},
   "outputs": [
    {
     "name": "stdout",
     "output_type": "stream",
     "text": [
      "              precision    recall  f1-score   support\n",
      "\n",
      "           0       0.00      0.00      0.00        13\n",
      "           1       0.30      0.51      0.38       232\n",
      "           2       0.41      0.68      0.51       157\n",
      "           3       0.26      0.29      0.28       273\n",
      "           4       0.25      0.05      0.08        64\n",
      "           5       0.50      0.09      0.15       111\n",
      "           6       0.44      0.44      0.44        96\n",
      "           7       0.00      0.00      0.00        67\n",
      "           8       0.06      0.08      0.07        36\n",
      "           9       0.38      0.36      0.37        56\n",
      "          10       0.59      0.23      0.34       141\n",
      "          11       0.05      0.07      0.06        54\n",
      "          12       0.19      0.52      0.28        79\n",
      "          13       0.69      0.62      0.65        81\n",
      "          14       0.00      0.00      0.00        29\n",
      "          15       0.29      0.42      0.34        79\n",
      "          16       0.27      0.62      0.37       544\n",
      "          17       0.00      0.00      0.00        75\n",
      "          18       0.51      0.23      0.31        93\n",
      "          19       0.17      0.28      0.21       154\n",
      "          20       0.35      0.11      0.17       146\n",
      "          21       0.25      0.04      0.07        50\n",
      "          22       0.00      0.00      0.00        23\n",
      "          23       0.52      0.16      0.24        75\n",
      "          24       0.00      0.00      0.00        27\n",
      "          25       0.27      0.17      0.21       173\n",
      "          26       0.00      0.00      0.00        13\n",
      "          27       0.40      0.27      0.32       118\n",
      "          28       0.00      0.00      0.00        39\n",
      "          29       0.00      0.00      0.00        36\n",
      "          30       0.22      0.14      0.17       290\n",
      "          31       0.00      0.00      0.00        95\n",
      "          32       0.20      0.08      0.12       134\n",
      "          33       0.00      0.00      0.00        66\n",
      "          34       0.36      0.47      0.40        81\n",
      "          35       0.16      0.22      0.18       408\n",
      "          36       0.50      0.05      0.09        41\n",
      "          37       0.29      0.06      0.10        35\n",
      "          38       0.12      0.04      0.05       170\n",
      "          39       0.00      0.00      0.00        73\n",
      "\n",
      "    accuracy                           0.27      4527\n",
      "   macro avg       0.22      0.18      0.17      4527\n",
      "weighted avg       0.26      0.27      0.23      4527\n",
      "\n"
     ]
    },
    {
     "name": "stderr",
     "output_type": "stream",
     "text": [
      "c:\\Users\\Kackie\\anaconda3\\envs\\DataScience\\lib\\site-packages\\sklearn\\metrics\\_classification.py:1318: UndefinedMetricWarning: Precision and F-score are ill-defined and being set to 0.0 in labels with no predicted samples. Use `zero_division` parameter to control this behavior.\n",
      "  _warn_prf(average, modifier, msg_start, len(result))\n",
      "c:\\Users\\Kackie\\anaconda3\\envs\\DataScience\\lib\\site-packages\\sklearn\\metrics\\_classification.py:1318: UndefinedMetricWarning: Precision and F-score are ill-defined and being set to 0.0 in labels with no predicted samples. Use `zero_division` parameter to control this behavior.\n",
      "  _warn_prf(average, modifier, msg_start, len(result))\n",
      "c:\\Users\\Kackie\\anaconda3\\envs\\DataScience\\lib\\site-packages\\sklearn\\metrics\\_classification.py:1318: UndefinedMetricWarning: Precision and F-score are ill-defined and being set to 0.0 in labels with no predicted samples. Use `zero_division` parameter to control this behavior.\n",
      "  _warn_prf(average, modifier, msg_start, len(result))\n"
     ]
    }
   ],
   "source": [
    "print(classification_report(y_test, clf_w2v_mnb.predict(X_test_w2v_transformed_scaled)))"
   ]
  },
  {
   "cell_type": "markdown",
   "metadata": {},
   "source": [
    "#### Linear SVM"
   ]
  },
  {
   "cell_type": "code",
   "execution_count": 290,
   "metadata": {},
   "outputs": [],
   "source": [
    "from sklearn.linear_model import SGDClassifier"
   ]
  },
  {
   "cell_type": "code",
   "execution_count": 291,
   "metadata": {},
   "outputs": [],
   "source": [
    "clf_w2v_sgd = SGDClassifier(\n",
    "    loss='hinge',\n",
    "    penalty='l2',\n",
    "    alpha=1e-3,\n",
    "    random_state=7600,\n",
    "    verbose=1\n",
    ")"
   ]
  },
  {
   "cell_type": "code",
   "execution_count": 292,
   "metadata": {},
   "outputs": [
    {
     "name": "stderr",
     "output_type": "stream",
     "text": [
      "[Parallel(n_jobs=1)]: Using backend SequentialBackend with 1 concurrent workers.\n"
     ]
    },
    {
     "name": "stdout",
     "output_type": "stream",
     "text": [
      "-- Epoch 1\n",
      "Norm: 0.84, NNZs: 300, Bias: -3.994332, T: 10563, Avg. loss: 0.011362\n",
      "Total training time: 0.01 seconds.\n",
      "-- Epoch 2\n",
      "Norm: 0.90, NNZs: 300, Bias: -3.556771, T: 21126, Avg. loss: 0.005836\n",
      "Total training time: 0.01 seconds.\n",
      "-- Epoch 3\n",
      "Norm: 0.81, NNZs: 300, Bias: -3.344102, T: 31689, Avg. loss: 0.005314\n",
      "Total training time: 0.01 seconds.\n",
      "-- Epoch 4\n",
      "Norm: 0.72, NNZs: 300, Bias: -3.208036, T: 42252, Avg. loss: 0.004855\n",
      "Total training time: 0.02 seconds.\n",
      "-- Epoch 5\n",
      "Norm: 0.75, NNZs: 300, Bias: -3.061649, T: 52815, Avg. loss: 0.004722\n",
      "Total training time: 0.02 seconds.\n",
      "-- Epoch 6\n",
      "Norm: 0.69, NNZs: 300, Bias: -2.976538, T: 63378, Avg. loss: 0.004517\n",
      "Total training time: 0.03 seconds.\n",
      "-- Epoch 7\n",
      "Norm: 0.64, NNZs: 300, Bias: -2.904785, T: 73941, Avg. loss: 0.004506\n",
      "Total training time: 0.03 seconds.\n",
      "Convergence after 7 epochs took 0.03 seconds\n",
      "-- Epoch 1\n",
      "Norm: 4.04, NNZs: 300, Bias: -2.815307, T: 10563, Avg. loss: 0.332334\n",
      "Total training time: 0.00 seconds.\n",
      "-- Epoch 2\n",
      "Norm: 3.24, NNZs: 300, Bias: -1.832887, T: 21126, Avg. loss: 0.140863\n",
      "Total training time: 0.01 seconds.\n",
      "-- Epoch 3\n",
      "Norm: 2.86, NNZs: 300, Bias: -1.371076, T: 31689, Avg. loss: 0.122711\n",
      "Total training time: 0.01 seconds.\n",
      "-- Epoch 4\n",
      "Norm: 2.56, NNZs: 300, Bias: -1.159761, T: 42252, Avg. loss: 0.115686\n",
      "Total training time: 0.02 seconds.\n",
      "-- Epoch 5\n",
      "Norm: 2.49, NNZs: 300, Bias: -1.061128, T: 52815, Avg. loss: 0.111002\n",
      "Total training time: 0.02 seconds.\n",
      "-- Epoch 6\n",
      "Norm: 2.38, NNZs: 300, Bias: -1.046893, T: 63378, Avg. loss: 0.109066\n",
      "Total training time: 0.03 seconds.\n",
      "-- Epoch 7\n",
      "Norm: 2.32, NNZs: 300, Bias: -1.029295, T: 73941, Avg. loss: 0.106557\n",
      "Total training time: 0.03 seconds.\n",
      "-- Epoch 8\n",
      "Norm: 2.36, NNZs: 300, Bias: -0.967936, T: 84504, Avg. loss: 0.105658\n",
      "Total training time: 0.03 seconds.\n",
      "-- Epoch 9\n",
      "Norm: 2.33, NNZs: 300, Bias: -0.990361, T: 95067, Avg. loss: 0.104806\n",
      "Total training time: 0.04 seconds.\n",
      "-- Epoch 10\n",
      "Norm: 2.27, NNZs: 300, Bias: -0.998981, T: 105630, Avg. loss: 0.104100\n",
      "Total training time: 0.04 seconds.\n",
      "-- Epoch 11\n",
      "Norm: 2.26, NNZs: 300, Bias: -0.998780, T: 116193, Avg. loss: 0.103607\n",
      "Total training time: 0.04 seconds.\n",
      "-- Epoch 12\n",
      "Norm: 2.25, NNZs: 300, Bias: -0.998951, T: 126756, Avg. loss: 0.103191\n",
      "Total training time: 0.05 seconds.\n",
      "Convergence after 12 epochs took 0.05 seconds\n",
      "-- Epoch 1\n",
      "Norm: 4.73, NNZs: 300, Bias: -2.145209, T: 10563, Avg. loss: 0.233437\n",
      "Total training time: 0.00 seconds.\n",
      "-- Epoch 2\n",
      "Norm: 3.89, NNZs: 300, Bias: -1.315618, T: 21126, Avg. loss: 0.087715\n",
      "Total training time: 0.01 seconds.\n",
      "-- Epoch 3\n",
      "Norm: 3.43, NNZs: 300, Bias: -1.253754, T: 31689, Avg. loss: 0.081469\n",
      "Total training time: 0.01 seconds.\n",
      "-- Epoch 4\n",
      "Norm: 3.29, NNZs: 300, Bias: -1.140668, T: 42252, Avg. loss: 0.074549\n",
      "Total training time: 0.01 seconds.\n",
      "-- Epoch 5\n",
      "Norm: 3.19, NNZs: 300, Bias: -0.949988, T: 52815, Avg. loss: 0.072840\n",
      "Total training time: 0.02 seconds.\n",
      "-- Epoch 6\n",
      "Norm: 3.14, NNZs: 300, Bias: -1.020306, T: 63378, Avg. loss: 0.071913\n",
      "Total training time: 0.02 seconds.\n",
      "-- Epoch 7\n",
      "Norm: 3.11, NNZs: 300, Bias: -1.035808, T: 73941, Avg. loss: 0.069382\n",
      "Total training time: 0.02 seconds.\n",
      "-- Epoch 8\n",
      "Norm: 3.02, NNZs: 300, Bias: -1.004118, T: 84504, Avg. loss: 0.069834\n",
      "Total training time: 0.02 seconds.\n",
      "-- Epoch 9\n",
      "Norm: 2.99, NNZs: 300, Bias: -1.007092, T: 95067, Avg. loss: 0.068363\n",
      "Total training time: 0.03 seconds.\n",
      "-- Epoch 10\n",
      "Norm: 2.95, NNZs: 300, Bias: -0.930262, T: 105630, Avg. loss: 0.067868\n",
      "Total training time: 0.03 seconds.\n",
      "-- Epoch 11\n",
      "Norm: 2.89, NNZs: 300, Bias: -0.961987, T: 116193, Avg. loss: 0.068843\n",
      "Total training time: 0.03 seconds.\n",
      "-- Epoch 12\n",
      "Norm: 2.87, NNZs: 300, Bias: -0.986595, T: 126756, Avg. loss: 0.067767\n",
      "Total training time: 0.04 seconds.\n",
      "-- Epoch 13\n",
      "Norm: 2.85, NNZs: 300, Bias: -0.964113, T: 137319, Avg. loss: 0.067878\n",
      "Total training time: 0.04 seconds.\n",
      "-- Epoch 14\n",
      "Norm: 2.84, NNZs: 300, Bias: -0.993275, T: 147882, Avg. loss: 0.067140\n",
      "Total training time: 0.04 seconds.\n",
      "Convergence after 14 epochs took 0.04 seconds\n",
      "-- Epoch 1\n",
      "Norm: 4.45, NNZs: 300, Bias: -1.440896, T: 10563, Avg. loss: 0.445184\n",
      "Total training time: 0.00 seconds.\n",
      "-- Epoch 2\n",
      "Norm: 3.39, NNZs: 300, Bias: -1.043539, T: 21126, Avg. loss: 0.172635\n",
      "Total training time: 0.01 seconds.\n",
      "-- Epoch 3\n",
      "Norm: 2.83, NNZs: 300, Bias: -0.934783, T: 31689, Avg. loss: 0.151800\n",
      "Total training time: 0.01 seconds.\n",
      "-- Epoch 4\n",
      "Norm: 2.52, NNZs: 300, Bias: -0.915554, T: 42252, Avg. loss: 0.142698\n",
      "Total training time: 0.01 seconds.\n",
      "-- Epoch 5\n",
      "Norm: 2.31, NNZs: 300, Bias: -0.905740, T: 52815, Avg. loss: 0.137345\n",
      "Total training time: 0.02 seconds.\n",
      "-- Epoch 6\n",
      "Norm: 2.17, NNZs: 300, Bias: -1.022514, T: 63378, Avg. loss: 0.133830\n",
      "Total training time: 0.02 seconds.\n",
      "-- Epoch 7\n",
      "Norm: 1.99, NNZs: 300, Bias: -0.947819, T: 73941, Avg. loss: 0.132372\n",
      "Total training time: 0.02 seconds.\n",
      "-- Epoch 8\n",
      "Norm: 1.85, NNZs: 300, Bias: -0.962895, T: 84504, Avg. loss: 0.130948\n",
      "Total training time: 0.03 seconds.\n",
      "-- Epoch 9\n",
      "Norm: 1.76, NNZs: 300, Bias: -0.952803, T: 95067, Avg. loss: 0.129280\n",
      "Total training time: 0.03 seconds.\n",
      "-- Epoch 10\n",
      "Norm: 1.67, NNZs: 300, Bias: -1.001559, T: 105630, Avg. loss: 0.128508\n",
      "Total training time: 0.03 seconds.\n",
      "-- Epoch 11\n",
      "Norm: 1.60, NNZs: 300, Bias: -0.992156, T: 116193, Avg. loss: 0.127451\n",
      "Total training time: 0.04 seconds.\n",
      "-- Epoch 12\n",
      "Norm: 1.53, NNZs: 300, Bias: -1.016387, T: 126756, Avg. loss: 0.127038\n",
      "Total training time: 0.04 seconds.\n",
      "-- Epoch 13\n",
      "Norm: 1.48, NNZs: 300, Bias: -0.992722, T: 137319, Avg. loss: 0.126238\n",
      "Total training time: 0.04 seconds.\n",
      "-- Epoch 14\n",
      "Norm: 1.43, NNZs: 300, Bias: -1.005914, T: 147882, Avg. loss: 0.126063\n",
      "Total training time: 0.05 seconds.\n",
      "-- Epoch 15\n",
      "Norm: 1.38, NNZs: 300, Bias: -0.986735, T: 158445, Avg. loss: 0.125473\n",
      "Total training time: 0.05 seconds.\n",
      "-- Epoch 16\n",
      "Norm: 1.34, NNZs: 300, Bias: -0.999448, T: 169008, Avg. loss: 0.125154\n",
      "Total training time: 0.05 seconds.\n",
      "Convergence after 16 epochs took 0.05 seconds\n",
      "-- Epoch 1\n",
      "Norm: 2.17, NNZs: 300, Bias: -4.030275, T: 10563, Avg. loss: 0.101464\n",
      "Total training time: 0.00 seconds.\n",
      "-- Epoch 2\n",
      "Norm: 1.40, NNZs: 300, Bias: -3.396725, T: 21126, Avg. loss: 0.046121\n",
      "Total training time: 0.01 seconds.\n",
      "-- Epoch 3\n",
      "Norm: 1.14, NNZs: 300, Bias: -2.994558, T: 31689, Avg. loss: 0.039049\n",
      "Total training time: 0.01 seconds.\n",
      "-- Epoch 4\n",
      "Norm: 1.07, NNZs: 300, Bias: -2.695297, T: 42252, Avg. loss: 0.035816\n",
      "Total training time: 0.01 seconds.\n",
      "-- Epoch 5\n",
      "Norm: 0.96, NNZs: 300, Bias: -2.485018, T: 52815, Avg. loss: 0.034304\n",
      "Total training time: 0.02 seconds.\n",
      "-- Epoch 6\n",
      "Norm: 0.87, NNZs: 300, Bias: -2.278408, T: 63378, Avg. loss: 0.033557\n",
      "Total training time: 0.02 seconds.\n",
      "-- Epoch 7\n",
      "Norm: 0.83, NNZs: 300, Bias: -2.118587, T: 73941, Avg. loss: 0.032413\n",
      "Total training time: 0.02 seconds.\n",
      "-- Epoch 8\n",
      "Norm: 0.79, NNZs: 300, Bias: -1.981033, T: 84504, Avg. loss: 0.031816\n",
      "Total training time: 0.03 seconds.\n",
      "-- Epoch 9\n",
      "Norm: 0.70, NNZs: 300, Bias: -1.892183, T: 95067, Avg. loss: 0.031477\n",
      "Total training time: 0.03 seconds.\n",
      "-- Epoch 10\n",
      "Norm: 0.66, NNZs: 300, Bias: -1.792290, T: 105630, Avg. loss: 0.031023\n",
      "Total training time: 0.03 seconds.\n",
      "-- Epoch 11\n",
      "Norm: 0.62, NNZs: 300, Bias: -1.710825, T: 116193, Avg. loss: 0.030718\n",
      "Total training time: 0.03 seconds.\n",
      "-- Epoch 12\n",
      "Norm: 0.59, NNZs: 300, Bias: -1.636954, T: 126756, Avg. loss: 0.030416\n",
      "Total training time: 0.04 seconds.\n",
      "Convergence after 12 epochs took 0.04 seconds\n",
      "-- Epoch 1\n",
      "Norm: 2.49, NNZs: 300, Bias: -3.890197, T: 10563, Avg. loss: 0.221597\n",
      "Total training time: 0.00 seconds.\n",
      "-- Epoch 2\n",
      "Norm: 1.90, NNZs: 300, Bias: -2.904584, T: 21126, Avg. loss: 0.076906\n",
      "Total training time: 0.01 seconds.\n",
      "-- Epoch 3\n",
      "Norm: 1.53, NNZs: 300, Bias: -2.398751, T: 31689, Avg. loss: 0.064903\n",
      "Total training time: 0.01 seconds.\n",
      "-- Epoch 4\n",
      "Norm: 1.35, NNZs: 300, Bias: -2.061292, T: 42252, Avg. loss: 0.058973\n",
      "Total training time: 0.01 seconds.\n",
      "-- Epoch 5\n",
      "Norm: 1.21, NNZs: 300, Bias: -1.787019, T: 52815, Avg. loss: 0.056456\n",
      "Total training time: 0.02 seconds.\n",
      "-- Epoch 6\n",
      "Norm: 1.07, NNZs: 300, Bias: -1.667323, T: 63378, Avg. loss: 0.054376\n",
      "Total training time: 0.02 seconds.\n",
      "-- Epoch 7\n",
      "Norm: 0.95, NNZs: 300, Bias: -1.520716, T: 73941, Avg. loss: 0.053405\n",
      "Total training time: 0.02 seconds.\n",
      "-- Epoch 8\n",
      "Norm: 0.88, NNZs: 300, Bias: -1.395873, T: 84504, Avg. loss: 0.052282\n",
      "Total training time: 0.03 seconds.\n",
      "-- Epoch 9\n",
      "Norm: 0.82, NNZs: 300, Bias: -1.307712, T: 95067, Avg. loss: 0.051518\n",
      "Total training time: 0.03 seconds.\n",
      "-- Epoch 10\n",
      "Norm: 0.76, NNZs: 300, Bias: -1.257651, T: 105630, Avg. loss: 0.050959\n",
      "Total training time: 0.04 seconds.\n",
      "-- Epoch 11\n",
      "Norm: 0.71, NNZs: 300, Bias: -1.212929, T: 116193, Avg. loss: 0.050517\n",
      "Total training time: 0.04 seconds.\n",
      "-- Epoch 12\n",
      "Norm: 0.69, NNZs: 300, Bias: -1.147038, T: 126756, Avg. loss: 0.049913\n",
      "Total training time: 0.04 seconds.\n",
      "-- Epoch 13\n",
      "Norm: 0.65, NNZs: 300, Bias: -1.109546, T: 137319, Avg. loss: 0.049876\n",
      "Total training time: 0.05 seconds.\n",
      "Convergence after 13 epochs took 0.05 seconds\n",
      "-- Epoch 1\n",
      "Norm: 2.97, NNZs: 300, Bias: -6.446979, T: 10563, Avg. loss: 0.159762\n",
      "Total training time: 0.00 seconds.\n",
      "-- Epoch 2\n",
      "Norm: 2.65, NNZs: 300, Bias: -5.424645, T: 21126, Avg. loss: 0.062741\n",
      "Total training time: 0.01 seconds.\n",
      "-- Epoch 3\n",
      "Norm: 2.35, NNZs: 300, Bias: -4.771770, T: 31689, Avg. loss: 0.054167\n",
      "Total training time: 0.01 seconds.\n",
      "-- Epoch 4\n",
      "Norm: 2.29, NNZs: 300, Bias: -4.366290, T: 42252, Avg. loss: 0.048685\n",
      "Total training time: 0.01 seconds.\n",
      "-- Epoch 5\n",
      "Norm: 2.27, NNZs: 300, Bias: -4.030987, T: 52815, Avg. loss: 0.046547\n",
      "Total training time: 0.02 seconds.\n",
      "-- Epoch 6\n",
      "Norm: 2.21, NNZs: 300, Bias: -3.792235, T: 63378, Avg. loss: 0.045204\n",
      "Total training time: 0.02 seconds.\n",
      "-- Epoch 7\n",
      "Norm: 2.13, NNZs: 300, Bias: -3.590675, T: 73941, Avg. loss: 0.044814\n",
      "Total training time: 0.02 seconds.\n",
      "-- Epoch 8\n",
      "Norm: 2.09, NNZs: 300, Bias: -3.401780, T: 84504, Avg. loss: 0.043506\n",
      "Total training time: 0.02 seconds.\n",
      "-- Epoch 9\n",
      "Norm: 2.04, NNZs: 300, Bias: -3.246345, T: 95067, Avg. loss: 0.043057\n",
      "Total training time: 0.03 seconds.\n",
      "-- Epoch 10\n",
      "Norm: 2.01, NNZs: 300, Bias: -3.107060, T: 105630, Avg. loss: 0.042286\n",
      "Total training time: 0.03 seconds.\n",
      "-- Epoch 11\n",
      "Norm: 1.98, NNZs: 300, Bias: -2.963936, T: 116193, Avg. loss: 0.041819\n",
      "Total training time: 0.04 seconds.\n",
      "-- Epoch 12\n",
      "Norm: 1.93, NNZs: 300, Bias: -2.874526, T: 126756, Avg. loss: 0.041376\n",
      "Total training time: 0.04 seconds.\n",
      "-- Epoch 13\n",
      "Norm: 1.90, NNZs: 300, Bias: -2.776306, T: 137319, Avg. loss: 0.041313\n",
      "Total training time: 0.04 seconds.\n",
      "Convergence after 13 epochs took 0.04 seconds\n",
      "-- Epoch 1\n",
      "Norm: 1.64, NNZs: 300, Bias: -1.782296, T: 10563, Avg. loss: 0.099463\n",
      "Total training time: 0.00 seconds.\n",
      "-- Epoch 2\n",
      "Norm: 1.21, NNZs: 300, Bias: -1.251333, T: 21126, Avg. loss: 0.044468\n",
      "Total training time: 0.01 seconds.\n",
      "-- Epoch 3\n",
      "Norm: 0.89, NNZs: 300, Bias: -1.068415, T: 31689, Avg. loss: 0.038980\n",
      "Total training time: 0.01 seconds.\n",
      "-- Epoch 4\n",
      "Norm: 0.75, NNZs: 300, Bias: -0.985171, T: 42252, Avg. loss: 0.036699\n",
      "Total training time: 0.01 seconds.\n",
      "-- Epoch 5\n",
      "Norm: 0.66, NNZs: 300, Bias: -1.004207, T: 52815, Avg. loss: 0.035317\n",
      "Total training time: 0.01 seconds.\n",
      "-- Epoch 6\n",
      "Norm: 0.60, NNZs: 300, Bias: -0.954196, T: 63378, Avg. loss: 0.034569\n",
      "Total training time: 0.02 seconds.\n",
      "-- Epoch 7\n",
      "Norm: 0.55, NNZs: 300, Bias: -0.971990, T: 73941, Avg. loss: 0.034140\n",
      "Total training time: 0.02 seconds.\n",
      "-- Epoch 8\n",
      "Norm: 0.52, NNZs: 300, Bias: -0.997286, T: 84504, Avg. loss: 0.033573\n",
      "Total training time: 0.02 seconds.\n",
      "-- Epoch 9\n",
      "Norm: 0.51, NNZs: 300, Bias: -1.008809, T: 95067, Avg. loss: 0.033245\n",
      "Total training time: 0.03 seconds.\n",
      "-- Epoch 10\n",
      "Norm: 0.49, NNZs: 300, Bias: -1.017860, T: 105630, Avg. loss: 0.033032\n",
      "Total training time: 0.03 seconds.\n",
      "Convergence after 10 epochs took 0.03 seconds\n",
      "-- Epoch 1\n",
      "Norm: 1.93, NNZs: 300, Bias: -4.962764, T: 10563, Avg. loss: 0.060797\n",
      "Total training time: 0.00 seconds.\n",
      "-- Epoch 2\n",
      "Norm: 1.66, NNZs: 300, Bias: -4.309183, T: 21126, Avg. loss: 0.028429\n",
      "Total training time: 0.01 seconds.\n",
      "-- Epoch 3\n",
      "Norm: 1.53, NNZs: 300, Bias: -3.923129, T: 31689, Avg. loss: 0.023769\n",
      "Total training time: 0.01 seconds.\n",
      "-- Epoch 4\n",
      "Norm: 1.38, NNZs: 300, Bias: -3.730751, T: 42252, Avg. loss: 0.021461\n",
      "Total training time: 0.01 seconds.\n",
      "-- Epoch 5\n",
      "Norm: 1.32, NNZs: 300, Bias: -3.537863, T: 52815, Avg. loss: 0.020395\n",
      "Total training time: 0.02 seconds.\n",
      "-- Epoch 6\n",
      "Norm: 1.27, NNZs: 300, Bias: -3.365589, T: 63378, Avg. loss: 0.019937\n",
      "Total training time: 0.02 seconds.\n",
      "-- Epoch 7\n",
      "Norm: 1.19, NNZs: 300, Bias: -3.246908, T: 73941, Avg. loss: 0.019351\n",
      "Total training time: 0.02 seconds.\n",
      "-- Epoch 8\n",
      "Norm: 1.17, NNZs: 300, Bias: -3.121669, T: 84504, Avg. loss: 0.018981\n",
      "Total training time: 0.02 seconds.\n",
      "-- Epoch 9\n",
      "Norm: 1.14, NNZs: 300, Bias: -3.010835, T: 95067, Avg. loss: 0.018806\n",
      "Total training time: 0.03 seconds.\n",
      "-- Epoch 10\n",
      "Norm: 1.10, NNZs: 300, Bias: -2.931095, T: 105630, Avg. loss: 0.018290\n",
      "Total training time: 0.03 seconds.\n",
      "Convergence after 10 epochs took 0.03 seconds\n",
      "-- Epoch 1\n",
      "Norm: 2.27, NNZs: 300, Bias: -4.490622, T: 10563, Avg. loss: 0.058791\n",
      "Total training time: 0.00 seconds.\n",
      "-- Epoch 2\n",
      "Norm: 1.88, NNZs: 300, Bias: -3.861064, T: 21126, Avg. loss: 0.028957\n",
      "Total training time: 0.01 seconds.\n",
      "-- Epoch 3\n",
      "Norm: 1.62, NNZs: 300, Bias: -3.646968, T: 31689, Avg. loss: 0.025694\n",
      "Total training time: 0.01 seconds.\n",
      "-- Epoch 4\n",
      "Norm: 1.50, NNZs: 300, Bias: -3.476219, T: 42252, Avg. loss: 0.023912\n",
      "Total training time: 0.01 seconds.\n",
      "-- Epoch 5\n",
      "Norm: 1.56, NNZs: 300, Bias: -3.258646, T: 52815, Avg. loss: 0.023469\n",
      "Total training time: 0.02 seconds.\n",
      "-- Epoch 6\n",
      "Norm: 1.47, NNZs: 300, Bias: -3.140199, T: 63378, Avg. loss: 0.023115\n",
      "Total training time: 0.02 seconds.\n",
      "-- Epoch 7\n",
      "Norm: 1.39, NNZs: 300, Bias: -3.051093, T: 73941, Avg. loss: 0.023141\n",
      "Total training time: 0.02 seconds.\n",
      "-- Epoch 8\n",
      "Norm: 1.43, NNZs: 300, Bias: -2.961652, T: 84504, Avg. loss: 0.022205\n",
      "Total training time: 0.02 seconds.\n",
      "-- Epoch 9\n",
      "Norm: 1.40, NNZs: 300, Bias: -2.915638, T: 95067, Avg. loss: 0.022160\n",
      "Total training time: 0.03 seconds.\n",
      "Convergence after 9 epochs took 0.03 seconds\n",
      "-- Epoch 1\n",
      "Norm: 2.88, NNZs: 300, Bias: -3.160078, T: 10563, Avg. loss: 0.217578\n",
      "Total training time: 0.00 seconds.\n",
      "-- Epoch 2\n",
      "Norm: 2.26, NNZs: 300, Bias: -2.669277, T: 21126, Avg. loss: 0.101954\n",
      "Total training time: 0.01 seconds.\n",
      "-- Epoch 3\n",
      "Norm: 1.91, NNZs: 300, Bias: -2.289514, T: 31689, Avg. loss: 0.088786\n",
      "Total training time: 0.01 seconds.\n",
      "-- Epoch 4\n",
      "Norm: 1.62, NNZs: 300, Bias: -2.019806, T: 42252, Avg. loss: 0.083426\n",
      "Total training time: 0.01 seconds.\n",
      "-- Epoch 5\n",
      "Norm: 1.49, NNZs: 300, Bias: -1.869649, T: 52815, Avg. loss: 0.079977\n",
      "Total training time: 0.02 seconds.\n",
      "-- Epoch 6\n",
      "Norm: 1.42, NNZs: 300, Bias: -1.679591, T: 63378, Avg. loss: 0.077869\n",
      "Total training time: 0.02 seconds.\n",
      "-- Epoch 7\n",
      "Norm: 1.31, NNZs: 300, Bias: -1.661705, T: 73941, Avg. loss: 0.076119\n",
      "Total training time: 0.02 seconds.\n",
      "-- Epoch 8\n",
      "Norm: 1.26, NNZs: 300, Bias: -1.520731, T: 84504, Avg. loss: 0.075135\n",
      "Total training time: 0.02 seconds.\n",
      "-- Epoch 9\n",
      "Norm: 1.16, NNZs: 300, Bias: -1.465811, T: 95067, Avg. loss: 0.074636\n",
      "Total training time: 0.03 seconds.\n",
      "-- Epoch 10\n",
      "Norm: 1.11, NNZs: 300, Bias: -1.386062, T: 105630, Avg. loss: 0.073623\n",
      "Total training time: 0.03 seconds.\n",
      "-- Epoch 11\n",
      "Norm: 1.05, NNZs: 300, Bias: -1.357945, T: 116193, Avg. loss: 0.073058\n",
      "Total training time: 0.03 seconds.\n",
      "-- Epoch 12\n",
      "Norm: 1.00, NNZs: 300, Bias: -1.292794, T: 126756, Avg. loss: 0.072759\n",
      "Total training time: 0.04 seconds.\n",
      "-- Epoch 13\n",
      "Norm: 0.97, NNZs: 300, Bias: -1.270748, T: 137319, Avg. loss: 0.072126\n",
      "Total training time: 0.04 seconds.\n",
      "-- Epoch 14\n",
      "Norm: 0.93, NNZs: 300, Bias: -1.235883, T: 147882, Avg. loss: 0.071941\n",
      "Total training time: 0.04 seconds.\n",
      "-- Epoch 15\n",
      "Norm: 0.89, NNZs: 300, Bias: -1.222780, T: 158445, Avg. loss: 0.071580\n",
      "Total training time: 0.05 seconds.\n",
      "Convergence after 15 epochs took 0.05 seconds\n",
      "-- Epoch 1\n",
      "Norm: 1.60, NNZs: 300, Bias: -0.695571, T: 10563, Avg. loss: 0.071532\n",
      "Total training time: 0.00 seconds.\n",
      "-- Epoch 2\n",
      "Norm: 0.90, NNZs: 300, Bias: -0.543314, T: 21126, Avg. loss: 0.031076\n",
      "Total training time: 0.01 seconds.\n",
      "-- Epoch 3\n",
      "Norm: 0.72, NNZs: 300, Bias: -0.520218, T: 31689, Avg. loss: 0.026788\n",
      "Total training time: 0.01 seconds.\n",
      "-- Epoch 4\n",
      "Norm: 0.64, NNZs: 300, Bias: -0.611948, T: 42252, Avg. loss: 0.025113\n",
      "Total training time: 0.01 seconds.\n",
      "-- Epoch 5\n",
      "Norm: 0.56, NNZs: 300, Bias: -0.623764, T: 52815, Avg. loss: 0.024313\n",
      "Total training time: 0.02 seconds.\n",
      "-- Epoch 6\n",
      "Norm: 0.48, NNZs: 300, Bias: -0.708058, T: 63378, Avg. loss: 0.023918\n",
      "Total training time: 0.02 seconds.\n",
      "-- Epoch 7\n",
      "Norm: 0.44, NNZs: 300, Bias: -0.749256, T: 73941, Avg. loss: 0.023381\n",
      "Total training time: 0.02 seconds.\n",
      "-- Epoch 8\n",
      "Norm: 0.40, NNZs: 300, Bias: -0.785992, T: 84504, Avg. loss: 0.023129\n",
      "Total training time: 0.02 seconds.\n",
      "-- Epoch 9\n",
      "Norm: 0.39, NNZs: 300, Bias: -0.808145, T: 95067, Avg. loss: 0.022755\n",
      "Total training time: 0.03 seconds.\n",
      "Convergence after 9 epochs took 0.03 seconds\n",
      "-- Epoch 1\n",
      "Norm: 3.19, NNZs: 300, Bias: -5.843240, T: 10563, Avg. loss: 0.134103\n",
      "Total training time: 0.00 seconds.\n",
      "-- Epoch 2\n",
      "Norm: 2.87, NNZs: 300, Bias: -5.532485, T: 21126, Avg. loss: 0.056023\n",
      "Total training time: 0.01 seconds.\n",
      "-- Epoch 3\n",
      "Norm: 2.57, NNZs: 300, Bias: -5.358566, T: 31689, Avg. loss: 0.047806\n",
      "Total training time: 0.01 seconds.\n",
      "-- Epoch 4\n",
      "Norm: 2.46, NNZs: 300, Bias: -5.218425, T: 42252, Avg. loss: 0.044015\n",
      "Total training time: 0.01 seconds.\n",
      "-- Epoch 5\n",
      "Norm: 2.43, NNZs: 300, Bias: -5.045896, T: 52815, Avg. loss: 0.042287\n",
      "Total training time: 0.01 seconds.\n",
      "-- Epoch 6\n",
      "Norm: 2.34, NNZs: 300, Bias: -4.946029, T: 63378, Avg. loss: 0.041614\n",
      "Total training time: 0.02 seconds.\n",
      "-- Epoch 7\n",
      "Norm: 2.30, NNZs: 300, Bias: -4.832428, T: 73941, Avg. loss: 0.040210\n",
      "Total training time: 0.02 seconds.\n",
      "-- Epoch 8\n",
      "Norm: 2.22, NNZs: 300, Bias: -4.770764, T: 84504, Avg. loss: 0.039502\n",
      "Total training time: 0.02 seconds.\n",
      "-- Epoch 9\n",
      "Norm: 2.15, NNZs: 300, Bias: -4.703063, T: 95067, Avg. loss: 0.039416\n",
      "Total training time: 0.03 seconds.\n",
      "-- Epoch 10\n",
      "Norm: 2.15, NNZs: 300, Bias: -4.623543, T: 105630, Avg. loss: 0.038607\n",
      "Total training time: 0.03 seconds.\n",
      "-- Epoch 11\n",
      "Norm: 2.09, NNZs: 300, Bias: -4.577217, T: 116193, Avg. loss: 0.038618\n",
      "Total training time: 0.03 seconds.\n",
      "-- Epoch 12\n",
      "Norm: 2.05, NNZs: 300, Bias: -4.535081, T: 126756, Avg. loss: 0.038073\n",
      "Total training time: 0.03 seconds.\n",
      "Convergence after 12 epochs took 0.03 seconds\n",
      "-- Epoch 1\n",
      "Norm: 3.65, NNZs: 300, Bias: -4.628685, T: 10563, Avg. loss: 0.068211\n",
      "Total training time: 0.00 seconds.\n",
      "-- Epoch 2\n",
      "Norm: 3.03, NNZs: 300, Bias: -4.258746, T: 21126, Avg. loss: 0.025333\n",
      "Total training time: 0.01 seconds.\n",
      "-- Epoch 3\n",
      "Norm: 3.02, NNZs: 300, Bias: -3.878409, T: 31689, Avg. loss: 0.022641\n",
      "Total training time: 0.01 seconds.\n",
      "-- Epoch 4\n",
      "Norm: 2.82, NNZs: 300, Bias: -3.746716, T: 42252, Avg. loss: 0.021039\n",
      "Total training time: 0.01 seconds.\n",
      "-- Epoch 5\n",
      "Norm: 2.70, NNZs: 300, Bias: -3.537900, T: 52815, Avg. loss: 0.020408\n",
      "Total training time: 0.02 seconds.\n",
      "-- Epoch 6\n",
      "Norm: 2.69, NNZs: 300, Bias: -3.456807, T: 63378, Avg. loss: 0.020269\n",
      "Total training time: 0.02 seconds.\n",
      "-- Epoch 7\n",
      "Norm: 2.56, NNZs: 300, Bias: -3.427888, T: 73941, Avg. loss: 0.019969\n",
      "Total training time: 0.02 seconds.\n",
      "-- Epoch 8\n",
      "Norm: 2.57, NNZs: 300, Bias: -3.352259, T: 84504, Avg. loss: 0.019688\n",
      "Total training time: 0.02 seconds.\n",
      "-- Epoch 9\n",
      "Norm: 2.58, NNZs: 300, Bias: -3.284738, T: 95067, Avg. loss: 0.019620\n",
      "Total training time: 0.03 seconds.\n",
      "Convergence after 9 epochs took 0.03 seconds\n",
      "-- Epoch 1\n",
      "Norm: 1.40, NNZs: 300, Bias: -5.501356, T: 10563, Avg. loss: 0.041245\n",
      "Total training time: 0.00 seconds.\n",
      "-- Epoch 2\n",
      "Norm: 1.45, NNZs: 300, Bias: -4.661715, T: 21126, Avg. loss: 0.020113\n",
      "Total training time: 0.01 seconds.\n",
      "-- Epoch 3\n",
      "Norm: 1.24, NNZs: 300, Bias: -4.328713, T: 31689, Avg. loss: 0.016759\n",
      "Total training time: 0.01 seconds.\n",
      "-- Epoch 4\n",
      "Norm: 1.16, NNZs: 300, Bias: -4.063384, T: 42252, Avg. loss: 0.015522\n",
      "Total training time: 0.01 seconds.\n",
      "-- Epoch 5\n",
      "Norm: 1.08, NNZs: 300, Bias: -3.850456, T: 52815, Avg. loss: 0.014923\n",
      "Total training time: 0.02 seconds.\n",
      "-- Epoch 6\n",
      "Norm: 1.05, NNZs: 300, Bias: -3.661297, T: 63378, Avg. loss: 0.014505\n",
      "Total training time: 0.02 seconds.\n",
      "-- Epoch 7\n",
      "Norm: 0.98, NNZs: 300, Bias: -3.530553, T: 73941, Avg. loss: 0.013931\n",
      "Total training time: 0.02 seconds.\n",
      "-- Epoch 8\n",
      "Norm: 0.96, NNZs: 300, Bias: -3.391484, T: 84504, Avg. loss: 0.013925\n",
      "Total training time: 0.03 seconds.\n",
      "-- Epoch 9\n",
      "Norm: 0.95, NNZs: 300, Bias: -3.268336, T: 95067, Avg. loss: 0.013527\n",
      "Total training time: 0.03 seconds.\n",
      "Convergence after 9 epochs took 0.03 seconds\n",
      "-- Epoch 1\n",
      "Norm: 3.22, NNZs: 300, Bias: -8.389079, T: 10563, Avg. loss: 0.135761\n",
      "Total training time: 0.00 seconds.\n",
      "-- Epoch 2\n",
      "Norm: 2.85, NNZs: 300, Bias: -7.466108, T: 21126, Avg. loss: 0.055444\n",
      "Total training time: 0.01 seconds.\n",
      "-- Epoch 3\n",
      "Norm: 2.76, NNZs: 300, Bias: -6.930877, T: 31689, Avg. loss: 0.047247\n",
      "Total training time: 0.01 seconds.\n",
      "-- Epoch 4\n",
      "Norm: 2.83, NNZs: 300, Bias: -6.492577, T: 42252, Avg. loss: 0.043956\n",
      "Total training time: 0.01 seconds.\n",
      "-- Epoch 5\n",
      "Norm: 2.69, NNZs: 300, Bias: -6.176840, T: 52815, Avg. loss: 0.042313\n",
      "Total training time: 0.02 seconds.\n",
      "-- Epoch 6\n",
      "Norm: 2.62, NNZs: 300, Bias: -5.948726, T: 63378, Avg. loss: 0.040253\n",
      "Total training time: 0.02 seconds.\n",
      "-- Epoch 7\n",
      "Norm: 2.60, NNZs: 300, Bias: -5.701213, T: 73941, Avg. loss: 0.039839\n",
      "Total training time: 0.02 seconds.\n",
      "-- Epoch 8\n",
      "Norm: 2.47, NNZs: 300, Bias: -5.574534, T: 84504, Avg. loss: 0.038566\n",
      "Total training time: 0.03 seconds.\n",
      "-- Epoch 9\n",
      "Norm: 2.46, NNZs: 300, Bias: -5.395179, T: 95067, Avg. loss: 0.038645\n",
      "Total training time: 0.03 seconds.\n",
      "-- Epoch 10\n",
      "Norm: 2.42, NNZs: 300, Bias: -5.264959, T: 105630, Avg. loss: 0.037417\n",
      "Total training time: 0.03 seconds.\n",
      "-- Epoch 11\n",
      "Norm: 2.45, NNZs: 300, Bias: -5.111851, T: 116193, Avg. loss: 0.037505\n",
      "Total training time: 0.03 seconds.\n",
      "-- Epoch 12\n",
      "Norm: 2.42, NNZs: 300, Bias: -4.998059, T: 126756, Avg. loss: 0.037099\n",
      "Total training time: 0.04 seconds.\n",
      "-- Epoch 13\n",
      "Norm: 2.36, NNZs: 300, Bias: -4.915109, T: 137319, Avg. loss: 0.037213\n",
      "Total training time: 0.04 seconds.\n",
      "-- Epoch 14\n",
      "Norm: 2.31, NNZs: 300, Bias: -4.844440, T: 147882, Avg. loss: 0.036339\n",
      "Total training time: 0.04 seconds.\n",
      "-- Epoch 15\n",
      "Norm: 2.32, NNZs: 300, Bias: -4.739568, T: 158445, Avg. loss: 0.036475\n",
      "Total training time: 0.05 seconds.\n",
      "Convergence after 15 epochs took 0.05 seconds\n",
      "-- Epoch 1\n",
      "Norm: 5.29, NNZs: 300, Bias: -1.469069, T: 10563, Avg. loss: 0.710626\n",
      "Total training time: 0.00 seconds.\n",
      "-- Epoch 2\n",
      "Norm: 3.80, NNZs: 300, Bias: -1.646127, T: 21126, Avg. loss: 0.319120\n",
      "Total training time: 0.01 seconds.\n",
      "-- Epoch 3\n",
      "Norm: 3.42, NNZs: 300, Bias: -1.537201, T: 31689, Avg. loss: 0.281343\n",
      "Total training time: 0.01 seconds.\n",
      "-- Epoch 4\n",
      "Norm: 3.24, NNZs: 300, Bias: -1.487301, T: 42252, Avg. loss: 0.267941\n",
      "Total training time: 0.01 seconds.\n",
      "-- Epoch 5\n",
      "Norm: 2.94, NNZs: 300, Bias: -1.464580, T: 52815, Avg. loss: 0.262582\n",
      "Total training time: 0.02 seconds.\n",
      "-- Epoch 6\n",
      "Norm: 2.78, NNZs: 300, Bias: -1.491541, T: 63378, Avg. loss: 0.255540\n",
      "Total training time: 0.02 seconds.\n",
      "-- Epoch 7\n",
      "Norm: 2.65, NNZs: 300, Bias: -1.387416, T: 73941, Avg. loss: 0.252207\n",
      "Total training time: 0.03 seconds.\n",
      "-- Epoch 8\n",
      "Norm: 2.49, NNZs: 300, Bias: -1.387597, T: 84504, Avg. loss: 0.250117\n",
      "Total training time: 0.03 seconds.\n",
      "-- Epoch 9\n",
      "Norm: 2.39, NNZs: 300, Bias: -1.367134, T: 95067, Avg. loss: 0.247628\n",
      "Total training time: 0.03 seconds.\n",
      "-- Epoch 10\n",
      "Norm: 2.30, NNZs: 300, Bias: -1.346113, T: 105630, Avg. loss: 0.245902\n",
      "Total training time: 0.04 seconds.\n",
      "-- Epoch 11\n",
      "Norm: 2.19, NNZs: 300, Bias: -1.317812, T: 116193, Avg. loss: 0.245482\n",
      "Total training time: 0.04 seconds.\n",
      "-- Epoch 12\n",
      "Norm: 2.12, NNZs: 300, Bias: -1.317344, T: 126756, Avg. loss: 0.243494\n",
      "Total training time: 0.04 seconds.\n",
      "-- Epoch 13\n",
      "Norm: 2.05, NNZs: 300, Bias: -1.307954, T: 137319, Avg. loss: 0.242755\n",
      "Total training time: 0.05 seconds.\n",
      "-- Epoch 14\n",
      "Norm: 1.97, NNZs: 300, Bias: -1.286101, T: 147882, Avg. loss: 0.242600\n",
      "Total training time: 0.05 seconds.\n",
      "-- Epoch 15\n",
      "Norm: 1.93, NNZs: 300, Bias: -1.252680, T: 158445, Avg. loss: 0.240867\n",
      "Total training time: 0.06 seconds.\n",
      "-- Epoch 16\n",
      "Norm: 1.89, NNZs: 300, Bias: -1.252345, T: 169008, Avg. loss: 0.240386\n",
      "Total training time: 0.06 seconds.\n",
      "-- Epoch 17\n",
      "Norm: 1.83, NNZs: 300, Bias: -1.235244, T: 179571, Avg. loss: 0.240581\n",
      "Total training time: 0.06 seconds.\n",
      "-- Epoch 18\n",
      "Norm: 1.78, NNZs: 300, Bias: -1.230289, T: 190134, Avg. loss: 0.239789\n",
      "Total training time: 0.07 seconds.\n",
      "-- Epoch 19\n",
      "Norm: 1.74, NNZs: 300, Bias: -1.225030, T: 200697, Avg. loss: 0.239395\n",
      "Total training time: 0.07 seconds.\n",
      "-- Epoch 20\n",
      "Norm: 1.71, NNZs: 300, Bias: -1.200844, T: 211260, Avg. loss: 0.239099\n",
      "Total training time: 0.08 seconds.\n",
      "Convergence after 20 epochs took 0.08 seconds\n",
      "-- Epoch 1\n",
      "Norm: 2.96, NNZs: 300, Bias: -5.550136, T: 10563, Avg. loss: 0.140527\n",
      "Total training time: 0.00 seconds.\n",
      "-- Epoch 2\n",
      "Norm: 2.18, NNZs: 300, Bias: -4.624824, T: 21126, Avg. loss: 0.061692\n",
      "Total training time: 0.01 seconds.\n",
      "-- Epoch 3\n",
      "Norm: 1.87, NNZs: 300, Bias: -3.906067, T: 31689, Avg. loss: 0.053547\n",
      "Total training time: 0.01 seconds.\n",
      "-- Epoch 4\n",
      "Norm: 1.77, NNZs: 300, Bias: -3.377633, T: 42252, Avg. loss: 0.048777\n",
      "Total training time: 0.01 seconds.\n",
      "-- Epoch 5\n",
      "Norm: 1.52, NNZs: 300, Bias: -3.112719, T: 52815, Avg. loss: 0.046402\n",
      "Total training time: 0.02 seconds.\n",
      "-- Epoch 6\n",
      "Norm: 1.39, NNZs: 300, Bias: -2.856486, T: 63378, Avg. loss: 0.044672\n",
      "Total training time: 0.02 seconds.\n",
      "-- Epoch 7\n",
      "Norm: 1.32, NNZs: 300, Bias: -2.608517, T: 73941, Avg. loss: 0.043584\n",
      "Total training time: 0.02 seconds.\n",
      "-- Epoch 8\n",
      "Norm: 1.23, NNZs: 300, Bias: -2.419099, T: 84504, Avg. loss: 0.042818\n",
      "Total training time: 0.03 seconds.\n",
      "-- Epoch 9\n",
      "Norm: 1.16, NNZs: 300, Bias: -2.252276, T: 95067, Avg. loss: 0.041948\n",
      "Total training time: 0.03 seconds.\n",
      "-- Epoch 10\n",
      "Norm: 1.11, NNZs: 300, Bias: -2.103308, T: 105630, Avg. loss: 0.041326\n",
      "Total training time: 0.03 seconds.\n",
      "-- Epoch 11\n",
      "Norm: 1.06, NNZs: 300, Bias: -1.976283, T: 116193, Avg. loss: 0.040842\n",
      "Total training time: 0.03 seconds.\n",
      "-- Epoch 12\n",
      "Norm: 1.01, NNZs: 300, Bias: -1.884970, T: 126756, Avg. loss: 0.040248\n",
      "Total training time: 0.04 seconds.\n",
      "Convergence after 12 epochs took 0.04 seconds\n",
      "-- Epoch 1\n",
      "Norm: 4.57, NNZs: 300, Bias: -2.922543, T: 10563, Avg. loss: 0.125722\n",
      "Total training time: 0.00 seconds.\n",
      "-- Epoch 2\n",
      "Norm: 3.79, NNZs: 300, Bias: -1.977541, T: 21126, Avg. loss: 0.047204\n",
      "Total training time: 0.01 seconds.\n",
      "-- Epoch 3\n",
      "Norm: 3.45, NNZs: 300, Bias: -1.632059, T: 31689, Avg. loss: 0.039646\n",
      "Total training time: 0.01 seconds.\n",
      "-- Epoch 4\n",
      "Norm: 3.27, NNZs: 300, Bias: -1.353817, T: 42252, Avg. loss: 0.037116\n",
      "Total training time: 0.01 seconds.\n",
      "-- Epoch 5\n",
      "Norm: 3.13, NNZs: 300, Bias: -1.246379, T: 52815, Avg. loss: 0.035745\n",
      "Total training time: 0.02 seconds.\n",
      "-- Epoch 6\n",
      "Norm: 3.00, NNZs: 300, Bias: -1.093166, T: 63378, Avg. loss: 0.035644\n",
      "Total training time: 0.02 seconds.\n",
      "-- Epoch 7\n",
      "Norm: 2.95, NNZs: 300, Bias: -1.047638, T: 73941, Avg. loss: 0.034709\n",
      "Total training time: 0.02 seconds.\n",
      "-- Epoch 8\n",
      "Norm: 2.88, NNZs: 300, Bias: -0.983977, T: 84504, Avg. loss: 0.034461\n",
      "Total training time: 0.02 seconds.\n",
      "-- Epoch 9\n",
      "Norm: 2.84, NNZs: 300, Bias: -0.973323, T: 95067, Avg. loss: 0.034268\n",
      "Total training time: 0.03 seconds.\n",
      "-- Epoch 10\n",
      "Norm: 2.81, NNZs: 300, Bias: -1.011672, T: 105630, Avg. loss: 0.033951\n",
      "Total training time: 0.03 seconds.\n",
      "Convergence after 10 epochs took 0.03 seconds\n",
      "-- Epoch 1\n",
      "Norm: 3.44, NNZs: 300, Bias: -6.436885, T: 10563, Avg. loss: 0.311520\n",
      "Total training time: 0.00 seconds.\n",
      "-- Epoch 2\n",
      "Norm: 2.62, NNZs: 300, Bias: -5.539461, T: 21126, Avg. loss: 0.122403\n",
      "Total training time: 0.01 seconds.\n",
      "-- Epoch 3\n",
      "Norm: 2.28, NNZs: 300, Bias: -4.904100, T: 31689, Avg. loss: 0.103886\n",
      "Total training time: 0.01 seconds.\n",
      "-- Epoch 4\n",
      "Norm: 2.11, NNZs: 300, Bias: -4.415689, T: 42252, Avg. loss: 0.095771\n",
      "Total training time: 0.01 seconds.\n",
      "-- Epoch 5\n",
      "Norm: 1.89, NNZs: 300, Bias: -4.102699, T: 52815, Avg. loss: 0.090705\n",
      "Total training time: 0.02 seconds.\n",
      "-- Epoch 6\n",
      "Norm: 1.78, NNZs: 300, Bias: -3.788513, T: 63378, Avg. loss: 0.087805\n",
      "Total training time: 0.02 seconds.\n",
      "-- Epoch 7\n",
      "Norm: 1.65, NNZs: 300, Bias: -3.538315, T: 73941, Avg. loss: 0.085578\n",
      "Total training time: 0.02 seconds.\n",
      "-- Epoch 8\n",
      "Norm: 1.62, NNZs: 300, Bias: -3.285683, T: 84504, Avg. loss: 0.083368\n",
      "Total training time: 0.03 seconds.\n",
      "-- Epoch 9\n",
      "Norm: 1.51, NNZs: 300, Bias: -3.108021, T: 95067, Avg. loss: 0.082491\n",
      "Total training time: 0.03 seconds.\n",
      "-- Epoch 10\n",
      "Norm: 1.41, NNZs: 300, Bias: -2.965989, T: 105630, Avg. loss: 0.080966\n",
      "Total training time: 0.03 seconds.\n",
      "-- Epoch 11\n",
      "Norm: 1.37, NNZs: 300, Bias: -2.810347, T: 116193, Avg. loss: 0.079969\n",
      "Total training time: 0.04 seconds.\n",
      "-- Epoch 12\n",
      "Norm: 1.32, NNZs: 300, Bias: -2.669285, T: 126756, Avg. loss: 0.079302\n",
      "Total training time: 0.04 seconds.\n",
      "-- Epoch 13\n",
      "Norm: 1.26, NNZs: 300, Bias: -2.532256, T: 137319, Avg. loss: 0.078920\n",
      "Total training time: 0.04 seconds.\n",
      "-- Epoch 14\n",
      "Norm: 1.23, NNZs: 300, Bias: -2.419543, T: 147882, Avg. loss: 0.077862\n",
      "Total training time: 0.05 seconds.\n",
      "-- Epoch 15\n",
      "Norm: 1.19, NNZs: 300, Bias: -2.322375, T: 158445, Avg. loss: 0.077462\n",
      "Total training time: 0.05 seconds.\n",
      "-- Epoch 16\n",
      "Norm: 1.16, NNZs: 300, Bias: -2.230487, T: 169008, Avg. loss: 0.076837\n",
      "Total training time: 0.05 seconds.\n",
      "-- Epoch 17\n",
      "Norm: 1.12, NNZs: 300, Bias: -2.149944, T: 179571, Avg. loss: 0.076528\n",
      "Total training time: 0.06 seconds.\n",
      "-- Epoch 18\n",
      "Norm: 1.08, NNZs: 300, Bias: -2.073869, T: 190134, Avg. loss: 0.076217\n",
      "Total training time: 0.06 seconds.\n",
      "-- Epoch 19\n",
      "Norm: 1.06, NNZs: 300, Bias: -1.986522, T: 200697, Avg. loss: 0.075931\n",
      "Total training time: 0.06 seconds.\n",
      "Convergence after 19 epochs took 0.06 seconds\n",
      "-- Epoch 1\n",
      "Norm: 4.26, NNZs: 300, Bias: -2.322987, T: 10563, Avg. loss: 0.246691\n",
      "Total training time: 0.00 seconds.\n",
      "-- Epoch 2\n",
      "Norm: 3.49, NNZs: 300, Bias: -1.664272, T: 21126, Avg. loss: 0.092868\n",
      "Total training time: 0.01 seconds.\n",
      "-- Epoch 3\n",
      "Norm: 2.86, NNZs: 300, Bias: -1.384351, T: 31689, Avg. loss: 0.081556\n",
      "Total training time: 0.01 seconds.\n",
      "-- Epoch 4\n",
      "Norm: 2.58, NNZs: 300, Bias: -1.161919, T: 42252, Avg. loss: 0.075681\n",
      "Total training time: 0.01 seconds.\n",
      "-- Epoch 5\n",
      "Norm: 2.35, NNZs: 300, Bias: -1.062012, T: 52815, Avg. loss: 0.073505\n",
      "Total training time: 0.02 seconds.\n",
      "-- Epoch 6\n",
      "Norm: 2.19, NNZs: 300, Bias: -1.026428, T: 63378, Avg. loss: 0.071322\n",
      "Total training time: 0.02 seconds.\n",
      "-- Epoch 7\n",
      "Norm: 2.08, NNZs: 300, Bias: -1.024431, T: 73941, Avg. loss: 0.069892\n",
      "Total training time: 0.02 seconds.\n",
      "-- Epoch 8\n",
      "Norm: 1.99, NNZs: 300, Bias: -1.011894, T: 84504, Avg. loss: 0.069242\n",
      "Total training time: 0.03 seconds.\n",
      "-- Epoch 9\n",
      "Norm: 1.91, NNZs: 300, Bias: -1.011688, T: 95067, Avg. loss: 0.068408\n",
      "Total training time: 0.03 seconds.\n",
      "-- Epoch 10\n",
      "Norm: 1.84, NNZs: 300, Bias: -1.001531, T: 105630, Avg. loss: 0.068015\n",
      "Total training time: 0.04 seconds.\n",
      "-- Epoch 11\n",
      "Norm: 1.78, NNZs: 300, Bias: -1.016908, T: 116193, Avg. loss: 0.067503\n",
      "Total training time: 0.04 seconds.\n",
      "-- Epoch 12\n",
      "Norm: 1.73, NNZs: 300, Bias: -1.008009, T: 126756, Avg. loss: 0.067041\n",
      "Total training time: 0.04 seconds.\n",
      "Convergence after 12 epochs took 0.04 seconds\n",
      "-- Epoch 1\n",
      "Norm: 3.18, NNZs: 300, Bias: -4.214548, T: 10563, Avg. loss: 0.072249\n",
      "Total training time: 0.00 seconds.\n",
      "-- Epoch 2\n",
      "Norm: 2.48, NNZs: 300, Bias: -3.660604, T: 21126, Avg. loss: 0.030460\n",
      "Total training time: 0.01 seconds.\n",
      "-- Epoch 3\n",
      "Norm: 2.18, NNZs: 300, Bias: -3.171871, T: 31689, Avg. loss: 0.027650\n",
      "Total training time: 0.01 seconds.\n",
      "-- Epoch 4\n",
      "Norm: 1.90, NNZs: 300, Bias: -2.986036, T: 42252, Avg. loss: 0.025562\n",
      "Total training time: 0.02 seconds.\n",
      "-- Epoch 5\n",
      "Norm: 1.71, NNZs: 300, Bias: -2.792264, T: 52815, Avg. loss: 0.024945\n",
      "Total training time: 0.02 seconds.\n",
      "-- Epoch 6\n",
      "Norm: 1.62, NNZs: 300, Bias: -2.615143, T: 63378, Avg. loss: 0.024180\n",
      "Total training time: 0.02 seconds.\n",
      "-- Epoch 7\n",
      "Norm: 1.55, NNZs: 300, Bias: -2.454383, T: 73941, Avg. loss: 0.023718\n",
      "Total training time: 0.02 seconds.\n",
      "-- Epoch 8\n",
      "Norm: 1.44, NNZs: 300, Bias: -2.356102, T: 84504, Avg. loss: 0.023641\n",
      "Total training time: 0.03 seconds.\n",
      "-- Epoch 9\n",
      "Norm: 1.37, NNZs: 300, Bias: -2.255485, T: 95067, Avg. loss: 0.023338\n",
      "Total training time: 0.03 seconds.\n",
      "Convergence after 9 epochs took 0.03 seconds\n",
      "-- Epoch 1\n",
      "Norm: 1.28, NNZs: 300, Bias: -3.798570, T: 10563, Avg. loss: 0.052050\n",
      "Total training time: 0.00 seconds.\n",
      "-- Epoch 2\n",
      "Norm: 1.04, NNZs: 300, Bias: -3.295657, T: 21126, Avg. loss: 0.017691\n",
      "Total training time: 0.01 seconds.\n",
      "-- Epoch 3\n",
      "Norm: 0.94, NNZs: 300, Bias: -2.950201, T: 31689, Avg. loss: 0.015040\n",
      "Total training time: 0.01 seconds.\n",
      "-- Epoch 4\n",
      "Norm: 0.88, NNZs: 300, Bias: -2.732956, T: 42252, Avg. loss: 0.013906\n",
      "Total training time: 0.01 seconds.\n",
      "-- Epoch 5\n",
      "Norm: 0.84, NNZs: 300, Bias: -2.544003, T: 52815, Avg. loss: 0.013355\n",
      "Total training time: 0.02 seconds.\n",
      "-- Epoch 6\n",
      "Norm: 0.75, NNZs: 300, Bias: -2.423876, T: 63378, Avg. loss: 0.012860\n",
      "Total training time: 0.02 seconds.\n",
      "-- Epoch 7\n",
      "Norm: 0.73, NNZs: 300, Bias: -2.292541, T: 73941, Avg. loss: 0.012621\n",
      "Total training time: 0.02 seconds.\n",
      "-- Epoch 8\n",
      "Norm: 0.66, NNZs: 300, Bias: -2.204279, T: 84504, Avg. loss: 0.012369\n",
      "Total training time: 0.03 seconds.\n",
      "-- Epoch 9\n",
      "Norm: 0.64, NNZs: 300, Bias: -2.104114, T: 95067, Avg. loss: 0.012151\n",
      "Total training time: 0.03 seconds.\n",
      "Convergence after 9 epochs took 0.03 seconds\n",
      "-- Epoch 1\n",
      "Norm: 3.08, NNZs: 300, Bias: -5.385210, T: 10563, Avg. loss: 0.126549\n",
      "Total training time: 0.00 seconds.\n",
      "-- Epoch 2\n",
      "Norm: 2.63, NNZs: 300, Bias: -4.734495, T: 21126, Avg. loss: 0.042039\n",
      "Total training time: 0.01 seconds.\n",
      "-- Epoch 3\n",
      "Norm: 2.59, NNZs: 300, Bias: -4.279589, T: 31689, Avg. loss: 0.036569\n",
      "Total training time: 0.01 seconds.\n",
      "-- Epoch 4\n",
      "Norm: 2.44, NNZs: 300, Bias: -3.964440, T: 42252, Avg. loss: 0.034062\n",
      "Total training time: 0.01 seconds.\n",
      "-- Epoch 5\n",
      "Norm: 2.31, NNZs: 300, Bias: -3.758685, T: 52815, Avg. loss: 0.032531\n",
      "Total training time: 0.02 seconds.\n",
      "-- Epoch 6\n",
      "Norm: 2.23, NNZs: 300, Bias: -3.581697, T: 63378, Avg. loss: 0.031793\n",
      "Total training time: 0.02 seconds.\n",
      "-- Epoch 7\n",
      "Norm: 2.23, NNZs: 300, Bias: -3.404670, T: 73941, Avg. loss: 0.030704\n",
      "Total training time: 0.02 seconds.\n",
      "-- Epoch 8\n",
      "Norm: 2.15, NNZs: 300, Bias: -3.277668, T: 84504, Avg. loss: 0.030728\n",
      "Total training time: 0.03 seconds.\n",
      "-- Epoch 9\n",
      "Norm: 2.15, NNZs: 300, Bias: -3.155124, T: 95067, Avg. loss: 0.030019\n",
      "Total training time: 0.03 seconds.\n",
      "-- Epoch 10\n",
      "Norm: 2.12, NNZs: 300, Bias: -3.064001, T: 105630, Avg. loss: 0.029874\n",
      "Total training time: 0.03 seconds.\n",
      "-- Epoch 11\n",
      "Norm: 2.09, NNZs: 300, Bias: -2.972637, T: 116193, Avg. loss: 0.029851\n",
      "Total training time: 0.04 seconds.\n",
      "-- Epoch 12\n",
      "Norm: 2.08, NNZs: 300, Bias: -2.890120, T: 126756, Avg. loss: 0.029292\n",
      "Total training time: 0.04 seconds.\n",
      "Convergence after 12 epochs took 0.04 seconds\n",
      "-- Epoch 1\n",
      "Norm: 2.06, NNZs: 300, Bias: -3.909274, T: 10563, Avg. loss: 0.071023\n",
      "Total training time: 0.00 seconds.\n",
      "-- Epoch 2\n",
      "Norm: 1.54, NNZs: 300, Bias: -3.421047, T: 21126, Avg. loss: 0.025763\n",
      "Total training time: 0.01 seconds.\n",
      "-- Epoch 3\n",
      "Norm: 1.43, NNZs: 300, Bias: -3.012397, T: 31689, Avg. loss: 0.021406\n",
      "Total training time: 0.01 seconds.\n",
      "-- Epoch 4\n",
      "Norm: 1.29, NNZs: 300, Bias: -2.766161, T: 42252, Avg. loss: 0.019833\n",
      "Total training time: 0.01 seconds.\n",
      "-- Epoch 5\n",
      "Norm: 1.21, NNZs: 300, Bias: -2.574760, T: 52815, Avg. loss: 0.018680\n",
      "Total training time: 0.02 seconds.\n",
      "-- Epoch 6\n",
      "Norm: 1.14, NNZs: 300, Bias: -2.422164, T: 63378, Avg. loss: 0.018196\n",
      "Total training time: 0.02 seconds.\n",
      "-- Epoch 7\n",
      "Norm: 1.08, NNZs: 300, Bias: -2.305436, T: 73941, Avg. loss: 0.017601\n",
      "Total training time: 0.02 seconds.\n",
      "-- Epoch 8\n",
      "Norm: 1.06, NNZs: 300, Bias: -2.166936, T: 84504, Avg. loss: 0.017441\n",
      "Total training time: 0.03 seconds.\n",
      "-- Epoch 9\n",
      "Norm: 1.01, NNZs: 300, Bias: -2.078105, T: 95067, Avg. loss: 0.017118\n",
      "Total training time: 0.03 seconds.\n",
      "-- Epoch 10\n",
      "Norm: 0.97, NNZs: 300, Bias: -1.998712, T: 105630, Avg. loss: 0.016872\n",
      "Total training time: 0.03 seconds.\n",
      "Convergence after 10 epochs took 0.03 seconds\n",
      "-- Epoch 1\n",
      "Norm: 3.59, NNZs: 300, Bias: -2.418763, T: 10563, Avg. loss: 0.218712\n",
      "Total training time: 0.00 seconds.\n",
      "-- Epoch 2\n",
      "Norm: 2.46, NNZs: 300, Bias: -1.831669, T: 21126, Avg. loss: 0.096342\n",
      "Total training time: 0.01 seconds.\n",
      "-- Epoch 3\n",
      "Norm: 2.18, NNZs: 300, Bias: -1.536186, T: 31689, Avg. loss: 0.083159\n",
      "Total training time: 0.01 seconds.\n",
      "-- Epoch 4\n",
      "Norm: 1.93, NNZs: 300, Bias: -1.409176, T: 42252, Avg. loss: 0.078264\n",
      "Total training time: 0.01 seconds.\n",
      "-- Epoch 5\n",
      "Norm: 1.74, NNZs: 300, Bias: -1.260363, T: 52815, Avg. loss: 0.075559\n",
      "Total training time: 0.02 seconds.\n",
      "-- Epoch 6\n",
      "Norm: 1.60, NNZs: 300, Bias: -1.175462, T: 63378, Avg. loss: 0.073605\n",
      "Total training time: 0.02 seconds.\n",
      "-- Epoch 7\n",
      "Norm: 1.47, NNZs: 300, Bias: -1.115726, T: 73941, Avg. loss: 0.072636\n",
      "Total training time: 0.02 seconds.\n",
      "-- Epoch 8\n",
      "Norm: 1.37, NNZs: 300, Bias: -1.076594, T: 84504, Avg. loss: 0.071530\n",
      "Total training time: 0.03 seconds.\n",
      "-- Epoch 9\n",
      "Norm: 1.31, NNZs: 300, Bias: -1.053865, T: 95067, Avg. loss: 0.070705\n",
      "Total training time: 0.03 seconds.\n",
      "-- Epoch 10\n",
      "Norm: 1.27, NNZs: 300, Bias: -1.034920, T: 105630, Avg. loss: 0.069977\n",
      "Total training time: 0.03 seconds.\n",
      "-- Epoch 11\n",
      "Norm: 1.21, NNZs: 300, Bias: -1.016960, T: 116193, Avg. loss: 0.069883\n",
      "Total training time: 0.04 seconds.\n",
      "-- Epoch 12\n",
      "Norm: 1.15, NNZs: 300, Bias: -1.016101, T: 126756, Avg. loss: 0.069612\n",
      "Total training time: 0.04 seconds.\n",
      "-- Epoch 13\n",
      "Norm: 1.11, NNZs: 300, Bias: -0.993642, T: 137319, Avg. loss: 0.069152\n",
      "Total training time: 0.04 seconds.\n",
      "Convergence after 13 epochs took 0.04 seconds\n",
      "-- Epoch 1\n",
      "Norm: 1.65, NNZs: 300, Bias: -5.183393, T: 10563, Avg. loss: 0.028285\n",
      "Total training time: 0.00 seconds.\n",
      "-- Epoch 2\n",
      "Norm: 1.62, NNZs: 300, Bias: -4.760055, T: 21126, Avg. loss: 0.011594\n",
      "Total training time: 0.01 seconds.\n",
      "-- Epoch 3\n",
      "Norm: 1.48, NNZs: 300, Bias: -4.539535, T: 31689, Avg. loss: 0.009889\n",
      "Total training time: 0.01 seconds.\n",
      "-- Epoch 4\n",
      "Norm: 1.44, NNZs: 300, Bias: -4.351754, T: 42252, Avg. loss: 0.009356\n",
      "Total training time: 0.01 seconds.\n",
      "-- Epoch 5\n",
      "Norm: 1.35, NNZs: 300, Bias: -4.248820, T: 52815, Avg. loss: 0.008720\n",
      "Total training time: 0.02 seconds.\n",
      "-- Epoch 6\n",
      "Norm: 1.28, NNZs: 300, Bias: -4.143544, T: 63378, Avg. loss: 0.008803\n",
      "Total training time: 0.02 seconds.\n",
      "-- Epoch 7\n",
      "Norm: 1.28, NNZs: 300, Bias: -4.040109, T: 73941, Avg. loss: 0.008452\n",
      "Total training time: 0.02 seconds.\n",
      "-- Epoch 8\n",
      "Norm: 1.26, NNZs: 300, Bias: -3.952195, T: 84504, Avg. loss: 0.008386\n",
      "Total training time: 0.03 seconds.\n",
      "Convergence after 8 epochs took 0.03 seconds\n",
      "-- Epoch 1\n",
      "Norm: 3.46, NNZs: 300, Bias: -2.638665, T: 10563, Avg. loss: 0.234008\n",
      "Total training time: 0.00 seconds.\n",
      "-- Epoch 2\n",
      "Norm: 2.67, NNZs: 300, Bias: -2.137620, T: 21126, Avg. loss: 0.083844\n",
      "Total training time: 0.01 seconds.\n",
      "-- Epoch 3\n",
      "Norm: 2.39, NNZs: 300, Bias: -1.920808, T: 31689, Avg. loss: 0.071848\n",
      "Total training time: 0.01 seconds.\n",
      "-- Epoch 4\n",
      "Norm: 2.15, NNZs: 300, Bias: -1.685748, T: 42252, Avg. loss: 0.067797\n",
      "Total training time: 0.01 seconds.\n",
      "-- Epoch 5\n",
      "Norm: 1.95, NNZs: 300, Bias: -1.647843, T: 52815, Avg. loss: 0.065012\n",
      "Total training time: 0.02 seconds.\n",
      "-- Epoch 6\n",
      "Norm: 1.83, NNZs: 300, Bias: -1.539166, T: 63378, Avg. loss: 0.063190\n",
      "Total training time: 0.02 seconds.\n",
      "-- Epoch 7\n",
      "Norm: 1.73, NNZs: 300, Bias: -1.454246, T: 73941, Avg. loss: 0.061992\n",
      "Total training time: 0.02 seconds.\n",
      "-- Epoch 8\n",
      "Norm: 1.63, NNZs: 300, Bias: -1.394315, T: 84504, Avg. loss: 0.061405\n",
      "Total training time: 0.03 seconds.\n",
      "-- Epoch 9\n",
      "Norm: 1.56, NNZs: 300, Bias: -1.340578, T: 95067, Avg. loss: 0.060622\n",
      "Total training time: 0.03 seconds.\n",
      "-- Epoch 10\n",
      "Norm: 1.49, NNZs: 300, Bias: -1.329848, T: 105630, Avg. loss: 0.060143\n",
      "Total training time: 0.04 seconds.\n",
      "-- Epoch 11\n",
      "Norm: 1.43, NNZs: 300, Bias: -1.284820, T: 116193, Avg. loss: 0.059858\n",
      "Total training time: 0.04 seconds.\n",
      "-- Epoch 12\n",
      "Norm: 1.38, NNZs: 300, Bias: -1.275799, T: 126756, Avg. loss: 0.059453\n",
      "Total training time: 0.04 seconds.\n",
      "Convergence after 12 epochs took 0.04 seconds\n",
      "-- Epoch 1\n",
      "Norm: 2.31, NNZs: 300, Bias: -2.860000, T: 10563, Avg. loss: 0.072645\n",
      "Total training time: 0.00 seconds.\n",
      "-- Epoch 2\n",
      "Norm: 1.69, NNZs: 300, Bias: -2.158745, T: 21126, Avg. loss: 0.031222\n",
      "Total training time: 0.01 seconds.\n",
      "-- Epoch 3\n",
      "Norm: 1.53, NNZs: 300, Bias: -1.780417, T: 31689, Avg. loss: 0.025955\n",
      "Total training time: 0.01 seconds.\n",
      "-- Epoch 4\n",
      "Norm: 1.33, NNZs: 300, Bias: -1.569602, T: 42252, Avg. loss: 0.024446\n",
      "Total training time: 0.01 seconds.\n",
      "-- Epoch 5\n",
      "Norm: 1.20, NNZs: 300, Bias: -1.444090, T: 52815, Avg. loss: 0.023319\n",
      "Total training time: 0.02 seconds.\n",
      "-- Epoch 6\n",
      "Norm: 1.13, NNZs: 300, Bias: -1.306857, T: 63378, Avg. loss: 0.022506\n",
      "Total training time: 0.02 seconds.\n",
      "-- Epoch 7\n",
      "Norm: 1.07, NNZs: 300, Bias: -1.221744, T: 73941, Avg. loss: 0.022148\n",
      "Total training time: 0.02 seconds.\n",
      "-- Epoch 8\n",
      "Norm: 1.02, NNZs: 300, Bias: -1.172284, T: 84504, Avg. loss: 0.021758\n",
      "Total training time: 0.03 seconds.\n",
      "-- Epoch 9\n",
      "Norm: 0.96, NNZs: 300, Bias: -1.138672, T: 95067, Avg. loss: 0.021751\n",
      "Total training time: 0.03 seconds.\n",
      "-- Epoch 10\n",
      "Norm: 0.92, NNZs: 300, Bias: -1.069403, T: 105630, Avg. loss: 0.021441\n",
      "Total training time: 0.03 seconds.\n",
      "Convergence after 10 epochs took 0.03 seconds\n",
      "-- Epoch 1\n",
      "Norm: 1.83, NNZs: 300, Bias: -4.620670, T: 10563, Avg. loss: 0.106124\n",
      "Total training time: 0.00 seconds.\n",
      "-- Epoch 2\n",
      "Norm: 1.29, NNZs: 300, Bias: -4.044520, T: 21126, Avg. loss: 0.037572\n",
      "Total training time: 0.01 seconds.\n",
      "-- Epoch 3\n",
      "Norm: 1.21, NNZs: 300, Bias: -3.580206, T: 31689, Avg. loss: 0.031059\n",
      "Total training time: 0.01 seconds.\n",
      "-- Epoch 4\n",
      "Norm: 1.08, NNZs: 300, Bias: -3.280576, T: 42252, Avg. loss: 0.028719\n",
      "Total training time: 0.01 seconds.\n",
      "-- Epoch 5\n",
      "Norm: 0.98, NNZs: 300, Bias: -3.071352, T: 52815, Avg. loss: 0.026935\n",
      "Total training time: 0.02 seconds.\n",
      "-- Epoch 6\n",
      "Norm: 0.92, NNZs: 300, Bias: -2.883087, T: 63378, Avg. loss: 0.026198\n",
      "Total training time: 0.02 seconds.\n",
      "-- Epoch 7\n",
      "Norm: 0.89, NNZs: 300, Bias: -2.710161, T: 73941, Avg. loss: 0.025529\n",
      "Total training time: 0.02 seconds.\n",
      "-- Epoch 8\n",
      "Norm: 0.82, NNZs: 300, Bias: -2.585312, T: 84504, Avg. loss: 0.024865\n",
      "Total training time: 0.03 seconds.\n",
      "-- Epoch 9\n",
      "Norm: 0.78, NNZs: 300, Bias: -2.474190, T: 95067, Avg. loss: 0.024391\n",
      "Total training time: 0.03 seconds.\n",
      "-- Epoch 10\n",
      "Norm: 0.76, NNZs: 300, Bias: -2.354779, T: 105630, Avg. loss: 0.024170\n",
      "Total training time: 0.03 seconds.\n",
      "Convergence after 10 epochs took 0.03 seconds\n",
      "-- Epoch 1\n",
      "Norm: 2.85, NNZs: 300, Bias: -1.030113, T: 10563, Avg. loss: 0.431839\n",
      "Total training time: 0.00 seconds.\n",
      "-- Epoch 2\n",
      "Norm: 2.00, NNZs: 300, Bias: -0.907764, T: 21126, Avg. loss: 0.182008\n",
      "Total training time: 0.01 seconds.\n",
      "-- Epoch 3\n",
      "Norm: 1.74, NNZs: 300, Bias: -0.922353, T: 31689, Avg. loss: 0.157037\n",
      "Total training time: 0.01 seconds.\n",
      "-- Epoch 4\n",
      "Norm: 1.46, NNZs: 300, Bias: -1.003043, T: 42252, Avg. loss: 0.147690\n",
      "Total training time: 0.01 seconds.\n",
      "-- Epoch 5\n",
      "Norm: 1.32, NNZs: 300, Bias: -0.952199, T: 52815, Avg. loss: 0.142229\n",
      "Total training time: 0.02 seconds.\n",
      "-- Epoch 6\n",
      "Norm: 1.16, NNZs: 300, Bias: -1.005608, T: 63378, Avg. loss: 0.138790\n",
      "Total training time: 0.02 seconds.\n",
      "-- Epoch 7\n",
      "Norm: 1.12, NNZs: 300, Bias: -1.018965, T: 73941, Avg. loss: 0.135908\n",
      "Total training time: 0.02 seconds.\n",
      "-- Epoch 8\n",
      "Norm: 1.02, NNZs: 300, Bias: -1.005196, T: 84504, Avg. loss: 0.134613\n",
      "Total training time: 0.03 seconds.\n",
      "-- Epoch 9\n",
      "Norm: 0.98, NNZs: 300, Bias: -0.992552, T: 95067, Avg. loss: 0.132951\n",
      "Total training time: 0.03 seconds.\n",
      "-- Epoch 10\n",
      "Norm: 0.90, NNZs: 300, Bias: -1.021549, T: 105630, Avg. loss: 0.132166\n",
      "Total training time: 0.03 seconds.\n",
      "-- Epoch 11\n",
      "Norm: 0.87, NNZs: 300, Bias: -1.020218, T: 116193, Avg. loss: 0.131064\n",
      "Total training time: 0.04 seconds.\n",
      "-- Epoch 12\n",
      "Norm: 0.83, NNZs: 300, Bias: -0.978920, T: 126756, Avg. loss: 0.130409\n",
      "Total training time: 0.04 seconds.\n",
      "-- Epoch 13\n",
      "Norm: 0.79, NNZs: 300, Bias: -1.001542, T: 137319, Avg. loss: 0.129873\n",
      "Total training time: 0.04 seconds.\n",
      "-- Epoch 14\n",
      "Norm: 0.76, NNZs: 300, Bias: -0.987296, T: 147882, Avg. loss: 0.129311\n",
      "Total training time: 0.05 seconds.\n",
      "-- Epoch 15\n",
      "Norm: 0.74, NNZs: 300, Bias: -0.993867, T: 158445, Avg. loss: 0.128837\n",
      "Total training time: 0.05 seconds.\n",
      "-- Epoch 16\n",
      "Norm: 0.72, NNZs: 300, Bias: -1.006547, T: 169008, Avg. loss: 0.128348\n",
      "Total training time: 0.05 seconds.\n",
      "Convergence after 16 epochs took 0.05 seconds\n",
      "-- Epoch 1\n",
      "Norm: 2.84, NNZs: 300, Bias: -4.508263, T: 10563, Avg. loss: 0.183090\n",
      "Total training time: 0.00 seconds.\n",
      "-- Epoch 2\n",
      "Norm: 2.07, NNZs: 300, Bias: -3.497409, T: 21126, Avg. loss: 0.070529\n",
      "Total training time: 0.01 seconds.\n",
      "-- Epoch 3\n",
      "Norm: 1.86, NNZs: 300, Bias: -2.952309, T: 31689, Avg. loss: 0.057611\n",
      "Total training time: 0.01 seconds.\n",
      "-- Epoch 4\n",
      "Norm: 1.56, NNZs: 300, Bias: -2.618396, T: 42252, Avg. loss: 0.053712\n",
      "Total training time: 0.01 seconds.\n",
      "-- Epoch 5\n",
      "Norm: 1.49, NNZs: 300, Bias: -2.299664, T: 52815, Avg. loss: 0.050491\n",
      "Total training time: 0.02 seconds.\n",
      "-- Epoch 6\n",
      "Norm: 1.36, NNZs: 300, Bias: -2.077462, T: 63378, Avg. loss: 0.049023\n",
      "Total training time: 0.02 seconds.\n",
      "-- Epoch 7\n",
      "Norm: 1.28, NNZs: 300, Bias: -1.903902, T: 73941, Avg. loss: 0.047483\n",
      "Total training time: 0.02 seconds.\n",
      "-- Epoch 8\n",
      "Norm: 1.19, NNZs: 300, Bias: -1.790220, T: 84504, Avg. loss: 0.046588\n",
      "Total training time: 0.03 seconds.\n",
      "-- Epoch 9\n",
      "Norm: 1.12, NNZs: 300, Bias: -1.678318, T: 95067, Avg. loss: 0.046000\n",
      "Total training time: 0.03 seconds.\n",
      "-- Epoch 10\n",
      "Norm: 1.06, NNZs: 300, Bias: -1.578686, T: 105630, Avg. loss: 0.045367\n",
      "Total training time: 0.03 seconds.\n",
      "-- Epoch 11\n",
      "Norm: 1.01, NNZs: 300, Bias: -1.488347, T: 116193, Avg. loss: 0.044854\n",
      "Total training time: 0.03 seconds.\n",
      "-- Epoch 12\n",
      "Norm: 0.98, NNZs: 300, Bias: -1.423137, T: 126756, Avg. loss: 0.044435\n",
      "Total training time: 0.04 seconds.\n",
      "Convergence after 12 epochs took 0.04 seconds\n",
      "-- Epoch 1\n",
      "Norm: 2.69, NNZs: 300, Bias: -4.696125, T: 10563, Avg. loss: 0.218413\n",
      "Total training time: 0.00 seconds.\n",
      "-- Epoch 2\n",
      "Norm: 2.08, NNZs: 300, Bias: -3.400584, T: 21126, Avg. loss: 0.092708\n",
      "Total training time: 0.01 seconds.\n",
      "-- Epoch 3\n",
      "Norm: 1.82, NNZs: 300, Bias: -2.648314, T: 31689, Avg. loss: 0.077771\n",
      "Total training time: 0.01 seconds.\n",
      "-- Epoch 4\n",
      "Norm: 1.63, NNZs: 300, Bias: -2.190328, T: 42252, Avg. loss: 0.070993\n",
      "Total training time: 0.01 seconds.\n",
      "-- Epoch 5\n",
      "Norm: 1.58, NNZs: 300, Bias: -1.877302, T: 52815, Avg. loss: 0.066586\n",
      "Total training time: 0.02 seconds.\n",
      "-- Epoch 6\n",
      "Norm: 1.45, NNZs: 300, Bias: -1.638457, T: 63378, Avg. loss: 0.064945\n",
      "Total training time: 0.02 seconds.\n",
      "-- Epoch 7\n",
      "Norm: 1.32, NNZs: 300, Bias: -1.462834, T: 73941, Avg. loss: 0.063639\n",
      "Total training time: 0.02 seconds.\n",
      "-- Epoch 8\n",
      "Norm: 1.22, NNZs: 300, Bias: -1.336665, T: 84504, Avg. loss: 0.062498\n",
      "Total training time: 0.03 seconds.\n",
      "-- Epoch 9\n",
      "Norm: 1.17, NNZs: 300, Bias: -1.225191, T: 95067, Avg. loss: 0.061224\n",
      "Total training time: 0.03 seconds.\n",
      "-- Epoch 10\n",
      "Norm: 1.09, NNZs: 300, Bias: -1.156172, T: 105630, Avg. loss: 0.060972\n",
      "Total training time: 0.03 seconds.\n",
      "-- Epoch 11\n",
      "Norm: 1.04, NNZs: 300, Bias: -1.120155, T: 116193, Avg. loss: 0.060250\n",
      "Total training time: 0.04 seconds.\n",
      "-- Epoch 12\n",
      "Norm: 1.00, NNZs: 300, Bias: -1.046138, T: 126756, Avg. loss: 0.059828\n",
      "Total training time: 0.04 seconds.\n",
      "-- Epoch 13\n",
      "Norm: 0.96, NNZs: 300, Bias: -1.016138, T: 137319, Avg. loss: 0.059545\n",
      "Total training time: 0.04 seconds.\n",
      "-- Epoch 14\n",
      "Norm: 0.92, NNZs: 300, Bias: -1.009235, T: 147882, Avg. loss: 0.059328\n",
      "Total training time: 0.05 seconds.\n",
      "Convergence after 14 epochs took 0.05 seconds\n",
      "-- Epoch 1\n",
      "Norm: 2.27, NNZs: 300, Bias: -2.091641, T: 10563, Avg. loss: 0.121401\n",
      "Total training time: 0.00 seconds.\n",
      "-- Epoch 2\n",
      "Norm: 1.49, NNZs: 300, Bias: -1.684344, T: 21126, Avg. loss: 0.049697\n",
      "Total training time: 0.01 seconds.\n",
      "-- Epoch 3\n",
      "Norm: 1.15, NNZs: 300, Bias: -1.276562, T: 31689, Avg. loss: 0.043333\n",
      "Total training time: 0.01 seconds.\n",
      "-- Epoch 4\n",
      "Norm: 0.94, NNZs: 300, Bias: -1.092746, T: 42252, Avg. loss: 0.040296\n",
      "Total training time: 0.01 seconds.\n",
      "-- Epoch 5\n",
      "Norm: 0.85, NNZs: 300, Bias: -1.026263, T: 52815, Avg. loss: 0.038336\n",
      "Total training time: 0.02 seconds.\n",
      "-- Epoch 6\n",
      "Norm: 0.76, NNZs: 300, Bias: -0.975210, T: 63378, Avg. loss: 0.037468\n",
      "Total training time: 0.02 seconds.\n",
      "-- Epoch 7\n",
      "Norm: 0.71, NNZs: 300, Bias: -0.976519, T: 73941, Avg. loss: 0.036704\n",
      "Total training time: 0.02 seconds.\n",
      "-- Epoch 8\n",
      "Norm: 0.70, NNZs: 300, Bias: -0.976401, T: 84504, Avg. loss: 0.035998\n",
      "Total training time: 0.03 seconds.\n",
      "-- Epoch 9\n",
      "Norm: 0.64, NNZs: 300, Bias: -0.987193, T: 95067, Avg. loss: 0.035965\n",
      "Total training time: 0.03 seconds.\n",
      "-- Epoch 10\n",
      "Norm: 0.63, NNZs: 300, Bias: -0.987930, T: 105630, Avg. loss: 0.035482\n",
      "Total training time: 0.03 seconds.\n",
      "Convergence after 10 epochs took 0.03 seconds\n",
      "-- Epoch 1\n",
      "Norm: 3.49, NNZs: 300, Bias: -6.888889, T: 10563, Avg. loss: 0.186076\n",
      "Total training time: 0.00 seconds.\n",
      "-- Epoch 2\n",
      "Norm: 2.92, NNZs: 300, Bias: -5.923741, T: 21126, Avg. loss: 0.073489\n",
      "Total training time: 0.01 seconds.\n",
      "-- Epoch 3\n",
      "Norm: 2.82, NNZs: 300, Bias: -5.327620, T: 31689, Avg. loss: 0.064567\n",
      "Total training time: 0.01 seconds.\n",
      "-- Epoch 4\n",
      "Norm: 2.54, NNZs: 300, Bias: -4.995769, T: 42252, Avg. loss: 0.060664\n",
      "Total training time: 0.01 seconds.\n",
      "-- Epoch 5\n",
      "Norm: 2.48, NNZs: 300, Bias: -4.657914, T: 52815, Avg. loss: 0.057273\n",
      "Total training time: 0.02 seconds.\n",
      "-- Epoch 6\n",
      "Norm: 2.40, NNZs: 300, Bias: -4.449480, T: 63378, Avg. loss: 0.056300\n",
      "Total training time: 0.02 seconds.\n",
      "-- Epoch 7\n",
      "Norm: 2.35, NNZs: 300, Bias: -4.259161, T: 73941, Avg. loss: 0.054885\n",
      "Total training time: 0.02 seconds.\n",
      "-- Epoch 8\n",
      "Norm: 2.29, NNZs: 300, Bias: -4.093517, T: 84504, Avg. loss: 0.054159\n",
      "Total training time: 0.03 seconds.\n",
      "-- Epoch 9\n",
      "Norm: 2.29, NNZs: 300, Bias: -3.926825, T: 95067, Avg. loss: 0.053171\n",
      "Total training time: 0.03 seconds.\n",
      "-- Epoch 10\n",
      "Norm: 2.25, NNZs: 300, Bias: -3.815856, T: 105630, Avg. loss: 0.052624\n",
      "Total training time: 0.03 seconds.\n",
      "-- Epoch 11\n",
      "Norm: 2.24, NNZs: 300, Bias: -3.681033, T: 116193, Avg. loss: 0.052495\n",
      "Total training time: 0.04 seconds.\n",
      "-- Epoch 12\n",
      "Norm: 2.22, NNZs: 300, Bias: -3.576459, T: 126756, Avg. loss: 0.051693\n",
      "Total training time: 0.04 seconds.\n",
      "Convergence after 12 epochs took 0.04 seconds\n",
      "-- Epoch 1\n",
      "Norm: 3.14, NNZs: 300, Bias: 0.392626, T: 10563, Avg. loss: 0.620587\n",
      "Total training time: 0.00 seconds.\n",
      "-- Epoch 2\n",
      "Norm: 2.02, NNZs: 300, Bias: -0.167211, T: 21126, Avg. loss: 0.259675\n",
      "Total training time: 0.01 seconds.\n",
      "-- Epoch 3\n",
      "Norm: 1.72, NNZs: 300, Bias: -0.567679, T: 31689, Avg. loss: 0.227498\n",
      "Total training time: 0.01 seconds.\n",
      "-- Epoch 4\n",
      "Norm: 1.52, NNZs: 300, Bias: -0.718396, T: 42252, Avg. loss: 0.214315\n",
      "Total training time: 0.02 seconds.\n",
      "-- Epoch 5\n",
      "Norm: 1.32, NNZs: 300, Bias: -0.775436, T: 52815, Avg. loss: 0.206988\n",
      "Total training time: 0.02 seconds.\n",
      "-- Epoch 6\n",
      "Norm: 1.15, NNZs: 300, Bias: -0.843733, T: 63378, Avg. loss: 0.202508\n",
      "Total training time: 0.02 seconds.\n",
      "-- Epoch 7\n",
      "Norm: 1.04, NNZs: 300, Bias: -0.840684, T: 73941, Avg. loss: 0.198918\n",
      "Total training time: 0.03 seconds.\n",
      "-- Epoch 8\n",
      "Norm: 1.01, NNZs: 300, Bias: -0.877031, T: 84504, Avg. loss: 0.196250\n",
      "Total training time: 0.03 seconds.\n",
      "-- Epoch 9\n",
      "Norm: 0.92, NNZs: 300, Bias: -0.865070, T: 95067, Avg. loss: 0.194773\n",
      "Total training time: 0.03 seconds.\n",
      "-- Epoch 10\n",
      "Norm: 0.88, NNZs: 300, Bias: -0.894949, T: 105630, Avg. loss: 0.193045\n",
      "Total training time: 0.04 seconds.\n",
      "-- Epoch 11\n",
      "Norm: 0.82, NNZs: 300, Bias: -0.905911, T: 116193, Avg. loss: 0.192143\n",
      "Total training time: 0.04 seconds.\n",
      "-- Epoch 12\n",
      "Norm: 0.78, NNZs: 300, Bias: -0.898608, T: 126756, Avg. loss: 0.191035\n",
      "Total training time: 0.04 seconds.\n",
      "-- Epoch 13\n",
      "Norm: 0.74, NNZs: 300, Bias: -0.929523, T: 137319, Avg. loss: 0.190302\n",
      "Total training time: 0.05 seconds.\n",
      "-- Epoch 14\n",
      "Norm: 0.72, NNZs: 300, Bias: -0.928962, T: 147882, Avg. loss: 0.189448\n",
      "Total training time: 0.05 seconds.\n",
      "-- Epoch 15\n",
      "Norm: 0.71, NNZs: 300, Bias: -0.928488, T: 158445, Avg. loss: 0.188759\n",
      "Total training time: 0.06 seconds.\n",
      "-- Epoch 16\n",
      "Norm: 0.68, NNZs: 300, Bias: -0.916556, T: 169008, Avg. loss: 0.188507\n",
      "Total training time: 0.06 seconds.\n",
      "-- Epoch 17\n",
      "Norm: 0.66, NNZs: 300, Bias: -0.911697, T: 179571, Avg. loss: 0.187915\n",
      "Total training time: 0.06 seconds.\n",
      "Convergence after 17 epochs took 0.06 seconds\n",
      "-- Epoch 1\n",
      "Norm: 2.41, NNZs: 300, Bias: -4.478858, T: 10563, Avg. loss: 0.053012\n",
      "Total training time: 0.00 seconds.\n",
      "-- Epoch 2\n",
      "Norm: 1.94, NNZs: 300, Bias: -3.905089, T: 21126, Avg. loss: 0.028441\n",
      "Total training time: 0.01 seconds.\n",
      "-- Epoch 3\n",
      "Norm: 1.65, NNZs: 300, Bias: -3.640218, T: 31689, Avg. loss: 0.024188\n",
      "Total training time: 0.01 seconds.\n",
      "-- Epoch 4\n",
      "Norm: 1.51, NNZs: 300, Bias: -3.426116, T: 42252, Avg. loss: 0.022563\n",
      "Total training time: 0.01 seconds.\n",
      "-- Epoch 5\n",
      "Norm: 1.42, NNZs: 300, Bias: -3.239033, T: 52815, Avg. loss: 0.021795\n",
      "Total training time: 0.02 seconds.\n",
      "-- Epoch 6\n",
      "Norm: 1.30, NNZs: 300, Bias: -3.120251, T: 63378, Avg. loss: 0.021206\n",
      "Total training time: 0.02 seconds.\n",
      "-- Epoch 7\n",
      "Norm: 1.22, NNZs: 300, Bias: -3.004523, T: 73941, Avg. loss: 0.020938\n",
      "Total training time: 0.02 seconds.\n",
      "-- Epoch 8\n",
      "Norm: 1.15, NNZs: 300, Bias: -2.902901, T: 84504, Avg. loss: 0.020637\n",
      "Total training time: 0.03 seconds.\n",
      "-- Epoch 9\n",
      "Norm: 1.10, NNZs: 300, Bias: -2.823383, T: 95067, Avg. loss: 0.020094\n",
      "Total training time: 0.03 seconds.\n",
      "Convergence after 9 epochs took 0.03 seconds\n",
      "-- Epoch 1\n",
      "Norm: 1.94, NNZs: 300, Bias: -4.774374, T: 10563, Avg. loss: 0.054344\n",
      "Total training time: 0.00 seconds.\n",
      "-- Epoch 2\n",
      "Norm: 1.61, NNZs: 300, Bias: -4.119813, T: 21126, Avg. loss: 0.024145\n",
      "Total training time: 0.01 seconds.\n",
      "-- Epoch 3\n",
      "Norm: 1.37, NNZs: 300, Bias: -3.850028, T: 31689, Avg. loss: 0.020280\n",
      "Total training time: 0.01 seconds.\n",
      "-- Epoch 4\n",
      "Norm: 1.34, NNZs: 300, Bias: -3.578472, T: 42252, Avg. loss: 0.018928\n",
      "Total training time: 0.01 seconds.\n",
      "-- Epoch 5\n",
      "Norm: 1.20, NNZs: 300, Bias: -3.412234, T: 52815, Avg. loss: 0.018235\n",
      "Total training time: 0.02 seconds.\n",
      "-- Epoch 6\n",
      "Norm: 1.20, NNZs: 300, Bias: -3.243194, T: 63378, Avg. loss: 0.017280\n",
      "Total training time: 0.02 seconds.\n",
      "-- Epoch 7\n",
      "Norm: 1.15, NNZs: 300, Bias: -3.128220, T: 73941, Avg. loss: 0.016755\n",
      "Total training time: 0.02 seconds.\n",
      "-- Epoch 8\n",
      "Norm: 1.09, NNZs: 300, Bias: -3.026093, T: 84504, Avg. loss: 0.016514\n",
      "Total training time: 0.03 seconds.\n",
      "-- Epoch 9\n",
      "Norm: 1.08, NNZs: 300, Bias: -2.916391, T: 95067, Avg. loss: 0.016335\n",
      "Total training time: 0.03 seconds.\n",
      "Convergence after 9 epochs took 0.03 seconds\n",
      "-- Epoch 1\n",
      "Norm: 3.34, NNZs: 300, Bias: -1.047389, T: 10563, Avg. loss: 0.306914\n",
      "Total training time: 0.00 seconds.\n",
      "-- Epoch 2\n",
      "Norm: 2.44, NNZs: 300, Bias: -0.831446, T: 21126, Avg. loss: 0.120141\n",
      "Total training time: 0.01 seconds.\n",
      "-- Epoch 3\n",
      "Norm: 2.02, NNZs: 300, Bias: -0.780079, T: 31689, Avg. loss: 0.104093\n",
      "Total training time: 0.01 seconds.\n",
      "-- Epoch 4\n",
      "Norm: 1.83, NNZs: 300, Bias: -0.790346, T: 42252, Avg. loss: 0.096545\n",
      "Total training time: 0.01 seconds.\n",
      "-- Epoch 5\n",
      "Norm: 1.66, NNZs: 300, Bias: -0.823454, T: 52815, Avg. loss: 0.093302\n",
      "Total training time: 0.02 seconds.\n",
      "-- Epoch 6\n",
      "Norm: 1.55, NNZs: 300, Bias: -0.850621, T: 63378, Avg. loss: 0.090854\n",
      "Total training time: 0.02 seconds.\n",
      "-- Epoch 7\n",
      "Norm: 1.43, NNZs: 300, Bias: -0.853814, T: 73941, Avg. loss: 0.089392\n",
      "Total training time: 0.02 seconds.\n",
      "-- Epoch 8\n",
      "Norm: 1.38, NNZs: 300, Bias: -0.905180, T: 84504, Avg. loss: 0.087880\n",
      "Total training time: 0.03 seconds.\n",
      "-- Epoch 9\n",
      "Norm: 1.33, NNZs: 300, Bias: -0.925233, T: 95067, Avg. loss: 0.087092\n",
      "Total training time: 0.03 seconds.\n",
      "-- Epoch 10\n",
      "Norm: 1.27, NNZs: 300, Bias: -0.935418, T: 105630, Avg. loss: 0.086438\n",
      "Total training time: 0.03 seconds.\n",
      "-- Epoch 11\n",
      "Norm: 1.21, NNZs: 300, Bias: -0.936546, T: 116193, Avg. loss: 0.085979\n",
      "Total training time: 0.04 seconds.\n",
      "-- Epoch 12\n",
      "Norm: 1.18, NNZs: 300, Bias: -0.929378, T: 126756, Avg. loss: 0.085236\n",
      "Total training time: 0.04 seconds.\n",
      "-- Epoch 13\n",
      "Norm: 1.15, NNZs: 300, Bias: -0.951369, T: 137319, Avg. loss: 0.084884\n",
      "Total training time: 0.04 seconds.\n",
      "Convergence after 13 epochs took 0.04 seconds\n",
      "-- Epoch 1\n",
      "Norm: 1.22, NNZs: 300, Bias: -3.772727, T: 10563, Avg. loss: 0.123545\n",
      "Total training time: 0.00 seconds.\n",
      "-- Epoch 2\n",
      "Norm: 1.27, NNZs: 300, Bias: -2.857602, T: 21126, Avg. loss: 0.045297\n",
      "Total training time: 0.01 seconds.\n",
      "-- Epoch 3\n",
      "Norm: 0.94, NNZs: 300, Bias: -2.563856, T: 31689, Avg. loss: 0.037239\n",
      "Total training time: 0.01 seconds.\n",
      "-- Epoch 4\n",
      "Norm: 0.77, NNZs: 300, Bias: -2.264219, T: 42252, Avg. loss: 0.034358\n",
      "Total training time: 0.01 seconds.\n",
      "-- Epoch 5\n",
      "Norm: 0.78, NNZs: 300, Bias: -2.035885, T: 52815, Avg. loss: 0.031878\n",
      "Total training time: 0.02 seconds.\n",
      "-- Epoch 6\n",
      "Norm: 0.67, NNZs: 300, Bias: -1.916243, T: 63378, Avg. loss: 0.030797\n",
      "Total training time: 0.02 seconds.\n",
      "-- Epoch 7\n",
      "Norm: 0.63, NNZs: 300, Bias: -1.755431, T: 73941, Avg. loss: 0.030102\n",
      "Total training time: 0.02 seconds.\n",
      "-- Epoch 8\n",
      "Norm: 0.62, NNZs: 300, Bias: -1.654516, T: 84504, Avg. loss: 0.029142\n",
      "Total training time: 0.03 seconds.\n",
      "-- Epoch 9\n",
      "Norm: 0.56, NNZs: 300, Bias: -1.577261, T: 95067, Avg. loss: 0.028867\n",
      "Total training time: 0.03 seconds.\n",
      "-- Epoch 10\n",
      "Norm: 0.53, NNZs: 300, Bias: -1.487966, T: 105630, Avg. loss: 0.028451\n",
      "Total training time: 0.03 seconds.\n",
      "-- Epoch 11\n",
      "Norm: 0.48, NNZs: 300, Bias: -1.433257, T: 116193, Avg. loss: 0.028155\n",
      "Total training time: 0.04 seconds.\n",
      "Convergence after 11 epochs took 0.04 seconds\n"
     ]
    },
    {
     "name": "stderr",
     "output_type": "stream",
     "text": [
      "[Parallel(n_jobs=1)]: Done  40 out of  40 | elapsed:    1.5s finished\n"
     ]
    },
    {
     "data": {
      "text/plain": [
       "SGDClassifier(alpha=0.001, random_state=7600, verbose=1)"
      ]
     },
     "execution_count": 292,
     "metadata": {},
     "output_type": "execute_result"
    }
   ],
   "source": [
    "clf_w2v_sgd.fit(X_train_w2v_transformed, y_train)"
   ]
  },
  {
   "cell_type": "code",
   "execution_count": 293,
   "metadata": {},
   "outputs": [
    {
     "data": {
      "text/plain": [
       "0.35012149326264635"
      ]
     },
     "execution_count": 293,
     "metadata": {},
     "output_type": "execute_result"
    }
   ],
   "source": [
    "accuracy_score(y_test, clf_w2v_sgd.predict(X_test_w2v_transformed))"
   ]
  },
  {
   "cell_type": "code",
   "execution_count": 294,
   "metadata": {},
   "outputs": [
    {
     "name": "stdout",
     "output_type": "stream",
     "text": [
      "              precision    recall  f1-score   support\n",
      "\n",
      "           0       0.00      0.00      0.00        13\n",
      "           1       0.46      0.50      0.48       232\n",
      "           2       0.53      0.78      0.63       157\n",
      "           3       0.62      0.30      0.40       273\n",
      "           4       0.00      0.00      0.00        64\n",
      "           5       0.20      0.01      0.02       111\n",
      "           6       0.63      0.28      0.39        96\n",
      "           7       0.40      0.03      0.06        67\n",
      "           8       0.00      0.00      0.00        36\n",
      "           9       0.51      0.48      0.50        56\n",
      "          10       0.48      0.41      0.44       141\n",
      "          11       0.00      0.00      0.00        54\n",
      "          12       0.69      0.65      0.67        79\n",
      "          13       0.66      0.84      0.74        81\n",
      "          14       0.00      0.00      0.00        29\n",
      "          15       0.89      0.20      0.33        79\n",
      "          16       0.37      0.63      0.47       544\n",
      "          17       0.00      0.00      0.00        75\n",
      "          18       0.61      0.73      0.67        93\n",
      "          19       0.67      0.01      0.03       154\n",
      "          20       0.60      0.25      0.35       146\n",
      "          21       0.71      0.10      0.18        50\n",
      "          22       0.00      0.00      0.00        23\n",
      "          23       0.79      0.25      0.38        75\n",
      "          24       0.42      0.30      0.35        27\n",
      "          25       0.45      0.41      0.43       173\n",
      "          26       0.57      0.31      0.40        13\n",
      "          27       0.76      0.21      0.33       118\n",
      "          28       0.48      0.54      0.51        39\n",
      "          29       0.10      0.19      0.14        36\n",
      "          30       0.14      0.47      0.22       290\n",
      "          31       0.24      0.61      0.35        95\n",
      "          32       0.45      0.07      0.13       134\n",
      "          33       1.00      0.06      0.11        66\n",
      "          34       0.29      0.83      0.43        81\n",
      "          35       0.23      0.30      0.26       408\n",
      "          36       0.40      0.10      0.16        41\n",
      "          37       0.22      0.06      0.09        35\n",
      "          38       0.46      0.04      0.07       170\n",
      "          39       0.00      0.00      0.00        73\n",
      "\n",
      "    accuracy                           0.35      4527\n",
      "   macro avg       0.40      0.27      0.27      4527\n",
      "weighted avg       0.42      0.35      0.32      4527\n",
      "\n"
     ]
    },
    {
     "name": "stderr",
     "output_type": "stream",
     "text": [
      "c:\\Users\\Kackie\\anaconda3\\envs\\DataScience\\lib\\site-packages\\sklearn\\metrics\\_classification.py:1318: UndefinedMetricWarning: Precision and F-score are ill-defined and being set to 0.0 in labels with no predicted samples. Use `zero_division` parameter to control this behavior.\n",
      "  _warn_prf(average, modifier, msg_start, len(result))\n",
      "c:\\Users\\Kackie\\anaconda3\\envs\\DataScience\\lib\\site-packages\\sklearn\\metrics\\_classification.py:1318: UndefinedMetricWarning: Precision and F-score are ill-defined and being set to 0.0 in labels with no predicted samples. Use `zero_division` parameter to control this behavior.\n",
      "  _warn_prf(average, modifier, msg_start, len(result))\n",
      "c:\\Users\\Kackie\\anaconda3\\envs\\DataScience\\lib\\site-packages\\sklearn\\metrics\\_classification.py:1318: UndefinedMetricWarning: Precision and F-score are ill-defined and being set to 0.0 in labels with no predicted samples. Use `zero_division` parameter to control this behavior.\n",
      "  _warn_prf(average, modifier, msg_start, len(result))\n"
     ]
    }
   ],
   "source": [
    "print(classification_report(y_test, clf_w2v_sgd.predict(X_test_w2v_transformed)))"
   ]
  },
  {
   "cell_type": "markdown",
   "metadata": {},
   "source": [
    "#### Logistic Regression"
   ]
  },
  {
   "cell_type": "code",
   "execution_count": 295,
   "metadata": {},
   "outputs": [],
   "source": [
    "from sklearn.linear_model import LogisticRegression"
   ]
  },
  {
   "cell_type": "code",
   "execution_count": 296,
   "metadata": {},
   "outputs": [],
   "source": [
    "clf_w2v_lr = LogisticRegression(\n",
    "    max_iter=200,\n",
    "    random_state=7600,\n",
    "    verbose=1,\n",
    "    n_jobs=cpu_count()\n",
    ")"
   ]
  },
  {
   "cell_type": "code",
   "execution_count": 297,
   "metadata": {},
   "outputs": [
    {
     "name": "stderr",
     "output_type": "stream",
     "text": [
      "[Parallel(n_jobs=16)]: Using backend LokyBackend with 16 concurrent workers.\n",
      "[Parallel(n_jobs=16)]: Done   1 out of   1 | elapsed:    9.1s finished\n"
     ]
    },
    {
     "data": {
      "text/plain": [
       "LogisticRegression(max_iter=200, n_jobs=16, random_state=7600, verbose=1)"
      ]
     },
     "execution_count": 297,
     "metadata": {},
     "output_type": "execute_result"
    }
   ],
   "source": [
    "clf_w2v_lr.fit(X_train_w2v_transformed, y_train)"
   ]
  },
  {
   "cell_type": "code",
   "execution_count": 298,
   "metadata": {},
   "outputs": [
    {
     "data": {
      "text/plain": [
       "0.46277888226198366"
      ]
     },
     "execution_count": 298,
     "metadata": {},
     "output_type": "execute_result"
    }
   ],
   "source": [
    "accuracy_score(y_test, clf_w2v_lr.predict(X_test_w2v_transformed))"
   ]
  },
  {
   "cell_type": "code",
   "execution_count": 299,
   "metadata": {},
   "outputs": [
    {
     "name": "stdout",
     "output_type": "stream",
     "text": [
      "              precision    recall  f1-score   support\n",
      "\n",
      "           0       0.00      0.00      0.00        13\n",
      "           1       0.46      0.58      0.51       232\n",
      "           2       0.59      0.78      0.67       157\n",
      "           3       0.48      0.52      0.50       273\n",
      "           4       0.47      0.27      0.34        64\n",
      "           5       0.38      0.36      0.37       111\n",
      "           6       0.57      0.48      0.52        96\n",
      "           7       0.41      0.13      0.20        67\n",
      "           8       0.33      0.08      0.13        36\n",
      "           9       0.60      0.46      0.53        56\n",
      "          10       0.53      0.44      0.48       141\n",
      "          11       0.23      0.11      0.15        54\n",
      "          12       0.59      0.78      0.67        79\n",
      "          13       0.82      0.84      0.83        81\n",
      "          14       0.33      0.10      0.16        29\n",
      "          15       0.75      0.56      0.64        79\n",
      "          16       0.43      0.66      0.52       544\n",
      "          17       0.50      0.27      0.35        75\n",
      "          18       0.70      0.72      0.71        93\n",
      "          19       0.44      0.63      0.52       154\n",
      "          20       0.51      0.45      0.48       146\n",
      "          21       0.67      0.48      0.56        50\n",
      "          22       0.00      0.00      0.00        23\n",
      "          23       0.71      0.49      0.58        75\n",
      "          24       0.73      0.30      0.42        27\n",
      "          25       0.54      0.47      0.50       173\n",
      "          26       0.56      0.38      0.45        13\n",
      "          27       0.47      0.53      0.50       118\n",
      "          28       0.56      0.49      0.52        39\n",
      "          29       0.59      0.28      0.38        36\n",
      "          30       0.33      0.31      0.32       290\n",
      "          31       0.44      0.40      0.42        95\n",
      "          32       0.40      0.31      0.35       134\n",
      "          33       0.50      0.18      0.27        66\n",
      "          34       0.52      0.72      0.60        81\n",
      "          35       0.28      0.36      0.31       408\n",
      "          36       0.52      0.32      0.39        41\n",
      "          37       0.55      0.34      0.42        35\n",
      "          38       0.49      0.24      0.32       170\n",
      "          39       0.14      0.01      0.03        73\n",
      "\n",
      "    accuracy                           0.46      4527\n",
      "   macro avg       0.48      0.40      0.42      4527\n",
      "weighted avg       0.46      0.46      0.45      4527\n",
      "\n"
     ]
    },
    {
     "name": "stderr",
     "output_type": "stream",
     "text": [
      "c:\\Users\\Kackie\\anaconda3\\envs\\DataScience\\lib\\site-packages\\sklearn\\metrics\\_classification.py:1318: UndefinedMetricWarning: Precision and F-score are ill-defined and being set to 0.0 in labels with no predicted samples. Use `zero_division` parameter to control this behavior.\n",
      "  _warn_prf(average, modifier, msg_start, len(result))\n",
      "c:\\Users\\Kackie\\anaconda3\\envs\\DataScience\\lib\\site-packages\\sklearn\\metrics\\_classification.py:1318: UndefinedMetricWarning: Precision and F-score are ill-defined and being set to 0.0 in labels with no predicted samples. Use `zero_division` parameter to control this behavior.\n",
      "  _warn_prf(average, modifier, msg_start, len(result))\n",
      "c:\\Users\\Kackie\\anaconda3\\envs\\DataScience\\lib\\site-packages\\sklearn\\metrics\\_classification.py:1318: UndefinedMetricWarning: Precision and F-score are ill-defined and being set to 0.0 in labels with no predicted samples. Use `zero_division` parameter to control this behavior.\n",
      "  _warn_prf(average, modifier, msg_start, len(result))\n"
     ]
    }
   ],
   "source": [
    "print(classification_report(y_test, clf_w2v_lr.predict(X_test_w2v_transformed)))"
   ]
  },
  {
   "cell_type": "markdown",
   "metadata": {},
   "source": [
    "### Model 3: Doc2Vec + Classifier"
   ]
  },
  {
   "cell_type": "markdown",
   "metadata": {},
   "source": [
    "#### Data Preparation"
   ]
  },
  {
   "cell_type": "code",
   "execution_count": 369,
   "metadata": {},
   "outputs": [],
   "source": [
    "from gensim.models.doc2vec import TaggedDocument\n",
    "from gensim.models.doc2vec import Doc2Vec\n",
    "import logging\n",
    "logging.basicConfig(level=logging.INFO)"
   ]
  },
  {
   "cell_type": "code",
   "execution_count": 383,
   "metadata": {},
   "outputs": [
    {
     "name": "stdout",
     "output_type": "stream",
     "text": [
      "15079\n"
     ]
    },
    {
     "data": {
      "text/plain": [
       "0        34\n",
       "1        10\n",
       "2        38\n",
       "3        11\n",
       "4        32\n",
       "         ..\n",
       "15085     8\n",
       "15086    17\n",
       "15087    18\n",
       "15088    30\n",
       "15089    16\n",
       "Name: cluster, Length: 15079, dtype: int64"
      ]
     },
     "execution_count": 383,
     "metadata": {},
     "output_type": "execute_result"
    }
   ],
   "source": [
    "X_tokenized_nonempty_indices = X_tokenized[X_tokenized.apply(lambda x: len(x)>0)].index\n",
    "y_nonempty = y[y.index.isin(X_tokenized_nonempty_indices)]\n",
    "print(len(y_nonempty))\n",
    "y_nonempty"
   ]
  },
  {
   "cell_type": "code",
   "execution_count": 384,
   "metadata": {},
   "outputs": [
    {
     "name": "stdout",
     "output_type": "stream",
     "text": [
      "15079\n"
     ]
    },
    {
     "data": {
      "text/plain": [
       "0        [ameria, invest, consult, compani, seek, chief...\n",
       "1        [public, outreach, strengthen, grow, network, ...\n",
       "2        [lead, local, enhanc, develop, health, bcc, sp...\n",
       "3                  [saleswoman, sell, menswear, accessori]\n",
       "4        [armenian, branch, offic, open, societi, insti...\n",
       "                               ...                        \n",
       "15085    [incumb, develop, softwar, applic, work, distr...\n",
       "15086    [incumb, respons, support, director, organ, ac...\n",
       "15087    [tech, startup, technolinguist, base, new, yor...\n",
       "15088    [san, lazzaro, llc, look, individu, work, head...\n",
       "15089    [kamurj, uco, cjsc, look, lawyer, legal, depar...\n",
       "Name: JobDescription, Length: 15079, dtype: object"
      ]
     },
     "execution_count": 384,
     "metadata": {},
     "output_type": "execute_result"
    }
   ],
   "source": [
    "# remove the documents that have no tokenized words from the X_tokenized list\n",
    "X_tokenized_nonempty = X_tokenized[X_tokenized.apply(lambda x: len(x)>0)]\n",
    "print(len(X_tokenized_nonempty))\n",
    "X_tokenized_nonempty"
   ]
  },
  {
   "cell_type": "code",
   "execution_count": 385,
   "metadata": {},
   "outputs": [
    {
     "name": "stdout",
     "output_type": "stream",
     "text": [
      "TaggedDocument<['ameria', 'invest', 'consult', 'compani', 'seek', 'chief', 'financi', 'offic', 'posit', 'manag', 'compani', 'fiscal', 'administr', 'function', 'provid', 'highli', 'respons', 'technic', 'complex', 'staff', 'assist', 'execut', 'director', 'work', 'perform', 'requir', 'high', 'level', 'technic', 'profici', 'financi', 'manag', 'invest', 'manag', 'well', 'manag', 'supervisori', 'administr', 'skill'], [34]>\n"
     ]
    }
   ],
   "source": [
    "# convert the texts into tagged document format as required by doc2vec\n",
    "tagged = []\n",
    "for i in range(len(X_tokenized_nonempty)):\n",
    "    try:\n",
    "        tagged_document = TaggedDocument(\n",
    "            words = X_tokenized_nonempty[i],\n",
    "            tags = [y[i]]\n",
    "        )\n",
    "        tagged.append(tagged_document)\n",
    "    except:\n",
    "        continue\n",
    "\n",
    "print(tagged[0])"
   ]
  },
  {
   "cell_type": "code",
   "execution_count": 386,
   "metadata": {},
   "outputs": [
    {
     "name": "stderr",
     "output_type": "stream",
     "text": [
      "INFO:gensim.utils:Doc2Vec lifecycle event {'params': 'Doc2Vec<dbow,d300,n5,t16>', 'datetime': '2022-09-27T11:27:16.197366', 'gensim': '4.2.0', 'python': '3.7.13 (default, Mar 28 2022, 08:03:21) [MSC v.1916 64 bit (AMD64)]', 'platform': 'Windows-10-10.0.19041-SP0', 'event': 'created'}\n",
      "INFO:gensim.models.doc2vec:collecting all words and their counts\n",
      "INFO:gensim.models.doc2vec:PROGRESS: at example #0, processed 0 words (0 words/s), 0 word types, 0 tags\n",
      "INFO:gensim.models.doc2vec:PROGRESS: at example #10000, processed 228741 words (7898842 words/s), 5953 word types, 0 tags\n",
      "INFO:gensim.models.doc2vec:collected 7165 word types and 40 unique tags from a corpus of 15068 examples and 355957 words\n",
      "INFO:gensim.models.word2vec:Creating a fresh vocabulary\n",
      "INFO:gensim.utils:Doc2Vec lifecycle event {'msg': 'effective_min_count=1 retains 7165 unique words (100.00% of original 7165, drops 0)', 'datetime': '2022-09-27T11:27:16.263931', 'gensim': '4.2.0', 'python': '3.7.13 (default, Mar 28 2022, 08:03:21) [MSC v.1916 64 bit (AMD64)]', 'platform': 'Windows-10-10.0.19041-SP0', 'event': 'prepare_vocab'}\n",
      "INFO:gensim.utils:Doc2Vec lifecycle event {'msg': 'effective_min_count=1 leaves 355957 word corpus (100.00% of original 355957, drops 0)', 'datetime': '2022-09-27T11:27:16.264932', 'gensim': '4.2.0', 'python': '3.7.13 (default, Mar 28 2022, 08:03:21) [MSC v.1916 64 bit (AMD64)]', 'platform': 'Windows-10-10.0.19041-SP0', 'event': 'prepare_vocab'}\n",
      "INFO:gensim.models.word2vec:deleting the raw counts dictionary of 7165 items\n",
      "INFO:gensim.models.word2vec:sample=0 downsamples 0 most-common words\n",
      "INFO:gensim.utils:Doc2Vec lifecycle event {'msg': 'downsampling leaves estimated 355957 word corpus (100.0%% of prior 355957)', 'datetime': '2022-09-27T11:27:16.291957', 'gensim': '4.2.0', 'python': '3.7.13 (default, Mar 28 2022, 08:03:21) [MSC v.1916 64 bit (AMD64)]', 'platform': 'Windows-10-10.0.19041-SP0', 'event': 'prepare_vocab'}\n",
      "INFO:gensim.models.word2vec:estimated required memory for 7165 words and 300 dimensions: 20834500 bytes\n",
      "INFO:gensim.models.word2vec:resetting layer weights\n",
      "INFO:gensim.utils:Doc2Vec lifecycle event {'msg': 'training model with 16 workers on 7165 vocabulary and 300 features, using sg=1 hs=0 sample=0 negative=5 window=5 shrink_windows=True', 'datetime': '2022-09-27T11:27:16.342002', 'gensim': '4.2.0', 'python': '3.7.13 (default, Mar 28 2022, 08:03:21) [MSC v.1916 64 bit (AMD64)]', 'platform': 'Windows-10-10.0.19041-SP0', 'event': 'train'}\n",
      "INFO:gensim.models.word2vec:EPOCH 0: training on 355957 raw words (371025 effective words) took 0.4s, 987178 effective words/s\n",
      "INFO:gensim.models.word2vec:EPOCH 1: training on 355957 raw words (371025 effective words) took 0.4s, 980252 effective words/s\n",
      "INFO:gensim.models.word2vec:EPOCH 2: training on 355957 raw words (371025 effective words) took 0.4s, 971678 effective words/s\n",
      "INFO:gensim.models.word2vec:EPOCH 3: training on 355957 raw words (371025 effective words) took 0.4s, 975588 effective words/s\n",
      "INFO:gensim.models.word2vec:EPOCH 4: training on 355957 raw words (371025 effective words) took 0.4s, 980530 effective words/s\n",
      "INFO:gensim.models.word2vec:EPOCH 5: training on 355957 raw words (371025 effective words) took 0.4s, 982260 effective words/s\n",
      "INFO:gensim.models.word2vec:EPOCH 6: training on 355957 raw words (371025 effective words) took 0.4s, 980672 effective words/s\n",
      "INFO:gensim.models.word2vec:EPOCH 7: training on 355957 raw words (371025 effective words) took 0.4s, 968823 effective words/s\n",
      "INFO:gensim.models.word2vec:EPOCH 8: training on 355957 raw words (371025 effective words) took 0.4s, 978409 effective words/s\n",
      "INFO:gensim.models.word2vec:EPOCH 9: training on 355957 raw words (371025 effective words) took 0.4s, 961944 effective words/s\n",
      "INFO:gensim.models.word2vec:EPOCH 10: training on 355957 raw words (371025 effective words) took 0.4s, 968729 effective words/s\n",
      "INFO:gensim.models.word2vec:EPOCH 11: training on 355957 raw words (371025 effective words) took 0.4s, 971436 effective words/s\n",
      "INFO:gensim.models.word2vec:EPOCH 12: training on 355957 raw words (371025 effective words) took 0.4s, 974502 effective words/s\n",
      "INFO:gensim.models.word2vec:EPOCH 13: training on 355957 raw words (371025 effective words) took 0.4s, 933855 effective words/s\n",
      "INFO:gensim.models.word2vec:EPOCH 14: training on 355957 raw words (371025 effective words) took 0.4s, 953120 effective words/s\n",
      "INFO:gensim.models.word2vec:EPOCH 15: training on 355957 raw words (371025 effective words) took 0.4s, 956294 effective words/s\n",
      "INFO:gensim.models.word2vec:EPOCH 16: training on 355957 raw words (371025 effective words) took 0.4s, 911679 effective words/s\n",
      "INFO:gensim.models.word2vec:EPOCH 17: training on 355957 raw words (371025 effective words) took 0.4s, 951936 effective words/s\n",
      "INFO:gensim.models.word2vec:EPOCH 18: training on 355957 raw words (371025 effective words) took 0.4s, 958160 effective words/s\n",
      "INFO:gensim.models.word2vec:EPOCH 19: training on 355957 raw words (371025 effective words) took 0.4s, 965009 effective words/s\n",
      "INFO:gensim.models.word2vec:EPOCH 20: training on 355957 raw words (371025 effective words) took 0.4s, 976765 effective words/s\n",
      "INFO:gensim.models.word2vec:EPOCH 21: training on 355957 raw words (371025 effective words) took 0.4s, 983854 effective words/s\n",
      "INFO:gensim.models.word2vec:EPOCH 22: training on 355957 raw words (371025 effective words) took 0.4s, 980712 effective words/s\n",
      "INFO:gensim.models.word2vec:EPOCH 23: training on 355957 raw words (371025 effective words) took 0.4s, 971654 effective words/s\n",
      "INFO:gensim.models.word2vec:EPOCH 24: training on 355957 raw words (371025 effective words) took 0.4s, 964334 effective words/s\n",
      "INFO:gensim.models.word2vec:EPOCH 25: training on 355957 raw words (371025 effective words) took 0.4s, 950371 effective words/s\n",
      "INFO:gensim.models.word2vec:EPOCH 26: training on 355957 raw words (371025 effective words) took 0.4s, 967367 effective words/s\n",
      "INFO:gensim.models.word2vec:EPOCH 27: training on 355957 raw words (371025 effective words) took 0.4s, 950555 effective words/s\n",
      "INFO:gensim.models.word2vec:EPOCH 28: training on 355957 raw words (371025 effective words) took 0.4s, 951046 effective words/s\n",
      "INFO:gensim.models.word2vec:EPOCH 29: training on 355957 raw words (371025 effective words) took 0.4s, 972696 effective words/s\n",
      "INFO:gensim.utils:Doc2Vec lifecycle event {'msg': 'training on 10678710 raw words (11130750 effective words) took 12.0s, 931386 effective words/s', 'datetime': '2022-09-27T11:27:28.293226', 'gensim': '4.2.0', 'python': '3.7.13 (default, Mar 28 2022, 08:03:21) [MSC v.1916 64 bit (AMD64)]', 'platform': 'Windows-10-10.0.19041-SP0', 'event': 'train'}\n"
     ]
    }
   ],
   "source": [
    "# train the doc2vec model\n",
    "d2v = Doc2Vec(\n",
    "    dm=0,\n",
    "    vector_size=300,\n",
    "    negative=5,\n",
    "    hs=0,\n",
    "    min_count=1,\n",
    "    sample=0,\n",
    "    epochs=30,\n",
    "    workers=cpu_count()\n",
    ")\n",
    "d2v.build_vocab(tagged)\n",
    "d2v.train(tagged, total_examples=d2v.corpus_count, epochs=d2v.epochs)"
   ]
  },
  {
   "cell_type": "code",
   "execution_count": 499,
   "metadata": {},
   "outputs": [
    {
     "name": "stderr",
     "output_type": "stream",
     "text": [
      "INFO:gensim.utils:Doc2Vec lifecycle event {'fname_or_handle': 'models/d2v_online_job_descriptions.model', 'separately': 'None', 'sep_limit': 10485760, 'ignore': frozenset(), 'datetime': '2022-09-27T12:14:34.851723', 'gensim': '4.2.0', 'python': '3.7.13 (default, Mar 28 2022, 08:03:21) [MSC v.1916 64 bit (AMD64)]', 'platform': 'Windows-10-10.0.19041-SP0', 'event': 'saving'}\n",
      "INFO:gensim.utils:not storing attribute cum_table\n",
      "INFO:gensim.utils:saved models/d2v_online_job_descriptions.model\n"
     ]
    }
   ],
   "source": [
    "# save the d2v model\n",
    "d2v.save('models/d2v_online_job_descriptions.model')"
   ]
  },
  {
   "cell_type": "code",
   "execution_count": null,
   "metadata": {},
   "outputs": [],
   "source": []
  },
  {
   "cell_type": "code",
   "execution_count": null,
   "metadata": {},
   "outputs": [],
   "source": []
  },
  {
   "cell_type": "code",
   "execution_count": 500,
   "metadata": {},
   "outputs": [
    {
     "name": "stderr",
     "output_type": "stream",
     "text": [
      "INFO:gensim.utils:loading Doc2Vec object from models/d2v_online_job_descriptions.model\n",
      "INFO:gensim.utils:loading dv recursively from models/d2v_online_job_descriptions.model.dv.* with mmap=None\n",
      "INFO:gensim.utils:loading wv recursively from models/d2v_online_job_descriptions.model.wv.* with mmap=None\n",
      "INFO:gensim.utils:setting ignored attribute cum_table to None\n",
      "INFO:gensim.utils:Doc2Vec lifecycle event {'fname': 'models/d2v_online_job_descriptions.model', 'datetime': '2022-09-27T12:15:02.305732', 'gensim': '4.2.0', 'python': '3.7.13 (default, Mar 28 2022, 08:03:21) [MSC v.1916 64 bit (AMD64)]', 'platform': 'Windows-10-10.0.19041-SP0', 'event': 'loaded'}\n"
     ]
    }
   ],
   "source": [
    "# load the saved model\n",
    "temp = Doc2Vec.load('models/d2v_online_job_descriptions.model')"
   ]
  },
  {
   "cell_type": "code",
   "execution_count": 428,
   "metadata": {},
   "outputs": [],
   "source": [
    "# split nonempty dataset into train and test datasets\n",
    "X_train_tokenized_nonempty, X_test_tokenized_nonempty, y_train_nonempty, y_test_nonempty = train_test_split(\n",
    "    X_tokenized_nonempty, y_nonempty, test_size=0.3, shuffle=True, random_state=7600\n",
    ")"
   ]
  },
  {
   "cell_type": "code",
   "execution_count": 429,
   "metadata": {},
   "outputs": [],
   "source": [
    "X_train_d2v = X_train_tokenized_nonempty.apply(lambda x: d2v.infer_vector(x))\n",
    "X_test_d2v = X_test_tokenized_nonempty.apply(lambda x: d2v.infer_vector(x))"
   ]
  },
  {
   "cell_type": "code",
   "execution_count": 430,
   "metadata": {},
   "outputs": [],
   "source": [
    "def convert_series_to_array(series):\n",
    "    temp = []\n",
    "    for x in series:\n",
    "        temp.append(x.tolist())\n",
    "\n",
    "    return np.array(temp)\n",
    "\n",
    "X_train_d2v = convert_series_to_array(X_train_d2v)\n",
    "X_test_d2v = convert_series_to_array(X_test_d2v)"
   ]
  },
  {
   "cell_type": "code",
   "execution_count": 432,
   "metadata": {},
   "outputs": [
    {
     "data": {
      "text/plain": [
       "(10555, 300)"
      ]
     },
     "execution_count": 432,
     "metadata": {},
     "output_type": "execute_result"
    }
   ],
   "source": [
    "X_train_d2v.shape"
   ]
  },
  {
   "cell_type": "markdown",
   "metadata": {},
   "source": [
    "#### Naive Bayes (baseline)"
   ]
  },
  {
   "cell_type": "code",
   "execution_count": 433,
   "metadata": {},
   "outputs": [],
   "source": [
    "from sklearn.naive_bayes import MultinomialNB"
   ]
  },
  {
   "cell_type": "code",
   "execution_count": 438,
   "metadata": {},
   "outputs": [],
   "source": [
    "# since MNB can only do positive values, we need to normalize the word embeddings\n",
    "from sklearn.preprocessing import MinMaxScaler\n",
    "X_train_d2v_transformed_scaled = MinMaxScaler().fit_transform(X_train_d2v)\n",
    "X_test_d2v_transformed_scaled = MinMaxScaler().fit_transform(X_test_d2v)"
   ]
  },
  {
   "cell_type": "code",
   "execution_count": 439,
   "metadata": {},
   "outputs": [],
   "source": [
    "clf_d2v_mnb = MultinomialNB()"
   ]
  },
  {
   "cell_type": "code",
   "execution_count": 440,
   "metadata": {},
   "outputs": [
    {
     "data": {
      "text/plain": [
       "MultinomialNB()"
      ]
     },
     "execution_count": 440,
     "metadata": {},
     "output_type": "execute_result"
    }
   ],
   "source": [
    "clf_d2v_mnb.fit(X_train_d2v_transformed_scaled, y_train_nonempty)"
   ]
  },
  {
   "cell_type": "code",
   "execution_count": 441,
   "metadata": {},
   "outputs": [
    {
     "data": {
      "text/plain": [
       "0.4363395225464191"
      ]
     },
     "execution_count": 441,
     "metadata": {},
     "output_type": "execute_result"
    }
   ],
   "source": [
    "accuracy_score(y_test_nonempty, clf_d2v_mnb.predict(X_test_d2v_transformed_scaled))"
   ]
  },
  {
   "cell_type": "code",
   "execution_count": 442,
   "metadata": {},
   "outputs": [
    {
     "name": "stdout",
     "output_type": "stream",
     "text": [
      "              precision    recall  f1-score   support\n",
      "\n",
      "           0       0.00      0.00      0.00         9\n",
      "           1       0.55      0.74      0.63       237\n",
      "           2       0.83      0.57      0.68       172\n",
      "           3       0.43      0.48      0.46       251\n",
      "           4       1.00      0.14      0.25        57\n",
      "           5       0.91      0.17      0.29       115\n",
      "           6       0.80      0.39      0.53        71\n",
      "           7       0.70      0.12      0.20        60\n",
      "           8       0.00      0.00      0.00        39\n",
      "           9       0.73      0.17      0.28        47\n",
      "          10       0.84      0.32      0.46       147\n",
      "          11       1.00      0.13      0.23        46\n",
      "          12       0.91      0.54      0.68        76\n",
      "          13       0.88      0.55      0.68        80\n",
      "          14       0.86      0.26      0.40        23\n",
      "          15       0.75      0.08      0.14        75\n",
      "          16       0.29      0.92      0.45       529\n",
      "          17       1.00      0.31      0.47        81\n",
      "          18       1.00      0.33      0.49        95\n",
      "          19       0.33      0.56      0.42       157\n",
      "          20       0.87      0.44      0.59       152\n",
      "          21       1.00      0.09      0.17        43\n",
      "          22       0.00      0.00      0.00        28\n",
      "          23       1.00      0.25      0.40        73\n",
      "          24       0.00      0.00      0.00        26\n",
      "          25       0.81      0.31      0.45       175\n",
      "          26       1.00      0.36      0.53        14\n",
      "          27       0.88      0.33      0.48       127\n",
      "          28       1.00      0.31      0.48        32\n",
      "          29       1.00      0.13      0.23        46\n",
      "          30       0.77      0.35      0.48       298\n",
      "          31       0.80      0.22      0.34        92\n",
      "          32       0.92      0.26      0.40       140\n",
      "          33       0.90      0.13      0.23        70\n",
      "          34       0.60      0.54      0.57        90\n",
      "          35       0.26      0.62      0.37       427\n",
      "          36       1.00      0.35      0.52        48\n",
      "          37       1.00      0.05      0.10        37\n",
      "          38       1.00      0.09      0.16       167\n",
      "          39       1.00      0.10      0.18        72\n",
      "\n",
      "    accuracy                           0.44      4524\n",
      "   macro avg       0.74      0.29      0.36      4524\n",
      "weighted avg       0.67      0.44      0.42      4524\n",
      "\n"
     ]
    },
    {
     "name": "stderr",
     "output_type": "stream",
     "text": [
      "c:\\Users\\Kackie\\anaconda3\\envs\\DataScience\\lib\\site-packages\\sklearn\\metrics\\_classification.py:1318: UndefinedMetricWarning: Precision and F-score are ill-defined and being set to 0.0 in labels with no predicted samples. Use `zero_division` parameter to control this behavior.\n",
      "  _warn_prf(average, modifier, msg_start, len(result))\n",
      "c:\\Users\\Kackie\\anaconda3\\envs\\DataScience\\lib\\site-packages\\sklearn\\metrics\\_classification.py:1318: UndefinedMetricWarning: Precision and F-score are ill-defined and being set to 0.0 in labels with no predicted samples. Use `zero_division` parameter to control this behavior.\n",
      "  _warn_prf(average, modifier, msg_start, len(result))\n",
      "c:\\Users\\Kackie\\anaconda3\\envs\\DataScience\\lib\\site-packages\\sklearn\\metrics\\_classification.py:1318: UndefinedMetricWarning: Precision and F-score are ill-defined and being set to 0.0 in labels with no predicted samples. Use `zero_division` parameter to control this behavior.\n",
      "  _warn_prf(average, modifier, msg_start, len(result))\n"
     ]
    }
   ],
   "source": [
    "print(classification_report(y_test_nonempty, clf_d2v_mnb.predict(X_test_d2v_transformed_scaled)))"
   ]
  },
  {
   "cell_type": "markdown",
   "metadata": {},
   "source": [
    "#### Linear SVM"
   ]
  },
  {
   "cell_type": "code",
   "execution_count": 443,
   "metadata": {},
   "outputs": [],
   "source": [
    "from sklearn.linear_model import SGDClassifier"
   ]
  },
  {
   "cell_type": "code",
   "execution_count": 444,
   "metadata": {},
   "outputs": [],
   "source": [
    "clf_d2v_sgd = SGDClassifier(\n",
    "    loss='hinge',\n",
    "    penalty='l2',\n",
    "    alpha=1e-3,\n",
    "    random_state=7600,\n",
    "    verbose=1\n",
    ")"
   ]
  },
  {
   "cell_type": "code",
   "execution_count": 446,
   "metadata": {},
   "outputs": [
    {
     "name": "stderr",
     "output_type": "stream",
     "text": [
      "[Parallel(n_jobs=1)]: Using backend SequentialBackend with 1 concurrent workers.\n"
     ]
    },
    {
     "name": "stdout",
     "output_type": "stream",
     "text": [
      "-- Epoch 1\n",
      "Norm: 1.59, NNZs: 300, Bias: -4.439741, T: 10555, Avg. loss: 0.014464\n",
      "Total training time: 0.00 seconds.\n",
      "-- Epoch 2\n",
      "Norm: 1.51, NNZs: 300, Bias: -3.980765, T: 21110, Avg. loss: 0.005580\n",
      "Total training time: 0.01 seconds.\n",
      "-- Epoch 3\n",
      "Norm: 1.49, NNZs: 300, Bias: -3.691271, T: 31665, Avg. loss: 0.005033\n",
      "Total training time: 0.01 seconds.\n",
      "-- Epoch 4\n",
      "Norm: 1.36, NNZs: 300, Bias: -3.558167, T: 42220, Avg. loss: 0.004710\n",
      "Total training time: 0.02 seconds.\n",
      "-- Epoch 5\n",
      "Norm: 1.35, NNZs: 300, Bias: -3.406475, T: 52775, Avg. loss: 0.004558\n",
      "Total training time: 0.02 seconds.\n",
      "-- Epoch 6\n",
      "Norm: 1.30, NNZs: 300, Bias: -3.303278, T: 63330, Avg. loss: 0.004508\n",
      "Total training time: 0.02 seconds.\n",
      "-- Epoch 7\n",
      "Norm: 1.30, NNZs: 300, Bias: -3.204145, T: 73885, Avg. loss: 0.004393\n",
      "Total training time: 0.03 seconds.\n",
      "Convergence after 7 epochs took 0.03 seconds\n",
      "-- Epoch 1\n",
      "Norm: 4.72, NNZs: 300, Bias: -0.387570, T: 10555, Avg. loss: 0.147571\n",
      "Total training time: 0.00 seconds.\n",
      "-- Epoch 2\n",
      "Norm: 4.00, NNZs: 300, Bias: 0.174749, T: 21110, Avg. loss: 0.075677\n",
      "Total training time: 0.01 seconds.\n",
      "-- Epoch 3\n",
      "Norm: 3.72, NNZs: 300, Bias: 0.218925, T: 31665, Avg. loss: 0.070666\n",
      "Total training time: 0.01 seconds.\n",
      "-- Epoch 4\n",
      "Norm: 3.64, NNZs: 300, Bias: 0.201827, T: 42220, Avg. loss: 0.069033\n",
      "Total training time: 0.01 seconds.\n",
      "-- Epoch 5\n",
      "Norm: 3.44, NNZs: 300, Bias: 0.203163, T: 52775, Avg. loss: 0.068118\n",
      "Total training time: 0.02 seconds.\n",
      "-- Epoch 6\n",
      "Norm: 3.41, NNZs: 300, Bias: 0.163479, T: 63330, Avg. loss: 0.067287\n",
      "Total training time: 0.02 seconds.\n",
      "-- Epoch 7\n",
      "Norm: 3.34, NNZs: 300, Bias: 0.241643, T: 73885, Avg. loss: 0.067408\n",
      "Total training time: 0.02 seconds.\n",
      "-- Epoch 8\n",
      "Norm: 3.33, NNZs: 300, Bias: 0.239768, T: 84440, Avg. loss: 0.066532\n",
      "Total training time: 0.02 seconds.\n",
      "-- Epoch 9\n",
      "Norm: 3.31, NNZs: 300, Bias: 0.271136, T: 94995, Avg. loss: 0.066321\n",
      "Total training time: 0.03 seconds.\n",
      "Convergence after 9 epochs took 0.03 seconds\n",
      "-- Epoch 1\n",
      "Norm: 4.86, NNZs: 300, Bias: 0.276735, T: 10555, Avg. loss: 0.091933\n",
      "Total training time: 0.00 seconds.\n",
      "-- Epoch 2\n",
      "Norm: 4.17, NNZs: 300, Bias: 0.397855, T: 21110, Avg. loss: 0.049552\n",
      "Total training time: 0.01 seconds.\n",
      "-- Epoch 3\n",
      "Norm: 4.13, NNZs: 300, Bias: 0.357693, T: 31665, Avg. loss: 0.045152\n",
      "Total training time: 0.01 seconds.\n",
      "-- Epoch 4\n",
      "Norm: 3.90, NNZs: 300, Bias: 0.399240, T: 42220, Avg. loss: 0.044805\n",
      "Total training time: 0.01 seconds.\n",
      "-- Epoch 5\n",
      "Norm: 3.86, NNZs: 300, Bias: 0.333524, T: 52775, Avg. loss: 0.044542\n",
      "Total training time: 0.02 seconds.\n",
      "-- Epoch 6\n",
      "Norm: 3.82, NNZs: 300, Bias: 0.304664, T: 63330, Avg. loss: 0.044149\n",
      "Total training time: 0.02 seconds.\n",
      "-- Epoch 7\n",
      "Norm: 3.79, NNZs: 300, Bias: 0.334174, T: 73885, Avg. loss: 0.043665\n",
      "Total training time: 0.02 seconds.\n",
      "-- Epoch 8\n",
      "Norm: 3.80, NNZs: 300, Bias: 0.335454, T: 84440, Avg. loss: 0.043519\n",
      "Total training time: 0.03 seconds.\n",
      "Convergence after 8 epochs took 0.03 seconds\n",
      "-- Epoch 1\n",
      "Norm: 5.19, NNZs: 300, Bias: 0.094848, T: 10555, Avg. loss: 0.205529\n",
      "Total training time: 0.00 seconds.\n",
      "-- Epoch 2\n",
      "Norm: 4.21, NNZs: 300, Bias: 0.578599, T: 21110, Avg. loss: 0.107478\n",
      "Total training time: 0.01 seconds.\n",
      "-- Epoch 3\n",
      "Norm: 4.00, NNZs: 300, Bias: 0.520719, T: 31665, Avg. loss: 0.101704\n",
      "Total training time: 0.01 seconds.\n",
      "-- Epoch 4\n",
      "Norm: 3.74, NNZs: 300, Bias: 0.457063, T: 42220, Avg. loss: 0.099228\n",
      "Total training time: 0.01 seconds.\n",
      "-- Epoch 5\n",
      "Norm: 3.62, NNZs: 300, Bias: 0.418169, T: 52775, Avg. loss: 0.097752\n",
      "Total training time: 0.01 seconds.\n",
      "-- Epoch 6\n",
      "Norm: 3.55, NNZs: 300, Bias: 0.393106, T: 63330, Avg. loss: 0.096680\n",
      "Total training time: 0.02 seconds.\n",
      "-- Epoch 7\n",
      "Norm: 3.55, NNZs: 300, Bias: 0.370573, T: 73885, Avg. loss: 0.096498\n",
      "Total training time: 0.02 seconds.\n",
      "-- Epoch 8\n",
      "Norm: 3.48, NNZs: 300, Bias: 0.411100, T: 84440, Avg. loss: 0.095580\n",
      "Total training time: 0.02 seconds.\n",
      "-- Epoch 9\n",
      "Norm: 3.51, NNZs: 300, Bias: 0.357679, T: 94995, Avg. loss: 0.094657\n",
      "Total training time: 0.03 seconds.\n",
      "-- Epoch 10\n",
      "Norm: 3.43, NNZs: 300, Bias: 0.388952, T: 105550, Avg. loss: 0.094817\n",
      "Total training time: 0.03 seconds.\n",
      "-- Epoch 11\n",
      "Norm: 3.39, NNZs: 300, Bias: 0.361839, T: 116105, Avg. loss: 0.094855\n",
      "Total training time: 0.03 seconds.\n",
      "Convergence after 11 epochs took 0.03 seconds\n",
      "-- Epoch 1\n",
      "Norm: 3.22, NNZs: 300, Bias: -3.020407, T: 10555, Avg. loss: 0.064045\n",
      "Total training time: 0.00 seconds.\n",
      "-- Epoch 2\n",
      "Norm: 2.70, NNZs: 300, Bias: -2.237762, T: 21110, Avg. loss: 0.031199\n",
      "Total training time: 0.01 seconds.\n",
      "-- Epoch 3\n",
      "Norm: 2.45, NNZs: 300, Bias: -1.719478, T: 31665, Avg. loss: 0.028170\n",
      "Total training time: 0.01 seconds.\n",
      "-- Epoch 4\n",
      "Norm: 2.28, NNZs: 300, Bias: -1.495649, T: 42220, Avg. loss: 0.026822\n",
      "Total training time: 0.01 seconds.\n",
      "-- Epoch 5\n",
      "Norm: 2.18, NNZs: 300, Bias: -1.320238, T: 52775, Avg. loss: 0.026447\n",
      "Total training time: 0.02 seconds.\n",
      "-- Epoch 6\n",
      "Norm: 2.12, NNZs: 300, Bias: -1.144389, T: 63330, Avg. loss: 0.025904\n",
      "Total training time: 0.02 seconds.\n",
      "-- Epoch 7\n",
      "Norm: 2.11, NNZs: 300, Bias: -1.016730, T: 73885, Avg. loss: 0.025534\n",
      "Total training time: 0.02 seconds.\n",
      "-- Epoch 8\n",
      "Norm: 2.08, NNZs: 300, Bias: -0.930579, T: 84440, Avg. loss: 0.025399\n",
      "Total training time: 0.03 seconds.\n",
      "-- Epoch 9\n",
      "Norm: 2.05, NNZs: 300, Bias: -0.907689, T: 94995, Avg. loss: 0.025389\n",
      "Total training time: 0.03 seconds.\n",
      "Convergence after 9 epochs took 0.03 seconds\n",
      "-- Epoch 1\n",
      "Norm: 3.61, NNZs: 300, Bias: -2.549367, T: 10555, Avg. loss: 0.092800\n",
      "Total training time: 0.00 seconds.\n",
      "-- Epoch 2\n",
      "Norm: 3.05, NNZs: 300, Bias: -1.644605, T: 21110, Avg. loss: 0.045813\n",
      "Total training time: 0.01 seconds.\n",
      "-- Epoch 3\n",
      "Norm: 2.73, NNZs: 300, Bias: -1.346911, T: 31665, Avg. loss: 0.041240\n",
      "Total training time: 0.01 seconds.\n",
      "-- Epoch 4\n",
      "Norm: 2.54, NNZs: 300, Bias: -1.170002, T: 42220, Avg. loss: 0.039680\n",
      "Total training time: 0.01 seconds.\n",
      "-- Epoch 5\n",
      "Norm: 2.44, NNZs: 300, Bias: -1.123160, T: 52775, Avg. loss: 0.039317\n",
      "Total training time: 0.02 seconds.\n",
      "-- Epoch 6\n",
      "Norm: 2.42, NNZs: 300, Bias: -1.014830, T: 63330, Avg. loss: 0.039065\n",
      "Total training time: 0.02 seconds.\n",
      "-- Epoch 7\n",
      "Norm: 2.41, NNZs: 300, Bias: -0.965046, T: 73885, Avg. loss: 0.038358\n",
      "Total training time: 0.02 seconds.\n",
      "-- Epoch 8\n",
      "Norm: 2.34, NNZs: 300, Bias: -0.863342, T: 84440, Avg. loss: 0.038585\n",
      "Total training time: 0.03 seconds.\n",
      "-- Epoch 9\n",
      "Norm: 2.33, NNZs: 300, Bias: -0.872352, T: 94995, Avg. loss: 0.037978\n",
      "Total training time: 0.03 seconds.\n",
      "Convergence after 9 epochs took 0.03 seconds\n",
      "-- Epoch 1\n",
      "Norm: 4.26, NNZs: 300, Bias: -2.262560, T: 10555, Avg. loss: 0.069689\n",
      "Total training time: 0.00 seconds.\n",
      "-- Epoch 2\n",
      "Norm: 3.43, NNZs: 300, Bias: -1.506584, T: 21110, Avg. loss: 0.035187\n",
      "Total training time: 0.01 seconds.\n",
      "-- Epoch 3\n",
      "Norm: 3.24, NNZs: 300, Bias: -1.223200, T: 31665, Avg. loss: 0.032415\n",
      "Total training time: 0.01 seconds.\n",
      "-- Epoch 4\n",
      "Norm: 3.08, NNZs: 300, Bias: -1.032430, T: 42220, Avg. loss: 0.030573\n",
      "Total training time: 0.01 seconds.\n",
      "-- Epoch 5\n",
      "Norm: 3.06, NNZs: 300, Bias: -0.924861, T: 52775, Avg. loss: 0.030836\n",
      "Total training time: 0.02 seconds.\n",
      "-- Epoch 6\n",
      "Norm: 2.99, NNZs: 300, Bias: -0.805460, T: 63330, Avg. loss: 0.029674\n",
      "Total training time: 0.02 seconds.\n",
      "-- Epoch 7\n",
      "Norm: 2.98, NNZs: 300, Bias: -0.719119, T: 73885, Avg. loss: 0.029826\n",
      "Total training time: 0.02 seconds.\n",
      "-- Epoch 8\n",
      "Norm: 2.96, NNZs: 300, Bias: -0.668772, T: 84440, Avg. loss: 0.029384\n",
      "Total training time: 0.03 seconds.\n",
      "-- Epoch 9\n",
      "Norm: 2.96, NNZs: 300, Bias: -0.648407, T: 94995, Avg. loss: 0.029325\n",
      "Total training time: 0.03 seconds.\n",
      "Convergence after 9 epochs took 0.03 seconds\n",
      "-- Epoch 1\n",
      "Norm: 3.93, NNZs: 300, Bias: -0.657311, T: 10555, Avg. loss: 0.052925\n",
      "Total training time: 0.00 seconds.\n",
      "-- Epoch 2\n",
      "Norm: 3.19, NNZs: 300, Bias: -0.326863, T: 21110, Avg. loss: 0.022470\n",
      "Total training time: 0.01 seconds.\n",
      "-- Epoch 3\n",
      "Norm: 2.91, NNZs: 300, Bias: -0.310016, T: 31665, Avg. loss: 0.021423\n",
      "Total training time: 0.01 seconds.\n",
      "-- Epoch 4\n",
      "Norm: 2.78, NNZs: 300, Bias: -0.250570, T: 42220, Avg. loss: 0.020912\n",
      "Total training time: 0.01 seconds.\n",
      "-- Epoch 5\n",
      "Norm: 2.78, NNZs: 300, Bias: -0.266257, T: 52775, Avg. loss: 0.020685\n",
      "Total training time: 0.02 seconds.\n",
      "-- Epoch 6\n",
      "Norm: 2.70, NNZs: 300, Bias: -0.280727, T: 63330, Avg. loss: 0.020349\n",
      "Total training time: 0.02 seconds.\n",
      "-- Epoch 7\n",
      "Norm: 2.65, NNZs: 300, Bias: -0.223786, T: 73885, Avg. loss: 0.020136\n",
      "Total training time: 0.03 seconds.\n",
      "-- Epoch 8\n",
      "Norm: 2.62, NNZs: 300, Bias: -0.251251, T: 84440, Avg. loss: 0.020163\n",
      "Total training time: 0.03 seconds.\n",
      "Convergence after 8 epochs took 0.03 seconds\n",
      "-- Epoch 1\n",
      "Norm: 2.29, NNZs: 300, Bias: -2.927900, T: 10555, Avg. loss: 0.033070\n",
      "Total training time: 0.00 seconds.\n",
      "-- Epoch 2\n",
      "Norm: 1.50, NNZs: 300, Bias: -2.366401, T: 21110, Avg. loss: 0.019927\n",
      "Total training time: 0.01 seconds.\n",
      "-- Epoch 3\n",
      "Norm: 1.39, NNZs: 300, Bias: -1.979955, T: 31665, Avg. loss: 0.017702\n",
      "Total training time: 0.01 seconds.\n",
      "-- Epoch 4\n",
      "Norm: 1.24, NNZs: 300, Bias: -1.715245, T: 42220, Avg. loss: 0.017043\n",
      "Total training time: 0.02 seconds.\n",
      "-- Epoch 5\n",
      "Norm: 1.10, NNZs: 300, Bias: -1.611217, T: 52775, Avg. loss: 0.016522\n",
      "Total training time: 0.02 seconds.\n",
      "-- Epoch 6\n",
      "Norm: 1.04, NNZs: 300, Bias: -1.422014, T: 63330, Avg. loss: 0.016265\n",
      "Total training time: 0.02 seconds.\n",
      "-- Epoch 7\n",
      "Norm: 0.96, NNZs: 300, Bias: -1.381416, T: 73885, Avg. loss: 0.015956\n",
      "Total training time: 0.03 seconds.\n",
      "-- Epoch 8\n",
      "Norm: 0.89, NNZs: 300, Bias: -1.316792, T: 84440, Avg. loss: 0.015935\n",
      "Total training time: 0.03 seconds.\n",
      "Convergence after 8 epochs took 0.03 seconds\n",
      "-- Epoch 1\n",
      "Norm: 3.08, NNZs: 300, Bias: -2.423987, T: 10555, Avg. loss: 0.038267\n",
      "Total training time: 0.00 seconds.\n",
      "-- Epoch 2\n",
      "Norm: 2.84, NNZs: 300, Bias: -1.645020, T: 21110, Avg. loss: 0.017993\n",
      "Total training time: 0.01 seconds.\n",
      "-- Epoch 3\n",
      "Norm: 2.64, NNZs: 300, Bias: -1.412184, T: 31665, Avg. loss: 0.016475\n",
      "Total training time: 0.01 seconds.\n",
      "-- Epoch 4\n",
      "Norm: 2.58, NNZs: 300, Bias: -1.110983, T: 42220, Avg. loss: 0.015364\n",
      "Total training time: 0.01 seconds.\n",
      "-- Epoch 5\n",
      "Norm: 2.58, NNZs: 300, Bias: -1.005730, T: 52775, Avg. loss: 0.014488\n",
      "Total training time: 0.02 seconds.\n",
      "-- Epoch 6\n",
      "Norm: 2.54, NNZs: 300, Bias: -0.889201, T: 63330, Avg. loss: 0.014492\n",
      "Total training time: 0.02 seconds.\n",
      "-- Epoch 7\n",
      "Norm: 2.49, NNZs: 300, Bias: -0.891234, T: 73885, Avg. loss: 0.014167\n",
      "Total training time: 0.02 seconds.\n",
      "-- Epoch 8\n",
      "Norm: 2.49, NNZs: 300, Bias: -0.812021, T: 84440, Avg. loss: 0.014455\n",
      "Total training time: 0.02 seconds.\n",
      "-- Epoch 9\n",
      "Norm: 2.48, NNZs: 300, Bias: -0.765654, T: 94995, Avg. loss: 0.014083\n",
      "Total training time: 0.03 seconds.\n",
      "Convergence after 9 epochs took 0.03 seconds\n",
      "-- Epoch 1\n",
      "Norm: 3.89, NNZs: 300, Bias: -0.092531, T: 10555, Avg. loss: 0.110364\n",
      "Total training time: 0.00 seconds.\n",
      "-- Epoch 2\n",
      "Norm: 3.66, NNZs: 300, Bias: -0.129193, T: 21110, Avg. loss: 0.054493\n",
      "Total training time: 0.01 seconds.\n",
      "-- Epoch 3\n",
      "Norm: 3.40, NNZs: 300, Bias: -0.136892, T: 31665, Avg. loss: 0.052179\n",
      "Total training time: 0.01 seconds.\n",
      "-- Epoch 4\n",
      "Norm: 3.28, NNZs: 300, Bias: -0.032337, T: 42220, Avg. loss: 0.049706\n",
      "Total training time: 0.01 seconds.\n",
      "-- Epoch 5\n",
      "Norm: 3.23, NNZs: 300, Bias: -0.112592, T: 52775, Avg. loss: 0.049695\n",
      "Total training time: 0.02 seconds.\n",
      "-- Epoch 6\n",
      "Norm: 3.13, NNZs: 300, Bias: 0.024373, T: 63330, Avg. loss: 0.049364\n",
      "Total training time: 0.02 seconds.\n",
      "-- Epoch 7\n",
      "Norm: 3.11, NNZs: 300, Bias: -0.053494, T: 73885, Avg. loss: 0.048950\n",
      "Total training time: 0.02 seconds.\n",
      "-- Epoch 8\n",
      "Norm: 3.09, NNZs: 300, Bias: -0.065759, T: 84440, Avg. loss: 0.048754\n",
      "Total training time: 0.02 seconds.\n",
      "-- Epoch 9\n",
      "Norm: 3.04, NNZs: 300, Bias: -0.100216, T: 94995, Avg. loss: 0.048105\n",
      "Total training time: 0.03 seconds.\n",
      "Convergence after 9 epochs took 0.03 seconds\n",
      "-- Epoch 1\n",
      "Norm: 2.92, NNZs: 300, Bias: -1.692784, T: 10555, Avg. loss: 0.032451\n",
      "Total training time: 0.00 seconds.\n",
      "-- Epoch 2\n",
      "Norm: 2.58, NNZs: 300, Bias: -1.039714, T: 21110, Avg. loss: 0.019391\n",
      "Total training time: 0.01 seconds.\n",
      "-- Epoch 3\n",
      "Norm: 2.33, NNZs: 300, Bias: -0.624032, T: 31665, Avg. loss: 0.017992\n",
      "Total training time: 0.01 seconds.\n",
      "-- Epoch 4\n",
      "Norm: 2.23, NNZs: 300, Bias: -0.496576, T: 42220, Avg. loss: 0.017218\n",
      "Total training time: 0.01 seconds.\n",
      "-- Epoch 5\n",
      "Norm: 2.15, NNZs: 300, Bias: -0.419548, T: 52775, Avg. loss: 0.016731\n",
      "Total training time: 0.02 seconds.\n",
      "-- Epoch 6\n",
      "Norm: 2.13, NNZs: 300, Bias: -0.370934, T: 63330, Avg. loss: 0.016572\n",
      "Total training time: 0.02 seconds.\n",
      "-- Epoch 7\n",
      "Norm: 2.13, NNZs: 300, Bias: -0.345931, T: 73885, Avg. loss: 0.016407\n",
      "Total training time: 0.02 seconds.\n",
      "-- Epoch 8\n",
      "Norm: 2.13, NNZs: 300, Bias: -0.307038, T: 84440, Avg. loss: 0.016514\n",
      "Total training time: 0.03 seconds.\n",
      "Convergence after 8 epochs took 0.03 seconds\n",
      "-- Epoch 1\n",
      "Norm: 4.17, NNZs: 300, Bias: -3.254297, T: 10555, Avg. loss: 0.051183\n",
      "Total training time: 0.00 seconds.\n",
      "-- Epoch 2\n",
      "Norm: 3.49, NNZs: 300, Bias: -2.575203, T: 21110, Avg. loss: 0.027164\n",
      "Total training time: 0.01 seconds.\n",
      "-- Epoch 3\n",
      "Norm: 3.32, NNZs: 300, Bias: -2.115329, T: 31665, Avg. loss: 0.024392\n",
      "Total training time: 0.01 seconds.\n",
      "-- Epoch 4\n",
      "Norm: 3.21, NNZs: 300, Bias: -1.858573, T: 42220, Avg. loss: 0.023353\n",
      "Total training time: 0.01 seconds.\n",
      "-- Epoch 5\n",
      "Norm: 3.15, NNZs: 300, Bias: -1.667614, T: 52775, Avg. loss: 0.023483\n",
      "Total training time: 0.02 seconds.\n",
      "-- Epoch 6\n",
      "Norm: 3.12, NNZs: 300, Bias: -1.484674, T: 63330, Avg. loss: 0.022734\n",
      "Total training time: 0.02 seconds.\n",
      "-- Epoch 7\n",
      "Norm: 3.08, NNZs: 300, Bias: -1.446611, T: 73885, Avg. loss: 0.022458\n",
      "Total training time: 0.02 seconds.\n",
      "-- Epoch 8\n",
      "Norm: 3.05, NNZs: 300, Bias: -1.395392, T: 84440, Avg. loss: 0.022111\n",
      "Total training time: 0.02 seconds.\n",
      "-- Epoch 9\n",
      "Norm: 3.04, NNZs: 300, Bias: -1.295509, T: 94995, Avg. loss: 0.022251\n",
      "Total training time: 0.03 seconds.\n",
      "Convergence after 9 epochs took 0.03 seconds\n",
      "-- Epoch 1\n",
      "Norm: 3.57, NNZs: 300, Bias: -3.859702, T: 10555, Avg. loss: 0.031388\n",
      "Total training time: 0.00 seconds.\n",
      "-- Epoch 2\n",
      "Norm: 2.97, NNZs: 300, Bias: -3.231168, T: 21110, Avg. loss: 0.015317\n",
      "Total training time: 0.01 seconds.\n",
      "-- Epoch 3\n",
      "Norm: 2.94, NNZs: 300, Bias: -2.759578, T: 31665, Avg. loss: 0.014670\n",
      "Total training time: 0.01 seconds.\n",
      "-- Epoch 4\n",
      "Norm: 2.78, NNZs: 300, Bias: -2.510472, T: 42220, Avg. loss: 0.013869\n",
      "Total training time: 0.01 seconds.\n",
      "-- Epoch 5\n",
      "Norm: 2.70, NNZs: 300, Bias: -2.334689, T: 52775, Avg. loss: 0.013523\n",
      "Total training time: 0.02 seconds.\n",
      "-- Epoch 6\n",
      "Norm: 2.72, NNZs: 300, Bias: -2.179998, T: 63330, Avg. loss: 0.013395\n",
      "Total training time: 0.02 seconds.\n",
      "-- Epoch 7\n",
      "Norm: 2.69, NNZs: 300, Bias: -2.078080, T: 73885, Avg. loss: 0.013098\n",
      "Total training time: 0.02 seconds.\n",
      "Convergence after 7 epochs took 0.02 seconds\n",
      "-- Epoch 1\n",
      "Norm: 2.11, NNZs: 300, Bias: -3.402381, T: 10555, Avg. loss: 0.022311\n",
      "Total training time: 0.00 seconds.\n",
      "-- Epoch 2\n",
      "Norm: 1.72, NNZs: 300, Bias: -2.749022, T: 21110, Avg. loss: 0.013566\n",
      "Total training time: 0.01 seconds.\n",
      "-- Epoch 3\n",
      "Norm: 1.77, NNZs: 300, Bias: -2.264422, T: 31665, Avg. loss: 0.011816\n",
      "Total training time: 0.01 seconds.\n",
      "-- Epoch 4\n",
      "Norm: 1.55, NNZs: 300, Bias: -1.996286, T: 42220, Avg. loss: 0.011081\n",
      "Total training time: 0.01 seconds.\n",
      "-- Epoch 5\n",
      "Norm: 1.52, NNZs: 300, Bias: -1.803912, T: 52775, Avg. loss: 0.010669\n",
      "Total training time: 0.01 seconds.\n",
      "-- Epoch 6\n",
      "Norm: 1.48, NNZs: 300, Bias: -1.680567, T: 63330, Avg. loss: 0.010338\n",
      "Total training time: 0.02 seconds.\n",
      "-- Epoch 7\n",
      "Norm: 1.47, NNZs: 300, Bias: -1.577119, T: 73885, Avg. loss: 0.010309\n",
      "Total training time: 0.02 seconds.\n",
      "-- Epoch 8\n",
      "Norm: 1.49, NNZs: 300, Bias: -1.461920, T: 84440, Avg. loss: 0.010146\n",
      "Total training time: 0.02 seconds.\n",
      "Convergence after 8 epochs took 0.02 seconds\n",
      "-- Epoch 1\n",
      "Norm: 3.61, NNZs: 300, Bias: -1.427511, T: 10555, Avg. loss: 0.071988\n",
      "Total training time: 0.00 seconds.\n",
      "-- Epoch 2\n",
      "Norm: 2.78, NNZs: 300, Bias: -0.827405, T: 21110, Avg. loss: 0.033943\n",
      "Total training time: 0.01 seconds.\n",
      "-- Epoch 3\n",
      "Norm: 2.68, NNZs: 300, Bias: -0.566227, T: 31665, Avg. loss: 0.031453\n",
      "Total training time: 0.01 seconds.\n",
      "-- Epoch 4\n",
      "Norm: 2.64, NNZs: 300, Bias: -0.409570, T: 42220, Avg. loss: 0.030299\n",
      "Total training time: 0.01 seconds.\n",
      "-- Epoch 5\n",
      "Norm: 2.55, NNZs: 300, Bias: -0.352843, T: 52775, Avg. loss: 0.029838\n",
      "Total training time: 0.02 seconds.\n",
      "-- Epoch 6\n",
      "Norm: 2.56, NNZs: 300, Bias: -0.326739, T: 63330, Avg. loss: 0.029265\n",
      "Total training time: 0.02 seconds.\n",
      "-- Epoch 7\n",
      "Norm: 2.51, NNZs: 300, Bias: -0.224533, T: 73885, Avg. loss: 0.029104\n",
      "Total training time: 0.02 seconds.\n",
      "-- Epoch 8\n",
      "Norm: 2.48, NNZs: 300, Bias: -0.187891, T: 84440, Avg. loss: 0.029319\n",
      "Total training time: 0.03 seconds.\n",
      "-- Epoch 9\n",
      "Norm: 2.49, NNZs: 300, Bias: -0.189434, T: 94995, Avg. loss: 0.028748\n",
      "Total training time: 0.03 seconds.\n",
      "Convergence after 9 epochs took 0.03 seconds\n",
      "-- Epoch 1\n",
      "Norm: 6.03, NNZs: 300, Bias: 1.558698, T: 10555, Avg. loss: 0.412876\n",
      "Total training time: 0.00 seconds.\n",
      "-- Epoch 2\n",
      "Norm: 4.69, NNZs: 300, Bias: 1.069377, T: 21110, Avg. loss: 0.197701\n",
      "Total training time: 0.01 seconds.\n",
      "-- Epoch 3\n",
      "Norm: 4.14, NNZs: 300, Bias: 0.886942, T: 31665, Avg. loss: 0.189258\n",
      "Total training time: 0.01 seconds.\n",
      "-- Epoch 4\n",
      "Norm: 4.01, NNZs: 300, Bias: 0.614222, T: 42220, Avg. loss: 0.183087\n",
      "Total training time: 0.01 seconds.\n",
      "-- Epoch 5\n",
      "Norm: 3.93, NNZs: 300, Bias: 0.515380, T: 52775, Avg. loss: 0.180287\n",
      "Total training time: 0.02 seconds.\n",
      "-- Epoch 6\n",
      "Norm: 3.80, NNZs: 300, Bias: 0.430067, T: 63330, Avg. loss: 0.178159\n",
      "Total training time: 0.02 seconds.\n",
      "-- Epoch 7\n",
      "Norm: 3.73, NNZs: 300, Bias: 0.445671, T: 73885, Avg. loss: 0.177582\n",
      "Total training time: 0.03 seconds.\n",
      "-- Epoch 8\n",
      "Norm: 3.70, NNZs: 300, Bias: 0.397362, T: 84440, Avg. loss: 0.175171\n",
      "Total training time: 0.03 seconds.\n",
      "-- Epoch 9\n",
      "Norm: 3.67, NNZs: 300, Bias: 0.375782, T: 94995, Avg. loss: 0.174985\n",
      "Total training time: 0.03 seconds.\n",
      "-- Epoch 10\n",
      "Norm: 3.63, NNZs: 300, Bias: 0.405294, T: 105550, Avg. loss: 0.174413\n",
      "Total training time: 0.04 seconds.\n",
      "-- Epoch 11\n",
      "Norm: 3.61, NNZs: 300, Bias: 0.343728, T: 116105, Avg. loss: 0.173469\n",
      "Total training time: 0.04 seconds.\n",
      "-- Epoch 12\n",
      "Norm: 3.60, NNZs: 300, Bias: 0.336852, T: 126660, Avg. loss: 0.173544\n",
      "Total training time: 0.04 seconds.\n",
      "-- Epoch 13\n",
      "Norm: 3.53, NNZs: 300, Bias: 0.389789, T: 137215, Avg. loss: 0.173083\n",
      "Total training time: 0.04 seconds.\n",
      "Convergence after 13 epochs took 0.04 seconds\n",
      "-- Epoch 1\n",
      "Norm: 3.76, NNZs: 300, Bias: -2.340729, T: 10555, Avg. loss: 0.069178\n",
      "Total training time: 0.00 seconds.\n",
      "-- Epoch 2\n",
      "Norm: 2.82, NNZs: 300, Bias: -1.700797, T: 21110, Avg. loss: 0.031941\n",
      "Total training time: 0.01 seconds.\n",
      "-- Epoch 3\n",
      "Norm: 2.52, NNZs: 300, Bias: -1.440438, T: 31665, Avg. loss: 0.029742\n",
      "Total training time: 0.01 seconds.\n",
      "-- Epoch 4\n",
      "Norm: 2.48, NNZs: 300, Bias: -1.253553, T: 42220, Avg. loss: 0.028627\n",
      "Total training time: 0.01 seconds.\n",
      "-- Epoch 5\n",
      "Norm: 2.46, NNZs: 300, Bias: -1.126543, T: 52775, Avg. loss: 0.028040\n",
      "Total training time: 0.01 seconds.\n",
      "-- Epoch 6\n",
      "Norm: 2.41, NNZs: 300, Bias: -1.039709, T: 63330, Avg. loss: 0.027286\n",
      "Total training time: 0.02 seconds.\n",
      "-- Epoch 7\n",
      "Norm: 2.35, NNZs: 300, Bias: -1.021378, T: 73885, Avg. loss: 0.027063\n",
      "Total training time: 0.02 seconds.\n",
      "-- Epoch 8\n",
      "Norm: 2.33, NNZs: 300, Bias: -0.941671, T: 84440, Avg. loss: 0.027262\n",
      "Total training time: 0.02 seconds.\n",
      "-- Epoch 9\n",
      "Norm: 2.34, NNZs: 300, Bias: -0.886132, T: 94995, Avg. loss: 0.027011\n",
      "Total training time: 0.03 seconds.\n",
      "Convergence after 9 epochs took 0.03 seconds\n",
      "-- Epoch 1\n",
      "Norm: 3.91, NNZs: 300, Bias: -1.807491, T: 10555, Avg. loss: 0.049967\n",
      "Total training time: 0.00 seconds.\n",
      "-- Epoch 2\n",
      "Norm: 3.14, NNZs: 300, Bias: -1.271552, T: 21110, Avg. loss: 0.024715\n",
      "Total training time: 0.01 seconds.\n",
      "-- Epoch 3\n",
      "Norm: 2.93, NNZs: 300, Bias: -1.075759, T: 31665, Avg. loss: 0.022547\n",
      "Total training time: 0.01 seconds.\n",
      "-- Epoch 4\n",
      "Norm: 2.90, NNZs: 300, Bias: -0.857412, T: 42220, Avg. loss: 0.021633\n",
      "Total training time: 0.01 seconds.\n",
      "-- Epoch 5\n",
      "Norm: 2.81, NNZs: 300, Bias: -0.713290, T: 52775, Avg. loss: 0.021096\n",
      "Total training time: 0.02 seconds.\n",
      "-- Epoch 6\n",
      "Norm: 2.78, NNZs: 300, Bias: -0.679631, T: 63330, Avg. loss: 0.021387\n",
      "Total training time: 0.02 seconds.\n",
      "-- Epoch 7\n",
      "Norm: 2.74, NNZs: 300, Bias: -0.630755, T: 73885, Avg. loss: 0.020902\n",
      "Total training time: 0.02 seconds.\n",
      "-- Epoch 8\n",
      "Norm: 2.72, NNZs: 300, Bias: -0.552550, T: 84440, Avg. loss: 0.021080\n",
      "Total training time: 0.03 seconds.\n",
      "Convergence after 8 epochs took 0.03 seconds\n",
      "-- Epoch 1\n",
      "Norm: 4.67, NNZs: 300, Bias: -0.719487, T: 10555, Avg. loss: 0.124468\n",
      "Total training time: 0.00 seconds.\n",
      "-- Epoch 2\n",
      "Norm: 3.65, NNZs: 300, Bias: -0.469202, T: 21110, Avg. loss: 0.070121\n",
      "Total training time: 0.01 seconds.\n",
      "-- Epoch 3\n",
      "Norm: 3.34, NNZs: 300, Bias: -0.087622, T: 31665, Avg. loss: 0.064859\n",
      "Total training time: 0.01 seconds.\n",
      "-- Epoch 4\n",
      "Norm: 3.14, NNZs: 300, Bias: -0.084553, T: 42220, Avg. loss: 0.063655\n",
      "Total training time: 0.01 seconds.\n",
      "-- Epoch 5\n",
      "Norm: 3.09, NNZs: 300, Bias: -0.083593, T: 52775, Avg. loss: 0.061967\n",
      "Total training time: 0.01 seconds.\n",
      "-- Epoch 6\n",
      "Norm: 3.06, NNZs: 300, Bias: -0.095658, T: 63330, Avg. loss: 0.061271\n",
      "Total training time: 0.02 seconds.\n",
      "-- Epoch 7\n",
      "Norm: 2.99, NNZs: 300, Bias: -0.080117, T: 73885, Avg. loss: 0.060859\n",
      "Total training time: 0.02 seconds.\n",
      "-- Epoch 8\n",
      "Norm: 2.96, NNZs: 300, Bias: -0.101419, T: 84440, Avg. loss: 0.060757\n",
      "Total training time: 0.02 seconds.\n",
      "-- Epoch 9\n",
      "Norm: 2.94, NNZs: 300, Bias: -0.121605, T: 94995, Avg. loss: 0.060688\n",
      "Total training time: 0.03 seconds.\n",
      "-- Epoch 10\n",
      "Norm: 2.91, NNZs: 300, Bias: -0.121472, T: 105550, Avg. loss: 0.060263\n",
      "Total training time: 0.03 seconds.\n",
      "Convergence after 10 epochs took 0.03 seconds\n",
      "-- Epoch 1\n",
      "Norm: 4.85, NNZs: 300, Bias: 0.482680, T: 10555, Avg. loss: 0.093114\n",
      "Total training time: 0.00 seconds.\n",
      "-- Epoch 2\n",
      "Norm: 3.92, NNZs: 300, Bias: 1.018653, T: 21110, Avg. loss: 0.049344\n",
      "Total training time: 0.01 seconds.\n",
      "-- Epoch 3\n",
      "Norm: 3.71, NNZs: 300, Bias: 0.999708, T: 31665, Avg. loss: 0.045835\n",
      "Total training time: 0.01 seconds.\n",
      "-- Epoch 4\n",
      "Norm: 3.68, NNZs: 300, Bias: 1.053806, T: 42220, Avg. loss: 0.044679\n",
      "Total training time: 0.01 seconds.\n",
      "-- Epoch 5\n",
      "Norm: 3.53, NNZs: 300, Bias: 1.142174, T: 52775, Avg. loss: 0.044090\n",
      "Total training time: 0.02 seconds.\n",
      "-- Epoch 6\n",
      "Norm: 3.54, NNZs: 300, Bias: 1.089051, T: 63330, Avg. loss: 0.043787\n",
      "Total training time: 0.02 seconds.\n",
      "-- Epoch 7\n",
      "Norm: 3.47, NNZs: 300, Bias: 1.102277, T: 73885, Avg. loss: 0.043693\n",
      "Total training time: 0.02 seconds.\n",
      "-- Epoch 8\n",
      "Norm: 3.43, NNZs: 300, Bias: 1.078737, T: 84440, Avg. loss: 0.043285\n",
      "Total training time: 0.03 seconds.\n",
      "-- Epoch 9\n",
      "Norm: 3.39, NNZs: 300, Bias: 1.068412, T: 94995, Avg. loss: 0.043535\n",
      "Total training time: 0.03 seconds.\n",
      "Convergence after 9 epochs took 0.03 seconds\n",
      "-- Epoch 1\n",
      "Norm: 3.56, NNZs: 300, Bias: -3.588017, T: 10555, Avg. loss: 0.041602\n",
      "Total training time: 0.00 seconds.\n",
      "-- Epoch 2\n",
      "Norm: 2.93, NNZs: 300, Bias: -2.721067, T: 21110, Avg. loss: 0.017365\n",
      "Total training time: 0.01 seconds.\n",
      "-- Epoch 3\n",
      "Norm: 2.70, NNZs: 300, Bias: -2.216274, T: 31665, Avg. loss: 0.015294\n",
      "Total training time: 0.01 seconds.\n",
      "-- Epoch 4\n",
      "Norm: 2.58, NNZs: 300, Bias: -1.972369, T: 42220, Avg. loss: 0.015100\n",
      "Total training time: 0.01 seconds.\n",
      "-- Epoch 5\n",
      "Norm: 2.53, NNZs: 300, Bias: -1.726488, T: 52775, Avg. loss: 0.014513\n",
      "Total training time: 0.02 seconds.\n",
      "-- Epoch 6\n",
      "Norm: 2.48, NNZs: 300, Bias: -1.631682, T: 63330, Avg. loss: 0.014365\n",
      "Total training time: 0.02 seconds.\n",
      "-- Epoch 7\n",
      "Norm: 2.44, NNZs: 300, Bias: -1.519191, T: 73885, Avg. loss: 0.014136\n",
      "Total training time: 0.02 seconds.\n",
      "-- Epoch 8\n",
      "Norm: 2.42, NNZs: 300, Bias: -1.434740, T: 84440, Avg. loss: 0.014045\n",
      "Total training time: 0.02 seconds.\n",
      "Convergence after 8 epochs took 0.02 seconds\n",
      "-- Epoch 1\n",
      "Norm: 2.52, NNZs: 300, Bias: -3.571959, T: 10555, Avg. loss: 0.017498\n",
      "Total training time: 0.00 seconds.\n",
      "-- Epoch 2\n",
      "Norm: 1.98, NNZs: 300, Bias: -2.974172, T: 21110, Avg. loss: 0.010287\n",
      "Total training time: 0.01 seconds.\n",
      "-- Epoch 3\n",
      "Norm: 1.76, NNZs: 300, Bias: -2.738932, T: 31665, Avg. loss: 0.008993\n",
      "Total training time: 0.01 seconds.\n",
      "-- Epoch 4\n",
      "Norm: 1.64, NNZs: 300, Bias: -2.540070, T: 42220, Avg. loss: 0.008875\n",
      "Total training time: 0.01 seconds.\n",
      "-- Epoch 5\n",
      "Norm: 1.64, NNZs: 300, Bias: -2.348522, T: 52775, Avg. loss: 0.008482\n",
      "Total training time: 0.02 seconds.\n",
      "-- Epoch 6\n",
      "Norm: 1.54, NNZs: 300, Bias: -2.283007, T: 63330, Avg. loss: 0.008394\n",
      "Total training time: 0.02 seconds.\n",
      "-- Epoch 7\n",
      "Norm: 1.54, NNZs: 300, Bias: -2.166728, T: 73885, Avg. loss: 0.008254\n",
      "Total training time: 0.02 seconds.\n",
      "-- Epoch 8\n",
      "Norm: 1.50, NNZs: 300, Bias: -2.079788, T: 84440, Avg. loss: 0.008121\n",
      "Total training time: 0.03 seconds.\n",
      "Convergence after 8 epochs took 0.03 seconds\n",
      "-- Epoch 1\n",
      "Norm: 3.42, NNZs: 300, Bias: -1.937190, T: 10555, Avg. loss: 0.045238\n",
      "Total training time: 0.00 seconds.\n",
      "-- Epoch 2\n",
      "Norm: 3.08, NNZs: 300, Bias: -1.326886, T: 21110, Avg. loss: 0.020552\n",
      "Total training time: 0.01 seconds.\n",
      "-- Epoch 3\n",
      "Norm: 2.86, NNZs: 300, Bias: -0.956290, T: 31665, Avg. loss: 0.019001\n",
      "Total training time: 0.01 seconds.\n",
      "-- Epoch 4\n",
      "Norm: 2.73, NNZs: 300, Bias: -0.881049, T: 42220, Avg. loss: 0.018337\n",
      "Total training time: 0.01 seconds.\n",
      "-- Epoch 5\n",
      "Norm: 2.67, NNZs: 300, Bias: -0.792872, T: 52775, Avg. loss: 0.018126\n",
      "Total training time: 0.02 seconds.\n",
      "-- Epoch 6\n",
      "Norm: 2.64, NNZs: 300, Bias: -0.650144, T: 63330, Avg. loss: 0.017995\n",
      "Total training time: 0.02 seconds.\n",
      "-- Epoch 7\n",
      "Norm: 2.66, NNZs: 300, Bias: -0.619978, T: 73885, Avg. loss: 0.017644\n",
      "Total training time: 0.02 seconds.\n",
      "-- Epoch 8\n",
      "Norm: 2.65, NNZs: 300, Bias: -0.569023, T: 84440, Avg. loss: 0.017354\n",
      "Total training time: 0.03 seconds.\n",
      "Convergence after 8 epochs took 0.03 seconds\n",
      "-- Epoch 1\n",
      "Norm: 2.90, NNZs: 300, Bias: -2.184555, T: 10555, Avg. loss: 0.025894\n",
      "Total training time: 0.00 seconds.\n",
      "-- Epoch 2\n",
      "Norm: 2.25, NNZs: 300, Bias: -1.724998, T: 21110, Avg. loss: 0.014932\n",
      "Total training time: 0.01 seconds.\n",
      "-- Epoch 3\n",
      "Norm: 2.07, NNZs: 300, Bias: -1.319007, T: 31665, Avg. loss: 0.013771\n",
      "Total training time: 0.01 seconds.\n",
      "-- Epoch 4\n",
      "Norm: 1.96, NNZs: 300, Bias: -1.175101, T: 42220, Avg. loss: 0.013037\n",
      "Total training time: 0.01 seconds.\n",
      "-- Epoch 5\n",
      "Norm: 1.88, NNZs: 300, Bias: -0.960989, T: 52775, Avg. loss: 0.012850\n",
      "Total training time: 0.02 seconds.\n",
      "-- Epoch 6\n",
      "Norm: 1.81, NNZs: 300, Bias: -0.925012, T: 63330, Avg. loss: 0.012727\n",
      "Total training time: 0.02 seconds.\n",
      "-- Epoch 7\n",
      "Norm: 1.77, NNZs: 300, Bias: -0.834278, T: 73885, Avg. loss: 0.012455\n",
      "Total training time: 0.02 seconds.\n",
      "-- Epoch 8\n",
      "Norm: 1.76, NNZs: 300, Bias: -0.769598, T: 84440, Avg. loss: 0.012488\n",
      "Total training time: 0.02 seconds.\n",
      "Convergence after 8 epochs took 0.02 seconds\n",
      "-- Epoch 1\n",
      "Norm: 4.28, NNZs: 300, Bias: -1.630046, T: 10555, Avg. loss: 0.122564\n",
      "Total training time: 0.00 seconds.\n",
      "-- Epoch 2\n",
      "Norm: 3.50, NNZs: 300, Bias: -0.690765, T: 21110, Avg. loss: 0.058131\n",
      "Total training time: 0.01 seconds.\n",
      "-- Epoch 3\n",
      "Norm: 3.07, NNZs: 300, Bias: -0.340287, T: 31665, Avg. loss: 0.052547\n",
      "Total training time: 0.01 seconds.\n",
      "-- Epoch 4\n",
      "Norm: 2.96, NNZs: 300, Bias: -0.097665, T: 42220, Avg. loss: 0.051333\n",
      "Total training time: 0.01 seconds.\n",
      "-- Epoch 5\n",
      "Norm: 2.85, NNZs: 300, Bias: -0.042124, T: 52775, Avg. loss: 0.050783\n",
      "Total training time: 0.02 seconds.\n",
      "-- Epoch 6\n",
      "Norm: 2.78, NNZs: 300, Bias: 0.038642, T: 63330, Avg. loss: 0.049994\n",
      "Total training time: 0.02 seconds.\n",
      "-- Epoch 7\n",
      "Norm: 2.74, NNZs: 300, Bias: 0.008925, T: 73885, Avg. loss: 0.049972\n",
      "Total training time: 0.02 seconds.\n",
      "-- Epoch 8\n",
      "Norm: 2.75, NNZs: 300, Bias: 0.060064, T: 84440, Avg. loss: 0.048987\n",
      "Total training time: 0.03 seconds.\n",
      "-- Epoch 9\n",
      "Norm: 2.73, NNZs: 300, Bias: 0.047813, T: 94995, Avg. loss: 0.048916\n",
      "Total training time: 0.03 seconds.\n",
      "Convergence after 9 epochs took 0.03 seconds\n",
      "-- Epoch 1\n",
      "Norm: 2.45, NNZs: 300, Bias: -4.289507, T: 10555, Avg. loss: 0.015001\n",
      "Total training time: 0.00 seconds.\n",
      "-- Epoch 2\n",
      "Norm: 2.06, NNZs: 300, Bias: -3.797527, T: 21110, Avg. loss: 0.008474\n",
      "Total training time: 0.01 seconds.\n",
      "-- Epoch 3\n",
      "Norm: 1.90, NNZs: 300, Bias: -3.449195, T: 31665, Avg. loss: 0.007344\n",
      "Total training time: 0.01 seconds.\n",
      "-- Epoch 4\n",
      "Norm: 1.65, NNZs: 300, Bias: -3.309024, T: 42220, Avg. loss: 0.007198\n",
      "Total training time: 0.01 seconds.\n",
      "-- Epoch 5\n",
      "Norm: 1.62, NNZs: 300, Bias: -3.095922, T: 52775, Avg. loss: 0.006853\n",
      "Total training time: 0.02 seconds.\n",
      "-- Epoch 6\n",
      "Norm: 1.54, NNZs: 300, Bias: -2.956495, T: 63330, Avg. loss: 0.006904\n",
      "Total training time: 0.02 seconds.\n",
      "-- Epoch 7\n",
      "Norm: 1.48, NNZs: 300, Bias: -2.841369, T: 73885, Avg. loss: 0.006832\n",
      "Total training time: 0.02 seconds.\n",
      "-- Epoch 8\n",
      "Norm: 1.46, NNZs: 300, Bias: -2.740734, T: 84440, Avg. loss: 0.006625\n",
      "Total training time: 0.02 seconds.\n",
      "Convergence after 8 epochs took 0.02 seconds\n",
      "-- Epoch 1\n",
      "Norm: 3.83, NNZs: 300, Bias: -2.770149, T: 10555, Avg. loss: 0.091774\n",
      "Total training time: 0.00 seconds.\n",
      "-- Epoch 2\n",
      "Norm: 3.29, NNZs: 300, Bias: -1.945495, T: 21110, Avg. loss: 0.048304\n",
      "Total training time: 0.01 seconds.\n",
      "-- Epoch 3\n",
      "Norm: 2.88, NNZs: 300, Bias: -1.481454, T: 31665, Avg. loss: 0.046279\n",
      "Total training time: 0.01 seconds.\n",
      "-- Epoch 4\n",
      "Norm: 2.79, NNZs: 300, Bias: -1.204747, T: 42220, Avg. loss: 0.043733\n",
      "Total training time: 0.01 seconds.\n",
      "-- Epoch 5\n",
      "Norm: 2.75, NNZs: 300, Bias: -1.068983, T: 52775, Avg. loss: 0.042881\n",
      "Total training time: 0.02 seconds.\n",
      "-- Epoch 6\n",
      "Norm: 2.72, NNZs: 300, Bias: -0.877708, T: 63330, Avg. loss: 0.043135\n",
      "Total training time: 0.02 seconds.\n",
      "-- Epoch 7\n",
      "Norm: 2.73, NNZs: 300, Bias: -0.835714, T: 73885, Avg. loss: 0.042346\n",
      "Total training time: 0.02 seconds.\n",
      "-- Epoch 8\n",
      "Norm: 2.73, NNZs: 300, Bias: -0.773176, T: 84440, Avg. loss: 0.041718\n",
      "Total training time: 0.03 seconds.\n",
      "-- Epoch 9\n",
      "Norm: 2.71, NNZs: 300, Bias: -0.663838, T: 94995, Avg. loss: 0.041629\n",
      "Total training time: 0.03 seconds.\n",
      "Convergence after 9 epochs took 0.03 seconds\n",
      "-- Epoch 1\n",
      "Norm: 3.41, NNZs: 300, Bias: -3.214540, T: 10555, Avg. loss: 0.022998\n",
      "Total training time: 0.00 seconds.\n",
      "-- Epoch 2\n",
      "Norm: 2.99, NNZs: 300, Bias: -2.572219, T: 21110, Avg. loss: 0.011794\n",
      "Total training time: 0.01 seconds.\n",
      "-- Epoch 3\n",
      "Norm: 2.73, NNZs: 300, Bias: -2.278857, T: 31665, Avg. loss: 0.010594\n",
      "Total training time: 0.01 seconds.\n",
      "-- Epoch 4\n",
      "Norm: 2.67, NNZs: 300, Bias: -1.972660, T: 42220, Avg. loss: 0.010900\n",
      "Total training time: 0.01 seconds.\n",
      "-- Epoch 5\n",
      "Norm: 2.61, NNZs: 300, Bias: -1.806201, T: 52775, Avg. loss: 0.010231\n",
      "Total training time: 0.01 seconds.\n",
      "-- Epoch 6\n",
      "Norm: 2.54, NNZs: 300, Bias: -1.719969, T: 63330, Avg. loss: 0.010183\n",
      "Total training time: 0.02 seconds.\n",
      "-- Epoch 7\n",
      "Norm: 2.51, NNZs: 300, Bias: -1.603552, T: 73885, Avg. loss: 0.009804\n",
      "Total training time: 0.02 seconds.\n",
      "-- Epoch 8\n",
      "Norm: 2.50, NNZs: 300, Bias: -1.539933, T: 84440, Avg. loss: 0.009791\n",
      "Total training time: 0.02 seconds.\n",
      "Convergence after 8 epochs took 0.02 seconds\n",
      "-- Epoch 1\n",
      "Norm: 2.82, NNZs: 300, Bias: -4.473568, T: 10555, Avg. loss: 0.040390\n",
      "Total training time: 0.00 seconds.\n",
      "-- Epoch 2\n",
      "Norm: 2.34, NNZs: 300, Bias: -3.558436, T: 21110, Avg. loss: 0.020388\n",
      "Total training time: 0.01 seconds.\n",
      "-- Epoch 3\n",
      "Norm: 2.09, NNZs: 300, Bias: -3.081217, T: 31665, Avg. loss: 0.017002\n",
      "Total training time: 0.01 seconds.\n",
      "-- Epoch 4\n",
      "Norm: 2.03, NNZs: 300, Bias: -2.758019, T: 42220, Avg. loss: 0.016759\n",
      "Total training time: 0.01 seconds.\n",
      "-- Epoch 5\n",
      "Norm: 1.96, NNZs: 300, Bias: -2.487894, T: 52775, Avg. loss: 0.015917\n",
      "Total training time: 0.02 seconds.\n",
      "-- Epoch 6\n",
      "Norm: 1.89, NNZs: 300, Bias: -2.331978, T: 63330, Avg. loss: 0.015732\n",
      "Total training time: 0.02 seconds.\n",
      "-- Epoch 7\n",
      "Norm: 1.87, NNZs: 300, Bias: -2.175148, T: 73885, Avg. loss: 0.015200\n",
      "Total training time: 0.02 seconds.\n",
      "-- Epoch 8\n",
      "Norm: 1.79, NNZs: 300, Bias: -2.089984, T: 84440, Avg. loss: 0.014868\n",
      "Total training time: 0.03 seconds.\n",
      "Convergence after 8 epochs took 0.03 seconds\n",
      "-- Epoch 1\n",
      "Norm: 4.88, NNZs: 300, Bias: 0.849906, T: 10555, Avg. loss: 0.224164\n",
      "Total training time: 0.00 seconds.\n",
      "-- Epoch 2\n",
      "Norm: 3.87, NNZs: 300, Bias: 0.640005, T: 21110, Avg. loss: 0.120158\n",
      "Total training time: 0.01 seconds.\n",
      "-- Epoch 3\n",
      "Norm: 3.40, NNZs: 300, Bias: 0.484053, T: 31665, Avg. loss: 0.112407\n",
      "Total training time: 0.01 seconds.\n",
      "-- Epoch 4\n",
      "Norm: 3.34, NNZs: 300, Bias: 0.260540, T: 42220, Avg. loss: 0.109339\n",
      "Total training time: 0.02 seconds.\n",
      "-- Epoch 5\n",
      "Norm: 3.18, NNZs: 300, Bias: 0.152501, T: 52775, Avg. loss: 0.108626\n",
      "Total training time: 0.02 seconds.\n",
      "-- Epoch 6\n",
      "Norm: 3.05, NNZs: 300, Bias: 0.083392, T: 63330, Avg. loss: 0.107252\n",
      "Total training time: 0.02 seconds.\n",
      "-- Epoch 7\n",
      "Norm: 2.96, NNZs: 300, Bias: 0.043669, T: 73885, Avg. loss: 0.106724\n",
      "Total training time: 0.03 seconds.\n",
      "-- Epoch 8\n",
      "Norm: 2.90, NNZs: 300, Bias: 0.090448, T: 84440, Avg. loss: 0.106089\n",
      "Total training time: 0.03 seconds.\n",
      "-- Epoch 9\n",
      "Norm: 2.93, NNZs: 300, Bias: 0.052430, T: 94995, Avg. loss: 0.105710\n",
      "Total training time: 0.03 seconds.\n",
      "-- Epoch 10\n",
      "Norm: 2.87, NNZs: 300, Bias: 0.010585, T: 105550, Avg. loss: 0.105122\n",
      "Total training time: 0.04 seconds.\n",
      "-- Epoch 11\n",
      "Norm: 2.86, NNZs: 300, Bias: -0.025097, T: 116105, Avg. loss: 0.105406\n",
      "Total training time: 0.04 seconds.\n",
      "Convergence after 11 epochs took 0.04 seconds\n",
      "-- Epoch 1\n",
      "Norm: 3.71, NNZs: 300, Bias: -2.502093, T: 10555, Avg. loss: 0.086729\n",
      "Total training time: 0.00 seconds.\n",
      "-- Epoch 2\n",
      "Norm: 3.01, NNZs: 300, Bias: -1.814659, T: 21110, Avg. loss: 0.044723\n",
      "Total training time: 0.01 seconds.\n",
      "-- Epoch 3\n",
      "Norm: 2.81, NNZs: 300, Bias: -1.453660, T: 31665, Avg. loss: 0.040034\n",
      "Total training time: 0.01 seconds.\n",
      "-- Epoch 4\n",
      "Norm: 2.67, NNZs: 300, Bias: -1.205235, T: 42220, Avg. loss: 0.038821\n",
      "Total training time: 0.01 seconds.\n",
      "-- Epoch 5\n",
      "Norm: 2.60, NNZs: 300, Bias: -1.058768, T: 52775, Avg. loss: 0.037849\n",
      "Total training time: 0.02 seconds.\n",
      "-- Epoch 6\n",
      "Norm: 2.56, NNZs: 300, Bias: -0.995205, T: 63330, Avg. loss: 0.036412\n",
      "Total training time: 0.02 seconds.\n",
      "-- Epoch 7\n",
      "Norm: 2.50, NNZs: 300, Bias: -0.934936, T: 73885, Avg. loss: 0.037140\n",
      "Total training time: 0.02 seconds.\n",
      "-- Epoch 8\n",
      "Norm: 2.51, NNZs: 300, Bias: -0.905912, T: 84440, Avg. loss: 0.036562\n",
      "Total training time: 0.03 seconds.\n",
      "-- Epoch 9\n",
      "Norm: 2.51, NNZs: 300, Bias: -0.825499, T: 94995, Avg. loss: 0.036215\n",
      "Total training time: 0.03 seconds.\n",
      "-- Epoch 10\n",
      "Norm: 2.49, NNZs: 300, Bias: -0.768293, T: 105550, Avg. loss: 0.035945\n",
      "Total training time: 0.03 seconds.\n",
      "-- Epoch 11\n",
      "Norm: 2.48, NNZs: 300, Bias: -0.823505, T: 116105, Avg. loss: 0.036032\n",
      "Total training time: 0.03 seconds.\n",
      "Convergence after 11 epochs took 0.03 seconds\n",
      "-- Epoch 1\n",
      "Norm: 4.01, NNZs: 300, Bias: -1.796129, T: 10555, Avg. loss: 0.091073\n",
      "Total training time: 0.00 seconds.\n",
      "-- Epoch 2\n",
      "Norm: 3.33, NNZs: 300, Bias: -0.870142, T: 21110, Avg. loss: 0.051249\n",
      "Total training time: 0.01 seconds.\n",
      "-- Epoch 3\n",
      "Norm: 3.07, NNZs: 300, Bias: -0.597794, T: 31665, Avg. loss: 0.045920\n",
      "Total training time: 0.01 seconds.\n",
      "-- Epoch 4\n",
      "Norm: 3.05, NNZs: 300, Bias: -0.514341, T: 42220, Avg. loss: 0.045525\n",
      "Total training time: 0.01 seconds.\n",
      "-- Epoch 5\n",
      "Norm: 2.96, NNZs: 300, Bias: -0.456316, T: 52775, Avg. loss: 0.044715\n",
      "Total training time: 0.02 seconds.\n",
      "-- Epoch 6\n",
      "Norm: 2.91, NNZs: 300, Bias: -0.484013, T: 63330, Avg. loss: 0.044443\n",
      "Total training time: 0.02 seconds.\n",
      "-- Epoch 7\n",
      "Norm: 2.91, NNZs: 300, Bias: -0.450890, T: 73885, Avg. loss: 0.043446\n",
      "Total training time: 0.02 seconds.\n",
      "-- Epoch 8\n",
      "Norm: 2.87, NNZs: 300, Bias: -0.422507, T: 84440, Avg. loss: 0.043395\n",
      "Total training time: 0.03 seconds.\n",
      "Convergence after 8 epochs took 0.03 seconds\n",
      "-- Epoch 1\n",
      "Norm: 4.12, NNZs: 300, Bias: -1.470679, T: 10555, Avg. loss: 0.055922\n",
      "Total training time: 0.00 seconds.\n",
      "-- Epoch 2\n",
      "Norm: 3.26, NNZs: 300, Bias: -1.023242, T: 21110, Avg. loss: 0.022407\n",
      "Total training time: 0.01 seconds.\n",
      "-- Epoch 3\n",
      "Norm: 2.87, NNZs: 300, Bias: -0.685762, T: 31665, Avg. loss: 0.022130\n",
      "Total training time: 0.01 seconds.\n",
      "-- Epoch 4\n",
      "Norm: 2.77, NNZs: 300, Bias: -0.520065, T: 42220, Avg. loss: 0.020784\n",
      "Total training time: 0.01 seconds.\n",
      "-- Epoch 5\n",
      "Norm: 2.71, NNZs: 300, Bias: -0.396529, T: 52775, Avg. loss: 0.020412\n",
      "Total training time: 0.02 seconds.\n",
      "-- Epoch 6\n",
      "Norm: 2.72, NNZs: 300, Bias: -0.413582, T: 63330, Avg. loss: 0.019495\n",
      "Total training time: 0.02 seconds.\n",
      "-- Epoch 7\n",
      "Norm: 2.69, NNZs: 300, Bias: -0.334706, T: 73885, Avg. loss: 0.019798\n",
      "Total training time: 0.02 seconds.\n",
      "-- Epoch 8\n",
      "Norm: 2.65, NNZs: 300, Bias: -0.255974, T: 84440, Avg. loss: 0.019701\n",
      "Total training time: 0.03 seconds.\n",
      "-- Epoch 9\n",
      "Norm: 2.65, NNZs: 300, Bias: -0.222080, T: 94995, Avg. loss: 0.019742\n",
      "Total training time: 0.03 seconds.\n",
      "Convergence after 9 epochs took 0.03 seconds\n",
      "-- Epoch 1\n",
      "Norm: 4.27, NNZs: 300, Bias: -1.612789, T: 10555, Avg. loss: 0.081560\n",
      "Total training time: 0.00 seconds.\n",
      "-- Epoch 2\n",
      "Norm: 3.63, NNZs: 300, Bias: -0.944079, T: 21110, Avg. loss: 0.038283\n",
      "Total training time: 0.01 seconds.\n",
      "-- Epoch 3\n",
      "Norm: 3.40, NNZs: 300, Bias: -0.533109, T: 31665, Avg. loss: 0.036166\n",
      "Total training time: 0.01 seconds.\n",
      "-- Epoch 4\n",
      "Norm: 3.32, NNZs: 300, Bias: -0.325932, T: 42220, Avg. loss: 0.033853\n",
      "Total training time: 0.02 seconds.\n",
      "-- Epoch 5\n",
      "Norm: 3.24, NNZs: 300, Bias: -0.269956, T: 52775, Avg. loss: 0.033395\n",
      "Total training time: 0.02 seconds.\n",
      "-- Epoch 6\n",
      "Norm: 3.27, NNZs: 300, Bias: -0.299047, T: 63330, Avg. loss: 0.032969\n",
      "Total training time: 0.02 seconds.\n",
      "-- Epoch 7\n",
      "Norm: 3.23, NNZs: 300, Bias: -0.179258, T: 73885, Avg. loss: 0.032472\n",
      "Total training time: 0.03 seconds.\n",
      "-- Epoch 8\n",
      "Norm: 3.23, NNZs: 300, Bias: -0.205237, T: 84440, Avg. loss: 0.032707\n",
      "Total training time: 0.03 seconds.\n",
      "-- Epoch 9\n",
      "Norm: 3.18, NNZs: 300, Bias: -0.158996, T: 94995, Avg. loss: 0.032196\n",
      "Total training time: 0.03 seconds.\n",
      "Convergence after 9 epochs took 0.03 seconds\n",
      "-- Epoch 1\n",
      "Norm: 4.32, NNZs: 300, Bias: 0.653436, T: 10555, Avg. loss: 0.352040\n",
      "Total training time: 0.00 seconds.\n",
      "-- Epoch 2\n",
      "Norm: 3.74, NNZs: 300, Bias: 0.254033, T: 21110, Avg. loss: 0.176410\n",
      "Total training time: 0.01 seconds.\n",
      "-- Epoch 3\n",
      "Norm: 3.21, NNZs: 300, Bias: 0.170520, T: 31665, Avg. loss: 0.164176\n",
      "Total training time: 0.01 seconds.\n",
      "-- Epoch 4\n",
      "Norm: 3.08, NNZs: 300, Bias: 0.016577, T: 42220, Avg. loss: 0.158407\n",
      "Total training time: 0.01 seconds.\n",
      "-- Epoch 5\n",
      "Norm: 2.88, NNZs: 300, Bias: 0.085120, T: 52775, Avg. loss: 0.155780\n",
      "Total training time: 0.02 seconds.\n",
      "-- Epoch 6\n",
      "Norm: 2.87, NNZs: 300, Bias: -0.008876, T: 63330, Avg. loss: 0.154817\n",
      "Total training time: 0.02 seconds.\n",
      "-- Epoch 7\n",
      "Norm: 2.80, NNZs: 300, Bias: -0.051338, T: 73885, Avg. loss: 0.153514\n",
      "Total training time: 0.02 seconds.\n",
      "-- Epoch 8\n",
      "Norm: 2.83, NNZs: 300, Bias: -0.025102, T: 84440, Avg. loss: 0.151905\n",
      "Total training time: 0.03 seconds.\n",
      "-- Epoch 9\n",
      "Norm: 2.73, NNZs: 300, Bias: -0.040316, T: 94995, Avg. loss: 0.152217\n",
      "Total training time: 0.03 seconds.\n",
      "-- Epoch 10\n",
      "Norm: 2.68, NNZs: 300, Bias: -0.052241, T: 105550, Avg. loss: 0.150243\n",
      "Total training time: 0.03 seconds.\n",
      "-- Epoch 11\n",
      "Norm: 2.64, NNZs: 300, Bias: -0.069372, T: 116105, Avg. loss: 0.150822\n",
      "Total training time: 0.04 seconds.\n",
      "-- Epoch 12\n",
      "Norm: 2.68, NNZs: 300, Bias: -0.102312, T: 126660, Avg. loss: 0.150153\n",
      "Total training time: 0.04 seconds.\n",
      "-- Epoch 13\n",
      "Norm: 2.65, NNZs: 300, Bias: -0.124395, T: 137215, Avg. loss: 0.150206\n",
      "Total training time: 0.04 seconds.\n",
      "-- Epoch 14\n",
      "Norm: 2.62, NNZs: 300, Bias: -0.082541, T: 147770, Avg. loss: 0.149813\n",
      "Total training time: 0.05 seconds.\n",
      "-- Epoch 15\n",
      "Norm: 2.61, NNZs: 300, Bias: -0.123462, T: 158325, Avg. loss: 0.149498\n",
      "Total training time: 0.05 seconds.\n",
      "Convergence after 15 epochs took 0.05 seconds\n",
      "-- Epoch 1\n",
      "Norm: 3.01, NNZs: 300, Bias: -3.614565, T: 10555, Avg. loss: 0.023988\n",
      "Total training time: 0.00 seconds.\n",
      "-- Epoch 2\n",
      "Norm: 2.48, NNZs: 300, Bias: -2.996492, T: 21110, Avg. loss: 0.012108\n",
      "Total training time: 0.01 seconds.\n",
      "-- Epoch 3\n",
      "Norm: 2.14, NNZs: 300, Bias: -2.690841, T: 31665, Avg. loss: 0.011242\n",
      "Total training time: 0.01 seconds.\n",
      "-- Epoch 4\n",
      "Norm: 2.09, NNZs: 300, Bias: -2.477397, T: 42220, Avg. loss: 0.010989\n",
      "Total training time: 0.01 seconds.\n",
      "-- Epoch 5\n",
      "Norm: 2.00, NNZs: 300, Bias: -2.348608, T: 52775, Avg. loss: 0.010452\n",
      "Total training time: 0.02 seconds.\n",
      "-- Epoch 6\n",
      "Norm: 1.95, NNZs: 300, Bias: -2.226316, T: 63330, Avg. loss: 0.010478\n",
      "Total training time: 0.02 seconds.\n",
      "-- Epoch 7\n",
      "Norm: 1.93, NNZs: 300, Bias: -2.162866, T: 73885, Avg. loss: 0.010115\n",
      "Total training time: 0.02 seconds.\n",
      "Convergence after 7 epochs took 0.02 seconds\n",
      "-- Epoch 1\n",
      "Norm: 2.79, NNZs: 300, Bias: -4.144908, T: 10555, Avg. loss: 0.027769\n",
      "Total training time: 0.00 seconds.\n",
      "-- Epoch 2\n",
      "Norm: 2.62, NNZs: 300, Bias: -3.637352, T: 21110, Avg. loss: 0.011648\n",
      "Total training time: 0.01 seconds.\n",
      "-- Epoch 3\n",
      "Norm: 2.52, NNZs: 300, Bias: -3.242002, T: 31665, Avg. loss: 0.010481\n",
      "Total training time: 0.01 seconds.\n",
      "-- Epoch 4\n",
      "Norm: 2.38, NNZs: 300, Bias: -3.053634, T: 42220, Avg. loss: 0.010145\n",
      "Total training time: 0.01 seconds.\n",
      "-- Epoch 5\n",
      "Norm: 2.34, NNZs: 300, Bias: -2.927842, T: 52775, Avg. loss: 0.010022\n",
      "Total training time: 0.02 seconds.\n",
      "-- Epoch 6\n",
      "Norm: 2.28, NNZs: 300, Bias: -2.821694, T: 63330, Avg. loss: 0.009614\n",
      "Total training time: 0.02 seconds.\n",
      "-- Epoch 7\n",
      "Norm: 2.25, NNZs: 300, Bias: -2.747217, T: 73885, Avg. loss: 0.009622\n",
      "Total training time: 0.02 seconds.\n",
      "-- Epoch 8\n",
      "Norm: 2.23, NNZs: 300, Bias: -2.659547, T: 84440, Avg. loss: 0.009369\n",
      "Total training time: 0.03 seconds.\n",
      "Convergence after 8 epochs took 0.03 seconds\n",
      "-- Epoch 1\n",
      "Norm: 4.71, NNZs: 300, Bias: 0.441807, T: 10555, Avg. loss: 0.138425\n",
      "Total training time: 0.00 seconds.\n",
      "-- Epoch 2\n",
      "Norm: 3.97, NNZs: 300, Bias: 0.396858, T: 21110, Avg. loss: 0.072523\n",
      "Total training time: 0.01 seconds.\n",
      "-- Epoch 3\n",
      "Norm: 3.75, NNZs: 300, Bias: 0.438587, T: 31665, Avg. loss: 0.069544\n",
      "Total training time: 0.01 seconds.\n",
      "-- Epoch 4\n",
      "Norm: 3.53, NNZs: 300, Bias: 0.393379, T: 42220, Avg. loss: 0.068103\n",
      "Total training time: 0.01 seconds.\n",
      "-- Epoch 5\n",
      "Norm: 3.43, NNZs: 300, Bias: 0.308719, T: 52775, Avg. loss: 0.066710\n",
      "Total training time: 0.02 seconds.\n",
      "-- Epoch 6\n",
      "Norm: 3.34, NNZs: 300, Bias: 0.295244, T: 63330, Avg. loss: 0.066210\n",
      "Total training time: 0.02 seconds.\n",
      "-- Epoch 7\n",
      "Norm: 3.28, NNZs: 300, Bias: 0.298171, T: 73885, Avg. loss: 0.065367\n",
      "Total training time: 0.02 seconds.\n",
      "-- Epoch 8\n",
      "Norm: 3.19, NNZs: 300, Bias: 0.331044, T: 84440, Avg. loss: 0.065473\n",
      "Total training time: 0.03 seconds.\n",
      "-- Epoch 9\n",
      "Norm: 3.21, NNZs: 300, Bias: 0.258731, T: 94995, Avg. loss: 0.065282\n",
      "Total training time: 0.03 seconds.\n",
      "-- Epoch 10\n",
      "Norm: 3.18, NNZs: 300, Bias: 0.180798, T: 105550, Avg. loss: 0.065255\n",
      "Total training time: 0.03 seconds.\n",
      "Convergence after 10 epochs took 0.03 seconds\n",
      "-- Epoch 1\n",
      "Norm: 3.63, NNZs: 300, Bias: -2.996112, T: 10555, Avg. loss: 0.039115\n",
      "Total training time: 0.00 seconds.\n",
      "-- Epoch 2\n",
      "Norm: 2.95, NNZs: 300, Bias: -2.193822, T: 21110, Avg. loss: 0.022469\n",
      "Total training time: 0.01 seconds.\n",
      "-- Epoch 3\n",
      "Norm: 2.80, NNZs: 300, Bias: -1.711850, T: 31665, Avg. loss: 0.020507\n",
      "Total training time: 0.01 seconds.\n",
      "-- Epoch 4\n",
      "Norm: 2.62, NNZs: 300, Bias: -1.509612, T: 42220, Avg. loss: 0.020135\n",
      "Total training time: 0.01 seconds.\n",
      "-- Epoch 5\n",
      "Norm: 2.60, NNZs: 300, Bias: -1.403741, T: 52775, Avg. loss: 0.019400\n",
      "Total training time: 0.02 seconds.\n",
      "-- Epoch 6\n",
      "Norm: 2.55, NNZs: 300, Bias: -1.263194, T: 63330, Avg. loss: 0.019310\n",
      "Total training time: 0.02 seconds.\n",
      "-- Epoch 7\n",
      "Norm: 2.51, NNZs: 300, Bias: -1.216578, T: 73885, Avg. loss: 0.019035\n",
      "Total training time: 0.02 seconds.\n",
      "-- Epoch 8\n",
      "Norm: 2.52, NNZs: 300, Bias: -1.127697, T: 84440, Avg. loss: 0.019192\n",
      "Total training time: 0.03 seconds.\n",
      "Convergence after 8 epochs took 0.03 seconds\n"
     ]
    },
    {
     "name": "stderr",
     "output_type": "stream",
     "text": [
      "[Parallel(n_jobs=1)]: Done  40 out of  40 | elapsed:    1.1s finished\n"
     ]
    },
    {
     "data": {
      "text/plain": [
       "SGDClassifier(alpha=0.001, random_state=7600, verbose=1)"
      ]
     },
     "execution_count": 446,
     "metadata": {},
     "output_type": "execute_result"
    }
   ],
   "source": [
    "clf_d2v_sgd.fit(X_train_d2v, y_train_nonempty)"
   ]
  },
  {
   "cell_type": "code",
   "execution_count": 448,
   "metadata": {},
   "outputs": [
    {
     "data": {
      "text/plain": [
       "0.7203801945181255"
      ]
     },
     "execution_count": 448,
     "metadata": {},
     "output_type": "execute_result"
    }
   ],
   "source": [
    "accuracy_score(y_test_nonempty, clf_d2v_sgd.predict(X_test_d2v))"
   ]
  },
  {
   "cell_type": "code",
   "execution_count": 447,
   "metadata": {},
   "outputs": [
    {
     "name": "stdout",
     "output_type": "stream",
     "text": [
      "              precision    recall  f1-score   support\n",
      "\n",
      "           0       0.50      0.22      0.31         9\n",
      "           1       0.67      0.82      0.74       237\n",
      "           2       0.79      0.86      0.82       172\n",
      "           3       0.72      0.69      0.70       251\n",
      "           4       0.88      0.53      0.66        57\n",
      "           5       0.70      0.58      0.64       115\n",
      "           6       0.81      0.80      0.81        71\n",
      "           7       0.72      0.78      0.75        60\n",
      "           8       0.39      0.44      0.41        39\n",
      "           9       0.86      0.77      0.81        47\n",
      "          10       0.75      0.75      0.75       147\n",
      "          11       0.81      0.83      0.82        46\n",
      "          12       0.65      0.92      0.76        76\n",
      "          13       0.87      0.99      0.92        80\n",
      "          14       0.57      0.57      0.57        23\n",
      "          15       0.73      0.84      0.78        75\n",
      "          16       0.61      0.74      0.66       529\n",
      "          17       0.78      0.75      0.77        81\n",
      "          18       0.82      0.88      0.85        95\n",
      "          19       0.61      0.64      0.62       157\n",
      "          20       0.76      0.86      0.80       152\n",
      "          21       0.69      0.93      0.79        43\n",
      "          22       0.76      0.57      0.65        28\n",
      "          23       0.82      0.85      0.83        73\n",
      "          24       0.83      0.77      0.80        26\n",
      "          25       0.81      0.71      0.76       175\n",
      "          26       0.93      0.93      0.93        14\n",
      "          27       0.63      0.92      0.75       127\n",
      "          28       0.86      0.94      0.90        32\n",
      "          29       0.83      0.43      0.57        46\n",
      "          30       0.73      0.65      0.69       298\n",
      "          31       0.82      0.45      0.58        92\n",
      "          32       0.81      0.78      0.79       140\n",
      "          33       0.82      0.77      0.79        70\n",
      "          34       0.75      0.81      0.78        90\n",
      "          35       0.70      0.58      0.63       427\n",
      "          36       0.88      0.62      0.73        48\n",
      "          37       0.84      0.70      0.76        37\n",
      "          38       0.84      0.47      0.60       167\n",
      "          39       0.77      0.75      0.76        72\n",
      "\n",
      "    accuracy                           0.72      4524\n",
      "   macro avg       0.75      0.72      0.73      4524\n",
      "weighted avg       0.73      0.72      0.72      4524\n",
      "\n"
     ]
    }
   ],
   "source": [
    "print(classification_report(y_test_nonempty, clf_d2v_sgd.predict(X_test_d2v)))"
   ]
  },
  {
   "cell_type": "markdown",
   "metadata": {},
   "source": [
    "#### Logistic Regression"
   ]
  },
  {
   "cell_type": "code",
   "execution_count": 449,
   "metadata": {},
   "outputs": [],
   "source": [
    "from sklearn.linear_model import LogisticRegression"
   ]
  },
  {
   "cell_type": "code",
   "execution_count": 450,
   "metadata": {},
   "outputs": [],
   "source": [
    "clf_d2v_lr = LogisticRegression(\n",
    "    max_iter=200,\n",
    "    random_state=7600,\n",
    "    verbose=1,\n",
    "    n_jobs=cpu_count()\n",
    ")"
   ]
  },
  {
   "cell_type": "code",
   "execution_count": 451,
   "metadata": {},
   "outputs": [
    {
     "name": "stderr",
     "output_type": "stream",
     "text": [
      "[Parallel(n_jobs=16)]: Using backend LokyBackend with 16 concurrent workers.\n",
      "[Parallel(n_jobs=16)]: Done   1 out of   1 | elapsed:   10.6s finished\n"
     ]
    },
    {
     "data": {
      "text/plain": [
       "LogisticRegression(max_iter=200, n_jobs=16, random_state=7600, verbose=1)"
      ]
     },
     "execution_count": 451,
     "metadata": {},
     "output_type": "execute_result"
    }
   ],
   "source": [
    "clf_d2v_lr.fit(X_train_d2v, y_train_nonempty)"
   ]
  },
  {
   "cell_type": "code",
   "execution_count": 452,
   "metadata": {},
   "outputs": [
    {
     "data": {
      "text/plain": [
       "0.75552608311229"
      ]
     },
     "execution_count": 452,
     "metadata": {},
     "output_type": "execute_result"
    }
   ],
   "source": [
    "accuracy_score(y_test_nonempty, clf_d2v_lr.predict(X_test_d2v))"
   ]
  },
  {
   "cell_type": "code",
   "execution_count": 453,
   "metadata": {},
   "outputs": [
    {
     "name": "stdout",
     "output_type": "stream",
     "text": [
      "              precision    recall  f1-score   support\n",
      "\n",
      "           0       0.86      0.67      0.75         9\n",
      "           1       0.77      0.80      0.78       237\n",
      "           2       0.82      0.85      0.83       172\n",
      "           3       0.69      0.74      0.71       251\n",
      "           4       0.76      0.65      0.70        57\n",
      "           5       0.74      0.68      0.71       115\n",
      "           6       0.76      0.83      0.79        71\n",
      "           7       0.80      0.80      0.80        60\n",
      "           8       0.78      0.54      0.64        39\n",
      "           9       0.87      0.72      0.79        47\n",
      "          10       0.80      0.73      0.77       147\n",
      "          11       0.95      0.76      0.84        46\n",
      "          12       0.77      0.92      0.84        76\n",
      "          13       0.93      0.99      0.96        80\n",
      "          14       0.75      0.52      0.62        23\n",
      "          15       0.82      0.79      0.80        75\n",
      "          16       0.69      0.70      0.69       529\n",
      "          17       0.78      0.77      0.77        81\n",
      "          18       0.85      0.87      0.86        95\n",
      "          19       0.61      0.81      0.70       157\n",
      "          20       0.82      0.85      0.83       152\n",
      "          21       0.88      0.88      0.88        43\n",
      "          22       0.92      0.43      0.59        28\n",
      "          23       0.85      0.92      0.88        73\n",
      "          24       0.90      0.73      0.81        26\n",
      "          25       0.82      0.78      0.80       175\n",
      "          26       0.93      0.93      0.93        14\n",
      "          27       0.81      0.85      0.83       127\n",
      "          28       0.97      0.88      0.92        32\n",
      "          29       0.83      0.63      0.72        46\n",
      "          30       0.70      0.73      0.72       298\n",
      "          31       0.72      0.67      0.70        92\n",
      "          32       0.81      0.79      0.80       140\n",
      "          33       0.89      0.83      0.86        70\n",
      "          34       0.73      0.84      0.78        90\n",
      "          35       0.67      0.66      0.66       427\n",
      "          36       0.85      0.71      0.77        48\n",
      "          37       0.87      0.73      0.79        37\n",
      "          38       0.70      0.68      0.69       167\n",
      "          39       0.89      0.71      0.79        72\n",
      "\n",
      "    accuracy                           0.76      4524\n",
      "   macro avg       0.81      0.76      0.78      4524\n",
      "weighted avg       0.76      0.76      0.76      4524\n",
      "\n"
     ]
    }
   ],
   "source": [
    "print(classification_report(y_test_nonempty, clf_d2v_lr.predict(X_test_d2v)))"
   ]
  },
  {
   "cell_type": "code",
   "execution_count": 535,
   "metadata": {},
   "outputs": [
    {
     "data": {
      "text/plain": [
       "array([[  6,   0,   0, ...,   0,   0,   0],\n",
       "       [  0, 189,   0, ...,   2,   0,   0],\n",
       "       [  0,   0, 146, ...,   0,   2,   0],\n",
       "       ...,\n",
       "       [  0,   3,   0, ...,  27,   2,   0],\n",
       "       [  0,   1,   2, ...,   0, 113,   0],\n",
       "       [  0,   1,   0, ...,   0,   0,  51]], dtype=int64)"
      ]
     },
     "execution_count": 535,
     "metadata": {},
     "output_type": "execute_result"
    }
   ],
   "source": [
    "# print confusion matrix\n",
    "from sklearn.metrics import confusion_matrix\n",
    "confusion_matrix(y_test_nonempty, clf_d2v_lr.predict(X_test_d2v))"
   ]
  },
  {
   "cell_type": "code",
   "execution_count": 472,
   "metadata": {},
   "outputs": [
    {
     "name": "stdout",
     "output_type": "stream",
     "text": [
      "Original job post:\n",
      "Cascade Bank CSJC is looking for a motivated and\n",
      "proactive candidate for the position of Reporting Officer in Lending\n",
      "Department.\n",
      "\n",
      "Ground truth label: 23\n",
      "\n",
      "Predicted label: 23\n"
     ]
    }
   ],
   "source": [
    "# sample test data prediction\n",
    "print(f'Original job post:\\n{X[4737]}\\n')\n",
    "print(f'Ground truth label: {y[4737]}\\n')\n",
    "print(f'Predicted label: {clf_d2v_lr.predict(X_test_d2v)[0]}')"
   ]
  },
  {
   "cell_type": "code",
   "execution_count": 10,
   "metadata": {},
   "outputs": [
    {
     "ename": "NameError",
     "evalue": "name 'clf_d2v_lr' is not defined",
     "output_type": "error",
     "traceback": [
      "\u001b[1;31m---------------------------------------------------------------------------\u001b[0m",
      "\u001b[1;31mNameError\u001b[0m                                 Traceback (most recent call last)",
      "\u001b[1;32m~\\AppData\\Local\\Temp\\ipykernel_37928\\584061500.py\u001b[0m in \u001b[0;36m<module>\u001b[1;34m\u001b[0m\n\u001b[1;32m----> 1\u001b[1;33m \u001b[0mclf_d2v_lr\u001b[0m\u001b[1;33m.\u001b[0m\u001b[0mpredict\u001b[0m\u001b[1;33m(\u001b[0m\u001b[1;33m[\u001b[0m\u001b[0md2v\u001b[0m\u001b[1;33m.\u001b[0m\u001b[0minfer_vector\u001b[0m\u001b[1;33m(\u001b[0m\u001b[0mw2v_preprocess\u001b[0m\u001b[1;33m(\u001b[0m\u001b[1;34m'I am good with excel and microsoft. I also like writing.'\u001b[0m\u001b[1;33m)\u001b[0m\u001b[1;33m)\u001b[0m\u001b[1;33m]\u001b[0m\u001b[1;33m)\u001b[0m\u001b[1;33m\u001b[0m\u001b[1;33m\u001b[0m\u001b[0m\n\u001b[0m",
      "\u001b[1;31mNameError\u001b[0m: name 'clf_d2v_lr' is not defined"
     ]
    }
   ],
   "source": [
    "clf_d2v_lr.predict([d2v.infer_vector(w2v_preprocess('I am good with excel and microsoft. I also like writing.'))])\n",
    "df_job_postings.loc[df_job_postings['cluster']==35]"
   ]
  },
  {
   "cell_type": "code",
   "execution_count": 536,
   "metadata": {},
   "outputs": [
    {
     "data": {
      "text/plain": [
       "['models/clf_d2v_lr_career.joblib']"
      ]
     },
     "execution_count": 536,
     "metadata": {},
     "output_type": "execute_result"
    }
   ],
   "source": [
    "# save model\n",
    "from joblib import dump\n",
    "dump(clf_d2v_lr, 'models/clf_d2v_lr_career.joblib')"
   ]
  },
  {
   "cell_type": "markdown",
   "metadata": {},
   "source": [
    "#### CNN"
   ]
  },
  {
   "cell_type": "code",
   "execution_count": 473,
   "metadata": {},
   "outputs": [],
   "source": [
    "import torch\n",
    "import scipy\n",
    "\n",
    "from torch import nn"
   ]
  },
  {
   "cell_type": "code",
   "execution_count": 474,
   "metadata": {},
   "outputs": [
    {
     "name": "stdout",
     "output_type": "stream",
     "text": [
      "There are 1 GPU(s) available.\n",
      "Device name:  NVIDIA GeForce RTX 3080 Ti\n"
     ]
    }
   ],
   "source": [
    "# set up gpu for training\n",
    "if torch.cuda.is_available():\n",
    "    device = torch.device('cuda')\n",
    "    print(f'There are {torch.cuda.device_count()} GPU(s) available.')\n",
    "    print('Device name: ', torch.cuda.get_device_name(0))\n",
    "\n",
    "else:\n",
    "    device = torch.device('cpu')\n",
    "    print('No GPU available, using the CPU instead.')"
   ]
  },
  {
   "cell_type": "code",
   "execution_count": 489,
   "metadata": {},
   "outputs": [],
   "source": [
    "# convert X d2v vectors to tensor\n",
    "X_train_d2v_tensor = torch.tensor(X_train_d2v).float().to(device)\n",
    "X_test_d2v_tensor = torch.tensor(X_test_d2v).float().to(device)\n",
    "\n",
    "# convert y vectors to tensor\n",
    "y_train_nonempty_tensor = torch.tensor(y_train_nonempty.values).to(device)\n",
    "y_test_nonempty_tensor = torch.tensor(y_test_nonempty.values).to(device)"
   ]
  },
  {
   "cell_type": "code",
   "execution_count": 490,
   "metadata": {},
   "outputs": [
    {
     "data": {
      "text/plain": [
       "Sequential(\n",
       "  (0): Linear(in_features=300, out_features=64, bias=True)\n",
       "  (1): ReLU()\n",
       "  (2): Linear(in_features=64, out_features=40, bias=True)\n",
       "  (3): LogSoftmax(dim=1)\n",
       ")"
      ]
     },
     "execution_count": 490,
     "metadata": {},
     "output_type": "execute_result"
    }
   ],
   "source": [
    "# define cnn model\n",
    "clf_d2v_cnn = nn.Sequential(\n",
    "    nn.Linear(X_train_d2v_tensor.shape[1], 64),\n",
    "    nn.ReLU(),\n",
    "    nn.Linear(64, y_nonempty.nunique()),\n",
    "    nn.LogSoftmax(dim=1)\n",
    ")\n",
    "clf_d2v_cnn.to(device)"
   ]
  },
  {
   "cell_type": "code",
   "execution_count": 491,
   "metadata": {},
   "outputs": [],
   "source": [
    "# define loss\n",
    "criterion = nn.NLLLoss()\n",
    "logps = clf_d2v_cnn(X_train_d2v_tensor)\n",
    "loss = criterion(logps, y_train_nonempty_tensor)\n",
    "\n",
    "loss.backward()\n",
    "\n",
    "# define optimizer\n",
    "optimizer = torch.optim.Adam(clf_d2v_cnn.parameters(), lr=2e-3)"
   ]
  },
  {
   "cell_type": "code",
   "execution_count": 492,
   "metadata": {},
   "outputs": [],
   "source": [
    "# define parameters for model training\n",
    "EPOCHS = 50"
   ]
  },
  {
   "cell_type": "code",
   "execution_count": 493,
   "metadata": {},
   "outputs": [
    {
     "name": "stdout",
     "output_type": "stream",
     "text": [
      "Epoch: 0\n",
      "Epoch: 1\n",
      "Epoch: 2\n",
      "Epoch: 3\n",
      "Epoch: 4\n",
      "Epoch: 5\n",
      "Epoch: 6\n",
      "Epoch: 7\n",
      "Epoch: 8\n",
      "Epoch: 9\n",
      "Epoch: 10\n",
      "Epoch: 11\n",
      "Epoch: 12\n",
      "Epoch: 13\n",
      "Epoch: 14\n",
      "Epoch: 15\n",
      "Epoch: 16\n",
      "Epoch: 17\n",
      "Epoch: 18\n",
      "Epoch: 19\n",
      "Epoch: 20\n",
      "Epoch: 21\n",
      "Epoch: 22\n",
      "Epoch: 23\n",
      "Epoch: 24\n",
      "Epoch: 25\n",
      "Epoch: 26\n",
      "Epoch: 27\n",
      "Epoch: 28\n",
      "Epoch: 29\n",
      "Epoch: 30\n",
      "Epoch: 31\n",
      "Epoch: 32\n",
      "Epoch: 33\n",
      "Epoch: 34\n",
      "Epoch: 35\n",
      "Epoch: 36\n",
      "Epoch: 37\n",
      "Epoch: 38\n",
      "Epoch: 39\n",
      "Epoch: 40\n",
      "Epoch: 41\n",
      "Epoch: 42\n",
      "Epoch: 43\n",
      "Epoch: 44\n",
      "Epoch: 45\n",
      "Epoch: 46\n",
      "Epoch: 47\n",
      "Epoch: 48\n",
      "Epoch: 49\n"
     ]
    }
   ],
   "source": [
    "# train the model\n",
    "for epoch in range(EPOCHS):\n",
    "    # zero the paramater gradients\n",
    "    optimizer.zero_grad()\n",
    "\n",
    "    # forward + backward + optimize\n",
    "    outputs = clf_d2v_cnn.forward(X_train_d2v_tensor)\n",
    "    loss = criterion(outputs, y_train_nonempty_tensor)\n",
    "    loss.backward()\n",
    "    optimizer.step()\n",
    "\n",
    "    # print statistics\n",
    "    print(f'Epoch: {epoch}')"
   ]
  },
  {
   "cell_type": "code",
   "execution_count": 494,
   "metadata": {},
   "outputs": [],
   "source": [
    "# evaluate our model\n",
    "with torch.no_grad():\n",
    "    clf_d2v_cnn.eval()\n",
    "    log_ps = clf_d2v_cnn(X_test_d2v_tensor)\n",
    "    test_loss = criterion(log_ps, y_test_nonempty_tensor)\n",
    "\n",
    "    ps = torch.exp(log_ps)\n",
    "    top_p, top_class = ps.topk(1, dim=1)\n",
    "    equals = top_class == y_test_nonempty_tensor.view(*top_class.shape)\n",
    "    test_accuracy = torch.mean(equals.float())"
   ]
  },
  {
   "cell_type": "code",
   "execution_count": 495,
   "metadata": {},
   "outputs": [
    {
     "data": {
      "text/plain": [
       "tensor(0.4996, device='cuda:0')"
      ]
     },
     "execution_count": 495,
     "metadata": {},
     "output_type": "execute_result"
    }
   ],
   "source": [
    "test_accuracy"
   ]
  },
  {
   "cell_type": "code",
   "execution_count": null,
   "metadata": {},
   "outputs": [],
   "source": []
  },
  {
   "cell_type": "code",
   "execution_count": null,
   "metadata": {},
   "outputs": [],
   "source": []
  },
  {
   "cell_type": "markdown",
   "metadata": {},
   "source": [
    "## After Classification Model - Cluster to Job Title Mapping + Job Description Keywords"
   ]
  },
  {
   "cell_type": "code",
   "execution_count": 8,
   "metadata": {},
   "outputs": [],
   "source": [
    "# read the saved dataset\n",
    "df_job_postings = pd.read_csv('data/job_postings_labeled.csv', index_col=0)"
   ]
  },
  {
   "cell_type": "code",
   "execution_count": 9,
   "metadata": {},
   "outputs": [
    {
     "data": {
      "text/plain": [
       "Index(['English Language Instructor', 'English Language Specialist',\n",
       "       'C#.NET Senior Developer/ Architect', 'Team Leader',\n",
       "       'Announcements Moderator'],\n",
       "      dtype='object')"
      ]
     },
     "execution_count": 9,
     "metadata": {},
     "output_type": "execute_result"
    }
   ],
   "source": [
    "# sample - find the mapping between the cluster no. and the top 5 most frequent job titles associated with that cluster\n",
    "df_job_postings.loc[df_job_postings['cluster'] == 35]['Title'].value_counts().index[:5]"
   ]
  },
  {
   "cell_type": "code",
   "execution_count": null,
   "metadata": {},
   "outputs": [],
   "source": []
  }
 ],
 "metadata": {
  "kernelspec": {
   "display_name": "Python 3.7.13 ('DataScience')",
   "language": "python",
   "name": "python3"
  },
  "language_info": {
   "codemirror_mode": {
    "name": "ipython",
    "version": 3
   },
   "file_extension": ".py",
   "mimetype": "text/x-python",
   "name": "python",
   "nbconvert_exporter": "python",
   "pygments_lexer": "ipython3",
   "version": "3.7.13"
  },
  "orig_nbformat": 4,
  "vscode": {
   "interpreter": {
    "hash": "32d60d92059b3e36b6bd9986edfc808c4ae526b74500509951e82855bb1b814d"
   }
  }
 },
 "nbformat": 4,
 "nbformat_minor": 2
}
