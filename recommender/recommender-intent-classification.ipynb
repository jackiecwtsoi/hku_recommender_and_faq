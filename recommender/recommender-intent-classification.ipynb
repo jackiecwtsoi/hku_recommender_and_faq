{
 "cells": [
  {
   "cell_type": "code",
   "execution_count": 1,
   "metadata": {},
   "outputs": [],
   "source": [
    "import numpy as np\n",
    "import pandas as pd"
   ]
  },
  {
   "cell_type": "code",
   "execution_count": 10,
   "metadata": {},
   "outputs": [
    {
     "name": "stderr",
     "output_type": "stream",
     "text": [
      "[nltk_data] Downloading package punkt to\n",
      "[nltk_data]     C:\\Users\\Kackie\\AppData\\Roaming\\nltk_data...\n",
      "[nltk_data]   Package punkt is already up-to-date!\n",
      "[nltk_data] Downloading package stopwords to\n",
      "[nltk_data]     C:\\Users\\Kackie\\AppData\\Roaming\\nltk_data...\n",
      "[nltk_data]   Package stopwords is already up-to-date!\n",
      "[nltk_data] Downloading package wordnet to\n",
      "[nltk_data]     C:\\Users\\Kackie\\AppData\\Roaming\\nltk_data...\n",
      "[nltk_data]   Package wordnet is already up-to-date!\n",
      "[nltk_data] Downloading package omw-1.4 to\n",
      "[nltk_data]     C:\\Users\\Kackie\\AppData\\Roaming\\nltk_data...\n",
      "[nltk_data]   Package omw-1.4 is already up-to-date!\n"
     ]
    }
   ],
   "source": [
    "import nltk\n",
    "nltk.download('punkt')\n",
    "nltk.download('stopwords')\n",
    "nltk.download('wordnet')\n",
    "nltk.download('omw-1.4')\n",
    "\n",
    "from nltk import word_tokenize\n",
    "from nltk import sent_tokenize\n",
    "from nltk.corpus import stopwords\n",
    "from nltk.stem import WordNetLemmatizer\n",
    "from nltk.stem import PorterStemmer\n",
    "import string"
   ]
  },
  {
   "cell_type": "code",
   "execution_count": 15,
   "metadata": {},
   "outputs": [],
   "source": [
    "from sklearn.model_selection import train_test_split"
   ]
  },
  {
   "cell_type": "markdown",
   "metadata": {},
   "source": [
    "# Recommender Intent/Type Classification Training"
   ]
  },
  {
   "cell_type": "markdown",
   "metadata": {},
   "source": [
    "## Dataset"
   ]
  },
  {
   "cell_type": "code",
   "execution_count": 11,
   "metadata": {},
   "outputs": [],
   "source": [
    "df = pd.read_csv('data/recommender_intent_dataset.csv')"
   ]
  },
  {
   "cell_type": "code",
   "execution_count": 12,
   "metadata": {},
   "outputs": [
    {
     "data": {
      "text/html": [
       "<div>\n",
       "<style scoped>\n",
       "    .dataframe tbody tr th:only-of-type {\n",
       "        vertical-align: middle;\n",
       "    }\n",
       "\n",
       "    .dataframe tbody tr th {\n",
       "        vertical-align: top;\n",
       "    }\n",
       "\n",
       "    .dataframe thead th {\n",
       "        text-align: right;\n",
       "    }\n",
       "</style>\n",
       "<table border=\"1\" class=\"dataframe\">\n",
       "  <thead>\n",
       "    <tr style=\"text-align: right;\">\n",
       "      <th></th>\n",
       "      <th>Student Query</th>\n",
       "      <th>Recommender Intent</th>\n",
       "    </tr>\n",
       "  </thead>\n",
       "  <tbody>\n",
       "    <tr>\n",
       "      <th>0</th>\n",
       "      <td>I am really worried about my future. What kind...</td>\n",
       "      <td>career</td>\n",
       "    </tr>\n",
       "    <tr>\n",
       "      <th>1</th>\n",
       "      <td>How do I know what career should I take?</td>\n",
       "      <td>career</td>\n",
       "    </tr>\n",
       "    <tr>\n",
       "      <th>2</th>\n",
       "      <td>I don't know what I'm good at, so I'd really l...</td>\n",
       "      <td>career</td>\n",
       "    </tr>\n",
       "    <tr>\n",
       "      <th>3</th>\n",
       "      <td>Career or job recommendation?</td>\n",
       "      <td>career</td>\n",
       "    </tr>\n",
       "    <tr>\n",
       "      <th>4</th>\n",
       "      <td>Concerning my future, I am really anxious. Whi...</td>\n",
       "      <td>career</td>\n",
       "    </tr>\n",
       "    <tr>\n",
       "      <th>...</th>\n",
       "      <td>...</td>\n",
       "      <td>...</td>\n",
       "    </tr>\n",
       "    <tr>\n",
       "      <th>115</th>\n",
       "      <td>I hate courses that teach theory. Can you help...</td>\n",
       "      <td>course</td>\n",
       "    </tr>\n",
       "    <tr>\n",
       "      <th>116</th>\n",
       "      <td>Have some trouble choosing the best courses fo...</td>\n",
       "      <td>course</td>\n",
       "    </tr>\n",
       "    <tr>\n",
       "      <th>117</th>\n",
       "      <td>I don't really know which classes I should tak...</td>\n",
       "      <td>course</td>\n",
       "    </tr>\n",
       "    <tr>\n",
       "      <th>118</th>\n",
       "      <td>I am quite confused about what classes are bes...</td>\n",
       "      <td>course</td>\n",
       "    </tr>\n",
       "    <tr>\n",
       "      <th>119</th>\n",
       "      <td>I want to learn about the ocean.</td>\n",
       "      <td>course</td>\n",
       "    </tr>\n",
       "  </tbody>\n",
       "</table>\n",
       "<p>120 rows × 2 columns</p>\n",
       "</div>"
      ],
      "text/plain": [
       "                                         Student Query Recommender Intent\n",
       "0    I am really worried about my future. What kind...             career\n",
       "1             How do I know what career should I take?             career\n",
       "2    I don't know what I'm good at, so I'd really l...             career\n",
       "3                        Career or job recommendation?             career\n",
       "4    Concerning my future, I am really anxious. Whi...             career\n",
       "..                                                 ...                ...\n",
       "115  I hate courses that teach theory. Can you help...             course\n",
       "116  Have some trouble choosing the best courses fo...             course\n",
       "117  I don't really know which classes I should tak...             course\n",
       "118  I am quite confused about what classes are bes...             course\n",
       "119                   I want to learn about the ocean.             course\n",
       "\n",
       "[120 rows x 2 columns]"
      ]
     },
     "execution_count": 12,
     "metadata": {},
     "output_type": "execute_result"
    }
   ],
   "source": [
    "df"
   ]
  },
  {
   "cell_type": "code",
   "execution_count": 13,
   "metadata": {},
   "outputs": [
    {
     "data": {
      "text/plain": [
       "Recommender Intent\n",
       "career            40\n",
       "course            40\n",
       "subject_domain    40\n",
       "dtype: int64"
      ]
     },
     "execution_count": 13,
     "metadata": {},
     "output_type": "execute_result"
    }
   ],
   "source": [
    "# show the distribution of all 3 classes\n",
    "df.groupby(['Recommender Intent']).size()"
   ]
  },
  {
   "cell_type": "code",
   "execution_count": 14,
   "metadata": {},
   "outputs": [],
   "source": [
    "# create X and y datasets\n",
    "X = df['Student Query']\n",
    "y = df['Recommender Intent']"
   ]
  },
  {
   "cell_type": "markdown",
   "metadata": {},
   "source": [
    "## Models"
   ]
  },
  {
   "cell_type": "markdown",
   "metadata": {},
   "source": [
    "### Model: TF-IDF + Classifier"
   ]
  },
  {
   "cell_type": "markdown",
   "metadata": {},
   "source": [
    "### Model: Word2Vec (mean of word vectors) + classifier"
   ]
  },
  {
   "cell_type": "markdown",
   "metadata": {},
   "source": [
    "### Model: Fine-tuned GloVe (Wiki + Gigaword) + Classifier"
   ]
  },
  {
   "cell_type": "code",
   "execution_count": 46,
   "metadata": {},
   "outputs": [],
   "source": [
    "import csv, pickle\n",
    "from mittens import GloVe, Mittens\n",
    "from collections import Counter\n",
    "from sklearn.feature_extraction.text import CountVectorizer"
   ]
  },
  {
   "cell_type": "code",
   "execution_count": 77,
   "metadata": {},
   "outputs": [],
   "source": [
    "from sklearn.metrics import classification_report, accuracy_score"
   ]
  },
  {
   "cell_type": "code",
   "execution_count": 16,
   "metadata": {},
   "outputs": [],
   "source": [
    "def preprocess(text):\n",
    "    text = text.lower()\n",
    "    words = word_tokenize(text)\n",
    "    words = [word for word in words if word.isalpha()]\n",
    "\n",
    "    # stopwords\n",
    "    stop_words = set(stopwords.words('english'))\n",
    "    words = [word for word in words if not word in stop_words]\n",
    "\n",
    "    return words"
   ]
  },
  {
   "cell_type": "markdown",
   "metadata": {},
   "source": [
    "#### GloVe model training"
   ]
  },
  {
   "cell_type": "code",
   "execution_count": 17,
   "metadata": {},
   "outputs": [],
   "source": [
    "# split into training and testing datasets\n",
    "X_train, X_test, y_train, y_test = train_test_split(X, y, test_size=0.3, shuffle=True, random_state=7600)"
   ]
  },
  {
   "cell_type": "code",
   "execution_count": 21,
   "metadata": {},
   "outputs": [],
   "source": [
    "# define function to convert the glove file name to dictionary type\n",
    "def glove2dict(glove_filename):\n",
    "    with open(glove_filename, encoding='utf-8') as f:\n",
    "        reader = csv.reader(f, delimiter=' ', quoting=csv.QUOTE_NONE)\n",
    "        embed = {line[0]: np.array(list(map(float, line[1:])))\n",
    "                for line in reader}\n",
    "    return embed"
   ]
  },
  {
   "cell_type": "code",
   "execution_count": 30,
   "metadata": {},
   "outputs": [
    {
     "data": {
      "text/plain": [
       "400000"
      ]
     },
     "execution_count": 30,
     "metadata": {},
     "output_type": "execute_result"
    }
   ],
   "source": [
    "# convert the txt file of the pretrained glove model to dictionary type\n",
    "glove_path = '../faq/q-Q_similarity/glove-data/glove.6B.300d.txt'\n",
    "pre_glove_6b = glove2dict(glove_path)\n",
    "len(pre_glove_6b)"
   ]
  },
  {
   "cell_type": "code",
   "execution_count": 25,
   "metadata": {},
   "outputs": [],
   "source": [
    "# preprocess the queries list\n",
    "X_tokenized = X.apply(preprocess).tolist()\n",
    "\n",
    "# concatenate all the tokens of the X_tokenized dataset\n",
    "X_words = [j for i in X_tokenized for j in i]\n",
    "\n",
    "# identify any out-of-vocabulary words compared to the pretrained vocab\n",
    "oov = [word for word in X_words if word not in pre_glove_6b.keys()]"
   ]
  },
  {
   "cell_type": "code",
   "execution_count": 26,
   "metadata": {},
   "outputs": [
    {
     "data": {
      "text/plain": [
       "['fintech',\n",
       " 'gradurate',\n",
       " 'graduration',\n",
       " 'manangement',\n",
       " 'recommendataions',\n",
       " 'universiy',\n",
       " 'recommendataion']"
      ]
     },
     "execution_count": 26,
     "metadata": {},
     "output_type": "execute_result"
    }
   ],
   "source": [
    "oov"
   ]
  },
  {
   "cell_type": "code",
   "execution_count": 27,
   "metadata": {},
   "outputs": [],
   "source": [
    "corp_vocab = list(set(oov))\n",
    "X_doc = [' '.join(X_words)]"
   ]
  },
  {
   "cell_type": "code",
   "execution_count": 28,
   "metadata": {},
   "outputs": [
    {
     "data": {
      "text/plain": [
       "['recommendataions',\n",
       " 'gradurate',\n",
       " 'manangement',\n",
       " 'graduration',\n",
       " 'fintech',\n",
       " 'recommendataion',\n",
       " 'universiy']"
      ]
     },
     "execution_count": 28,
     "metadata": {},
     "output_type": "execute_result"
    }
   ],
   "source": [
    "corp_vocab"
   ]
  },
  {
   "cell_type": "code",
   "execution_count": 31,
   "metadata": {},
   "outputs": [],
   "source": [
    "# get the cooccurence matrix\n",
    "cv = CountVectorizer(ngram_range=(1,1), vocabulary=corp_vocab)\n",
    "X_cv_transformed = cv.fit_transform(X_doc)\n",
    "Xc = (X_cv_transformed.T * X_cv_transformed)\n",
    "Xc.setdiag(0)\n",
    "coocc_ar = Xc.toarray()"
   ]
  },
  {
   "cell_type": "code",
   "execution_count": 39,
   "metadata": {},
   "outputs": [],
   "source": [
    "# fine tune the glove model using mittens\n",
    "model_mittens = Mittens(n=300, max_iter=100)"
   ]
  },
  {
   "cell_type": "code",
   "execution_count": 40,
   "metadata": {},
   "outputs": [
    {
     "name": "stderr",
     "output_type": "stream",
     "text": [
      "Iteration 100: error 0.0003"
     ]
    }
   ],
   "source": [
    "# get the fine-tuned embeddings\n",
    "finetuned_embeddings = model_mittens.fit(\n",
    "    coocc_ar,\n",
    "    vocab=corp_vocab,\n",
    "    initial_embedding_dict=pre_glove_6b\n",
    ")"
   ]
  },
  {
   "cell_type": "code",
   "execution_count": 41,
   "metadata": {},
   "outputs": [
    {
     "data": {
      "text/plain": [
       "(7, 300)"
      ]
     },
     "execution_count": 41,
     "metadata": {},
     "output_type": "execute_result"
    }
   ],
   "source": [
    "finetuned_embeddings.shape"
   ]
  },
  {
   "cell_type": "code",
   "execution_count": 42,
   "metadata": {},
   "outputs": [],
   "source": [
    "# concatenate the pretrained glove and oov glove dictionaries together to form the final glove dictionary\n",
    "model_glove_oov = dict(zip(corp_vocab, finetuned_embeddings))\n",
    "model_glove_finetuned = {}\n",
    "model_glove_finetuned.update(pre_glove_6b)\n",
    "model_glove_finetuned.update(model_glove_oov)"
   ]
  },
  {
   "cell_type": "code",
   "execution_count": 44,
   "metadata": {},
   "outputs": [
    {
     "data": {
      "text/plain": [
       "400007"
      ]
     },
     "execution_count": 44,
     "metadata": {},
     "output_type": "execute_result"
    }
   ],
   "source": [
    "len(model_glove_finetuned)"
   ]
  },
  {
   "cell_type": "code",
   "execution_count": 45,
   "metadata": {},
   "outputs": [],
   "source": [
    "# save the model\n",
    "f = open('models/recommender_intent_classfiication_glove_wiki_finetuned.pkl', 'wb')\n",
    "pickle.dump(model_glove_finetuned, f)\n",
    "f.close()"
   ]
  },
  {
   "cell_type": "code",
   "execution_count": null,
   "metadata": {},
   "outputs": [],
   "source": []
  },
  {
   "cell_type": "code",
   "execution_count": 69,
   "metadata": {},
   "outputs": [],
   "source": [
    "# prepare word embeddings for all X data\n",
    "def get_vector(text, model):\n",
    "    return np.mean(np.array([model[i] for i in preprocess(text)]), axis=0).tolist()\n",
    "\n",
    "X_train_glove_transformed = X_train.apply(lambda x: get_vector(x, model_glove_finetuned)).tolist()\n",
    "X_test_glove_transformed = X_test.apply(lambda x: get_vector(x, model_glove_finetuned)).tolist()"
   ]
  },
  {
   "cell_type": "markdown",
   "metadata": {},
   "source": [
    "#### Naive Bayes (baseline)"
   ]
  },
  {
   "cell_type": "code",
   "execution_count": 65,
   "metadata": {},
   "outputs": [],
   "source": [
    "from sklearn.naive_bayes import MultinomialNB"
   ]
  },
  {
   "cell_type": "code",
   "execution_count": 73,
   "metadata": {},
   "outputs": [],
   "source": [
    "# we need to use the min max scaler to convert all negative values\n",
    "from sklearn.preprocessing import MinMaxScaler\n",
    "X_train_glove_transformed_scaled = MinMaxScaler().fit_transform(X_train_glove_transformed)\n",
    "X_test_glove_transformed_scaled = MinMaxScaler().fit_transform(X_test_glove_transformed)"
   ]
  },
  {
   "cell_type": "code",
   "execution_count": 75,
   "metadata": {},
   "outputs": [
    {
     "data": {
      "text/plain": [
       "MultinomialNB()"
      ]
     },
     "execution_count": 75,
     "metadata": {},
     "output_type": "execute_result"
    }
   ],
   "source": [
    "clf_glove_mnb = MultinomialNB()\n",
    "clf_glove_mnb.fit(X_train_glove_transformed_scaled, y_train)"
   ]
  },
  {
   "cell_type": "code",
   "execution_count": 78,
   "metadata": {},
   "outputs": [
    {
     "data": {
      "text/plain": [
       "0.7777777777777778"
      ]
     },
     "execution_count": 78,
     "metadata": {},
     "output_type": "execute_result"
    }
   ],
   "source": [
    "accuracy_score(y_test, clf_glove_mnb.predict(X_test_glove_transformed_scaled))"
   ]
  },
  {
   "cell_type": "code",
   "execution_count": 79,
   "metadata": {},
   "outputs": [
    {
     "name": "stdout",
     "output_type": "stream",
     "text": [
      "                precision    recall  f1-score   support\n",
      "\n",
      "        career       0.67      0.89      0.76         9\n",
      "        course       0.78      0.93      0.85        15\n",
      "subject_domain       1.00      0.50      0.67        12\n",
      "\n",
      "      accuracy                           0.78        36\n",
      "     macro avg       0.81      0.77      0.76        36\n",
      "  weighted avg       0.82      0.78      0.77        36\n",
      "\n"
     ]
    }
   ],
   "source": [
    "print(\n",
    "    classification_report(y_test, clf_glove_mnb.predict(X_test_glove_transformed_scaled))\n",
    ")"
   ]
  },
  {
   "cell_type": "markdown",
   "metadata": {},
   "source": [
    "#### Linear SVM"
   ]
  },
  {
   "cell_type": "code",
   "execution_count": 82,
   "metadata": {},
   "outputs": [],
   "source": [
    "from sklearn.linear_model import SGDClassifier"
   ]
  },
  {
   "cell_type": "code",
   "execution_count": 222,
   "metadata": {},
   "outputs": [
    {
     "data": {
      "text/plain": [
       "SGDClassifier(alpha=0.001, random_state=7600)"
      ]
     },
     "execution_count": 222,
     "metadata": {},
     "output_type": "execute_result"
    }
   ],
   "source": [
    "clf_glove_sgd = SGDClassifier(\n",
    "    loss='hinge',\n",
    "    penalty='l2',\n",
    "    alpha=1e-3,\n",
    "    random_state=7600,\n",
    ")\n",
    "clf_glove_sgd.fit(X_train_glove_transformed, y_train)"
   ]
  },
  {
   "cell_type": "code",
   "execution_count": 223,
   "metadata": {},
   "outputs": [
    {
     "data": {
      "text/plain": [
       "0.8888888888888888"
      ]
     },
     "execution_count": 223,
     "metadata": {},
     "output_type": "execute_result"
    }
   ],
   "source": [
    "accuracy_score(y_test, clf_glove_sgd.predict(X_test_glove_transformed))"
   ]
  },
  {
   "cell_type": "code",
   "execution_count": 224,
   "metadata": {},
   "outputs": [
    {
     "name": "stdout",
     "output_type": "stream",
     "text": [
      "                precision    recall  f1-score   support\n",
      "\n",
      "        career       0.82      1.00      0.90         9\n",
      "        course       0.93      0.87      0.90        15\n",
      "subject_domain       0.91      0.83      0.87        12\n",
      "\n",
      "      accuracy                           0.89        36\n",
      "     macro avg       0.89      0.90      0.89        36\n",
      "  weighted avg       0.89      0.89      0.89        36\n",
      "\n"
     ]
    }
   ],
   "source": [
    "print(classification_report(y_test, clf_glove_sgd.predict(X_test_glove_transformed)))"
   ]
  },
  {
   "cell_type": "code",
   "execution_count": 225,
   "metadata": {},
   "outputs": [
    {
     "data": {
      "text/plain": [
       "array(['career', 'subject_domain', 'course', 'course', 'career',\n",
       "       'subject_domain', 'career', 'subject_domain', 'career', 'course',\n",
       "       'career', 'course', 'course', 'course', 'subject_domain',\n",
       "       'subject_domain', 'course', 'subject_domain', 'subject_domain',\n",
       "       'career', 'career', 'course', 'career', 'course', 'course',\n",
       "       'subject_domain', 'career', 'subject_domain', 'course', 'course',\n",
       "       'course', 'subject_domain', 'subject_domain', 'career', 'course',\n",
       "       'career'], dtype='<U14')"
      ]
     },
     "execution_count": 225,
     "metadata": {},
     "output_type": "execute_result"
    }
   ],
   "source": [
    "clf_glove_sgd.predict(X_test_glove_transformed)"
   ]
  },
  {
   "cell_type": "code",
   "execution_count": 226,
   "metadata": {},
   "outputs": [],
   "source": [
    "df_glove_sgd_predictions = pd.DataFrame(\n",
    "    X_test\n",
    ")\n",
    "df_glove_sgd_predictions['Ground Truth Recommender Intent'] = y_test\n",
    "df_glove_sgd_predictions['Predicted Recommender Intent'] = clf_glove_sgd.predict(X_test_glove_transformed)"
   ]
  },
  {
   "cell_type": "code",
   "execution_count": 227,
   "metadata": {},
   "outputs": [
    {
     "data": {
      "text/html": [
       "<div>\n",
       "<style scoped>\n",
       "    .dataframe tbody tr th:only-of-type {\n",
       "        vertical-align: middle;\n",
       "    }\n",
       "\n",
       "    .dataframe tbody tr th {\n",
       "        vertical-align: top;\n",
       "    }\n",
       "\n",
       "    .dataframe thead th {\n",
       "        text-align: right;\n",
       "    }\n",
       "</style>\n",
       "<table border=\"1\" class=\"dataframe\">\n",
       "  <thead>\n",
       "    <tr style=\"text-align: right;\">\n",
       "      <th></th>\n",
       "      <th>Student Query</th>\n",
       "      <th>Ground Truth Recommender Intent</th>\n",
       "      <th>Predicted Recommender Intent</th>\n",
       "    </tr>\n",
       "  </thead>\n",
       "  <tbody>\n",
       "    <tr>\n",
       "      <th>89</th>\n",
       "      <td>I want to learn more about computer programmin...</td>\n",
       "      <td>subject_domain</td>\n",
       "      <td>course</td>\n",
       "    </tr>\n",
       "    <tr>\n",
       "      <th>92</th>\n",
       "      <td>I don't have any dream. Which subject should I...</td>\n",
       "      <td>subject_domain</td>\n",
       "      <td>career</td>\n",
       "    </tr>\n",
       "    <tr>\n",
       "      <th>58</th>\n",
       "      <td>I want to study math.</td>\n",
       "      <td>course</td>\n",
       "      <td>subject_domain</td>\n",
       "    </tr>\n",
       "    <tr>\n",
       "      <th>41</th>\n",
       "      <td>I want to work in investment bank after gradua...</td>\n",
       "      <td>course</td>\n",
       "      <td>career</td>\n",
       "    </tr>\n",
       "  </tbody>\n",
       "</table>\n",
       "</div>"
      ],
      "text/plain": [
       "                                        Student Query  \\\n",
       "89  I want to learn more about computer programmin...   \n",
       "92  I don't have any dream. Which subject should I...   \n",
       "58                              I want to study math.   \n",
       "41  I want to work in investment bank after gradua...   \n",
       "\n",
       "   Ground Truth Recommender Intent Predicted Recommender Intent  \n",
       "89                  subject_domain                       course  \n",
       "92                  subject_domain                       career  \n",
       "58                          course               subject_domain  \n",
       "41                          course                       career  "
      ]
     },
     "execution_count": 227,
     "metadata": {},
     "output_type": "execute_result"
    }
   ],
   "source": [
    "# get the cases where the predictions are wrong\n",
    "df_glove_sgd_predictions.loc[df_glove_sgd_predictions['Ground Truth Recommender Intent'] != df_glove_sgd_predictions['Predicted Recommender Intent']]"
   ]
  },
  {
   "cell_type": "code",
   "execution_count": 228,
   "metadata": {},
   "outputs": [
    {
     "data": {
      "text/plain": [
       "['models/clf_glove_sgd_recommender_intent_classification.joblib']"
      ]
     },
     "execution_count": 228,
     "metadata": {},
     "output_type": "execute_result"
    }
   ],
   "source": [
    "# save this model as it performs the best\n",
    "from joblib import dump\n",
    "dump(clf_glove_sgd, 'models/clf_glove_sgd_recommender_intent_classification.joblib')"
   ]
  },
  {
   "cell_type": "code",
   "execution_count": null,
   "metadata": {},
   "outputs": [],
   "source": []
  },
  {
   "cell_type": "code",
   "execution_count": 229,
   "metadata": {},
   "outputs": [],
   "source": [
    "import joblib\n",
    "temp = joblib.load('models/clf_glove_sgd_recommender_intent_classification.joblib')"
   ]
  },
  {
   "cell_type": "code",
   "execution_count": 231,
   "metadata": {},
   "outputs": [
    {
     "data": {
      "text/plain": [
       "array(['career', 'subject_domain', 'course', 'course', 'career',\n",
       "       'subject_domain', 'career', 'subject_domain', 'career', 'course',\n",
       "       'career', 'course', 'course', 'course', 'subject_domain',\n",
       "       'subject_domain', 'course', 'subject_domain', 'subject_domain',\n",
       "       'career', 'career', 'course', 'career', 'course', 'course',\n",
       "       'subject_domain', 'career', 'subject_domain', 'course', 'course',\n",
       "       'course', 'subject_domain', 'subject_domain', 'career', 'course',\n",
       "       'career'], dtype='<U14')"
      ]
     },
     "execution_count": 231,
     "metadata": {},
     "output_type": "execute_result"
    }
   ],
   "source": [
    "temp.predict(X_test_glove_transformed)"
   ]
  },
  {
   "cell_type": "markdown",
   "metadata": {},
   "source": [
    "#### Logistic Regression"
   ]
  },
  {
   "cell_type": "code",
   "execution_count": 88,
   "metadata": {},
   "outputs": [],
   "source": [
    "from sklearn.linear_model import LogisticRegression"
   ]
  },
  {
   "cell_type": "code",
   "execution_count": 92,
   "metadata": {},
   "outputs": [
    {
     "data": {
      "text/plain": [
       "LogisticRegression(max_iter=200, n_jobs=16, random_state=7600)"
      ]
     },
     "execution_count": 92,
     "metadata": {},
     "output_type": "execute_result"
    }
   ],
   "source": [
    "from os import cpu_count\n",
    "clf_glove_lr = LogisticRegression(\n",
    "    max_iter=200,\n",
    "    random_state=7600,\n",
    "    n_jobs=cpu_count()\n",
    ")\n",
    "clf_glove_lr.fit(X_train_glove_transformed, y_train)"
   ]
  },
  {
   "cell_type": "code",
   "execution_count": 93,
   "metadata": {},
   "outputs": [
    {
     "data": {
      "text/plain": [
       "0.8611111111111112"
      ]
     },
     "execution_count": 93,
     "metadata": {},
     "output_type": "execute_result"
    }
   ],
   "source": [
    "accuracy_score(y_test, clf_glove_lr.predict(X_test_glove_transformed))"
   ]
  },
  {
   "cell_type": "code",
   "execution_count": 95,
   "metadata": {},
   "outputs": [
    {
     "name": "stdout",
     "output_type": "stream",
     "text": [
      "                precision    recall  f1-score   support\n",
      "\n",
      "        career       0.75      1.00      0.86         9\n",
      "        course       0.92      0.80      0.86        15\n",
      "subject_domain       0.91      0.83      0.87        12\n",
      "\n",
      "      accuracy                           0.86        36\n",
      "     macro avg       0.86      0.88      0.86        36\n",
      "  weighted avg       0.88      0.86      0.86        36\n",
      "\n"
     ]
    }
   ],
   "source": [
    "print(classification_report(y_test, clf_glove_lr.predict(X_test_glove_transformed)))"
   ]
  },
  {
   "cell_type": "markdown",
   "metadata": {},
   "source": [
    "#### CNN"
   ]
  },
  {
   "cell_type": "code",
   "execution_count": 96,
   "metadata": {},
   "outputs": [],
   "source": [
    "import torch, scipy\n",
    "from torch import nn"
   ]
  },
  {
   "cell_type": "code",
   "execution_count": 98,
   "metadata": {},
   "outputs": [
    {
     "data": {
      "text/plain": [
       "device(type='cuda')"
      ]
     },
     "execution_count": 98,
     "metadata": {},
     "output_type": "execute_result"
    }
   ],
   "source": [
    "# set up gpu for training\n",
    "if torch.cuda.is_available(): device = torch.device('cuda')\n",
    "else: device = torch.device('cpu')\n",
    "device"
   ]
  },
  {
   "cell_type": "code",
   "execution_count": 133,
   "metadata": {},
   "outputs": [],
   "source": [
    "# convert vectors to tensor\n",
    "X_train_glove_tensor = torch.tensor(X_train_glove_transformed).float().to(device)\n",
    "X_test_glove_tensor = torch.tensor(X_test_glove_transformed).float().to(device)"
   ]
  },
  {
   "cell_type": "code",
   "execution_count": 134,
   "metadata": {},
   "outputs": [],
   "source": [
    "y_train_codes = pd.Categorical(y_train).codes\n",
    "y_test_codes = pd.Categorical(y_test).codes"
   ]
  },
  {
   "cell_type": "code",
   "execution_count": 141,
   "metadata": {},
   "outputs": [],
   "source": [
    "y_train_tensor = torch.tensor(y_train_codes).long().to(device)\n",
    "y_test_tensor = torch.tensor(y_test_codes).long().to(device)"
   ]
  },
  {
   "cell_type": "code",
   "execution_count": 142,
   "metadata": {},
   "outputs": [
    {
     "data": {
      "text/plain": [
       "Sequential(\n",
       "  (0): Linear(in_features=300, out_features=64, bias=True)\n",
       "  (1): ReLU()\n",
       "  (2): Linear(in_features=64, out_features=3, bias=True)\n",
       "  (3): LogSoftmax(dim=1)\n",
       ")"
      ]
     },
     "execution_count": 142,
     "metadata": {},
     "output_type": "execute_result"
    }
   ],
   "source": [
    "# define cnn model\n",
    "clf_glove_cnn = nn.Sequential(\n",
    "    nn.Linear(X_train_glove_tensor.shape[1], 64),\n",
    "    nn.ReLU(),\n",
    "    nn.Linear(64, y.nunique()),\n",
    "    nn.LogSoftmax(dim=1)\n",
    ")\n",
    "clf_glove_cnn.to(device)"
   ]
  },
  {
   "cell_type": "code",
   "execution_count": 143,
   "metadata": {},
   "outputs": [],
   "source": [
    "# define loss\n",
    "criterion = nn.NLLLoss()\n",
    "logps = clf_glove_cnn(X_train_glove_tensor)\n",
    "loss = criterion(logps, y_train_tensor)\n",
    "\n",
    "loss.backward()\n",
    "\n",
    "# define optimizer\n",
    "optimizer = torch.optim.Adam(clf_glove_cnn.parameters(), lr=2e-3)"
   ]
  },
  {
   "cell_type": "code",
   "execution_count": 144,
   "metadata": {},
   "outputs": [],
   "source": [
    "EPOCHS = 50"
   ]
  },
  {
   "cell_type": "code",
   "execution_count": 145,
   "metadata": {},
   "outputs": [],
   "source": [
    "for epoch in range(EPOCHS):\n",
    "    optimizer.zero_grad()\n",
    "    outputs = clf_glove_cnn.forward(X_train_glove_tensor)\n",
    "    loss = criterion(outputs, y_train_tensor)\n",
    "    loss.backward()\n",
    "    optimizer.step()"
   ]
  },
  {
   "cell_type": "code",
   "execution_count": 146,
   "metadata": {},
   "outputs": [],
   "source": [
    "# evaluate our model\n",
    "with torch.no_grad():\n",
    "    clf_glove_cnn.eval()\n",
    "    log_ps = clf_glove_cnn(X_test_glove_tensor)\n",
    "    test_loss = criterion(log_ps, y_test_tensor)\n",
    "\n",
    "    ps = torch.exp(log_ps)\n",
    "    top_p, top_class = ps.topk(1, dim=1)\n",
    "    equals = top_class == y_test_tensor.view(*top_class.shape)\n",
    "    test_accuracy = torch.mean(equals.float())"
   ]
  },
  {
   "cell_type": "code",
   "execution_count": 147,
   "metadata": {},
   "outputs": [
    {
     "data": {
      "text/plain": [
       "tensor(0.8889, device='cuda:0')"
      ]
     },
     "execution_count": 147,
     "metadata": {},
     "output_type": "execute_result"
    }
   ],
   "source": [
    "test_accuracy"
   ]
  },
  {
   "cell_type": "code",
   "execution_count": null,
   "metadata": {},
   "outputs": [],
   "source": []
  }
 ],
 "metadata": {
  "kernelspec": {
   "display_name": "Python 3.7.13 ('DataScience')",
   "language": "python",
   "name": "python3"
  },
  "language_info": {
   "codemirror_mode": {
    "name": "ipython",
    "version": 3
   },
   "file_extension": ".py",
   "mimetype": "text/x-python",
   "name": "python",
   "nbconvert_exporter": "python",
   "pygments_lexer": "ipython3",
   "version": "3.7.13"
  },
  "orig_nbformat": 4,
  "vscode": {
   "interpreter": {
    "hash": "32d60d92059b3e36b6bd9986edfc808c4ae526b74500509951e82855bb1b814d"
   }
  }
 },
 "nbformat": 4,
 "nbformat_minor": 2
}
