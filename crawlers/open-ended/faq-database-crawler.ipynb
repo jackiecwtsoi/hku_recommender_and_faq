{
 "cells": [
  {
   "cell_type": "markdown",
   "metadata": {},
   "source": [
    "Crawler for FAQ Database\n",
    "---"
   ]
  },
  {
   "cell_type": "code",
   "execution_count": 131,
   "metadata": {},
   "outputs": [],
   "source": [
    "import numpy as np\n",
    "import pandas as pd\n",
    "import matplotlib.pyplot as plt"
   ]
  },
  {
   "cell_type": "markdown",
   "metadata": {},
   "source": [
    "For our database, we will be crawling FAQs from the following websites:\n",
    "1. Official HKU website on admissino: https://admissions.hku.hk/faqs\n",
    "    - HKDSE (Local Students)\n",
    "    - HKDSE (Non-local Students)\n",
    "    - International/Overseas Qualifications\n",
    "    - Bachelor's Degree\n",
    "    - Hong Kong Sub-degrees (for senior year entry)\n",
    "2. AAO: https://aao.hku.hk/faq/\n",
    "3. HKU Science programmes\n",
    "    - BSc 6901: https://www.scifac.hku.hk/prospective/ug/6901-bsc/faq#On-Admission"
   ]
  },
  {
   "cell_type": "markdown",
   "metadata": {},
   "source": [
    "---\n",
    "# 1. FAQ - Offical HKU website on admissions\n",
    "1. HKDSE (Local Students)\n",
    "2. HKDSE (Non-local Students)\n",
    "3. International/Overseas Qualifications\n",
    "4. Bachelor's Degree\n",
    "5. Hong Kong Sub-degrees (for senior year entry)\n",
    "\n",
    "method: manual data entry"
   ]
  },
  {
   "cell_type": "markdown",
   "metadata": {},
   "source": [
    "---\n",
    "# 2. FAQ - AAO\n",
    "https://aao.hku.hk/faq/"
   ]
  },
  {
   "cell_type": "code",
   "execution_count": 269,
   "metadata": {},
   "outputs": [],
   "source": [
    "from bs4 import BeautifulSoup\n",
    "from time import sleep\n",
    "import requests"
   ]
  },
  {
   "cell_type": "code",
   "execution_count": 147,
   "metadata": {},
   "outputs": [],
   "source": [
    "# helper function\n",
    "# retrieve HTML of the FAQs\n",
    "def get_faq_html(url, verify=True):\n",
    "    page = requests.get(url, verify=verify)\n",
    "    soup = BeautifulSoup(page.text, 'html.parser')\n",
    "    \n",
    "    return soup"
   ]
  },
  {
   "cell_type": "code",
   "execution_count": 148,
   "metadata": {},
   "outputs": [],
   "source": [
    "# helper function\n",
    "# retrieve dataframe of all AAO FAQs\n",
    "# return: DATAFRAME\n",
    "\n",
    "def get_aao_faq(url):\n",
    "    # call helper function to get metatable HTML\n",
    "    soup = get_faq_html(url, verify=False)\n",
    "\n",
    "    faq_list = soup.find_all('p')\n",
    "\n",
    "    # get question and answer for each FAQ in the list, and store to dataframe\n",
    "    rows = []\n",
    "    for faq in faq_list:\n",
    "        try:\n",
    "            question = faq.text.split('\\n', 1)[0].strip()\n",
    "            answer = faq.text.split('\\n', 1)[1].replace('\\t', '')\n",
    "\n",
    "            rows.append([question, answer])\n",
    "        except: continue\n",
    "    \n",
    "    df_faq = pd.DataFrame(rows, columns=['Question', 'Answer'])\n",
    "\n",
    "    return df_faq"
   ]
  },
  {
   "cell_type": "code",
   "execution_count": 149,
   "metadata": {},
   "outputs": [
    {
     "name": "stderr",
     "output_type": "stream",
     "text": [
      "c:\\Users\\Kackie\\anaconda3\\envs\\DataScience\\lib\\site-packages\\urllib3\\connectionpool.py:1052: InsecureRequestWarning: Unverified HTTPS request is being made to host 'aao.hku.hk'. Adding certificate verification is strongly advised. See: https://urllib3.readthedocs.io/en/1.26.x/advanced-usage.html#ssl-warnings\n",
      "  InsecureRequestWarning,\n"
     ]
    }
   ],
   "source": [
    "# collect AAO FAQs\n",
    "df_aao_faq = get_aao_faq('https://aao.hku.hk/faq/')"
   ]
  },
  {
   "cell_type": "code",
   "execution_count": 138,
   "metadata": {},
   "outputs": [],
   "source": [
    "# save AAO FAQs dataframe to csv\n",
    "df_aao_faq.to_csv('datasets/df_aao_faq.csv')"
   ]
  },
  {
   "cell_type": "markdown",
   "metadata": {},
   "source": [
    "---\n",
    "# 3. FAQ - HKU Science programmes\n",
    "- BSc 6901 (Bachelor of Science): https://www.scifac.hku.hk/prospective/ug/6901-bsc/faq\n",
    "- BASc (Bachelor of Arts & Sciences): https://www.socsc.hku.hk/basc/prospective-students/faq/"
   ]
  },
  {
   "cell_type": "markdown",
   "metadata": {},
   "source": [
    "## 3.1 FAQ - BSc 6901 Bachelor of Science"
   ]
  },
  {
   "cell_type": "code",
   "execution_count": 264,
   "metadata": {},
   "outputs": [],
   "source": [
    "# helper function\n",
    "# retrieve dataframe of all BSc 6901 FAQs\n",
    "# return: DATAFRAME\n",
    "def get_6901_faq(url):\n",
    "    soup = get_faq_html(url)\n",
    "\n",
    "    questions = soup.find_all('div', {'class': 'panel__heading'})\n",
    "    answers = soup.find_all('div', {'class', 'panel__collapse collapse'})\n",
    "\n",
    "    questions = list(map(lambda x: x.text.strip().replace('\\xa0', ' '), questions))\n",
    "    \n",
    "    answers_final = []\n",
    "    for a in answers:\n",
    "        bullets = a.find_all('li')\n",
    "        if len(bullets) != 0:\n",
    "            concat_str = '; '.join(list(map(lambda x: x.text.strip().replace('\\xa0', ' '), bullets)))\n",
    "            answers_final.append(concat_str)\n",
    "        else:\n",
    "            answers_final.append(a.text.strip().replace('\\xa0', ' ').replace('\\r\\n', ' '))\n",
    "\n",
    "    df_faq = pd.DataFrame()\n",
    "    df_faq['Question'] = questions\n",
    "    df_faq['Answer'] = answers_final\n",
    "\n",
    "    return df_faq"
   ]
  },
  {
   "cell_type": "code",
   "execution_count": 267,
   "metadata": {},
   "outputs": [],
   "source": [
    "# collect BSc 6901 FAQs\n",
    "df_6901_faq = get_6901_faq('https://www.scifac.hku.hk/prospective/ug/6901-bsc/faq')"
   ]
  },
  {
   "cell_type": "code",
   "execution_count": 268,
   "metadata": {},
   "outputs": [],
   "source": [
    "# save BSc 6901 FAQs dataframe to csv\n",
    "df_6901_faq.to_csv('datasets/df_6901_faq.csv')"
   ]
  },
  {
   "cell_type": "markdown",
   "metadata": {},
   "source": [
    "## 3.2 FAQ - BASc Bachelor of Arts & Sciences\n",
    "method: manual data entry"
   ]
  },
  {
   "cell_type": "code",
   "execution_count": null,
   "metadata": {},
   "outputs": [],
   "source": []
  },
  {
   "cell_type": "code",
   "execution_count": null,
   "metadata": {},
   "outputs": [],
   "source": []
  },
  {
   "cell_type": "code",
   "execution_count": null,
   "metadata": {},
   "outputs": [],
   "source": []
  },
  {
   "cell_type": "code",
   "execution_count": null,
   "metadata": {},
   "outputs": [],
   "source": []
  }
 ],
 "metadata": {
  "kernelspec": {
   "display_name": "Python 3.7.13 ('DataScience')",
   "language": "python",
   "name": "python3"
  },
  "language_info": {
   "codemirror_mode": {
    "name": "ipython",
    "version": 3
   },
   "file_extension": ".py",
   "mimetype": "text/x-python",
   "name": "python",
   "nbconvert_exporter": "python",
   "pygments_lexer": "ipython3",
   "version": "3.7.13"
  },
  "orig_nbformat": 4,
  "vscode": {
   "interpreter": {
    "hash": "32d60d92059b3e36b6bd9986edfc808c4ae526b74500509951e82855bb1b814d"
   }
  }
 },
 "nbformat": 4,
 "nbformat_minor": 2
}
