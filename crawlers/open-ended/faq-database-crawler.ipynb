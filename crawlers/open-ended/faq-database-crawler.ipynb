{
 "cells": [
  {
   "cell_type": "markdown",
   "metadata": {},
   "source": [
    "Crawler for FAQ Database\n",
    "---"
   ]
  },
  {
   "cell_type": "code",
   "execution_count": 1,
   "metadata": {},
   "outputs": [],
   "source": [
    "import numpy as np\n",
    "import pandas as pd\n",
    "import matplotlib.pyplot as plt"
   ]
  },
  {
   "cell_type": "markdown",
   "metadata": {},
   "source": [
    "For our database, we will be crawling FAQs from the following websites:\n",
    "1. Official HKU website on admissino: https://admissions.hku.hk/faqs\n",
    "    - HKDSE (Local Students)\n",
    "    - HKDSE (Non-local Students)\n",
    "    - International/Overseas Qualifications\n",
    "    - Bachelor's Degree\n",
    "    - Hong Kong Sub-degrees (for senior year entry)\n",
    "2. AAO: https://aao.hku.hk/faq/\n",
    "3. HKU Science programmes\n",
    "    - BSc 6901: https://www.scifac.hku.hk/prospective/ug/6901-bsc/faq#On-Admission"
   ]
  },
  {
   "cell_type": "markdown",
   "metadata": {},
   "source": [
    "---\n",
    "# 1. Offical HKU website on admissions\n",
    "1. HKDSE (Local Students)\n",
    "2. HKDSE (Non-local Students)\n",
    "3. International/Overseas Qualifications\n",
    "4. Bachelor's Degree\n",
    "5. Hong Kong Sub-degrees (for senior year entry)"
   ]
  },
  {
   "cell_type": "code",
   "execution_count": 1,
   "metadata": {},
   "outputs": [],
   "source": [
    "from bs4 import BeautifulSoup\n",
    "from time import sleep\n",
    "import requests"
   ]
  },
  {
   "cell_type": "code",
   "execution_count": null,
   "metadata": {},
   "outputs": [],
   "source": []
  }
 ],
 "metadata": {
  "kernelspec": {
   "display_name": "Python 3.7.13 ('DataScience')",
   "language": "python",
   "name": "python3"
  },
  "language_info": {
   "codemirror_mode": {
    "name": "ipython",
    "version": 3
   },
   "file_extension": ".py",
   "mimetype": "text/x-python",
   "name": "python",
   "nbconvert_exporter": "python",
   "pygments_lexer": "ipython3",
   "version": "3.7.13"
  },
  "orig_nbformat": 4,
  "vscode": {
   "interpreter": {
    "hash": "32d60d92059b3e36b6bd9986edfc808c4ae526b74500509951e82855bb1b814d"
   }
  }
 },
 "nbformat": 4,
 "nbformat_minor": 2
}
