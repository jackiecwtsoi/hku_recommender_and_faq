{
 "cells": [
  {
   "cell_type": "markdown",
   "metadata": {},
   "source": [
    "Web Form Autofiller for University Major Recommendation (Type 1)\n",
    "---\n",
    "\n",
    "**Overall logic**\n",
    "1. We use a web crawler to automatically fill in an online questionnaire based on the student's responses to a series of personality and academic related questions.\n",
    "2. During the autofill process, we record the crawler's selected fields and the generated major recommendation output. We repeat this process many times to collect our own dataset.\n",
    "3. Using our collected dataset, we train our own major recommendation model."
   ]
  },
  {
   "cell_type": "code",
   "execution_count": 19,
   "metadata": {},
   "outputs": [],
   "source": [
    "import numpy as np\n",
    "import pandas as pd\n",
    "import matplotlib.pyplot as plt"
   ]
  },
  {
   "cell_type": "markdown",
   "metadata": {},
   "source": [
    "# 1. Autofiller of Online Questionnaire\n",
    "**Online questionnaire source(s)**\n",
    "\n",
    "[\"What's My Major Quiz\" by Loyola University Chicago](https://www.luc.edu/undergrad/academiclife/whatsmymajorquiz/#)\n",
    "- 40 yes/no short questions - $2^{40}$ possible combinations\n",
    "- Recommends multiple majors"
   ]
  },
  {
   "cell_type": "markdown",
   "metadata": {},
   "source": [
    "## Setup"
   ]
  },
  {
   "cell_type": "code",
   "execution_count": 13,
   "metadata": {},
   "outputs": [],
   "source": [
    "# import selenium related packages\n",
    "from time import sleep\n",
    "from selenium import webdriver"
   ]
  },
  {
   "cell_type": "code",
   "execution_count": 14,
   "metadata": {},
   "outputs": [],
   "source": [
    "# define webdriver paths\n",
    "CHROME_DRIVER_PATH = './drivers/chromedriver'"
   ]
  },
  {
   "cell_type": "code",
   "execution_count": 15,
   "metadata": {},
   "outputs": [],
   "source": [
    "# define urls to be crawled\n",
    "LUC_QUIZ_URL = 'https://www.luc.edu/undergrad/academiclife/whatsmymajorquiz/#'"
   ]
  },
  {
   "cell_type": "markdown",
   "metadata": {},
   "source": [
    "## Helper functions"
   ]
  },
  {
   "cell_type": "code",
   "execution_count": 30,
   "metadata": {},
   "outputs": [],
   "source": [
    "# helper function\n",
    "# step 1: click yes/no 40 times on the online questionnaire to reach the final recommendation\n",
    "import random\n",
    "def luc_random_click(browser):\n",
    "    options = ['yes', 'no']\n",
    "    chosen_option = random.choice(options) # generate random option between 'yes' and 'no'\n",
    "\n",
    "    btn = browser.find_element_by_id(chosen_option) # locate the radio button\n",
    "    btn.click() # click the radio button on the webpage"
   ]
  },
  {
   "cell_type": "code",
   "execution_count": null,
   "metadata": {},
   "outputs": [],
   "source": [
    "# helper function\n",
    "# step 2: "
   ]
  },
  {
   "cell_type": "code",
   "execution_count": 31,
   "metadata": {},
   "outputs": [],
   "source": [
    "# define chrome browser\n",
    "browser = webdriver.Chrome(CHROME_DRIVER_PATH)\n",
    "\n",
    "# launch browser\n",
    "browser.get(LUC_QUIZ_URL)\n",
    "sleep(2)\n",
    "\n",
    "for _ in range(40):\n",
    "    luc_random_click(browser)\n",
    "    sleep(1)"
   ]
  },
  {
   "cell_type": "code",
   "execution_count": 9,
   "metadata": {},
   "outputs": [],
   "source": [
    "browser.get(LUC_QUIZ_URL)\n",
    "\n",
    "sleep(5)\n",
    "\n",
    "browser.close()"
   ]
  },
  {
   "cell_type": "markdown",
   "metadata": {},
   "source": []
  },
  {
   "cell_type": "code",
   "execution_count": null,
   "metadata": {},
   "outputs": [],
   "source": []
  }
 ],
 "metadata": {
  "kernelspec": {
   "display_name": "Python 3.7.11 ('DataScience')",
   "language": "python",
   "name": "python3"
  },
  "language_info": {
   "codemirror_mode": {
    "name": "ipython",
    "version": 3
   },
   "file_extension": ".py",
   "mimetype": "text/x-python",
   "name": "python",
   "nbconvert_exporter": "python",
   "pygments_lexer": "ipython3",
   "version": "3.7.11"
  },
  "orig_nbformat": 4,
  "vscode": {
   "interpreter": {
    "hash": "f004737b7064194434162a9b4bd069e05f5ef5efca4b4ffdb3de9d46fb212381"
   }
  }
 },
 "nbformat": 4,
 "nbformat_minor": 2
}
