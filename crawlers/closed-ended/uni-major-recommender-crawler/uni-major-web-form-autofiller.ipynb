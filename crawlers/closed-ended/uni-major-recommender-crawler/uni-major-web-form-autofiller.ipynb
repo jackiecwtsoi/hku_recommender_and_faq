{
 "cells": [
  {
   "cell_type": "markdown",
   "metadata": {},
   "source": [
    "Web Form Autofiller for University Major Recommendation (Type 1)\n",
    "---\n",
    "\n",
    "**Overall logic**\n",
    "1. We use a web crawler to automatically fill in an online questionnaire based on the student's responses to a series of personality and academic related questions. During the autofill process, we record the crawler's selected fields and the generated major recommendation output. We repeat this process many times to collect our own dataset.\n",
    "2. Using our collected dataset, we train our own major recommendation model."
   ]
  },
  {
   "cell_type": "code",
   "execution_count": 3,
   "metadata": {},
   "outputs": [],
   "source": [
    "import numpy as np\n",
    "import pandas as pd\n",
    "import matplotlib.pyplot as plt"
   ]
  },
  {
   "cell_type": "markdown",
   "metadata": {},
   "source": [
    "# 1. Autofiller of Online Questionnaire\n",
    "**Online questionnaire source(s)**\n",
    "\n",
    "[\"What's My Major Quiz\" by Loyola University Chicago](https://www.luc.edu/undergrad/academiclife/whatsmymajorquiz/#)\n",
    "- 40 yes/no short questions - $2^{40}$ possible combinations\n",
    "- Recommends multiple majors"
   ]
  },
  {
   "cell_type": "markdown",
   "metadata": {},
   "source": [
    "## Setup"
   ]
  },
  {
   "cell_type": "code",
   "execution_count": 10,
   "metadata": {},
   "outputs": [],
   "source": [
    "# import selenium related packages\n",
    "from time import sleep\n",
    "from selenium import webdriver\n",
    "from selenium.webdriver.chrome.options import Options"
   ]
  },
  {
   "cell_type": "code",
   "execution_count": 11,
   "metadata": {},
   "outputs": [],
   "source": [
    "# define webdriver paths\n",
    "CHROME_DRIVER_PATH = './drivers/chromedriver'"
   ]
  },
  {
   "cell_type": "code",
   "execution_count": 12,
   "metadata": {},
   "outputs": [],
   "source": [
    "# define urls to be crawled\n",
    "LUC_QUIZ_URL = 'https://www.luc.edu/undergrad/academiclife/whatsmymajorquiz/#'"
   ]
  },
  {
   "cell_type": "markdown",
   "metadata": {},
   "source": [
    "## Helper functions"
   ]
  },
  {
   "cell_type": "code",
   "execution_count": 13,
   "metadata": {},
   "outputs": [],
   "source": [
    "# helper function\n",
    "# launch chrome browser (headless)\n",
    "# return: BROWSER type\n",
    "def launch_chrome_browser(CHROME_DRIVER_PATH):\n",
    "    CHROME_OPTIONS = Options()\n",
    "    CHROME_OPTIONS.add_argument('--headless')\n",
    "    browser = webdriver.Chrome(CHROME_DRIVER_PATH, options=CHROME_OPTIONS)\n",
    "    return browser"
   ]
  },
  {
   "cell_type": "code",
   "execution_count": 14,
   "metadata": {},
   "outputs": [],
   "source": [
    "# helper function\n",
    "# click yes/no 40 times on the online questionnaire to reach the final recommendation\n",
    "import random\n",
    "\n",
    "def luc_click(browser, chosen_option):\n",
    "    # click the radio button\n",
    "    btn = browser.find_element_by_id(chosen_option) # locate the radio button\n",
    "    btn.click() # click the radio button on the webpage"
   ]
  },
  {
   "cell_type": "code",
   "execution_count": 15,
   "metadata": {},
   "outputs": [],
   "source": [
    "# helper function\n",
    "# click 40 times and store every 'yes' or 'no' into the dataframe\n",
    "def luc_generate_options(browser):\n",
    "    options = ['yes', 'no']\n",
    "    chosen_options = random.choices(options, k=40)\n",
    "    return chosen_options"
   ]
  },
  {
   "cell_type": "code",
   "execution_count": 16,
   "metadata": {},
   "outputs": [],
   "source": [
    "# helper function\n",
    "# get all 40 questions and store them in a dataframe first\n",
    "# return: DATAFRAME\n",
    "def luc_get_all_questions(browser):\n",
    "    questions = []\n",
    "    chosen_options = luc_generate_options(browser)\n",
    "    for chosen_option in chosen_options:\n",
    "        q = browser.find_element_by_xpath(\"//div[contains(@class, 'question')]\").text\n",
    "        questions.append(q)\n",
    "\n",
    "        luc_click(browser, chosen_option)\n",
    "        sleep(1.5)\n",
    "    df_questions = pd.DataFrame(questions, columns=['Question']).set_index('Question')\n",
    "    df_questions = df_questions.transpose()\n",
    "    return df_questions"
   ]
  },
  {
   "cell_type": "code",
   "execution_count": 17,
   "metadata": {},
   "outputs": [],
   "source": [
    "# helper function\n",
    "# get final major suggestions\n",
    "# return: LIST\n",
    "def luc_get_major_suggestions(browser):\n",
    "    suggestions = browser.find_elements_by_xpath(\"//li[contains(@class, 'selected-6') or contains(@class, 'selected-5') or contains(@class, 'selected-4') or contains(@class, 'selected-3')]//a\")\n",
    "    return suggestions"
   ]
  },
  {
   "cell_type": "code",
   "execution_count": 18,
   "metadata": {},
   "outputs": [],
   "source": [
    "# helper function\n",
    "# get rows of training data\n",
    "# 40 columns of yes/no + 1 last coloumn of major recommendation\n",
    "# return: DATAFRAME\n",
    "def luc_append_training_row(browser):\n",
    "    chosen_options = luc_generate_options(browser)\n",
    "\n",
    "    # click 40 times\n",
    "    for chosen_option in chosen_options:\n",
    "        luc_click(browser, chosen_option)\n",
    "        sleep(1.2)\n",
    "    \n",
    "    # get the list of major suggestions\n",
    "    suggestions = luc_get_major_suggestions(browser)\n",
    "\n",
    "    # create a separate row for each of the suggestions\n",
    "    df = pd.DataFrame()\n",
    "    for suggestion in suggestions:\n",
    "        row = pd.DataFrame([chosen_options + [suggestion.text]])\n",
    "        df = df.append(row)\n",
    "    \n",
    "    return df"
   ]
  },
  {
   "cell_type": "code",
   "execution_count": 19,
   "metadata": {},
   "outputs": [],
   "source": [
    "# helper function\n",
    "# click 'START OVER'\n",
    "def luc_start_over(browser):\n",
    "    btn = browser.find_element_by_xpath(\"//a[@id='reset']\")\n",
    "    btn.click()"
   ]
  },
  {
   "cell_type": "code",
   "execution_count": 37,
   "metadata": {},
   "outputs": [],
   "source": [
    "# helper function\n",
    "# define the logic within k rounds of filling the form\n",
    "# return: DATAFRAME\n",
    "def luc_generate_trials(browser, k):\n",
    "    df = pd.DataFrame()\n",
    "    for i in range(k):\n",
    "        random.seed(i+200)\n",
    "        df_temp = luc_append_training_row(browser)\n",
    "        df = df.append(df_temp)\n",
    "        luc_start_over(browser)\n",
    "    return df"
   ]
  },
  {
   "cell_type": "markdown",
   "metadata": {},
   "source": [
    "## Generate actual data from autofilling"
   ]
  },
  {
   "cell_type": "markdown",
   "metadata": {},
   "source": [
    "**Get all 40 questions** (only need to run once)"
   ]
  },
  {
   "cell_type": "code",
   "execution_count": 21,
   "metadata": {},
   "outputs": [],
   "source": [
    "# launch chrome browser\n",
    "browser = launch_chrome_browser(CHROME_DRIVER_PATH)\n",
    "\n",
    "# launch browser\n",
    "browser.get(LUC_QUIZ_URL)\n",
    "sleep(2)\n",
    "\n",
    "# get all 40 questions and store them in a dataframe df\n",
    "df_luc_questions = luc_get_all_questions(browser)\n",
    "\n",
    "# close the browser\n",
    "browser.close()"
   ]
  },
  {
   "cell_type": "code",
   "execution_count": 23,
   "metadata": {},
   "outputs": [],
   "source": [
    "# save questions list as csv\n",
    "df_luc_questions.to_csv('df_luc_questions.csv')"
   ]
  },
  {
   "cell_type": "markdown",
   "metadata": {},
   "source": [
    "**Generate data**"
   ]
  },
  {
   "cell_type": "code",
   "execution_count": 38,
   "metadata": {},
   "outputs": [],
   "source": [
    "# launch chrome browser\n",
    "browser = launch_chrome_browser(CHROME_DRIVER_PATH)\n",
    "\n",
    "# launch browser\n",
    "browser.get(LUC_QUIZ_URL)\n",
    "sleep(2)\n",
    "\n",
    "# generate the data for 200 rounds of autofilling\n",
    "df_luc = luc_generate_trials(browser, 600)\n",
    "\n",
    "# close the browser\n",
    "browser.close()"
   ]
  },
  {
   "cell_type": "code",
   "execution_count": 223,
   "metadata": {},
   "outputs": [],
   "source": [
    "# save the csv\n",
    "df_luc.to_csv('datasets/df_luc.csv')"
   ]
  },
  {
   "cell_type": "markdown",
   "metadata": {},
   "source": [
    "# 2. Training using generated data"
   ]
  },
  {
   "cell_type": "code",
   "execution_count": 9,
   "metadata": {},
   "outputs": [],
   "source": [
    "# read data\n",
    "df_luc = pd.read_csv('datasets/df_luc.csv', index_col=0)"
   ]
  },
  {
   "cell_type": "code",
   "execution_count": 77,
   "metadata": {},
   "outputs": [],
   "source": [
    "df_luc_questions = df_luc_questions.transpose().reset_index()"
   ]
  },
  {
   "cell_type": "code",
   "execution_count": 118,
   "metadata": {},
   "outputs": [],
   "source": [
    "df_luc_questions\n",
    "df = df_luc.drop_duplicates(subset=df_luc.columns.difference(['40']))"
   ]
  },
  {
   "cell_type": "code",
   "execution_count": 119,
   "metadata": {},
   "outputs": [],
   "source": [
    "X = df.iloc[:, :40].eq('yes').mul(1)\n",
    "y_factorized = pd.factorize(df.iloc[:, 40])\n",
    "y = y_factorized[0]"
   ]
  },
  {
   "cell_type": "code",
   "execution_count": 120,
   "metadata": {},
   "outputs": [],
   "source": [
    "from sklearn.model_selection import train_test_split\n",
    "X_train, X_test, y_train, y_test = train_test_split(X, y, test_size=0.2, random_state=7600, shuffle=True)"
   ]
  },
  {
   "cell_type": "code",
   "execution_count": 130,
   "metadata": {},
   "outputs": [
    {
     "data": {
      "text/plain": [
       "0.06875"
      ]
     },
     "execution_count": 130,
     "metadata": {},
     "output_type": "execute_result"
    }
   ],
   "source": [
    "from sklearn.tree import DecisionTreeClassifier\n",
    "clf_dt = DecisionTreeClassifier(random_state=7600)\n",
    "clf_dt.fit(X_train, y_train)\n",
    "clf_dt.score(X_test, y_test)"
   ]
  },
  {
   "cell_type": "code",
   "execution_count": 129,
   "metadata": {},
   "outputs": [
    {
     "data": {
      "text/plain": [
       "0.18125"
      ]
     },
     "execution_count": 129,
     "metadata": {},
     "output_type": "execute_result"
    }
   ],
   "source": [
    "from sklearn.naive_bayes import GaussianNB\n",
    "clf_gnb = GaussianNB()\n",
    "clf_gnb.fit(X_train, y_train)\n",
    "clf_gnb.score(X_test, y_test)"
   ]
  },
  {
   "cell_type": "code",
   "execution_count": 131,
   "metadata": {},
   "outputs": [
    {
     "data": {
      "text/plain": [
       "0.14375"
      ]
     },
     "execution_count": 131,
     "metadata": {},
     "output_type": "execute_result"
    }
   ],
   "source": [
    "from sklearn.svm import SVC\n",
    "clf_svc = SVC(random_state=8017)\n",
    "clf_svc.fit(X_train, y_train)\n",
    "clf_svc.score(X_test, y_test)"
   ]
  },
  {
   "cell_type": "code",
   "execution_count": 132,
   "metadata": {},
   "outputs": [
    {
     "name": "stderr",
     "output_type": "stream",
     "text": [
      "/Users/jackietsoi/opt/anaconda3/envs/DataScience/lib/python3.7/site-packages/sklearn/linear_model/_logistic.py:818: ConvergenceWarning: lbfgs failed to converge (status=1):\n",
      "STOP: TOTAL NO. of ITERATIONS REACHED LIMIT.\n",
      "\n",
      "Increase the number of iterations (max_iter) or scale the data as shown in:\n",
      "    https://scikit-learn.org/stable/modules/preprocessing.html\n",
      "Please also refer to the documentation for alternative solver options:\n",
      "    https://scikit-learn.org/stable/modules/linear_model.html#logistic-regression\n",
      "  extra_warning_msg=_LOGISTIC_SOLVER_CONVERGENCE_MSG,\n"
     ]
    },
    {
     "data": {
      "text/plain": [
       "0.11875"
      ]
     },
     "execution_count": 132,
     "metadata": {},
     "output_type": "execute_result"
    }
   ],
   "source": [
    "from sklearn.linear_model import LogisticRegression\n",
    "clf_logistic = LogisticRegression(random_state=8017)\n",
    "clf_logistic.fit(X_train, y_train)\n",
    "clf_logistic.score(X_test, y_test)"
   ]
  },
  {
   "cell_type": "code",
   "execution_count": 135,
   "metadata": {},
   "outputs": [
    {
     "data": {
      "text/plain": [
       "(array([ 0,  1,  2,  3,  4,  3,  5,  6,  7,  0,  8,  3,  3,  9,  5,  9, 10,\n",
       "         8,  1,  5,  2, 11, 12,  4,  8,  2,  3, 13, 14, 11,  8, 15,  8, 10,\n",
       "         7, 11,  8,  5,  3,  2,  7, 14,  0,  5,  8, 15,  8,  7, 10, 10,  0,\n",
       "        16,  3,  8,  1, 10, 17,  7,  1,  4,  8,  2,  8, 17,  7,  3, 13,  2,\n",
       "        15, 13, 18,  2,  2, 18,  3, 15,  8,  8, 10,  8, 13,  5, 18, 17, 17,\n",
       "         7,  2, 14, 14, 14,  3,  0, 15,  0,  1, 14,  0,  5,  9,  0,  2,  0,\n",
       "        10,  5, 14,  7, 15, 19, 10,  0,  6,  0,  3,  8,  9,  8,  4, 17, 12,\n",
       "         2,  5,  0,  2,  0, 10,  2,  7,  4,  5, 12, 19,  7,  8,  2,  8,  2,\n",
       "         0,  2,  8,  3,  2,  7,  2,  3,  7,  0,  3,  5, 14,  8,  8, 10, 15,\n",
       "         0,  4, 14,  2,  6,  0,  9,  0, 16,  3,  5, 11,  0,  7,  2,  3,  2,\n",
       "         0,  8,  2, 18,  2,  7, 15,  3,  0,  9, 17, 14,  8,  8,  7,  2,  6,\n",
       "         7, 17,  7,  4,  7, 18,  2,  2,  0, 19,  1,  0,  6, 10, 15,  0,  8,\n",
       "         7,  0,  9,  8,  9,  7,  8,  0, 20, 20,  3, 16,  0,  5,  4, 15,  2,\n",
       "         0, 15,  2,  2, 18,  3,  1,  8,  0,  2,  2,  7,  0,  5,  3, 11,  4,\n",
       "        10,  8, 16, 10,  7,  3,  3,  3,  5,  8, 17,  8,  2, 10, 13,  5, 16,\n",
       "         1,  0,  2,  8,  7,  6, 13,  8,  3,  7,  0, 13,  5, 18, 10, 19, 17,\n",
       "        13,  2, 16, 17,  0,  8,  0,  5,  0, 10,  0,  0, 15,  0,  2, 15,  9,\n",
       "         3,  3,  8, 10,  2,  2,  2, 17, 17,  7,  7,  3,  5, 16, 18,  0,  5,\n",
       "         3,  2,  5,  0, 14,  8,  8, 15,  3,  5,  2,  2,  3, 12,  8,  5,  0,\n",
       "         8,  3,  6, 20,  2, 14, 10,  8, 19,  7,  0,  8,  9,  8, 19,  3,  8,\n",
       "         0,  0,  6,  3,  7,  5,  3,  7,  7, 18,  0, 16,  2,  0, 13,  2, 15,\n",
       "         7, 10,  3, 14,  6,  2, 13,  5, 19,  2,  8,  1,  7,  3,  8,  5, 20,\n",
       "         8,  2,  0,  3,  3,  0, 17,  3,  4,  5,  5,  5,  5, 19,  9,  2,  2,\n",
       "         7,  0,  7,  4,  0, 13,  0,  8,  2,  8,  0,  0, 13, 10, 10,  2, 16,\n",
       "        17, 10,  8,  8, 12,  2,  0,  5,  0,  6,  9,  0,  8, 15, 16, 14, 17,\n",
       "         9,  1,  6, 18,  0,  2,  3, 16,  6, 12,  0, 15,  0, 14,  1,  8,  2,\n",
       "         7,  0,  3,  5, 18,  7,  8, 19,  0,  8, 10,  8,  3,  8,  8, 11,  2,\n",
       "        10, 15,  0,  8,  3,  2,  6,  2,  6, 18,  8,  0, 15, 15,  7,  7, 14,\n",
       "        11,  8,  7,  8, 14,  0, 19,  4, 13,  8,  5, 14, 15,  1,  5,  9, 15,\n",
       "        12, 16,  7,  5,  2, 14,  9,  5,  4, 17, 11,  5,  2, 19, 11,  8,  2,\n",
       "        11, 19,  8,  8,  5,  6, 10,  5,  3,  3,  0, 15, 18, 15,  3,  2,  7,\n",
       "         8,  2,  6, 17,  3,  5,  5,  8,  4,  0,  5,  8, 18,  5, 12,  6,  0,\n",
       "         1,  4,  3,  5, 15,  0,  0,  0,  5,  3,  0,  8, 13,  4, 14, 20, 19,\n",
       "        18, 19,  2, 10,  5,  7, 20,  5,  5,  2,  0,  0,  5, 11,  7, 17, 20,\n",
       "         2,  4,  7,  2,  8, 15, 10,  3, 20,  3,  8,  8,  0,  5,  5, 13, 15,\n",
       "         2,  5, 15,  0, 13,  5,  0,  1,  7, 15,  8,  9, 15, 18,  3,  8,  1,\n",
       "         0,  0,  2, 15,  0, 13, 14,  8,  4, 11, 12, 17, 14, 16,  0,  2, 10,\n",
       "         8,  0, 11,  2, 14,  3,  3,  7,  7, 10, 10, 12,  0, 16,  3,  2,  0,\n",
       "         0,  8, 11,  5, 10,  7, 15, 13, 13,  0, 16,  8,  0,  7,  3, 10, 15,\n",
       "         1,  5,  0,  2,  3,  2,  0, 13,  9, 14, 14, 14, 14,  7, 10,  3,  5,\n",
       "         7,  8, 19,  8,  9,  8, 14,  7,  7,  3,  2,  7,  3,  5,  4,  0,  1,\n",
       "        14,  6,  8,  7,  7,  2,  0, 14,  3,  8,  2,  8,  6, 15, 17, 10,  0,\n",
       "         5,  2,  0,  7,  0,  8,  7, 19, 12,  8,  5,  7,  8,  5,  8,  2,  5,\n",
       "         5,  9, 12,  0,  3,  3, 16,  0,  0,  6, 15,  8,  3,  6, 20,  8,  1,\n",
       "         2,  9,  0,  3, 13,  0,  5,  7,  6,  8,  5,  3,  0,  4,  3,  0,  2,\n",
       "         2,  8,  7,  8,  3,  7,  1,  3,  8,  1, 15,  3, 11, 15, 15, 15,  2,\n",
       "         8,  2, 16,  8,  5,  3, 16,  7,  8, 10,  7, 15,  1,  3,  8]),\n",
       " Index(['Engineering', 'Computer Engineering', 'Education', 'Forensic Science',\n",
       "        'Environmental Science', 'History', 'Chemistry', 'Bioinformatics',\n",
       "        'Environmental Policy', 'Biochemistry', 'Exercise Science',\n",
       "        'Biomedical Engineering', 'Journalism', 'Physics', 'Biology',\n",
       "        'Sports Management', 'Biophysics', 'Dance', 'Political Science',\n",
       "        'Computer Science', 'Environmental Engineering'],\n",
       "       dtype='object'))"
      ]
     },
     "execution_count": 135,
     "metadata": {},
     "output_type": "execute_result"
    }
   ],
   "source": [
    "y_factorized"
   ]
  },
  {
   "cell_type": "code",
   "execution_count": null,
   "metadata": {},
   "outputs": [],
   "source": []
  }
 ],
 "metadata": {
  "kernelspec": {
   "display_name": "Python 3.7.11 ('DataScience')",
   "language": "python",
   "name": "python3"
  },
  "language_info": {
   "codemirror_mode": {
    "name": "ipython",
    "version": 3
   },
   "file_extension": ".py",
   "mimetype": "text/x-python",
   "name": "python",
   "nbconvert_exporter": "python",
   "pygments_lexer": "ipython3",
   "version": "3.7.11"
  },
  "orig_nbformat": 4,
  "vscode": {
   "interpreter": {
    "hash": "f004737b7064194434162a9b4bd069e05f5ef5efca4b4ffdb3de9d46fb212381"
   }
  }
 },
 "nbformat": 4,
 "nbformat_minor": 2
}
