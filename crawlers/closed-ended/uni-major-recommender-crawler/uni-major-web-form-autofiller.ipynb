{
 "cells": [
  {
   "cell_type": "markdown",
   "metadata": {},
   "source": [
    "Web Form Autofiller for University Major Recommendation (Type 1)\n",
    "---\n",
    "\n",
    "**Overall logic**\n",
    "1. We use a web crawler to automatically fill in an online questionnaire based on the student's responses to a series of personality and academic related questions. During the autofill process, we record the crawler's selected fields and the generated major recommendation output. We repeat this process many times to collect our own dataset.\n",
    "2. Using our collected dataset, we train our own major recommendation model."
   ]
  },
  {
   "cell_type": "code",
   "execution_count": 3,
   "metadata": {},
   "outputs": [],
   "source": [
    "import numpy as np\n",
    "import pandas as pd\n",
    "import matplotlib.pyplot as plt"
   ]
  },
  {
   "cell_type": "markdown",
   "metadata": {},
   "source": [
    "# 1. Autofiller of Online Questionnaire\n",
    "**Online questionnaire source(s)**\n",
    "\n",
    "[\"What's My Major Quiz\" by Loyola University Chicago](https://www.luc.edu/undergrad/academiclife/whatsmymajorquiz/#)\n",
    "- 40 yes/no short questions - $2^{40}$ possible combinations\n",
    "- Recommends multiple majors"
   ]
  },
  {
   "cell_type": "markdown",
   "metadata": {},
   "source": [
    "## Setup"
   ]
  },
  {
   "cell_type": "code",
   "execution_count": 10,
   "metadata": {},
   "outputs": [],
   "source": [
    "# import selenium related packages\n",
    "from time import sleep\n",
    "from selenium import webdriver\n",
    "from selenium.webdriver.chrome.options import Options"
   ]
  },
  {
   "cell_type": "code",
   "execution_count": 11,
   "metadata": {},
   "outputs": [],
   "source": [
    "# define webdriver paths\n",
    "CHROME_DRIVER_PATH = './drivers/chromedriver'"
   ]
  },
  {
   "cell_type": "code",
   "execution_count": 12,
   "metadata": {},
   "outputs": [],
   "source": [
    "# define urls to be crawled\n",
    "LUC_QUIZ_URL = 'https://www.luc.edu/undergrad/academiclife/whatsmymajorquiz/#'"
   ]
  },
  {
   "cell_type": "markdown",
   "metadata": {},
   "source": [
    "## Helper functions"
   ]
  },
  {
   "cell_type": "code",
   "execution_count": 13,
   "metadata": {},
   "outputs": [],
   "source": [
    "# helper function\n",
    "# launch chrome browser (headless)\n",
    "# return: BROWSER type\n",
    "def launch_chrome_browser(CHROME_DRIVER_PATH):\n",
    "    CHROME_OPTIONS = Options()\n",
    "    CHROME_OPTIONS.add_argument('--headless')\n",
    "    browser = webdriver.Chrome(CHROME_DRIVER_PATH, options=CHROME_OPTIONS)\n",
    "    return browser"
   ]
  },
  {
   "cell_type": "code",
   "execution_count": 14,
   "metadata": {},
   "outputs": [],
   "source": [
    "# helper function\n",
    "# click yes/no 40 times on the online questionnaire to reach the final recommendation\n",
    "import random\n",
    "\n",
    "def luc_click(browser, chosen_option):\n",
    "    # click the radio button\n",
    "    btn = browser.find_element_by_id(chosen_option) # locate the radio button\n",
    "    btn.click() # click the radio button on the webpage"
   ]
  },
  {
   "cell_type": "code",
   "execution_count": 15,
   "metadata": {},
   "outputs": [],
   "source": [
    "# helper function\n",
    "# click 40 times and store every 'yes' or 'no' into the dataframe\n",
    "def luc_generate_options(browser):\n",
    "    options = ['yes', 'no']\n",
    "    chosen_options = random.choices(options, k=40)\n",
    "    return chosen_options"
   ]
  },
  {
   "cell_type": "code",
   "execution_count": 16,
   "metadata": {},
   "outputs": [],
   "source": [
    "# helper function\n",
    "# get all 40 questions and store them in a dataframe first\n",
    "# return: DATAFRAME\n",
    "def luc_get_all_questions(browser):\n",
    "    questions = []\n",
    "    chosen_options = luc_generate_options(browser)\n",
    "    for chosen_option in chosen_options:\n",
    "        q = browser.find_element_by_xpath(\"//div[contains(@class, 'question')]\").text\n",
    "        questions.append(q)\n",
    "\n",
    "        luc_click(browser, chosen_option)\n",
    "        sleep(1.5)\n",
    "    df_questions = pd.DataFrame(questions, columns=['Question']).set_index('Question')\n",
    "    df_questions = df_questions.transpose()\n",
    "    return df_questions"
   ]
  },
  {
   "cell_type": "code",
   "execution_count": 17,
   "metadata": {},
   "outputs": [],
   "source": [
    "# helper function\n",
    "# get final major suggestions\n",
    "# return: LIST\n",
    "def luc_get_major_suggestions(browser):\n",
    "    suggestions = browser.find_elements_by_xpath(\"//li[contains(@class, 'selected-6') or contains(@class, 'selected-5') or contains(@class, 'selected-4') or contains(@class, 'selected-3')]//a\")\n",
    "    return suggestions"
   ]
  },
  {
   "cell_type": "code",
   "execution_count": 18,
   "metadata": {},
   "outputs": [],
   "source": [
    "# helper function\n",
    "# get rows of training data\n",
    "# 40 columns of yes/no + 1 last coloumn of major recommendation\n",
    "# return: DATAFRAME\n",
    "def luc_append_training_row(browser):\n",
    "    chosen_options = luc_generate_options(browser)\n",
    "\n",
    "    # click 40 times\n",
    "    for chosen_option in chosen_options:\n",
    "        luc_click(browser, chosen_option)\n",
    "        sleep(1.2)\n",
    "    \n",
    "    # get the list of major suggestions\n",
    "    suggestions = luc_get_major_suggestions(browser)\n",
    "\n",
    "    # create a separate row for each of the suggestions\n",
    "    df = pd.DataFrame()\n",
    "    for suggestion in suggestions:\n",
    "        row = pd.DataFrame([chosen_options + [suggestion.text]])\n",
    "        df = df.append(row)\n",
    "    \n",
    "    return df"
   ]
  },
  {
   "cell_type": "code",
   "execution_count": 19,
   "metadata": {},
   "outputs": [],
   "source": [
    "# helper function\n",
    "# click 'START OVER'\n",
    "def luc_start_over(browser):\n",
    "    btn = browser.find_element_by_xpath(\"//a[@id='reset']\")\n",
    "    btn.click()"
   ]
  },
  {
   "cell_type": "code",
   "execution_count": 37,
   "metadata": {},
   "outputs": [],
   "source": [
    "# helper function\n",
    "# define the logic within k rounds of filling the form\n",
    "# return: DATAFRAME\n",
    "def luc_generate_trials(browser, k):\n",
    "    df = pd.DataFrame()\n",
    "    for i in range(k):\n",
    "        random.seed(i+200)\n",
    "        df_temp = luc_append_training_row(browser)\n",
    "        df = df.append(df_temp)\n",
    "        luc_start_over(browser)\n",
    "    return df"
   ]
  },
  {
   "cell_type": "markdown",
   "metadata": {},
   "source": [
    "## Generate actual data from autofilling"
   ]
  },
  {
   "cell_type": "markdown",
   "metadata": {},
   "source": [
    "**Get all 40 questions** (only need to run once)"
   ]
  },
  {
   "cell_type": "code",
   "execution_count": 21,
   "metadata": {},
   "outputs": [],
   "source": [
    "# launch chrome browser\n",
    "browser = launch_chrome_browser(CHROME_DRIVER_PATH)\n",
    "\n",
    "# launch browser\n",
    "browser.get(LUC_QUIZ_URL)\n",
    "sleep(2)\n",
    "\n",
    "# get all 40 questions and store them in a dataframe df\n",
    "df_luc_questions = luc_get_all_questions(browser)\n",
    "\n",
    "# close the browser\n",
    "browser.close()"
   ]
  },
  {
   "cell_type": "code",
   "execution_count": 23,
   "metadata": {},
   "outputs": [],
   "source": [
    "# save questions list as csv\n",
    "df_luc_questions.to_csv('df_luc_questions.csv')"
   ]
  },
  {
   "cell_type": "markdown",
   "metadata": {},
   "source": [
    "**Generate data**"
   ]
  },
  {
   "cell_type": "code",
   "execution_count": 38,
   "metadata": {},
   "outputs": [],
   "source": [
    "# launch chrome browser\n",
    "browser = launch_chrome_browser(CHROME_DRIVER_PATH)\n",
    "\n",
    "# launch browser\n",
    "browser.get(LUC_QUIZ_URL)\n",
    "sleep(2)\n",
    "\n",
    "# generate the data for 200 rounds of autofilling\n",
    "df_luc = luc_generate_trials(browser, 600)\n",
    "\n",
    "# close the browser\n",
    "browser.close()"
   ]
  },
  {
   "cell_type": "code",
   "execution_count": 223,
   "metadata": {},
   "outputs": [],
   "source": [
    "# save the csv\n",
    "df_luc.to_csv('datasets/df_luc.csv')"
   ]
  },
  {
   "cell_type": "markdown",
   "metadata": {},
   "source": [
    "# 2. Training using generated data"
   ]
  },
  {
   "cell_type": "code",
   "execution_count": 9,
   "metadata": {},
   "outputs": [],
   "source": [
    "# read data\n",
    "df_luc = pd.read_csv('datasets/df_luc.csv', index_col=0)"
   ]
  },
  {
   "cell_type": "code",
   "execution_count": 77,
   "metadata": {},
   "outputs": [],
   "source": [
    "df_luc_questions = df_luc_questions.transpose().reset_index()"
   ]
  },
  {
   "cell_type": "code",
   "execution_count": 118,
   "metadata": {},
   "outputs": [],
   "source": [
    "df_luc_questions\n",
    "df = df_luc.drop_duplicates(subset=df_luc.columns.difference(['40']))"
   ]
  },
  {
   "cell_type": "code",
   "execution_count": 119,
   "metadata": {},
   "outputs": [],
   "source": [
    "X = df.iloc[:, :40].eq('yes').mul(1)\n",
    "y_factorized = pd.factorize(df.iloc[:, 40])\n",
    "y = y_factorized[0]"
   ]
  },
  {
   "cell_type": "code",
   "execution_count": 120,
   "metadata": {},
   "outputs": [],
   "source": [
    "from sklearn.model_selection import train_test_split\n",
    "X_train, X_test, y_train, y_test = train_test_split(X, y, test_size=0.2, random_state=7600, shuffle=True)"
   ]
  },
  {
   "cell_type": "code",
   "execution_count": 130,
   "metadata": {},
   "outputs": [
    {
     "data": {
      "text/plain": [
       "0.06875"
      ]
     },
     "execution_count": 130,
     "metadata": {},
     "output_type": "execute_result"
    }
   ],
   "source": [
    "from sklearn.tree import DecisionTreeClassifier\n",
    "clf_dt = DecisionTreeClassifier(random_state=7600)\n",
    "clf_dt.fit(X_train, y_train)\n",
    "clf_dt.score(X_test, y_test)"
   ]
  },
  {
   "cell_type": "code",
   "execution_count": 129,
   "metadata": {},
   "outputs": [
    {
     "data": {
      "text/plain": [
       "0.18125"
      ]
     },
     "execution_count": 129,
     "metadata": {},
     "output_type": "execute_result"
    }
   ],
   "source": [
    "from sklearn.naive_bayes import GaussianNB\n",
    "clf_gnb = GaussianNB()\n",
    "clf_gnb.fit(X_train, y_train)\n",
    "clf_gnb.score(X_test, y_test)"
   ]
  },
  {
   "cell_type": "code",
   "execution_count": 131,
   "metadata": {},
   "outputs": [
    {
     "data": {
      "text/plain": [
       "0.14375"
      ]
     },
     "execution_count": 131,
     "metadata": {},
     "output_type": "execute_result"
    }
   ],
   "source": [
    "from sklearn.svm import SVC\n",
    "clf_svc = SVC(random_state=8017)\n",
    "clf_svc.fit(X_train, y_train)\n",
    "clf_svc.score(X_test, y_test)"
   ]
  },
  {
   "cell_type": "code",
   "execution_count": 132,
   "metadata": {},
   "outputs": [
    {
     "name": "stderr",
     "output_type": "stream",
     "text": [
      "/Users/jackietsoi/opt/anaconda3/envs/DataScience/lib/python3.7/site-packages/sklearn/linear_model/_logistic.py:818: ConvergenceWarning: lbfgs failed to converge (status=1):\n",
      "STOP: TOTAL NO. of ITERATIONS REACHED LIMIT.\n",
      "\n",
      "Increase the number of iterations (max_iter) or scale the data as shown in:\n",
      "    https://scikit-learn.org/stable/modules/preprocessing.html\n",
      "Please also refer to the documentation for alternative solver options:\n",
      "    https://scikit-learn.org/stable/modules/linear_model.html#logistic-regression\n",
      "  extra_warning_msg=_LOGISTIC_SOLVER_CONVERGENCE_MSG,\n"
     ]
    },
    {
     "data": {
      "text/plain": [
       "0.11875"
      ]
     },
     "execution_count": 132,
     "metadata": {},
     "output_type": "execute_result"
    }
   ],
   "source": [
    "from sklearn.linear_model import LogisticRegression\n",
    "clf_logistic = LogisticRegression(random_state=8017)\n",
    "clf_logistic.fit(X_train, y_train)\n",
    "clf_logistic.score(X_test, y_test)"
   ]
  },
  {
   "cell_type": "code",
   "execution_count": null,
   "metadata": {},
   "outputs": [],
   "source": []
  }
 ],
 "metadata": {
  "kernelspec": {
   "display_name": "Python 3.7.11 ('DataScience')",
   "language": "python",
   "name": "python3"
  },
  "language_info": {
   "codemirror_mode": {
    "name": "ipython",
    "version": 3
   },
   "file_extension": ".py",
   "mimetype": "text/x-python",
   "name": "python",
   "nbconvert_exporter": "python",
   "pygments_lexer": "ipython3",
   "version": "3.7.11"
  },
  "orig_nbformat": 4,
  "vscode": {
   "interpreter": {
    "hash": "f004737b7064194434162a9b4bd069e05f5ef5efca4b4ffdb3de9d46fb212381"
   }
  }
 },
 "nbformat": 4,
 "nbformat_minor": 2
}
