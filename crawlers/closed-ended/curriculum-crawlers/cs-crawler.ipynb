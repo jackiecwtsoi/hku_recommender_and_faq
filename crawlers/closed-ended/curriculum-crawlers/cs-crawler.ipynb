{
 "cells": [
  {
   "cell_type": "markdown",
   "metadata": {},
   "source": [
    "Crawler for Department of Computer Science (Type 3)\n",
    "---"
   ]
  },
  {
   "cell_type": "code",
   "execution_count": 1,
   "metadata": {},
   "outputs": [],
   "source": [
    "import numpy as np\n",
    "import pandas as pd\n",
    "import matplotlib.pyplot as plt"
   ]
  },
  {
   "cell_type": "markdown",
   "metadata": {},
   "source": [
    "# 1. Metadata of CS Courses for an Academic Year\n",
    "- All courses offered in 2022-23 are listed in HTML table format\n",
    "- We use BeautifulSoup for the crawler\n",
    "\n",
    "We crawl the following fields:\n",
    "1. Year\n",
    "2. Type (Core/Elective)\n",
    "3. Course Code\n",
    "4. Course Title\n",
    "5. Term\n",
    "6. Staff (can have multiple names)\n",
    "7. Moodle link\n",
    "8. Course description link\n",
    "9. Staff link"
   ]
  },
  {
   "cell_type": "code",
   "execution_count": 2,
   "metadata": {},
   "outputs": [],
   "source": [
    "from bs4 import BeautifulSoup\n",
    "from time import sleep\n",
    "import requests"
   ]
  },
  {
   "cell_type": "markdown",
   "metadata": {},
   "source": [
    "**[Helper Function] Retrieve HTML of the metatable**"
   ]
  },
  {
   "cell_type": "code",
   "execution_count": 3,
   "metadata": {},
   "outputs": [],
   "source": [
    "def get_meta_table_html(academic_year):\n",
    "    # define url to crawl based on academic year\n",
    "    META_URL = 'https://www.cs.hku.hk/index.php/programmes/course-offered?acadYear=' + academic_year\n",
    "\n",
    "    # set up beautiful soup configurations\n",
    "    meta_page = requests.get(META_URL)\n",
    "    meta_soup = BeautifulSoup(meta_page.text, 'html.parser')\n",
    "\n",
    "    # get the second table on the page (which is the one we want to crawl)\n",
    "    meta_tables = meta_soup.find_all('table')[1]\n",
    "\n",
    "    return meta_tables"
   ]
  },
  {
   "cell_type": "markdown",
   "metadata": {},
   "source": [
    "**[Function] Retrieve metatable dataframe of all courses offered in an academic year**"
   ]
  },
  {
   "cell_type": "code",
   "execution_count": 4,
   "metadata": {},
   "outputs": [],
   "source": [
    "def get_meta_df(academic_year):\n",
    "    # call helper function to get metatable HTML\n",
    "    meta_table = get_meta_table_html(academic_year)\n",
    "\n",
    "    # get all the rows in this table\n",
    "    meta_trs = meta_table.find_all('tr')\n",
    "\n",
    "    # get data in each row\n",
    "    rows = []\n",
    "    for tr in meta_trs:\n",
    "        row = []\n",
    "        for td in tr:\n",
    "            try: \n",
    "                if td.text != '\\n':\n",
    "                    row.append(td.text)\n",
    "                    link = td.find('a').get('href')\n",
    "                    if link != None:\n",
    "                        row.append(link)\n",
    "            except: \n",
    "                continue\n",
    "        \n",
    "        # only append the row if there are 4 fields\n",
    "        if len(row) > 4: rows.append(row)\n",
    "\n",
    "    # define column names\n",
    "    col_names = ['Course Code', 'Moodle Link', 'Course Title', 'Course Link', 'Term', 'Staff', 'Staff Link']\n",
    "    \n",
    "    # convert matrix into a dataframe\n",
    "    df_meta = pd.DataFrame(rows, columns=col_names)\n",
    "\n",
    "    # TODO: should we drop staff link or no?\n",
    "    # drop the staff link\n",
    "    df_meta.drop(columns=['Staff Link'], inplace=True)\n",
    "\n",
    "    df_meta.insert(0, 'Academic Year', [academic_year]*len(df_meta))\n",
    "    \n",
    "    return df_meta"
   ]
  },
  {
   "cell_type": "code",
   "execution_count": 5,
   "metadata": {},
   "outputs": [],
   "source": [
    "df_meta = get_meta_df('2022')"
   ]
  },
  {
   "cell_type": "code",
   "execution_count": 28,
   "metadata": {},
   "outputs": [],
   "source": [
    "# save the meta dataset\n",
    "df_meta.to_csv('data/df_cs_courses_pre.csv')"
   ]
  },
  {
   "cell_type": "markdown",
   "metadata": {},
   "source": [
    "**Generate an extension dataset that contains course and staff member (can be multiple)**"
   ]
  },
  {
   "cell_type": "code",
   "execution_count": 6,
   "metadata": {},
   "outputs": [],
   "source": [
    "df_courses_and_professors = df_meta[['Course Code', 'Course Title', 'Term', 'Staff']]"
   ]
  },
  {
   "cell_type": "code",
   "execution_count": 7,
   "metadata": {},
   "outputs": [
    {
     "name": "stderr",
     "output_type": "stream",
     "text": [
      "c:\\Users\\Kackie\\anaconda3\\envs\\DataScience\\lib\\site-packages\\ipykernel_launcher.py:2: SettingWithCopyWarning: \n",
      "A value is trying to be set on a copy of a slice from a DataFrame.\n",
      "Try using .loc[row_indexer,col_indexer] = value instead\n",
      "\n",
      "See the caveats in the documentation: https://pandas.pydata.org/pandas-docs/stable/user_guide/indexing.html#returning-a-view-versus-a-copy\n",
      "  \n"
     ]
    }
   ],
   "source": [
    "# split the 'Staff' column into multiple rows if there are more than 1 staff for that course\n",
    "df_courses_and_professors['Staff'] = df_courses_and_professors['Staff'].apply(lambda x: x.strip().replace('\\n\\n', '\\n').split('\\n'))\n",
    "df_courses_and_professors = df_courses_and_professors.explode('Staff')"
   ]
  },
  {
   "cell_type": "code",
   "execution_count": 8,
   "metadata": {},
   "outputs": [
    {
     "data": {
      "text/html": [
       "<div>\n",
       "<style scoped>\n",
       "    .dataframe tbody tr th:only-of-type {\n",
       "        vertical-align: middle;\n",
       "    }\n",
       "\n",
       "    .dataframe tbody tr th {\n",
       "        vertical-align: top;\n",
       "    }\n",
       "\n",
       "    .dataframe thead th {\n",
       "        text-align: right;\n",
       "    }\n",
       "</style>\n",
       "<table border=\"1\" class=\"dataframe\">\n",
       "  <thead>\n",
       "    <tr style=\"text-align: right;\">\n",
       "      <th></th>\n",
       "      <th>Course Code</th>\n",
       "      <th>Course Title</th>\n",
       "      <th>Term</th>\n",
       "      <th>Staff</th>\n",
       "    </tr>\n",
       "  </thead>\n",
       "  <tbody>\n",
       "    <tr>\n",
       "      <th>0</th>\n",
       "      <td>COMP1117A</td>\n",
       "      <td>Computer Programming (ActSc, AppAI, DA, IS, Mi...</td>\n",
       "      <td>1</td>\n",
       "      <td>Chim T W</td>\n",
       "    </tr>\n",
       "    <tr>\n",
       "      <th>1</th>\n",
       "      <td>COMP1117A</td>\n",
       "      <td>Computer Programming (ActSc, AppAI, DA, IS, Mi...</td>\n",
       "      <td>1</td>\n",
       "      <td>Ting HF</td>\n",
       "    </tr>\n",
       "    <tr>\n",
       "      <th>2</th>\n",
       "      <td>COMP1117B</td>\n",
       "      <td>Computer Programming (Quant Fin, DA, Minor, 2n...</td>\n",
       "      <td>2</td>\n",
       "      <td>Choi Loretta</td>\n",
       "    </tr>\n",
       "    <tr>\n",
       "      <th>3</th>\n",
       "      <td>COMP1117B</td>\n",
       "      <td>Computer Programming (Quant Fin, DA, Minor, 2n...</td>\n",
       "      <td>2</td>\n",
       "      <td>Ting HF</td>\n",
       "    </tr>\n",
       "    <tr>\n",
       "      <th>4</th>\n",
       "      <td>ENGG1330A</td>\n",
       "      <td>Computer Programming I (A1 - M2)</td>\n",
       "      <td>1</td>\n",
       "      <td>Schnieders Dirk</td>\n",
       "    </tr>\n",
       "    <tr>\n",
       "      <th>...</th>\n",
       "      <td>...</td>\n",
       "      <td>...</td>\n",
       "      <td>...</td>\n",
       "      <td>...</td>\n",
       "    </tr>\n",
       "    <tr>\n",
       "      <th>82</th>\n",
       "      <td>COMP3516</td>\n",
       "      <td>Data Analytics for IoT</td>\n",
       "      <td>2</td>\n",
       "      <td>Wu Chenshu</td>\n",
       "    </tr>\n",
       "    <tr>\n",
       "      <th>83</th>\n",
       "      <td>FITE3010</td>\n",
       "      <td>Big Data and Data Mining</td>\n",
       "      <td>2</td>\n",
       "      <td>Liu Qi</td>\n",
       "    </tr>\n",
       "    <tr>\n",
       "      <th>84</th>\n",
       "      <td>FITE3012</td>\n",
       "      <td>E-payment and Crypto-currency</td>\n",
       "      <td>1</td>\n",
       "      <td>Au Allen</td>\n",
       "    </tr>\n",
       "    <tr>\n",
       "      <th>85</th>\n",
       "      <td>COMP7310</td>\n",
       "      <td>Artificial intelligence of things</td>\n",
       "      <td>1</td>\n",
       "      <td>Wu Chenshu</td>\n",
       "    </tr>\n",
       "    <tr>\n",
       "      <th>86</th>\n",
       "      <td>COMP7607</td>\n",
       "      <td>Natural language processing</td>\n",
       "      <td>1</td>\n",
       "      <td>Kong Lingpeng</td>\n",
       "    </tr>\n",
       "  </tbody>\n",
       "</table>\n",
       "<p>87 rows × 4 columns</p>\n",
       "</div>"
      ],
      "text/plain": [
       "   Course Code                                       Course Title Term  \\\n",
       "0    COMP1117A  Computer Programming (ActSc, AppAI, DA, IS, Mi...    1   \n",
       "1    COMP1117A  Computer Programming (ActSc, AppAI, DA, IS, Mi...    1   \n",
       "2    COMP1117B  Computer Programming (Quant Fin, DA, Minor, 2n...    2   \n",
       "3    COMP1117B  Computer Programming (Quant Fin, DA, Minor, 2n...    2   \n",
       "4    ENGG1330A                   Computer Programming I (A1 - M2)    1   \n",
       "..         ...                                                ...  ...   \n",
       "82    COMP3516                             Data Analytics for IoT    2   \n",
       "83    FITE3010                           Big Data and Data Mining    2   \n",
       "84    FITE3012                      E-payment and Crypto-currency    1   \n",
       "85    COMP7310                  Artificial intelligence of things    1   \n",
       "86    COMP7607                        Natural language processing    1   \n",
       "\n",
       "              Staff  \n",
       "0          Chim T W  \n",
       "1           Ting HF  \n",
       "2      Choi Loretta  \n",
       "3           Ting HF  \n",
       "4   Schnieders Dirk  \n",
       "..              ...  \n",
       "82       Wu Chenshu  \n",
       "83           Liu Qi  \n",
       "84         Au Allen  \n",
       "85       Wu Chenshu  \n",
       "86    Kong Lingpeng  \n",
       "\n",
       "[87 rows x 4 columns]"
      ]
     },
     "execution_count": 8,
     "metadata": {},
     "output_type": "execute_result"
    }
   ],
   "source": [
    "df_courses_and_professors = df_courses_and_professors.reset_index(drop=True)\n",
    "df_courses_and_professors"
   ]
  },
  {
   "cell_type": "code",
   "execution_count": 40,
   "metadata": {},
   "outputs": [],
   "source": [
    "# save the dataset to csv\n",
    "df_courses_and_professors.to_csv('data/df_cs_courses_and_professors.csv')"
   ]
  },
  {
   "cell_type": "markdown",
   "metadata": {},
   "source": [
    "# 2. Detailed Course Info Page"
   ]
  },
  {
   "cell_type": "code",
   "execution_count": 9,
   "metadata": {},
   "outputs": [],
   "source": [
    "# helper function to generate section table based on info type from the HTML\n",
    "def get_section_table(COURSE_URL, info_type):\n",
    "    # first retrieve all table HTMLs on the course info page\n",
    "    course_page = requests.get(COURSE_URL)\n",
    "    course_soup = BeautifulSoup(course_page.text, 'html.parser')\n",
    "\n",
    "    # first find the two big section tables\n",
    "    section_tables = course_soup.find_all('table', {'border': '1', 'width': '99%'})\n",
    "\n",
    "    if info_type == 'basic': section_table = section_tables[0]\n",
    "    else: section_table = section_tables[1]\n",
    "\n",
    "    return section_table"
   ]
  },
  {
   "cell_type": "markdown",
   "metadata": {},
   "source": [
    "## 2.1 Basic course information\n",
    "1. Course name\n",
    "2. Instructor(s)\n",
    "3. Number of credits\n",
    "4. Recommended learning hours (?)\n",
    "5. Pre-requisite(s)\n",
    "6. Co-requisite(s)\n",
    "7. Mutually exclusive with: ENGG1111 or ENGG1330\n",
    "8. Remarks\n",
    "9. Moodle course link"
   ]
  },
  {
   "cell_type": "code",
   "execution_count": 10,
   "metadata": {},
   "outputs": [],
   "source": [
    "# retrieve the basic info of a specific course page\n",
    "# return: DATAFRAME\n",
    "\n",
    "def get_specific_course_basic_info(COURSE_URL):\n",
    "    # get section table based on the info_type (in this case is 'basic')\n",
    "    section_table = get_section_table(COURSE_URL, 'basic')\n",
    "\n",
    "    trs = section_table.find_all('tr')\n",
    "    col_names = []\n",
    "    rows = []\n",
    "    for i, tr in enumerate(trs):\n",
    "        row = []\n",
    "        for td in tr:\n",
    "            try: \n",
    "                if td.text != '\\n':\n",
    "                    row.append(td.text.strip('\\n'))\n",
    "            except: continue\n",
    "\n",
    "        if i != 3: # TODO: needs BUG FIX - make this dynamic!!!\n",
    "            if i == 0:\n",
    "                col_names.append('Academic Year')\n",
    "                rows.append(row[0].split('-')[0]) # TODO: to delete later\n",
    "            elif i == 1:\n",
    "                col_names.append(row[3].strip(':\\n'))\n",
    "                rows.append(row[4])\n",
    "                # TODO: add instructor info\n",
    "            elif i > 3:\n",
    "                col_names.append(row[0].strip(' :\\n'))\n",
    "                rows.append(row[1].strip(' \\n').replace('\\xa0', ''))\n",
    "    \n",
    "    df_course = pd.DataFrame(rows).transpose()\n",
    "    df_course.columns = col_names\n",
    "    \n",
    "    return df_course"
   ]
  },
  {
   "cell_type": "code",
   "execution_count": null,
   "metadata": {},
   "outputs": [],
   "source": []
  },
  {
   "cell_type": "code",
   "execution_count": 11,
   "metadata": {},
   "outputs": [
    {
     "data": {
      "text/html": [
       "<div>\n",
       "<style scoped>\n",
       "    .dataframe tbody tr th:only-of-type {\n",
       "        vertical-align: middle;\n",
       "    }\n",
       "\n",
       "    .dataframe tbody tr th {\n",
       "        vertical-align: top;\n",
       "    }\n",
       "\n",
       "    .dataframe thead th {\n",
       "        text-align: right;\n",
       "    }\n",
       "</style>\n",
       "<table border=\"1\" class=\"dataframe\">\n",
       "  <thead>\n",
       "    <tr style=\"text-align: right;\">\n",
       "      <th></th>\n",
       "      <th>Academic Year</th>\n",
       "      <th>No. of credit(s)</th>\n",
       "      <th>Lecture</th>\n",
       "      <th>Tutorial</th>\n",
       "      <th>Pre-requisite(s)</th>\n",
       "      <th>Co-requisite(s)</th>\n",
       "      <th>Mutually exclusive with</th>\n",
       "      <th>Remarks</th>\n",
       "    </tr>\n",
       "  </thead>\n",
       "  <tbody>\n",
       "    <tr>\n",
       "      <th>0</th>\n",
       "      <td>2022</td>\n",
       "      <td>6</td>\n",
       "      <td>27.0</td>\n",
       "      <td>12.0</td>\n",
       "      <td>COMP1117 or ENGG1330</td>\n",
       "      <td></td>\n",
       "      <td>STAT1005 or STAT1015</td>\n",
       "      <td></td>\n",
       "    </tr>\n",
       "  </tbody>\n",
       "</table>\n",
       "</div>"
      ],
      "text/plain": [
       "  Academic Year No. of credit(s) Lecture Tutorial      Pre-requisite(s)  \\\n",
       "0          2022                6    27.0     12.0  COMP1117 or ENGG1330   \n",
       "\n",
       "  Co-requisite(s) Mutually exclusive with Remarks  \n",
       "0                    STAT1005 or STAT1015          "
      ]
     },
     "execution_count": 11,
     "metadata": {},
     "output_type": "execute_result"
    }
   ],
   "source": [
    "get_specific_course_basic_info('https://www.cs.hku.hk/index.php/programmes/course-offered?infile=2022/comp2501.html')"
   ]
  },
  {
   "cell_type": "markdown",
   "metadata": {},
   "source": [
    "## 2.2 Learning Objectives (table 2)\n",
    "1. List of objectives"
   ]
  },
  {
   "cell_type": "code",
   "execution_count": 12,
   "metadata": {},
   "outputs": [],
   "source": [
    "# retrieve the learning objectives of a specific course page\n",
    "# return: STRING\n",
    "def get_specific_course_learning_objectives(COURSE_URL):\n",
    "    import re\n",
    "    \n",
    "    # get section table based on the info_type (in this case is 'learning_objectives')\n",
    "    section_table = get_section_table(COURSE_URL, 'learning_objectives')\n",
    "\n",
    "    # since the learning objectives are in the first table under this section table, we only select the first table\n",
    "    lo_table = section_table.find('table')\n",
    "    trs = lo_table.find_all('tr')\n",
    "    \n",
    "    learning_objectives = []\n",
    "    for tr in trs:\n",
    "        cleaned_text = tr.text.strip().replace('\\n', ' ').replace('\\r', ' ')\n",
    "        cleaned_text = re.sub(r'.*\\[', '[', cleaned_text)\n",
    "        learning_objectives.append(cleaned_text)\n",
    "    \n",
    "    learning_objectives = '; '.join(learning_objectives)\n",
    "\n",
    "    return learning_objectives"
   ]
  },
  {
   "cell_type": "code",
   "execution_count": 13,
   "metadata": {},
   "outputs": [
    {
     "data": {
      "text/plain": [
       "'[Data Preparation and Manipulation] Able to demonstrate practical knowledge in data preparation and data manipulation.; [Data Analysis] Able to use appropriate modelling and analysis techniques for data science problems.; [Implementation] Able to implement practical solutions for data science problems.; [Visualization and Communication] Able to communicate data analysis results effectively.'"
      ]
     },
     "execution_count": 13,
     "metadata": {},
     "output_type": "execute_result"
    }
   ],
   "source": [
    "get_specific_course_learning_objectives('https://www.cs.hku.hk/index.php/programmes/course-offered?infile=2022/comp2501.html')"
   ]
  },
  {
   "cell_type": "code",
   "execution_count": null,
   "metadata": {},
   "outputs": [],
   "source": []
  },
  {
   "cell_type": "markdown",
   "metadata": {},
   "source": [
    "## 2.3 Syllabus\n",
    "1. Course description\n",
    "2. Detailed description (table form)\n",
    "3. Assessment"
   ]
  },
  {
   "cell_type": "code",
   "execution_count": 14,
   "metadata": {},
   "outputs": [],
   "source": [
    "# retrieve the course description of a specific course page\n",
    "# return: SINGLE STRING\n",
    "def get_specific_course_description(COURSE_URL):\n",
    "    # get section table based on the info_type (in this case is 'description')\n",
    "    section_table = get_section_table(COURSE_URL, 'description')\n",
    "\n",
    "    paragraphs = section_table.find_all('p')\n",
    "    for p in paragraphs:\n",
    "        try:\n",
    "            p_text = p.find('u').text\n",
    "        except: continue\n",
    "        \n",
    "        if p_text == 'Calendar Entry:': # get course description\n",
    "            course_description = p.text.replace('\\n', '').replace(p_text, '')\n",
    "    \n",
    "    return course_description"
   ]
  },
  {
   "cell_type": "code",
   "execution_count": 15,
   "metadata": {},
   "outputs": [
    {
     "data": {
      "text/plain": [
       "'This is an introductory course in computer programming. Students will acquire basic Python programming skills, including syntax, identifiers, control statements, functions, recursions, strings, lists, dictionaries, tuples and files. Searching and sorting algorithms, such as sequential search, binary search, bubble sort, insertion sort and selection sort, will also be covered. '"
      ]
     },
     "execution_count": 15,
     "metadata": {},
     "output_type": "execute_result"
    }
   ],
   "source": [
    "get_specific_course_description('https://www.cs.hku.hk/index.php/programmes/course-offered?infile=2022/comp1117.html')"
   ]
  },
  {
   "cell_type": "code",
   "execution_count": 16,
   "metadata": {},
   "outputs": [],
   "source": [
    "# retrieve the course assessment information of a specific course\n",
    "# return: TUPLE consisting of 2 LISTS\n",
    "def get_specific_course_assessment(COURSE_URL):\n",
    "    # get section table based on the info_type\n",
    "    section_table = get_section_table(COURSE_URL, 'assessment')\n",
    "\n",
    "    paragraphs = section_table.find_all('p')\n",
    "    for p in paragraphs:\n",
    "        try:\n",
    "            p_text = p.find('u').text\n",
    "        except: continue\n",
    "\n",
    "        if p_text == 'Assessment:': # get course assessment info\n",
    "            course_assessments = p.get_text(strip=True, separator='\\n').strip().split('\\n')\n",
    "        \n",
    "    # since the first element in the list is the heading, we remove it from the list\n",
    "    course_assessments.pop(0)\n",
    "\n",
    "    # break up the list into 2 lists: assessment_types and assessment_weightings\n",
    "    assessment_types = course_assessments[::2] # get even indices\n",
    "    assessment_types = list(map(lambda x: x.strip(':') + ' Weighting in final course grade (%)', assessment_types))\n",
    "\n",
    "    assessment_weightings = course_assessments[1::2] # get odd indices\n",
    "    assessment_weightings = list(map(lambda x: x.strip().strip('%'), assessment_weightings))\n",
    "    \n",
    "    return assessment_types, assessment_weightings"
   ]
  },
  {
   "cell_type": "code",
   "execution_count": 17,
   "metadata": {},
   "outputs": [
    {
     "data": {
      "text/plain": [
       "(['Continuous Assessment Weighting in final course grade (%)',\n",
       "  'Written Examination Weighting in final course grade (%)'],\n",
       " ['50', '50'])"
      ]
     },
     "execution_count": 17,
     "metadata": {},
     "output_type": "execute_result"
    }
   ],
   "source": [
    "get_specific_course_assessment('https://www.cs.hku.hk/index.php/programmes/course-offered?infile=2022/comp1117.html')"
   ]
  },
  {
   "cell_type": "code",
   "execution_count": null,
   "metadata": {},
   "outputs": [],
   "source": []
  },
  {
   "cell_type": "markdown",
   "metadata": {},
   "source": [
    "## 2.4 Aggregate Scraping Results"
   ]
  },
  {
   "cell_type": "code",
   "execution_count": 18,
   "metadata": {},
   "outputs": [],
   "source": [
    "# retrieve info from all course pages in a particular year \n",
    "# return: DATAFRAME\n",
    "def get_all_course_basic_info(academic_year):\n",
    "    df_meta = get_meta_df(academic_year)\n",
    "\n",
    "    course_urls = 'https://www.cs.hku.hk'+ df_meta['Course Link']\n",
    "\n",
    "    df_all_courses = pd.DataFrame()\n",
    "    for i, course_url in enumerate(course_urls):\n",
    "        row = get_specific_course_basic_info(course_url)\n",
    "        row['Course Code'] = df_meta['Course Code'][i]\n",
    "        row['Course Title'] = df_meta['Course Title'][i]\n",
    "        row['Course Description'] = get_specific_course_description(course_url)\n",
    "        row['Learning Outcomes'] = get_specific_course_learning_objectives(course_url)\n",
    "        assessment_types, assessment_weightings = get_specific_course_assessment(course_url)\n",
    "\n",
    "        for i, type in enumerate(assessment_types):\n",
    "            row[type] = assessment_weightings[i]\n",
    "\n",
    "        df_all_courses = df_all_courses.append(row)\n",
    "    \n",
    "    return df_all_courses\n",
    "    "
   ]
  },
  {
   "cell_type": "code",
   "execution_count": 19,
   "metadata": {},
   "outputs": [],
   "source": [
    "df_all_course_details = get_all_course_basic_info('2022')"
   ]
  },
  {
   "cell_type": "code",
   "execution_count": 20,
   "metadata": {},
   "outputs": [],
   "source": [
    "# save the dataset to csv\n",
    "df_all_course_details.reset_index(drop=True).to_csv('data/df_cs_all_course_details_prelim.csv')"
   ]
  },
  {
   "cell_type": "code",
   "execution_count": null,
   "metadata": {},
   "outputs": [],
   "source": []
  }
 ],
 "metadata": {
  "kernelspec": {
   "display_name": "Python 3.7.13 ('DataScience')",
   "language": "python",
   "name": "python3"
  },
  "language_info": {
   "codemirror_mode": {
    "name": "ipython",
    "version": 3
   },
   "file_extension": ".py",
   "mimetype": "text/x-python",
   "name": "python",
   "nbconvert_exporter": "python",
   "pygments_lexer": "ipython3",
   "version": "3.7.13"
  },
  "orig_nbformat": 4,
  "vscode": {
   "interpreter": {
    "hash": "32d60d92059b3e36b6bd9986edfc808c4ae526b74500509951e82855bb1b814d"
   }
  }
 },
 "nbformat": 4,
 "nbformat_minor": 2
}
