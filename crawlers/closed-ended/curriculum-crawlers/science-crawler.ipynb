{
 "cells": [
  {
   "cell_type": "markdown",
   "metadata": {},
   "source": [
    "Crawler for Faculty of Science (Type 3)\n",
    "---"
   ]
  },
  {
   "cell_type": "markdown",
   "metadata": {},
   "source": [
    "# 1. Metatable containing all Faculty of Science courses\n",
    "We will be using Selenium to crawl the course data. This is because the target website is dynamic, so the crawler would have to click a few buttons before arriving at the page containing all the course information."
   ]
  },
  {
   "cell_type": "markdown",
   "metadata": {},
   "source": [
    "## Setup"
   ]
  },
  {
   "cell_type": "code",
   "execution_count": 1,
   "metadata": {},
   "outputs": [],
   "source": [
    "import numpy as np\n",
    "import pandas as pd\n",
    "import matplotlib.pyplot as plt"
   ]
  },
  {
   "cell_type": "code",
   "execution_count": 2,
   "metadata": {},
   "outputs": [],
   "source": [
    "# import selenium related packages\n",
    "from time import sleep\n",
    "from selenium import webdriver\n",
    "from selenium.webdriver.chrome.options import Options"
   ]
  },
  {
   "cell_type": "code",
   "execution_count": 3,
   "metadata": {},
   "outputs": [],
   "source": [
    "# define webdriver path\n",
    "CHROME_DRIVER_PATH = './drivers/chromedriver'"
   ]
  },
  {
   "cell_type": "code",
   "execution_count": 4,
   "metadata": {},
   "outputs": [],
   "source": [
    "# define url to be crawled\n",
    "URL = 'https://webapp.science.hku.hk/sr4/servlet/enquiry?frmid=MenuC'"
   ]
  },
  {
   "cell_type": "markdown",
   "metadata": {},
   "source": [
    "## Helper functions"
   ]
  },
  {
   "cell_type": "code",
   "execution_count": 5,
   "metadata": {},
   "outputs": [],
   "source": [
    "# helper function\n",
    "# launch chrome browser (headless)\n",
    "# return: BROWSER type\n",
    "def launch_chrome_browser(CHROME_DRIVER_PATH):\n",
    "    CHROME_OPTIONS = Options()\n",
    "    CHROME_OPTIONS.add_argument('--headless')\n",
    "    browser = webdriver.Chrome(CHROME_DRIVER_PATH, options=CHROME_OPTIONS)\n",
    "    return browser"
   ]
  },
  {
   "cell_type": "code",
   "execution_count": 6,
   "metadata": {},
   "outputs": [],
   "source": [
    "# helper function\n",
    "# click on 'Search' button\n",
    "def click_button(browser):\n",
    "    # click on 'Search' button to get to all course information\n",
    "    btn = browser.find_element_by_xpath(\"//input[contains(@name, 'Search')]\")\n",
    "    btn.click()"
   ]
  },
  {
   "cell_type": "code",
   "execution_count": 7,
   "metadata": {},
   "outputs": [],
   "source": [
    "# helper function\n",
    "# get information of all Faculty of Science courses\n",
    "# return DATAFRAME\n",
    "def get_courses(browser):\n",
    "    # get big table with all the course information\n",
    "    course_table = browser.find_element_by_xpath(\"//table[contains(@class, 'courseList')]\")\n",
    "\n",
    "    # get every row of the big table\n",
    "    rows = course_table.find_elements_by_xpath(\"//tr\")\n",
    "\n",
    "    # define the matrix\n",
    "    courses = []\n",
    "\n",
    "    # iterate through every row to generate the final dataframe\n",
    "    for row in rows:\n",
    "        cols = row.find_elements_by_tag_name('td')\n",
    "\n",
    "        # only append the course data for rows with 16 cols\n",
    "        if (len(cols) == 16):\n",
    "            info = []\n",
    "\n",
    "            for col in cols:\n",
    "                info.append(col.text)\n",
    "            courses.append(info)\n",
    "        \n",
    "        \n",
    "    df_courses = pd.DataFrame(\n",
    "        courses,\n",
    "        columns=[\n",
    "            'No.', 'Course Code', 'Title', 'Credit', 'Pre-requisite', 'Available in 2022-2023',\n",
    "            'Available in 2023-2024', 'Semester offered in 2022-2023', 'Exam held in 2022-2023', \n",
    "            'Quota', 'Course Coordinator', 'Disciplinary Core Course', 'Disciplinary Elective', \n",
    "            'Capstone - Disciplinary Core Course', 'Capstone - Disciplinary Elective', 'Teachers'\n",
    "        ]\n",
    "    )\n",
    "        \n",
    "    return df_courses"
   ]
  },
  {
   "cell_type": "code",
   "execution_count": null,
   "metadata": {},
   "outputs": [],
   "source": []
  },
  {
   "cell_type": "code",
   "execution_count": null,
   "metadata": {},
   "outputs": [],
   "source": []
  },
  {
   "cell_type": "markdown",
   "metadata": {},
   "source": [
    "## Generate actual course data using Selenium"
   ]
  },
  {
   "cell_type": "code",
   "execution_count": 8,
   "metadata": {},
   "outputs": [],
   "source": [
    "# launch chrome browser\n",
    "browser = launch_chrome_browser(CHROME_DRIVER_PATH)\n",
    "\n",
    "# launch website\n",
    "browser.get(URL)\n",
    "sleep(2)\n",
    "\n",
    "# click on 'Search' button to get to the page with all course information\n",
    "click_button(browser)\n",
    "\n",
    "# generate the dataframe containing all Faculty of Science courses\n",
    "df_courses = get_courses(browser)"
   ]
  },
  {
   "cell_type": "code",
   "execution_count": 21,
   "metadata": {},
   "outputs": [],
   "source": [
    "# save the dataframe to csv\n",
    "df_courses.to_csv('data/df_science_courses_pre.csv')"
   ]
  },
  {
   "cell_type": "markdown",
   "metadata": {},
   "source": [
    "But since each of these courses may have multiple professors, we also need to generate another dataframe with the course code and the professors. For each course, we may have multiple rows each containing a different professor. The primary key here is 'Course Code'."
   ]
  },
  {
   "cell_type": "code",
   "execution_count": 10,
   "metadata": {},
   "outputs": [
    {
     "data": {
      "text/html": [
       "<div>\n",
       "<style scoped>\n",
       "    .dataframe tbody tr th:only-of-type {\n",
       "        vertical-align: middle;\n",
       "    }\n",
       "\n",
       "    .dataframe tbody tr th {\n",
       "        vertical-align: top;\n",
       "    }\n",
       "\n",
       "    .dataframe thead th {\n",
       "        text-align: right;\n",
       "    }\n",
       "</style>\n",
       "<table border=\"1\" class=\"dataframe\">\n",
       "  <thead>\n",
       "    <tr style=\"text-align: right;\">\n",
       "      <th></th>\n",
       "      <th>No.</th>\n",
       "      <th>Course Code</th>\n",
       "      <th>Title</th>\n",
       "      <th>Teachers</th>\n",
       "    </tr>\n",
       "  </thead>\n",
       "  <tbody>\n",
       "    <tr>\n",
       "      <th>0</th>\n",
       "      <td>1</td>\n",
       "      <td>BIOC1600</td>\n",
       "      <td>Perspectives in biochemistry</td>\n",
       "      <td>(Dr B C W Wong,Biomedical Sciences)\\n(Dr B H B...</td>\n",
       "    </tr>\n",
       "    <tr>\n",
       "      <th>1</th>\n",
       "      <td>2</td>\n",
       "      <td>BIOC2600</td>\n",
       "      <td>Basic biochemistry</td>\n",
       "      <td>(Dr A S L Wong,Biomedical Sciences)\\n(Dr C M Q...</td>\n",
       "    </tr>\n",
       "    <tr>\n",
       "      <th>2</th>\n",
       "      <td>3</td>\n",
       "      <td>BIOC3601</td>\n",
       "      <td>Basic metabolism</td>\n",
       "      <td>(Dr B H B Yuen,Biomedical Sciences)\\n(Dr L W L...</td>\n",
       "    </tr>\n",
       "    <tr>\n",
       "      <th>3</th>\n",
       "      <td>4</td>\n",
       "      <td>BIOC3604</td>\n",
       "      <td>Essential techniques in biochemistry and molec...</td>\n",
       "      <td>(Dr R C C Chang,Biomedical Sciences)\\n(Dr B C ...</td>\n",
       "    </tr>\n",
       "    <tr>\n",
       "      <th>4</th>\n",
       "      <td>5</td>\n",
       "      <td>BIOC3605</td>\n",
       "      <td>Sequence bioinformatics</td>\n",
       "      <td>(Dr B C W Wong,Biomedical Sciences)\\n(Dr J W K...</td>\n",
       "    </tr>\n",
       "    <tr>\n",
       "      <th>...</th>\n",
       "      <td>...</td>\n",
       "      <td>...</td>\n",
       "      <td>...</td>\n",
       "      <td>...</td>\n",
       "    </tr>\n",
       "    <tr>\n",
       "      <th>346</th>\n",
       "      <td>347</td>\n",
       "      <td>CCST9051</td>\n",
       "      <td>What are We Made of - the Fundamental Nature o...</td>\n",
       "      <td></td>\n",
       "    </tr>\n",
       "    <tr>\n",
       "      <th>347</th>\n",
       "      <td>348</td>\n",
       "      <td>CCST9054</td>\n",
       "      <td>War, Peace, and the Natural World</td>\n",
       "      <td></td>\n",
       "    </tr>\n",
       "    <tr>\n",
       "      <th>348</th>\n",
       "      <td>349</td>\n",
       "      <td>CCST9056</td>\n",
       "      <td>The Force is with You: How Things Work</td>\n",
       "      <td></td>\n",
       "    </tr>\n",
       "    <tr>\n",
       "      <th>349</th>\n",
       "      <td>350</td>\n",
       "      <td>CCST9067</td>\n",
       "      <td>Leaving Earth: Our Future in Space</td>\n",
       "      <td></td>\n",
       "    </tr>\n",
       "    <tr>\n",
       "      <th>350</th>\n",
       "      <td>351</td>\n",
       "      <td>CCST9068</td>\n",
       "      <td>Artificial Intelligence: Utopia or Dystopia?</td>\n",
       "      <td></td>\n",
       "    </tr>\n",
       "  </tbody>\n",
       "</table>\n",
       "<p>351 rows × 4 columns</p>\n",
       "</div>"
      ],
      "text/plain": [
       "     No. Course Code                                              Title  \\\n",
       "0      1    BIOC1600                       Perspectives in biochemistry   \n",
       "1      2    BIOC2600                                 Basic biochemistry   \n",
       "2      3    BIOC3601                                   Basic metabolism   \n",
       "3      4    BIOC3604  Essential techniques in biochemistry and molec...   \n",
       "4      5    BIOC3605                            Sequence bioinformatics   \n",
       "..   ...         ...                                                ...   \n",
       "346  347    CCST9051  What are We Made of - the Fundamental Nature o...   \n",
       "347  348    CCST9054                  War, Peace, and the Natural World   \n",
       "348  349    CCST9056             The Force is with You: How Things Work   \n",
       "349  350    CCST9067                 Leaving Earth: Our Future in Space   \n",
       "350  351    CCST9068       Artificial Intelligence: Utopia or Dystopia?   \n",
       "\n",
       "                                              Teachers  \n",
       "0    (Dr B C W Wong,Biomedical Sciences)\\n(Dr B H B...  \n",
       "1    (Dr A S L Wong,Biomedical Sciences)\\n(Dr C M Q...  \n",
       "2    (Dr B H B Yuen,Biomedical Sciences)\\n(Dr L W L...  \n",
       "3    (Dr R C C Chang,Biomedical Sciences)\\n(Dr B C ...  \n",
       "4    (Dr B C W Wong,Biomedical Sciences)\\n(Dr J W K...  \n",
       "..                                                 ...  \n",
       "346                                                     \n",
       "347                                                     \n",
       "348                                                     \n",
       "349                                                     \n",
       "350                                                     \n",
       "\n",
       "[351 rows x 4 columns]"
      ]
     },
     "execution_count": 10,
     "metadata": {},
     "output_type": "execute_result"
    }
   ],
   "source": [
    "# create a subset\n",
    "df_courses_and_professors = df_courses[['No.', 'Course Code', 'Title', 'Teachers']]\n",
    "\n",
    "df_courses_and_professors"
   ]
  },
  {
   "cell_type": "code",
   "execution_count": 11,
   "metadata": {},
   "outputs": [
    {
     "name": "stderr",
     "output_type": "stream",
     "text": [
      "c:\\Users\\Kackie\\anaconda3\\envs\\DataScience\\lib\\site-packages\\ipykernel_launcher.py:2: SettingWithCopyWarning: \n",
      "A value is trying to be set on a copy of a slice from a DataFrame.\n",
      "Try using .loc[row_indexer,col_indexer] = value instead\n",
      "\n",
      "See the caveats in the documentation: https://pandas.pydata.org/pandas-docs/stable/user_guide/indexing.html#returning-a-view-versus-a-copy\n",
      "  \n"
     ]
    }
   ],
   "source": [
    "# convert the 'Teachers' column to a list instead of string\n",
    "df_courses_and_professors['Teachers'] = df_courses_and_professors['Teachers'].map(lambda x: x.split('\\n'))"
   ]
  },
  {
   "cell_type": "code",
   "execution_count": 12,
   "metadata": {},
   "outputs": [
    {
     "data": {
      "text/plain": [
       "0      [(Dr B C W Wong,Biomedical Sciences), (Dr B H ...\n",
       "1      [(Dr A S L Wong,Biomedical Sciences), (Dr C M ...\n",
       "2      [(Dr B H B Yuen,Biomedical Sciences), (Dr L W ...\n",
       "3      [(Dr R C C Chang,Biomedical Sciences), (Dr B C...\n",
       "4      [(Dr B C W Wong,Biomedical Sciences), (Dr J W ...\n",
       "                             ...                        \n",
       "346                                                   []\n",
       "347                                                   []\n",
       "348                                                   []\n",
       "349                                                   []\n",
       "350                                                   []\n",
       "Name: Teachers, Length: 351, dtype: object"
      ]
     },
     "execution_count": 12,
     "metadata": {},
     "output_type": "execute_result"
    }
   ],
   "source": [
    "df_courses_and_professors['Teachers']"
   ]
  },
  {
   "cell_type": "code",
   "execution_count": 13,
   "metadata": {},
   "outputs": [],
   "source": [
    "# use the explode() function to generate new row for any course with multiple teachers\n",
    "df_courses_and_professors = df_courses_and_professors.explode('Teachers')"
   ]
  },
  {
   "cell_type": "code",
   "execution_count": 14,
   "metadata": {},
   "outputs": [
    {
     "data": {
      "text/html": [
       "<div>\n",
       "<style scoped>\n",
       "    .dataframe tbody tr th:only-of-type {\n",
       "        vertical-align: middle;\n",
       "    }\n",
       "\n",
       "    .dataframe tbody tr th {\n",
       "        vertical-align: top;\n",
       "    }\n",
       "\n",
       "    .dataframe thead th {\n",
       "        text-align: right;\n",
       "    }\n",
       "</style>\n",
       "<table border=\"1\" class=\"dataframe\">\n",
       "  <thead>\n",
       "    <tr style=\"text-align: right;\">\n",
       "      <th></th>\n",
       "      <th>No.</th>\n",
       "      <th>Course Code</th>\n",
       "      <th>Title</th>\n",
       "      <th>Teachers</th>\n",
       "    </tr>\n",
       "  </thead>\n",
       "  <tbody>\n",
       "    <tr>\n",
       "      <th>0</th>\n",
       "      <td>1</td>\n",
       "      <td>BIOC1600</td>\n",
       "      <td>Perspectives in biochemistry</td>\n",
       "      <td>(Dr B C W Wong,Biomedical Sciences)</td>\n",
       "    </tr>\n",
       "    <tr>\n",
       "      <th>0</th>\n",
       "      <td>1</td>\n",
       "      <td>BIOC1600</td>\n",
       "      <td>Perspectives in biochemistry</td>\n",
       "      <td>(Dr B H B Yuen,Biomedical Sciences)</td>\n",
       "    </tr>\n",
       "    <tr>\n",
       "      <th>0</th>\n",
       "      <td>1</td>\n",
       "      <td>BIOC1600</td>\n",
       "      <td>Perspectives in biochemistry</td>\n",
       "      <td>(Dr. J W Y Ho,Biomedical Sciences)</td>\n",
       "    </tr>\n",
       "    <tr>\n",
       "      <th>0</th>\n",
       "      <td>1</td>\n",
       "      <td>BIOC1600</td>\n",
       "      <td>Perspectives in biochemistry</td>\n",
       "      <td>(Dr. M S Y Huen,Biomedical Sciences)</td>\n",
       "    </tr>\n",
       "    <tr>\n",
       "      <th>0</th>\n",
       "      <td>1</td>\n",
       "      <td>BIOC1600</td>\n",
       "      <td>Perspectives in biochemistry</td>\n",
       "      <td>(Dr. Y S Chan,Department of Paediatrics and Ad...</td>\n",
       "    </tr>\n",
       "  </tbody>\n",
       "</table>\n",
       "</div>"
      ],
      "text/plain": [
       "  No. Course Code                         Title  \\\n",
       "0   1    BIOC1600  Perspectives in biochemistry   \n",
       "0   1    BIOC1600  Perspectives in biochemistry   \n",
       "0   1    BIOC1600  Perspectives in biochemistry   \n",
       "0   1    BIOC1600  Perspectives in biochemistry   \n",
       "0   1    BIOC1600  Perspectives in biochemistry   \n",
       "\n",
       "                                            Teachers  \n",
       "0                (Dr B C W Wong,Biomedical Sciences)  \n",
       "0                (Dr B H B Yuen,Biomedical Sciences)  \n",
       "0                 (Dr. J W Y Ho,Biomedical Sciences)  \n",
       "0               (Dr. M S Y Huen,Biomedical Sciences)  \n",
       "0  (Dr. Y S Chan,Department of Paediatrics and Ad...  "
      ]
     },
     "execution_count": 14,
     "metadata": {},
     "output_type": "execute_result"
    }
   ],
   "source": [
    "df_courses_and_professors.head()"
   ]
  },
  {
   "cell_type": "code",
   "execution_count": 15,
   "metadata": {},
   "outputs": [],
   "source": [
    "# notice that for the 'Teachers' column we have a pair of the teacher's name and department, so we convert that into a tuple\n",
    "df_courses_and_professors['Teachers'] = df_courses_and_professors['Teachers'].map(lambda x: tuple(x.lstrip('(').rstrip(')').split(',')))"
   ]
  },
  {
   "cell_type": "code",
   "execution_count": 16,
   "metadata": {},
   "outputs": [
    {
     "data": {
      "text/html": [
       "<div>\n",
       "<style scoped>\n",
       "    .dataframe tbody tr th:only-of-type {\n",
       "        vertical-align: middle;\n",
       "    }\n",
       "\n",
       "    .dataframe tbody tr th {\n",
       "        vertical-align: top;\n",
       "    }\n",
       "\n",
       "    .dataframe thead th {\n",
       "        text-align: right;\n",
       "    }\n",
       "</style>\n",
       "<table border=\"1\" class=\"dataframe\">\n",
       "  <thead>\n",
       "    <tr style=\"text-align: right;\">\n",
       "      <th></th>\n",
       "      <th>No.</th>\n",
       "      <th>Course Code</th>\n",
       "      <th>Title</th>\n",
       "      <th>Teachers</th>\n",
       "    </tr>\n",
       "  </thead>\n",
       "  <tbody>\n",
       "    <tr>\n",
       "      <th>0</th>\n",
       "      <td>1</td>\n",
       "      <td>BIOC1600</td>\n",
       "      <td>Perspectives in biochemistry</td>\n",
       "      <td>(Dr B C W Wong, Biomedical Sciences)</td>\n",
       "    </tr>\n",
       "    <tr>\n",
       "      <th>0</th>\n",
       "      <td>1</td>\n",
       "      <td>BIOC1600</td>\n",
       "      <td>Perspectives in biochemistry</td>\n",
       "      <td>(Dr B H B Yuen, Biomedical Sciences)</td>\n",
       "    </tr>\n",
       "    <tr>\n",
       "      <th>0</th>\n",
       "      <td>1</td>\n",
       "      <td>BIOC1600</td>\n",
       "      <td>Perspectives in biochemistry</td>\n",
       "      <td>(Dr. J W Y Ho, Biomedical Sciences)</td>\n",
       "    </tr>\n",
       "    <tr>\n",
       "      <th>0</th>\n",
       "      <td>1</td>\n",
       "      <td>BIOC1600</td>\n",
       "      <td>Perspectives in biochemistry</td>\n",
       "      <td>(Dr. M S Y Huen, Biomedical Sciences)</td>\n",
       "    </tr>\n",
       "    <tr>\n",
       "      <th>0</th>\n",
       "      <td>1</td>\n",
       "      <td>BIOC1600</td>\n",
       "      <td>Perspectives in biochemistry</td>\n",
       "      <td>(Dr. Y S Chan, Department of Paediatrics and A...</td>\n",
       "    </tr>\n",
       "  </tbody>\n",
       "</table>\n",
       "</div>"
      ],
      "text/plain": [
       "  No. Course Code                         Title  \\\n",
       "0   1    BIOC1600  Perspectives in biochemistry   \n",
       "0   1    BIOC1600  Perspectives in biochemistry   \n",
       "0   1    BIOC1600  Perspectives in biochemistry   \n",
       "0   1    BIOC1600  Perspectives in biochemistry   \n",
       "0   1    BIOC1600  Perspectives in biochemistry   \n",
       "\n",
       "                                            Teachers  \n",
       "0               (Dr B C W Wong, Biomedical Sciences)  \n",
       "0               (Dr B H B Yuen, Biomedical Sciences)  \n",
       "0                (Dr. J W Y Ho, Biomedical Sciences)  \n",
       "0              (Dr. M S Y Huen, Biomedical Sciences)  \n",
       "0  (Dr. Y S Chan, Department of Paediatrics and A...  "
      ]
     },
     "execution_count": 16,
     "metadata": {},
     "output_type": "execute_result"
    }
   ],
   "source": [
    "df_courses_and_professors.head()"
   ]
  },
  {
   "cell_type": "code",
   "execution_count": 17,
   "metadata": {},
   "outputs": [],
   "source": [
    "# put the first value in the tuple under a new 'Teacher' column, and the second value in the tuple under a new 'Teacher Department' column\n",
    "df_courses_and_professors['Teacher'] = df_courses_and_professors['Teachers'].map(lambda x: x[0])\n",
    "df_courses_and_professors['Teacher Department'] = df_courses_and_professors['Teachers'].map(lambda x: x[-1])"
   ]
  },
  {
   "cell_type": "code",
   "execution_count": 18,
   "metadata": {},
   "outputs": [],
   "source": [
    "# finally delete the old 'Teachers' column\n",
    "df_courses_and_professors = df_courses_and_professors.drop(columns=['Teachers'])"
   ]
  },
  {
   "cell_type": "code",
   "execution_count": 22,
   "metadata": {},
   "outputs": [],
   "source": [
    "# save to csv\n",
    "df_courses_and_professors.to_csv('data/df_science_courses_and_professors.csv')"
   ]
  },
  {
   "cell_type": "markdown",
   "metadata": {},
   "source": [
    "# 2. Individual Course Details Page\n",
    "For the detailed course descriptions, we need to crawl the individual course details pages based on the course URL. An example of the URL is https://webapp.science.hku.hk/sr4/servlet/enquiry?Type=Course&course_code=BIOC1600. In particular, the Beautiful Soup crawler will access all the courses stored in our previous 'df_courses_pre.csv' dataset, and go through each course page using the URL."
   ]
  },
  {
   "cell_type": "code",
   "execution_count": 23,
   "metadata": {},
   "outputs": [],
   "source": [
    "# read the saved 'df_courses_pre.csv' dataset\n",
    "df_courses = pd.read_csv('data/df_science_courses_pre.csv', index_col=0)"
   ]
  },
  {
   "cell_type": "code",
   "execution_count": 24,
   "metadata": {},
   "outputs": [],
   "source": [
    "# select the 'Course Code' column\n",
    "course_codes = df_courses['Course Code']"
   ]
  },
  {
   "cell_type": "code",
   "execution_count": 25,
   "metadata": {},
   "outputs": [
    {
     "data": {
      "text/plain": [
       "0      BIOC1600\n",
       "1      BIOC2600\n",
       "2      BIOC3601\n",
       "3      BIOC3604\n",
       "4      BIOC3605\n",
       "         ...   \n",
       "346    CCST9051\n",
       "347    CCST9054\n",
       "348    CCST9056\n",
       "349    CCST9067\n",
       "350    CCST9068\n",
       "Name: Course Code, Length: 351, dtype: object"
      ]
     },
     "execution_count": 25,
     "metadata": {},
     "output_type": "execute_result"
    }
   ],
   "source": [
    "course_codes"
   ]
  },
  {
   "cell_type": "markdown",
   "metadata": {},
   "source": [
    "## Helper functions"
   ]
  },
  {
   "cell_type": "code",
   "execution_count": 26,
   "metadata": {},
   "outputs": [],
   "source": [
    "from bs4 import BeautifulSoup\n",
    "from time import sleep\n",
    "import requests"
   ]
  },
  {
   "cell_type": "code",
   "execution_count": 27,
   "metadata": {},
   "outputs": [],
   "source": [
    "# helper function\n",
    "# generate course details page URL\n",
    "# return: STRING\n",
    "def generate_course_url(course_code):\n",
    "    url = 'https://webapp.science.hku.hk/sr4/servlet/enquiry?Type=Course&course_code=' + course_code\n",
    "    return url"
   ]
  },
  {
   "cell_type": "code",
   "execution_count": 28,
   "metadata": {},
   "outputs": [],
   "source": [
    "# helper function\n",
    "# get the table that contains all the course details\n",
    "# return: BeautifulSoup format\n",
    "def get_course_table(course_code):\n",
    "    # get url based on course_code\n",
    "    url = generate_course_url(course_code)\n",
    "\n",
    "    # set up beautiful soup configurations\n",
    "    page = requests.get(url)\n",
    "    soup = BeautifulSoup(page.text, 'html.parser')\n",
    "\n",
    "    # find the table containing the table\n",
    "    table = soup.find('table', {'class': 'courseDetails'})\n",
    "\n",
    "    return table"
   ]
  },
  {
   "cell_type": "code",
   "execution_count": 29,
   "metadata": {},
   "outputs": [],
   "source": [
    "# helper function\n",
    "# return: DATAFRAME\n",
    "def get_course_details(course_code):\n",
    "    table = get_course_table(course_code)\n",
    "\n",
    "    # find all rows inside this course details table\n",
    "    trs = table.find_all('tr')\n",
    "\n",
    "    # define lists for headers and values\n",
    "    headers = []\n",
    "    values = []\n",
    "\n",
    "    for tr in trs:\n",
    "        try:\n",
    "            header = tr.find('th').text.strip()\n",
    "            value = tr.find('td').text.strip().replace('\\n', ' ').replace('\\t', ' ')\n",
    "\n",
    "            if header == 'Course Learning Outcomes':\n",
    "                headers.append(header)\n",
    "\n",
    "                # get learning_outcomes\n",
    "                learning_outcomes = tr.find_all('tr')\n",
    "                learning_outcomes = list(map(lambda x: x.find_all('td')[1].text.strip().replace('\\n', ': '), learning_outcomes))\n",
    "                learning_outcomes = '; '.join(learning_outcomes)\n",
    "\n",
    "                # append learning_outcomes\n",
    "                values.append(learning_outcomes)\n",
    "\n",
    "            elif header == 'Pre-requisites (and Co-requisites and Impermissible combinations)':\n",
    "                headers.append(header)\n",
    "                value = tr.find('td').get_text(strip=True, separator='; ')\n",
    "                values.append(value)\n",
    "\n",
    "            elif header == 'Course Status with Related Major/Minor /Professional Core':\n",
    "                headers.append(header)\n",
    "                value = tr.find('td').get_text(strip=True, separator='; ').replace('\\r', '').replace('\\n', '')\n",
    "                values.append(value)\n",
    "\n",
    "            elif header == 'Course Teaching & Learning Activities':\n",
    "                # get various types of learning activities\n",
    "                activities = tr.find_all('tr')\n",
    "\n",
    "                # get activities values\n",
    "                activities_values = list(map(lambda x: x.find('td', {'class': 'right'}), activities))\n",
    "                activities_values = list(filter(None, activities_values))\n",
    "                activities_values = list(map(lambda x: x.text.strip(), activities_values))\n",
    "                \n",
    "                # get activities names\n",
    "                activities = list(map(lambda x: x.find('td'), activities))\n",
    "                activities = list(filter(None, activities)) # remove NoneType elements in the list\n",
    "                activities = list(map(lambda x: x.text.strip() + ' No. of Hours', activities))\n",
    "\n",
    "                headers.extend(activities)\n",
    "                values.extend(activities_values)\n",
    "\n",
    "            elif header == 'Assessment Methods and Weighting':\n",
    "                # get various types of assmessments\n",
    "                assessments = tr.find_all('tr')\n",
    "\n",
    "                # get assessment weightings\n",
    "                weightings = list(map(lambda x: x.find('td', {'class': 'right'}), assessments))\n",
    "                weightings = list(filter(None, weightings))\n",
    "                weightings = list(map(lambda x: x.text.strip(), weightings))\n",
    "\n",
    "                # get assessment types\n",
    "                types = list(map(lambda x: x.find('td'), assessments))\n",
    "                types = list(filter(None, types))\n",
    "                types = list(map(lambda x: x.text.strip() + ' Weighting in final course grade (%)', types))\n",
    "\n",
    "                headers.extend(types)\n",
    "                values.extend(weightings)\n",
    "\n",
    "            else:\n",
    "                headers.append(header)\n",
    "                values.append(value)\n",
    "        except: \n",
    "            continue\n",
    "\n",
    "    df = pd.DataFrame([values], columns = headers)\n",
    "    df.insert(0, 'Course Code', course_code)\n",
    "    \n",
    "    return df "
   ]
  },
  {
   "cell_type": "code",
   "execution_count": 30,
   "metadata": {},
   "outputs": [],
   "source": [
    "# helper function \n",
    "# go through every course and get the details\n",
    "# return: DATAFRAME\n",
    "def get_all_course_details(course_codes):\n",
    "    df = pd.DataFrame()\n",
    "    for course_code in course_codes:\n",
    "        df_course = get_course_details(course_code)\n",
    "        df = df.append(df_course)\n",
    "         \n",
    "    return df"
   ]
  },
  {
   "cell_type": "markdown",
   "metadata": {},
   "source": [
    "## Get all course details"
   ]
  },
  {
   "cell_type": "code",
   "execution_count": 31,
   "metadata": {},
   "outputs": [],
   "source": [
    "df_all_course_details = get_all_course_details(course_codes)"
   ]
  },
  {
   "cell_type": "code",
   "execution_count": 32,
   "metadata": {},
   "outputs": [],
   "source": [
    "# reset index\n",
    "df_all_course_details = df_all_course_details.reset_index(drop = True)"
   ]
  },
  {
   "cell_type": "code",
   "execution_count": 33,
   "metadata": {},
   "outputs": [],
   "source": [
    "# save all course details to csv\n",
    "df_all_course_details.to_csv('data/df_science_all_course_details.csv')"
   ]
  },
  {
   "cell_type": "code",
   "execution_count": null,
   "metadata": {},
   "outputs": [],
   "source": []
  },
  {
   "cell_type": "code",
   "execution_count": null,
   "metadata": {},
   "outputs": [],
   "source": []
  },
  {
   "cell_type": "code",
   "execution_count": null,
   "metadata": {},
   "outputs": [],
   "source": []
  },
  {
   "cell_type": "code",
   "execution_count": null,
   "metadata": {},
   "outputs": [],
   "source": []
  },
  {
   "cell_type": "code",
   "execution_count": null,
   "metadata": {},
   "outputs": [],
   "source": []
  },
  {
   "cell_type": "code",
   "execution_count": null,
   "metadata": {},
   "outputs": [],
   "source": []
  },
  {
   "cell_type": "code",
   "execution_count": null,
   "metadata": {},
   "outputs": [],
   "source": []
  },
  {
   "cell_type": "code",
   "execution_count": null,
   "metadata": {},
   "outputs": [],
   "source": []
  },
  {
   "cell_type": "code",
   "execution_count": null,
   "metadata": {},
   "outputs": [],
   "source": []
  },
  {
   "cell_type": "code",
   "execution_count": null,
   "metadata": {},
   "outputs": [],
   "source": []
  },
  {
   "cell_type": "code",
   "execution_count": null,
   "metadata": {},
   "outputs": [],
   "source": []
  },
  {
   "cell_type": "code",
   "execution_count": null,
   "metadata": {},
   "outputs": [],
   "source": []
  },
  {
   "cell_type": "code",
   "execution_count": null,
   "metadata": {},
   "outputs": [],
   "source": []
  },
  {
   "cell_type": "code",
   "execution_count": null,
   "metadata": {},
   "outputs": [],
   "source": []
  },
  {
   "cell_type": "code",
   "execution_count": null,
   "metadata": {},
   "outputs": [],
   "source": []
  },
  {
   "cell_type": "code",
   "execution_count": null,
   "metadata": {},
   "outputs": [],
   "source": []
  },
  {
   "cell_type": "code",
   "execution_count": null,
   "metadata": {},
   "outputs": [],
   "source": []
  },
  {
   "cell_type": "code",
   "execution_count": null,
   "metadata": {},
   "outputs": [],
   "source": []
  },
  {
   "cell_type": "code",
   "execution_count": null,
   "metadata": {},
   "outputs": [],
   "source": []
  },
  {
   "cell_type": "code",
   "execution_count": null,
   "metadata": {},
   "outputs": [],
   "source": []
  },
  {
   "cell_type": "code",
   "execution_count": null,
   "metadata": {},
   "outputs": [],
   "source": []
  },
  {
   "cell_type": "code",
   "execution_count": null,
   "metadata": {},
   "outputs": [],
   "source": []
  },
  {
   "cell_type": "code",
   "execution_count": null,
   "metadata": {},
   "outputs": [],
   "source": []
  },
  {
   "cell_type": "code",
   "execution_count": null,
   "metadata": {},
   "outputs": [],
   "source": []
  },
  {
   "cell_type": "code",
   "execution_count": null,
   "metadata": {},
   "outputs": [],
   "source": []
  },
  {
   "cell_type": "code",
   "execution_count": null,
   "metadata": {},
   "outputs": [],
   "source": []
  },
  {
   "cell_type": "code",
   "execution_count": null,
   "metadata": {},
   "outputs": [],
   "source": []
  },
  {
   "cell_type": "code",
   "execution_count": null,
   "metadata": {},
   "outputs": [],
   "source": []
  },
  {
   "cell_type": "code",
   "execution_count": null,
   "metadata": {},
   "outputs": [],
   "source": []
  },
  {
   "cell_type": "code",
   "execution_count": null,
   "metadata": {},
   "outputs": [],
   "source": []
  },
  {
   "cell_type": "code",
   "execution_count": null,
   "metadata": {},
   "outputs": [],
   "source": []
  },
  {
   "cell_type": "code",
   "execution_count": null,
   "metadata": {},
   "outputs": [],
   "source": []
  },
  {
   "cell_type": "code",
   "execution_count": null,
   "metadata": {},
   "outputs": [],
   "source": []
  },
  {
   "cell_type": "code",
   "execution_count": null,
   "metadata": {},
   "outputs": [],
   "source": []
  },
  {
   "cell_type": "code",
   "execution_count": null,
   "metadata": {},
   "outputs": [],
   "source": []
  },
  {
   "cell_type": "code",
   "execution_count": null,
   "metadata": {},
   "outputs": [],
   "source": []
  },
  {
   "cell_type": "code",
   "execution_count": null,
   "metadata": {},
   "outputs": [],
   "source": []
  },
  {
   "cell_type": "code",
   "execution_count": null,
   "metadata": {},
   "outputs": [],
   "source": []
  },
  {
   "cell_type": "code",
   "execution_count": null,
   "metadata": {},
   "outputs": [],
   "source": []
  },
  {
   "cell_type": "code",
   "execution_count": null,
   "metadata": {},
   "outputs": [],
   "source": []
  },
  {
   "cell_type": "code",
   "execution_count": null,
   "metadata": {},
   "outputs": [],
   "source": []
  },
  {
   "cell_type": "code",
   "execution_count": null,
   "metadata": {},
   "outputs": [],
   "source": []
  },
  {
   "cell_type": "code",
   "execution_count": null,
   "metadata": {},
   "outputs": [],
   "source": []
  },
  {
   "cell_type": "code",
   "execution_count": null,
   "metadata": {},
   "outputs": [],
   "source": []
  },
  {
   "cell_type": "code",
   "execution_count": null,
   "metadata": {},
   "outputs": [],
   "source": []
  },
  {
   "cell_type": "code",
   "execution_count": null,
   "metadata": {},
   "outputs": [],
   "source": []
  },
  {
   "cell_type": "code",
   "execution_count": null,
   "metadata": {},
   "outputs": [],
   "source": []
  },
  {
   "cell_type": "code",
   "execution_count": null,
   "metadata": {},
   "outputs": [],
   "source": []
  },
  {
   "cell_type": "code",
   "execution_count": null,
   "metadata": {},
   "outputs": [],
   "source": []
  },
  {
   "cell_type": "code",
   "execution_count": null,
   "metadata": {},
   "outputs": [],
   "source": []
  },
  {
   "cell_type": "code",
   "execution_count": null,
   "metadata": {},
   "outputs": [],
   "source": []
  },
  {
   "cell_type": "code",
   "execution_count": null,
   "metadata": {},
   "outputs": [],
   "source": []
  },
  {
   "cell_type": "code",
   "execution_count": null,
   "metadata": {},
   "outputs": [],
   "source": []
  },
  {
   "cell_type": "code",
   "execution_count": null,
   "metadata": {},
   "outputs": [],
   "source": []
  },
  {
   "cell_type": "code",
   "execution_count": null,
   "metadata": {},
   "outputs": [],
   "source": []
  },
  {
   "cell_type": "code",
   "execution_count": null,
   "metadata": {},
   "outputs": [],
   "source": []
  },
  {
   "cell_type": "code",
   "execution_count": null,
   "metadata": {},
   "outputs": [],
   "source": []
  },
  {
   "cell_type": "code",
   "execution_count": null,
   "metadata": {},
   "outputs": [],
   "source": []
  },
  {
   "cell_type": "code",
   "execution_count": null,
   "metadata": {},
   "outputs": [],
   "source": []
  },
  {
   "cell_type": "code",
   "execution_count": null,
   "metadata": {},
   "outputs": [],
   "source": []
  },
  {
   "cell_type": "code",
   "execution_count": null,
   "metadata": {},
   "outputs": [],
   "source": []
  },
  {
   "cell_type": "code",
   "execution_count": null,
   "metadata": {},
   "outputs": [],
   "source": []
  },
  {
   "cell_type": "code",
   "execution_count": null,
   "metadata": {},
   "outputs": [],
   "source": []
  },
  {
   "cell_type": "code",
   "execution_count": null,
   "metadata": {},
   "outputs": [],
   "source": []
  },
  {
   "cell_type": "code",
   "execution_count": null,
   "metadata": {},
   "outputs": [],
   "source": []
  },
  {
   "cell_type": "code",
   "execution_count": null,
   "metadata": {},
   "outputs": [],
   "source": []
  },
  {
   "cell_type": "code",
   "execution_count": null,
   "metadata": {},
   "outputs": [],
   "source": []
  },
  {
   "cell_type": "code",
   "execution_count": null,
   "metadata": {},
   "outputs": [],
   "source": []
  },
  {
   "cell_type": "code",
   "execution_count": null,
   "metadata": {},
   "outputs": [],
   "source": []
  },
  {
   "cell_type": "code",
   "execution_count": null,
   "metadata": {},
   "outputs": [],
   "source": []
  },
  {
   "cell_type": "code",
   "execution_count": null,
   "metadata": {},
   "outputs": [],
   "source": []
  },
  {
   "cell_type": "code",
   "execution_count": null,
   "metadata": {},
   "outputs": [],
   "source": []
  },
  {
   "cell_type": "code",
   "execution_count": null,
   "metadata": {},
   "outputs": [],
   "source": []
  },
  {
   "cell_type": "code",
   "execution_count": null,
   "metadata": {},
   "outputs": [],
   "source": []
  },
  {
   "cell_type": "code",
   "execution_count": null,
   "metadata": {},
   "outputs": [],
   "source": []
  },
  {
   "cell_type": "code",
   "execution_count": null,
   "metadata": {},
   "outputs": [],
   "source": []
  },
  {
   "cell_type": "code",
   "execution_count": null,
   "metadata": {},
   "outputs": [],
   "source": []
  },
  {
   "cell_type": "code",
   "execution_count": null,
   "metadata": {},
   "outputs": [],
   "source": []
  },
  {
   "cell_type": "code",
   "execution_count": null,
   "metadata": {},
   "outputs": [],
   "source": []
  },
  {
   "cell_type": "code",
   "execution_count": null,
   "metadata": {},
   "outputs": [],
   "source": []
  },
  {
   "cell_type": "code",
   "execution_count": null,
   "metadata": {},
   "outputs": [],
   "source": []
  },
  {
   "cell_type": "code",
   "execution_count": null,
   "metadata": {},
   "outputs": [],
   "source": []
  },
  {
   "cell_type": "code",
   "execution_count": null,
   "metadata": {},
   "outputs": [],
   "source": []
  },
  {
   "cell_type": "code",
   "execution_count": null,
   "metadata": {},
   "outputs": [],
   "source": []
  },
  {
   "cell_type": "code",
   "execution_count": null,
   "metadata": {},
   "outputs": [],
   "source": []
  },
  {
   "cell_type": "code",
   "execution_count": null,
   "metadata": {},
   "outputs": [],
   "source": []
  },
  {
   "cell_type": "code",
   "execution_count": null,
   "metadata": {},
   "outputs": [],
   "source": []
  },
  {
   "cell_type": "code",
   "execution_count": null,
   "metadata": {},
   "outputs": [],
   "source": []
  },
  {
   "cell_type": "code",
   "execution_count": null,
   "metadata": {},
   "outputs": [],
   "source": []
  },
  {
   "cell_type": "code",
   "execution_count": null,
   "metadata": {},
   "outputs": [],
   "source": []
  },
  {
   "cell_type": "code",
   "execution_count": null,
   "metadata": {},
   "outputs": [],
   "source": []
  },
  {
   "cell_type": "code",
   "execution_count": null,
   "metadata": {},
   "outputs": [],
   "source": []
  },
  {
   "cell_type": "code",
   "execution_count": null,
   "metadata": {},
   "outputs": [],
   "source": []
  },
  {
   "cell_type": "code",
   "execution_count": null,
   "metadata": {},
   "outputs": [],
   "source": []
  },
  {
   "cell_type": "code",
   "execution_count": null,
   "metadata": {},
   "outputs": [],
   "source": []
  },
  {
   "cell_type": "code",
   "execution_count": null,
   "metadata": {},
   "outputs": [],
   "source": []
  },
  {
   "cell_type": "code",
   "execution_count": null,
   "metadata": {},
   "outputs": [],
   "source": []
  },
  {
   "cell_type": "code",
   "execution_count": null,
   "metadata": {},
   "outputs": [],
   "source": []
  },
  {
   "cell_type": "code",
   "execution_count": null,
   "metadata": {},
   "outputs": [],
   "source": []
  },
  {
   "cell_type": "code",
   "execution_count": null,
   "metadata": {},
   "outputs": [],
   "source": []
  },
  {
   "cell_type": "code",
   "execution_count": null,
   "metadata": {},
   "outputs": [],
   "source": []
  }
 ],
 "metadata": {
  "kernelspec": {
   "display_name": "Python 3.7.13 ('DataScience')",
   "language": "python",
   "name": "python3"
  },
  "language_info": {
   "codemirror_mode": {
    "name": "ipython",
    "version": 3
   },
   "file_extension": ".py",
   "mimetype": "text/x-python",
   "name": "python",
   "nbconvert_exporter": "python",
   "pygments_lexer": "ipython3",
   "version": "3.7.13"
  },
  "orig_nbformat": 4,
  "vscode": {
   "interpreter": {
    "hash": "32d60d92059b3e36b6bd9986edfc808c4ae526b74500509951e82855bb1b814d"
   }
  }
 },
 "nbformat": 4,
 "nbformat_minor": 2
}
