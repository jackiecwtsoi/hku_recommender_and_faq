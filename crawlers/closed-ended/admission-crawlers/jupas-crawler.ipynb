{
 "cells": [
  {
   "cell_type": "markdown",
   "metadata": {},
   "source": [
    "Crawler for JUPAS Students (Type 2)\n",
    "---"
   ]
  },
  {
   "cell_type": "code",
   "execution_count": 1,
   "metadata": {},
   "outputs": [],
   "source": [
    "import numpy as np\n",
    "import pandas as pd\n",
    "import matplotlib.pyplot as plt"
   ]
  },
  {
   "cell_type": "markdown",
   "metadata": {},
   "source": [
    "---\n",
    "# 1. Metadata of HKU Jupas Programmes\n",
    "- All programmes offered are listed in HTML table format\n",
    "- We use Beautiful Soup for the crawler\n",
    "\n",
    "We crawl the following fields:\n",
    "1. Institutition/Scheme\n",
    "2. JUPAS Catalogue No. (+ link)\n",
    "3. Funding Category\n",
    "4. Programme Short Name\n",
    "5. Programme Full Title"
   ]
  },
  {
   "cell_type": "code",
   "execution_count": 2,
   "metadata": {},
   "outputs": [],
   "source": [
    "from bs4 import BeautifulSoup\n",
    "from time import sleep\n",
    "import requests"
   ]
  },
  {
   "cell_type": "markdown",
   "metadata": {},
   "source": [
    "## Helper functions"
   ]
  },
  {
   "cell_type": "code",
   "execution_count": 10,
   "metadata": {},
   "outputs": [],
   "source": [
    "# helper function\n",
    "# retrieve HTML of the metatable\n",
    "# return: STRING (original html of the metatable)\n",
    "def get_meta_table_html():\n",
    "    META_URL = 'https://www.jupas.edu.hk/en/programme/hku/'\n",
    "\n",
    "    # set up beautiful soup configurations\n",
    "    meta_page = requests.get(META_URL)\n",
    "    meta_soup = BeautifulSoup(meta_page.text, 'html.parser')\n",
    "\n",
    "    # get the table with all the programmes\n",
    "    meta_table = meta_soup.find('table')\n",
    "\n",
    "    return meta_table"
   ]
  },
  {
   "cell_type": "code",
   "execution_count": 63,
   "metadata": {},
   "outputs": [],
   "source": [
    "# helper function\n",
    "# retrieve metatable dataframe of all HKU-JUPAS programmes offered\n",
    "# return: DATAFRAME\n",
    "\n",
    "def get_meta_df():\n",
    "    # call helper function to get metatable HTML\n",
    "    meta_table = get_meta_table_html()\n",
    "\n",
    "    # get all the rows in this table\n",
    "    meta_trs = meta_table.find_all('tr')\n",
    "\n",
    "    # get data in each row\n",
    "    rows = []\n",
    "    for tr in meta_trs:\n",
    "        row = []\n",
    "        for td in tr:\n",
    "            try:\n",
    "                if td.text != ' ':\n",
    "                    row.append(td.text)\n",
    "                    link = td.find('a').get('href')\n",
    "                    if link != None:\n",
    "                        row.append(link)\n",
    "            except:\n",
    "                continue\n",
    "\n",
    "        if len(row) == 5: # header row\n",
    "            row.insert(2, 'JUPAS Catalogue Link')\n",
    "        \n",
    "        rows.append(row) # append to matrix\n",
    "    \n",
    "    # convert matrix into a dataframe\n",
    "    df_meta = pd.DataFrame(rows[1:], columns=rows[0])\n",
    "\n",
    "    return df_meta\n",
    "        "
   ]
  },
  {
   "cell_type": "markdown",
   "metadata": {},
   "source": [
    "## Start scraping"
   ]
  },
  {
   "cell_type": "code",
   "execution_count": 65,
   "metadata": {},
   "outputs": [
    {
     "data": {
      "text/html": [
       "<div>\n",
       "<style scoped>\n",
       "    .dataframe tbody tr th:only-of-type {\n",
       "        vertical-align: middle;\n",
       "    }\n",
       "\n",
       "    .dataframe tbody tr th {\n",
       "        vertical-align: top;\n",
       "    }\n",
       "\n",
       "    .dataframe thead th {\n",
       "        text-align: right;\n",
       "    }\n",
       "</style>\n",
       "<table border=\"1\" class=\"dataframe\">\n",
       "  <thead>\n",
       "    <tr style=\"text-align: right;\">\n",
       "      <th></th>\n",
       "      <th>Institution / Scheme</th>\n",
       "      <th>JUPAS Catalogue No.</th>\n",
       "      <th>JUPAS Catalogue Link</th>\n",
       "      <th>Funding Category</th>\n",
       "      <th>Programme Short Name</th>\n",
       "      <th>Programme Full Title</th>\n",
       "    </tr>\n",
       "  </thead>\n",
       "  <tbody>\n",
       "    <tr>\n",
       "      <th>0</th>\n",
       "      <td>HKU</td>\n",
       "      <td>JS6004</td>\n",
       "      <td>/en/programme/hku/JS6004</td>\n",
       "      <td>UGC-funded</td>\n",
       "      <td>BA(AS)</td>\n",
       "      <td>Bachelor of Arts in Architectural Studieså»ºç¯...</td>\n",
       "    </tr>\n",
       "    <tr>\n",
       "      <th>1</th>\n",
       "      <td>HKU</td>\n",
       "      <td>JS6016</td>\n",
       "      <td>/en/programme/hku/JS6016</td>\n",
       "      <td>UGC-funded</td>\n",
       "      <td>BSC(SURV)</td>\n",
       "      <td>Bachelor of Science in Surveyingçå­¸å£«(æ¸¬é...</td>\n",
       "    </tr>\n",
       "    <tr>\n",
       "      <th>2</th>\n",
       "      <td>HKU</td>\n",
       "      <td>JS6028</td>\n",
       "      <td>/en/programme/hku/JS6028</td>\n",
       "      <td>UGC-funded</td>\n",
       "      <td>BA(LS)</td>\n",
       "      <td>Bachelor of Arts in Landscape Studiesåå¢å­¸...</td>\n",
       "    </tr>\n",
       "    <tr>\n",
       "      <th>3</th>\n",
       "      <td>HKU</td>\n",
       "      <td>JS6042</td>\n",
       "      <td>/en/programme/hku/JS6042</td>\n",
       "      <td>UGC-funded</td>\n",
       "      <td>BA(US)</td>\n",
       "      <td>Bachelor of Arts in Urban Studiesæå­¸å£«(å...</td>\n",
       "    </tr>\n",
       "    <tr>\n",
       "      <th>4</th>\n",
       "      <td>HKU</td>\n",
       "      <td>JS6054</td>\n",
       "      <td>/en/programme/hku/JS6054</td>\n",
       "      <td>UGC-funded</td>\n",
       "      <td>BA</td>\n",
       "      <td>Bachelor of Artsæå­¸å£«</td>\n",
       "    </tr>\n",
       "  </tbody>\n",
       "</table>\n",
       "</div>"
      ],
      "text/plain": [
       "  Institution / Scheme JUPAS Catalogue No.      JUPAS Catalogue Link  \\\n",
       "0                  HKU              JS6004  /en/programme/hku/JS6004   \n",
       "1                  HKU              JS6016  /en/programme/hku/JS6016   \n",
       "2                  HKU              JS6028  /en/programme/hku/JS6028   \n",
       "3                  HKU              JS6042  /en/programme/hku/JS6042   \n",
       "4                  HKU              JS6054  /en/programme/hku/JS6054   \n",
       "\n",
       "  Funding Category Programme Short Name  \\\n",
       "0       UGC-funded               BA(AS)   \n",
       "1       UGC-funded            BSC(SURV)   \n",
       "2       UGC-funded               BA(LS)   \n",
       "3       UGC-funded               BA(US)   \n",
       "4       UGC-funded                   BA   \n",
       "\n",
       "                                Programme Full Title  \n",
       "0  Bachelor of Arts in Architectural Studieså»ºç¯...  \n",
       "1  Bachelor of Science in Surveyingçå­¸å£«(æ¸¬é...  \n",
       "2  Bachelor of Arts in Landscape Studiesåå¢å­¸...  \n",
       "3  Bachelor of Arts in Urban Studiesæå­¸å£«(å...  \n",
       "4                          Bachelor of Artsæå­¸å£«  "
      ]
     },
     "execution_count": 65,
     "metadata": {},
     "output_type": "execute_result"
    }
   ],
   "source": [
    "get_meta_df().head()"
   ]
  },
  {
   "cell_type": "markdown",
   "metadata": {},
   "source": [
    "---\n",
    "# 2. Detailed JUPAS Programme Info Page\n",
    "We crawl the following:\n",
    "1. JUPAS catalogue no.\n",
    "2. Programme name\n",
    "3. Programme short name\n",
    "4. Short Description\n",
    "5. Programme website\n",
    "6. Programme entrance requirements\n",
    "7. General entrance requirements\n",
    "8. First year tuition fee\n",
    "9. Corresponding HKU department\n",
    "10. HKU department email\n",
    "--\n",
    "\n",
    "10. Study level\n",
    "11. Duration of study\n",
    "12. First year intake\n",
    "13. Interview arrangements\n",
    "14. Funding category"
   ]
  },
  {
   "cell_type": "markdown",
   "metadata": {},
   "source": [
    "## Helper functions"
   ]
  },
  {
   "cell_type": "code",
   "execution_count": 106,
   "metadata": {},
   "outputs": [],
   "source": [
    "# helper function\n",
    "# retrieve the basic info of a specific programme page\n",
    "# return: DATAFRAME\n",
    "\n",
    "def get_specific_program_basic_info(PROGRAM_URL):\n",
    "    # first retrieve HTML for the program\n",
    "    program_page = requests.get(PROGRAM_URL)\n",
    "    program_soup = BeautifulSoup(program_page.text, 'html.parser')\n",
    "    program_html = program_soup.find('main')\n",
    "\n",
    "    # define column names\n",
    "    col_names = [\n",
    "        'JUPAS Catalogue No.', \n",
    "        'Programme Name', \n",
    "        'Programme Short Name',\n",
    "        'Short Description',\n",
    "        'Programme Website',\n",
    "        'Programme Entrance Requirements',\n",
    "        'General Entrance Requirements',\n",
    "        'First Year Tuition Fee',\n",
    "        'Corresponding HKU department'\n",
    "    ]\n",
    "\n",
    "    # define row\n",
    "    row = []\n",
    "\n",
    "    # 1. JUPAS catalogue no.\n",
    "    field = program_html.find('p', {'class': 'programCode_block'}).text\n",
    "    row.append(field)\n",
    "\n",
    "    # 2. Programme name\n",
    "    field = program_html.find('span', {'class': 'before_label'}).text\n",
    "    row.append(field)\n",
    "\n",
    "    # 3. Short description\n",
    "    field = program_html.find('h2', {'class': 'program_title_shortname'}).text\n",
    "    row.append(field)\n",
    "\n",
    "    # 4. Short description\n",
    "    field = program_html.find('div', {'class': 'ckec'}).text.replace('Â\\xa0', ' ')\n",
    "    row.append(field)\n",
    "\n",
    "    # 5. Programme website\n",
    "    field = program_html.find('div', {'class': 'ckec link_break'}).text.replace(' ', '')\n",
    "    row.append(field)\n",
    "\n",
    "    # 6. Programme entrance requirements\n",
    "    # TODO\n",
    "\n",
    "    # 7. General entrance requirements\n",
    "    # TODO\n",
    "\n",
    "    # 8. First year tuition fee\n",
    "    field = program_html.find('p', {'class': 'linetext'}).text\n",
    "    row.append(field)\n",
    "\n",
    "    # 9. Corresponding HKU department\n",
    "    enquiries_html = program_html.find('div', {'class': 'enquiries_section'})\n",
    "    field = enquiries_html.find('p', {'class': 'enquiries_block-top'}).text\n",
    "    row.append(field)\n",
    "\n",
    "    # 10. HKU department email\n",
    "    fields = enquiries_html.find('a')\n",
    "    for field in fields:\n",
    "        row.append(field.text)\n",
    "\n",
    "    print (row)\n"
   ]
  },
  {
   "cell_type": "code",
   "execution_count": 108,
   "metadata": {},
   "outputs": [
    {
     "name": "stdout",
     "output_type": "stream",
     "text": [
      "['JS6004', 'Bachelor of Arts in Architectural Studies', 'BA(AS)', ' The Bachelor of Arts in Architectural Studies BA(AS) is a four-year, full-time programme that introduces students to architecture as a cultural discipline.  It is the first degree needed to qualify as an architect, and provides an excellent general education that gives students the confidence to pursue related careers both within the design professions and further afield.  The course of study is centered on research based learning in the design studio and is structured to foster a sense of community, develop deep knowledge of the discipline, and encourage creativity.  Design studios look at diverse contemporary issues relevant to Hong Kong and the world and are structured by thematic platforms that introduce students to a range of methodologies and approaches to the territorial, social, technological, urban and environmental issues that comprise architecture as a cultural discipline. The BA(AS) program offers numerous opportunities for knowledge exchange and international experience, semester exchanges with leading international schools of architecture, study trips to foundational sites of Asian architecture and urbanism, and hands-on experience through the summer field studies workshops.  Courses in the program are offered in the areas of Architectural Design, History and Theory of Architecture, Technology, and Visual Communication.Remarks:- ', 'http://fac.arch.hku.hk', 'HK$ 42,100', 'Faculty of Architecture', 'faculty@arch.hku.hk']\n"
     ]
    }
   ],
   "source": [
    "get_specific_program_basic_info('https://www.jupas.edu.hk/en/programme/hku/JS6004/')"
   ]
  },
  {
   "cell_type": "code",
   "execution_count": null,
   "metadata": {},
   "outputs": [],
   "source": []
  }
 ],
 "metadata": {
  "kernelspec": {
   "display_name": "Python 3.7.13 ('DataScience')",
   "language": "python",
   "name": "python3"
  },
  "language_info": {
   "codemirror_mode": {
    "name": "ipython",
    "version": 3
   },
   "file_extension": ".py",
   "mimetype": "text/x-python",
   "name": "python",
   "nbconvert_exporter": "python",
   "pygments_lexer": "ipython3",
   "version": "3.7.13"
  },
  "orig_nbformat": 4,
  "vscode": {
   "interpreter": {
    "hash": "32d60d92059b3e36b6bd9986edfc808c4ae526b74500509951e82855bb1b814d"
   }
  }
 },
 "nbformat": 4,
 "nbformat_minor": 2
}
