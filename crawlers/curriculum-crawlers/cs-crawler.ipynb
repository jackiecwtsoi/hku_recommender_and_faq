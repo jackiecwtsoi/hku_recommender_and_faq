{
 "cells": [
  {
   "cell_type": "markdown",
   "metadata": {},
   "source": [
    "Crawler for Department of Computer Science (Type 3)\n",
    "---"
   ]
  },
  {
   "cell_type": "code",
   "execution_count": 1,
   "metadata": {},
   "outputs": [],
   "source": [
    "import numpy as np\n",
    "import pandas as pd\n",
    "import matplotlib.pyplot as plt"
   ]
  },
  {
   "cell_type": "markdown",
   "metadata": {},
   "source": [
    "# 1. Metadata of CS Courses for an Academic Year\n",
    "- All courses offered in 2022-23 are listed in HTML table format\n",
    "- We use BeautifulSoup for the crawler\n",
    "\n",
    "We crawl the following fields:\n",
    "1. Year\n",
    "2. Type (Core/Elective)\n",
    "3. Course Code\n",
    "4. Course Title\n",
    "5. Term\n",
    "6. Staff (can have multiple names)\n",
    "7. Moodle link\n",
    "8. Course description link\n",
    "9. Staff link"
   ]
  },
  {
   "cell_type": "code",
   "execution_count": 3,
   "metadata": {},
   "outputs": [],
   "source": [
    "from bs4 import BeautifulSoup\n",
    "from time import sleep\n",
    "import requests"
   ]
  },
  {
   "cell_type": "markdown",
   "metadata": {},
   "source": [
    "**[Helper Function] Retrieve HTML of the metatable**"
   ]
  },
  {
   "cell_type": "code",
   "execution_count": 121,
   "metadata": {},
   "outputs": [],
   "source": [
    "def get_meta_table_html(academic_year):\n",
    "    # define url to crawl based on academic year\n",
    "    META_URL = 'https://www.cs.hku.hk/index.php/programmes/course-offered?acadYear=' + academic_year\n",
    "\n",
    "    # set up beautiful soup configurations\n",
    "    meta_page = requests.get(META_URL)\n",
    "    meta_soup = BeautifulSoup(meta_page.text, 'html.parser')\n",
    "\n",
    "    # get the second table on the page (which is the one we want to crawl)\n",
    "    meta_tables = meta_soup.find_all('table')[1]\n",
    "\n",
    "    return meta_tables"
   ]
  },
  {
   "cell_type": "markdown",
   "metadata": {},
   "source": [
    "**[Function] Retrieve metatable dataframe of all courses offered in an academic year**"
   ]
  },
  {
   "cell_type": "code",
   "execution_count": 122,
   "metadata": {},
   "outputs": [],
   "source": [
    "def get_meta_df(academic_year):\n",
    "    # call helper function to get metatable HTML\n",
    "    meta_table = get_meta_table_html(academic_year)\n",
    "\n",
    "    # get all the rows in this table\n",
    "    meta_trs = meta_table.find_all('tr')\n",
    "\n",
    "    # get data in each row\n",
    "    rows = []\n",
    "    for tr in meta_trs:\n",
    "        row = []\n",
    "        for td in tr:\n",
    "            try: \n",
    "                if td.text != '\\n':\n",
    "                    row.append(td.text)\n",
    "                    link = td.find('a').get('href')\n",
    "                    if link != None:\n",
    "                        row.append(link)\n",
    "            except: \n",
    "                continue\n",
    "        \n",
    "        # only append the row if there are 4 fields\n",
    "        if len(row) > 4: rows.append(row)\n",
    "\n",
    "    # define column names\n",
    "    column_names = ['Course Code', 'Moodle Link', 'Course Title', 'Course Link', 'Term', 'Staff', 'Staff Link']\n",
    "    \n",
    "    # convert matrix into a dataframe\n",
    "    meta_df = pd.DataFrame(rows, columns=column_names)\n",
    "\n",
    "    # TODO: should we drop staff link or no?\n",
    "    # drop the staff link\n",
    "    meta_df.drop(columns=['Staff Link'], inplace=True)\n",
    "\n",
    "    return meta_df"
   ]
  },
  {
   "cell_type": "markdown",
   "metadata": {},
   "source": [
    "# 2. Detailed Course Info Page\n",
    "**Learning Objectives**\n",
    "1. List of objectives\n",
    "2. Table with course-programme outcome mapping\n",
    "\n",
    "**Syllabus**\n",
    "1. Calendar entry\n",
    "2. Detailed description (table form)\n",
    "3. Assessment"
   ]
  },
  {
   "cell_type": "markdown",
   "metadata": {},
   "source": [
    "**Helper functions**"
   ]
  },
  {
   "cell_type": "code",
   "execution_count": 141,
   "metadata": {},
   "outputs": [],
   "source": [
    "# retrieve a specific table HTML (using table index) on a specific course page\n",
    "def get_specific_table_html_for_course(COURSE_URL, info_type):\n",
    "    # first retrieve all table HTMLs on the course info page\n",
    "    course_page = requests.get(COURSE_URL)\n",
    "    course_soup = BeautifulSoup(course_page.text, 'html.parser')\n",
    "    course_tables = course_soup.find_all('table')\n",
    "\n",
    "    # TODO: need to identify class first and then search for the tables\n"
   ]
  },
  {
   "cell_type": "code",
   "execution_count": 142,
   "metadata": {},
   "outputs": [],
   "source": [
    "get_specific_table_html_for_course('https://www.cs.hku.hk/index.php/programmes/course-offered?infile=2022/comp1117.html', 'basic')"
   ]
  },
  {
   "cell_type": "code",
   "execution_count": null,
   "metadata": {},
   "outputs": [],
   "source": []
  },
  {
   "cell_type": "markdown",
   "metadata": {},
   "source": [
    "## 2.1 Basic course information\n",
    "1. Course name\n",
    "2. Instructor(s)\n",
    "3. Number of credits\n",
    "4. Recommended learning hours (?)\n",
    "5. Pre-requisite(s)\n",
    "6. Co-requisite(s)\n",
    "7. Mutually exclusive with: ENGG1111 or ENGG1330\n",
    "8. Remarks\n",
    "9. Moodle course link"
   ]
  },
  {
   "cell_type": "code",
   "execution_count": null,
   "metadata": {},
   "outputs": [],
   "source": []
  }
 ],
 "metadata": {
  "kernelspec": {
   "display_name": "Python 3.7.11 ('DataScience')",
   "language": "python",
   "name": "python3"
  },
  "language_info": {
   "codemirror_mode": {
    "name": "ipython",
    "version": 3
   },
   "file_extension": ".py",
   "mimetype": "text/x-python",
   "name": "python",
   "nbconvert_exporter": "python",
   "pygments_lexer": "ipython3",
   "version": "3.7.11"
  },
  "orig_nbformat": 4,
  "vscode": {
   "interpreter": {
    "hash": "f004737b7064194434162a9b4bd069e05f5ef5efca4b4ffdb3de9d46fb212381"
   }
  }
 },
 "nbformat": 4,
 "nbformat_minor": 2
}
