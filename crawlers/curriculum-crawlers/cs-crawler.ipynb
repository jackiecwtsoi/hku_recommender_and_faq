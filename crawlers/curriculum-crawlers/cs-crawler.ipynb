{
 "cells": [
  {
   "cell_type": "markdown",
   "metadata": {},
   "source": [
    "Crawler for Department of Computer Science (Type 3)\n",
    "---\n",
    "\n",
    "**Basic Information**\n",
    "1. Course name\n",
    "2. Instructor(s)\n",
    "3. Number of credits\n",
    "4. Recommended learning hours (?)\n",
    "5. Pre-requisite(s)\n",
    "6. Co-requisite(s)\n",
    "7. Mutually exclusive with: ENGG1111 or ENGG1330\n",
    "8. Remarks\n",
    "9. Moodle course link\n",
    "\n",
    "**Learning Objectives**\n",
    "1. List of objectives\n",
    "2. Table with course-programme outcome mapping\n",
    "\n",
    "**Syllabus**\n",
    "1. Calendar entry\n",
    "2. Detailed description (table form)\n",
    "3. Assessment"
   ]
  },
  {
   "cell_type": "code",
   "execution_count": 1,
   "metadata": {},
   "outputs": [],
   "source": [
    "import numpy as np\n",
    "import pandas as pd\n",
    "import matplotlib.pyplot as plt"
   ]
  },
  {
   "cell_type": "code",
   "execution_count": null,
   "metadata": {},
   "outputs": [],
   "source": []
  }
 ],
 "metadata": {
  "kernelspec": {
   "display_name": "Python 3.7.11 ('DataScience')",
   "language": "python",
   "name": "python3"
  },
  "language_info": {
   "codemirror_mode": {
    "name": "ipython",
    "version": 3
   },
   "file_extension": ".py",
   "mimetype": "text/x-python",
   "name": "python",
   "nbconvert_exporter": "python",
   "pygments_lexer": "ipython3",
   "version": "3.7.11"
  },
  "orig_nbformat": 4,
  "vscode": {
   "interpreter": {
    "hash": "f004737b7064194434162a9b4bd069e05f5ef5efca4b4ffdb3de9d46fb212381"
   }
  }
 },
 "nbformat": 4,
 "nbformat_minor": 2
}
